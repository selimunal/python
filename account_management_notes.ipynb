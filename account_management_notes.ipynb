{
 "cells": [
  {
   "cell_type": "code",
   "execution_count": null,
   "id": "3c81b3bc-6cbe-4fca-a49f-4575c710ea7f",
   "metadata": {},
   "outputs": [],
   "source": [
    "ls"
   ]
  },
  {
   "cell_type": "code",
   "execution_count": null,
   "id": "86609833-478e-463e-a698-61ea512cc853",
   "metadata": {},
   "outputs": [],
   "source": [
    "ls"
   ]
  },
  {
   "cell_type": "code",
   "execution_count": null,
   "id": "5157c161-f4f4-489b-afce-315ced58582d",
   "metadata": {},
   "outputs": [],
   "source": [
    "1+1"
   ]
  },
  {
   "cell_type": "code",
   "execution_count": null,
   "id": "99da8b07-2fd1-481a-a4ab-6fc5d53a4b8e",
   "metadata": {},
   "outputs": [],
   "source": [
    "1+1"
   ]
  },
  {
   "cell_type": "code",
   "execution_count": null,
   "id": "1781b3f6-af8c-4a66-ae81-80781e239eae",
   "metadata": {},
   "outputs": [],
   "source": [
    "def spliver(mystring):\n",
    "    if len(mystring)%2==0:\n",
    "        return 'EVEN'\n",
    "    else:\n",
    "        return mystring[0]"
   ]
  },
  {
   "cell_type": "code",
   "execution_count": null,
   "id": "e6cd9fe2-f0be-479b-a6e9-a879b6e96762",
   "metadata": {},
   "outputs": [],
   "source": [
    "def check_even(num):\n",
    "    return num%2==0"
   ]
  },
  {
   "cell_type": "code",
   "execution_count": null,
   "id": "0826587b-cb40-4403-908e-3f14343f716b",
   "metadata": {},
   "outputs": [],
   "source": [
    "mynums=[1,2,3,4,4]"
   ]
  },
  {
   "cell_type": "code",
   "execution_count": null,
   "id": "a3eda34f-a85f-4351-bf09-624eb4647f5d",
   "metadata": {},
   "outputs": [],
   "source": [
    "list(filter(check_even,mynums))"
   ]
  },
  {
   "cell_type": "code",
   "execution_count": null,
   "id": "935bbb98-be1c-4d13-848b-12911d538ef9",
   "metadata": {},
   "outputs": [],
   "source": [
    "x=25\n",
    "def printers():\n",
    "    x=50\n",
    "    return x"
   ]
  },
  {
   "cell_type": "code",
   "execution_count": null,
   "id": "072e4f13-fe27-4188-98fa-a3dd05289086",
   "metadata": {},
   "outputs": [],
   "source": [
    "print(x)"
   ]
  },
  {
   "cell_type": "code",
   "execution_count": null,
   "id": "f12e3c63-21ff-4438-9499-d7bd99cd6e89",
   "metadata": {},
   "outputs": [],
   "source": [
    "print(printers())"
   ]
  },
  {
   "cell_type": "code",
   "execution_count": null,
   "id": "35221208-0416-4526-8b52-5ec1bb9b0655",
   "metadata": {},
   "outputs": [],
   "source": [
    "x=50\n",
    "def func():\n",
    "    global x\n",
    "    print(f'X is {x}'.format())"
   ]
  },
  {
   "cell_type": "code",
   "execution_count": null,
   "id": "751f176c-7fd9-47e1-a5b8-703f5e21f103",
   "metadata": {},
   "outputs": [],
   "source": [
    "func()"
   ]
  },
  {
   "cell_type": "code",
   "execution_count": null,
   "id": "e78aec45-f679-424e-8c92-f5298fff7c06",
   "metadata": {},
   "outputs": [],
   "source": [
    "def vol(rad):\n",
    "    v=(4/3)*3.14*(rad**3)\n",
    "    return v"
   ]
  },
  {
   "cell_type": "code",
   "execution_count": null,
   "id": "ff4bb6ee-9934-40ed-8474-23ae03c225c7",
   "metadata": {},
   "outputs": [],
   "source": [
    "vol(2)"
   ]
  },
  {
   "cell_type": "code",
   "execution_count": null,
   "id": "72e856fe-1ba0-487a-aaa9-3b8d91472520",
   "metadata": {},
   "outputs": [],
   "source": [
    "def ran_check(num,low,high):\n",
    "    if num>low and num<high:\n",
    "        return f'{num} is between ...'\n",
    "    else:\n",
    "        return False"
   ]
  },
  {
   "cell_type": "code",
   "execution_count": null,
   "id": "346daebb-c53c-48c7-a681-b3ce4f74d820",
   "metadata": {},
   "outputs": [],
   "source": [
    "ran_check(5,2,7)"
   ]
  },
  {
   "cell_type": "code",
   "execution_count": null,
   "id": "4b7e49cd-d048-465e-ac1d-d38c5bd571c9",
   "metadata": {},
   "outputs": [],
   "source": [
    "def up_low(s):\n",
    "    x=[]\n",
    "    for i in range(0,len(s)):\n",
    "            if s[i].isupper()==True:\n",
    "                x.append(s[i])\n",
    "    return len(x)"
   ]
  },
  {
   "cell_type": "code",
   "execution_count": null,
   "id": "f592cd3e-d032-4480-a012-dc4b957e7c65",
   "metadata": {},
   "outputs": [],
   "source": [
    "s='Lang daa Ga aag'"
   ]
  },
  {
   "cell_type": "code",
   "execution_count": null,
   "id": "764513bc-7d82-4f9e-800b-f18c21c55fe1",
   "metadata": {},
   "outputs": [],
   "source": [
    "up_low(s)"
   ]
  },
  {
   "cell_type": "code",
   "execution_count": null,
   "id": "0448eeba-3ac2-46ec-b12c-86c7165fb4a1",
   "metadata": {},
   "outputs": [],
   "source": []
  },
  {
   "cell_type": "code",
   "execution_count": null,
   "id": "76a265c4-87a7-4898-b275-dc21c95bcc11",
   "metadata": {},
   "outputs": [],
   "source": []
  },
  {
   "cell_type": "code",
   "execution_count": null,
   "id": "6cbe4a4f-f433-4810-91b8-b1372f7832c5",
   "metadata": {},
   "outputs": [],
   "source": [
    "row1=[' ', ' ', ' ']\n",
    "row2=[' ', ' ', ' ']\n",
    "row3=[' ', ' ', ' ']\n"
   ]
  },
  {
   "cell_type": "code",
   "execution_count": null,
   "id": "3918113a-e0b6-4c70-9c11-9ab9d098d2bd",
   "metadata": {},
   "outputs": [],
   "source": [
    "display(row1,row2,row3)"
   ]
  },
  {
   "cell_type": "raw",
   "id": "7a4ffeed-c668-4c83-883d-30208c7e7877",
   "metadata": {},
   "source": [
    "int(input('enter value :'))"
   ]
  },
  {
   "cell_type": "code",
   "execution_count": null,
   "id": "90590146-c6fc-4b0f-a834-cc6cdc54ad14",
   "metadata": {},
   "outputs": [],
   "source": [
    "row1[result]"
   ]
  },
  {
   "cell_type": "code",
   "execution_count": null,
   "id": "b3608184-57de-4355-a8cf-ce3de9ca1ddf",
   "metadata": {},
   "outputs": [],
   "source": [
    "int(input('enter value :'))"
   ]
  },
  {
   "cell_type": "code",
   "execution_count": null,
   "id": "9dc8f846-e476-4d1e-9a2a-b63dd93fb828",
   "metadata": {},
   "outputs": [],
   "source": [
    "class Dog():\n",
    "    \n",
    "    #class object attribute\n",
    "    #same for any instance of a class\n",
    "    species ='mammal'\n",
    "    \n",
    "    def __init__(self,breed,name):\n",
    "        #attributes\n",
    "        #we take in the argument\n",
    "        #assign it using self.attribute_name\n",
    "        self.breed=breed\n",
    "        self.name=name\n",
    "\n",
    "    \n",
    "    #operations/actions --->methods\n",
    "    \n",
    "    def bark(self, number):\n",
    "        print('HAV HAV! My name is {} and the number is {}'.format(self.name,number))"
   ]
  },
  {
   "cell_type": "code",
   "execution_count": null,
   "id": "d3388063",
   "metadata": {},
   "outputs": [],
   "source": [
    "my_dog=Dog('Lab','Frankie')"
   ]
  },
  {
   "cell_type": "code",
   "execution_count": null,
   "id": "6ea49f17",
   "metadata": {},
   "outputs": [],
   "source": [
    "type(my_dog)"
   ]
  },
  {
   "cell_type": "code",
   "execution_count": null,
   "id": "8b12a415",
   "metadata": {},
   "outputs": [],
   "source": [
    "my_dog.species"
   ]
  },
  {
   "cell_type": "code",
   "execution_count": null,
   "id": "cffe8044",
   "metadata": {},
   "outputs": [],
   "source": [
    "my_dog.name"
   ]
  },
  {
   "cell_type": "code",
   "execution_count": null,
   "id": "6fe22d95",
   "metadata": {},
   "outputs": [],
   "source": [
    "my_dog.bark(3)"
   ]
  },
  {
   "cell_type": "code",
   "execution_count": null,
   "id": "bef5c7ff",
   "metadata": {},
   "outputs": [],
   "source": [
    "class Circle():\n",
    "    \n",
    "    #class object attribute\n",
    "    pi=3.14\n",
    "    \n",
    "    def __init__(self,radius=1):\n",
    "        \n",
    "        self.radius=radius\n",
    "        self.area=radius*radius*Circle.pi\n",
    "        \n",
    "    #method\n",
    "    \n",
    "    def get_circumference(self):\n",
    "        return self.radius * Circle.pi * 2"
   ]
  },
  {
   "cell_type": "code",
   "execution_count": null,
   "id": "72016f8f",
   "metadata": {},
   "outputs": [],
   "source": [
    "my_circle=Circle(30)"
   ]
  },
  {
   "cell_type": "code",
   "execution_count": null,
   "id": "7ccf783b",
   "metadata": {},
   "outputs": [],
   "source": [
    "my_circle.radius"
   ]
  },
  {
   "cell_type": "code",
   "execution_count": null,
   "id": "d1a06525",
   "metadata": {},
   "outputs": [],
   "source": [
    "my_circle.area"
   ]
  },
  {
   "cell_type": "code",
   "execution_count": null,
   "id": "13e9fdba",
   "metadata": {},
   "outputs": [],
   "source": [
    "class Animal():\n",
    "    def __init__(self):\n",
    "        print('Animal Ulan Animal')\n",
    "        \n",
    "    def who_am_i(self):\n",
    "        print('sen bir hayvansın')\n",
    "    \n",
    "    def eat(self):\n",
    "        print('I am eating')"
   ]
  },
  {
   "cell_type": "code",
   "execution_count": null,
   "id": "08e09532",
   "metadata": {},
   "outputs": [],
   "source": [
    "class Dog(Animal):\n",
    "    def __init__(self):\n",
    "        Animal.__init__(self) #reuse Animal methods here\n",
    "        print('Dog burada')\n",
    "        \n",
    "    def who_am_i(self):\n",
    "        print('you are a dog')\n",
    "        \n",
    "    def bark(self):\n",
    "        print('HAV HAV!')"
   ]
  },
  {
   "cell_type": "code",
   "execution_count": null,
   "id": "012e97fa",
   "metadata": {},
   "outputs": [],
   "source": [
    "mydog=Dog()"
   ]
  },
  {
   "cell_type": "code",
   "execution_count": null,
   "id": "2d7e3e20",
   "metadata": {},
   "outputs": [],
   "source": [
    "mydog.bark()"
   ]
  },
  {
   "cell_type": "code",
   "execution_count": null,
   "id": "4dd6258d",
   "metadata": {},
   "outputs": [],
   "source": [
    "class Dog():\n",
    "    def __init__(self,name):\n",
    "        self.name=name\n",
    "        \n",
    "    def speak(self):\n",
    "        return self.name + ' says hav hav'"
   ]
  },
  {
   "cell_type": "code",
   "execution_count": null,
   "id": "69526550",
   "metadata": {},
   "outputs": [],
   "source": [
    "class Cat():\n",
    "    def __init__(self,name):\n",
    "        self.name=name\n",
    "        \n",
    "    def speak(self):\n",
    "        return self.name + ' says miyav miyav'"
   ]
  },
  {
   "cell_type": "code",
   "execution_count": null,
   "id": "8dcc1832",
   "metadata": {},
   "outputs": [],
   "source": [
    "niko = Dog('niko')\n",
    "felix=Cat('felix')"
   ]
  },
  {
   "cell_type": "code",
   "execution_count": null,
   "id": "d1039096",
   "metadata": {},
   "outputs": [],
   "source": [
    "print(niko.speak())"
   ]
  },
  {
   "cell_type": "code",
   "execution_count": null,
   "id": "7d582eff",
   "metadata": {},
   "outputs": [],
   "source": [
    "print(felix.speak())"
   ]
  },
  {
   "cell_type": "code",
   "execution_count": null,
   "id": "dc0e6285",
   "metadata": {},
   "outputs": [],
   "source": [
    " for pet in [niko,felix]:\n",
    "        \n",
    "        print(type(pet))\n",
    "        print(pet.speak())"
   ]
  },
  {
   "cell_type": "code",
   "execution_count": null,
   "id": "0dc3bfdd",
   "metadata": {},
   "outputs": [],
   "source": [
    "def pet_speak(pet):\n",
    "    print(pet.speak())"
   ]
  },
  {
   "cell_type": "code",
   "execution_count": null,
   "id": "78211a56",
   "metadata": {},
   "outputs": [],
   "source": [
    "pet_speak(niko)"
   ]
  },
  {
   "cell_type": "code",
   "execution_count": null,
   "id": "93ab5129",
   "metadata": {},
   "outputs": [],
   "source": [
    "pet_speak(felix)"
   ]
  },
  {
   "cell_type": "code",
   "execution_count": null,
   "id": "8dba55b5",
   "metadata": {},
   "outputs": [],
   "source": [
    "class Animal():\n",
    "    def __init__(self,name):\n",
    "        self.name=name\n",
    "        \n",
    "    def speak(self):\n",
    "        raise NotImplementedError('Subclass must implement this error')"
   ]
  },
  {
   "cell_type": "code",
   "execution_count": null,
   "id": "eda769aa",
   "metadata": {},
   "outputs": [],
   "source": [
    "class Dog(Animal):\n",
    "    def speak(self):\n",
    "        return self.name +' says hav hav'"
   ]
  },
  {
   "cell_type": "code",
   "execution_count": null,
   "id": "e36308b2",
   "metadata": {},
   "outputs": [],
   "source": [
    "fido = Dog('fido')"
   ]
  },
  {
   "cell_type": "code",
   "execution_count": null,
   "id": "76844d47",
   "metadata": {},
   "outputs": [],
   "source": [
    "print(fido.speak())"
   ]
  },
  {
   "cell_type": "code",
   "execution_count": null,
   "id": "4fdf6752",
   "metadata": {},
   "outputs": [],
   "source": [
    "class Book():\n",
    "    \n",
    "    def __init__(self,title,author,pages):\n",
    "        \n",
    "        self.title=title\n",
    "        self.author=author\n",
    "        self.pages=pages\n",
    "        \n",
    "    def __str__(self):\n",
    "        return f'{self.title} by {self.author}'   #has to be RETURN\n",
    "    \n",
    "    def __len__(self):\n",
    "        return self.pages\n",
    "    \n",
    "    def __del__(self):\n",
    "        print('A book object has been deleted')"
   ]
  },
  {
   "cell_type": "code",
   "execution_count": null,
   "id": "1456f1e2",
   "metadata": {},
   "outputs": [],
   "source": [
    "b=Book('Python rocks','jose',200)"
   ]
  },
  {
   "cell_type": "code",
   "execution_count": null,
   "id": "f1de0fea",
   "metadata": {},
   "outputs": [],
   "source": [
    "print(b)"
   ]
  },
  {
   "cell_type": "code",
   "execution_count": null,
   "id": "3d1d308c",
   "metadata": {},
   "outputs": [],
   "source": [
    "len(b)"
   ]
  },
  {
   "cell_type": "code",
   "execution_count": null,
   "id": "e3771f88",
   "metadata": {},
   "outputs": [],
   "source": [
    "del b"
   ]
  },
  {
   "cell_type": "code",
   "execution_count": null,
   "id": "13d3e20c",
   "metadata": {},
   "outputs": [],
   "source": [
    "len(b)"
   ]
  },
  {
   "cell_type": "code",
   "execution_count": null,
   "id": "65174502",
   "metadata": {},
   "outputs": [],
   "source": [
    "class Cylinder():\n",
    "     #class object attribute\n",
    "    pi=3.14\n",
    "    def __init__(self,height=1,radius=1):\n",
    "        self.radius=radius\n",
    "        self.height=height\n",
    "    \n",
    "    def volume(self):\n",
    "        v=Cylinder.pi * self.radius * self.radius * self.height\n",
    "        return v\n",
    "        \n",
    "    def surface_area(self):\n",
    "        A = 2 * Cylinder.pi * self.radius * self.height * 2 * Cylinder.pi * self.radius * self.radius\n",
    "        return A\n",
    "        "
   ]
  },
  {
   "cell_type": "code",
   "execution_count": null,
   "id": "b0d8baf6",
   "metadata": {},
   "outputs": [],
   "source": [
    "c = Cylinder(2,3)"
   ]
  },
  {
   "cell_type": "code",
   "execution_count": null,
   "id": "1cc75d4d",
   "metadata": {},
   "outputs": [],
   "source": [
    "c.volume()"
   ]
  },
  {
   "cell_type": "code",
   "execution_count": null,
   "id": "6cbe6e95",
   "metadata": {},
   "outputs": [],
   "source": [
    "c.surface_area()"
   ]
  },
  {
   "cell_type": "code",
   "execution_count": null,
   "id": "0b0c4cd6",
   "metadata": {},
   "outputs": [],
   "source": [
    "class Line:\n",
    "    def __init__(self,coor1,coor2):\n",
    "        self.coor1x,self.coor1y=coor1\n",
    "        self.coor2x,self.coor2y=coor2\n",
    "        self.xd=abs(self.coor1x-self.coor2x)\n",
    "        self.yd=abs(self.coor1y-self.coor2y)\n",
    "        \n",
    "    def distance(self):\n",
    "        d= (((self.xd) ** 2)+(self.yd ** 2)) ** (1/2)\n",
    "        return d\n",
    "        \n",
    "    def slope(self):\n",
    "        return (self.yd/self.xd)"
   ]
  },
  {
   "cell_type": "code",
   "execution_count": null,
   "id": "b0e299e6",
   "metadata": {},
   "outputs": [],
   "source": [
    "coordinate1=(3,2)\n",
    "coordinate2=(8,10)\n",
    "\n",
    "li =Line(coordinate1,coordinate2)"
   ]
  },
  {
   "cell_type": "code",
   "execution_count": null,
   "id": "a9e358d6",
   "metadata": {},
   "outputs": [],
   "source": [
    "li.distance()"
   ]
  },
  {
   "cell_type": "code",
   "execution_count": null,
   "id": "467ce0f8",
   "metadata": {},
   "outputs": [],
   "source": [
    "li.slope()"
   ]
  },
  {
   "cell_type": "code",
   "execution_count": null,
   "id": "fdeb6fe7",
   "metadata": {},
   "outputs": [],
   "source": [
    "class Simple():\n",
    "    def __init__(self,value):\n",
    "        self.value=value\n",
    "        \n",
    "    def add_to_value(self,amount):\n",
    "        self.value=self.value+amount\n",
    "        print('You just added {} to your account'.format(amount))"
   ]
  },
  {
   "cell_type": "code",
   "execution_count": null,
   "id": "9d04a679",
   "metadata": {},
   "outputs": [],
   "source": [
    "myobj = Simple(300) "
   ]
  },
  {
   "cell_type": "code",
   "execution_count": null,
   "id": "d2b10c87",
   "metadata": {},
   "outputs": [],
   "source": [
    "myobj.value #balance of the account"
   ]
  },
  {
   "cell_type": "code",
   "execution_count": null,
   "id": "3919abc7",
   "metadata": {},
   "outputs": [],
   "source": [
    "myobj.add_to_value(500)"
   ]
  },
  {
   "cell_type": "code",
   "execution_count": null,
   "id": "944337f9",
   "metadata": {},
   "outputs": [],
   "source": [
    "myobj.value #balance of the account"
   ]
  },
  {
   "cell_type": "code",
   "execution_count": null,
   "id": "4897e838",
   "metadata": {},
   "outputs": [],
   "source": [
    "class Account:\n",
    "    \n",
    "     #account need to have account number\n",
    "    #who owns the owner and its balance\n",
    "    #you should be able to add name and balance to the accunt\n",
    "    \n",
    "    def __init__(self,owner,balance):\n",
    "    \n",
    "        self.owner=owner\n",
    "        self.balance=balance  \n",
    "        \n",
    "    def __str__(self):\n",
    "        return f' account name is {self.owner} and Account balance is {self.balance}'   #has to be RETURN\n",
    "    \n",
    "    def deposit(self,amount):\n",
    "        self.balance=self.balance+amount\n",
    "        print('You just added {} to your account'.format(amount))\n",
    "        print('Deposit Accepted')\n",
    "        \n",
    "    #withdraw define\n",
    "    \n",
    "    def withdraw(self,amountwithdraw):\n",
    "        if amountwithdraw<self.balance:\n",
    "            self.balance=self.balance-amountwithdraw\n",
    "            print ('You just withdraw {} to your account'.format(amountwithdraw))\n",
    "            print ('Withdrawal Accepted')\n",
    "        else:\n",
    "            print('Funds Unavailable')\n",
    "        \n",
    "        "
   ]
  },
  {
   "cell_type": "code",
   "execution_count": null,
   "id": "11ecba14",
   "metadata": {},
   "outputs": [],
   "source": [
    "acct1=Account('jose',100)"
   ]
  },
  {
   "cell_type": "code",
   "execution_count": null,
   "id": "56616dba",
   "metadata": {},
   "outputs": [],
   "source": [
    "print(acct1)"
   ]
  },
  {
   "cell_type": "code",
   "execution_count": null,
   "id": "dc3179dd",
   "metadata": {},
   "outputs": [],
   "source": [
    "acct1.owner"
   ]
  },
  {
   "cell_type": "code",
   "execution_count": null,
   "id": "ea6ff170",
   "metadata": {},
   "outputs": [],
   "source": [
    "acct1.balance"
   ]
  },
  {
   "cell_type": "code",
   "execution_count": null,
   "id": "6f4ea83e",
   "metadata": {},
   "outputs": [],
   "source": [
    "acct1.deposit(50)"
   ]
  },
  {
   "cell_type": "code",
   "execution_count": null,
   "id": "20cd38e1",
   "metadata": {},
   "outputs": [],
   "source": [
    "acct1.balance"
   ]
  },
  {
   "cell_type": "code",
   "execution_count": null,
   "id": "77eaea1a",
   "metadata": {},
   "outputs": [],
   "source": [
    "acct1.withdraw(100)"
   ]
  },
  {
   "cell_type": "code",
   "execution_count": null,
   "id": "ef5fd272",
   "metadata": {},
   "outputs": [],
   "source": [
    "acct1.balance"
   ]
  },
  {
   "cell_type": "code",
   "execution_count": null,
   "id": "7d3e59a3",
   "metadata": {},
   "outputs": [],
   "source": [
    "print(acct1)"
   ]
  },
  {
   "cell_type": "code",
   "execution_count": null,
   "id": "a2d56b2f",
   "metadata": {},
   "outputs": [],
   "source": [
    "acct1.withdraw(100)"
   ]
  },
  {
   "cell_type": "code",
   "execution_count": null,
   "id": "d2b84cef",
   "metadata": {},
   "outputs": [],
   "source": [
    "import numpy as np"
   ]
  },
  {
   "cell_type": "code",
   "execution_count": null,
   "id": "7b9249fe",
   "metadata": {},
   "outputs": [],
   "source": [
    "a=np.array([1,2,3])"
   ]
  },
  {
   "cell_type": "code",
   "execution_count": null,
   "id": "613b1503",
   "metadata": {},
   "outputs": [],
   "source": [
    "a.shape[0]"
   ]
  },
  {
   "cell_type": "code",
   "execution_count": null,
   "id": "e6cb4f09",
   "metadata": {},
   "outputs": [],
   "source": [
    "a"
   ]
  },
  {
   "cell_type": "code",
   "execution_count": null,
   "id": "368e8e3b",
   "metadata": {},
   "outputs": [],
   "source": [
    "a2dd=np.array([[1,2,3],[1,2,3]])"
   ]
  },
  {
   "cell_type": "code",
   "execution_count": null,
   "id": "a0c3a50b",
   "metadata": {},
   "outputs": [],
   "source": [
    "a2dd"
   ]
  },
  {
   "cell_type": "code",
   "execution_count": null,
   "id": "225ed8c6",
   "metadata": {},
   "outputs": [],
   "source": [
    "a2dd.shape[1]"
   ]
  },
  {
   "cell_type": "code",
   "execution_count": null,
   "id": "fda0f8bd",
   "metadata": {},
   "outputs": [],
   "source": [
    "t_image = np.array([[[ 0.67826139,  0.29380381],\n",
    "                     [ 0.90714982,  0.52835647],\n",
    "                     [ 0.4215251 ,  0.45017551]],\n",
    "\n",
    "                   [[ 0.92814219,  0.96677647],\n",
    "                    [ 0.85304703,  0.52351845],\n",
    "                    [ 0.19981397,  0.27417313]],\n",
    "\n",
    "                   [[ 0.60659855,  0.00533165],\n",
    "                    [ 0.10820313,  0.49978937],\n",
    "                    [ 0.34144279,  0.94630077]]])"
   ]
  },
  {
   "cell_type": "code",
   "execution_count": null,
   "id": "e9d49e3b",
   "metadata": {},
   "outputs": [],
   "source": [
    "np.shape(t_image)"
   ]
  },
  {
   "cell_type": "code",
   "execution_count": null,
   "id": "e79b777c",
   "metadata": {},
   "outputs": [],
   "source": [
    "t_image = t_image.reshape((t_image.shape[0] * t_image.shape[1]* t_image.shape[2],1))"
   ]
  },
  {
   "cell_type": "code",
   "execution_count": null,
   "id": "34b5e712",
   "metadata": {},
   "outputs": [],
   "source": [
    "np.shape(t_image)"
   ]
  },
  {
   "cell_type": "code",
   "execution_count": null,
   "id": "af685fef",
   "metadata": {},
   "outputs": [],
   "source": [
    "t_image"
   ]
  },
  {
   "cell_type": "code",
   "execution_count": null,
   "id": "7b284276",
   "metadata": {},
   "outputs": [],
   "source": [
    "t_image = np.array([[[ 0.67826139,  0.29380381],\n",
    "                     [ 0.90714982,  0.52835647],\n",
    "                     [ 0.4215251 ,  0.45017551]],\n",
    "\n",
    "                   [[ 0.92814219,  0.96677647],\n",
    "                    [ 0.85304703,  0.52351845],\n",
    "                    [ 0.19981397,  0.27417313]],\n",
    "\n",
    "                   [[ 0.60659855,  0.00533165],\n",
    "                    [ 0.10820313,  0.49978937],\n",
    "                    [ 0.34144279,  0.94630077]]])"
   ]
  },
  {
   "cell_type": "code",
   "execution_count": null,
   "id": "a5f214b6",
   "metadata": {},
   "outputs": [],
   "source": [
    "np.shape(t_image)"
   ]
  },
  {
   "cell_type": "code",
   "execution_count": null,
   "id": "3b6ba0d9",
   "metadata": {},
   "outputs": [],
   "source": [
    "v=np.reshape(t_image,(18,1))"
   ]
  },
  {
   "cell_type": "code",
   "execution_count": null,
   "id": "78100b38",
   "metadata": {},
   "outputs": [],
   "source": [
    "np.shape(v)"
   ]
  },
  {
   "cell_type": "code",
   "execution_count": null,
   "id": "de6b7c82",
   "metadata": {},
   "outputs": [],
   "source": [
    "v"
   ]
  },
  {
   "cell_type": "code",
   "execution_count": null,
   "id": "63236d3a",
   "metadata": {},
   "outputs": [],
   "source": [
    "import numpy as np"
   ]
  },
  {
   "cell_type": "code",
   "execution_count": null,
   "id": "0a957d60",
   "metadata": {},
   "outputs": [],
   "source": [
    "w =  np.array([[1.], [2]])\n",
    "b = 1.5\n",
    "X = np.array([[1., -2., -1.], [3., 0.5, -3.2]])\n",
    "Y = np.array([[1, 1, 0]])"
   ]
  },
  {
   "cell_type": "code",
   "execution_count": null,
   "id": "0e548e36",
   "metadata": {},
   "outputs": [],
   "source": [
    "np.dot(w.T,X)+b"
   ]
  },
  {
   "cell_type": "code",
   "execution_count": null,
   "id": "d7d9ef5b",
   "metadata": {},
   "outputs": [],
   "source": [
    "def hello(name='jose'):\n",
    "    print('The hello() function has been executed')\n",
    "    \n",
    "    def greet():\n",
    "        return '\\t This is the greet() function inside hello!'\n",
    "    \n",
    "    def welcome():\n",
    "        return '\\t This is welcome() inside hello'\n",
    "    \n",
    "    print('I m giong to return a function')\n",
    "    \n",
    "    if name=='Jose':\n",
    "        return greet\n",
    "    else:\n",
    "        return welcome"
   ]
  },
  {
   "cell_type": "code",
   "execution_count": null,
   "id": "39afed93",
   "metadata": {},
   "outputs": [],
   "source": [
    "my_newfunc=hello('Jose')"
   ]
  },
  {
   "cell_type": "code",
   "execution_count": null,
   "id": "3839b9f7",
   "metadata": {},
   "outputs": [],
   "source": [
    "print(my_newfunc())"
   ]
  },
  {
   "cell_type": "code",
   "execution_count": null,
   "id": "ae6955a7",
   "metadata": {},
   "outputs": [],
   "source": [
    "def cool():\n",
    "    \n",
    "    def super_cool():\n",
    "        return 'I m very cool'\n",
    "    return super_cool"
   ]
  },
  {
   "cell_type": "code",
   "execution_count": null,
   "id": "5fa49f65",
   "metadata": {},
   "outputs": [],
   "source": [
    "some_func=cool()"
   ]
  },
  {
   "cell_type": "code",
   "execution_count": null,
   "id": "c86ed391",
   "metadata": {},
   "outputs": [],
   "source": [
    "some_func"
   ]
  },
  {
   "cell_type": "code",
   "execution_count": null,
   "id": "ca167699",
   "metadata": {},
   "outputs": [],
   "source": [
    "some_func()"
   ]
  },
  {
   "cell_type": "code",
   "execution_count": null,
   "id": "0aef7ddc",
   "metadata": {},
   "outputs": [],
   "source": [
    "def hello():\n",
    "    return 'Hi Jose'"
   ]
  },
  {
   "cell_type": "code",
   "execution_count": null,
   "id": "e11b89c7",
   "metadata": {},
   "outputs": [],
   "source": [
    "def other(some_def_func):\n",
    "    print('Other code runs here')\n",
    "    print(some_def_func())"
   ]
  },
  {
   "cell_type": "code",
   "execution_count": null,
   "id": "f4bc4f4a",
   "metadata": {},
   "outputs": [],
   "source": [
    "other(hello)"
   ]
  },
  {
   "cell_type": "code",
   "execution_count": null,
   "id": "bd7effc7",
   "metadata": {},
   "outputs": [],
   "source": [
    "def new_decorator(original_func):\n",
    "    \n",
    "    def wrap_func():\n",
    "        print('Some extra code before the originak')\n",
    "        \n",
    "        original_func()\n",
    "        \n",
    "        print('some extra code after original function')\n",
    "        \n",
    "    return wrap_func"
   ]
  },
  {
   "cell_type": "code",
   "execution_count": null,
   "id": "880961ef",
   "metadata": {},
   "outputs": [],
   "source": [
    "new_decorator(other(hello))"
   ]
  },
  {
   "cell_type": "code",
   "execution_count": null,
   "id": "ebf66167",
   "metadata": {},
   "outputs": [],
   "source": [
    "def func_needs_decorator():\n",
    "    \n",
    "    print('I want to be decorated')"
   ]
  },
  {
   "cell_type": "code",
   "execution_count": null,
   "id": "07e7c08c",
   "metadata": {},
   "outputs": [],
   "source": [
    "func_needs_decorator()"
   ]
  },
  {
   "cell_type": "code",
   "execution_count": null,
   "id": "1f3814b1",
   "metadata": {},
   "outputs": [],
   "source": [
    "mydecorated_func=new_decorator(func_needs_decorator)"
   ]
  },
  {
   "cell_type": "code",
   "execution_count": null,
   "id": "bc8f95dd",
   "metadata": {},
   "outputs": [],
   "source": [
    "mydecorated_func()"
   ]
  },
  {
   "cell_type": "code",
   "execution_count": null,
   "id": "d622e28e",
   "metadata": {},
   "outputs": [],
   "source": [
    "@new_decorator #used in web\n",
    "def func_needs_decorator():\n",
    "    \n",
    "    print('I want to be decorated')"
   ]
  },
  {
   "cell_type": "code",
   "execution_count": null,
   "id": "717c47b0",
   "metadata": {},
   "outputs": [],
   "source": [
    "func_needs_decorator()"
   ]
  },
  {
   "cell_type": "code",
   "execution_count": 5,
   "id": "087e117a",
   "metadata": {},
   "outputs": [],
   "source": [
    "def create_cubers(n):\n",
    "    result=[]\n",
    "    for x in range(n):\n",
    "        yield x**3"
   ]
  },
  {
   "cell_type": "code",
   "execution_count": 6,
   "id": "671dc380",
   "metadata": {},
   "outputs": [
    {
     "name": "stdout",
     "output_type": "stream",
     "text": [
      "0\n",
      "1\n",
      "8\n",
      "27\n",
      "64\n",
      "125\n",
      "216\n",
      "343\n",
      "512\n",
      "729\n",
      "1000\n"
     ]
    }
   ],
   "source": [
    "for x in create_cubers(11):\n",
    "    print(x)"
   ]
  },
  {
   "cell_type": "code",
   "execution_count": 7,
   "id": "1ec789e6",
   "metadata": {},
   "outputs": [
    {
     "data": {
      "text/plain": [
       "[0, 1, 8, 27, 64, 125, 216, 343, 512, 729]"
      ]
     },
     "execution_count": 7,
     "metadata": {},
     "output_type": "execute_result"
    }
   ],
   "source": [
    "list(create_cubers(10))"
   ]
  },
  {
   "cell_type": "code",
   "execution_count": 20,
   "id": "14eb37bd",
   "metadata": {},
   "outputs": [],
   "source": [
    "def gen_fibo(n):\n",
    "    \n",
    "    a=1\n",
    "    b=1\n",
    "    for i in range(n):\n",
    "        yield a\n",
    "        a,b = a,a+b "
   ]
  },
  {
   "cell_type": "code",
   "execution_count": 21,
   "id": "ffab467e",
   "metadata": {},
   "outputs": [
    {
     "name": "stdout",
     "output_type": "stream",
     "text": [
      "1\n",
      "1\n",
      "1\n",
      "1\n",
      "1\n",
      "1\n",
      "1\n",
      "1\n",
      "1\n",
      "1\n"
     ]
    }
   ],
   "source": [
    "for num in gen_fibo(10):\n",
    "    print(num)"
   ]
  },
  {
   "cell_type": "code",
   "execution_count": null,
   "id": "f3a55bed",
   "metadata": {},
   "outputs": [],
   "source": [
    "def simple_gen():\n",
    "    for x in range(3):\n",
    "        yield x"
   ]
  },
  {
   "cell_type": "code",
   "execution_count": null,
   "id": "5a30c59e",
   "metadata": {},
   "outputs": [],
   "source": [
    "for num in simple_gen():\n",
    "    print(num)"
   ]
  },
  {
   "cell_type": "code",
   "execution_count": null,
   "id": "3ef38295",
   "metadata": {},
   "outputs": [],
   "source": [
    "g=simple_gen()"
   ]
  },
  {
   "cell_type": "code",
   "execution_count": null,
   "id": "18a9398d",
   "metadata": {},
   "outputs": [],
   "source": [
    "g"
   ]
  },
  {
   "cell_type": "code",
   "execution_count": null,
   "id": "89510137",
   "metadata": {},
   "outputs": [],
   "source": [
    "print(next(g))"
   ]
  },
  {
   "cell_type": "code",
   "execution_count": null,
   "id": "4daaaf32",
   "metadata": {},
   "outputs": [],
   "source": [
    "print(next(g))"
   ]
  },
  {
   "cell_type": "code",
   "execution_count": null,
   "id": "8e2c4471",
   "metadata": {},
   "outputs": [],
   "source": [
    "print(next(g))"
   ]
  },
  {
   "cell_type": "code",
   "execution_count": null,
   "id": "a410fe2a",
   "metadata": {},
   "outputs": [],
   "source": [
    "print(next(g))"
   ]
  },
  {
   "cell_type": "code",
   "execution_count": null,
   "id": "61196373",
   "metadata": {},
   "outputs": [],
   "source": [
    "iter(g)"
   ]
  },
  {
   "cell_type": "code",
   "execution_count": null,
   "id": "284cbf52",
   "metadata": {},
   "outputs": [],
   "source": [
    "s='hello'"
   ]
  },
  {
   "cell_type": "code",
   "execution_count": null,
   "id": "91315d5f",
   "metadata": {},
   "outputs": [],
   "source": [
    "for letter in s:\n",
    "    print(letter)"
   ]
  },
  {
   "cell_type": "code",
   "execution_count": null,
   "id": "b6b49514",
   "metadata": {},
   "outputs": [],
   "source": [
    "next(s)"
   ]
  },
  {
   "cell_type": "code",
   "execution_count": null,
   "id": "613ee979",
   "metadata": {},
   "outputs": [],
   "source": [
    "s_iter=iter(s)"
   ]
  },
  {
   "cell_type": "code",
   "execution_count": null,
   "id": "0dbe0bd2",
   "metadata": {},
   "outputs": [],
   "source": [
    "next(s_iter)"
   ]
  },
  {
   "cell_type": "code",
   "execution_count": 16,
   "id": "19874bdd",
   "metadata": {},
   "outputs": [],
   "source": [
    "def gensquares(N):\n",
    "    result=[]\n",
    "    for i in range(N):\n",
    "        yield N**2"
   ]
  },
  {
   "cell_type": "code",
   "execution_count": 17,
   "id": "2c8879ab",
   "metadata": {},
   "outputs": [
    {
     "name": "stdout",
     "output_type": "stream",
     "text": [
      "100\n",
      "100\n",
      "100\n",
      "100\n",
      "100\n",
      "100\n",
      "100\n",
      "100\n",
      "100\n",
      "100\n"
     ]
    }
   ],
   "source": [
    "for x in gensquares(10):\n",
    "    print(x)"
   ]
  },
  {
   "cell_type": "code",
   "execution_count": 22,
   "id": "b23e26f3",
   "metadata": {},
   "outputs": [],
   "source": [
    "from collections import Counter"
   ]
  },
  {
   "cell_type": "code",
   "execution_count": 23,
   "id": "5ea31222",
   "metadata": {},
   "outputs": [],
   "source": [
    "mylist = [1,1,1,1,2,3,4,5,5,6,7,8,88,9,99,90,5,5,6,6,5]"
   ]
  },
  {
   "cell_type": "code",
   "execution_count": 26,
   "id": "949c0a27",
   "metadata": {},
   "outputs": [
    {
     "data": {
      "text/plain": [
       "Counter({1: 4,\n",
       "         2: 1,\n",
       "         3: 1,\n",
       "         4: 1,\n",
       "         5: 5,\n",
       "         6: 3,\n",
       "         7: 1,\n",
       "         8: 1,\n",
       "         88: 1,\n",
       "         9: 1,\n",
       "         99: 1,\n",
       "         90: 1})"
      ]
     },
     "execution_count": 26,
     "metadata": {},
     "output_type": "execute_result"
    }
   ],
   "source": [
    "Counter(mylist)"
   ]
  },
  {
   "cell_type": "code",
   "execution_count": 27,
   "id": "9bf8c09a",
   "metadata": {},
   "outputs": [],
   "source": [
    "mylist = ['a','a',10,10,9,10]"
   ]
  },
  {
   "cell_type": "code",
   "execution_count": 29,
   "id": "575fbed0",
   "metadata": {},
   "outputs": [],
   "source": [
    "b= Counter(mylist)"
   ]
  },
  {
   "cell_type": "code",
   "execution_count": 30,
   "id": "57c2ee8c",
   "metadata": {},
   "outputs": [
    {
     "data": {
      "text/plain": [
       "Counter({'a': 2, 10: 3, 9: 1})"
      ]
     },
     "execution_count": 30,
     "metadata": {},
     "output_type": "execute_result"
    }
   ],
   "source": [
    "b"
   ]
  },
  {
   "cell_type": "code",
   "execution_count": 31,
   "id": "00275129",
   "metadata": {},
   "outputs": [],
   "source": [
    "sentence = 'how many times does each work show up?'"
   ]
  },
  {
   "cell_type": "code",
   "execution_count": 33,
   "id": "8013e6cb",
   "metadata": {},
   "outputs": [
    {
     "data": {
      "text/plain": [
       "Counter({'how': 1,\n",
       "         'many': 1,\n",
       "         'times': 1,\n",
       "         'does': 1,\n",
       "         'each': 1,\n",
       "         'work': 1,\n",
       "         'show': 1,\n",
       "         'up?': 1})"
      ]
     },
     "execution_count": 33,
     "metadata": {},
     "output_type": "execute_result"
    }
   ],
   "source": [
    "Counter(sentence.lower().split())"
   ]
  },
  {
   "cell_type": "code",
   "execution_count": 34,
   "id": "2c01f662",
   "metadata": {},
   "outputs": [],
   "source": [
    "letters='aaabbbcccdddeeefffgggghhhhiijj'"
   ]
  },
  {
   "cell_type": "code",
   "execution_count": 35,
   "id": "ca1fc747",
   "metadata": {},
   "outputs": [],
   "source": [
    "c=Counter(letters)"
   ]
  },
  {
   "cell_type": "code",
   "execution_count": 36,
   "id": "5b4accc7",
   "metadata": {},
   "outputs": [
    {
     "data": {
      "text/plain": [
       "Counter({'a': 3,\n",
       "         'b': 3,\n",
       "         'c': 3,\n",
       "         'd': 3,\n",
       "         'e': 3,\n",
       "         'f': 3,\n",
       "         'g': 4,\n",
       "         'h': 4,\n",
       "         'i': 2,\n",
       "         'j': 2})"
      ]
     },
     "execution_count": 36,
     "metadata": {},
     "output_type": "execute_result"
    }
   ],
   "source": [
    "c"
   ]
  },
  {
   "cell_type": "code",
   "execution_count": 39,
   "id": "bab801d9",
   "metadata": {},
   "outputs": [
    {
     "data": {
      "text/plain": [
       "[('g', 4), ('h', 4), ('a', 3)]"
      ]
     },
     "execution_count": 39,
     "metadata": {},
     "output_type": "execute_result"
    }
   ],
   "source": [
    "c.most_common(3)"
   ]
  },
  {
   "cell_type": "code",
   "execution_count": 43,
   "id": "7089f9a2",
   "metadata": {},
   "outputs": [
    {
     "data": {
      "text/plain": [
       "['a', 'b', 'c', 'd', 'e', 'f', 'g', 'h', 'i', 'j']"
      ]
     },
     "execution_count": 43,
     "metadata": {},
     "output_type": "execute_result"
    }
   ],
   "source": [
    "list(c)"
   ]
  },
  {
   "cell_type": "code",
   "execution_count": 44,
   "id": "e1d2b0a4",
   "metadata": {},
   "outputs": [],
   "source": [
    "from collections import defaultdict"
   ]
  },
  {
   "cell_type": "code",
   "execution_count": 45,
   "id": "b86b0d9d",
   "metadata": {},
   "outputs": [],
   "source": [
    "d =  {'a':10}"
   ]
  },
  {
   "cell_type": "code",
   "execution_count": 46,
   "id": "e15fff72",
   "metadata": {},
   "outputs": [
    {
     "data": {
      "text/plain": [
       "{'a': 10}"
      ]
     },
     "execution_count": 46,
     "metadata": {},
     "output_type": "execute_result"
    }
   ],
   "source": [
    "d"
   ]
  },
  {
   "cell_type": "code",
   "execution_count": 47,
   "id": "3944db44",
   "metadata": {},
   "outputs": [
    {
     "data": {
      "text/plain": [
       "10"
      ]
     },
     "execution_count": 47,
     "metadata": {},
     "output_type": "execute_result"
    }
   ],
   "source": [
    "d['a']"
   ]
  },
  {
   "cell_type": "code",
   "execution_count": 48,
   "id": "b4056803",
   "metadata": {},
   "outputs": [
    {
     "ename": "KeyError",
     "evalue": "'WRONG'",
     "output_type": "error",
     "traceback": [
      "\u001b[1;31m---------------------------------------------------------------------------\u001b[0m",
      "\u001b[1;31mKeyError\u001b[0m                                  Traceback (most recent call last)",
      "\u001b[1;32m<ipython-input-48-4006d83773ae>\u001b[0m in \u001b[0;36m<module>\u001b[1;34m\u001b[0m\n\u001b[1;32m----> 1\u001b[1;33m \u001b[0md\u001b[0m\u001b[1;33m[\u001b[0m\u001b[1;34m'WRONG'\u001b[0m\u001b[1;33m]\u001b[0m\u001b[1;33m\u001b[0m\u001b[1;33m\u001b[0m\u001b[0m\n\u001b[0m",
      "\u001b[1;31mKeyError\u001b[0m: 'WRONG'"
     ]
    }
   ],
   "source": [
    "d['WRONG']"
   ]
  },
  {
   "cell_type": "code",
   "execution_count": 49,
   "id": "163c6103",
   "metadata": {},
   "outputs": [],
   "source": [
    "d=defaultdict(lambda:0)"
   ]
  },
  {
   "cell_type": "code",
   "execution_count": 50,
   "id": "92b2656e",
   "metadata": {},
   "outputs": [],
   "source": [
    "d['correct'] = 100"
   ]
  },
  {
   "cell_type": "code",
   "execution_count": 51,
   "id": "589f3112",
   "metadata": {},
   "outputs": [
    {
     "data": {
      "text/plain": [
       "100"
      ]
     },
     "execution_count": 51,
     "metadata": {},
     "output_type": "execute_result"
    }
   ],
   "source": [
    "d['correct']"
   ]
  },
  {
   "cell_type": "code",
   "execution_count": 52,
   "id": "3d8c7aa5",
   "metadata": {},
   "outputs": [
    {
     "data": {
      "text/plain": [
       "0"
      ]
     },
     "execution_count": 52,
     "metadata": {},
     "output_type": "execute_result"
    }
   ],
   "source": [
    "d['WRONG']"
   ]
  },
  {
   "cell_type": "code",
   "execution_count": 58,
   "id": "6f0e10f8",
   "metadata": {},
   "outputs": [
    {
     "data": {
      "text/plain": [
       "dict_values([100, 0])"
      ]
     },
     "execution_count": 58,
     "metadata": {},
     "output_type": "execute_result"
    }
   ],
   "source": [
    "d.values()"
   ]
  },
  {
   "cell_type": "code",
   "execution_count": 59,
   "id": "f0561f1b",
   "metadata": {},
   "outputs": [
    {
     "data": {
      "text/plain": [
       "defaultdict(<function __main__.<lambda>()>, {'correct': 100, 'WRONG': 0})"
      ]
     },
     "execution_count": 59,
     "metadata": {},
     "output_type": "execute_result"
    }
   ],
   "source": [
    "d"
   ]
  },
  {
   "cell_type": "code",
   "execution_count": 60,
   "id": "dde3b81d",
   "metadata": {},
   "outputs": [],
   "source": [
    "mytuple=(10,20,30)"
   ]
  },
  {
   "cell_type": "code",
   "execution_count": 61,
   "id": "dffdd032",
   "metadata": {},
   "outputs": [
    {
     "data": {
      "text/plain": [
       "10"
      ]
     },
     "execution_count": 61,
     "metadata": {},
     "output_type": "execute_result"
    }
   ],
   "source": [
    "mytuple[0]"
   ]
  },
  {
   "cell_type": "code",
   "execution_count": 62,
   "id": "573287f9",
   "metadata": {},
   "outputs": [],
   "source": [
    "from collections import namedtuple"
   ]
  },
  {
   "cell_type": "code",
   "execution_count": 63,
   "id": "3a8f66f5",
   "metadata": {},
   "outputs": [],
   "source": [
    "Dog = namedtuple('Dog',['age','breed','name'])"
   ]
  },
  {
   "cell_type": "code",
   "execution_count": 65,
   "id": "496b6cc3",
   "metadata": {},
   "outputs": [],
   "source": [
    "sammy=Dog(age=5,breed='Husky',name='Sam')"
   ]
  },
  {
   "cell_type": "code",
   "execution_count": 69,
   "id": "12ce135d",
   "metadata": {},
   "outputs": [
    {
     "data": {
      "text/plain": [
       "__main__.Dog"
      ]
     },
     "execution_count": 69,
     "metadata": {},
     "output_type": "execute_result"
    }
   ],
   "source": [
    "type(sammy)"
   ]
  },
  {
   "cell_type": "code",
   "execution_count": 70,
   "id": "fd80c0af",
   "metadata": {},
   "outputs": [
    {
     "data": {
      "text/plain": [
       "Dog(age=5, breed='Husky', name='Sam')"
      ]
     },
     "execution_count": 70,
     "metadata": {},
     "output_type": "execute_result"
    }
   ],
   "source": [
    "sammy"
   ]
  },
  {
   "cell_type": "code",
   "execution_count": 71,
   "id": "0eccfef3",
   "metadata": {},
   "outputs": [
    {
     "data": {
      "text/plain": [
       "5"
      ]
     },
     "execution_count": 71,
     "metadata": {},
     "output_type": "execute_result"
    }
   ],
   "source": [
    "sammy.age"
   ]
  },
  {
   "cell_type": "code",
   "execution_count": 72,
   "id": "6ba9d5db",
   "metadata": {},
   "outputs": [
    {
     "data": {
      "text/plain": [
       "5"
      ]
     },
     "execution_count": 72,
     "metadata": {},
     "output_type": "execute_result"
    }
   ],
   "source": [
    "sammy[0]"
   ]
  },
  {
   "cell_type": "code",
   "execution_count": 74,
   "id": "a021d955",
   "metadata": {},
   "outputs": [
    {
     "data": {
      "text/plain": [
       "'Sam'"
      ]
     },
     "execution_count": 74,
     "metadata": {},
     "output_type": "execute_result"
    }
   ],
   "source": [
    "sammy.name"
   ]
  },
  {
   "cell_type": "code",
   "execution_count": 76,
   "id": "6abf8979",
   "metadata": {},
   "outputs": [
    {
     "data": {
      "text/plain": [
       "'Sam'"
      ]
     },
     "execution_count": 76,
     "metadata": {},
     "output_type": "execute_result"
    }
   ],
   "source": [
    "sammy[2]"
   ]
  },
  {
   "cell_type": "code",
   "execution_count": 77,
   "id": "4f207277",
   "metadata": {},
   "outputs": [
    {
     "data": {
      "text/plain": [
       "'C:\\\\Users\\\\Lenovo\\\\MY PYTHON'"
      ]
     },
     "execution_count": 77,
     "metadata": {},
     "output_type": "execute_result"
    }
   ],
   "source": [
    "pwd"
   ]
  },
  {
   "cell_type": "code",
   "execution_count": 78,
   "id": "7f1f5cb1",
   "metadata": {},
   "outputs": [
    {
     "data": {
      "text/plain": [
       "<function dir>"
      ]
     },
     "execution_count": 78,
     "metadata": {},
     "output_type": "execute_result"
    }
   ],
   "source": []
  },
  {
   "cell_type": "code",
   "execution_count": 79,
   "id": "1cca97b3",
   "metadata": {},
   "outputs": [
    {
     "name": "stdout",
     "output_type": "stream",
     "text": [
      " Volume in drive C has no label.\n",
      " Volume Serial Number is D09F-994E\n",
      "\n",
      " Directory of C:\\Users\\Lenovo\\MY PYTHON\n",
      "\n",
      "10/09/2021  16:12    <DIR>          .\n",
      "10/09/2021  16:12    <DIR>          ..\n",
      "14/08/2021  14:54    <DIR>          .ipynb_checkpoints\n",
      "10/09/2021  16:12            44,872 notes.ipynb\n",
      "               1 File(s)         44,872 bytes\n",
      "               3 Dir(s)  572,621,139,968 bytes free\n"
     ]
    }
   ],
   "source": [
    "ls"
   ]
  },
  {
   "cell_type": "code",
   "execution_count": 80,
   "id": "ebabebb9",
   "metadata": {},
   "outputs": [],
   "source": [
    "f = open('practice.txt','w+')\n",
    "f.write('This is a test file')\n",
    "f.close()"
   ]
  },
  {
   "cell_type": "code",
   "execution_count": 81,
   "id": "f6c56542",
   "metadata": {},
   "outputs": [
    {
     "name": "stdout",
     "output_type": "stream",
     "text": [
      " Volume in drive C has no label.\n",
      " Volume Serial Number is D09F-994E\n",
      "\n",
      " Directory of C:\\Users\\Lenovo\\MY PYTHON\n",
      "\n",
      "10/09/2021  16:21    <DIR>          .\n",
      "10/09/2021  16:21    <DIR>          ..\n",
      "14/08/2021  14:54    <DIR>          .ipynb_checkpoints\n",
      "10/09/2021  16:20            46,280 notes.ipynb\n",
      "10/09/2021  16:21                19 practice.txt\n",
      "               2 File(s)         46,299 bytes\n",
      "               3 Dir(s)  572,618,330,112 bytes free\n"
     ]
    }
   ],
   "source": [
    "ls"
   ]
  },
  {
   "cell_type": "code",
   "execution_count": 82,
   "id": "a083f2f5",
   "metadata": {},
   "outputs": [],
   "source": [
    "import os"
   ]
  },
  {
   "cell_type": "code",
   "execution_count": 84,
   "id": "8b63dd14",
   "metadata": {},
   "outputs": [
    {
     "data": {
      "text/plain": [
       "'C:\\\\Users\\\\Lenovo\\\\MY PYTHON'"
      ]
     },
     "execution_count": 84,
     "metadata": {},
     "output_type": "execute_result"
    }
   ],
   "source": [
    "os.getcwd()"
   ]
  },
  {
   "cell_type": "code",
   "execution_count": 85,
   "id": "061f5d89",
   "metadata": {},
   "outputs": [
    {
     "data": {
      "text/plain": [
       "['.ipynb_checkpoints', 'notes.ipynb', 'practice.txt']"
      ]
     },
     "execution_count": 85,
     "metadata": {},
     "output_type": "execute_result"
    }
   ],
   "source": [
    "os.listdir()"
   ]
  },
  {
   "cell_type": "code",
   "execution_count": 86,
   "id": "b262785a",
   "metadata": {},
   "outputs": [
    {
     "data": {
      "text/plain": [
       "['All Users', 'Default', 'Default User', 'desktop.ini', 'Lenovo', 'Public']"
      ]
     },
     "execution_count": 86,
     "metadata": {},
     "output_type": "execute_result"
    }
   ],
   "source": [
    "os.listdir('C://Users/')"
   ]
  },
  {
   "cell_type": "code",
   "execution_count": 87,
   "id": "cfd94c73",
   "metadata": {},
   "outputs": [
    {
     "data": {
      "text/plain": [
       "['.ipynb_checkpoints', 'notes.ipynb', 'practice.txt']"
      ]
     },
     "execution_count": 87,
     "metadata": {},
     "output_type": "execute_result"
    }
   ],
   "source": [
    "os.listdir()"
   ]
  },
  {
   "cell_type": "code",
   "execution_count": 88,
   "id": "21bd3769",
   "metadata": {},
   "outputs": [],
   "source": [
    "import shutil"
   ]
  },
  {
   "cell_type": "code",
   "execution_count": 89,
   "id": "eb6451ea",
   "metadata": {},
   "outputs": [
    {
     "data": {
      "text/plain": [
       "'C:\\\\Users\\\\Lenovo\\\\practice.txt'"
      ]
     },
     "execution_count": 89,
     "metadata": {},
     "output_type": "execute_result"
    }
   ],
   "source": [
    "shutil.move('practice.txt','C:\\\\Users\\\\Lenovo')"
   ]
  },
  {
   "cell_type": "code",
   "execution_count": 90,
   "id": "0fcfc413",
   "metadata": {},
   "outputs": [
    {
     "data": {
      "text/plain": [
       "['.conda',\n",
       " '.condarc',\n",
       " '.config',\n",
       " '.continuum',\n",
       " '.edevletconf',\n",
       " '.idlerc',\n",
       " '.ipynb_checkpoints',\n",
       " '.ipython',\n",
       " '.jupyter',\n",
       " '.KarelKonferans',\n",
       " '.matplotlib',\n",
       " '.octave_hist',\n",
       " '.openshot_qt',\n",
       " '.sertifikadeposu',\n",
       " '.uki',\n",
       " '3D Objects',\n",
       " 'anaconda3',\n",
       " 'AppData',\n",
       " 'Application Data',\n",
       " 'Autodesk',\n",
       " 'Belgelerim',\n",
       " 'Contacts',\n",
       " 'Cookies',\n",
       " 'Depo.log',\n",
       " 'Depo.log.1',\n",
       " 'Desktop',\n",
       " 'Documents',\n",
       " 'Downloads',\n",
       " 'e_devlet_eimza.log',\n",
       " 'Favorites',\n",
       " 'IntelGraphicsProfiles',\n",
       " 'LayoutEditor',\n",
       " 'lib.defs',\n",
       " 'Links',\n",
       " 'Local Settings',\n",
       " 'MicrosoftEdgeBackups',\n",
       " 'Music',\n",
       " 'MY PYTHON',\n",
       " 'NetHood',\n",
       " 'NTUSER.DAT',\n",
       " 'ntuser.dat.LOG1',\n",
       " 'ntuser.dat.LOG2',\n",
       " 'NTUSER.DAT{53b39e88-18c4-11ea-a811-000d3aa4692b}.TM.blf',\n",
       " 'NTUSER.DAT{53b39e88-18c4-11ea-a811-000d3aa4692b}.TMContainer00000000000000000001.regtrans-ms',\n",
       " 'NTUSER.DAT{53b39e88-18c4-11ea-a811-000d3aa4692b}.TMContainer00000000000000000002.regtrans-ms',\n",
       " 'ntuser.ini',\n",
       " 'Octave',\n",
       " 'OneDrive',\n",
       " 'OneDrive - Kastamonu Üniversitesi',\n",
       " 'Pictures',\n",
       " 'practice.txt',\n",
       " 'PrintHood',\n",
       " 'PycharmProjects',\n",
       " 'Recent',\n",
       " 'Saved Games',\n",
       " 'Searches',\n",
       " 'selim unal CV.doc',\n",
       " 'SendTo',\n",
       " 'Start Menu',\n",
       " 'Templates',\n",
       " 'Videos']"
      ]
     },
     "execution_count": 90,
     "metadata": {},
     "output_type": "execute_result"
    }
   ],
   "source": [
    "os.listdir('C://Users/Lenovo/')"
   ]
  },
  {
   "cell_type": "code",
   "execution_count": 94,
   "id": "ef53daf8",
   "metadata": {},
   "outputs": [
    {
     "data": {
      "text/plain": [
       "<module 'ntpath' from 'C:\\\\Users\\\\Lenovo\\\\anaconda3\\\\lib\\\\ntpath.py'>"
      ]
     },
     "execution_count": 94,
     "metadata": {},
     "output_type": "execute_result"
    }
   ],
   "source": [
    "os.path"
   ]
  },
  {
   "cell_type": "code",
   "execution_count": 95,
   "id": "e8da4e93",
   "metadata": {},
   "outputs": [],
   "source": [
    "import send2trash"
   ]
  },
  {
   "cell_type": "code",
   "execution_count": 96,
   "id": "9d862570",
   "metadata": {},
   "outputs": [
    {
     "data": {
      "text/plain": [
       "'C:\\\\Users\\\\Lenovo\\\\MY PYTHON\\\\practice.txt'"
      ]
     },
     "execution_count": 96,
     "metadata": {},
     "output_type": "execute_result"
    }
   ],
   "source": [
    "shutil.move('C://Users//Lenovo/practice.txt',os.getcwd())"
   ]
  },
  {
   "cell_type": "code",
   "execution_count": 98,
   "id": "555af8db",
   "metadata": {},
   "outputs": [
    {
     "data": {
      "text/plain": [
       "['.ipynb_checkpoints', 'notes.ipynb', 'practice.txt']"
      ]
     },
     "execution_count": 98,
     "metadata": {},
     "output_type": "execute_result"
    }
   ],
   "source": [
    "os.listdir()"
   ]
  },
  {
   "cell_type": "code",
   "execution_count": 99,
   "id": "43f60dca",
   "metadata": {},
   "outputs": [],
   "source": [
    "send2trash.send2trash('practice.txt')"
   ]
  },
  {
   "cell_type": "code",
   "execution_count": 100,
   "id": "f4c1fe67",
   "metadata": {},
   "outputs": [
    {
     "data": {
      "text/plain": [
       "['.ipynb_checkpoints', 'notes.ipynb']"
      ]
     },
     "execution_count": 100,
     "metadata": {},
     "output_type": "execute_result"
    }
   ],
   "source": [
    "os.listdir()"
   ]
  },
  {
   "cell_type": "code",
   "execution_count": 102,
   "id": "3dc26d17",
   "metadata": {},
   "outputs": [
    {
     "name": "stdout",
     "output_type": "stream",
     "text": [
      "Currently looking at C:\\Users\\Lenovo\\MY PYTHON\n",
      "\n",
      "\n",
      "The subfolders are: \n",
      "\t Subfolder: .ipynb_checkpoints\n",
      "\n",
      "\n",
      "The files are: \n",
      "\t File: notes.ipynb\n",
      "\n",
      "\n",
      "Currently looking at C:\\Users\\Lenovo\\MY PYTHON\\.ipynb_checkpoints\n",
      "\n",
      "\n",
      "The subfolders are: \n",
      "\n",
      "\n",
      "The files are: \n",
      "\t File: notes-checkpoint.ipynb\n",
      "\n",
      "\n"
     ]
    }
   ],
   "source": [
    "for folder,sub_folders,files in os.walk(os.getcwd()):\n",
    "    print(f'Currently looking at {folder}')\n",
    "    print('\\n')\n",
    "    print('The subfolders are: ')\n",
    "    for sub_fold in sub_folders:\n",
    "        print(f\"\\t Subfolder: {sub_fold}\")\n",
    "    print('\\n')\n",
    "    print('The files are: ')\n",
    "    for f in files:\n",
    "        print(f'\\t File: {f}')\n",
    "    print('\\n')"
   ]
  },
  {
   "cell_type": "code",
   "execution_count": 103,
   "id": "11031dd2",
   "metadata": {},
   "outputs": [
    {
     "data": {
      "text/plain": [
       "['.ipynb_checkpoints', 'notes.ipynb']"
      ]
     },
     "execution_count": 103,
     "metadata": {},
     "output_type": "execute_result"
    }
   ],
   "source": [
    "os.listdir()"
   ]
  },
  {
   "cell_type": "code",
   "execution_count": 18,
   "id": "fe4620ae",
   "metadata": {},
   "outputs": [],
   "source": [
    "text = 'my phone number is 408-555-7777'"
   ]
  },
  {
   "cell_type": "code",
   "execution_count": 19,
   "id": "ffdc8be3",
   "metadata": {},
   "outputs": [],
   "source": [
    "import re"
   ]
  },
  {
   "cell_type": "code",
   "execution_count": 20,
   "id": "e42a000c",
   "metadata": {},
   "outputs": [],
   "source": [
    "phone = re.search('408-555-7777',text)"
   ]
  },
  {
   "cell_type": "code",
   "execution_count": 21,
   "id": "a660daf2",
   "metadata": {},
   "outputs": [
    {
     "data": {
      "text/plain": [
       "<re.Match object; span=(19, 31), match='408-555-7777'>"
      ]
     },
     "execution_count": 21,
     "metadata": {},
     "output_type": "execute_result"
    }
   ],
   "source": [
    "phone"
   ]
  },
  {
   "cell_type": "code",
   "execution_count": 24,
   "id": "2dc61e68",
   "metadata": {},
   "outputs": [],
   "source": [
    "phone2 = re.search(r'\\d\\d\\d-\\d\\d\\d-\\d\\d\\d\\d',text) #smart search"
   ]
  },
  {
   "cell_type": "code",
   "execution_count": 25,
   "id": "938bac92",
   "metadata": {},
   "outputs": [
    {
     "data": {
      "text/plain": [
       "<re.Match object; span=(19, 31), match='408-555-7777'>"
      ]
     },
     "execution_count": 25,
     "metadata": {},
     "output_type": "execute_result"
    }
   ],
   "source": [
    "phone2"
   ]
  },
  {
   "cell_type": "code",
   "execution_count": 27,
   "id": "82ff216f",
   "metadata": {},
   "outputs": [
    {
     "data": {
      "text/plain": [
       "'408-555-7777'"
      ]
     },
     "execution_count": 27,
     "metadata": {},
     "output_type": "execute_result"
    }
   ],
   "source": [
    "phone.group()"
   ]
  },
  {
   "cell_type": "code",
   "execution_count": 28,
   "id": "0c2e988c",
   "metadata": {},
   "outputs": [
    {
     "data": {
      "text/plain": [
       "'408-555-7777'"
      ]
     },
     "execution_count": 28,
     "metadata": {},
     "output_type": "execute_result"
    }
   ],
   "source": [
    "phone2.group()"
   ]
  },
  {
   "cell_type": "code",
   "execution_count": 35,
   "id": "b9dc966b",
   "metadata": {},
   "outputs": [],
   "source": [
    "phone3 = re.search(r'\\d{3}-\\d{3}-\\d{4}',text) "
   ]
  },
  {
   "cell_type": "code",
   "execution_count": 36,
   "id": "0c8d1233",
   "metadata": {},
   "outputs": [
    {
     "data": {
      "text/plain": [
       "<re.Match object; span=(19, 31), match='408-555-7777'>"
      ]
     },
     "execution_count": 36,
     "metadata": {},
     "output_type": "execute_result"
    }
   ],
   "source": [
    "phone3"
   ]
  },
  {
   "cell_type": "code",
   "execution_count": 37,
   "id": "1375f099",
   "metadata": {},
   "outputs": [],
   "source": [
    "#area code"
   ]
  },
  {
   "cell_type": "code",
   "execution_count": 38,
   "id": "0dcfec9c",
   "metadata": {},
   "outputs": [],
   "source": [
    "phone_pattern=re.compile(r'(\\d{3})-(\\d{3})-(\\d{4})')"
   ]
  },
  {
   "cell_type": "code",
   "execution_count": 39,
   "id": "104a0e34",
   "metadata": {},
   "outputs": [],
   "source": [
    "results=re.search(phone_pattern,text)"
   ]
  },
  {
   "cell_type": "code",
   "execution_count": 41,
   "id": "a32e21a0",
   "metadata": {},
   "outputs": [
    {
     "data": {
      "text/plain": [
       "'408-555-7777'"
      ]
     },
     "execution_count": 41,
     "metadata": {},
     "output_type": "execute_result"
    }
   ],
   "source": [
    "results.group()"
   ]
  },
  {
   "cell_type": "code",
   "execution_count": 42,
   "id": "91dcbf80",
   "metadata": {},
   "outputs": [
    {
     "data": {
      "text/plain": [
       "'408'"
      ]
     },
     "execution_count": 42,
     "metadata": {},
     "output_type": "execute_result"
    }
   ],
   "source": [
    "results.group(1)"
   ]
  },
  {
   "cell_type": "code",
   "execution_count": 43,
   "id": "0c7d2b17",
   "metadata": {},
   "outputs": [
    {
     "data": {
      "text/plain": [
       "'555'"
      ]
     },
     "execution_count": 43,
     "metadata": {},
     "output_type": "execute_result"
    }
   ],
   "source": [
    "results.group(2)"
   ]
  },
  {
   "cell_type": "code",
   "execution_count": 44,
   "id": "19c57522",
   "metadata": {},
   "outputs": [],
   "source": [
    "#additional regex syntax"
   ]
  },
  {
   "cell_type": "code",
   "execution_count": 47,
   "id": "41ec17cc",
   "metadata": {},
   "outputs": [],
   "source": [
    "re.search(r'cat','there ıs a dog here')"
   ]
  },
  {
   "cell_type": "code",
   "execution_count": 48,
   "id": "4e2a6ed2",
   "metadata": {},
   "outputs": [
    {
     "data": {
      "text/plain": [
       "<re.Match object; span=(11, 14), match='dog'>"
      ]
     },
     "execution_count": 48,
     "metadata": {},
     "output_type": "execute_result"
    }
   ],
   "source": [
    "re.search(r'cat|dog','there ıs a dog here')"
   ]
  },
  {
   "cell_type": "code",
   "execution_count": 49,
   "id": "a2574ace",
   "metadata": {},
   "outputs": [],
   "source": [
    "#wild card, placement of card"
   ]
  },
  {
   "cell_type": "code",
   "execution_count": 50,
   "id": "7301e7ae",
   "metadata": {},
   "outputs": [
    {
     "data": {
      "text/plain": [
       "['at', 'at', 'at']"
      ]
     },
     "execution_count": 50,
     "metadata": {},
     "output_type": "execute_result"
    }
   ],
   "source": [
    "re.findall(r'at','there is a cat in the hat sat there.')"
   ]
  },
  {
   "cell_type": "code",
   "execution_count": 51,
   "id": "e2c72f46",
   "metadata": {},
   "outputs": [
    {
     "data": {
      "text/plain": [
       "['cat', 'hat', 'sat']"
      ]
     },
     "execution_count": 51,
     "metadata": {},
     "output_type": "execute_result"
    }
   ],
   "source": [
    "re.findall(r'.at','there is a cat in the hat sat there.')"
   ]
  },
  {
   "cell_type": "code",
   "execution_count": 52,
   "id": "b8ab68b7",
   "metadata": {},
   "outputs": [
    {
     "data": {
      "text/plain": [
       "['cat', 'hat', 'sat', 'lat', 'rat']"
      ]
     },
     "execution_count": 52,
     "metadata": {},
     "output_type": "execute_result"
    }
   ],
   "source": [
    "re.findall(r'.at','there is a cat in the hat sat went splat hiyarat.')"
   ]
  },
  {
   "cell_type": "code",
   "execution_count": 53,
   "id": "586b841a",
   "metadata": {},
   "outputs": [
    {
     "data": {
      "text/plain": [
       "[' cat', ' hat', ' sat', 'plat', 'arat']"
      ]
     },
     "execution_count": 53,
     "metadata": {},
     "output_type": "execute_result"
    }
   ],
   "source": [
    "re.findall(r'..at','there is a cat in the hat sat went splat hiyarat.')"
   ]
  },
  {
   "cell_type": "code",
   "execution_count": 54,
   "id": "c3c606c3",
   "metadata": {},
   "outputs": [
    {
     "data": {
      "text/plain": [
       "['a cat', 'e hat', 'splat', 'yarat']"
      ]
     },
     "execution_count": 54,
     "metadata": {},
     "output_type": "execute_result"
    }
   ],
   "source": [
    "re.findall(r'...at','there is a cat in the hat sat went splat hiyarat.')"
   ]
  },
  {
   "cell_type": "code",
   "execution_count": 55,
   "id": "50b86201",
   "metadata": {},
   "outputs": [],
   "source": [
    "#if you want more control you need to use character identifiers"
   ]
  },
  {
   "cell_type": "code",
   "execution_count": 58,
   "id": "81e8eaf2",
   "metadata": {},
   "outputs": [],
   "source": [
    "#if any starts with a number, ^start with somethıng"
   ]
  },
  {
   "cell_type": "code",
   "execution_count": 59,
   "id": "cf0a7e87",
   "metadata": {},
   "outputs": [
    {
     "data": {
      "text/plain": [
       "[]"
      ]
     },
     "execution_count": 59,
     "metadata": {},
     "output_type": "execute_result"
    }
   ],
   "source": [
    "re.findall(r'^\\d','haıtar 2  is a number ulan')"
   ]
  },
  {
   "cell_type": "code",
   "execution_count": 60,
   "id": "cbe890e3",
   "metadata": {},
   "outputs": [
    {
     "data": {
      "text/plain": [
       "['2']"
      ]
     },
     "execution_count": 60,
     "metadata": {},
     "output_type": "execute_result"
    }
   ],
   "source": [
    "re.findall(r'^\\d','2  is a number ulan')"
   ]
  },
  {
   "cell_type": "code",
   "execution_count": 61,
   "id": "6f1c1a74",
   "metadata": {},
   "outputs": [],
   "source": [
    "#end tith $ sign"
   ]
  },
  {
   "cell_type": "code",
   "execution_count": 62,
   "id": "fe914ada",
   "metadata": {},
   "outputs": [
    {
     "data": {
      "text/plain": [
       "['2']"
      ]
     },
     "execution_count": 62,
     "metadata": {},
     "output_type": "execute_result"
    }
   ],
   "source": [
    "re.findall('\\d$','this finishes with number 2')"
   ]
  },
  {
   "cell_type": "code",
   "execution_count": 63,
   "id": "279ab107",
   "metadata": {},
   "outputs": [
    {
     "data": {
      "text/plain": [
       "[]"
      ]
     },
     "execution_count": 63,
     "metadata": {},
     "output_type": "execute_result"
    }
   ],
   "source": [
    "re.findall('\\d$','this finishes with 2 number')"
   ]
  },
  {
   "cell_type": "code",
   "execution_count": null,
   "id": "be87527e",
   "metadata": {},
   "outputs": [],
   "source": []
  },
  {
   "cell_type": "code",
   "execution_count": null,
   "id": "8790f86f",
   "metadata": {},
   "outputs": [],
   "source": []
  },
  {
   "cell_type": "code",
   "execution_count": null,
   "id": "c5275b8f",
   "metadata": {},
   "outputs": [],
   "source": [
    "#exlude thbngs use [] brakets , + means one or more times"
   ]
  },
  {
   "cell_type": "code",
   "execution_count": 64,
   "id": "eb47a9b1",
   "metadata": {},
   "outputs": [],
   "source": [
    "pharase='there are 3 numbers 34 inside 5 this sentence ne biçin iş bu'"
   ]
  },
  {
   "cell_type": "code",
   "execution_count": 69,
   "id": "cf9a5d82",
   "metadata": {},
   "outputs": [],
   "source": [
    "pattern=r'[^\\d]+' #+ means one or more times"
   ]
  },
  {
   "cell_type": "code",
   "execution_count": 70,
   "id": "26c473d6",
   "metadata": {},
   "outputs": [
    {
     "data": {
      "text/plain": [
       "['there are ', ' numbers ', ' inside ', ' this sentence ne biçin iş bu']"
      ]
     },
     "execution_count": 70,
     "metadata": {},
     "output_type": "execute_result"
    }
   ],
   "source": [
    "re.findall(pattern,pharase)"
   ]
  },
  {
   "cell_type": "code",
   "execution_count": 71,
   "id": "c92f7f0e",
   "metadata": {},
   "outputs": [],
   "source": [
    "test_phrase='this is a string!, but it has bunctiation and spelling erros, how can ı deal withj'"
   ]
  },
  {
   "cell_type": "code",
   "execution_count": 73,
   "id": "144eab25",
   "metadata": {},
   "outputs": [
    {
     "data": {
      "text/plain": [
       "['this',\n",
       " 'is',\n",
       " 'a',\n",
       " 'string',\n",
       " ',',\n",
       " 'but',\n",
       " 'it',\n",
       " 'has',\n",
       " 'bunctiation',\n",
       " 'and',\n",
       " 'spelling',\n",
       " 'erros,',\n",
       " 'how',\n",
       " 'can',\n",
       " 'ı',\n",
       " 'deal',\n",
       " 'withj']"
      ]
     },
     "execution_count": 73,
     "metadata": {},
     "output_type": "execute_result"
    }
   ],
   "source": [
    "re.findall(r'[^!.? ]+',test_phrase)"
   ]
  },
  {
   "cell_type": "code",
   "execution_count": 74,
   "id": "61537f41",
   "metadata": {},
   "outputs": [],
   "source": [
    "clean= re.findall(r'[^!.? ]+',test_phrase)"
   ]
  },
  {
   "cell_type": "code",
   "execution_count": 75,
   "id": "38c45eee",
   "metadata": {},
   "outputs": [
    {
     "data": {
      "text/plain": [
       "['this',\n",
       " 'is',\n",
       " 'a',\n",
       " 'string',\n",
       " ',',\n",
       " 'but',\n",
       " 'it',\n",
       " 'has',\n",
       " 'bunctiation',\n",
       " 'and',\n",
       " 'spelling',\n",
       " 'erros,',\n",
       " 'how',\n",
       " 'can',\n",
       " 'ı',\n",
       " 'deal',\n",
       " 'withj']"
      ]
     },
     "execution_count": 75,
     "metadata": {},
     "output_type": "execute_result"
    }
   ],
   "source": [
    "clean"
   ]
  },
  {
   "cell_type": "code",
   "execution_count": 77,
   "id": "29fd0279",
   "metadata": {},
   "outputs": [
    {
     "data": {
      "text/plain": [
       "'this is a string , but it has bunctiation and spelling erros, how can ı deal withj'"
      ]
     },
     "execution_count": 77,
     "metadata": {},
     "output_type": "execute_result"
    }
   ],
   "source": [
    "' '.join(clean)"
   ]
  },
  {
   "cell_type": "code",
   "execution_count": null,
   "id": "59d1c634",
   "metadata": {},
   "outputs": [],
   "source": []
  },
  {
   "cell_type": "code",
   "execution_count": null,
   "id": "5d9f8b3c",
   "metadata": {},
   "outputs": [],
   "source": []
  },
  {
   "cell_type": "code",
   "execution_count": 98,
   "id": "b0107f0a",
   "metadata": {},
   "outputs": [],
   "source": [
    "#brakets can be used inclusion as well, keep in mind"
   ]
  },
  {
   "cell_type": "code",
   "execution_count": 99,
   "id": "8145c094",
   "metadata": {},
   "outputs": [],
   "source": [
    "text='only find the hypen-words in this sentence, but you dont know long-ish they are'"
   ]
  },
  {
   "cell_type": "code",
   "execution_count": 100,
   "id": "fb224e4b",
   "metadata": {},
   "outputs": [],
   "source": [
    "patten=r'[\\w]+-[\\w]+'"
   ]
  },
  {
   "cell_type": "code",
   "execution_count": 101,
   "id": "955561ef",
   "metadata": {},
   "outputs": [
    {
     "data": {
      "text/plain": [
       "['hypen-words', 'long-ish']"
      ]
     },
     "execution_count": 101,
     "metadata": {},
     "output_type": "execute_result"
    }
   ],
   "source": [
    "re.findall(patten,text)"
   ]
  },
  {
   "cell_type": "code",
   "execution_count": 102,
   "id": "d400c950",
   "metadata": {},
   "outputs": [],
   "source": [
    "patten=r'\\w+-\\w+'"
   ]
  },
  {
   "cell_type": "code",
   "execution_count": 104,
   "id": "11e5e783",
   "metadata": {},
   "outputs": [
    {
     "data": {
      "text/plain": [
       "['hypen-words', 'long-ish']"
      ]
     },
     "execution_count": 104,
     "metadata": {},
     "output_type": "execute_result"
    }
   ],
   "source": [
    "re.findall(patten,text)"
   ]
  },
  {
   "cell_type": "code",
   "execution_count": 105,
   "id": "8625bc28",
   "metadata": {},
   "outputs": [],
   "source": []
  },
  {
   "cell_type": "code",
   "execution_count": 106,
   "id": "94668b6d",
   "metadata": {},
   "outputs": [],
   "source": [
    "#for multiple options you can use paranthesis"
   ]
  },
  {
   "cell_type": "code",
   "execution_count": 107,
   "id": "5aeec9eb",
   "metadata": {},
   "outputs": [],
   "source": [
    "text='hello would you lıke some catfish?'\n",
    "texttwo='hello would you like to take a catnap'\n",
    "textthree='hello, have you seen this caterpillar?'"
   ]
  },
  {
   "cell_type": "code",
   "execution_count": 108,
   "id": "39c62ceb",
   "metadata": {},
   "outputs": [
    {
     "data": {
      "text/plain": [
       "<re.Match object; span=(26, 33), match='catfish'>"
      ]
     },
     "execution_count": 108,
     "metadata": {},
     "output_type": "execute_result"
    }
   ],
   "source": [
    "re.search(r'cat(fish|nap|caterpiilar)',text)"
   ]
  },
  {
   "cell_type": "code",
   "execution_count": 109,
   "id": "cef48161",
   "metadata": {},
   "outputs": [
    {
     "data": {
      "text/plain": [
       "<re.Match object; span=(31, 37), match='catnap'>"
      ]
     },
     "execution_count": 109,
     "metadata": {},
     "output_type": "execute_result"
    }
   ],
   "source": [
    "re.search(r'cat(fish|nap|caterpiilar)',texttwo)"
   ]
  },
  {
   "cell_type": "code",
   "execution_count": 110,
   "id": "96170805",
   "metadata": {},
   "outputs": [],
   "source": [
    "re.search(r'cat(fish|nap|caterpiilar)',textthree)"
   ]
  },
  {
   "cell_type": "code",
   "execution_count": 111,
   "id": "22e7e79f",
   "metadata": {},
   "outputs": [],
   "source": [
    "re.search(r'cat(fish|nap|erpiilar)',textthree)"
   ]
  },
  {
   "cell_type": "code",
   "execution_count": null,
   "id": "941fcaef",
   "metadata": {},
   "outputs": [],
   "source": []
  },
  {
   "cell_type": "code",
   "execution_count": null,
   "id": "2c1a9702",
   "metadata": {},
   "outputs": [],
   "source": []
  },
  {
   "cell_type": "code",
   "execution_count": null,
   "id": "e34a4ee4",
   "metadata": {},
   "outputs": [],
   "source": []
  },
  {
   "cell_type": "code",
   "execution_count": 113,
   "id": "c237de9d",
   "metadata": {},
   "outputs": [],
   "source": [
    "def func_one(n):\n",
    "    return [str(num) for num in range(n)]"
   ]
  },
  {
   "cell_type": "code",
   "execution_count": 115,
   "id": "3c62b7d0",
   "metadata": {},
   "outputs": [
    {
     "data": {
      "text/plain": [
       "['0', '1', '2', '3', '4', '5', '6', '7', '8', '9']"
      ]
     },
     "execution_count": 115,
     "metadata": {},
     "output_type": "execute_result"
    }
   ],
   "source": [
    "func_one(10)"
   ]
  },
  {
   "cell_type": "code",
   "execution_count": 125,
   "id": "ae620612",
   "metadata": {},
   "outputs": [],
   "source": [
    "def func_two(n):\n",
    "    return list(map(str,range(n)))"
   ]
  },
  {
   "cell_type": "code",
   "execution_count": 126,
   "id": "4cc2ad13",
   "metadata": {},
   "outputs": [
    {
     "data": {
      "text/plain": [
       "['0', '1', '2', '3', '4', '5', '6', '7', '8', '9']"
      ]
     },
     "execution_count": 126,
     "metadata": {},
     "output_type": "execute_result"
    }
   ],
   "source": [
    "func_two(10)"
   ]
  },
  {
   "cell_type": "code",
   "execution_count": 129,
   "id": "a18ff213",
   "metadata": {},
   "outputs": [
    {
     "data": {
      "text/plain": [
       "'[0, 1, 2, 3, 4, 5, 6, 7, 8, 9]'"
      ]
     },
     "execution_count": 129,
     "metadata": {},
     "output_type": "execute_result"
    }
   ],
   "source": [
    "str(list(range(10)))"
   ]
  },
  {
   "cell_type": "code",
   "execution_count": 130,
   "id": "1a092a21",
   "metadata": {},
   "outputs": [],
   "source": [
    "import time"
   ]
  },
  {
   "cell_type": "code",
   "execution_count": 131,
   "id": "6264cb36",
   "metadata": {},
   "outputs": [
    {
     "name": "stdout",
     "output_type": "stream",
     "text": [
      "3.6029696464538574\n"
     ]
    }
   ],
   "source": [
    "#current time before running code\n",
    "start_time=time.time()\n",
    "# run code\n",
    "result=func_one(10000000)\n",
    "#current time after running code\n",
    "end_time=time.time()\n",
    "#take difference elapsed time\n",
    "elapsed_time=end_time-start_time\n",
    "\n",
    "print(elapsed_time)"
   ]
  },
  {
   "cell_type": "code",
   "execution_count": 132,
   "id": "f887544d",
   "metadata": {},
   "outputs": [
    {
     "name": "stdout",
     "output_type": "stream",
     "text": [
      "2.4079701900482178\n"
     ]
    }
   ],
   "source": [
    "#current time before running code\n",
    "start_time=time.time()\n",
    "# run code\n",
    "result=func_two(10000000)\n",
    "#current time after running code\n",
    "end_time=time.time()\n",
    "#take difference elapsed time\n",
    "elapsed_time=end_time-start_time\n",
    "\n",
    "print(elapsed_time)"
   ]
  },
  {
   "cell_type": "code",
   "execution_count": 133,
   "id": "d063d236",
   "metadata": {},
   "outputs": [
    {
     "name": "stdout",
     "output_type": "stream",
     "text": [
      "0.2665092945098877\n"
     ]
    }
   ],
   "source": [
    "#current time before running code\n",
    "start_time=time.time()\n",
    "# run code\n",
    "result=func_one(10)\n",
    "#current time after running code\n",
    "end_time=time.time()\n",
    "#take difference elapsed time\n",
    "elapsed_time=end_time-start_time\n",
    "\n",
    "print(elapsed_time)"
   ]
  },
  {
   "cell_type": "code",
   "execution_count": 134,
   "id": "84ebcd90",
   "metadata": {},
   "outputs": [
    {
     "name": "stdout",
     "output_type": "stream",
     "text": [
      "0.0\n"
     ]
    }
   ],
   "source": [
    "#current time before running code\n",
    "start_time=time.time()\n",
    "# run code\n",
    "result=func_two(10)\n",
    "#current time after running code\n",
    "end_time=time.time()\n",
    "#take difference elapsed time\n",
    "elapsed_time=end_time-start_time\n",
    "\n",
    "print(elapsed_time)"
   ]
  },
  {
   "cell_type": "code",
   "execution_count": 141,
   "id": "4814f7af",
   "metadata": {},
   "outputs": [
    {
     "data": {
      "text/plain": [
       "1631882799.6447434"
      ]
     },
     "execution_count": 141,
     "metadata": {},
     "output_type": "execute_result"
    }
   ],
   "source": [
    "time.time()"
   ]
  },
  {
   "cell_type": "code",
   "execution_count": null,
   "id": "88a21104",
   "metadata": {},
   "outputs": [],
   "source": []
  },
  {
   "cell_type": "code",
   "execution_count": 142,
   "id": "3db2618d",
   "metadata": {},
   "outputs": [],
   "source": [
    "#TIME IT FUNCTION"
   ]
  },
  {
   "cell_type": "code",
   "execution_count": 143,
   "id": "1cd855bb",
   "metadata": {},
   "outputs": [],
   "source": [
    "import timeit"
   ]
  },
  {
   "cell_type": "code",
   "execution_count": 144,
   "id": "7a547b1c",
   "metadata": {},
   "outputs": [
    {
     "data": {
      "text/plain": [
       "0.011523299999680603"
      ]
     },
     "execution_count": 144,
     "metadata": {},
     "output_type": "execute_result"
    }
   ],
   "source": [
    "timeit.timeit()"
   ]
  },
  {
   "cell_type": "code",
   "execution_count": 152,
   "id": "7e301671",
   "metadata": {},
   "outputs": [],
   "source": [
    "stmt='''\n",
    "func_one(100)\n",
    "'''"
   ]
  },
  {
   "cell_type": "code",
   "execution_count": 153,
   "id": "197d6708",
   "metadata": {},
   "outputs": [],
   "source": [
    "setup='''\n",
    "def func_one(n):\n",
    "    return [str(num) for num in range(n)]\n",
    "'''"
   ]
  },
  {
   "cell_type": "code",
   "execution_count": 157,
   "id": "5e43ff41",
   "metadata": {},
   "outputs": [
    {
     "data": {
      "text/plain": [
       "21.683151799999905"
      ]
     },
     "execution_count": 157,
     "metadata": {},
     "output_type": "execute_result"
    }
   ],
   "source": [
    "timeit.timeit(stmt,setup,number=1000000)"
   ]
  },
  {
   "cell_type": "code",
   "execution_count": null,
   "id": "3b5e7143",
   "metadata": {},
   "outputs": [],
   "source": []
  },
  {
   "cell_type": "code",
   "execution_count": 151,
   "id": "5d13e969",
   "metadata": {},
   "outputs": [],
   "source": [
    "stmt2='''\n",
    "func_two(100)\n",
    "'''"
   ]
  },
  {
   "cell_type": "code",
   "execution_count": 155,
   "id": "ad60b5e7",
   "metadata": {},
   "outputs": [],
   "source": [
    "setup2='''\n",
    "def func_two(n):\n",
    "    return list(map(str,range(n)))\n",
    "'''"
   ]
  },
  {
   "cell_type": "code",
   "execution_count": 158,
   "id": "f0e382b7",
   "metadata": {},
   "outputs": [
    {
     "data": {
      "text/plain": [
       "17.47328010000001"
      ]
     },
     "execution_count": 158,
     "metadata": {},
     "output_type": "execute_result"
    }
   ],
   "source": [
    "timeit.timeit(stmt2,setup2,number=1000000)"
   ]
  },
  {
   "cell_type": "code",
   "execution_count": null,
   "id": "44651ae2",
   "metadata": {},
   "outputs": [],
   "source": []
  },
  {
   "cell_type": "code",
   "execution_count": 159,
   "id": "b881f176",
   "metadata": {},
   "outputs": [],
   "source": [
    "#magic method to work timeit in cell"
   ]
  },
  {
   "cell_type": "code",
   "execution_count": 160,
   "id": "5ffad648",
   "metadata": {},
   "outputs": [
    {
     "name": "stdout",
     "output_type": "stream",
     "text": [
      "18.6 µs ± 283 ns per loop (mean ± std. dev. of 7 runs, 100000 loops each)\n"
     ]
    }
   ],
   "source": [
    "%%timeit\n",
    "func_one(100)"
   ]
  },
  {
   "cell_type": "code",
   "execution_count": 161,
   "id": "ad7832bb",
   "metadata": {},
   "outputs": [
    {
     "name": "stdout",
     "output_type": "stream",
     "text": [
      "17.1 µs ± 2.2 µs per loop (mean ± std. dev. of 7 runs, 100000 loops each)\n"
     ]
    }
   ],
   "source": [
    "%%timeit\n",
    "func_two(100)"
   ]
  },
  {
   "cell_type": "code",
   "execution_count": null,
   "id": "08a77b64",
   "metadata": {},
   "outputs": [],
   "source": [
    " "
   ]
  },
  {
   "cell_type": "code",
   "execution_count": null,
   "id": "2511c86e",
   "metadata": {},
   "outputs": [],
   "source": []
  },
  {
   "cell_type": "code",
   "execution_count": null,
   "id": "2fb499e5",
   "metadata": {},
   "outputs": [],
   "source": []
  },
  {
   "cell_type": "code",
   "execution_count": 162,
   "id": "0a740171",
   "metadata": {},
   "outputs": [],
   "source": [
    "#ZIPPING AND UNZIPPING FİLES"
   ]
  },
  {
   "cell_type": "code",
   "execution_count": 163,
   "id": "ba03a03f",
   "metadata": {},
   "outputs": [
    {
     "data": {
      "text/plain": [
       "'C:\\\\Users\\\\Lenovo\\\\MY PYTHON'"
      ]
     },
     "execution_count": 163,
     "metadata": {},
     "output_type": "execute_result"
    }
   ],
   "source": [
    "pwd"
   ]
  },
  {
   "cell_type": "code",
   "execution_count": 164,
   "id": "7a8a051e",
   "metadata": {},
   "outputs": [],
   "source": [
    "f=open('fileone.txt','w+')\n",
    "f.write('file one is here')\n",
    "f.close()"
   ]
  },
  {
   "cell_type": "code",
   "execution_count": 165,
   "id": "40ff3866",
   "metadata": {},
   "outputs": [],
   "source": [
    "f=open('filetwo.txt','w+')\n",
    "f.write('file two is here')\n",
    "f.close()"
   ]
  },
  {
   "cell_type": "code",
   "execution_count": 167,
   "id": "1e028e1c",
   "metadata": {},
   "outputs": [],
   "source": [
    "import zipfile"
   ]
  },
  {
   "cell_type": "code",
   "execution_count": 168,
   "id": "e65a5699",
   "metadata": {},
   "outputs": [],
   "source": [
    "comp_file=zipfile.ZipFile('compfile.zip','w')"
   ]
  },
  {
   "cell_type": "code",
   "execution_count": 169,
   "id": "cfbe9e3a",
   "metadata": {},
   "outputs": [],
   "source": [
    "comp_file.write('fileone.txt',compress_type=zipfile.ZIP_DEFLATED)"
   ]
  },
  {
   "cell_type": "code",
   "execution_count": 171,
   "id": "f596f66e",
   "metadata": {},
   "outputs": [],
   "source": [
    "comp_file.write('filetwo.txt',compress_type=zipfile.ZIP_DEFLATED)"
   ]
  },
  {
   "cell_type": "code",
   "execution_count": 173,
   "id": "549435cc",
   "metadata": {},
   "outputs": [],
   "source": [
    "comp_file.close()"
   ]
  },
  {
   "cell_type": "code",
   "execution_count": 174,
   "id": "a8e4de3a",
   "metadata": {},
   "outputs": [],
   "source": [
    "zip_obj=zipfile.ZipFile('compfile.zip','r')"
   ]
  },
  {
   "cell_type": "code",
   "execution_count": 175,
   "id": "48eac0ef",
   "metadata": {},
   "outputs": [],
   "source": [
    "zip_obj.extractall('extracted_content')"
   ]
  },
  {
   "cell_type": "code",
   "execution_count": 177,
   "id": "30846a21",
   "metadata": {},
   "outputs": [
    {
     "name": "stdout",
     "output_type": "stream",
     "text": [
      "C:\\Users\\Lenovo\\MY PYTHON\\extracted_content\n"
     ]
    }
   ],
   "source": [
    "cd extracted_content/"
   ]
  },
  {
   "cell_type": "code",
   "execution_count": 178,
   "id": "e0b56c23",
   "metadata": {},
   "outputs": [
    {
     "name": "stdout",
     "output_type": "stream",
     "text": [
      " Volume in drive C has no label.\n",
      " Volume Serial Number is D09F-994E\n",
      "\n",
      " Directory of C:\\Users\\Lenovo\\MY PYTHON\\extracted_content\n",
      "\n",
      "17/09/2021  16:05    <DIR>          .\n",
      "17/09/2021  16:05    <DIR>          ..\n",
      "17/09/2021  16:05                16 fileone.txt\n",
      "17/09/2021  16:05                16 filetwo.txt\n",
      "               2 File(s)             32 bytes\n",
      "               2 Dir(s)  576,237,096,960 bytes free\n"
     ]
    }
   ],
   "source": [
    "ls"
   ]
  },
  {
   "cell_type": "code",
   "execution_count": null,
   "id": "f84cf112",
   "metadata": {},
   "outputs": [],
   "source": []
  },
  {
   "cell_type": "code",
   "execution_count": 179,
   "id": "ef4e116b",
   "metadata": {},
   "outputs": [],
   "source": [
    "#SHELL UNILITY LIBRARY"
   ]
  },
  {
   "cell_type": "code",
   "execution_count": 181,
   "id": "809ab64b",
   "metadata": {},
   "outputs": [],
   "source": [
    "import shutil"
   ]
  },
  {
   "cell_type": "code",
   "execution_count": 182,
   "id": "99ed9349",
   "metadata": {},
   "outputs": [
    {
     "data": {
      "text/plain": [
       "'C:\\\\Users\\\\Lenovo\\\\MY PYTHON\\\\extracted_content'"
      ]
     },
     "execution_count": 182,
     "metadata": {},
     "output_type": "execute_result"
    }
   ],
   "source": [
    "pwd"
   ]
  },
  {
   "cell_type": "code",
   "execution_count": 183,
   "id": "a272071e",
   "metadata": {},
   "outputs": [
    {
     "name": "stdout",
     "output_type": "stream",
     "text": [
      "C:\\Users\\Lenovo\\MY PYTHON\n"
     ]
    }
   ],
   "source": [
    "cd .."
   ]
  },
  {
   "cell_type": "code",
   "execution_count": 184,
   "id": "98351302",
   "metadata": {},
   "outputs": [
    {
     "data": {
      "text/plain": [
       "'C:\\\\Users\\\\Lenovo\\\\MY PYTHON'"
      ]
     },
     "execution_count": 184,
     "metadata": {},
     "output_type": "execute_result"
    }
   ],
   "source": [
    "pwd"
   ]
  },
  {
   "cell_type": "code",
   "execution_count": 185,
   "id": "2dfabbac",
   "metadata": {},
   "outputs": [],
   "source": [
    "dir_to_zip= 'C:\\\\Users\\\\Lenovo\\\\MY PYTHON\\\\extracted_content'"
   ]
  },
  {
   "cell_type": "code",
   "execution_count": 186,
   "id": "173cf25a",
   "metadata": {},
   "outputs": [],
   "source": [
    "outpu_filename='example'"
   ]
  },
  {
   "cell_type": "code",
   "execution_count": 187,
   "id": "2791b5e2",
   "metadata": {},
   "outputs": [
    {
     "data": {
      "text/plain": [
       "'C:\\\\Users\\\\Lenovo\\\\MY PYTHON\\\\example.zip'"
      ]
     },
     "execution_count": 187,
     "metadata": {},
     "output_type": "execute_result"
    }
   ],
   "source": [
    "shutil.make_archive(outpu_filename,'zip',dir_to_zip)"
   ]
  },
  {
   "cell_type": "code",
   "execution_count": 188,
   "id": "d896d9d6",
   "metadata": {},
   "outputs": [
    {
     "name": "stdout",
     "output_type": "stream",
     "text": [
      " Volume in drive C has no label.\n",
      " Volume Serial Number is D09F-994E\n",
      "\n",
      " Directory of C:\\Users\\Lenovo\\MY PYTHON\n",
      "\n",
      "17/09/2021  16:10    <DIR>          .\n",
      "17/09/2021  16:10    <DIR>          ..\n",
      "14/08/2021  14:54    <DIR>          .ipynb_checkpoints\n",
      "17/09/2021  16:03               254 compfile.zip\n",
      "17/09/2021  16:10               254 example.zip\n",
      "17/09/2021  16:05    <DIR>          extracted_content\n",
      "17/09/2021  15:59                16 fileone.txt\n",
      "17/09/2021  15:59                16 filetwo.txt\n",
      "17/09/2021  16:08            84,927 notes.ipynb\n",
      "               5 File(s)         85,467 bytes\n",
      "               4 Dir(s)  576,235,565,056 bytes free\n"
     ]
    }
   ],
   "source": [
    "ls"
   ]
  },
  {
   "cell_type": "code",
   "execution_count": 189,
   "id": "14b98237",
   "metadata": {},
   "outputs": [],
   "source": [
    "#UNZIP"
   ]
  },
  {
   "cell_type": "code",
   "execution_count": 190,
   "id": "788246ab",
   "metadata": {},
   "outputs": [],
   "source": [
    "shutil.unpack_archive('example.zip','finalunzip','zip')"
   ]
  },
  {
   "cell_type": "code",
   "execution_count": 192,
   "id": "f6d1bd69",
   "metadata": {},
   "outputs": [
    {
     "name": "stdout",
     "output_type": "stream",
     "text": [
      "C:\\Users\\Lenovo\\MY PYTHON\\finalunzip\n"
     ]
    }
   ],
   "source": [
    "cd finalunzip/"
   ]
  },
  {
   "cell_type": "code",
   "execution_count": 193,
   "id": "167e734e",
   "metadata": {},
   "outputs": [
    {
     "name": "stdout",
     "output_type": "stream",
     "text": [
      " Volume in drive C has no label.\n",
      " Volume Serial Number is D09F-994E\n",
      "\n",
      " Directory of C:\\Users\\Lenovo\\MY PYTHON\\finalunzip\n",
      "\n",
      "17/09/2021  16:11    <DIR>          .\n",
      "17/09/2021  16:11    <DIR>          ..\n",
      "17/09/2021  16:11                16 fileone.txt\n",
      "17/09/2021  16:11                16 filetwo.txt\n",
      "               2 File(s)             32 bytes\n",
      "               2 Dir(s)  576,231,211,008 bytes free\n"
     ]
    }
   ],
   "source": [
    "ls"
   ]
  },
  {
   "cell_type": "code",
   "execution_count": 194,
   "id": "2967dc71",
   "metadata": {},
   "outputs": [
    {
     "name": "stdout",
     "output_type": "stream",
     "text": [
      "C:\\Users\\Lenovo\\MY PYTHON\n"
     ]
    }
   ],
   "source": [
    "cd .."
   ]
  },
  {
   "cell_type": "code",
   "execution_count": 195,
   "id": "bbaab05d",
   "metadata": {},
   "outputs": [
    {
     "data": {
      "text/plain": [
       "'C:\\\\Users\\\\Lenovo\\\\MY PYTHON'"
      ]
     },
     "execution_count": 195,
     "metadata": {},
     "output_type": "execute_result"
    }
   ],
   "source": [
    "pwd"
   ]
  },
  {
   "cell_type": "code",
   "execution_count": 1,
   "id": "615704f6",
   "metadata": {},
   "outputs": [
    {
     "data": {
      "text/plain": [
       "'C:\\\\Users\\\\Lenovo\\\\MY PYTHON'"
      ]
     },
     "execution_count": 1,
     "metadata": {},
     "output_type": "execute_result"
    }
   ],
   "source": [
    "pwd"
   ]
  },
  {
   "cell_type": "code",
   "execution_count": 1,
   "id": "4b12635b",
   "metadata": {},
   "outputs": [
    {
     "ename": "SyntaxError",
     "evalue": "invalid syntax (<ipython-input-1-46cbd787b5a9>, line 1)",
     "output_type": "error",
     "traceback": [
      "\u001b[1;36m  File \u001b[1;32m\"<ipython-input-1-46cbd787b5a9>\"\u001b[1;36m, line \u001b[1;32m1\u001b[0m\n\u001b[1;33m    jupyter notebook list\u001b[0m\n\u001b[1;37m            ^\u001b[0m\n\u001b[1;31mSyntaxError\u001b[0m\u001b[1;31m:\u001b[0m invalid syntax\n"
     ]
    }
   ],
   "source": [
    "jupyter notebook list"
   ]
  },
  {
   "cell_type": "code",
   "execution_count": 2,
   "id": "c55565fe",
   "metadata": {},
   "outputs": [],
   "source": [
    "from notebook.auth import passwd"
   ]
  },
  {
   "cell_type": "code",
   "execution_count": 3,
   "id": "448e03cc",
   "metadata": {},
   "outputs": [
    {
     "name": "stdout",
     "output_type": "stream",
     "text": [
      "Enter password: ········\n",
      "Verify password: ········\n"
     ]
    },
    {
     "data": {
      "text/plain": [
       "'argon2:$argon2id$v=19$m=10240,t=10,p=8$m2rqmqBbB6vWy4irQPsoRw$uvMg3J6tc8NRSatMBgCeBA'"
      ]
     },
     "execution_count": 3,
     "metadata": {},
     "output_type": "execute_result"
    }
   ],
   "source": [
    "passwd()"
   ]
  },
  {
   "cell_type": "code",
   "execution_count": null,
   "id": "51bd198a",
   "metadata": {},
   "outputs": [],
   "source": []
  }
 ],
 "metadata": {
  "kernelspec": {
   "display_name": "Python 3",
   "language": "python",
   "name": "python3"
  },
  "language_info": {
   "codemirror_mode": {
    "name": "ipython",
    "version": 3
   },
   "file_extension": ".py",
   "mimetype": "text/x-python",
   "name": "python",
   "nbconvert_exporter": "python",
   "pygments_lexer": "ipython3",
   "version": "3.8.8"
  }
 },
 "nbformat": 4,
 "nbformat_minor": 5
}
