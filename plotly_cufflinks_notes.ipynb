{
 "cells": [
  {
   "cell_type": "code",
   "execution_count": 18,
   "id": "7d9ac7ea",
   "metadata": {},
   "outputs": [],
   "source": [
    "import pandas as pd\n",
    "import numpy as np\n",
    "%matplotlib inline"
   ]
  },
  {
   "cell_type": "code",
   "execution_count": 2,
   "id": "23f698ed",
   "metadata": {},
   "outputs": [],
   "source": [
    "from plotly import __version__"
   ]
  },
  {
   "cell_type": "code",
   "execution_count": 1,
   "id": "9628b327",
   "metadata": {},
   "outputs": [
    {
     "ename": "NameError",
     "evalue": "name '__version__' is not defined",
     "output_type": "error",
     "traceback": [
      "\u001b[1;31m---------------------------------------------------------------------------\u001b[0m",
      "\u001b[1;31mNameError\u001b[0m                                 Traceback (most recent call last)",
      "\u001b[1;32m<ipython-input-1-4b773486c96b>\u001b[0m in \u001b[0;36m<module>\u001b[1;34m\u001b[0m\n\u001b[1;32m----> 1\u001b[1;33m \u001b[0mprint\u001b[0m\u001b[1;33m(\u001b[0m\u001b[0m__version__\u001b[0m\u001b[1;33m)\u001b[0m\u001b[1;33m\u001b[0m\u001b[1;33m\u001b[0m\u001b[0m\n\u001b[0m",
      "\u001b[1;31mNameError\u001b[0m: name '__version__' is not defined"
     ]
    }
   ],
   "source": [
    "print(__version__)"
   ]
  },
  {
   "cell_type": "code",
   "execution_count": 3,
   "id": "23e1c194",
   "metadata": {},
   "outputs": [],
   "source": [
    "import pip"
   ]
  },
  {
   "cell_type": "code",
   "execution_count": 4,
   "id": "134c22aa",
   "metadata": {},
   "outputs": [
    {
     "name": "stderr",
     "output_type": "stream",
     "text": [
      "WARNING: pip is being invoked by an old script wrapper. This will fail in a future version of pip.\n",
      "Please see https://github.com/pypa/pip/issues/5599 for advice on fixing the underlying issue.\n",
      "To avoid this problem you can invoke Python with '-m pip' instead of running pip directly.\n"
     ]
    },
    {
     "name": "stdout",
     "output_type": "stream",
     "text": [
      "Collecting cufflinks\n",
      "  Using cached cufflinks-0.17.3.tar.gz (81 kB)\n",
      "Requirement already satisfied: numpy>=1.9.2 in c:\\users\\lenovo\\anaconda3\\lib\\site-packages (from cufflinks) (1.20.1)\n",
      "Requirement already satisfied: pandas>=0.19.2 in c:\\users\\lenovo\\anaconda3\\lib\\site-packages (from cufflinks) (1.2.4)\n",
      "Requirement already satisfied: plotly>=4.1.1 in c:\\users\\lenovo\\anaconda3\\lib\\site-packages (from cufflinks) (5.1.0)\n",
      "Requirement already satisfied: six>=1.9.0 in c:\\users\\lenovo\\anaconda3\\lib\\site-packages (from cufflinks) (1.15.0)\n",
      "Collecting colorlover>=0.2.1\n",
      "  Using cached colorlover-0.3.0-py3-none-any.whl (8.9 kB)\n",
      "Requirement already satisfied: setuptools>=34.4.1 in c:\\users\\lenovo\\anaconda3\\lib\\site-packages (from cufflinks) (52.0.0.post20210125)\n",
      "Requirement already satisfied: ipython>=5.3.0 in c:\\users\\lenovo\\anaconda3\\lib\\site-packages (from cufflinks) (7.22.0)\n",
      "Requirement already satisfied: ipywidgets>=7.0.0 in c:\\users\\lenovo\\anaconda3\\lib\\site-packages (from cufflinks) (7.6.3)\n",
      "Requirement already satisfied: pygments in c:\\users\\lenovo\\anaconda3\\lib\\site-packages (from ipython>=5.3.0->cufflinks) (2.8.1)\n",
      "Requirement already satisfied: traitlets>=4.2 in c:\\users\\lenovo\\anaconda3\\lib\\site-packages (from ipython>=5.3.0->cufflinks) (5.0.5)\n",
      "Requirement already satisfied: backcall in c:\\users\\lenovo\\anaconda3\\lib\\site-packages (from ipython>=5.3.0->cufflinks) (0.2.0)\n",
      "Requirement already satisfied: colorama in c:\\users\\lenovo\\anaconda3\\lib\\site-packages (from ipython>=5.3.0->cufflinks) (0.4.4)\n",
      "Requirement already satisfied: jedi>=0.16 in c:\\users\\lenovo\\anaconda3\\lib\\site-packages (from ipython>=5.3.0->cufflinks) (0.17.2)\n",
      "Requirement already satisfied: pickleshare in c:\\users\\lenovo\\anaconda3\\lib\\site-packages (from ipython>=5.3.0->cufflinks) (0.7.5)\n",
      "Requirement already satisfied: prompt-toolkit!=3.0.0,!=3.0.1,<3.1.0,>=2.0.0 in c:\\users\\lenovo\\anaconda3\\lib\\site-packages (from ipython>=5.3.0->cufflinks) (3.0.17)\n",
      "Requirement already satisfied: decorator in c:\\users\\lenovo\\anaconda3\\lib\\site-packages (from ipython>=5.3.0->cufflinks) (5.0.6)\n",
      "Requirement already satisfied: nbformat>=4.2.0 in c:\\users\\lenovo\\anaconda3\\lib\\site-packages (from ipywidgets>=7.0.0->cufflinks) (5.1.3)\n",
      "Requirement already satisfied: ipykernel>=4.5.1 in c:\\users\\lenovo\\anaconda3\\lib\\site-packages (from ipywidgets>=7.0.0->cufflinks) (5.3.4)\n",
      "Requirement already satisfied: widgetsnbextension~=3.5.0 in c:\\users\\lenovo\\anaconda3\\lib\\site-packages (from ipywidgets>=7.0.0->cufflinks) (3.5.1)\n",
      "Requirement already satisfied: jupyterlab-widgets>=1.0.0 in c:\\users\\lenovo\\anaconda3\\lib\\site-packages (from ipywidgets>=7.0.0->cufflinks) (1.0.0)\n",
      "Requirement already satisfied: tornado>=4.2 in c:\\users\\lenovo\\anaconda3\\lib\\site-packages (from ipykernel>=4.5.1->ipywidgets>=7.0.0->cufflinks) (6.1)\n",
      "Requirement already satisfied: jupyter-client in c:\\users\\lenovo\\anaconda3\\lib\\site-packages (from ipykernel>=4.5.1->ipywidgets>=7.0.0->cufflinks) (6.1.12)\n",
      "Requirement already satisfied: parso<0.8.0,>=0.7.0 in c:\\users\\lenovo\\anaconda3\\lib\\site-packages (from jedi>=0.16->ipython>=5.3.0->cufflinks) (0.7.0)\n",
      "Requirement already satisfied: jupyter-core in c:\\users\\lenovo\\anaconda3\\lib\\site-packages (from nbformat>=4.2.0->ipywidgets>=7.0.0->cufflinks) (4.7.1)\n",
      "Requirement already satisfied: ipython-genutils in c:\\users\\lenovo\\anaconda3\\lib\\site-packages (from nbformat>=4.2.0->ipywidgets>=7.0.0->cufflinks) (0.2.0)\n",
      "Requirement already satisfied: jsonschema!=2.5.0,>=2.4 in c:\\users\\lenovo\\anaconda3\\lib\\site-packages (from nbformat>=4.2.0->ipywidgets>=7.0.0->cufflinks) (3.2.0)\n",
      "Requirement already satisfied: pyrsistent>=0.14.0 in c:\\users\\lenovo\\anaconda3\\lib\\site-packages (from jsonschema!=2.5.0,>=2.4->nbformat>=4.2.0->ipywidgets>=7.0.0->cufflinks) (0.17.3)\n",
      "Requirement already satisfied: attrs>=17.4.0 in c:\\users\\lenovo\\anaconda3\\lib\\site-packages (from jsonschema!=2.5.0,>=2.4->nbformat>=4.2.0->ipywidgets>=7.0.0->cufflinks) (20.3.0)\n",
      "Requirement already satisfied: python-dateutil>=2.7.3 in c:\\users\\lenovo\\anaconda3\\lib\\site-packages (from pandas>=0.19.2->cufflinks) (2.8.1)\n",
      "Requirement already satisfied: pytz>=2017.3 in c:\\users\\lenovo\\anaconda3\\lib\\site-packages (from pandas>=0.19.2->cufflinks) (2021.1)\n",
      "Requirement already satisfied: tenacity>=6.2.0 in c:\\users\\lenovo\\anaconda3\\lib\\site-packages (from plotly>=4.1.1->cufflinks) (8.0.1)\n",
      "Requirement already satisfied: wcwidth in c:\\users\\lenovo\\anaconda3\\lib\\site-packages (from prompt-toolkit!=3.0.0,!=3.0.1,<3.1.0,>=2.0.0->ipython>=5.3.0->cufflinks) (0.2.5)\n",
      "Requirement already satisfied: notebook>=4.4.1 in c:\\users\\lenovo\\anaconda3\\lib\\site-packages (from widgetsnbextension~=3.5.0->ipywidgets>=7.0.0->cufflinks) (6.3.0)\n",
      "Requirement already satisfied: jinja2 in c:\\users\\lenovo\\anaconda3\\lib\\site-packages (from notebook>=4.4.1->widgetsnbextension~=3.5.0->ipywidgets>=7.0.0->cufflinks) (2.11.3)\n",
      "Requirement already satisfied: terminado>=0.8.3 in c:\\users\\lenovo\\anaconda3\\lib\\site-packages (from notebook>=4.4.1->widgetsnbextension~=3.5.0->ipywidgets>=7.0.0->cufflinks) (0.9.4)\n",
      "Requirement already satisfied: argon2-cffi in c:\\users\\lenovo\\anaconda3\\lib\\site-packages (from notebook>=4.4.1->widgetsnbextension~=3.5.0->ipywidgets>=7.0.0->cufflinks) (20.1.0)\n",
      "Requirement already satisfied: nbconvert in c:\\users\\lenovo\\anaconda3\\lib\\site-packages (from notebook>=4.4.1->widgetsnbextension~=3.5.0->ipywidgets>=7.0.0->cufflinks) (6.0.7)\n",
      "Requirement already satisfied: Send2Trash>=1.5.0 in c:\\users\\lenovo\\anaconda3\\lib\\site-packages (from notebook>=4.4.1->widgetsnbextension~=3.5.0->ipywidgets>=7.0.0->cufflinks) (1.5.0)\n",
      "Requirement already satisfied: prometheus-client in c:\\users\\lenovo\\anaconda3\\lib\\site-packages (from notebook>=4.4.1->widgetsnbextension~=3.5.0->ipywidgets>=7.0.0->cufflinks) (0.10.1)\n",
      "Requirement already satisfied: pyzmq>=17 in c:\\users\\lenovo\\anaconda3\\lib\\site-packages (from notebook>=4.4.1->widgetsnbextension~=3.5.0->ipywidgets>=7.0.0->cufflinks) (20.0.0)\n",
      "Requirement already satisfied: pywin32>=1.0 in c:\\users\\lenovo\\anaconda3\\lib\\site-packages (from jupyter-core->nbformat>=4.2.0->ipywidgets>=7.0.0->cufflinks) (227)\n",
      "Requirement already satisfied: pywinpty>=0.5 in c:\\users\\lenovo\\anaconda3\\lib\\site-packages (from terminado>=0.8.3->notebook>=4.4.1->widgetsnbextension~=3.5.0->ipywidgets>=7.0.0->cufflinks) (0.5.7)\n",
      "Requirement already satisfied: cffi>=1.0.0 in c:\\users\\lenovo\\anaconda3\\lib\\site-packages (from argon2-cffi->notebook>=4.4.1->widgetsnbextension~=3.5.0->ipywidgets>=7.0.0->cufflinks) (1.14.5)\n",
      "Requirement already satisfied: pycparser in c:\\users\\lenovo\\anaconda3\\lib\\site-packages (from cffi>=1.0.0->argon2-cffi->notebook>=4.4.1->widgetsnbextension~=3.5.0->ipywidgets>=7.0.0->cufflinks) (2.20)\n",
      "Requirement already satisfied: MarkupSafe>=0.23 in c:\\users\\lenovo\\anaconda3\\lib\\site-packages (from jinja2->notebook>=4.4.1->widgetsnbextension~=3.5.0->ipywidgets>=7.0.0->cufflinks) (1.1.1)\n",
      "Requirement already satisfied: pandocfilters>=1.4.1 in c:\\users\\lenovo\\anaconda3\\lib\\site-packages (from nbconvert->notebook>=4.4.1->widgetsnbextension~=3.5.0->ipywidgets>=7.0.0->cufflinks) (1.4.3)\n",
      "Requirement already satisfied: defusedxml in c:\\users\\lenovo\\anaconda3\\lib\\site-packages (from nbconvert->notebook>=4.4.1->widgetsnbextension~=3.5.0->ipywidgets>=7.0.0->cufflinks) (0.7.1)\n",
      "Requirement already satisfied: entrypoints>=0.2.2 in c:\\users\\lenovo\\anaconda3\\lib\\site-packages (from nbconvert->notebook>=4.4.1->widgetsnbextension~=3.5.0->ipywidgets>=7.0.0->cufflinks) (0.3)\n",
      "Requirement already satisfied: jupyterlab-pygments in c:\\users\\lenovo\\anaconda3\\lib\\site-packages (from nbconvert->notebook>=4.4.1->widgetsnbextension~=3.5.0->ipywidgets>=7.0.0->cufflinks) (0.1.2)\n",
      "Requirement already satisfied: mistune<2,>=0.8.1 in c:\\users\\lenovo\\anaconda3\\lib\\site-packages (from nbconvert->notebook>=4.4.1->widgetsnbextension~=3.5.0->ipywidgets>=7.0.0->cufflinks) (0.8.4)\n",
      "Requirement already satisfied: bleach in c:\\users\\lenovo\\anaconda3\\lib\\site-packages (from nbconvert->notebook>=4.4.1->widgetsnbextension~=3.5.0->ipywidgets>=7.0.0->cufflinks) (3.3.0)\n",
      "Requirement already satisfied: nbclient<0.6.0,>=0.5.0 in c:\\users\\lenovo\\anaconda3\\lib\\site-packages (from nbconvert->notebook>=4.4.1->widgetsnbextension~=3.5.0->ipywidgets>=7.0.0->cufflinks) (0.5.3)\n"
     ]
    },
    {
     "name": "stdout",
     "output_type": "stream",
     "text": [
      "Requirement already satisfied: testpath in c:\\users\\lenovo\\anaconda3\\lib\\site-packages (from nbconvert->notebook>=4.4.1->widgetsnbextension~=3.5.0->ipywidgets>=7.0.0->cufflinks) (0.4.4)\n",
      "Requirement already satisfied: async-generator in c:\\users\\lenovo\\anaconda3\\lib\\site-packages (from nbclient<0.6.0,>=0.5.0->nbconvert->notebook>=4.4.1->widgetsnbextension~=3.5.0->ipywidgets>=7.0.0->cufflinks) (1.10)\n",
      "Requirement already satisfied: nest-asyncio in c:\\users\\lenovo\\anaconda3\\lib\\site-packages (from nbclient<0.6.0,>=0.5.0->nbconvert->notebook>=4.4.1->widgetsnbextension~=3.5.0->ipywidgets>=7.0.0->cufflinks) (1.5.1)\n",
      "Requirement already satisfied: packaging in c:\\users\\lenovo\\anaconda3\\lib\\site-packages (from bleach->nbconvert->notebook>=4.4.1->widgetsnbextension~=3.5.0->ipywidgets>=7.0.0->cufflinks) (20.9)\n",
      "Requirement already satisfied: webencodings in c:\\users\\lenovo\\anaconda3\\lib\\site-packages (from bleach->nbconvert->notebook>=4.4.1->widgetsnbextension~=3.5.0->ipywidgets>=7.0.0->cufflinks) (0.5.1)\n",
      "Requirement already satisfied: pyparsing>=2.0.2 in c:\\users\\lenovo\\anaconda3\\lib\\site-packages (from packaging->bleach->nbconvert->notebook>=4.4.1->widgetsnbextension~=3.5.0->ipywidgets>=7.0.0->cufflinks) (2.4.7)\n",
      "Building wheels for collected packages: cufflinks\n",
      "  Building wheel for cufflinks (setup.py): started\n",
      "  Building wheel for cufflinks (setup.py): finished with status 'done'\n",
      "  Created wheel for cufflinks: filename=cufflinks-0.17.3-py3-none-any.whl size=68724 sha256=860e4b84772ed11ee719a5c3fa22ba7cecba865ef7e7d80e6b2df1dbeb14b653\n",
      "  Stored in directory: c:\\users\\lenovo\\appdata\\local\\pip\\cache\\wheels\\6b\\76\\62\\6da97734911ffcbdd559fd1a3f28526321f0ae699182a23866\n",
      "Successfully built cufflinks\n",
      "Installing collected packages: colorlover, cufflinks\n",
      "Successfully installed colorlover-0.3.0 cufflinks-0.17.3\n"
     ]
    },
    {
     "data": {
      "text/plain": [
       "0"
      ]
     },
     "execution_count": 4,
     "metadata": {},
     "output_type": "execute_result"
    }
   ],
   "source": [
    "pip.main(['install','cufflinks'])"
   ]
  },
  {
   "cell_type": "code",
   "execution_count": 5,
   "id": "5df9930b",
   "metadata": {},
   "outputs": [],
   "source": [
    "import cufflinks as cf"
   ]
  },
  {
   "cell_type": "code",
   "execution_count": 7,
   "id": "d3c5b33a",
   "metadata": {},
   "outputs": [],
   "source": [
    "from plotly.offline import download_plotlyjs,init_notebook_mode,plot,iplot"
   ]
  },
  {
   "cell_type": "code",
   "execution_count": 8,
   "id": "e48cfc8c",
   "metadata": {},
   "outputs": [
    {
     "data": {
      "text/html": [
       "        <script type=\"text/javascript\">\n",
       "        window.PlotlyConfig = {MathJaxConfig: 'local'};\n",
       "        if (window.MathJax) {MathJax.Hub.Config({SVG: {font: \"STIX-Web\"}});}\n",
       "        if (typeof require !== 'undefined') {\n",
       "        require.undef(\"plotly\");\n",
       "        requirejs.config({\n",
       "            paths: {\n",
       "                'plotly': ['https://cdn.plot.ly/plotly-2.2.0.min']\n",
       "            }\n",
       "        });\n",
       "        require(['plotly'], function(Plotly) {\n",
       "            window._Plotly = Plotly;\n",
       "        });\n",
       "        }\n",
       "        </script>\n",
       "        "
      ]
     },
     "metadata": {},
     "output_type": "display_data"
    }
   ],
   "source": [
    "init_notebook_mode(connected=True)"
   ]
  },
  {
   "cell_type": "code",
   "execution_count": 9,
   "id": "da877760",
   "metadata": {},
   "outputs": [
    {
     "data": {
      "text/html": [
       "        <script type=\"text/javascript\">\n",
       "        window.PlotlyConfig = {MathJaxConfig: 'local'};\n",
       "        if (window.MathJax) {MathJax.Hub.Config({SVG: {font: \"STIX-Web\"}});}\n",
       "        if (typeof require !== 'undefined') {\n",
       "        require.undef(\"plotly\");\n",
       "        requirejs.config({\n",
       "            paths: {\n",
       "                'plotly': ['https://cdn.plot.ly/plotly-2.2.0.min']\n",
       "            }\n",
       "        });\n",
       "        require(['plotly'], function(Plotly) {\n",
       "            window._Plotly = Plotly;\n",
       "        });\n",
       "        }\n",
       "        </script>\n",
       "        "
      ]
     },
     "metadata": {},
     "output_type": "display_data"
    }
   ],
   "source": [
    "cf.go_offline()"
   ]
  },
  {
   "cell_type": "code",
   "execution_count": 11,
   "id": "f0cadd8e",
   "metadata": {},
   "outputs": [],
   "source": [
    "#DATA\n",
    "df=pd.DataFrame(np.random.randn(100,4),columns='A B C D'.split())"
   ]
  },
  {
   "cell_type": "code",
   "execution_count": 17,
   "id": "636e01fd",
   "metadata": {},
   "outputs": [
    {
     "data": {
      "text/plain": [
       "<AxesSubplot:>"
      ]
     },
     "execution_count": 17,
     "metadata": {},
     "output_type": "execute_result"
    },
    {
     "data": {
      "image/png": "[encoded data removed]",
      "text/plain": [
       "<Figure size 432x288 with 1 Axes>"
      ]
     },
     "metadata": {
      "needs_background": "light"
     },
     "output_type": "display_data"
    }
   ],
   "source": [
    "df.plot()"
   ]
  },
  {
   "cell_type": "code",
   "execution_count": 14,
   "id": "623fa342",
   "metadata": {},
   "outputs": [
    {
     "data": {
      "text/html": [
       "<div>\n",
       "<style scoped>\n",
       "    .dataframe tbody tr th:only-of-type {\n",
       "        vertical-align: middle;\n",
       "    }\n",
       "\n",
       "    .dataframe tbody tr th {\n",
       "        vertical-align: top;\n",
       "    }\n",
       "\n",
       "    .dataframe thead th {\n",
       "        text-align: right;\n",
       "    }\n",
       "</style>\n",
       "<table border=\"1\" class=\"dataframe\">\n",
       "  <thead>\n",
       "    <tr style=\"text-align: right;\">\n",
       "      <th></th>\n",
       "      <th>Category</th>\n",
       "      <th>Values</th>\n",
       "    </tr>\n",
       "  </thead>\n",
       "  <tbody>\n",
       "    <tr>\n",
       "      <th>0</th>\n",
       "      <td>A</td>\n",
       "      <td>32</td>\n",
       "    </tr>\n",
       "    <tr>\n",
       "      <th>1</th>\n",
       "      <td>B</td>\n",
       "      <td>43</td>\n",
       "    </tr>\n",
       "    <tr>\n",
       "      <th>2</th>\n",
       "      <td>C</td>\n",
       "      <td>50</td>\n",
       "    </tr>\n",
       "  </tbody>\n",
       "</table>\n",
       "</div>"
      ],
      "text/plain": [
       "  Category  Values\n",
       "0        A      32\n",
       "1        B      43\n",
       "2        C      50"
      ]
     },
     "execution_count": 14,
     "metadata": {},
     "output_type": "execute_result"
    }
   ],
   "source": [
    "df2=pd.DataFrame({'Category':['A','B','C'],'Values':[32,43,50]})\n",
    "df2"
   ]
  },
  {
   "cell_type": "code",
   "execution_count": 16,
   "id": "dcdcca3e",
   "metadata": {},
   "outputs": [
    {
     "data": {
      "text/html": [
       "<div>\n",
       "<style scoped>\n",
       "    .dataframe tbody tr th:only-of-type {\n",
       "        vertical-align: middle;\n",
       "    }\n",
       "\n",
       "    .dataframe tbody tr th {\n",
       "        vertical-align: top;\n",
       "    }\n",
       "\n",
       "    .dataframe thead th {\n",
       "        text-align: right;\n",
       "    }\n",
       "</style>\n",
       "<table border=\"1\" class=\"dataframe\">\n",
       "  <thead>\n",
       "    <tr style=\"text-align: right;\">\n",
       "      <th></th>\n",
       "      <th>A</th>\n",
       "      <th>B</th>\n",
       "      <th>C</th>\n",
       "      <th>D</th>\n",
       "    </tr>\n",
       "  </thead>\n",
       "  <tbody>\n",
       "    <tr>\n",
       "      <th>0</th>\n",
       "      <td>-0.342253</td>\n",
       "      <td>0.990096</td>\n",
       "      <td>-0.243601</td>\n",
       "      <td>-0.899378</td>\n",
       "    </tr>\n",
       "    <tr>\n",
       "      <th>1</th>\n",
       "      <td>0.489245</td>\n",
       "      <td>-0.988945</td>\n",
       "      <td>2.629070</td>\n",
       "      <td>-0.028056</td>\n",
       "    </tr>\n",
       "    <tr>\n",
       "      <th>2</th>\n",
       "      <td>0.628930</td>\n",
       "      <td>-0.937835</td>\n",
       "      <td>0.266137</td>\n",
       "      <td>0.561204</td>\n",
       "    </tr>\n",
       "    <tr>\n",
       "      <th>3</th>\n",
       "      <td>-0.962344</td>\n",
       "      <td>-0.546369</td>\n",
       "      <td>0.424800</td>\n",
       "      <td>0.450171</td>\n",
       "    </tr>\n",
       "    <tr>\n",
       "      <th>4</th>\n",
       "      <td>0.521837</td>\n",
       "      <td>2.027152</td>\n",
       "      <td>0.156914</td>\n",
       "      <td>-2.233081</td>\n",
       "    </tr>\n",
       "    <tr>\n",
       "      <th>...</th>\n",
       "      <td>...</td>\n",
       "      <td>...</td>\n",
       "      <td>...</td>\n",
       "      <td>...</td>\n",
       "    </tr>\n",
       "    <tr>\n",
       "      <th>95</th>\n",
       "      <td>1.013314</td>\n",
       "      <td>-0.101790</td>\n",
       "      <td>0.078143</td>\n",
       "      <td>-0.077172</td>\n",
       "    </tr>\n",
       "    <tr>\n",
       "      <th>96</th>\n",
       "      <td>0.314798</td>\n",
       "      <td>-1.347235</td>\n",
       "      <td>-0.022512</td>\n",
       "      <td>-0.943959</td>\n",
       "    </tr>\n",
       "    <tr>\n",
       "      <th>97</th>\n",
       "      <td>2.114554</td>\n",
       "      <td>-0.656954</td>\n",
       "      <td>-1.250557</td>\n",
       "      <td>-0.332572</td>\n",
       "    </tr>\n",
       "    <tr>\n",
       "      <th>98</th>\n",
       "      <td>-1.027783</td>\n",
       "      <td>0.943778</td>\n",
       "      <td>-0.415707</td>\n",
       "      <td>-0.335288</td>\n",
       "    </tr>\n",
       "    <tr>\n",
       "      <th>99</th>\n",
       "      <td>-0.783802</td>\n",
       "      <td>-3.005804</td>\n",
       "      <td>-0.699096</td>\n",
       "      <td>0.453505</td>\n",
       "    </tr>\n",
       "  </tbody>\n",
       "</table>\n",
       "<p>100 rows × 4 columns</p>\n",
       "</div>"
      ],
      "text/plain": [
       "           A         B         C         D\n",
       "0  -0.342253  0.990096 -0.243601 -0.899378\n",
       "1   0.489245 -0.988945  2.629070 -0.028056\n",
       "2   0.628930 -0.937835  0.266137  0.561204\n",
       "3  -0.962344 -0.546369  0.424800  0.450171\n",
       "4   0.521837  2.027152  0.156914 -2.233081\n",
       "..       ...       ...       ...       ...\n",
       "95  1.013314 -0.101790  0.078143 -0.077172\n",
       "96  0.314798 -1.347235 -0.022512 -0.943959\n",
       "97  2.114554 -0.656954 -1.250557 -0.332572\n",
       "98 -1.027783  0.943778 -0.415707 -0.335288\n",
       "99 -0.783802 -3.005804 -0.699096  0.453505\n",
       "\n",
       "[100 rows x 4 columns]"
      ]
     },
     "execution_count": 16,
     "metadata": {},
     "output_type": "execute_result"
    }
   ],
   "source": [
    "df"
   ]
  },
  {
   "cell_type": "code",
   "execution_count": 20,
   "id": "ca9f22bb",
   "metadata": {},
   "outputs": [
    {
     "data": {
      "application/vnd.plotly.v1+json": {
       "config": {
        "linkText": "Export to plot.ly",
        "plotlyServerURL": "https://plot.ly",
        "showLink": true
       },
       "data": [
        {
         "line": {
          "color": "rgba(255, 153, 51, 1.0)",
          "dash": "solid",
          "shape": "linear",
          "width": 1.3
         },
         "mode": "lines",
         "name": "A",
         "text": "",
         "type": "scatter",
         "x": [
          0,
          1,
          2,
          3,
          4,
          5,
          6,
          7,
          8,
          9,
          10,
          11,
          12,
          13,
          14,
          15,
          16,
          17,
          18,
          19,
          20,
          21,
          22,
          23,
          24,
          25,
          26,
          27,
          28,
          29,
          30,
          31,
          32,
          33,
          34,
          35,
          36,
          37,
          38,
          39,
          40,
          41,
          42,
          43,
          44,
          45,
          46,
          47,
          48,
          49,
          50,
          51,
          52,
          53,
          54,
          55,
          56,
          57,
          58,
          59,
          60,
          61,
          62,
          63,
          64,
          65,
          66,
          67,
          68,
          69,
          70,
          71,
          72,
          73,
          74,
          75,
          76,
          77,
          78,
          79,
          80,
          81,
          82,
          83,
          84,
          85,
          86,
          87,
          88,
          89,
          90,
          91,
          92,
          93,
          94,
          95,
          96,
          97,
          98,
          99
         ],
         "y": [
          -0.34225299009874355,
          0.4892447760011251,
          0.6289296113249515,
          -0.9623444735331236,
          0.5218374246730623,
          1.0872779779546433,
          -2.5446001105676275,
          -0.2858836687280843,
          1.3065777779854995,
          -2.4104707774726113,
          1.3369186035954843,
          0.3838707492935451,
          -0.5526656706871299,
          -0.523243795919335,
          -0.5219209505049524,
          0.7876928140633233,
          -0.9458273989118097,
          0.6798036848133264,
          -0.7326321084090412,
          2.9676666789696204,
          -0.05694316110548828,
          -0.3901687948679766,
          0.39042317054449927,
          -0.5097476850302313,
          -0.06005776882918707,
          1.8651889477854269,
          0.6825596947887341,
          -0.660930834038989,
          0.7457389149047722,
          0.5831350759677145,
          0.20565331727263178,
          0.12137563657220368,
          0.14222541475987407,
          -0.21964030922882513,
          -0.1403522050946297,
          0.9130048247460788,
          -0.5324825569805095,
          0.8357026232545052,
          -0.05136640945025422,
          -0.15442903874892236,
          0.4427417326955754,
          -1.4618826570001109,
          -0.23457977919541678,
          1.5819006525811172,
          1.7673116734486296,
          0.5244123082679875,
          -1.4960518062062593,
          -0.08993988733773665,
          0.8209575792192505,
          0.277831732542309,
          1.9225576880083868,
          1.757171966228769,
          -2.138688527959561,
          -1.3709748402957949,
          -0.7155997219888818,
          0.3317227996255702,
          -1.0043614591743062,
          -1.0261278984258224,
          -1.4276290468878337,
          -1.0891931758991331,
          0.2035269789201755,
          0.02473667551913148,
          0.19551292413294072,
          -0.19036560623878837,
          -1.8010591597777204,
          0.8032033734232925,
          -1.0990490358758565,
          0.7760903618580065,
          -0.5271828141604505,
          -0.7383131855752465,
          -0.27543257249948844,
          -0.037819243298348515,
          1.2032094442658468,
          0.785084605957565,
          0.7503288870253916,
          -0.8472573692739707,
          -0.37625320843617843,
          -1.2657485333486633,
          1.7888324677330751,
          0.7499899464558957,
          0.3247253443598456,
          1.1096782207812264,
          0.28418622192332155,
          0.8318537645554853,
          2.0139557344103043,
          0.3476274485672122,
          -0.7967921761246892,
          -0.12058745799601407,
          0.43531389145934873,
          0.35347704597191093,
          -1.3720175798793395,
          -1.2811737166611563,
          0.04571690779276586,
          1.8411898245359177,
          -0.34353168706576764,
          1.0133136240424316,
          0.31479801507956323,
          2.1145539751315687,
          -1.0277828928921748,
          -0.7838019655038211
         ]
        },
        {
         "line": {
          "color": "rgba(55, 128, 191, 1.0)",
          "dash": "solid",
          "shape": "linear",
          "width": 1.3
         },
         "mode": "lines",
         "name": "B",
         "text": "",
         "type": "scatter",
         "x": [
          0,
          1,
          2,
          3,
          4,
          5,
          6,
          7,
          8,
          9,
          10,
          11,
          12,
          13,
          14,
          15,
          16,
          17,
          18,
          19,
          20,
          21,
          22,
          23,
          24,
          25,
          26,
          27,
          28,
          29,
          30,
          31,
          32,
          33,
          34,
          35,
          36,
          37,
          38,
          39,
          40,
          41,
          42,
          43,
          44,
          45,
          46,
          47,
          48,
          49,
          50,
          51,
          52,
          53,
          54,
          55,
          56,
          57,
          58,
          59,
          60,
          61,
          62,
          63,
          64,
          65,
          66,
          67,
          68,
          69,
          70,
          71,
          72,
          73,
          74,
          75,
          76,
          77,
          78,
          79,
          80,
          81,
          82,
          83,
          84,
          85,
          86,
          87,
          88,
          89,
          90,
          91,
          92,
          93,
          94,
          95,
          96,
          97,
          98,
          99
         ],
         "y": [
          0.9900955482666974,
          -0.9889452577232196,
          -0.9378354850254641,
          -0.5463691152022653,
          2.0271518857018807,
          0.19925957847537346,
          -0.7786039713483985,
          0.2520015620313144,
          -0.6188427581785232,
          0.419814842315549,
          -1.8602683357380412,
          0.7728522626338924,
          0.23979797259129315,
          1.1297423815295664,
          -0.10475559546208067,
          -0.009461289991414178,
          0.7113080068140527,
          -1.4786843116096715,
          -1.3201954219731604,
          0.07031698798374092,
          1.6442459691777473,
          -0.13952067189279416,
          -0.9250117184627819,
          -1.730634623494131,
          -1.2546443084973622,
          1.2139408010780905,
          -0.5844745801129339,
          -0.29554717166621897,
          0.27281484542731976,
          0.25318894794907465,
          -0.24638066248007567,
          -0.3001463717227039,
          -0.47843477549201796,
          1.5339025213459436,
          1.237395379686162,
          -0.214093862004028,
          -0.3867947061510151,
          0.20025306551505054,
          0.5518586459046209,
          -1.2649171383821682,
          -0.31394703787397016,
          2.624200579430331,
          -0.7124402468346807,
          0.47598211399691526,
          0.3543661152225115,
          -0.7416521439997066,
          0.11901051948687877,
          -1.228030696683017,
          -0.5254167537146217,
          -0.8180277127043986,
          0.9767586529113346,
          1.2707583473030304,
          -0.1430902898326658,
          0.3866316300901333,
          0.918493501529165,
          0.7382411409509697,
          -1.7872095559123204,
          -0.05138925422187474,
          -1.3099282607443965,
          0.3619874357419031,
          0.2473659952388168,
          0.673183153770201,
          -0.42378629704185045,
          -0.5218702450381305,
          0.3643796819545949,
          -0.8571232551495427,
          0.6196384121373644,
          -0.5532877791773987,
          -0.6985239271046452,
          -0.4971711238652195,
          0.9837197737497394,
          0.151109103477177,
          -0.45528688478792184,
          -0.2940979367596788,
          -1.1357511274305079,
          1.7291497641174005,
          -0.5315171160860179,
          0.5412751513880071,
          2.319270328199936,
          1.105881259664581,
          0.24183604497834638,
          -0.12739001798747068,
          0.15509861976732744,
          -1.0996109070986873,
          0.23972510178264853,
          -0.08154335854543714,
          -1.8255709836497878,
          1.8463351692191043,
          1.820835557120743,
          0.9539408365908607,
          -1.7026480093372356,
          0.736197256641093,
          -0.21103967120123218,
          0.37668614877938134,
          -0.8927141407003845,
          -0.10178995397251908,
          -1.3472346892602074,
          -0.6569542813244048,
          0.9437776474422417,
          -3.0058043986457124
         ]
        },
        {
         "line": {
          "color": "rgba(50, 171, 96, 1.0)",
          "dash": "solid",
          "shape": "linear",
          "width": 1.3
         },
         "mode": "lines",
         "name": "C",
         "text": "",
         "type": "scatter",
         "x": [
          0,
          1,
          2,
          3,
          4,
          5,
          6,
          7,
          8,
          9,
          10,
          11,
          12,
          13,
          14,
          15,
          16,
          17,
          18,
          19,
          20,
          21,
          22,
          23,
          24,
          25,
          26,
          27,
          28,
          29,
          30,
          31,
          32,
          33,
          34,
          35,
          36,
          37,
          38,
          39,
          40,
          41,
          42,
          43,
          44,
          45,
          46,
          47,
          48,
          49,
          50,
          51,
          52,
          53,
          54,
          55,
          56,
          57,
          58,
          59,
          60,
          61,
          62,
          63,
          64,
          65,
          66,
          67,
          68,
          69,
          70,
          71,
          72,
          73,
          74,
          75,
          76,
          77,
          78,
          79,
          80,
          81,
          82,
          83,
          84,
          85,
          86,
          87,
          88,
          89,
          90,
          91,
          92,
          93,
          94,
          95,
          96,
          97,
          98,
          99
         ],
         "y": [
          -0.24360119416966694,
          2.6290698676150748,
          0.2661367149716258,
          0.4248000862046849,
          0.15691359647032885,
          1.2669766461076717,
          -0.7458482705573792,
          -1.0425577762968143,
          -0.9918293586883078,
          1.1752207914133415,
          0.8237476957175225,
          1.1559167419733656,
          -0.26544194102746643,
          -1.756871692208469,
          -0.4328200632631489,
          -1.5946234612917132,
          -0.7754468725671481,
          2.456890194326189,
          0.25177654767670976,
          -0.5276250778756187,
          -0.41515353632559016,
          -0.9702083336083774,
          -0.5386885727546051,
          0.37514521710971366,
          0.42471750848556794,
          0.9123108730469526,
          -1.3814941779525685,
          1.5467689361155261,
          -1.006894590393866,
          0.0956355518057554,
          0.7466898784983458,
          -0.24213182443022957,
          -0.9250827556716021,
          -1.5203503273531633,
          -0.4977984822613209,
          -0.6410172305332248,
          0.0004638774932113429,
          0.8313405708447927,
          2.019266841869993,
          0.5943772196931862,
          -0.30837067424611286,
          0.9104799562812206,
          0.19755570215657497,
          0.2773208278157791,
          -1.0387187975724872,
          -0.506375180681545,
          -0.5516849839146819,
          0.7116617071345542,
          -0.19579766373118063,
          0.42693167129622245,
          -0.8331237335520756,
          0.5016062861936484,
          -0.6937427386910572,
          -0.49746785662625626,
          -1.7118428797935947,
          -0.7605643980862589,
          -0.5390131077084975,
          -0.09681021739978073,
          0.540645279267166,
          -0.48285349611885797,
          0.025786372736263302,
          1.8235643881611308,
          -1.2932590197710199,
          -0.6465104579661324,
          2.0408865397934393,
          0.7642965793643237,
          -0.8265002416929838,
          0.1019702069298536,
          0.8725592650972407,
          -1.588148164340174,
          -1.4228936331224291,
          0.3031964853541781,
          -0.07949730751640986,
          -2.39910314507416,
          -0.7029900183390284,
          0.8408133054957266,
          0.6166977677036451,
          -0.9940793947697844,
          -0.534675036167626,
          -0.14707923691588887,
          -2.6234047287938913,
          -1.3474097174098156,
          -0.1421345213333329,
          0.008835708481921363,
          -1.2515389770614476,
          -0.6441581344355697,
          -0.5934360296853288,
          -0.027506673382790198,
          -0.23057019069383758,
          -0.4883458423910079,
          -1.22605047743705,
          -0.6061666040960666,
          -1.0125377919921394,
          -0.3320753382492649,
          0.766639572361874,
          0.07814275463062237,
          -0.02251167615807235,
          -1.2505570063745404,
          -0.41570718077541857,
          -0.6990955371320429
         ]
        },
        {
         "line": {
          "color": "rgba(128, 0, 128, 1.0)",
          "dash": "solid",
          "shape": "linear",
          "width": 1.3
         },
         "mode": "lines",
         "name": "D",
         "text": "",
         "type": "scatter",
         "x": [
          0,
          1,
          2,
          3,
          4,
          5,
          6,
          7,
          8,
          9,
          10,
          11,
          12,
          13,
          14,
          15,
          16,
          17,
          18,
          19,
          20,
          21,
          22,
          23,
          24,
          25,
          26,
          27,
          28,
          29,
          30,
          31,
          32,
          33,
          34,
          35,
          36,
          37,
          38,
          39,
          40,
          41,
          42,
          43,
          44,
          45,
          46,
          47,
          48,
          49,
          50,
          51,
          52,
          53,
          54,
          55,
          56,
          57,
          58,
          59,
          60,
          61,
          62,
          63,
          64,
          65,
          66,
          67,
          68,
          69,
          70,
          71,
          72,
          73,
          74,
          75,
          76,
          77,
          78,
          79,
          80,
          81,
          82,
          83,
          84,
          85,
          86,
          87,
          88,
          89,
          90,
          91,
          92,
          93,
          94,
          95,
          96,
          97,
          98,
          99
         ],
         "y": [
          -0.8993780379502047,
          -0.02805590171480415,
          0.5612035642976496,
          0.45017054087238884,
          -2.233080770879555,
          0.3739742395124629,
          -0.5774356122456568,
          -0.6717884367620782,
          0.4832487351689567,
          0.761435996894435,
          -0.04059328762487213,
          0.5101128605312929,
          0.19902095165716177,
          -1.5411945525961641,
          -0.45683768831453736,
          3.2567902677591,
          -0.24721414340764963,
          -1.4596725990248305,
          -2.4248001490278375,
          0.12611197215654926,
          1.9234059086665694,
          -0.7415422179044057,
          0.5318699546445996,
          0.3411788196455518,
          -0.30164340637185694,
          0.9763135783972272,
          -0.21897997321007678,
          0.354782893192736,
          1.9263999024854617,
          -1.0069515783908103,
          -0.0914288423605711,
          0.9977226852097353,
          -0.16959396494707218,
          -0.9640722535068827,
          0.26028820686903065,
          0.6912992723236513,
          -0.4203592662512756,
          -1.3261158849795756,
          -1.1453604179470454,
          -0.9227383863226544,
          0.0033439820871036955,
          -0.29155084059205694,
          -1.192411953625304,
          0.34346615046657125,
          -1.0908146569416461,
          1.5747384092161831,
          -0.3905808061673566,
          -1.2576203889566724,
          -0.9292308926637166,
          1.9194370566526706,
          -1.6507047842344582,
          0.8631548922913439,
          1.2991380618444575,
          -3.2615524161869196,
          -1.0717834772800015,
          1.2630698522056911,
          3.1470570330562615,
          -0.13404492840812246,
          1.9029965756941507,
          0.5312264148980672,
          -1.0776998955177377,
          0.21816766458394263,
          0.951581629546409,
          0.35406437532113627,
          0.6726097055720566,
          1.5289951046519916,
          0.8872488457004313,
          1.5278424465510052,
          -0.5629686924888644,
          -0.6833421677015717,
          0.5763413458651462,
          0.12764236871541115,
          1.180397231496056,
          0.340318053147227,
          0.002726022685278746,
          1.7713800150640246,
          1.2982996566138594,
          -1.0523866869149032,
          -0.779700669840491,
          -1.8575621845742905,
          -0.7110915002681697,
          -1.4997360103036437,
          0.7950770689699234,
          0.52438561059342,
          0.2576584909044913,
          -1.1552940935623224,
          1.3039721355476719,
          1.8623529103560788,
          -0.15667476232146516,
          0.22218725609677162,
          0.1133313728764875,
          -0.7881581017112002,
          0.6817806926876091,
          -0.38247769385962327,
          -0.745334160946617,
          -0.07717189151842606,
          -0.9439590114540767,
          -0.33257224030030497,
          -0.33528789414779003,
          0.45350533599463455
         ]
        }
       ],
       "layout": {
        "legend": {
         "bgcolor": "#F5F6F9",
         "font": {
          "color": "#4D5663"
         }
        },
        "paper_bgcolor": "#F5F6F9",
        "plot_bgcolor": "#F5F6F9",
        "template": {
         "data": {
          "bar": [
           {
            "error_x": {
             "color": "#2a3f5f"
            },
            "error_y": {
             "color": "#2a3f5f"
            },
            "marker": {
             "line": {
              "color": "#E5ECF6",
              "width": 0.5
             },
             "pattern": {
              "fillmode": "overlay",
              "size": 10,
              "solidity": 0.2
             }
            },
            "type": "bar"
           }
          ],
          "barpolar": [
           {
            "marker": {
             "line": {
              "color": "#E5ECF6",
              "width": 0.5
             },
             "pattern": {
              "fillmode": "overlay",
              "size": 10,
              "solidity": 0.2
             }
            },
            "type": "barpolar"
           }
          ],
          "carpet": [
           {
            "aaxis": {
             "endlinecolor": "#2a3f5f",
             "gridcolor": "white",
             "linecolor": "white",
             "minorgridcolor": "white",
             "startlinecolor": "#2a3f5f"
            },
            "baxis": {
             "endlinecolor": "#2a3f5f",
             "gridcolor": "white",
             "linecolor": "white",
             "minorgridcolor": "white",
             "startlinecolor": "#2a3f5f"
            },
            "type": "carpet"
           }
          ],
          "choropleth": [
           {
            "colorbar": {
             "outlinewidth": 0,
             "ticks": ""
            },
            "type": "choropleth"
           }
          ],
          "contour": [
           {
            "colorbar": {
             "outlinewidth": 0,
             "ticks": ""
            },
            "colorscale": [
             [
              0,
              "#0d0887"
             ],
             [
              0.1111111111111111,
              "#46039f"
             ],
             [
              0.2222222222222222,
              "#7201a8"
             ],
             [
              0.3333333333333333,
              "#9c179e"
             ],
             [
              0.4444444444444444,
              "#bd3786"
             ],
             [
              0.5555555555555556,
              "#d8576b"
             ],
             [
              0.6666666666666666,
              "#ed7953"
             ],
             [
              0.7777777777777778,
              "#fb9f3a"
             ],
             [
              0.8888888888888888,
              "#fdca26"
             ],
             [
              1,
              "#f0f921"
             ]
            ],
            "type": "contour"
           }
          ],
          "contourcarpet": [
           {
            "colorbar": {
             "outlinewidth": 0,
             "ticks": ""
            },
            "type": "contourcarpet"
           }
          ],
          "heatmap": [
           {
            "colorbar": {
             "outlinewidth": 0,
             "ticks": ""
            },
            "colorscale": [
             [
              0,
              "#0d0887"
             ],
             [
              0.1111111111111111,
              "#46039f"
             ],
             [
              0.2222222222222222,
              "#7201a8"
             ],
             [
              0.3333333333333333,
              "#9c179e"
             ],
             [
              0.4444444444444444,
              "#bd3786"
             ],
             [
              0.5555555555555556,
              "#d8576b"
             ],
             [
              0.6666666666666666,
              "#ed7953"
             ],
             [
              0.7777777777777778,
              "#fb9f3a"
             ],
             [
              0.8888888888888888,
              "#fdca26"
             ],
             [
              1,
              "#f0f921"
             ]
            ],
            "type": "heatmap"
           }
          ],
          "heatmapgl": [
           {
            "colorbar": {
             "outlinewidth": 0,
             "ticks": ""
            },
            "colorscale": [
             [
              0,
              "#0d0887"
             ],
             [
              0.1111111111111111,
              "#46039f"
             ],
             [
              0.2222222222222222,
              "#7201a8"
             ],
             [
              0.3333333333333333,
              "#9c179e"
             ],
             [
              0.4444444444444444,
              "#bd3786"
             ],
             [
              0.5555555555555556,
              "#d8576b"
             ],
             [
              0.6666666666666666,
              "#ed7953"
             ],
             [
              0.7777777777777778,
              "#fb9f3a"
             ],
             [
              0.8888888888888888,
              "#fdca26"
             ],
             [
              1,
              "#f0f921"
             ]
            ],
            "type": "heatmapgl"
           }
          ],
          "histogram": [
           {
            "marker": {
             "pattern": {
              "fillmode": "overlay",
              "size": 10,
              "solidity": 0.2
             }
            },
            "type": "histogram"
           }
          ],
          "histogram2d": [
           {
            "colorbar": {
             "outlinewidth": 0,
             "ticks": ""
            },
            "colorscale": [
             [
              0,
              "#0d0887"
             ],
             [
              0.1111111111111111,
              "#46039f"
             ],
             [
              0.2222222222222222,
              "#7201a8"
             ],
             [
              0.3333333333333333,
              "#9c179e"
             ],
             [
              0.4444444444444444,
              "#bd3786"
             ],
             [
              0.5555555555555556,
              "#d8576b"
             ],
             [
              0.6666666666666666,
              "#ed7953"
             ],
             [
              0.7777777777777778,
              "#fb9f3a"
             ],
             [
              0.8888888888888888,
              "#fdca26"
             ],
             [
              1,
              "#f0f921"
             ]
            ],
            "type": "histogram2d"
           }
          ],
          "histogram2dcontour": [
           {
            "colorbar": {
             "outlinewidth": 0,
             "ticks": ""
            },
            "colorscale": [
             [
              0,
              "#0d0887"
             ],
             [
              0.1111111111111111,
              "#46039f"
             ],
             [
              0.2222222222222222,
              "#7201a8"
             ],
             [
              0.3333333333333333,
              "#9c179e"
             ],
             [
              0.4444444444444444,
              "#bd3786"
             ],
             [
              0.5555555555555556,
              "#d8576b"
             ],
             [
              0.6666666666666666,
              "#ed7953"
             ],
             [
              0.7777777777777778,
              "#fb9f3a"
             ],
             [
              0.8888888888888888,
              "#fdca26"
             ],
             [
              1,
              "#f0f921"
             ]
            ],
            "type": "histogram2dcontour"
           }
          ],
          "mesh3d": [
           {
            "colorbar": {
             "outlinewidth": 0,
             "ticks": ""
            },
            "type": "mesh3d"
           }
          ],
          "parcoords": [
           {
            "line": {
             "colorbar": {
              "outlinewidth": 0,
              "ticks": ""
             }
            },
            "type": "parcoords"
           }
          ],
          "pie": [
           {
            "automargin": true,
            "type": "pie"
           }
          ],
          "scatter": [
           {
            "marker": {
             "colorbar": {
              "outlinewidth": 0,
              "ticks": ""
             }
            },
            "type": "scatter"
           }
          ],
          "scatter3d": [
           {
            "line": {
             "colorbar": {
              "outlinewidth": 0,
              "ticks": ""
             }
            },
            "marker": {
             "colorbar": {
              "outlinewidth": 0,
              "ticks": ""
             }
            },
            "type": "scatter3d"
           }
          ],
          "scattercarpet": [
           {
            "marker": {
             "colorbar": {
              "outlinewidth": 0,
              "ticks": ""
             }
            },
            "type": "scattercarpet"
           }
          ],
          "scattergeo": [
           {
            "marker": {
             "colorbar": {
              "outlinewidth": 0,
              "ticks": ""
             }
            },
            "type": "scattergeo"
           }
          ],
          "scattergl": [
           {
            "marker": {
             "colorbar": {
              "outlinewidth": 0,
              "ticks": ""
             }
            },
            "type": "scattergl"
           }
          ],
          "scattermapbox": [
           {
            "marker": {
             "colorbar": {
              "outlinewidth": 0,
              "ticks": ""
             }
            },
            "type": "scattermapbox"
           }
          ],
          "scatterpolar": [
           {
            "marker": {
             "colorbar": {
              "outlinewidth": 0,
              "ticks": ""
             }
            },
            "type": "scatterpolar"
           }
          ],
          "scatterpolargl": [
           {
            "marker": {
             "colorbar": {
              "outlinewidth": 0,
              "ticks": ""
             }
            },
            "type": "scatterpolargl"
           }
          ],
          "scatterternary": [
           {
            "marker": {
             "colorbar": {
              "outlinewidth": 0,
              "ticks": ""
             }
            },
            "type": "scatterternary"
           }
          ],
          "surface": [
           {
            "colorbar": {
             "outlinewidth": 0,
             "ticks": ""
            },
            "colorscale": [
             [
              0,
              "#0d0887"
             ],
             [
              0.1111111111111111,
              "#46039f"
             ],
             [
              0.2222222222222222,
              "#7201a8"
             ],
             [
              0.3333333333333333,
              "#9c179e"
             ],
             [
              0.4444444444444444,
              "#bd3786"
             ],
             [
              0.5555555555555556,
              "#d8576b"
             ],
             [
              0.6666666666666666,
              "#ed7953"
             ],
             [
              0.7777777777777778,
              "#fb9f3a"
             ],
             [
              0.8888888888888888,
              "#fdca26"
             ],
             [
              1,
              "#f0f921"
             ]
            ],
            "type": "surface"
           }
          ],
          "table": [
           {
            "cells": {
             "fill": {
              "color": "#EBF0F8"
             },
             "line": {
              "color": "white"
             }
            },
            "header": {
             "fill": {
              "color": "#C8D4E3"
             },
             "line": {
              "color": "white"
             }
            },
            "type": "table"
           }
          ]
         },
         "layout": {
          "annotationdefaults": {
           "arrowcolor": "#2a3f5f",
           "arrowhead": 0,
           "arrowwidth": 1
          },
          "autotypenumbers": "strict",
          "coloraxis": {
           "colorbar": {
            "outlinewidth": 0,
            "ticks": ""
           }
          },
          "colorscale": {
           "diverging": [
            [
             0,
             "#8e0152"
            ],
            [
             0.1,
             "#c51b7d"
            ],
            [
             0.2,
             "#de77ae"
            ],
            [
             0.3,
             "#f1b6da"
            ],
            [
             0.4,
             "#fde0ef"
            ],
            [
             0.5,
             "#f7f7f7"
            ],
            [
             0.6,
             "#e6f5d0"
            ],
            [
             0.7,
             "#b8e186"
            ],
            [
             0.8,
             "#7fbc41"
            ],
            [
             0.9,
             "#4d9221"
            ],
            [
             1,
             "#276419"
            ]
           ],
           "sequential": [
            [
             0,
             "#0d0887"
            ],
            [
             0.1111111111111111,
             "#46039f"
            ],
            [
             0.2222222222222222,
             "#7201a8"
            ],
            [
             0.3333333333333333,
             "#9c179e"
            ],
            [
             0.4444444444444444,
             "#bd3786"
            ],
            [
             0.5555555555555556,
             "#d8576b"
            ],
            [
             0.6666666666666666,
             "#ed7953"
            ],
            [
             0.7777777777777778,
             "#fb9f3a"
            ],
            [
             0.8888888888888888,
             "#fdca26"
            ],
            [
             1,
             "#f0f921"
            ]
           ],
           "sequentialminus": [
            [
             0,
             "#0d0887"
            ],
            [
             0.1111111111111111,
             "#46039f"
            ],
            [
             0.2222222222222222,
             "#7201a8"
            ],
            [
             0.3333333333333333,
             "#9c179e"
            ],
            [
             0.4444444444444444,
             "#bd3786"
            ],
            [
             0.5555555555555556,
             "#d8576b"
            ],
            [
             0.6666666666666666,
             "#ed7953"
            ],
            [
             0.7777777777777778,
             "#fb9f3a"
            ],
            [
             0.8888888888888888,
             "#fdca26"
            ],
            [
             1,
             "#f0f921"
            ]
           ]
          },
          "colorway": [
           "#636efa",
           "#EF553B",
           "#00cc96",
           "#ab63fa",
           "#FFA15A",
           "#19d3f3",
           "#FF6692",
           "#B6E880",
           "#FF97FF",
           "#FECB52"
          ],
          "font": {
           "color": "#2a3f5f"
          },
          "geo": {
           "bgcolor": "white",
           "lakecolor": "white",
           "landcolor": "#E5ECF6",
           "showlakes": true,
           "showland": true,
           "subunitcolor": "white"
          },
          "hoverlabel": {
           "align": "left"
          },
          "hovermode": "closest",
          "mapbox": {
           "style": "light"
          },
          "paper_bgcolor": "white",
          "plot_bgcolor": "#E5ECF6",
          "polar": {
           "angularaxis": {
            "gridcolor": "white",
            "linecolor": "white",
            "ticks": ""
           },
           "bgcolor": "#E5ECF6",
           "radialaxis": {
            "gridcolor": "white",
            "linecolor": "white",
            "ticks": ""
           }
          },
          "scene": {
           "xaxis": {
            "backgroundcolor": "#E5ECF6",
            "gridcolor": "white",
            "gridwidth": 2,
            "linecolor": "white",
            "showbackground": true,
            "ticks": "",
            "zerolinecolor": "white"
           },
           "yaxis": {
            "backgroundcolor": "#E5ECF6",
            "gridcolor": "white",
            "gridwidth": 2,
            "linecolor": "white",
            "showbackground": true,
            "ticks": "",
            "zerolinecolor": "white"
           },
           "zaxis": {
            "backgroundcolor": "#E5ECF6",
            "gridcolor": "white",
            "gridwidth": 2,
            "linecolor": "white",
            "showbackground": true,
            "ticks": "",
            "zerolinecolor": "white"
           }
          },
          "shapedefaults": {
           "line": {
            "color": "#2a3f5f"
           }
          },
          "ternary": {
           "aaxis": {
            "gridcolor": "white",
            "linecolor": "white",
            "ticks": ""
           },
           "baxis": {
            "gridcolor": "white",
            "linecolor": "white",
            "ticks": ""
           },
           "bgcolor": "#E5ECF6",
           "caxis": {
            "gridcolor": "white",
            "linecolor": "white",
            "ticks": ""
           }
          },
          "title": {
           "x": 0.05
          },
          "xaxis": {
           "automargin": true,
           "gridcolor": "white",
           "linecolor": "white",
           "ticks": "",
           "title": {
            "standoff": 15
           },
           "zerolinecolor": "white",
           "zerolinewidth": 2
          },
          "yaxis": {
           "automargin": true,
           "gridcolor": "white",
           "linecolor": "white",
           "ticks": "",
           "title": {
            "standoff": 15
           },
           "zerolinecolor": "white",
           "zerolinewidth": 2
          }
         }
        },
        "title": {
         "font": {
          "color": "#4D5663"
         }
        },
        "xaxis": {
         "gridcolor": "#E1E5ED",
         "showgrid": true,
         "tickfont": {
          "color": "#4D5663"
         },
         "title": {
          "font": {
           "color": "#4D5663"
          },
          "text": ""
         },
         "zerolinecolor": "#E1E5ED"
        },
        "yaxis": {
         "gridcolor": "#E1E5ED",
         "showgrid": true,
         "tickfont": {
          "color": "#4D5663"
         },
         "title": {
          "font": {
           "color": "#4D5663"
          },
          "text": ""
         },
         "zerolinecolor": "#E1E5ED"
        }
       }
      },
      "text/html": [
       "<div>                            <div id=\"ba2a9ddc-d997-4c19-82a9-dfaf6147a5a4\" class=\"plotly-graph-div\" style=\"height:525px; width:100%;\"></div>            <script type=\"text/javascript\">                require([\"plotly\"], function(Plotly) {                    window.PLOTLYENV=window.PLOTLYENV || {};\n",
       "                    window.PLOTLYENV.BASE_URL='https://plot.ly';                                    if (document.getElementById(\"ba2a9ddc-d997-4c19-82a9-dfaf6147a5a4\")) {                    Plotly.newPlot(                        \"ba2a9ddc-d997-4c19-82a9-dfaf6147a5a4\",                        [{\"line\":{\"color\":\"rgba(255, 153, 51, 1.0)\",\"dash\":\"solid\",\"shape\":\"linear\",\"width\":1.3},\"mode\":\"lines\",\"name\":\"A\",\"text\":\"\",\"type\":\"scatter\",\"x\":[0,1,2,3,4,5,6,7,8,9,10,11,12,13,14,15,16,17,18,19,20,21,22,23,24,25,26,27,28,29,30,31,32,33,34,35,36,37,38,39,40,41,42,43,44,45,46,47,48,49,50,51,52,53,54,55,56,57,58,59,60,61,62,63,64,65,66,67,68,69,70,71,72,73,74,75,76,77,78,79,80,81,82,83,84,85,86,87,88,89,90,91,92,93,94,95,96,97,98,99],\"y\":[-0.34225299009874355,0.4892447760011251,0.6289296113249515,-0.9623444735331236,0.5218374246730623,1.0872779779546433,-2.5446001105676275,-0.2858836687280843,1.3065777779854995,-2.4104707774726113,1.3369186035954843,0.3838707492935451,-0.5526656706871299,-0.523243795919335,-0.5219209505049524,0.7876928140633233,-0.9458273989118097,0.6798036848133264,-0.7326321084090412,2.9676666789696204,-0.05694316110548828,-0.3901687948679766,0.39042317054449927,-0.5097476850302313,-0.06005776882918707,1.8651889477854269,0.6825596947887341,-0.660930834038989,0.7457389149047722,0.5831350759677145,0.20565331727263178,0.12137563657220368,0.14222541475987407,-0.21964030922882513,-0.1403522050946297,0.9130048247460788,-0.5324825569805095,0.8357026232545052,-0.05136640945025422,-0.15442903874892236,0.4427417326955754,-1.4618826570001109,-0.23457977919541678,1.5819006525811172,1.7673116734486296,0.5244123082679875,-1.4960518062062593,-0.08993988733773665,0.8209575792192505,0.277831732542309,1.9225576880083868,1.757171966228769,-2.138688527959561,-1.3709748402957949,-0.7155997219888818,0.3317227996255702,-1.0043614591743062,-1.0261278984258224,-1.4276290468878337,-1.0891931758991331,0.2035269789201755,0.02473667551913148,0.19551292413294072,-0.19036560623878837,-1.8010591597777204,0.8032033734232925,-1.0990490358758565,0.7760903618580065,-0.5271828141604505,-0.7383131855752465,-0.27543257249948844,-0.037819243298348515,1.2032094442658468,0.785084605957565,0.7503288870253916,-0.8472573692739707,-0.37625320843617843,-1.2657485333486633,1.7888324677330751,0.7499899464558957,0.3247253443598456,1.1096782207812264,0.28418622192332155,0.8318537645554853,2.0139557344103043,0.3476274485672122,-0.7967921761246892,-0.12058745799601407,0.43531389145934873,0.35347704597191093,-1.3720175798793395,-1.2811737166611563,0.04571690779276586,1.8411898245359177,-0.34353168706576764,1.0133136240424316,0.31479801507956323,2.1145539751315687,-1.0277828928921748,-0.7838019655038211]},{\"line\":{\"color\":\"rgba(55, 128, 191, 1.0)\",\"dash\":\"solid\",\"shape\":\"linear\",\"width\":1.3},\"mode\":\"lines\",\"name\":\"B\",\"text\":\"\",\"type\":\"scatter\",\"x\":[0,1,2,3,4,5,6,7,8,9,10,11,12,13,14,15,16,17,18,19,20,21,22,23,24,25,26,27,28,29,30,31,32,33,34,35,36,37,38,39,40,41,42,43,44,45,46,47,48,49,50,51,52,53,54,55,56,57,58,59,60,61,62,63,64,65,66,67,68,69,70,71,72,73,74,75,76,77,78,79,80,81,82,83,84,85,86,87,88,89,90,91,92,93,94,95,96,97,98,99],\"y\":[0.9900955482666974,-0.9889452577232196,-0.9378354850254641,-0.5463691152022653,2.0271518857018807,0.19925957847537346,-0.7786039713483985,0.2520015620313144,-0.6188427581785232,0.419814842315549,-1.8602683357380412,0.7728522626338924,0.23979797259129315,1.1297423815295664,-0.10475559546208067,-0.009461289991414178,0.7113080068140527,-1.4786843116096715,-1.3201954219731604,0.07031698798374092,1.6442459691777473,-0.13952067189279416,-0.9250117184627819,-1.730634623494131,-1.2546443084973622,1.2139408010780905,-0.5844745801129339,-0.29554717166621897,0.27281484542731976,0.25318894794907465,-0.24638066248007567,-0.3001463717227039,-0.47843477549201796,1.5339025213459436,1.237395379686162,-0.214093862004028,-0.3867947061510151,0.20025306551505054,0.5518586459046209,-1.2649171383821682,-0.31394703787397016,2.624200579430331,-0.7124402468346807,0.47598211399691526,0.3543661152225115,-0.7416521439997066,0.11901051948687877,-1.228030696683017,-0.5254167537146217,-0.8180277127043986,0.9767586529113346,1.2707583473030304,-0.1430902898326658,0.3866316300901333,0.918493501529165,0.7382411409509697,-1.7872095559123204,-0.05138925422187474,-1.3099282607443965,0.3619874357419031,0.2473659952388168,0.673183153770201,-0.42378629704185045,-0.5218702450381305,0.3643796819545949,-0.8571232551495427,0.6196384121373644,-0.5532877791773987,-0.6985239271046452,-0.4971711238652195,0.9837197737497394,0.151109103477177,-0.45528688478792184,-0.2940979367596788,-1.1357511274305079,1.7291497641174005,-0.5315171160860179,0.5412751513880071,2.319270328199936,1.105881259664581,0.24183604497834638,-0.12739001798747068,0.15509861976732744,-1.0996109070986873,0.23972510178264853,-0.08154335854543714,-1.8255709836497878,1.8463351692191043,1.820835557120743,0.9539408365908607,-1.7026480093372356,0.736197256641093,-0.21103967120123218,0.37668614877938134,-0.8927141407003845,-0.10178995397251908,-1.3472346892602074,-0.6569542813244048,0.9437776474422417,-3.0058043986457124]},{\"line\":{\"color\":\"rgba(50, 171, 96, 1.0)\",\"dash\":\"solid\",\"shape\":\"linear\",\"width\":1.3},\"mode\":\"lines\",\"name\":\"C\",\"text\":\"\",\"type\":\"scatter\",\"x\":[0,1,2,3,4,5,6,7,8,9,10,11,12,13,14,15,16,17,18,19,20,21,22,23,24,25,26,27,28,29,30,31,32,33,34,35,36,37,38,39,40,41,42,43,44,45,46,47,48,49,50,51,52,53,54,55,56,57,58,59,60,61,62,63,64,65,66,67,68,69,70,71,72,73,74,75,76,77,78,79,80,81,82,83,84,85,86,87,88,89,90,91,92,93,94,95,96,97,98,99],\"y\":[-0.24360119416966694,2.6290698676150748,0.2661367149716258,0.4248000862046849,0.15691359647032885,1.2669766461076717,-0.7458482705573792,-1.0425577762968143,-0.9918293586883078,1.1752207914133415,0.8237476957175225,1.1559167419733656,-0.26544194102746643,-1.756871692208469,-0.4328200632631489,-1.5946234612917132,-0.7754468725671481,2.456890194326189,0.25177654767670976,-0.5276250778756187,-0.41515353632559016,-0.9702083336083774,-0.5386885727546051,0.37514521710971366,0.42471750848556794,0.9123108730469526,-1.3814941779525685,1.5467689361155261,-1.006894590393866,0.0956355518057554,0.7466898784983458,-0.24213182443022957,-0.9250827556716021,-1.5203503273531633,-0.4977984822613209,-0.6410172305332248,0.0004638774932113429,0.8313405708447927,2.019266841869993,0.5943772196931862,-0.30837067424611286,0.9104799562812206,0.19755570215657497,0.2773208278157791,-1.0387187975724872,-0.506375180681545,-0.5516849839146819,0.7116617071345542,-0.19579766373118063,0.42693167129622245,-0.8331237335520756,0.5016062861936484,-0.6937427386910572,-0.49746785662625626,-1.7118428797935947,-0.7605643980862589,-0.5390131077084975,-0.09681021739978073,0.540645279267166,-0.48285349611885797,0.025786372736263302,1.8235643881611308,-1.2932590197710199,-0.6465104579661324,2.0408865397934393,0.7642965793643237,-0.8265002416929838,0.1019702069298536,0.8725592650972407,-1.588148164340174,-1.4228936331224291,0.3031964853541781,-0.07949730751640986,-2.39910314507416,-0.7029900183390284,0.8408133054957266,0.6166977677036451,-0.9940793947697844,-0.534675036167626,-0.14707923691588887,-2.6234047287938913,-1.3474097174098156,-0.1421345213333329,0.008835708481921363,-1.2515389770614476,-0.6441581344355697,-0.5934360296853288,-0.027506673382790198,-0.23057019069383758,-0.4883458423910079,-1.22605047743705,-0.6061666040960666,-1.0125377919921394,-0.3320753382492649,0.766639572361874,0.07814275463062237,-0.02251167615807235,-1.2505570063745404,-0.41570718077541857,-0.6990955371320429]},{\"line\":{\"color\":\"rgba(128, 0, 128, 1.0)\",\"dash\":\"solid\",\"shape\":\"linear\",\"width\":1.3},\"mode\":\"lines\",\"name\":\"D\",\"text\":\"\",\"type\":\"scatter\",\"x\":[0,1,2,3,4,5,6,7,8,9,10,11,12,13,14,15,16,17,18,19,20,21,22,23,24,25,26,27,28,29,30,31,32,33,34,35,36,37,38,39,40,41,42,43,44,45,46,47,48,49,50,51,52,53,54,55,56,57,58,59,60,61,62,63,64,65,66,67,68,69,70,71,72,73,74,75,76,77,78,79,80,81,82,83,84,85,86,87,88,89,90,91,92,93,94,95,96,97,98,99],\"y\":[-0.8993780379502047,-0.02805590171480415,0.5612035642976496,0.45017054087238884,-2.233080770879555,0.3739742395124629,-0.5774356122456568,-0.6717884367620782,0.4832487351689567,0.761435996894435,-0.04059328762487213,0.5101128605312929,0.19902095165716177,-1.5411945525961641,-0.45683768831453736,3.2567902677591,-0.24721414340764963,-1.4596725990248305,-2.4248001490278375,0.12611197215654926,1.9234059086665694,-0.7415422179044057,0.5318699546445996,0.3411788196455518,-0.30164340637185694,0.9763135783972272,-0.21897997321007678,0.354782893192736,1.9263999024854617,-1.0069515783908103,-0.0914288423605711,0.9977226852097353,-0.16959396494707218,-0.9640722535068827,0.26028820686903065,0.6912992723236513,-0.4203592662512756,-1.3261158849795756,-1.1453604179470454,-0.9227383863226544,0.0033439820871036955,-0.29155084059205694,-1.192411953625304,0.34346615046657125,-1.0908146569416461,1.5747384092161831,-0.3905808061673566,-1.2576203889566724,-0.9292308926637166,1.9194370566526706,-1.6507047842344582,0.8631548922913439,1.2991380618444575,-3.2615524161869196,-1.0717834772800015,1.2630698522056911,3.1470570330562615,-0.13404492840812246,1.9029965756941507,0.5312264148980672,-1.0776998955177377,0.21816766458394263,0.951581629546409,0.35406437532113627,0.6726097055720566,1.5289951046519916,0.8872488457004313,1.5278424465510052,-0.5629686924888644,-0.6833421677015717,0.5763413458651462,0.12764236871541115,1.180397231496056,0.340318053147227,0.002726022685278746,1.7713800150640246,1.2982996566138594,-1.0523866869149032,-0.779700669840491,-1.8575621845742905,-0.7110915002681697,-1.4997360103036437,0.7950770689699234,0.52438561059342,0.2576584909044913,-1.1552940935623224,1.3039721355476719,1.8623529103560788,-0.15667476232146516,0.22218725609677162,0.1133313728764875,-0.7881581017112002,0.6817806926876091,-0.38247769385962327,-0.745334160946617,-0.07717189151842606,-0.9439590114540767,-0.33257224030030497,-0.33528789414779003,0.45350533599463455]}],                        {\"legend\":{\"bgcolor\":\"#F5F6F9\",\"font\":{\"color\":\"#4D5663\"}},\"paper_bgcolor\":\"#F5F6F9\",\"plot_bgcolor\":\"#F5F6F9\",\"template\":{\"data\":{\"bar\":[{\"error_x\":{\"color\":\"#2a3f5f\"},\"error_y\":{\"color\":\"#2a3f5f\"},\"marker\":{\"line\":{\"color\":\"#E5ECF6\",\"width\":0.5},\"pattern\":{\"fillmode\":\"overlay\",\"size\":10,\"solidity\":0.2}},\"type\":\"bar\"}],\"barpolar\":[{\"marker\":{\"line\":{\"color\":\"#E5ECF6\",\"width\":0.5},\"pattern\":{\"fillmode\":\"overlay\",\"size\":10,\"solidity\":0.2}},\"type\":\"barpolar\"}],\"carpet\":[{\"aaxis\":{\"endlinecolor\":\"#2a3f5f\",\"gridcolor\":\"white\",\"linecolor\":\"white\",\"minorgridcolor\":\"white\",\"startlinecolor\":\"#2a3f5f\"},\"baxis\":{\"endlinecolor\":\"#2a3f5f\",\"gridcolor\":\"white\",\"linecolor\":\"white\",\"minorgridcolor\":\"white\",\"startlinecolor\":\"#2a3f5f\"},\"type\":\"carpet\"}],\"choropleth\":[{\"colorbar\":{\"outlinewidth\":0,\"ticks\":\"\"},\"type\":\"choropleth\"}],\"contour\":[{\"colorbar\":{\"outlinewidth\":0,\"ticks\":\"\"},\"colorscale\":[[0.0,\"#0d0887\"],[0.1111111111111111,\"#46039f\"],[0.2222222222222222,\"#7201a8\"],[0.3333333333333333,\"#9c179e\"],[0.4444444444444444,\"#bd3786\"],[0.5555555555555556,\"#d8576b\"],[0.6666666666666666,\"#ed7953\"],[0.7777777777777778,\"#fb9f3a\"],[0.8888888888888888,\"#fdca26\"],[1.0,\"#f0f921\"]],\"type\":\"contour\"}],\"contourcarpet\":[{\"colorbar\":{\"outlinewidth\":0,\"ticks\":\"\"},\"type\":\"contourcarpet\"}],\"heatmap\":[{\"colorbar\":{\"outlinewidth\":0,\"ticks\":\"\"},\"colorscale\":[[0.0,\"#0d0887\"],[0.1111111111111111,\"#46039f\"],[0.2222222222222222,\"#7201a8\"],[0.3333333333333333,\"#9c179e\"],[0.4444444444444444,\"#bd3786\"],[0.5555555555555556,\"#d8576b\"],[0.6666666666666666,\"#ed7953\"],[0.7777777777777778,\"#fb9f3a\"],[0.8888888888888888,\"#fdca26\"],[1.0,\"#f0f921\"]],\"type\":\"heatmap\"}],\"heatmapgl\":[{\"colorbar\":{\"outlinewidth\":0,\"ticks\":\"\"},\"colorscale\":[[0.0,\"#0d0887\"],[0.1111111111111111,\"#46039f\"],[0.2222222222222222,\"#7201a8\"],[0.3333333333333333,\"#9c179e\"],[0.4444444444444444,\"#bd3786\"],[0.5555555555555556,\"#d8576b\"],[0.6666666666666666,\"#ed7953\"],[0.7777777777777778,\"#fb9f3a\"],[0.8888888888888888,\"#fdca26\"],[1.0,\"#f0f921\"]],\"type\":\"heatmapgl\"}],\"histogram\":[{\"marker\":{\"pattern\":{\"fillmode\":\"overlay\",\"size\":10,\"solidity\":0.2}},\"type\":\"histogram\"}],\"histogram2d\":[{\"colorbar\":{\"outlinewidth\":0,\"ticks\":\"\"},\"colorscale\":[[0.0,\"#0d0887\"],[0.1111111111111111,\"#46039f\"],[0.2222222222222222,\"#7201a8\"],[0.3333333333333333,\"#9c179e\"],[0.4444444444444444,\"#bd3786\"],[0.5555555555555556,\"#d8576b\"],[0.6666666666666666,\"#ed7953\"],[0.7777777777777778,\"#fb9f3a\"],[0.8888888888888888,\"#fdca26\"],[1.0,\"#f0f921\"]],\"type\":\"histogram2d\"}],\"histogram2dcontour\":[{\"colorbar\":{\"outlinewidth\":0,\"ticks\":\"\"},\"colorscale\":[[0.0,\"#0d0887\"],[0.1111111111111111,\"#46039f\"],[0.2222222222222222,\"#7201a8\"],[0.3333333333333333,\"#9c179e\"],[0.4444444444444444,\"#bd3786\"],[0.5555555555555556,\"#d8576b\"],[0.6666666666666666,\"#ed7953\"],[0.7777777777777778,\"#fb9f3a\"],[0.8888888888888888,\"#fdca26\"],[1.0,\"#f0f921\"]],\"type\":\"histogram2dcontour\"}],\"mesh3d\":[{\"colorbar\":{\"outlinewidth\":0,\"ticks\":\"\"},\"type\":\"mesh3d\"}],\"parcoords\":[{\"line\":{\"colorbar\":{\"outlinewidth\":0,\"ticks\":\"\"}},\"type\":\"parcoords\"}],\"pie\":[{\"automargin\":true,\"type\":\"pie\"}],\"scatter\":[{\"marker\":{\"colorbar\":{\"outlinewidth\":0,\"ticks\":\"\"}},\"type\":\"scatter\"}],\"scatter3d\":[{\"line\":{\"colorbar\":{\"outlinewidth\":0,\"ticks\":\"\"}},\"marker\":{\"colorbar\":{\"outlinewidth\":0,\"ticks\":\"\"}},\"type\":\"scatter3d\"}],\"scattercarpet\":[{\"marker\":{\"colorbar\":{\"outlinewidth\":0,\"ticks\":\"\"}},\"type\":\"scattercarpet\"}],\"scattergeo\":[{\"marker\":{\"colorbar\":{\"outlinewidth\":0,\"ticks\":\"\"}},\"type\":\"scattergeo\"}],\"scattergl\":[{\"marker\":{\"colorbar\":{\"outlinewidth\":0,\"ticks\":\"\"}},\"type\":\"scattergl\"}],\"scattermapbox\":[{\"marker\":{\"colorbar\":{\"outlinewidth\":0,\"ticks\":\"\"}},\"type\":\"scattermapbox\"}],\"scatterpolar\":[{\"marker\":{\"colorbar\":{\"outlinewidth\":0,\"ticks\":\"\"}},\"type\":\"scatterpolar\"}],\"scatterpolargl\":[{\"marker\":{\"colorbar\":{\"outlinewidth\":0,\"ticks\":\"\"}},\"type\":\"scatterpolargl\"}],\"scatterternary\":[{\"marker\":{\"colorbar\":{\"outlinewidth\":0,\"ticks\":\"\"}},\"type\":\"scatterternary\"}],\"surface\":[{\"colorbar\":{\"outlinewidth\":0,\"ticks\":\"\"},\"colorscale\":[[0.0,\"#0d0887\"],[0.1111111111111111,\"#46039f\"],[0.2222222222222222,\"#7201a8\"],[0.3333333333333333,\"#9c179e\"],[0.4444444444444444,\"#bd3786\"],[0.5555555555555556,\"#d8576b\"],[0.6666666666666666,\"#ed7953\"],[0.7777777777777778,\"#fb9f3a\"],[0.8888888888888888,\"#fdca26\"],[1.0,\"#f0f921\"]],\"type\":\"surface\"}],\"table\":[{\"cells\":{\"fill\":{\"color\":\"#EBF0F8\"},\"line\":{\"color\":\"white\"}},\"header\":{\"fill\":{\"color\":\"#C8D4E3\"},\"line\":{\"color\":\"white\"}},\"type\":\"table\"}]},\"layout\":{\"annotationdefaults\":{\"arrowcolor\":\"#2a3f5f\",\"arrowhead\":0,\"arrowwidth\":1},\"autotypenumbers\":\"strict\",\"coloraxis\":{\"colorbar\":{\"outlinewidth\":0,\"ticks\":\"\"}},\"colorscale\":{\"diverging\":[[0,\"#8e0152\"],[0.1,\"#c51b7d\"],[0.2,\"#de77ae\"],[0.3,\"#f1b6da\"],[0.4,\"#fde0ef\"],[0.5,\"#f7f7f7\"],[0.6,\"#e6f5d0\"],[0.7,\"#b8e186\"],[0.8,\"#7fbc41\"],[0.9,\"#4d9221\"],[1,\"#276419\"]],\"sequential\":[[0.0,\"#0d0887\"],[0.1111111111111111,\"#46039f\"],[0.2222222222222222,\"#7201a8\"],[0.3333333333333333,\"#9c179e\"],[0.4444444444444444,\"#bd3786\"],[0.5555555555555556,\"#d8576b\"],[0.6666666666666666,\"#ed7953\"],[0.7777777777777778,\"#fb9f3a\"],[0.8888888888888888,\"#fdca26\"],[1.0,\"#f0f921\"]],\"sequentialminus\":[[0.0,\"#0d0887\"],[0.1111111111111111,\"#46039f\"],[0.2222222222222222,\"#7201a8\"],[0.3333333333333333,\"#9c179e\"],[0.4444444444444444,\"#bd3786\"],[0.5555555555555556,\"#d8576b\"],[0.6666666666666666,\"#ed7953\"],[0.7777777777777778,\"#fb9f3a\"],[0.8888888888888888,\"#fdca26\"],[1.0,\"#f0f921\"]]},\"colorway\":[\"#636efa\",\"#EF553B\",\"#00cc96\",\"#ab63fa\",\"#FFA15A\",\"#19d3f3\",\"#FF6692\",\"#B6E880\",\"#FF97FF\",\"#FECB52\"],\"font\":{\"color\":\"#2a3f5f\"},\"geo\":{\"bgcolor\":\"white\",\"lakecolor\":\"white\",\"landcolor\":\"#E5ECF6\",\"showlakes\":true,\"showland\":true,\"subunitcolor\":\"white\"},\"hoverlabel\":{\"align\":\"left\"},\"hovermode\":\"closest\",\"mapbox\":{\"style\":\"light\"},\"paper_bgcolor\":\"white\",\"plot_bgcolor\":\"#E5ECF6\",\"polar\":{\"angularaxis\":{\"gridcolor\":\"white\",\"linecolor\":\"white\",\"ticks\":\"\"},\"bgcolor\":\"#E5ECF6\",\"radialaxis\":{\"gridcolor\":\"white\",\"linecolor\":\"white\",\"ticks\":\"\"}},\"scene\":{\"xaxis\":{\"backgroundcolor\":\"#E5ECF6\",\"gridcolor\":\"white\",\"gridwidth\":2,\"linecolor\":\"white\",\"showbackground\":true,\"ticks\":\"\",\"zerolinecolor\":\"white\"},\"yaxis\":{\"backgroundcolor\":\"#E5ECF6\",\"gridcolor\":\"white\",\"gridwidth\":2,\"linecolor\":\"white\",\"showbackground\":true,\"ticks\":\"\",\"zerolinecolor\":\"white\"},\"zaxis\":{\"backgroundcolor\":\"#E5ECF6\",\"gridcolor\":\"white\",\"gridwidth\":2,\"linecolor\":\"white\",\"showbackground\":true,\"ticks\":\"\",\"zerolinecolor\":\"white\"}},\"shapedefaults\":{\"line\":{\"color\":\"#2a3f5f\"}},\"ternary\":{\"aaxis\":{\"gridcolor\":\"white\",\"linecolor\":\"white\",\"ticks\":\"\"},\"baxis\":{\"gridcolor\":\"white\",\"linecolor\":\"white\",\"ticks\":\"\"},\"bgcolor\":\"#E5ECF6\",\"caxis\":{\"gridcolor\":\"white\",\"linecolor\":\"white\",\"ticks\":\"\"}},\"title\":{\"x\":0.05},\"xaxis\":{\"automargin\":true,\"gridcolor\":\"white\",\"linecolor\":\"white\",\"ticks\":\"\",\"title\":{\"standoff\":15},\"zerolinecolor\":\"white\",\"zerolinewidth\":2},\"yaxis\":{\"automargin\":true,\"gridcolor\":\"white\",\"linecolor\":\"white\",\"ticks\":\"\",\"title\":{\"standoff\":15},\"zerolinecolor\":\"white\",\"zerolinewidth\":2}}},\"title\":{\"font\":{\"color\":\"#4D5663\"}},\"xaxis\":{\"gridcolor\":\"#E1E5ED\",\"showgrid\":true,\"tickfont\":{\"color\":\"#4D5663\"},\"title\":{\"font\":{\"color\":\"#4D5663\"},\"text\":\"\"},\"zerolinecolor\":\"#E1E5ED\"},\"yaxis\":{\"gridcolor\":\"#E1E5ED\",\"showgrid\":true,\"tickfont\":{\"color\":\"#4D5663\"},\"title\":{\"font\":{\"color\":\"#4D5663\"},\"text\":\"\"},\"zerolinecolor\":\"#E1E5ED\"}},                        {\"showLink\": true, \"linkText\": \"Export to plot.ly\", \"plotlyServerURL\": \"https://plot.ly\", \"responsive\": true}                    ).then(function(){\n",
       "                            \n",
       "var gd = document.getElementById('ba2a9ddc-d997-4c19-82a9-dfaf6147a5a4');\n",
       "var x = new MutationObserver(function (mutations, observer) {{\n",
       "        var display = window.getComputedStyle(gd).display;\n",
       "        if (!display || display === 'none') {{\n",
       "            console.log([gd, 'removed!']);\n",
       "            Plotly.purge(gd);\n",
       "            observer.disconnect();\n",
       "        }}\n",
       "}});\n",
       "\n",
       "// Listen for the removal of the full notebook cells\n",
       "var notebookContainer = gd.closest('#notebook-container');\n",
       "if (notebookContainer) {{\n",
       "    x.observe(notebookContainer, {childList: true});\n",
       "}}\n",
       "\n",
       "// Listen for the clearing of the current output cell\n",
       "var outputEl = gd.closest('.output');\n",
       "if (outputEl) {{\n",
       "    x.observe(outputEl, {childList: true});\n",
       "}}\n",
       "\n",
       "                        })                };                });            </script>        </div>"
      ]
     },
     "metadata": {},
     "output_type": "display_data"
    }
   ],
   "source": [
    "df.iplot()"
   ]
  },
  {
   "cell_type": "code",
   "execution_count": 22,
   "id": "d3e035b1",
   "metadata": {},
   "outputs": [
    {
     "data": {
      "application/vnd.plotly.v1+json": {
       "config": {
        "linkText": "Export to plot.ly",
        "plotlyServerURL": "https://plot.ly",
        "showLink": true
       },
       "data": [
        {
         "line": {
          "color": "rgba(255, 153, 51, 1.0)",
          "dash": "solid",
          "shape": "linear",
          "width": 1.3
         },
         "marker": {
          "size": 12,
          "symbol": "circle"
         },
         "mode": "markers",
         "name": "B",
         "text": "",
         "type": "scatter",
         "x": [
          -0.34225299009874355,
          0.4892447760011251,
          0.6289296113249515,
          -0.9623444735331236,
          0.5218374246730623,
          1.0872779779546433,
          -2.5446001105676275,
          -0.2858836687280843,
          1.3065777779854995,
          -2.4104707774726113,
          1.3369186035954843,
          0.3838707492935451,
          -0.5526656706871299,
          -0.523243795919335,
          -0.5219209505049524,
          0.7876928140633233,
          -0.9458273989118097,
          0.6798036848133264,
          -0.7326321084090412,
          2.9676666789696204,
          -0.05694316110548828,
          -0.3901687948679766,
          0.39042317054449927,
          -0.5097476850302313,
          -0.06005776882918707,
          1.8651889477854269,
          0.6825596947887341,
          -0.660930834038989,
          0.7457389149047722,
          0.5831350759677145,
          0.20565331727263178,
          0.12137563657220368,
          0.14222541475987407,
          -0.21964030922882513,
          -0.1403522050946297,
          0.9130048247460788,
          -0.5324825569805095,
          0.8357026232545052,
          -0.05136640945025422,
          -0.15442903874892236,
          0.4427417326955754,
          -1.4618826570001109,
          -0.23457977919541678,
          1.5819006525811172,
          1.7673116734486296,
          0.5244123082679875,
          -1.4960518062062593,
          -0.08993988733773665,
          0.8209575792192505,
          0.277831732542309,
          1.9225576880083868,
          1.757171966228769,
          -2.138688527959561,
          -1.3709748402957949,
          -0.7155997219888818,
          0.3317227996255702,
          -1.0043614591743062,
          -1.0261278984258224,
          -1.4276290468878337,
          -1.0891931758991331,
          0.2035269789201755,
          0.02473667551913148,
          0.19551292413294072,
          -0.19036560623878837,
          -1.8010591597777204,
          0.8032033734232925,
          -1.0990490358758565,
          0.7760903618580065,
          -0.5271828141604505,
          -0.7383131855752465,
          -0.27543257249948844,
          -0.037819243298348515,
          1.2032094442658468,
          0.785084605957565,
          0.7503288870253916,
          -0.8472573692739707,
          -0.37625320843617843,
          -1.2657485333486633,
          1.7888324677330751,
          0.7499899464558957,
          0.3247253443598456,
          1.1096782207812264,
          0.28418622192332155,
          0.8318537645554853,
          2.0139557344103043,
          0.3476274485672122,
          -0.7967921761246892,
          -0.12058745799601407,
          0.43531389145934873,
          0.35347704597191093,
          -1.3720175798793395,
          -1.2811737166611563,
          0.04571690779276586,
          1.8411898245359177,
          -0.34353168706576764,
          1.0133136240424316,
          0.31479801507956323,
          2.1145539751315687,
          -1.0277828928921748,
          -0.7838019655038211
         ],
         "y": [
          0.9900955482666974,
          -0.9889452577232196,
          -0.9378354850254641,
          -0.5463691152022653,
          2.0271518857018807,
          0.19925957847537346,
          -0.7786039713483985,
          0.2520015620313144,
          -0.6188427581785232,
          0.419814842315549,
          -1.8602683357380412,
          0.7728522626338924,
          0.23979797259129315,
          1.1297423815295664,
          -0.10475559546208067,
          -0.009461289991414178,
          0.7113080068140527,
          -1.4786843116096715,
          -1.3201954219731604,
          0.07031698798374092,
          1.6442459691777473,
          -0.13952067189279416,
          -0.9250117184627819,
          -1.730634623494131,
          -1.2546443084973622,
          1.2139408010780905,
          -0.5844745801129339,
          -0.29554717166621897,
          0.27281484542731976,
          0.25318894794907465,
          -0.24638066248007567,
          -0.3001463717227039,
          -0.47843477549201796,
          1.5339025213459436,
          1.237395379686162,
          -0.214093862004028,
          -0.3867947061510151,
          0.20025306551505054,
          0.5518586459046209,
          -1.2649171383821682,
          -0.31394703787397016,
          2.624200579430331,
          -0.7124402468346807,
          0.47598211399691526,
          0.3543661152225115,
          -0.7416521439997066,
          0.11901051948687877,
          -1.228030696683017,
          -0.5254167537146217,
          -0.8180277127043986,
          0.9767586529113346,
          1.2707583473030304,
          -0.1430902898326658,
          0.3866316300901333,
          0.918493501529165,
          0.7382411409509697,
          -1.7872095559123204,
          -0.05138925422187474,
          -1.3099282607443965,
          0.3619874357419031,
          0.2473659952388168,
          0.673183153770201,
          -0.42378629704185045,
          -0.5218702450381305,
          0.3643796819545949,
          -0.8571232551495427,
          0.6196384121373644,
          -0.5532877791773987,
          -0.6985239271046452,
          -0.4971711238652195,
          0.9837197737497394,
          0.151109103477177,
          -0.45528688478792184,
          -0.2940979367596788,
          -1.1357511274305079,
          1.7291497641174005,
          -0.5315171160860179,
          0.5412751513880071,
          2.319270328199936,
          1.105881259664581,
          0.24183604497834638,
          -0.12739001798747068,
          0.15509861976732744,
          -1.0996109070986873,
          0.23972510178264853,
          -0.08154335854543714,
          -1.8255709836497878,
          1.8463351692191043,
          1.820835557120743,
          0.9539408365908607,
          -1.7026480093372356,
          0.736197256641093,
          -0.21103967120123218,
          0.37668614877938134,
          -0.8927141407003845,
          -0.10178995397251908,
          -1.3472346892602074,
          -0.6569542813244048,
          0.9437776474422417,
          -3.0058043986457124
         ]
        }
       ],
       "layout": {
        "legend": {
         "bgcolor": "#F5F6F9",
         "font": {
          "color": "#4D5663"
         }
        },
        "paper_bgcolor": "#F5F6F9",
        "plot_bgcolor": "#F5F6F9",
        "template": {
         "data": {
          "bar": [
           {
            "error_x": {
             "color": "#2a3f5f"
            },
            "error_y": {
             "color": "#2a3f5f"
            },
            "marker": {
             "line": {
              "color": "#E5ECF6",
              "width": 0.5
             },
             "pattern": {
              "fillmode": "overlay",
              "size": 10,
              "solidity": 0.2
             }
            },
            "type": "bar"
           }
          ],
          "barpolar": [
           {
            "marker": {
             "line": {
              "color": "#E5ECF6",
              "width": 0.5
             },
             "pattern": {
              "fillmode": "overlay",
              "size": 10,
              "solidity": 0.2
             }
            },
            "type": "barpolar"
           }
          ],
          "carpet": [
           {
            "aaxis": {
             "endlinecolor": "#2a3f5f",
             "gridcolor": "white",
             "linecolor": "white",
             "minorgridcolor": "white",
             "startlinecolor": "#2a3f5f"
            },
            "baxis": {
             "endlinecolor": "#2a3f5f",
             "gridcolor": "white",
             "linecolor": "white",
             "minorgridcolor": "white",
             "startlinecolor": "#2a3f5f"
            },
            "type": "carpet"
           }
          ],
          "choropleth": [
           {
            "colorbar": {
             "outlinewidth": 0,
             "ticks": ""
            },
            "type": "choropleth"
           }
          ],
          "contour": [
           {
            "colorbar": {
             "outlinewidth": 0,
             "ticks": ""
            },
            "colorscale": [
             [
              0,
              "#0d0887"
             ],
             [
              0.1111111111111111,
              "#46039f"
             ],
             [
              0.2222222222222222,
              "#7201a8"
             ],
             [
              0.3333333333333333,
              "#9c179e"
             ],
             [
              0.4444444444444444,
              "#bd3786"
             ],
             [
              0.5555555555555556,
              "#d8576b"
             ],
             [
              0.6666666666666666,
              "#ed7953"
             ],
             [
              0.7777777777777778,
              "#fb9f3a"
             ],
             [
              0.8888888888888888,
              "#fdca26"
             ],
             [
              1,
              "#f0f921"
             ]
            ],
            "type": "contour"
           }
          ],
          "contourcarpet": [
           {
            "colorbar": {
             "outlinewidth": 0,
             "ticks": ""
            },
            "type": "contourcarpet"
           }
          ],
          "heatmap": [
           {
            "colorbar": {
             "outlinewidth": 0,
             "ticks": ""
            },
            "colorscale": [
             [
              0,
              "#0d0887"
             ],
             [
              0.1111111111111111,
              "#46039f"
             ],
             [
              0.2222222222222222,
              "#7201a8"
             ],
             [
              0.3333333333333333,
              "#9c179e"
             ],
             [
              0.4444444444444444,
              "#bd3786"
             ],
             [
              0.5555555555555556,
              "#d8576b"
             ],
             [
              0.6666666666666666,
              "#ed7953"
             ],
             [
              0.7777777777777778,
              "#fb9f3a"
             ],
             [
              0.8888888888888888,
              "#fdca26"
             ],
             [
              1,
              "#f0f921"
             ]
            ],
            "type": "heatmap"
           }
          ],
          "heatmapgl": [
           {
            "colorbar": {
             "outlinewidth": 0,
             "ticks": ""
            },
            "colorscale": [
             [
              0,
              "#0d0887"
             ],
             [
              0.1111111111111111,
              "#46039f"
             ],
             [
              0.2222222222222222,
              "#7201a8"
             ],
             [
              0.3333333333333333,
              "#9c179e"
             ],
             [
              0.4444444444444444,
              "#bd3786"
             ],
             [
              0.5555555555555556,
              "#d8576b"
             ],
             [
              0.6666666666666666,
              "#ed7953"
             ],
             [
              0.7777777777777778,
              "#fb9f3a"
             ],
             [
              0.8888888888888888,
              "#fdca26"
             ],
             [
              1,
              "#f0f921"
             ]
            ],
            "type": "heatmapgl"
           }
          ],
          "histogram": [
           {
            "marker": {
             "pattern": {
              "fillmode": "overlay",
              "size": 10,
              "solidity": 0.2
             }
            },
            "type": "histogram"
           }
          ],
          "histogram2d": [
           {
            "colorbar": {
             "outlinewidth": 0,
             "ticks": ""
            },
            "colorscale": [
             [
              0,
              "#0d0887"
             ],
             [
              0.1111111111111111,
              "#46039f"
             ],
             [
              0.2222222222222222,
              "#7201a8"
             ],
             [
              0.3333333333333333,
              "#9c179e"
             ],
             [
              0.4444444444444444,
              "#bd3786"
             ],
             [
              0.5555555555555556,
              "#d8576b"
             ],
             [
              0.6666666666666666,
              "#ed7953"
             ],
             [
              0.7777777777777778,
              "#fb9f3a"
             ],
             [
              0.8888888888888888,
              "#fdca26"
             ],
             [
              1,
              "#f0f921"
             ]
            ],
            "type": "histogram2d"
           }
          ],
          "histogram2dcontour": [
           {
            "colorbar": {
             "outlinewidth": 0,
             "ticks": ""
            },
            "colorscale": [
             [
              0,
              "#0d0887"
             ],
             [
              0.1111111111111111,
              "#46039f"
             ],
             [
              0.2222222222222222,
              "#7201a8"
             ],
             [
              0.3333333333333333,
              "#9c179e"
             ],
             [
              0.4444444444444444,
              "#bd3786"
             ],
             [
              0.5555555555555556,
              "#d8576b"
             ],
             [
              0.6666666666666666,
              "#ed7953"
             ],
             [
              0.7777777777777778,
              "#fb9f3a"
             ],
             [
              0.8888888888888888,
              "#fdca26"
             ],
             [
              1,
              "#f0f921"
             ]
            ],
            "type": "histogram2dcontour"
           }
          ],
          "mesh3d": [
           {
            "colorbar": {
             "outlinewidth": 0,
             "ticks": ""
            },
            "type": "mesh3d"
           }
          ],
          "parcoords": [
           {
            "line": {
             "colorbar": {
              "outlinewidth": 0,
              "ticks": ""
             }
            },
            "type": "parcoords"
           }
          ],
          "pie": [
           {
            "automargin": true,
            "type": "pie"
           }
          ],
          "scatter": [
           {
            "marker": {
             "colorbar": {
              "outlinewidth": 0,
              "ticks": ""
             }
            },
            "type": "scatter"
           }
          ],
          "scatter3d": [
           {
            "line": {
             "colorbar": {
              "outlinewidth": 0,
              "ticks": ""
             }
            },
            "marker": {
             "colorbar": {
              "outlinewidth": 0,
              "ticks": ""
             }
            },
            "type": "scatter3d"
           }
          ],
          "scattercarpet": [
           {
            "marker": {
             "colorbar": {
              "outlinewidth": 0,
              "ticks": ""
             }
            },
            "type": "scattercarpet"
           }
          ],
          "scattergeo": [
           {
            "marker": {
             "colorbar": {
              "outlinewidth": 0,
              "ticks": ""
             }
            },
            "type": "scattergeo"
           }
          ],
          "scattergl": [
           {
            "marker": {
             "colorbar": {
              "outlinewidth": 0,
              "ticks": ""
             }
            },
            "type": "scattergl"
           }
          ],
          "scattermapbox": [
           {
            "marker": {
             "colorbar": {
              "outlinewidth": 0,
              "ticks": ""
             }
            },
            "type": "scattermapbox"
           }
          ],
          "scatterpolar": [
           {
            "marker": {
             "colorbar": {
              "outlinewidth": 0,
              "ticks": ""
             }
            },
            "type": "scatterpolar"
           }
          ],
          "scatterpolargl": [
           {
            "marker": {
             "colorbar": {
              "outlinewidth": 0,
              "ticks": ""
             }
            },
            "type": "scatterpolargl"
           }
          ],
          "scatterternary": [
           {
            "marker": {
             "colorbar": {
              "outlinewidth": 0,
              "ticks": ""
             }
            },
            "type": "scatterternary"
           }
          ],
          "surface": [
           {
            "colorbar": {
             "outlinewidth": 0,
             "ticks": ""
            },
            "colorscale": [
             [
              0,
              "#0d0887"
             ],
             [
              0.1111111111111111,
              "#46039f"
             ],
             [
              0.2222222222222222,
              "#7201a8"
             ],
             [
              0.3333333333333333,
              "#9c179e"
             ],
             [
              0.4444444444444444,
              "#bd3786"
             ],
             [
              0.5555555555555556,
              "#d8576b"
             ],
             [
              0.6666666666666666,
              "#ed7953"
             ],
             [
              0.7777777777777778,
              "#fb9f3a"
             ],
             [
              0.8888888888888888,
              "#fdca26"
             ],
             [
              1,
              "#f0f921"
             ]
            ],
            "type": "surface"
           }
          ],
          "table": [
           {
            "cells": {
             "fill": {
              "color": "#EBF0F8"
             },
             "line": {
              "color": "white"
             }
            },
            "header": {
             "fill": {
              "color": "#C8D4E3"
             },
             "line": {
              "color": "white"
             }
            },
            "type": "table"
           }
          ]
         },
         "layout": {
          "annotationdefaults": {
           "arrowcolor": "#2a3f5f",
           "arrowhead": 0,
           "arrowwidth": 1
          },
          "autotypenumbers": "strict",
          "coloraxis": {
           "colorbar": {
            "outlinewidth": 0,
            "ticks": ""
           }
          },
          "colorscale": {
           "diverging": [
            [
             0,
             "#8e0152"
            ],
            [
             0.1,
             "#c51b7d"
            ],
            [
             0.2,
             "#de77ae"
            ],
            [
             0.3,
             "#f1b6da"
            ],
            [
             0.4,
             "#fde0ef"
            ],
            [
             0.5,
             "#f7f7f7"
            ],
            [
             0.6,
             "#e6f5d0"
            ],
            [
             0.7,
             "#b8e186"
            ],
            [
             0.8,
             "#7fbc41"
            ],
            [
             0.9,
             "#4d9221"
            ],
            [
             1,
             "#276419"
            ]
           ],
           "sequential": [
            [
             0,
             "#0d0887"
            ],
            [
             0.1111111111111111,
             "#46039f"
            ],
            [
             0.2222222222222222,
             "#7201a8"
            ],
            [
             0.3333333333333333,
             "#9c179e"
            ],
            [
             0.4444444444444444,
             "#bd3786"
            ],
            [
             0.5555555555555556,
             "#d8576b"
            ],
            [
             0.6666666666666666,
             "#ed7953"
            ],
            [
             0.7777777777777778,
             "#fb9f3a"
            ],
            [
             0.8888888888888888,
             "#fdca26"
            ],
            [
             1,
             "#f0f921"
            ]
           ],
           "sequentialminus": [
            [
             0,
             "#0d0887"
            ],
            [
             0.1111111111111111,
             "#46039f"
            ],
            [
             0.2222222222222222,
             "#7201a8"
            ],
            [
             0.3333333333333333,
             "#9c179e"
            ],
            [
             0.4444444444444444,
             "#bd3786"
            ],
            [
             0.5555555555555556,
             "#d8576b"
            ],
            [
             0.6666666666666666,
             "#ed7953"
            ],
            [
             0.7777777777777778,
             "#fb9f3a"
            ],
            [
             0.8888888888888888,
             "#fdca26"
            ],
            [
             1,
             "#f0f921"
            ]
           ]
          },
          "colorway": [
           "#636efa",
           "#EF553B",
           "#00cc96",
           "#ab63fa",
           "#FFA15A",
           "#19d3f3",
           "#FF6692",
           "#B6E880",
           "#FF97FF",
           "#FECB52"
          ],
          "font": {
           "color": "#2a3f5f"
          },
          "geo": {
           "bgcolor": "white",
           "lakecolor": "white",
           "landcolor": "#E5ECF6",
           "showlakes": true,
           "showland": true,
           "subunitcolor": "white"
          },
          "hoverlabel": {
           "align": "left"
          },
          "hovermode": "closest",
          "mapbox": {
           "style": "light"
          },
          "paper_bgcolor": "white",
          "plot_bgcolor": "#E5ECF6",
          "polar": {
           "angularaxis": {
            "gridcolor": "white",
            "linecolor": "white",
            "ticks": ""
           },
           "bgcolor": "#E5ECF6",
           "radialaxis": {
            "gridcolor": "white",
            "linecolor": "white",
            "ticks": ""
           }
          },
          "scene": {
           "xaxis": {
            "backgroundcolor": "#E5ECF6",
            "gridcolor": "white",
            "gridwidth": 2,
            "linecolor": "white",
            "showbackground": true,
            "ticks": "",
            "zerolinecolor": "white"
           },
           "yaxis": {
            "backgroundcolor": "#E5ECF6",
            "gridcolor": "white",
            "gridwidth": 2,
            "linecolor": "white",
            "showbackground": true,
            "ticks": "",
            "zerolinecolor": "white"
           },
           "zaxis": {
            "backgroundcolor": "#E5ECF6",
            "gridcolor": "white",
            "gridwidth": 2,
            "linecolor": "white",
            "showbackground": true,
            "ticks": "",
            "zerolinecolor": "white"
           }
          },
          "shapedefaults": {
           "line": {
            "color": "#2a3f5f"
           }
          },
          "ternary": {
           "aaxis": {
            "gridcolor": "white",
            "linecolor": "white",
            "ticks": ""
           },
           "baxis": {
            "gridcolor": "white",
            "linecolor": "white",
            "ticks": ""
           },
           "bgcolor": "#E5ECF6",
           "caxis": {
            "gridcolor": "white",
            "linecolor": "white",
            "ticks": ""
           }
          },
          "title": {
           "x": 0.05
          },
          "xaxis": {
           "automargin": true,
           "gridcolor": "white",
           "linecolor": "white",
           "ticks": "",
           "title": {
            "standoff": 15
           },
           "zerolinecolor": "white",
           "zerolinewidth": 2
          },
          "yaxis": {
           "automargin": true,
           "gridcolor": "white",
           "linecolor": "white",
           "ticks": "",
           "title": {
            "standoff": 15
           },
           "zerolinecolor": "white",
           "zerolinewidth": 2
          }
         }
        },
        "title": {
         "font": {
          "color": "#4D5663"
         }
        },
        "xaxis": {
         "gridcolor": "#E1E5ED",
         "showgrid": true,
         "tickfont": {
          "color": "#4D5663"
         },
         "title": {
          "font": {
           "color": "#4D5663"
          },
          "text": ""
         },
         "zerolinecolor": "#E1E5ED"
        },
        "yaxis": {
         "gridcolor": "#E1E5ED",
         "showgrid": true,
         "tickfont": {
          "color": "#4D5663"
         },
         "title": {
          "font": {
           "color": "#4D5663"
          },
          "text": ""
         },
         "zerolinecolor": "#E1E5ED"
        }
       }
      },
      "text/html": [
       "<div>                            <div id=\"a4d7c4e5-3273-4c55-84f2-8dedda661d74\" class=\"plotly-graph-div\" style=\"height:525px; width:100%;\"></div>            <script type=\"text/javascript\">                require([\"plotly\"], function(Plotly) {                    window.PLOTLYENV=window.PLOTLYENV || {};\n",
       "                    window.PLOTLYENV.BASE_URL='https://plot.ly';                                    if (document.getElementById(\"a4d7c4e5-3273-4c55-84f2-8dedda661d74\")) {                    Plotly.newPlot(                        \"a4d7c4e5-3273-4c55-84f2-8dedda661d74\",                        [{\"line\":{\"color\":\"rgba(255, 153, 51, 1.0)\",\"dash\":\"solid\",\"shape\":\"linear\",\"width\":1.3},\"marker\":{\"size\":12,\"symbol\":\"circle\"},\"mode\":\"markers\",\"name\":\"B\",\"text\":\"\",\"type\":\"scatter\",\"x\":[-0.34225299009874355,0.4892447760011251,0.6289296113249515,-0.9623444735331236,0.5218374246730623,1.0872779779546433,-2.5446001105676275,-0.2858836687280843,1.3065777779854995,-2.4104707774726113,1.3369186035954843,0.3838707492935451,-0.5526656706871299,-0.523243795919335,-0.5219209505049524,0.7876928140633233,-0.9458273989118097,0.6798036848133264,-0.7326321084090412,2.9676666789696204,-0.05694316110548828,-0.3901687948679766,0.39042317054449927,-0.5097476850302313,-0.06005776882918707,1.8651889477854269,0.6825596947887341,-0.660930834038989,0.7457389149047722,0.5831350759677145,0.20565331727263178,0.12137563657220368,0.14222541475987407,-0.21964030922882513,-0.1403522050946297,0.9130048247460788,-0.5324825569805095,0.8357026232545052,-0.05136640945025422,-0.15442903874892236,0.4427417326955754,-1.4618826570001109,-0.23457977919541678,1.5819006525811172,1.7673116734486296,0.5244123082679875,-1.4960518062062593,-0.08993988733773665,0.8209575792192505,0.277831732542309,1.9225576880083868,1.757171966228769,-2.138688527959561,-1.3709748402957949,-0.7155997219888818,0.3317227996255702,-1.0043614591743062,-1.0261278984258224,-1.4276290468878337,-1.0891931758991331,0.2035269789201755,0.02473667551913148,0.19551292413294072,-0.19036560623878837,-1.8010591597777204,0.8032033734232925,-1.0990490358758565,0.7760903618580065,-0.5271828141604505,-0.7383131855752465,-0.27543257249948844,-0.037819243298348515,1.2032094442658468,0.785084605957565,0.7503288870253916,-0.8472573692739707,-0.37625320843617843,-1.2657485333486633,1.7888324677330751,0.7499899464558957,0.3247253443598456,1.1096782207812264,0.28418622192332155,0.8318537645554853,2.0139557344103043,0.3476274485672122,-0.7967921761246892,-0.12058745799601407,0.43531389145934873,0.35347704597191093,-1.3720175798793395,-1.2811737166611563,0.04571690779276586,1.8411898245359177,-0.34353168706576764,1.0133136240424316,0.31479801507956323,2.1145539751315687,-1.0277828928921748,-0.7838019655038211],\"y\":[0.9900955482666974,-0.9889452577232196,-0.9378354850254641,-0.5463691152022653,2.0271518857018807,0.19925957847537346,-0.7786039713483985,0.2520015620313144,-0.6188427581785232,0.419814842315549,-1.8602683357380412,0.7728522626338924,0.23979797259129315,1.1297423815295664,-0.10475559546208067,-0.009461289991414178,0.7113080068140527,-1.4786843116096715,-1.3201954219731604,0.07031698798374092,1.6442459691777473,-0.13952067189279416,-0.9250117184627819,-1.730634623494131,-1.2546443084973622,1.2139408010780905,-0.5844745801129339,-0.29554717166621897,0.27281484542731976,0.25318894794907465,-0.24638066248007567,-0.3001463717227039,-0.47843477549201796,1.5339025213459436,1.237395379686162,-0.214093862004028,-0.3867947061510151,0.20025306551505054,0.5518586459046209,-1.2649171383821682,-0.31394703787397016,2.624200579430331,-0.7124402468346807,0.47598211399691526,0.3543661152225115,-0.7416521439997066,0.11901051948687877,-1.228030696683017,-0.5254167537146217,-0.8180277127043986,0.9767586529113346,1.2707583473030304,-0.1430902898326658,0.3866316300901333,0.918493501529165,0.7382411409509697,-1.7872095559123204,-0.05138925422187474,-1.3099282607443965,0.3619874357419031,0.2473659952388168,0.673183153770201,-0.42378629704185045,-0.5218702450381305,0.3643796819545949,-0.8571232551495427,0.6196384121373644,-0.5532877791773987,-0.6985239271046452,-0.4971711238652195,0.9837197737497394,0.151109103477177,-0.45528688478792184,-0.2940979367596788,-1.1357511274305079,1.7291497641174005,-0.5315171160860179,0.5412751513880071,2.319270328199936,1.105881259664581,0.24183604497834638,-0.12739001798747068,0.15509861976732744,-1.0996109070986873,0.23972510178264853,-0.08154335854543714,-1.8255709836497878,1.8463351692191043,1.820835557120743,0.9539408365908607,-1.7026480093372356,0.736197256641093,-0.21103967120123218,0.37668614877938134,-0.8927141407003845,-0.10178995397251908,-1.3472346892602074,-0.6569542813244048,0.9437776474422417,-3.0058043986457124]}],                        {\"legend\":{\"bgcolor\":\"#F5F6F9\",\"font\":{\"color\":\"#4D5663\"}},\"paper_bgcolor\":\"#F5F6F9\",\"plot_bgcolor\":\"#F5F6F9\",\"template\":{\"data\":{\"bar\":[{\"error_x\":{\"color\":\"#2a3f5f\"},\"error_y\":{\"color\":\"#2a3f5f\"},\"marker\":{\"line\":{\"color\":\"#E5ECF6\",\"width\":0.5},\"pattern\":{\"fillmode\":\"overlay\",\"size\":10,\"solidity\":0.2}},\"type\":\"bar\"}],\"barpolar\":[{\"marker\":{\"line\":{\"color\":\"#E5ECF6\",\"width\":0.5},\"pattern\":{\"fillmode\":\"overlay\",\"size\":10,\"solidity\":0.2}},\"type\":\"barpolar\"}],\"carpet\":[{\"aaxis\":{\"endlinecolor\":\"#2a3f5f\",\"gridcolor\":\"white\",\"linecolor\":\"white\",\"minorgridcolor\":\"white\",\"startlinecolor\":\"#2a3f5f\"},\"baxis\":{\"endlinecolor\":\"#2a3f5f\",\"gridcolor\":\"white\",\"linecolor\":\"white\",\"minorgridcolor\":\"white\",\"startlinecolor\":\"#2a3f5f\"},\"type\":\"carpet\"}],\"choropleth\":[{\"colorbar\":{\"outlinewidth\":0,\"ticks\":\"\"},\"type\":\"choropleth\"}],\"contour\":[{\"colorbar\":{\"outlinewidth\":0,\"ticks\":\"\"},\"colorscale\":[[0.0,\"#0d0887\"],[0.1111111111111111,\"#46039f\"],[0.2222222222222222,\"#7201a8\"],[0.3333333333333333,\"#9c179e\"],[0.4444444444444444,\"#bd3786\"],[0.5555555555555556,\"#d8576b\"],[0.6666666666666666,\"#ed7953\"],[0.7777777777777778,\"#fb9f3a\"],[0.8888888888888888,\"#fdca26\"],[1.0,\"#f0f921\"]],\"type\":\"contour\"}],\"contourcarpet\":[{\"colorbar\":{\"outlinewidth\":0,\"ticks\":\"\"},\"type\":\"contourcarpet\"}],\"heatmap\":[{\"colorbar\":{\"outlinewidth\":0,\"ticks\":\"\"},\"colorscale\":[[0.0,\"#0d0887\"],[0.1111111111111111,\"#46039f\"],[0.2222222222222222,\"#7201a8\"],[0.3333333333333333,\"#9c179e\"],[0.4444444444444444,\"#bd3786\"],[0.5555555555555556,\"#d8576b\"],[0.6666666666666666,\"#ed7953\"],[0.7777777777777778,\"#fb9f3a\"],[0.8888888888888888,\"#fdca26\"],[1.0,\"#f0f921\"]],\"type\":\"heatmap\"}],\"heatmapgl\":[{\"colorbar\":{\"outlinewidth\":0,\"ticks\":\"\"},\"colorscale\":[[0.0,\"#0d0887\"],[0.1111111111111111,\"#46039f\"],[0.2222222222222222,\"#7201a8\"],[0.3333333333333333,\"#9c179e\"],[0.4444444444444444,\"#bd3786\"],[0.5555555555555556,\"#d8576b\"],[0.6666666666666666,\"#ed7953\"],[0.7777777777777778,\"#fb9f3a\"],[0.8888888888888888,\"#fdca26\"],[1.0,\"#f0f921\"]],\"type\":\"heatmapgl\"}],\"histogram\":[{\"marker\":{\"pattern\":{\"fillmode\":\"overlay\",\"size\":10,\"solidity\":0.2}},\"type\":\"histogram\"}],\"histogram2d\":[{\"colorbar\":{\"outlinewidth\":0,\"ticks\":\"\"},\"colorscale\":[[0.0,\"#0d0887\"],[0.1111111111111111,\"#46039f\"],[0.2222222222222222,\"#7201a8\"],[0.3333333333333333,\"#9c179e\"],[0.4444444444444444,\"#bd3786\"],[0.5555555555555556,\"#d8576b\"],[0.6666666666666666,\"#ed7953\"],[0.7777777777777778,\"#fb9f3a\"],[0.8888888888888888,\"#fdca26\"],[1.0,\"#f0f921\"]],\"type\":\"histogram2d\"}],\"histogram2dcontour\":[{\"colorbar\":{\"outlinewidth\":0,\"ticks\":\"\"},\"colorscale\":[[0.0,\"#0d0887\"],[0.1111111111111111,\"#46039f\"],[0.2222222222222222,\"#7201a8\"],[0.3333333333333333,\"#9c179e\"],[0.4444444444444444,\"#bd3786\"],[0.5555555555555556,\"#d8576b\"],[0.6666666666666666,\"#ed7953\"],[0.7777777777777778,\"#fb9f3a\"],[0.8888888888888888,\"#fdca26\"],[1.0,\"#f0f921\"]],\"type\":\"histogram2dcontour\"}],\"mesh3d\":[{\"colorbar\":{\"outlinewidth\":0,\"ticks\":\"\"},\"type\":\"mesh3d\"}],\"parcoords\":[{\"line\":{\"colorbar\":{\"outlinewidth\":0,\"ticks\":\"\"}},\"type\":\"parcoords\"}],\"pie\":[{\"automargin\":true,\"type\":\"pie\"}],\"scatter\":[{\"marker\":{\"colorbar\":{\"outlinewidth\":0,\"ticks\":\"\"}},\"type\":\"scatter\"}],\"scatter3d\":[{\"line\":{\"colorbar\":{\"outlinewidth\":0,\"ticks\":\"\"}},\"marker\":{\"colorbar\":{\"outlinewidth\":0,\"ticks\":\"\"}},\"type\":\"scatter3d\"}],\"scattercarpet\":[{\"marker\":{\"colorbar\":{\"outlinewidth\":0,\"ticks\":\"\"}},\"type\":\"scattercarpet\"}],\"scattergeo\":[{\"marker\":{\"colorbar\":{\"outlinewidth\":0,\"ticks\":\"\"}},\"type\":\"scattergeo\"}],\"scattergl\":[{\"marker\":{\"colorbar\":{\"outlinewidth\":0,\"ticks\":\"\"}},\"type\":\"scattergl\"}],\"scattermapbox\":[{\"marker\":{\"colorbar\":{\"outlinewidth\":0,\"ticks\":\"\"}},\"type\":\"scattermapbox\"}],\"scatterpolar\":[{\"marker\":{\"colorbar\":{\"outlinewidth\":0,\"ticks\":\"\"}},\"type\":\"scatterpolar\"}],\"scatterpolargl\":[{\"marker\":{\"colorbar\":{\"outlinewidth\":0,\"ticks\":\"\"}},\"type\":\"scatterpolargl\"}],\"scatterternary\":[{\"marker\":{\"colorbar\":{\"outlinewidth\":0,\"ticks\":\"\"}},\"type\":\"scatterternary\"}],\"surface\":[{\"colorbar\":{\"outlinewidth\":0,\"ticks\":\"\"},\"colorscale\":[[0.0,\"#0d0887\"],[0.1111111111111111,\"#46039f\"],[0.2222222222222222,\"#7201a8\"],[0.3333333333333333,\"#9c179e\"],[0.4444444444444444,\"#bd3786\"],[0.5555555555555556,\"#d8576b\"],[0.6666666666666666,\"#ed7953\"],[0.7777777777777778,\"#fb9f3a\"],[0.8888888888888888,\"#fdca26\"],[1.0,\"#f0f921\"]],\"type\":\"surface\"}],\"table\":[{\"cells\":{\"fill\":{\"color\":\"#EBF0F8\"},\"line\":{\"color\":\"white\"}},\"header\":{\"fill\":{\"color\":\"#C8D4E3\"},\"line\":{\"color\":\"white\"}},\"type\":\"table\"}]},\"layout\":{\"annotationdefaults\":{\"arrowcolor\":\"#2a3f5f\",\"arrowhead\":0,\"arrowwidth\":1},\"autotypenumbers\":\"strict\",\"coloraxis\":{\"colorbar\":{\"outlinewidth\":0,\"ticks\":\"\"}},\"colorscale\":{\"diverging\":[[0,\"#8e0152\"],[0.1,\"#c51b7d\"],[0.2,\"#de77ae\"],[0.3,\"#f1b6da\"],[0.4,\"#fde0ef\"],[0.5,\"#f7f7f7\"],[0.6,\"#e6f5d0\"],[0.7,\"#b8e186\"],[0.8,\"#7fbc41\"],[0.9,\"#4d9221\"],[1,\"#276419\"]],\"sequential\":[[0.0,\"#0d0887\"],[0.1111111111111111,\"#46039f\"],[0.2222222222222222,\"#7201a8\"],[0.3333333333333333,\"#9c179e\"],[0.4444444444444444,\"#bd3786\"],[0.5555555555555556,\"#d8576b\"],[0.6666666666666666,\"#ed7953\"],[0.7777777777777778,\"#fb9f3a\"],[0.8888888888888888,\"#fdca26\"],[1.0,\"#f0f921\"]],\"sequentialminus\":[[0.0,\"#0d0887\"],[0.1111111111111111,\"#46039f\"],[0.2222222222222222,\"#7201a8\"],[0.3333333333333333,\"#9c179e\"],[0.4444444444444444,\"#bd3786\"],[0.5555555555555556,\"#d8576b\"],[0.6666666666666666,\"#ed7953\"],[0.7777777777777778,\"#fb9f3a\"],[0.8888888888888888,\"#fdca26\"],[1.0,\"#f0f921\"]]},\"colorway\":[\"#636efa\",\"#EF553B\",\"#00cc96\",\"#ab63fa\",\"#FFA15A\",\"#19d3f3\",\"#FF6692\",\"#B6E880\",\"#FF97FF\",\"#FECB52\"],\"font\":{\"color\":\"#2a3f5f\"},\"geo\":{\"bgcolor\":\"white\",\"lakecolor\":\"white\",\"landcolor\":\"#E5ECF6\",\"showlakes\":true,\"showland\":true,\"subunitcolor\":\"white\"},\"hoverlabel\":{\"align\":\"left\"},\"hovermode\":\"closest\",\"mapbox\":{\"style\":\"light\"},\"paper_bgcolor\":\"white\",\"plot_bgcolor\":\"#E5ECF6\",\"polar\":{\"angularaxis\":{\"gridcolor\":\"white\",\"linecolor\":\"white\",\"ticks\":\"\"},\"bgcolor\":\"#E5ECF6\",\"radialaxis\":{\"gridcolor\":\"white\",\"linecolor\":\"white\",\"ticks\":\"\"}},\"scene\":{\"xaxis\":{\"backgroundcolor\":\"#E5ECF6\",\"gridcolor\":\"white\",\"gridwidth\":2,\"linecolor\":\"white\",\"showbackground\":true,\"ticks\":\"\",\"zerolinecolor\":\"white\"},\"yaxis\":{\"backgroundcolor\":\"#E5ECF6\",\"gridcolor\":\"white\",\"gridwidth\":2,\"linecolor\":\"white\",\"showbackground\":true,\"ticks\":\"\",\"zerolinecolor\":\"white\"},\"zaxis\":{\"backgroundcolor\":\"#E5ECF6\",\"gridcolor\":\"white\",\"gridwidth\":2,\"linecolor\":\"white\",\"showbackground\":true,\"ticks\":\"\",\"zerolinecolor\":\"white\"}},\"shapedefaults\":{\"line\":{\"color\":\"#2a3f5f\"}},\"ternary\":{\"aaxis\":{\"gridcolor\":\"white\",\"linecolor\":\"white\",\"ticks\":\"\"},\"baxis\":{\"gridcolor\":\"white\",\"linecolor\":\"white\",\"ticks\":\"\"},\"bgcolor\":\"#E5ECF6\",\"caxis\":{\"gridcolor\":\"white\",\"linecolor\":\"white\",\"ticks\":\"\"}},\"title\":{\"x\":0.05},\"xaxis\":{\"automargin\":true,\"gridcolor\":\"white\",\"linecolor\":\"white\",\"ticks\":\"\",\"title\":{\"standoff\":15},\"zerolinecolor\":\"white\",\"zerolinewidth\":2},\"yaxis\":{\"automargin\":true,\"gridcolor\":\"white\",\"linecolor\":\"white\",\"ticks\":\"\",\"title\":{\"standoff\":15},\"zerolinecolor\":\"white\",\"zerolinewidth\":2}}},\"title\":{\"font\":{\"color\":\"#4D5663\"}},\"xaxis\":{\"gridcolor\":\"#E1E5ED\",\"showgrid\":true,\"tickfont\":{\"color\":\"#4D5663\"},\"title\":{\"font\":{\"color\":\"#4D5663\"},\"text\":\"\"},\"zerolinecolor\":\"#E1E5ED\"},\"yaxis\":{\"gridcolor\":\"#E1E5ED\",\"showgrid\":true,\"tickfont\":{\"color\":\"#4D5663\"},\"title\":{\"font\":{\"color\":\"#4D5663\"},\"text\":\"\"},\"zerolinecolor\":\"#E1E5ED\"}},                        {\"showLink\": true, \"linkText\": \"Export to plot.ly\", \"plotlyServerURL\": \"https://plot.ly\", \"responsive\": true}                    ).then(function(){\n",
       "                            \n",
       "var gd = document.getElementById('a4d7c4e5-3273-4c55-84f2-8dedda661d74');\n",
       "var x = new MutationObserver(function (mutations, observer) {{\n",
       "        var display = window.getComputedStyle(gd).display;\n",
       "        if (!display || display === 'none') {{\n",
       "            console.log([gd, 'removed!']);\n",
       "            Plotly.purge(gd);\n",
       "            observer.disconnect();\n",
       "        }}\n",
       "}});\n",
       "\n",
       "// Listen for the removal of the full notebook cells\n",
       "var notebookContainer = gd.closest('#notebook-container');\n",
       "if (notebookContainer) {{\n",
       "    x.observe(notebookContainer, {childList: true});\n",
       "}}\n",
       "\n",
       "// Listen for the clearing of the current output cell\n",
       "var outputEl = gd.closest('.output');\n",
       "if (outputEl) {{\n",
       "    x.observe(outputEl, {childList: true});\n",
       "}}\n",
       "\n",
       "                        })                };                });            </script>        </div>"
      ]
     },
     "metadata": {},
     "output_type": "display_data"
    }
   ],
   "source": [
    "df.iplot(kind='scatter',x='A',y='B',mode='markers')"
   ]
  },
  {
   "cell_type": "code",
   "execution_count": 23,
   "id": "9f960061",
   "metadata": {},
   "outputs": [
    {
     "data": {
      "application/vnd.plotly.v1+json": {
       "config": {
        "linkText": "Export to plot.ly",
        "plotlyServerURL": "https://plot.ly",
        "showLink": true
       },
       "data": [
        {
         "line": {
          "color": "rgba(255, 153, 51, 1.0)",
          "dash": "solid",
          "shape": "linear",
          "width": 1.3
         },
         "marker": {
          "size": 10,
          "symbol": "circle"
         },
         "mode": "markers",
         "name": "B",
         "text": "",
         "type": "scatter",
         "x": [
          -0.34225299009874355,
          0.4892447760011251,
          0.6289296113249515,
          -0.9623444735331236,
          0.5218374246730623,
          1.0872779779546433,
          -2.5446001105676275,
          -0.2858836687280843,
          1.3065777779854995,
          -2.4104707774726113,
          1.3369186035954843,
          0.3838707492935451,
          -0.5526656706871299,
          -0.523243795919335,
          -0.5219209505049524,
          0.7876928140633233,
          -0.9458273989118097,
          0.6798036848133264,
          -0.7326321084090412,
          2.9676666789696204,
          -0.05694316110548828,
          -0.3901687948679766,
          0.39042317054449927,
          -0.5097476850302313,
          -0.06005776882918707,
          1.8651889477854269,
          0.6825596947887341,
          -0.660930834038989,
          0.7457389149047722,
          0.5831350759677145,
          0.20565331727263178,
          0.12137563657220368,
          0.14222541475987407,
          -0.21964030922882513,
          -0.1403522050946297,
          0.9130048247460788,
          -0.5324825569805095,
          0.8357026232545052,
          -0.05136640945025422,
          -0.15442903874892236,
          0.4427417326955754,
          -1.4618826570001109,
          -0.23457977919541678,
          1.5819006525811172,
          1.7673116734486296,
          0.5244123082679875,
          -1.4960518062062593,
          -0.08993988733773665,
          0.8209575792192505,
          0.277831732542309,
          1.9225576880083868,
          1.757171966228769,
          -2.138688527959561,
          -1.3709748402957949,
          -0.7155997219888818,
          0.3317227996255702,
          -1.0043614591743062,
          -1.0261278984258224,
          -1.4276290468878337,
          -1.0891931758991331,
          0.2035269789201755,
          0.02473667551913148,
          0.19551292413294072,
          -0.19036560623878837,
          -1.8010591597777204,
          0.8032033734232925,
          -1.0990490358758565,
          0.7760903618580065,
          -0.5271828141604505,
          -0.7383131855752465,
          -0.27543257249948844,
          -0.037819243298348515,
          1.2032094442658468,
          0.785084605957565,
          0.7503288870253916,
          -0.8472573692739707,
          -0.37625320843617843,
          -1.2657485333486633,
          1.7888324677330751,
          0.7499899464558957,
          0.3247253443598456,
          1.1096782207812264,
          0.28418622192332155,
          0.8318537645554853,
          2.0139557344103043,
          0.3476274485672122,
          -0.7967921761246892,
          -0.12058745799601407,
          0.43531389145934873,
          0.35347704597191093,
          -1.3720175798793395,
          -1.2811737166611563,
          0.04571690779276586,
          1.8411898245359177,
          -0.34353168706576764,
          1.0133136240424316,
          0.31479801507956323,
          2.1145539751315687,
          -1.0277828928921748,
          -0.7838019655038211
         ],
         "y": [
          0.9900955482666974,
          -0.9889452577232196,
          -0.9378354850254641,
          -0.5463691152022653,
          2.0271518857018807,
          0.19925957847537346,
          -0.7786039713483985,
          0.2520015620313144,
          -0.6188427581785232,
          0.419814842315549,
          -1.8602683357380412,
          0.7728522626338924,
          0.23979797259129315,
          1.1297423815295664,
          -0.10475559546208067,
          -0.009461289991414178,
          0.7113080068140527,
          -1.4786843116096715,
          -1.3201954219731604,
          0.07031698798374092,
          1.6442459691777473,
          -0.13952067189279416,
          -0.9250117184627819,
          -1.730634623494131,
          -1.2546443084973622,
          1.2139408010780905,
          -0.5844745801129339,
          -0.29554717166621897,
          0.27281484542731976,
          0.25318894794907465,
          -0.24638066248007567,
          -0.3001463717227039,
          -0.47843477549201796,
          1.5339025213459436,
          1.237395379686162,
          -0.214093862004028,
          -0.3867947061510151,
          0.20025306551505054,
          0.5518586459046209,
          -1.2649171383821682,
          -0.31394703787397016,
          2.624200579430331,
          -0.7124402468346807,
          0.47598211399691526,
          0.3543661152225115,
          -0.7416521439997066,
          0.11901051948687877,
          -1.228030696683017,
          -0.5254167537146217,
          -0.8180277127043986,
          0.9767586529113346,
          1.2707583473030304,
          -0.1430902898326658,
          0.3866316300901333,
          0.918493501529165,
          0.7382411409509697,
          -1.7872095559123204,
          -0.05138925422187474,
          -1.3099282607443965,
          0.3619874357419031,
          0.2473659952388168,
          0.673183153770201,
          -0.42378629704185045,
          -0.5218702450381305,
          0.3643796819545949,
          -0.8571232551495427,
          0.6196384121373644,
          -0.5532877791773987,
          -0.6985239271046452,
          -0.4971711238652195,
          0.9837197737497394,
          0.151109103477177,
          -0.45528688478792184,
          -0.2940979367596788,
          -1.1357511274305079,
          1.7291497641174005,
          -0.5315171160860179,
          0.5412751513880071,
          2.319270328199936,
          1.105881259664581,
          0.24183604497834638,
          -0.12739001798747068,
          0.15509861976732744,
          -1.0996109070986873,
          0.23972510178264853,
          -0.08154335854543714,
          -1.8255709836497878,
          1.8463351692191043,
          1.820835557120743,
          0.9539408365908607,
          -1.7026480093372356,
          0.736197256641093,
          -0.21103967120123218,
          0.37668614877938134,
          -0.8927141407003845,
          -0.10178995397251908,
          -1.3472346892602074,
          -0.6569542813244048,
          0.9437776474422417,
          -3.0058043986457124
         ]
        }
       ],
       "layout": {
        "legend": {
         "bgcolor": "#F5F6F9",
         "font": {
          "color": "#4D5663"
         }
        },
        "paper_bgcolor": "#F5F6F9",
        "plot_bgcolor": "#F5F6F9",
        "template": {
         "data": {
          "bar": [
           {
            "error_x": {
             "color": "#2a3f5f"
            },
            "error_y": {
             "color": "#2a3f5f"
            },
            "marker": {
             "line": {
              "color": "#E5ECF6",
              "width": 0.5
             },
             "pattern": {
              "fillmode": "overlay",
              "size": 10,
              "solidity": 0.2
             }
            },
            "type": "bar"
           }
          ],
          "barpolar": [
           {
            "marker": {
             "line": {
              "color": "#E5ECF6",
              "width": 0.5
             },
             "pattern": {
              "fillmode": "overlay",
              "size": 10,
              "solidity": 0.2
             }
            },
            "type": "barpolar"
           }
          ],
          "carpet": [
           {
            "aaxis": {
             "endlinecolor": "#2a3f5f",
             "gridcolor": "white",
             "linecolor": "white",
             "minorgridcolor": "white",
             "startlinecolor": "#2a3f5f"
            },
            "baxis": {
             "endlinecolor": "#2a3f5f",
             "gridcolor": "white",
             "linecolor": "white",
             "minorgridcolor": "white",
             "startlinecolor": "#2a3f5f"
            },
            "type": "carpet"
           }
          ],
          "choropleth": [
           {
            "colorbar": {
             "outlinewidth": 0,
             "ticks": ""
            },
            "type": "choropleth"
           }
          ],
          "contour": [
           {
            "colorbar": {
             "outlinewidth": 0,
             "ticks": ""
            },
            "colorscale": [
             [
              0,
              "#0d0887"
             ],
             [
              0.1111111111111111,
              "#46039f"
             ],
             [
              0.2222222222222222,
              "#7201a8"
             ],
             [
              0.3333333333333333,
              "#9c179e"
             ],
             [
              0.4444444444444444,
              "#bd3786"
             ],
             [
              0.5555555555555556,
              "#d8576b"
             ],
             [
              0.6666666666666666,
              "#ed7953"
             ],
             [
              0.7777777777777778,
              "#fb9f3a"
             ],
             [
              0.8888888888888888,
              "#fdca26"
             ],
             [
              1,
              "#f0f921"
             ]
            ],
            "type": "contour"
           }
          ],
          "contourcarpet": [
           {
            "colorbar": {
             "outlinewidth": 0,
             "ticks": ""
            },
            "type": "contourcarpet"
           }
          ],
          "heatmap": [
           {
            "colorbar": {
             "outlinewidth": 0,
             "ticks": ""
            },
            "colorscale": [
             [
              0,
              "#0d0887"
             ],
             [
              0.1111111111111111,
              "#46039f"
             ],
             [
              0.2222222222222222,
              "#7201a8"
             ],
             [
              0.3333333333333333,
              "#9c179e"
             ],
             [
              0.4444444444444444,
              "#bd3786"
             ],
             [
              0.5555555555555556,
              "#d8576b"
             ],
             [
              0.6666666666666666,
              "#ed7953"
             ],
             [
              0.7777777777777778,
              "#fb9f3a"
             ],
             [
              0.8888888888888888,
              "#fdca26"
             ],
             [
              1,
              "#f0f921"
             ]
            ],
            "type": "heatmap"
           }
          ],
          "heatmapgl": [
           {
            "colorbar": {
             "outlinewidth": 0,
             "ticks": ""
            },
            "colorscale": [
             [
              0,
              "#0d0887"
             ],
             [
              0.1111111111111111,
              "#46039f"
             ],
             [
              0.2222222222222222,
              "#7201a8"
             ],
             [
              0.3333333333333333,
              "#9c179e"
             ],
             [
              0.4444444444444444,
              "#bd3786"
             ],
             [
              0.5555555555555556,
              "#d8576b"
             ],
             [
              0.6666666666666666,
              "#ed7953"
             ],
             [
              0.7777777777777778,
              "#fb9f3a"
             ],
             [
              0.8888888888888888,
              "#fdca26"
             ],
             [
              1,
              "#f0f921"
             ]
            ],
            "type": "heatmapgl"
           }
          ],
          "histogram": [
           {
            "marker": {
             "pattern": {
              "fillmode": "overlay",
              "size": 10,
              "solidity": 0.2
             }
            },
            "type": "histogram"
           }
          ],
          "histogram2d": [
           {
            "colorbar": {
             "outlinewidth": 0,
             "ticks": ""
            },
            "colorscale": [
             [
              0,
              "#0d0887"
             ],
             [
              0.1111111111111111,
              "#46039f"
             ],
             [
              0.2222222222222222,
              "#7201a8"
             ],
             [
              0.3333333333333333,
              "#9c179e"
             ],
             [
              0.4444444444444444,
              "#bd3786"
             ],
             [
              0.5555555555555556,
              "#d8576b"
             ],
             [
              0.6666666666666666,
              "#ed7953"
             ],
             [
              0.7777777777777778,
              "#fb9f3a"
             ],
             [
              0.8888888888888888,
              "#fdca26"
             ],
             [
              1,
              "#f0f921"
             ]
            ],
            "type": "histogram2d"
           }
          ],
          "histogram2dcontour": [
           {
            "colorbar": {
             "outlinewidth": 0,
             "ticks": ""
            },
            "colorscale": [
             [
              0,
              "#0d0887"
             ],
             [
              0.1111111111111111,
              "#46039f"
             ],
             [
              0.2222222222222222,
              "#7201a8"
             ],
             [
              0.3333333333333333,
              "#9c179e"
             ],
             [
              0.4444444444444444,
              "#bd3786"
             ],
             [
              0.5555555555555556,
              "#d8576b"
             ],
             [
              0.6666666666666666,
              "#ed7953"
             ],
             [
              0.7777777777777778,
              "#fb9f3a"
             ],
             [
              0.8888888888888888,
              "#fdca26"
             ],
             [
              1,
              "#f0f921"
             ]
            ],
            "type": "histogram2dcontour"
           }
          ],
          "mesh3d": [
           {
            "colorbar": {
             "outlinewidth": 0,
             "ticks": ""
            },
            "type": "mesh3d"
           }
          ],
          "parcoords": [
           {
            "line": {
             "colorbar": {
              "outlinewidth": 0,
              "ticks": ""
             }
            },
            "type": "parcoords"
           }
          ],
          "pie": [
           {
            "automargin": true,
            "type": "pie"
           }
          ],
          "scatter": [
           {
            "marker": {
             "colorbar": {
              "outlinewidth": 0,
              "ticks": ""
             }
            },
            "type": "scatter"
           }
          ],
          "scatter3d": [
           {
            "line": {
             "colorbar": {
              "outlinewidth": 0,
              "ticks": ""
             }
            },
            "marker": {
             "colorbar": {
              "outlinewidth": 0,
              "ticks": ""
             }
            },
            "type": "scatter3d"
           }
          ],
          "scattercarpet": [
           {
            "marker": {
             "colorbar": {
              "outlinewidth": 0,
              "ticks": ""
             }
            },
            "type": "scattercarpet"
           }
          ],
          "scattergeo": [
           {
            "marker": {
             "colorbar": {
              "outlinewidth": 0,
              "ticks": ""
             }
            },
            "type": "scattergeo"
           }
          ],
          "scattergl": [
           {
            "marker": {
             "colorbar": {
              "outlinewidth": 0,
              "ticks": ""
             }
            },
            "type": "scattergl"
           }
          ],
          "scattermapbox": [
           {
            "marker": {
             "colorbar": {
              "outlinewidth": 0,
              "ticks": ""
             }
            },
            "type": "scattermapbox"
           }
          ],
          "scatterpolar": [
           {
            "marker": {
             "colorbar": {
              "outlinewidth": 0,
              "ticks": ""
             }
            },
            "type": "scatterpolar"
           }
          ],
          "scatterpolargl": [
           {
            "marker": {
             "colorbar": {
              "outlinewidth": 0,
              "ticks": ""
             }
            },
            "type": "scatterpolargl"
           }
          ],
          "scatterternary": [
           {
            "marker": {
             "colorbar": {
              "outlinewidth": 0,
              "ticks": ""
             }
            },
            "type": "scatterternary"
           }
          ],
          "surface": [
           {
            "colorbar": {
             "outlinewidth": 0,
             "ticks": ""
            },
            "colorscale": [
             [
              0,
              "#0d0887"
             ],
             [
              0.1111111111111111,
              "#46039f"
             ],
             [
              0.2222222222222222,
              "#7201a8"
             ],
             [
              0.3333333333333333,
              "#9c179e"
             ],
             [
              0.4444444444444444,
              "#bd3786"
             ],
             [
              0.5555555555555556,
              "#d8576b"
             ],
             [
              0.6666666666666666,
              "#ed7953"
             ],
             [
              0.7777777777777778,
              "#fb9f3a"
             ],
             [
              0.8888888888888888,
              "#fdca26"
             ],
             [
              1,
              "#f0f921"
             ]
            ],
            "type": "surface"
           }
          ],
          "table": [
           {
            "cells": {
             "fill": {
              "color": "#EBF0F8"
             },
             "line": {
              "color": "white"
             }
            },
            "header": {
             "fill": {
              "color": "#C8D4E3"
             },
             "line": {
              "color": "white"
             }
            },
            "type": "table"
           }
          ]
         },
         "layout": {
          "annotationdefaults": {
           "arrowcolor": "#2a3f5f",
           "arrowhead": 0,
           "arrowwidth": 1
          },
          "autotypenumbers": "strict",
          "coloraxis": {
           "colorbar": {
            "outlinewidth": 0,
            "ticks": ""
           }
          },
          "colorscale": {
           "diverging": [
            [
             0,
             "#8e0152"
            ],
            [
             0.1,
             "#c51b7d"
            ],
            [
             0.2,
             "#de77ae"
            ],
            [
             0.3,
             "#f1b6da"
            ],
            [
             0.4,
             "#fde0ef"
            ],
            [
             0.5,
             "#f7f7f7"
            ],
            [
             0.6,
             "#e6f5d0"
            ],
            [
             0.7,
             "#b8e186"
            ],
            [
             0.8,
             "#7fbc41"
            ],
            [
             0.9,
             "#4d9221"
            ],
            [
             1,
             "#276419"
            ]
           ],
           "sequential": [
            [
             0,
             "#0d0887"
            ],
            [
             0.1111111111111111,
             "#46039f"
            ],
            [
             0.2222222222222222,
             "#7201a8"
            ],
            [
             0.3333333333333333,
             "#9c179e"
            ],
            [
             0.4444444444444444,
             "#bd3786"
            ],
            [
             0.5555555555555556,
             "#d8576b"
            ],
            [
             0.6666666666666666,
             "#ed7953"
            ],
            [
             0.7777777777777778,
             "#fb9f3a"
            ],
            [
             0.8888888888888888,
             "#fdca26"
            ],
            [
             1,
             "#f0f921"
            ]
           ],
           "sequentialminus": [
            [
             0,
             "#0d0887"
            ],
            [
             0.1111111111111111,
             "#46039f"
            ],
            [
             0.2222222222222222,
             "#7201a8"
            ],
            [
             0.3333333333333333,
             "#9c179e"
            ],
            [
             0.4444444444444444,
             "#bd3786"
            ],
            [
             0.5555555555555556,
             "#d8576b"
            ],
            [
             0.6666666666666666,
             "#ed7953"
            ],
            [
             0.7777777777777778,
             "#fb9f3a"
            ],
            [
             0.8888888888888888,
             "#fdca26"
            ],
            [
             1,
             "#f0f921"
            ]
           ]
          },
          "colorway": [
           "#636efa",
           "#EF553B",
           "#00cc96",
           "#ab63fa",
           "#FFA15A",
           "#19d3f3",
           "#FF6692",
           "#B6E880",
           "#FF97FF",
           "#FECB52"
          ],
          "font": {
           "color": "#2a3f5f"
          },
          "geo": {
           "bgcolor": "white",
           "lakecolor": "white",
           "landcolor": "#E5ECF6",
           "showlakes": true,
           "showland": true,
           "subunitcolor": "white"
          },
          "hoverlabel": {
           "align": "left"
          },
          "hovermode": "closest",
          "mapbox": {
           "style": "light"
          },
          "paper_bgcolor": "white",
          "plot_bgcolor": "#E5ECF6",
          "polar": {
           "angularaxis": {
            "gridcolor": "white",
            "linecolor": "white",
            "ticks": ""
           },
           "bgcolor": "#E5ECF6",
           "radialaxis": {
            "gridcolor": "white",
            "linecolor": "white",
            "ticks": ""
           }
          },
          "scene": {
           "xaxis": {
            "backgroundcolor": "#E5ECF6",
            "gridcolor": "white",
            "gridwidth": 2,
            "linecolor": "white",
            "showbackground": true,
            "ticks": "",
            "zerolinecolor": "white"
           },
           "yaxis": {
            "backgroundcolor": "#E5ECF6",
            "gridcolor": "white",
            "gridwidth": 2,
            "linecolor": "white",
            "showbackground": true,
            "ticks": "",
            "zerolinecolor": "white"
           },
           "zaxis": {
            "backgroundcolor": "#E5ECF6",
            "gridcolor": "white",
            "gridwidth": 2,
            "linecolor": "white",
            "showbackground": true,
            "ticks": "",
            "zerolinecolor": "white"
           }
          },
          "shapedefaults": {
           "line": {
            "color": "#2a3f5f"
           }
          },
          "ternary": {
           "aaxis": {
            "gridcolor": "white",
            "linecolor": "white",
            "ticks": ""
           },
           "baxis": {
            "gridcolor": "white",
            "linecolor": "white",
            "ticks": ""
           },
           "bgcolor": "#E5ECF6",
           "caxis": {
            "gridcolor": "white",
            "linecolor": "white",
            "ticks": ""
           }
          },
          "title": {
           "x": 0.05
          },
          "xaxis": {
           "automargin": true,
           "gridcolor": "white",
           "linecolor": "white",
           "ticks": "",
           "title": {
            "standoff": 15
           },
           "zerolinecolor": "white",
           "zerolinewidth": 2
          },
          "yaxis": {
           "automargin": true,
           "gridcolor": "white",
           "linecolor": "white",
           "ticks": "",
           "title": {
            "standoff": 15
           },
           "zerolinecolor": "white",
           "zerolinewidth": 2
          }
         }
        },
        "title": {
         "font": {
          "color": "#4D5663"
         }
        },
        "xaxis": {
         "gridcolor": "#E1E5ED",
         "showgrid": true,
         "tickfont": {
          "color": "#4D5663"
         },
         "title": {
          "font": {
           "color": "#4D5663"
          },
          "text": ""
         },
         "zerolinecolor": "#E1E5ED"
        },
        "yaxis": {
         "gridcolor": "#E1E5ED",
         "showgrid": true,
         "tickfont": {
          "color": "#4D5663"
         },
         "title": {
          "font": {
           "color": "#4D5663"
          },
          "text": ""
         },
         "zerolinecolor": "#E1E5ED"
        }
       }
      },
      "text/html": [
       "<div>                            <div id=\"56d191af-7851-4be0-b961-72ac35fc5984\" class=\"plotly-graph-div\" style=\"height:525px; width:100%;\"></div>            <script type=\"text/javascript\">                require([\"plotly\"], function(Plotly) {                    window.PLOTLYENV=window.PLOTLYENV || {};\n",
       "                    window.PLOTLYENV.BASE_URL='https://plot.ly';                                    if (document.getElementById(\"56d191af-7851-4be0-b961-72ac35fc5984\")) {                    Plotly.newPlot(                        \"56d191af-7851-4be0-b961-72ac35fc5984\",                        [{\"line\":{\"color\":\"rgba(255, 153, 51, 1.0)\",\"dash\":\"solid\",\"shape\":\"linear\",\"width\":1.3},\"marker\":{\"size\":10,\"symbol\":\"circle\"},\"mode\":\"markers\",\"name\":\"B\",\"text\":\"\",\"type\":\"scatter\",\"x\":[-0.34225299009874355,0.4892447760011251,0.6289296113249515,-0.9623444735331236,0.5218374246730623,1.0872779779546433,-2.5446001105676275,-0.2858836687280843,1.3065777779854995,-2.4104707774726113,1.3369186035954843,0.3838707492935451,-0.5526656706871299,-0.523243795919335,-0.5219209505049524,0.7876928140633233,-0.9458273989118097,0.6798036848133264,-0.7326321084090412,2.9676666789696204,-0.05694316110548828,-0.3901687948679766,0.39042317054449927,-0.5097476850302313,-0.06005776882918707,1.8651889477854269,0.6825596947887341,-0.660930834038989,0.7457389149047722,0.5831350759677145,0.20565331727263178,0.12137563657220368,0.14222541475987407,-0.21964030922882513,-0.1403522050946297,0.9130048247460788,-0.5324825569805095,0.8357026232545052,-0.05136640945025422,-0.15442903874892236,0.4427417326955754,-1.4618826570001109,-0.23457977919541678,1.5819006525811172,1.7673116734486296,0.5244123082679875,-1.4960518062062593,-0.08993988733773665,0.8209575792192505,0.277831732542309,1.9225576880083868,1.757171966228769,-2.138688527959561,-1.3709748402957949,-0.7155997219888818,0.3317227996255702,-1.0043614591743062,-1.0261278984258224,-1.4276290468878337,-1.0891931758991331,0.2035269789201755,0.02473667551913148,0.19551292413294072,-0.19036560623878837,-1.8010591597777204,0.8032033734232925,-1.0990490358758565,0.7760903618580065,-0.5271828141604505,-0.7383131855752465,-0.27543257249948844,-0.037819243298348515,1.2032094442658468,0.785084605957565,0.7503288870253916,-0.8472573692739707,-0.37625320843617843,-1.2657485333486633,1.7888324677330751,0.7499899464558957,0.3247253443598456,1.1096782207812264,0.28418622192332155,0.8318537645554853,2.0139557344103043,0.3476274485672122,-0.7967921761246892,-0.12058745799601407,0.43531389145934873,0.35347704597191093,-1.3720175798793395,-1.2811737166611563,0.04571690779276586,1.8411898245359177,-0.34353168706576764,1.0133136240424316,0.31479801507956323,2.1145539751315687,-1.0277828928921748,-0.7838019655038211],\"y\":[0.9900955482666974,-0.9889452577232196,-0.9378354850254641,-0.5463691152022653,2.0271518857018807,0.19925957847537346,-0.7786039713483985,0.2520015620313144,-0.6188427581785232,0.419814842315549,-1.8602683357380412,0.7728522626338924,0.23979797259129315,1.1297423815295664,-0.10475559546208067,-0.009461289991414178,0.7113080068140527,-1.4786843116096715,-1.3201954219731604,0.07031698798374092,1.6442459691777473,-0.13952067189279416,-0.9250117184627819,-1.730634623494131,-1.2546443084973622,1.2139408010780905,-0.5844745801129339,-0.29554717166621897,0.27281484542731976,0.25318894794907465,-0.24638066248007567,-0.3001463717227039,-0.47843477549201796,1.5339025213459436,1.237395379686162,-0.214093862004028,-0.3867947061510151,0.20025306551505054,0.5518586459046209,-1.2649171383821682,-0.31394703787397016,2.624200579430331,-0.7124402468346807,0.47598211399691526,0.3543661152225115,-0.7416521439997066,0.11901051948687877,-1.228030696683017,-0.5254167537146217,-0.8180277127043986,0.9767586529113346,1.2707583473030304,-0.1430902898326658,0.3866316300901333,0.918493501529165,0.7382411409509697,-1.7872095559123204,-0.05138925422187474,-1.3099282607443965,0.3619874357419031,0.2473659952388168,0.673183153770201,-0.42378629704185045,-0.5218702450381305,0.3643796819545949,-0.8571232551495427,0.6196384121373644,-0.5532877791773987,-0.6985239271046452,-0.4971711238652195,0.9837197737497394,0.151109103477177,-0.45528688478792184,-0.2940979367596788,-1.1357511274305079,1.7291497641174005,-0.5315171160860179,0.5412751513880071,2.319270328199936,1.105881259664581,0.24183604497834638,-0.12739001798747068,0.15509861976732744,-1.0996109070986873,0.23972510178264853,-0.08154335854543714,-1.8255709836497878,1.8463351692191043,1.820835557120743,0.9539408365908607,-1.7026480093372356,0.736197256641093,-0.21103967120123218,0.37668614877938134,-0.8927141407003845,-0.10178995397251908,-1.3472346892602074,-0.6569542813244048,0.9437776474422417,-3.0058043986457124]}],                        {\"legend\":{\"bgcolor\":\"#F5F6F9\",\"font\":{\"color\":\"#4D5663\"}},\"paper_bgcolor\":\"#F5F6F9\",\"plot_bgcolor\":\"#F5F6F9\",\"template\":{\"data\":{\"bar\":[{\"error_x\":{\"color\":\"#2a3f5f\"},\"error_y\":{\"color\":\"#2a3f5f\"},\"marker\":{\"line\":{\"color\":\"#E5ECF6\",\"width\":0.5},\"pattern\":{\"fillmode\":\"overlay\",\"size\":10,\"solidity\":0.2}},\"type\":\"bar\"}],\"barpolar\":[{\"marker\":{\"line\":{\"color\":\"#E5ECF6\",\"width\":0.5},\"pattern\":{\"fillmode\":\"overlay\",\"size\":10,\"solidity\":0.2}},\"type\":\"barpolar\"}],\"carpet\":[{\"aaxis\":{\"endlinecolor\":\"#2a3f5f\",\"gridcolor\":\"white\",\"linecolor\":\"white\",\"minorgridcolor\":\"white\",\"startlinecolor\":\"#2a3f5f\"},\"baxis\":{\"endlinecolor\":\"#2a3f5f\",\"gridcolor\":\"white\",\"linecolor\":\"white\",\"minorgridcolor\":\"white\",\"startlinecolor\":\"#2a3f5f\"},\"type\":\"carpet\"}],\"choropleth\":[{\"colorbar\":{\"outlinewidth\":0,\"ticks\":\"\"},\"type\":\"choropleth\"}],\"contour\":[{\"colorbar\":{\"outlinewidth\":0,\"ticks\":\"\"},\"colorscale\":[[0.0,\"#0d0887\"],[0.1111111111111111,\"#46039f\"],[0.2222222222222222,\"#7201a8\"],[0.3333333333333333,\"#9c179e\"],[0.4444444444444444,\"#bd3786\"],[0.5555555555555556,\"#d8576b\"],[0.6666666666666666,\"#ed7953\"],[0.7777777777777778,\"#fb9f3a\"],[0.8888888888888888,\"#fdca26\"],[1.0,\"#f0f921\"]],\"type\":\"contour\"}],\"contourcarpet\":[{\"colorbar\":{\"outlinewidth\":0,\"ticks\":\"\"},\"type\":\"contourcarpet\"}],\"heatmap\":[{\"colorbar\":{\"outlinewidth\":0,\"ticks\":\"\"},\"colorscale\":[[0.0,\"#0d0887\"],[0.1111111111111111,\"#46039f\"],[0.2222222222222222,\"#7201a8\"],[0.3333333333333333,\"#9c179e\"],[0.4444444444444444,\"#bd3786\"],[0.5555555555555556,\"#d8576b\"],[0.6666666666666666,\"#ed7953\"],[0.7777777777777778,\"#fb9f3a\"],[0.8888888888888888,\"#fdca26\"],[1.0,\"#f0f921\"]],\"type\":\"heatmap\"}],\"heatmapgl\":[{\"colorbar\":{\"outlinewidth\":0,\"ticks\":\"\"},\"colorscale\":[[0.0,\"#0d0887\"],[0.1111111111111111,\"#46039f\"],[0.2222222222222222,\"#7201a8\"],[0.3333333333333333,\"#9c179e\"],[0.4444444444444444,\"#bd3786\"],[0.5555555555555556,\"#d8576b\"],[0.6666666666666666,\"#ed7953\"],[0.7777777777777778,\"#fb9f3a\"],[0.8888888888888888,\"#fdca26\"],[1.0,\"#f0f921\"]],\"type\":\"heatmapgl\"}],\"histogram\":[{\"marker\":{\"pattern\":{\"fillmode\":\"overlay\",\"size\":10,\"solidity\":0.2}},\"type\":\"histogram\"}],\"histogram2d\":[{\"colorbar\":{\"outlinewidth\":0,\"ticks\":\"\"},\"colorscale\":[[0.0,\"#0d0887\"],[0.1111111111111111,\"#46039f\"],[0.2222222222222222,\"#7201a8\"],[0.3333333333333333,\"#9c179e\"],[0.4444444444444444,\"#bd3786\"],[0.5555555555555556,\"#d8576b\"],[0.6666666666666666,\"#ed7953\"],[0.7777777777777778,\"#fb9f3a\"],[0.8888888888888888,\"#fdca26\"],[1.0,\"#f0f921\"]],\"type\":\"histogram2d\"}],\"histogram2dcontour\":[{\"colorbar\":{\"outlinewidth\":0,\"ticks\":\"\"},\"colorscale\":[[0.0,\"#0d0887\"],[0.1111111111111111,\"#46039f\"],[0.2222222222222222,\"#7201a8\"],[0.3333333333333333,\"#9c179e\"],[0.4444444444444444,\"#bd3786\"],[0.5555555555555556,\"#d8576b\"],[0.6666666666666666,\"#ed7953\"],[0.7777777777777778,\"#fb9f3a\"],[0.8888888888888888,\"#fdca26\"],[1.0,\"#f0f921\"]],\"type\":\"histogram2dcontour\"}],\"mesh3d\":[{\"colorbar\":{\"outlinewidth\":0,\"ticks\":\"\"},\"type\":\"mesh3d\"}],\"parcoords\":[{\"line\":{\"colorbar\":{\"outlinewidth\":0,\"ticks\":\"\"}},\"type\":\"parcoords\"}],\"pie\":[{\"automargin\":true,\"type\":\"pie\"}],\"scatter\":[{\"marker\":{\"colorbar\":{\"outlinewidth\":0,\"ticks\":\"\"}},\"type\":\"scatter\"}],\"scatter3d\":[{\"line\":{\"colorbar\":{\"outlinewidth\":0,\"ticks\":\"\"}},\"marker\":{\"colorbar\":{\"outlinewidth\":0,\"ticks\":\"\"}},\"type\":\"scatter3d\"}],\"scattercarpet\":[{\"marker\":{\"colorbar\":{\"outlinewidth\":0,\"ticks\":\"\"}},\"type\":\"scattercarpet\"}],\"scattergeo\":[{\"marker\":{\"colorbar\":{\"outlinewidth\":0,\"ticks\":\"\"}},\"type\":\"scattergeo\"}],\"scattergl\":[{\"marker\":{\"colorbar\":{\"outlinewidth\":0,\"ticks\":\"\"}},\"type\":\"scattergl\"}],\"scattermapbox\":[{\"marker\":{\"colorbar\":{\"outlinewidth\":0,\"ticks\":\"\"}},\"type\":\"scattermapbox\"}],\"scatterpolar\":[{\"marker\":{\"colorbar\":{\"outlinewidth\":0,\"ticks\":\"\"}},\"type\":\"scatterpolar\"}],\"scatterpolargl\":[{\"marker\":{\"colorbar\":{\"outlinewidth\":0,\"ticks\":\"\"}},\"type\":\"scatterpolargl\"}],\"scatterternary\":[{\"marker\":{\"colorbar\":{\"outlinewidth\":0,\"ticks\":\"\"}},\"type\":\"scatterternary\"}],\"surface\":[{\"colorbar\":{\"outlinewidth\":0,\"ticks\":\"\"},\"colorscale\":[[0.0,\"#0d0887\"],[0.1111111111111111,\"#46039f\"],[0.2222222222222222,\"#7201a8\"],[0.3333333333333333,\"#9c179e\"],[0.4444444444444444,\"#bd3786\"],[0.5555555555555556,\"#d8576b\"],[0.6666666666666666,\"#ed7953\"],[0.7777777777777778,\"#fb9f3a\"],[0.8888888888888888,\"#fdca26\"],[1.0,\"#f0f921\"]],\"type\":\"surface\"}],\"table\":[{\"cells\":{\"fill\":{\"color\":\"#EBF0F8\"},\"line\":{\"color\":\"white\"}},\"header\":{\"fill\":{\"color\":\"#C8D4E3\"},\"line\":{\"color\":\"white\"}},\"type\":\"table\"}]},\"layout\":{\"annotationdefaults\":{\"arrowcolor\":\"#2a3f5f\",\"arrowhead\":0,\"arrowwidth\":1},\"autotypenumbers\":\"strict\",\"coloraxis\":{\"colorbar\":{\"outlinewidth\":0,\"ticks\":\"\"}},\"colorscale\":{\"diverging\":[[0,\"#8e0152\"],[0.1,\"#c51b7d\"],[0.2,\"#de77ae\"],[0.3,\"#f1b6da\"],[0.4,\"#fde0ef\"],[0.5,\"#f7f7f7\"],[0.6,\"#e6f5d0\"],[0.7,\"#b8e186\"],[0.8,\"#7fbc41\"],[0.9,\"#4d9221\"],[1,\"#276419\"]],\"sequential\":[[0.0,\"#0d0887\"],[0.1111111111111111,\"#46039f\"],[0.2222222222222222,\"#7201a8\"],[0.3333333333333333,\"#9c179e\"],[0.4444444444444444,\"#bd3786\"],[0.5555555555555556,\"#d8576b\"],[0.6666666666666666,\"#ed7953\"],[0.7777777777777778,\"#fb9f3a\"],[0.8888888888888888,\"#fdca26\"],[1.0,\"#f0f921\"]],\"sequentialminus\":[[0.0,\"#0d0887\"],[0.1111111111111111,\"#46039f\"],[0.2222222222222222,\"#7201a8\"],[0.3333333333333333,\"#9c179e\"],[0.4444444444444444,\"#bd3786\"],[0.5555555555555556,\"#d8576b\"],[0.6666666666666666,\"#ed7953\"],[0.7777777777777778,\"#fb9f3a\"],[0.8888888888888888,\"#fdca26\"],[1.0,\"#f0f921\"]]},\"colorway\":[\"#636efa\",\"#EF553B\",\"#00cc96\",\"#ab63fa\",\"#FFA15A\",\"#19d3f3\",\"#FF6692\",\"#B6E880\",\"#FF97FF\",\"#FECB52\"],\"font\":{\"color\":\"#2a3f5f\"},\"geo\":{\"bgcolor\":\"white\",\"lakecolor\":\"white\",\"landcolor\":\"#E5ECF6\",\"showlakes\":true,\"showland\":true,\"subunitcolor\":\"white\"},\"hoverlabel\":{\"align\":\"left\"},\"hovermode\":\"closest\",\"mapbox\":{\"style\":\"light\"},\"paper_bgcolor\":\"white\",\"plot_bgcolor\":\"#E5ECF6\",\"polar\":{\"angularaxis\":{\"gridcolor\":\"white\",\"linecolor\":\"white\",\"ticks\":\"\"},\"bgcolor\":\"#E5ECF6\",\"radialaxis\":{\"gridcolor\":\"white\",\"linecolor\":\"white\",\"ticks\":\"\"}},\"scene\":{\"xaxis\":{\"backgroundcolor\":\"#E5ECF6\",\"gridcolor\":\"white\",\"gridwidth\":2,\"linecolor\":\"white\",\"showbackground\":true,\"ticks\":\"\",\"zerolinecolor\":\"white\"},\"yaxis\":{\"backgroundcolor\":\"#E5ECF6\",\"gridcolor\":\"white\",\"gridwidth\":2,\"linecolor\":\"white\",\"showbackground\":true,\"ticks\":\"\",\"zerolinecolor\":\"white\"},\"zaxis\":{\"backgroundcolor\":\"#E5ECF6\",\"gridcolor\":\"white\",\"gridwidth\":2,\"linecolor\":\"white\",\"showbackground\":true,\"ticks\":\"\",\"zerolinecolor\":\"white\"}},\"shapedefaults\":{\"line\":{\"color\":\"#2a3f5f\"}},\"ternary\":{\"aaxis\":{\"gridcolor\":\"white\",\"linecolor\":\"white\",\"ticks\":\"\"},\"baxis\":{\"gridcolor\":\"white\",\"linecolor\":\"white\",\"ticks\":\"\"},\"bgcolor\":\"#E5ECF6\",\"caxis\":{\"gridcolor\":\"white\",\"linecolor\":\"white\",\"ticks\":\"\"}},\"title\":{\"x\":0.05},\"xaxis\":{\"automargin\":true,\"gridcolor\":\"white\",\"linecolor\":\"white\",\"ticks\":\"\",\"title\":{\"standoff\":15},\"zerolinecolor\":\"white\",\"zerolinewidth\":2},\"yaxis\":{\"automargin\":true,\"gridcolor\":\"white\",\"linecolor\":\"white\",\"ticks\":\"\",\"title\":{\"standoff\":15},\"zerolinecolor\":\"white\",\"zerolinewidth\":2}}},\"title\":{\"font\":{\"color\":\"#4D5663\"}},\"xaxis\":{\"gridcolor\":\"#E1E5ED\",\"showgrid\":true,\"tickfont\":{\"color\":\"#4D5663\"},\"title\":{\"font\":{\"color\":\"#4D5663\"},\"text\":\"\"},\"zerolinecolor\":\"#E1E5ED\"},\"yaxis\":{\"gridcolor\":\"#E1E5ED\",\"showgrid\":true,\"tickfont\":{\"color\":\"#4D5663\"},\"title\":{\"font\":{\"color\":\"#4D5663\"},\"text\":\"\"},\"zerolinecolor\":\"#E1E5ED\"}},                        {\"showLink\": true, \"linkText\": \"Export to plot.ly\", \"plotlyServerURL\": \"https://plot.ly\", \"responsive\": true}                    ).then(function(){\n",
       "                            \n",
       "var gd = document.getElementById('56d191af-7851-4be0-b961-72ac35fc5984');\n",
       "var x = new MutationObserver(function (mutations, observer) {{\n",
       "        var display = window.getComputedStyle(gd).display;\n",
       "        if (!display || display === 'none') {{\n",
       "            console.log([gd, 'removed!']);\n",
       "            Plotly.purge(gd);\n",
       "            observer.disconnect();\n",
       "        }}\n",
       "}});\n",
       "\n",
       "// Listen for the removal of the full notebook cells\n",
       "var notebookContainer = gd.closest('#notebook-container');\n",
       "if (notebookContainer) {{\n",
       "    x.observe(notebookContainer, {childList: true});\n",
       "}}\n",
       "\n",
       "// Listen for the clearing of the current output cell\n",
       "var outputEl = gd.closest('.output');\n",
       "if (outputEl) {{\n",
       "    x.observe(outputEl, {childList: true});\n",
       "}}\n",
       "\n",
       "                        })                };                });            </script>        </div>"
      ]
     },
     "metadata": {},
     "output_type": "display_data"
    }
   ],
   "source": [
    "df.iplot(kind='scatter',x='A',y='B',mode='markers',size=10)"
   ]
  },
  {
   "cell_type": "code",
   "execution_count": 25,
   "id": "e154758f",
   "metadata": {},
   "outputs": [
    {
     "data": {
      "text/html": [
       "<div>\n",
       "<style scoped>\n",
       "    .dataframe tbody tr th:only-of-type {\n",
       "        vertical-align: middle;\n",
       "    }\n",
       "\n",
       "    .dataframe tbody tr th {\n",
       "        vertical-align: top;\n",
       "    }\n",
       "\n",
       "    .dataframe thead th {\n",
       "        text-align: right;\n",
       "    }\n",
       "</style>\n",
       "<table border=\"1\" class=\"dataframe\">\n",
       "  <thead>\n",
       "    <tr style=\"text-align: right;\">\n",
       "      <th></th>\n",
       "      <th>Category</th>\n",
       "      <th>Values</th>\n",
       "    </tr>\n",
       "  </thead>\n",
       "  <tbody>\n",
       "    <tr>\n",
       "      <th>0</th>\n",
       "      <td>A</td>\n",
       "      <td>32</td>\n",
       "    </tr>\n",
       "    <tr>\n",
       "      <th>1</th>\n",
       "      <td>B</td>\n",
       "      <td>43</td>\n",
       "    </tr>\n",
       "    <tr>\n",
       "      <th>2</th>\n",
       "      <td>C</td>\n",
       "      <td>50</td>\n",
       "    </tr>\n",
       "  </tbody>\n",
       "</table>\n",
       "</div>"
      ],
      "text/plain": [
       "  Category  Values\n",
       "0        A      32\n",
       "1        B      43\n",
       "2        C      50"
      ]
     },
     "execution_count": 25,
     "metadata": {},
     "output_type": "execute_result"
    }
   ],
   "source": [
    "df2"
   ]
  },
  {
   "cell_type": "code",
   "execution_count": 26,
   "id": "10b004e8",
   "metadata": {},
   "outputs": [
    {
     "data": {
      "application/vnd.plotly.v1+json": {
       "config": {
        "linkText": "Export to plot.ly",
        "plotlyServerURL": "https://plot.ly",
        "showLink": true
       },
       "data": [
        {
         "marker": {
          "color": "rgba(255, 153, 51, 0.6)",
          "line": {
           "color": "rgba(255, 153, 51, 1.0)",
           "width": 1
          }
         },
         "name": "Values",
         "orientation": "v",
         "text": "",
         "type": "bar",
         "x": [
          "A",
          "B",
          "C"
         ],
         "y": [
          32,
          43,
          50
         ]
        }
       ],
       "layout": {
        "legend": {
         "bgcolor": "#F5F6F9",
         "font": {
          "color": "#4D5663"
         }
        },
        "paper_bgcolor": "#F5F6F9",
        "plot_bgcolor": "#F5F6F9",
        "template": {
         "data": {
          "bar": [
           {
            "error_x": {
             "color": "#2a3f5f"
            },
            "error_y": {
             "color": "#2a3f5f"
            },
            "marker": {
             "line": {
              "color": "#E5ECF6",
              "width": 0.5
             },
             "pattern": {
              "fillmode": "overlay",
              "size": 10,
              "solidity": 0.2
             }
            },
            "type": "bar"
           }
          ],
          "barpolar": [
           {
            "marker": {
             "line": {
              "color": "#E5ECF6",
              "width": 0.5
             },
             "pattern": {
              "fillmode": "overlay",
              "size": 10,
              "solidity": 0.2
             }
            },
            "type": "barpolar"
           }
          ],
          "carpet": [
           {
            "aaxis": {
             "endlinecolor": "#2a3f5f",
             "gridcolor": "white",
             "linecolor": "white",
             "minorgridcolor": "white",
             "startlinecolor": "#2a3f5f"
            },
            "baxis": {
             "endlinecolor": "#2a3f5f",
             "gridcolor": "white",
             "linecolor": "white",
             "minorgridcolor": "white",
             "startlinecolor": "#2a3f5f"
            },
            "type": "carpet"
           }
          ],
          "choropleth": [
           {
            "colorbar": {
             "outlinewidth": 0,
             "ticks": ""
            },
            "type": "choropleth"
           }
          ],
          "contour": [
           {
            "colorbar": {
             "outlinewidth": 0,
             "ticks": ""
            },
            "colorscale": [
             [
              0,
              "#0d0887"
             ],
             [
              0.1111111111111111,
              "#46039f"
             ],
             [
              0.2222222222222222,
              "#7201a8"
             ],
             [
              0.3333333333333333,
              "#9c179e"
             ],
             [
              0.4444444444444444,
              "#bd3786"
             ],
             [
              0.5555555555555556,
              "#d8576b"
             ],
             [
              0.6666666666666666,
              "#ed7953"
             ],
             [
              0.7777777777777778,
              "#fb9f3a"
             ],
             [
              0.8888888888888888,
              "#fdca26"
             ],
             [
              1,
              "#f0f921"
             ]
            ],
            "type": "contour"
           }
          ],
          "contourcarpet": [
           {
            "colorbar": {
             "outlinewidth": 0,
             "ticks": ""
            },
            "type": "contourcarpet"
           }
          ],
          "heatmap": [
           {
            "colorbar": {
             "outlinewidth": 0,
             "ticks": ""
            },
            "colorscale": [
             [
              0,
              "#0d0887"
             ],
             [
              0.1111111111111111,
              "#46039f"
             ],
             [
              0.2222222222222222,
              "#7201a8"
             ],
             [
              0.3333333333333333,
              "#9c179e"
             ],
             [
              0.4444444444444444,
              "#bd3786"
             ],
             [
              0.5555555555555556,
              "#d8576b"
             ],
             [
              0.6666666666666666,
              "#ed7953"
             ],
             [
              0.7777777777777778,
              "#fb9f3a"
             ],
             [
              0.8888888888888888,
              "#fdca26"
             ],
             [
              1,
              "#f0f921"
             ]
            ],
            "type": "heatmap"
           }
          ],
          "heatmapgl": [
           {
            "colorbar": {
             "outlinewidth": 0,
             "ticks": ""
            },
            "colorscale": [
             [
              0,
              "#0d0887"
             ],
             [
              0.1111111111111111,
              "#46039f"
             ],
             [
              0.2222222222222222,
              "#7201a8"
             ],
             [
              0.3333333333333333,
              "#9c179e"
             ],
             [
              0.4444444444444444,
              "#bd3786"
             ],
             [
              0.5555555555555556,
              "#d8576b"
             ],
             [
              0.6666666666666666,
              "#ed7953"
             ],
             [
              0.7777777777777778,
              "#fb9f3a"
             ],
             [
              0.8888888888888888,
              "#fdca26"
             ],
             [
              1,
              "#f0f921"
             ]
            ],
            "type": "heatmapgl"
           }
          ],
          "histogram": [
           {
            "marker": {
             "pattern": {
              "fillmode": "overlay",
              "size": 10,
              "solidity": 0.2
             }
            },
            "type": "histogram"
           }
          ],
          "histogram2d": [
           {
            "colorbar": {
             "outlinewidth": 0,
             "ticks": ""
            },
            "colorscale": [
             [
              0,
              "#0d0887"
             ],
             [
              0.1111111111111111,
              "#46039f"
             ],
             [
              0.2222222222222222,
              "#7201a8"
             ],
             [
              0.3333333333333333,
              "#9c179e"
             ],
             [
              0.4444444444444444,
              "#bd3786"
             ],
             [
              0.5555555555555556,
              "#d8576b"
             ],
             [
              0.6666666666666666,
              "#ed7953"
             ],
             [
              0.7777777777777778,
              "#fb9f3a"
             ],
             [
              0.8888888888888888,
              "#fdca26"
             ],
             [
              1,
              "#f0f921"
             ]
            ],
            "type": "histogram2d"
           }
          ],
          "histogram2dcontour": [
           {
            "colorbar": {
             "outlinewidth": 0,
             "ticks": ""
            },
            "colorscale": [
             [
              0,
              "#0d0887"
             ],
             [
              0.1111111111111111,
              "#46039f"
             ],
             [
              0.2222222222222222,
              "#7201a8"
             ],
             [
              0.3333333333333333,
              "#9c179e"
             ],
             [
              0.4444444444444444,
              "#bd3786"
             ],
             [
              0.5555555555555556,
              "#d8576b"
             ],
             [
              0.6666666666666666,
              "#ed7953"
             ],
             [
              0.7777777777777778,
              "#fb9f3a"
             ],
             [
              0.8888888888888888,
              "#fdca26"
             ],
             [
              1,
              "#f0f921"
             ]
            ],
            "type": "histogram2dcontour"
           }
          ],
          "mesh3d": [
           {
            "colorbar": {
             "outlinewidth": 0,
             "ticks": ""
            },
            "type": "mesh3d"
           }
          ],
          "parcoords": [
           {
            "line": {
             "colorbar": {
              "outlinewidth": 0,
              "ticks": ""
             }
            },
            "type": "parcoords"
           }
          ],
          "pie": [
           {
            "automargin": true,
            "type": "pie"
           }
          ],
          "scatter": [
           {
            "marker": {
             "colorbar": {
              "outlinewidth": 0,
              "ticks": ""
             }
            },
            "type": "scatter"
           }
          ],
          "scatter3d": [
           {
            "line": {
             "colorbar": {
              "outlinewidth": 0,
              "ticks": ""
             }
            },
            "marker": {
             "colorbar": {
              "outlinewidth": 0,
              "ticks": ""
             }
            },
            "type": "scatter3d"
           }
          ],
          "scattercarpet": [
           {
            "marker": {
             "colorbar": {
              "outlinewidth": 0,
              "ticks": ""
             }
            },
            "type": "scattercarpet"
           }
          ],
          "scattergeo": [
           {
            "marker": {
             "colorbar": {
              "outlinewidth": 0,
              "ticks": ""
             }
            },
            "type": "scattergeo"
           }
          ],
          "scattergl": [
           {
            "marker": {
             "colorbar": {
              "outlinewidth": 0,
              "ticks": ""
             }
            },
            "type": "scattergl"
           }
          ],
          "scattermapbox": [
           {
            "marker": {
             "colorbar": {
              "outlinewidth": 0,
              "ticks": ""
             }
            },
            "type": "scattermapbox"
           }
          ],
          "scatterpolar": [
           {
            "marker": {
             "colorbar": {
              "outlinewidth": 0,
              "ticks": ""
             }
            },
            "type": "scatterpolar"
           }
          ],
          "scatterpolargl": [
           {
            "marker": {
             "colorbar": {
              "outlinewidth": 0,
              "ticks": ""
             }
            },
            "type": "scatterpolargl"
           }
          ],
          "scatterternary": [
           {
            "marker": {
             "colorbar": {
              "outlinewidth": 0,
              "ticks": ""
             }
            },
            "type": "scatterternary"
           }
          ],
          "surface": [
           {
            "colorbar": {
             "outlinewidth": 0,
             "ticks": ""
            },
            "colorscale": [
             [
              0,
              "#0d0887"
             ],
             [
              0.1111111111111111,
              "#46039f"
             ],
             [
              0.2222222222222222,
              "#7201a8"
             ],
             [
              0.3333333333333333,
              "#9c179e"
             ],
             [
              0.4444444444444444,
              "#bd3786"
             ],
             [
              0.5555555555555556,
              "#d8576b"
             ],
             [
              0.6666666666666666,
              "#ed7953"
             ],
             [
              0.7777777777777778,
              "#fb9f3a"
             ],
             [
              0.8888888888888888,
              "#fdca26"
             ],
             [
              1,
              "#f0f921"
             ]
            ],
            "type": "surface"
           }
          ],
          "table": [
           {
            "cells": {
             "fill": {
              "color": "#EBF0F8"
             },
             "line": {
              "color": "white"
             }
            },
            "header": {
             "fill": {
              "color": "#C8D4E3"
             },
             "line": {
              "color": "white"
             }
            },
            "type": "table"
           }
          ]
         },
         "layout": {
          "annotationdefaults": {
           "arrowcolor": "#2a3f5f",
           "arrowhead": 0,
           "arrowwidth": 1
          },
          "autotypenumbers": "strict",
          "coloraxis": {
           "colorbar": {
            "outlinewidth": 0,
            "ticks": ""
           }
          },
          "colorscale": {
           "diverging": [
            [
             0,
             "#8e0152"
            ],
            [
             0.1,
             "#c51b7d"
            ],
            [
             0.2,
             "#de77ae"
            ],
            [
             0.3,
             "#f1b6da"
            ],
            [
             0.4,
             "#fde0ef"
            ],
            [
             0.5,
             "#f7f7f7"
            ],
            [
             0.6,
             "#e6f5d0"
            ],
            [
             0.7,
             "#b8e186"
            ],
            [
             0.8,
             "#7fbc41"
            ],
            [
             0.9,
             "#4d9221"
            ],
            [
             1,
             "#276419"
            ]
           ],
           "sequential": [
            [
             0,
             "#0d0887"
            ],
            [
             0.1111111111111111,
             "#46039f"
            ],
            [
             0.2222222222222222,
             "#7201a8"
            ],
            [
             0.3333333333333333,
             "#9c179e"
            ],
            [
             0.4444444444444444,
             "#bd3786"
            ],
            [
             0.5555555555555556,
             "#d8576b"
            ],
            [
             0.6666666666666666,
             "#ed7953"
            ],
            [
             0.7777777777777778,
             "#fb9f3a"
            ],
            [
             0.8888888888888888,
             "#fdca26"
            ],
            [
             1,
             "#f0f921"
            ]
           ],
           "sequentialminus": [
            [
             0,
             "#0d0887"
            ],
            [
             0.1111111111111111,
             "#46039f"
            ],
            [
             0.2222222222222222,
             "#7201a8"
            ],
            [
             0.3333333333333333,
             "#9c179e"
            ],
            [
             0.4444444444444444,
             "#bd3786"
            ],
            [
             0.5555555555555556,
             "#d8576b"
            ],
            [
             0.6666666666666666,
             "#ed7953"
            ],
            [
             0.7777777777777778,
             "#fb9f3a"
            ],
            [
             0.8888888888888888,
             "#fdca26"
            ],
            [
             1,
             "#f0f921"
            ]
           ]
          },
          "colorway": [
           "#636efa",
           "#EF553B",
           "#00cc96",
           "#ab63fa",
           "#FFA15A",
           "#19d3f3",
           "#FF6692",
           "#B6E880",
           "#FF97FF",
           "#FECB52"
          ],
          "font": {
           "color": "#2a3f5f"
          },
          "geo": {
           "bgcolor": "white",
           "lakecolor": "white",
           "landcolor": "#E5ECF6",
           "showlakes": true,
           "showland": true,
           "subunitcolor": "white"
          },
          "hoverlabel": {
           "align": "left"
          },
          "hovermode": "closest",
          "mapbox": {
           "style": "light"
          },
          "paper_bgcolor": "white",
          "plot_bgcolor": "#E5ECF6",
          "polar": {
           "angularaxis": {
            "gridcolor": "white",
            "linecolor": "white",
            "ticks": ""
           },
           "bgcolor": "#E5ECF6",
           "radialaxis": {
            "gridcolor": "white",
            "linecolor": "white",
            "ticks": ""
           }
          },
          "scene": {
           "xaxis": {
            "backgroundcolor": "#E5ECF6",
            "gridcolor": "white",
            "gridwidth": 2,
            "linecolor": "white",
            "showbackground": true,
            "ticks": "",
            "zerolinecolor": "white"
           },
           "yaxis": {
            "backgroundcolor": "#E5ECF6",
            "gridcolor": "white",
            "gridwidth": 2,
            "linecolor": "white",
            "showbackground": true,
            "ticks": "",
            "zerolinecolor": "white"
           },
           "zaxis": {
            "backgroundcolor": "#E5ECF6",
            "gridcolor": "white",
            "gridwidth": 2,
            "linecolor": "white",
            "showbackground": true,
            "ticks": "",
            "zerolinecolor": "white"
           }
          },
          "shapedefaults": {
           "line": {
            "color": "#2a3f5f"
           }
          },
          "ternary": {
           "aaxis": {
            "gridcolor": "white",
            "linecolor": "white",
            "ticks": ""
           },
           "baxis": {
            "gridcolor": "white",
            "linecolor": "white",
            "ticks": ""
           },
           "bgcolor": "#E5ECF6",
           "caxis": {
            "gridcolor": "white",
            "linecolor": "white",
            "ticks": ""
           }
          },
          "title": {
           "x": 0.05
          },
          "xaxis": {
           "automargin": true,
           "gridcolor": "white",
           "linecolor": "white",
           "ticks": "",
           "title": {
            "standoff": 15
           },
           "zerolinecolor": "white",
           "zerolinewidth": 2
          },
          "yaxis": {
           "automargin": true,
           "gridcolor": "white",
           "linecolor": "white",
           "ticks": "",
           "title": {
            "standoff": 15
           },
           "zerolinecolor": "white",
           "zerolinewidth": 2
          }
         }
        },
        "title": {
         "font": {
          "color": "#4D5663"
         }
        },
        "xaxis": {
         "gridcolor": "#E1E5ED",
         "showgrid": true,
         "tickfont": {
          "color": "#4D5663"
         },
         "title": {
          "font": {
           "color": "#4D5663"
          },
          "text": ""
         },
         "zerolinecolor": "#E1E5ED"
        },
        "yaxis": {
         "gridcolor": "#E1E5ED",
         "showgrid": true,
         "tickfont": {
          "color": "#4D5663"
         },
         "title": {
          "font": {
           "color": "#4D5663"
          },
          "text": ""
         },
         "zerolinecolor": "#E1E5ED"
        }
       }
      },
      "text/html": [
       "<div>                            <div id=\"da4e41ae-5e12-420a-8e1a-392d4a8ab11c\" class=\"plotly-graph-div\" style=\"height:525px; width:100%;\"></div>            <script type=\"text/javascript\">                require([\"plotly\"], function(Plotly) {                    window.PLOTLYENV=window.PLOTLYENV || {};\n",
       "                    window.PLOTLYENV.BASE_URL='https://plot.ly';                                    if (document.getElementById(\"da4e41ae-5e12-420a-8e1a-392d4a8ab11c\")) {                    Plotly.newPlot(                        \"da4e41ae-5e12-420a-8e1a-392d4a8ab11c\",                        [{\"marker\":{\"color\":\"rgba(255, 153, 51, 0.6)\",\"line\":{\"color\":\"rgba(255, 153, 51, 1.0)\",\"width\":1}},\"name\":\"Values\",\"orientation\":\"v\",\"text\":\"\",\"type\":\"bar\",\"x\":[\"A\",\"B\",\"C\"],\"y\":[32,43,50]}],                        {\"legend\":{\"bgcolor\":\"#F5F6F9\",\"font\":{\"color\":\"#4D5663\"}},\"paper_bgcolor\":\"#F5F6F9\",\"plot_bgcolor\":\"#F5F6F9\",\"template\":{\"data\":{\"bar\":[{\"error_x\":{\"color\":\"#2a3f5f\"},\"error_y\":{\"color\":\"#2a3f5f\"},\"marker\":{\"line\":{\"color\":\"#E5ECF6\",\"width\":0.5},\"pattern\":{\"fillmode\":\"overlay\",\"size\":10,\"solidity\":0.2}},\"type\":\"bar\"}],\"barpolar\":[{\"marker\":{\"line\":{\"color\":\"#E5ECF6\",\"width\":0.5},\"pattern\":{\"fillmode\":\"overlay\",\"size\":10,\"solidity\":0.2}},\"type\":\"barpolar\"}],\"carpet\":[{\"aaxis\":{\"endlinecolor\":\"#2a3f5f\",\"gridcolor\":\"white\",\"linecolor\":\"white\",\"minorgridcolor\":\"white\",\"startlinecolor\":\"#2a3f5f\"},\"baxis\":{\"endlinecolor\":\"#2a3f5f\",\"gridcolor\":\"white\",\"linecolor\":\"white\",\"minorgridcolor\":\"white\",\"startlinecolor\":\"#2a3f5f\"},\"type\":\"carpet\"}],\"choropleth\":[{\"colorbar\":{\"outlinewidth\":0,\"ticks\":\"\"},\"type\":\"choropleth\"}],\"contour\":[{\"colorbar\":{\"outlinewidth\":0,\"ticks\":\"\"},\"colorscale\":[[0.0,\"#0d0887\"],[0.1111111111111111,\"#46039f\"],[0.2222222222222222,\"#7201a8\"],[0.3333333333333333,\"#9c179e\"],[0.4444444444444444,\"#bd3786\"],[0.5555555555555556,\"#d8576b\"],[0.6666666666666666,\"#ed7953\"],[0.7777777777777778,\"#fb9f3a\"],[0.8888888888888888,\"#fdca26\"],[1.0,\"#f0f921\"]],\"type\":\"contour\"}],\"contourcarpet\":[{\"colorbar\":{\"outlinewidth\":0,\"ticks\":\"\"},\"type\":\"contourcarpet\"}],\"heatmap\":[{\"colorbar\":{\"outlinewidth\":0,\"ticks\":\"\"},\"colorscale\":[[0.0,\"#0d0887\"],[0.1111111111111111,\"#46039f\"],[0.2222222222222222,\"#7201a8\"],[0.3333333333333333,\"#9c179e\"],[0.4444444444444444,\"#bd3786\"],[0.5555555555555556,\"#d8576b\"],[0.6666666666666666,\"#ed7953\"],[0.7777777777777778,\"#fb9f3a\"],[0.8888888888888888,\"#fdca26\"],[1.0,\"#f0f921\"]],\"type\":\"heatmap\"}],\"heatmapgl\":[{\"colorbar\":{\"outlinewidth\":0,\"ticks\":\"\"},\"colorscale\":[[0.0,\"#0d0887\"],[0.1111111111111111,\"#46039f\"],[0.2222222222222222,\"#7201a8\"],[0.3333333333333333,\"#9c179e\"],[0.4444444444444444,\"#bd3786\"],[0.5555555555555556,\"#d8576b\"],[0.6666666666666666,\"#ed7953\"],[0.7777777777777778,\"#fb9f3a\"],[0.8888888888888888,\"#fdca26\"],[1.0,\"#f0f921\"]],\"type\":\"heatmapgl\"}],\"histogram\":[{\"marker\":{\"pattern\":{\"fillmode\":\"overlay\",\"size\":10,\"solidity\":0.2}},\"type\":\"histogram\"}],\"histogram2d\":[{\"colorbar\":{\"outlinewidth\":0,\"ticks\":\"\"},\"colorscale\":[[0.0,\"#0d0887\"],[0.1111111111111111,\"#46039f\"],[0.2222222222222222,\"#7201a8\"],[0.3333333333333333,\"#9c179e\"],[0.4444444444444444,\"#bd3786\"],[0.5555555555555556,\"#d8576b\"],[0.6666666666666666,\"#ed7953\"],[0.7777777777777778,\"#fb9f3a\"],[0.8888888888888888,\"#fdca26\"],[1.0,\"#f0f921\"]],\"type\":\"histogram2d\"}],\"histogram2dcontour\":[{\"colorbar\":{\"outlinewidth\":0,\"ticks\":\"\"},\"colorscale\":[[0.0,\"#0d0887\"],[0.1111111111111111,\"#46039f\"],[0.2222222222222222,\"#7201a8\"],[0.3333333333333333,\"#9c179e\"],[0.4444444444444444,\"#bd3786\"],[0.5555555555555556,\"#d8576b\"],[0.6666666666666666,\"#ed7953\"],[0.7777777777777778,\"#fb9f3a\"],[0.8888888888888888,\"#fdca26\"],[1.0,\"#f0f921\"]],\"type\":\"histogram2dcontour\"}],\"mesh3d\":[{\"colorbar\":{\"outlinewidth\":0,\"ticks\":\"\"},\"type\":\"mesh3d\"}],\"parcoords\":[{\"line\":{\"colorbar\":{\"outlinewidth\":0,\"ticks\":\"\"}},\"type\":\"parcoords\"}],\"pie\":[{\"automargin\":true,\"type\":\"pie\"}],\"scatter\":[{\"marker\":{\"colorbar\":{\"outlinewidth\":0,\"ticks\":\"\"}},\"type\":\"scatter\"}],\"scatter3d\":[{\"line\":{\"colorbar\":{\"outlinewidth\":0,\"ticks\":\"\"}},\"marker\":{\"colorbar\":{\"outlinewidth\":0,\"ticks\":\"\"}},\"type\":\"scatter3d\"}],\"scattercarpet\":[{\"marker\":{\"colorbar\":{\"outlinewidth\":0,\"ticks\":\"\"}},\"type\":\"scattercarpet\"}],\"scattergeo\":[{\"marker\":{\"colorbar\":{\"outlinewidth\":0,\"ticks\":\"\"}},\"type\":\"scattergeo\"}],\"scattergl\":[{\"marker\":{\"colorbar\":{\"outlinewidth\":0,\"ticks\":\"\"}},\"type\":\"scattergl\"}],\"scattermapbox\":[{\"marker\":{\"colorbar\":{\"outlinewidth\":0,\"ticks\":\"\"}},\"type\":\"scattermapbox\"}],\"scatterpolar\":[{\"marker\":{\"colorbar\":{\"outlinewidth\":0,\"ticks\":\"\"}},\"type\":\"scatterpolar\"}],\"scatterpolargl\":[{\"marker\":{\"colorbar\":{\"outlinewidth\":0,\"ticks\":\"\"}},\"type\":\"scatterpolargl\"}],\"scatterternary\":[{\"marker\":{\"colorbar\":{\"outlinewidth\":0,\"ticks\":\"\"}},\"type\":\"scatterternary\"}],\"surface\":[{\"colorbar\":{\"outlinewidth\":0,\"ticks\":\"\"},\"colorscale\":[[0.0,\"#0d0887\"],[0.1111111111111111,\"#46039f\"],[0.2222222222222222,\"#7201a8\"],[0.3333333333333333,\"#9c179e\"],[0.4444444444444444,\"#bd3786\"],[0.5555555555555556,\"#d8576b\"],[0.6666666666666666,\"#ed7953\"],[0.7777777777777778,\"#fb9f3a\"],[0.8888888888888888,\"#fdca26\"],[1.0,\"#f0f921\"]],\"type\":\"surface\"}],\"table\":[{\"cells\":{\"fill\":{\"color\":\"#EBF0F8\"},\"line\":{\"color\":\"white\"}},\"header\":{\"fill\":{\"color\":\"#C8D4E3\"},\"line\":{\"color\":\"white\"}},\"type\":\"table\"}]},\"layout\":{\"annotationdefaults\":{\"arrowcolor\":\"#2a3f5f\",\"arrowhead\":0,\"arrowwidth\":1},\"autotypenumbers\":\"strict\",\"coloraxis\":{\"colorbar\":{\"outlinewidth\":0,\"ticks\":\"\"}},\"colorscale\":{\"diverging\":[[0,\"#8e0152\"],[0.1,\"#c51b7d\"],[0.2,\"#de77ae\"],[0.3,\"#f1b6da\"],[0.4,\"#fde0ef\"],[0.5,\"#f7f7f7\"],[0.6,\"#e6f5d0\"],[0.7,\"#b8e186\"],[0.8,\"#7fbc41\"],[0.9,\"#4d9221\"],[1,\"#276419\"]],\"sequential\":[[0.0,\"#0d0887\"],[0.1111111111111111,\"#46039f\"],[0.2222222222222222,\"#7201a8\"],[0.3333333333333333,\"#9c179e\"],[0.4444444444444444,\"#bd3786\"],[0.5555555555555556,\"#d8576b\"],[0.6666666666666666,\"#ed7953\"],[0.7777777777777778,\"#fb9f3a\"],[0.8888888888888888,\"#fdca26\"],[1.0,\"#f0f921\"]],\"sequentialminus\":[[0.0,\"#0d0887\"],[0.1111111111111111,\"#46039f\"],[0.2222222222222222,\"#7201a8\"],[0.3333333333333333,\"#9c179e\"],[0.4444444444444444,\"#bd3786\"],[0.5555555555555556,\"#d8576b\"],[0.6666666666666666,\"#ed7953\"],[0.7777777777777778,\"#fb9f3a\"],[0.8888888888888888,\"#fdca26\"],[1.0,\"#f0f921\"]]},\"colorway\":[\"#636efa\",\"#EF553B\",\"#00cc96\",\"#ab63fa\",\"#FFA15A\",\"#19d3f3\",\"#FF6692\",\"#B6E880\",\"#FF97FF\",\"#FECB52\"],\"font\":{\"color\":\"#2a3f5f\"},\"geo\":{\"bgcolor\":\"white\",\"lakecolor\":\"white\",\"landcolor\":\"#E5ECF6\",\"showlakes\":true,\"showland\":true,\"subunitcolor\":\"white\"},\"hoverlabel\":{\"align\":\"left\"},\"hovermode\":\"closest\",\"mapbox\":{\"style\":\"light\"},\"paper_bgcolor\":\"white\",\"plot_bgcolor\":\"#E5ECF6\",\"polar\":{\"angularaxis\":{\"gridcolor\":\"white\",\"linecolor\":\"white\",\"ticks\":\"\"},\"bgcolor\":\"#E5ECF6\",\"radialaxis\":{\"gridcolor\":\"white\",\"linecolor\":\"white\",\"ticks\":\"\"}},\"scene\":{\"xaxis\":{\"backgroundcolor\":\"#E5ECF6\",\"gridcolor\":\"white\",\"gridwidth\":2,\"linecolor\":\"white\",\"showbackground\":true,\"ticks\":\"\",\"zerolinecolor\":\"white\"},\"yaxis\":{\"backgroundcolor\":\"#E5ECF6\",\"gridcolor\":\"white\",\"gridwidth\":2,\"linecolor\":\"white\",\"showbackground\":true,\"ticks\":\"\",\"zerolinecolor\":\"white\"},\"zaxis\":{\"backgroundcolor\":\"#E5ECF6\",\"gridcolor\":\"white\",\"gridwidth\":2,\"linecolor\":\"white\",\"showbackground\":true,\"ticks\":\"\",\"zerolinecolor\":\"white\"}},\"shapedefaults\":{\"line\":{\"color\":\"#2a3f5f\"}},\"ternary\":{\"aaxis\":{\"gridcolor\":\"white\",\"linecolor\":\"white\",\"ticks\":\"\"},\"baxis\":{\"gridcolor\":\"white\",\"linecolor\":\"white\",\"ticks\":\"\"},\"bgcolor\":\"#E5ECF6\",\"caxis\":{\"gridcolor\":\"white\",\"linecolor\":\"white\",\"ticks\":\"\"}},\"title\":{\"x\":0.05},\"xaxis\":{\"automargin\":true,\"gridcolor\":\"white\",\"linecolor\":\"white\",\"ticks\":\"\",\"title\":{\"standoff\":15},\"zerolinecolor\":\"white\",\"zerolinewidth\":2},\"yaxis\":{\"automargin\":true,\"gridcolor\":\"white\",\"linecolor\":\"white\",\"ticks\":\"\",\"title\":{\"standoff\":15},\"zerolinecolor\":\"white\",\"zerolinewidth\":2}}},\"title\":{\"font\":{\"color\":\"#4D5663\"}},\"xaxis\":{\"gridcolor\":\"#E1E5ED\",\"showgrid\":true,\"tickfont\":{\"color\":\"#4D5663\"},\"title\":{\"font\":{\"color\":\"#4D5663\"},\"text\":\"\"},\"zerolinecolor\":\"#E1E5ED\"},\"yaxis\":{\"gridcolor\":\"#E1E5ED\",\"showgrid\":true,\"tickfont\":{\"color\":\"#4D5663\"},\"title\":{\"font\":{\"color\":\"#4D5663\"},\"text\":\"\"},\"zerolinecolor\":\"#E1E5ED\"}},                        {\"showLink\": true, \"linkText\": \"Export to plot.ly\", \"plotlyServerURL\": \"https://plot.ly\", \"responsive\": true}                    ).then(function(){\n",
       "                            \n",
       "var gd = document.getElementById('da4e41ae-5e12-420a-8e1a-392d4a8ab11c');\n",
       "var x = new MutationObserver(function (mutations, observer) {{\n",
       "        var display = window.getComputedStyle(gd).display;\n",
       "        if (!display || display === 'none') {{\n",
       "            console.log([gd, 'removed!']);\n",
       "            Plotly.purge(gd);\n",
       "            observer.disconnect();\n",
       "        }}\n",
       "}});\n",
       "\n",
       "// Listen for the removal of the full notebook cells\n",
       "var notebookContainer = gd.closest('#notebook-container');\n",
       "if (notebookContainer) {{\n",
       "    x.observe(notebookContainer, {childList: true});\n",
       "}}\n",
       "\n",
       "// Listen for the clearing of the current output cell\n",
       "var outputEl = gd.closest('.output');\n",
       "if (outputEl) {{\n",
       "    x.observe(outputEl, {childList: true});\n",
       "}}\n",
       "\n",
       "                        })                };                });            </script>        </div>"
      ]
     },
     "metadata": {},
     "output_type": "display_data"
    }
   ],
   "source": [
    "df2.iplot(kind='bar',x='Category',y='Values')"
   ]
  },
  {
   "cell_type": "code",
   "execution_count": 28,
   "id": "517019a5",
   "metadata": {},
   "outputs": [
    {
     "data": {
      "application/vnd.plotly.v1+json": {
       "config": {
        "linkText": "Export to plot.ly",
        "plotlyServerURL": "https://plot.ly",
        "showLink": true
       },
       "data": [
        {
         "marker": {
          "color": "rgba(255, 153, 51, 0.6)",
          "line": {
           "color": "rgba(255, 153, 51, 1.0)",
           "width": 1
          }
         },
         "name": "A",
         "orientation": "v",
         "text": "",
         "type": "bar",
         "x": [
          0,
          1,
          2,
          3,
          4,
          5,
          6,
          7,
          8,
          9,
          10,
          11,
          12,
          13,
          14,
          15,
          16,
          17,
          18,
          19,
          20,
          21,
          22,
          23,
          24,
          25,
          26,
          27,
          28,
          29,
          30,
          31,
          32,
          33,
          34,
          35,
          36,
          37,
          38,
          39,
          40,
          41,
          42,
          43,
          44,
          45,
          46,
          47,
          48,
          49,
          50,
          51,
          52,
          53,
          54,
          55,
          56,
          57,
          58,
          59,
          60,
          61,
          62,
          63,
          64,
          65,
          66,
          67,
          68,
          69,
          70,
          71,
          72,
          73,
          74,
          75,
          76,
          77,
          78,
          79,
          80,
          81,
          82,
          83,
          84,
          85,
          86,
          87,
          88,
          89,
          90,
          91,
          92,
          93,
          94,
          95,
          96,
          97,
          98,
          99
         ],
         "y": [
          -0.34225299009874355,
          0.4892447760011251,
          0.6289296113249515,
          -0.9623444735331236,
          0.5218374246730623,
          1.0872779779546433,
          -2.5446001105676275,
          -0.2858836687280843,
          1.3065777779854995,
          -2.4104707774726113,
          1.3369186035954843,
          0.3838707492935451,
          -0.5526656706871299,
          -0.523243795919335,
          -0.5219209505049524,
          0.7876928140633233,
          -0.9458273989118097,
          0.6798036848133264,
          -0.7326321084090412,
          2.9676666789696204,
          -0.05694316110548828,
          -0.3901687948679766,
          0.39042317054449927,
          -0.5097476850302313,
          -0.06005776882918707,
          1.8651889477854269,
          0.6825596947887341,
          -0.660930834038989,
          0.7457389149047722,
          0.5831350759677145,
          0.20565331727263178,
          0.12137563657220368,
          0.14222541475987407,
          -0.21964030922882513,
          -0.1403522050946297,
          0.9130048247460788,
          -0.5324825569805095,
          0.8357026232545052,
          -0.05136640945025422,
          -0.15442903874892236,
          0.4427417326955754,
          -1.4618826570001109,
          -0.23457977919541678,
          1.5819006525811172,
          1.7673116734486296,
          0.5244123082679875,
          -1.4960518062062593,
          -0.08993988733773665,
          0.8209575792192505,
          0.277831732542309,
          1.9225576880083868,
          1.757171966228769,
          -2.138688527959561,
          -1.3709748402957949,
          -0.7155997219888818,
          0.3317227996255702,
          -1.0043614591743062,
          -1.0261278984258224,
          -1.4276290468878337,
          -1.0891931758991331,
          0.2035269789201755,
          0.02473667551913148,
          0.19551292413294072,
          -0.19036560623878837,
          -1.8010591597777204,
          0.8032033734232925,
          -1.0990490358758565,
          0.7760903618580065,
          -0.5271828141604505,
          -0.7383131855752465,
          -0.27543257249948844,
          -0.037819243298348515,
          1.2032094442658468,
          0.785084605957565,
          0.7503288870253916,
          -0.8472573692739707,
          -0.37625320843617843,
          -1.2657485333486633,
          1.7888324677330751,
          0.7499899464558957,
          0.3247253443598456,
          1.1096782207812264,
          0.28418622192332155,
          0.8318537645554853,
          2.0139557344103043,
          0.3476274485672122,
          -0.7967921761246892,
          -0.12058745799601407,
          0.43531389145934873,
          0.35347704597191093,
          -1.3720175798793395,
          -1.2811737166611563,
          0.04571690779276586,
          1.8411898245359177,
          -0.34353168706576764,
          1.0133136240424316,
          0.31479801507956323,
          2.1145539751315687,
          -1.0277828928921748,
          -0.7838019655038211
         ]
        },
        {
         "marker": {
          "color": "rgba(55, 128, 191, 0.6)",
          "line": {
           "color": "rgba(55, 128, 191, 1.0)",
           "width": 1
          }
         },
         "name": "B",
         "orientation": "v",
         "text": "",
         "type": "bar",
         "x": [
          0,
          1,
          2,
          3,
          4,
          5,
          6,
          7,
          8,
          9,
          10,
          11,
          12,
          13,
          14,
          15,
          16,
          17,
          18,
          19,
          20,
          21,
          22,
          23,
          24,
          25,
          26,
          27,
          28,
          29,
          30,
          31,
          32,
          33,
          34,
          35,
          36,
          37,
          38,
          39,
          40,
          41,
          42,
          43,
          44,
          45,
          46,
          47,
          48,
          49,
          50,
          51,
          52,
          53,
          54,
          55,
          56,
          57,
          58,
          59,
          60,
          61,
          62,
          63,
          64,
          65,
          66,
          67,
          68,
          69,
          70,
          71,
          72,
          73,
          74,
          75,
          76,
          77,
          78,
          79,
          80,
          81,
          82,
          83,
          84,
          85,
          86,
          87,
          88,
          89,
          90,
          91,
          92,
          93,
          94,
          95,
          96,
          97,
          98,
          99
         ],
         "y": [
          0.9900955482666974,
          -0.9889452577232196,
          -0.9378354850254641,
          -0.5463691152022653,
          2.0271518857018807,
          0.19925957847537346,
          -0.7786039713483985,
          0.2520015620313144,
          -0.6188427581785232,
          0.419814842315549,
          -1.8602683357380412,
          0.7728522626338924,
          0.23979797259129315,
          1.1297423815295664,
          -0.10475559546208067,
          -0.009461289991414178,
          0.7113080068140527,
          -1.4786843116096715,
          -1.3201954219731604,
          0.07031698798374092,
          1.6442459691777473,
          -0.13952067189279416,
          -0.9250117184627819,
          -1.730634623494131,
          -1.2546443084973622,
          1.2139408010780905,
          -0.5844745801129339,
          -0.29554717166621897,
          0.27281484542731976,
          0.25318894794907465,
          -0.24638066248007567,
          -0.3001463717227039,
          -0.47843477549201796,
          1.5339025213459436,
          1.237395379686162,
          -0.214093862004028,
          -0.3867947061510151,
          0.20025306551505054,
          0.5518586459046209,
          -1.2649171383821682,
          -0.31394703787397016,
          2.624200579430331,
          -0.7124402468346807,
          0.47598211399691526,
          0.3543661152225115,
          -0.7416521439997066,
          0.11901051948687877,
          -1.228030696683017,
          -0.5254167537146217,
          -0.8180277127043986,
          0.9767586529113346,
          1.2707583473030304,
          -0.1430902898326658,
          0.3866316300901333,
          0.918493501529165,
          0.7382411409509697,
          -1.7872095559123204,
          -0.05138925422187474,
          -1.3099282607443965,
          0.3619874357419031,
          0.2473659952388168,
          0.673183153770201,
          -0.42378629704185045,
          -0.5218702450381305,
          0.3643796819545949,
          -0.8571232551495427,
          0.6196384121373644,
          -0.5532877791773987,
          -0.6985239271046452,
          -0.4971711238652195,
          0.9837197737497394,
          0.151109103477177,
          -0.45528688478792184,
          -0.2940979367596788,
          -1.1357511274305079,
          1.7291497641174005,
          -0.5315171160860179,
          0.5412751513880071,
          2.319270328199936,
          1.105881259664581,
          0.24183604497834638,
          -0.12739001798747068,
          0.15509861976732744,
          -1.0996109070986873,
          0.23972510178264853,
          -0.08154335854543714,
          -1.8255709836497878,
          1.8463351692191043,
          1.820835557120743,
          0.9539408365908607,
          -1.7026480093372356,
          0.736197256641093,
          -0.21103967120123218,
          0.37668614877938134,
          -0.8927141407003845,
          -0.10178995397251908,
          -1.3472346892602074,
          -0.6569542813244048,
          0.9437776474422417,
          -3.0058043986457124
         ]
        },
        {
         "marker": {
          "color": "rgba(50, 171, 96, 0.6)",
          "line": {
           "color": "rgba(50, 171, 96, 1.0)",
           "width": 1
          }
         },
         "name": "C",
         "orientation": "v",
         "text": "",
         "type": "bar",
         "x": [
          0,
          1,
          2,
          3,
          4,
          5,
          6,
          7,
          8,
          9,
          10,
          11,
          12,
          13,
          14,
          15,
          16,
          17,
          18,
          19,
          20,
          21,
          22,
          23,
          24,
          25,
          26,
          27,
          28,
          29,
          30,
          31,
          32,
          33,
          34,
          35,
          36,
          37,
          38,
          39,
          40,
          41,
          42,
          43,
          44,
          45,
          46,
          47,
          48,
          49,
          50,
          51,
          52,
          53,
          54,
          55,
          56,
          57,
          58,
          59,
          60,
          61,
          62,
          63,
          64,
          65,
          66,
          67,
          68,
          69,
          70,
          71,
          72,
          73,
          74,
          75,
          76,
          77,
          78,
          79,
          80,
          81,
          82,
          83,
          84,
          85,
          86,
          87,
          88,
          89,
          90,
          91,
          92,
          93,
          94,
          95,
          96,
          97,
          98,
          99
         ],
         "y": [
          -0.24360119416966694,
          2.6290698676150748,
          0.2661367149716258,
          0.4248000862046849,
          0.15691359647032885,
          1.2669766461076717,
          -0.7458482705573792,
          -1.0425577762968143,
          -0.9918293586883078,
          1.1752207914133415,
          0.8237476957175225,
          1.1559167419733656,
          -0.26544194102746643,
          -1.756871692208469,
          -0.4328200632631489,
          -1.5946234612917132,
          -0.7754468725671481,
          2.456890194326189,
          0.25177654767670976,
          -0.5276250778756187,
          -0.41515353632559016,
          -0.9702083336083774,
          -0.5386885727546051,
          0.37514521710971366,
          0.42471750848556794,
          0.9123108730469526,
          -1.3814941779525685,
          1.5467689361155261,
          -1.006894590393866,
          0.0956355518057554,
          0.7466898784983458,
          -0.24213182443022957,
          -0.9250827556716021,
          -1.5203503273531633,
          -0.4977984822613209,
          -0.6410172305332248,
          0.0004638774932113429,
          0.8313405708447927,
          2.019266841869993,
          0.5943772196931862,
          -0.30837067424611286,
          0.9104799562812206,
          0.19755570215657497,
          0.2773208278157791,
          -1.0387187975724872,
          -0.506375180681545,
          -0.5516849839146819,
          0.7116617071345542,
          -0.19579766373118063,
          0.42693167129622245,
          -0.8331237335520756,
          0.5016062861936484,
          -0.6937427386910572,
          -0.49746785662625626,
          -1.7118428797935947,
          -0.7605643980862589,
          -0.5390131077084975,
          -0.09681021739978073,
          0.540645279267166,
          -0.48285349611885797,
          0.025786372736263302,
          1.8235643881611308,
          -1.2932590197710199,
          -0.6465104579661324,
          2.0408865397934393,
          0.7642965793643237,
          -0.8265002416929838,
          0.1019702069298536,
          0.8725592650972407,
          -1.588148164340174,
          -1.4228936331224291,
          0.3031964853541781,
          -0.07949730751640986,
          -2.39910314507416,
          -0.7029900183390284,
          0.8408133054957266,
          0.6166977677036451,
          -0.9940793947697844,
          -0.534675036167626,
          -0.14707923691588887,
          -2.6234047287938913,
          -1.3474097174098156,
          -0.1421345213333329,
          0.008835708481921363,
          -1.2515389770614476,
          -0.6441581344355697,
          -0.5934360296853288,
          -0.027506673382790198,
          -0.23057019069383758,
          -0.4883458423910079,
          -1.22605047743705,
          -0.6061666040960666,
          -1.0125377919921394,
          -0.3320753382492649,
          0.766639572361874,
          0.07814275463062237,
          -0.02251167615807235,
          -1.2505570063745404,
          -0.41570718077541857,
          -0.6990955371320429
         ]
        },
        {
         "marker": {
          "color": "rgba(128, 0, 128, 0.6)",
          "line": {
           "color": "rgba(128, 0, 128, 1.0)",
           "width": 1
          }
         },
         "name": "D",
         "orientation": "v",
         "text": "",
         "type": "bar",
         "x": [
          0,
          1,
          2,
          3,
          4,
          5,
          6,
          7,
          8,
          9,
          10,
          11,
          12,
          13,
          14,
          15,
          16,
          17,
          18,
          19,
          20,
          21,
          22,
          23,
          24,
          25,
          26,
          27,
          28,
          29,
          30,
          31,
          32,
          33,
          34,
          35,
          36,
          37,
          38,
          39,
          40,
          41,
          42,
          43,
          44,
          45,
          46,
          47,
          48,
          49,
          50,
          51,
          52,
          53,
          54,
          55,
          56,
          57,
          58,
          59,
          60,
          61,
          62,
          63,
          64,
          65,
          66,
          67,
          68,
          69,
          70,
          71,
          72,
          73,
          74,
          75,
          76,
          77,
          78,
          79,
          80,
          81,
          82,
          83,
          84,
          85,
          86,
          87,
          88,
          89,
          90,
          91,
          92,
          93,
          94,
          95,
          96,
          97,
          98,
          99
         ],
         "y": [
          -0.8993780379502047,
          -0.02805590171480415,
          0.5612035642976496,
          0.45017054087238884,
          -2.233080770879555,
          0.3739742395124629,
          -0.5774356122456568,
          -0.6717884367620782,
          0.4832487351689567,
          0.761435996894435,
          -0.04059328762487213,
          0.5101128605312929,
          0.19902095165716177,
          -1.5411945525961641,
          -0.45683768831453736,
          3.2567902677591,
          -0.24721414340764963,
          -1.4596725990248305,
          -2.4248001490278375,
          0.12611197215654926,
          1.9234059086665694,
          -0.7415422179044057,
          0.5318699546445996,
          0.3411788196455518,
          -0.30164340637185694,
          0.9763135783972272,
          -0.21897997321007678,
          0.354782893192736,
          1.9263999024854617,
          -1.0069515783908103,
          -0.0914288423605711,
          0.9977226852097353,
          -0.16959396494707218,
          -0.9640722535068827,
          0.26028820686903065,
          0.6912992723236513,
          -0.4203592662512756,
          -1.3261158849795756,
          -1.1453604179470454,
          -0.9227383863226544,
          0.0033439820871036955,
          -0.29155084059205694,
          -1.192411953625304,
          0.34346615046657125,
          -1.0908146569416461,
          1.5747384092161831,
          -0.3905808061673566,
          -1.2576203889566724,
          -0.9292308926637166,
          1.9194370566526706,
          -1.6507047842344582,
          0.8631548922913439,
          1.2991380618444575,
          -3.2615524161869196,
          -1.0717834772800015,
          1.2630698522056911,
          3.1470570330562615,
          -0.13404492840812246,
          1.9029965756941507,
          0.5312264148980672,
          -1.0776998955177377,
          0.21816766458394263,
          0.951581629546409,
          0.35406437532113627,
          0.6726097055720566,
          1.5289951046519916,
          0.8872488457004313,
          1.5278424465510052,
          -0.5629686924888644,
          -0.6833421677015717,
          0.5763413458651462,
          0.12764236871541115,
          1.180397231496056,
          0.340318053147227,
          0.002726022685278746,
          1.7713800150640246,
          1.2982996566138594,
          -1.0523866869149032,
          -0.779700669840491,
          -1.8575621845742905,
          -0.7110915002681697,
          -1.4997360103036437,
          0.7950770689699234,
          0.52438561059342,
          0.2576584909044913,
          -1.1552940935623224,
          1.3039721355476719,
          1.8623529103560788,
          -0.15667476232146516,
          0.22218725609677162,
          0.1133313728764875,
          -0.7881581017112002,
          0.6817806926876091,
          -0.38247769385962327,
          -0.745334160946617,
          -0.07717189151842606,
          -0.9439590114540767,
          -0.33257224030030497,
          -0.33528789414779003,
          0.45350533599463455
         ]
        }
       ],
       "layout": {
        "legend": {
         "bgcolor": "#F5F6F9",
         "font": {
          "color": "#4D5663"
         }
        },
        "paper_bgcolor": "#F5F6F9",
        "plot_bgcolor": "#F5F6F9",
        "template": {
         "data": {
          "bar": [
           {
            "error_x": {
             "color": "#2a3f5f"
            },
            "error_y": {
             "color": "#2a3f5f"
            },
            "marker": {
             "line": {
              "color": "#E5ECF6",
              "width": 0.5
             },
             "pattern": {
              "fillmode": "overlay",
              "size": 10,
              "solidity": 0.2
             }
            },
            "type": "bar"
           }
          ],
          "barpolar": [
           {
            "marker": {
             "line": {
              "color": "#E5ECF6",
              "width": 0.5
             },
             "pattern": {
              "fillmode": "overlay",
              "size": 10,
              "solidity": 0.2
             }
            },
            "type": "barpolar"
           }
          ],
          "carpet": [
           {
            "aaxis": {
             "endlinecolor": "#2a3f5f",
             "gridcolor": "white",
             "linecolor": "white",
             "minorgridcolor": "white",
             "startlinecolor": "#2a3f5f"
            },
            "baxis": {
             "endlinecolor": "#2a3f5f",
             "gridcolor": "white",
             "linecolor": "white",
             "minorgridcolor": "white",
             "startlinecolor": "#2a3f5f"
            },
            "type": "carpet"
           }
          ],
          "choropleth": [
           {
            "colorbar": {
             "outlinewidth": 0,
             "ticks": ""
            },
            "type": "choropleth"
           }
          ],
          "contour": [
           {
            "colorbar": {
             "outlinewidth": 0,
             "ticks": ""
            },
            "colorscale": [
             [
              0,
              "#0d0887"
             ],
             [
              0.1111111111111111,
              "#46039f"
             ],
             [
              0.2222222222222222,
              "#7201a8"
             ],
             [
              0.3333333333333333,
              "#9c179e"
             ],
             [
              0.4444444444444444,
              "#bd3786"
             ],
             [
              0.5555555555555556,
              "#d8576b"
             ],
             [
              0.6666666666666666,
              "#ed7953"
             ],
             [
              0.7777777777777778,
              "#fb9f3a"
             ],
             [
              0.8888888888888888,
              "#fdca26"
             ],
             [
              1,
              "#f0f921"
             ]
            ],
            "type": "contour"
           }
          ],
          "contourcarpet": [
           {
            "colorbar": {
             "outlinewidth": 0,
             "ticks": ""
            },
            "type": "contourcarpet"
           }
          ],
          "heatmap": [
           {
            "colorbar": {
             "outlinewidth": 0,
             "ticks": ""
            },
            "colorscale": [
             [
              0,
              "#0d0887"
             ],
             [
              0.1111111111111111,
              "#46039f"
             ],
             [
              0.2222222222222222,
              "#7201a8"
             ],
             [
              0.3333333333333333,
              "#9c179e"
             ],
             [
              0.4444444444444444,
              "#bd3786"
             ],
             [
              0.5555555555555556,
              "#d8576b"
             ],
             [
              0.6666666666666666,
              "#ed7953"
             ],
             [
              0.7777777777777778,
              "#fb9f3a"
             ],
             [
              0.8888888888888888,
              "#fdca26"
             ],
             [
              1,
              "#f0f921"
             ]
            ],
            "type": "heatmap"
           }
          ],
          "heatmapgl": [
           {
            "colorbar": {
             "outlinewidth": 0,
             "ticks": ""
            },
            "colorscale": [
             [
              0,
              "#0d0887"
             ],
             [
              0.1111111111111111,
              "#46039f"
             ],
             [
              0.2222222222222222,
              "#7201a8"
             ],
             [
              0.3333333333333333,
              "#9c179e"
             ],
             [
              0.4444444444444444,
              "#bd3786"
             ],
             [
              0.5555555555555556,
              "#d8576b"
             ],
             [
              0.6666666666666666,
              "#ed7953"
             ],
             [
              0.7777777777777778,
              "#fb9f3a"
             ],
             [
              0.8888888888888888,
              "#fdca26"
             ],
             [
              1,
              "#f0f921"
             ]
            ],
            "type": "heatmapgl"
           }
          ],
          "histogram": [
           {
            "marker": {
             "pattern": {
              "fillmode": "overlay",
              "size": 10,
              "solidity": 0.2
             }
            },
            "type": "histogram"
           }
          ],
          "histogram2d": [
           {
            "colorbar": {
             "outlinewidth": 0,
             "ticks": ""
            },
            "colorscale": [
             [
              0,
              "#0d0887"
             ],
             [
              0.1111111111111111,
              "#46039f"
             ],
             [
              0.2222222222222222,
              "#7201a8"
             ],
             [
              0.3333333333333333,
              "#9c179e"
             ],
             [
              0.4444444444444444,
              "#bd3786"
             ],
             [
              0.5555555555555556,
              "#d8576b"
             ],
             [
              0.6666666666666666,
              "#ed7953"
             ],
             [
              0.7777777777777778,
              "#fb9f3a"
             ],
             [
              0.8888888888888888,
              "#fdca26"
             ],
             [
              1,
              "#f0f921"
             ]
            ],
            "type": "histogram2d"
           }
          ],
          "histogram2dcontour": [
           {
            "colorbar": {
             "outlinewidth": 0,
             "ticks": ""
            },
            "colorscale": [
             [
              0,
              "#0d0887"
             ],
             [
              0.1111111111111111,
              "#46039f"
             ],
             [
              0.2222222222222222,
              "#7201a8"
             ],
             [
              0.3333333333333333,
              "#9c179e"
             ],
             [
              0.4444444444444444,
              "#bd3786"
             ],
             [
              0.5555555555555556,
              "#d8576b"
             ],
             [
              0.6666666666666666,
              "#ed7953"
             ],
             [
              0.7777777777777778,
              "#fb9f3a"
             ],
             [
              0.8888888888888888,
              "#fdca26"
             ],
             [
              1,
              "#f0f921"
             ]
            ],
            "type": "histogram2dcontour"
           }
          ],
          "mesh3d": [
           {
            "colorbar": {
             "outlinewidth": 0,
             "ticks": ""
            },
            "type": "mesh3d"
           }
          ],
          "parcoords": [
           {
            "line": {
             "colorbar": {
              "outlinewidth": 0,
              "ticks": ""
             }
            },
            "type": "parcoords"
           }
          ],
          "pie": [
           {
            "automargin": true,
            "type": "pie"
           }
          ],
          "scatter": [
           {
            "marker": {
             "colorbar": {
              "outlinewidth": 0,
              "ticks": ""
             }
            },
            "type": "scatter"
           }
          ],
          "scatter3d": [
           {
            "line": {
             "colorbar": {
              "outlinewidth": 0,
              "ticks": ""
             }
            },
            "marker": {
             "colorbar": {
              "outlinewidth": 0,
              "ticks": ""
             }
            },
            "type": "scatter3d"
           }
          ],
          "scattercarpet": [
           {
            "marker": {
             "colorbar": {
              "outlinewidth": 0,
              "ticks": ""
             }
            },
            "type": "scattercarpet"
           }
          ],
          "scattergeo": [
           {
            "marker": {
             "colorbar": {
              "outlinewidth": 0,
              "ticks": ""
             }
            },
            "type": "scattergeo"
           }
          ],
          "scattergl": [
           {
            "marker": {
             "colorbar": {
              "outlinewidth": 0,
              "ticks": ""
             }
            },
            "type": "scattergl"
           }
          ],
          "scattermapbox": [
           {
            "marker": {
             "colorbar": {
              "outlinewidth": 0,
              "ticks": ""
             }
            },
            "type": "scattermapbox"
           }
          ],
          "scatterpolar": [
           {
            "marker": {
             "colorbar": {
              "outlinewidth": 0,
              "ticks": ""
             }
            },
            "type": "scatterpolar"
           }
          ],
          "scatterpolargl": [
           {
            "marker": {
             "colorbar": {
              "outlinewidth": 0,
              "ticks": ""
             }
            },
            "type": "scatterpolargl"
           }
          ],
          "scatterternary": [
           {
            "marker": {
             "colorbar": {
              "outlinewidth": 0,
              "ticks": ""
             }
            },
            "type": "scatterternary"
           }
          ],
          "surface": [
           {
            "colorbar": {
             "outlinewidth": 0,
             "ticks": ""
            },
            "colorscale": [
             [
              0,
              "#0d0887"
             ],
             [
              0.1111111111111111,
              "#46039f"
             ],
             [
              0.2222222222222222,
              "#7201a8"
             ],
             [
              0.3333333333333333,
              "#9c179e"
             ],
             [
              0.4444444444444444,
              "#bd3786"
             ],
             [
              0.5555555555555556,
              "#d8576b"
             ],
             [
              0.6666666666666666,
              "#ed7953"
             ],
             [
              0.7777777777777778,
              "#fb9f3a"
             ],
             [
              0.8888888888888888,
              "#fdca26"
             ],
             [
              1,
              "#f0f921"
             ]
            ],
            "type": "surface"
           }
          ],
          "table": [
           {
            "cells": {
             "fill": {
              "color": "#EBF0F8"
             },
             "line": {
              "color": "white"
             }
            },
            "header": {
             "fill": {
              "color": "#C8D4E3"
             },
             "line": {
              "color": "white"
             }
            },
            "type": "table"
           }
          ]
         },
         "layout": {
          "annotationdefaults": {
           "arrowcolor": "#2a3f5f",
           "arrowhead": 0,
           "arrowwidth": 1
          },
          "autotypenumbers": "strict",
          "coloraxis": {
           "colorbar": {
            "outlinewidth": 0,
            "ticks": ""
           }
          },
          "colorscale": {
           "diverging": [
            [
             0,
             "#8e0152"
            ],
            [
             0.1,
             "#c51b7d"
            ],
            [
             0.2,
             "#de77ae"
            ],
            [
             0.3,
             "#f1b6da"
            ],
            [
             0.4,
             "#fde0ef"
            ],
            [
             0.5,
             "#f7f7f7"
            ],
            [
             0.6,
             "#e6f5d0"
            ],
            [
             0.7,
             "#b8e186"
            ],
            [
             0.8,
             "#7fbc41"
            ],
            [
             0.9,
             "#4d9221"
            ],
            [
             1,
             "#276419"
            ]
           ],
           "sequential": [
            [
             0,
             "#0d0887"
            ],
            [
             0.1111111111111111,
             "#46039f"
            ],
            [
             0.2222222222222222,
             "#7201a8"
            ],
            [
             0.3333333333333333,
             "#9c179e"
            ],
            [
             0.4444444444444444,
             "#bd3786"
            ],
            [
             0.5555555555555556,
             "#d8576b"
            ],
            [
             0.6666666666666666,
             "#ed7953"
            ],
            [
             0.7777777777777778,
             "#fb9f3a"
            ],
            [
             0.8888888888888888,
             "#fdca26"
            ],
            [
             1,
             "#f0f921"
            ]
           ],
           "sequentialminus": [
            [
             0,
             "#0d0887"
            ],
            [
             0.1111111111111111,
             "#46039f"
            ],
            [
             0.2222222222222222,
             "#7201a8"
            ],
            [
             0.3333333333333333,
             "#9c179e"
            ],
            [
             0.4444444444444444,
             "#bd3786"
            ],
            [
             0.5555555555555556,
             "#d8576b"
            ],
            [
             0.6666666666666666,
             "#ed7953"
            ],
            [
             0.7777777777777778,
             "#fb9f3a"
            ],
            [
             0.8888888888888888,
             "#fdca26"
            ],
            [
             1,
             "#f0f921"
            ]
           ]
          },
          "colorway": [
           "#636efa",
           "#EF553B",
           "#00cc96",
           "#ab63fa",
           "#FFA15A",
           "#19d3f3",
           "#FF6692",
           "#B6E880",
           "#FF97FF",
           "#FECB52"
          ],
          "font": {
           "color": "#2a3f5f"
          },
          "geo": {
           "bgcolor": "white",
           "lakecolor": "white",
           "landcolor": "#E5ECF6",
           "showlakes": true,
           "showland": true,
           "subunitcolor": "white"
          },
          "hoverlabel": {
           "align": "left"
          },
          "hovermode": "closest",
          "mapbox": {
           "style": "light"
          },
          "paper_bgcolor": "white",
          "plot_bgcolor": "#E5ECF6",
          "polar": {
           "angularaxis": {
            "gridcolor": "white",
            "linecolor": "white",
            "ticks": ""
           },
           "bgcolor": "#E5ECF6",
           "radialaxis": {
            "gridcolor": "white",
            "linecolor": "white",
            "ticks": ""
           }
          },
          "scene": {
           "xaxis": {
            "backgroundcolor": "#E5ECF6",
            "gridcolor": "white",
            "gridwidth": 2,
            "linecolor": "white",
            "showbackground": true,
            "ticks": "",
            "zerolinecolor": "white"
           },
           "yaxis": {
            "backgroundcolor": "#E5ECF6",
            "gridcolor": "white",
            "gridwidth": 2,
            "linecolor": "white",
            "showbackground": true,
            "ticks": "",
            "zerolinecolor": "white"
           },
           "zaxis": {
            "backgroundcolor": "#E5ECF6",
            "gridcolor": "white",
            "gridwidth": 2,
            "linecolor": "white",
            "showbackground": true,
            "ticks": "",
            "zerolinecolor": "white"
           }
          },
          "shapedefaults": {
           "line": {
            "color": "#2a3f5f"
           }
          },
          "ternary": {
           "aaxis": {
            "gridcolor": "white",
            "linecolor": "white",
            "ticks": ""
           },
           "baxis": {
            "gridcolor": "white",
            "linecolor": "white",
            "ticks": ""
           },
           "bgcolor": "#E5ECF6",
           "caxis": {
            "gridcolor": "white",
            "linecolor": "white",
            "ticks": ""
           }
          },
          "title": {
           "x": 0.05
          },
          "xaxis": {
           "automargin": true,
           "gridcolor": "white",
           "linecolor": "white",
           "ticks": "",
           "title": {
            "standoff": 15
           },
           "zerolinecolor": "white",
           "zerolinewidth": 2
          },
          "yaxis": {
           "automargin": true,
           "gridcolor": "white",
           "linecolor": "white",
           "ticks": "",
           "title": {
            "standoff": 15
           },
           "zerolinecolor": "white",
           "zerolinewidth": 2
          }
         }
        },
        "title": {
         "font": {
          "color": "#4D5663"
         }
        },
        "xaxis": {
         "gridcolor": "#E1E5ED",
         "showgrid": true,
         "tickfont": {
          "color": "#4D5663"
         },
         "title": {
          "font": {
           "color": "#4D5663"
          },
          "text": ""
         },
         "zerolinecolor": "#E1E5ED"
        },
        "yaxis": {
         "gridcolor": "#E1E5ED",
         "showgrid": true,
         "tickfont": {
          "color": "#4D5663"
         },
         "title": {
          "font": {
           "color": "#4D5663"
          },
          "text": ""
         },
         "zerolinecolor": "#E1E5ED"
        }
       }
      },
      "text/html": [
       "<div>                            <div id=\"f0d2a52a-1395-464c-a4a2-18c099584cfa\" class=\"plotly-graph-div\" style=\"height:525px; width:100%;\"></div>            <script type=\"text/javascript\">                require([\"plotly\"], function(Plotly) {                    window.PLOTLYENV=window.PLOTLYENV || {};\n",
       "                    window.PLOTLYENV.BASE_URL='https://plot.ly';                                    if (document.getElementById(\"f0d2a52a-1395-464c-a4a2-18c099584cfa\")) {                    Plotly.newPlot(                        \"f0d2a52a-1395-464c-a4a2-18c099584cfa\",                        [{\"marker\":{\"color\":\"rgba(255, 153, 51, 0.6)\",\"line\":{\"color\":\"rgba(255, 153, 51, 1.0)\",\"width\":1}},\"name\":\"A\",\"orientation\":\"v\",\"text\":\"\",\"type\":\"bar\",\"x\":[0,1,2,3,4,5,6,7,8,9,10,11,12,13,14,15,16,17,18,19,20,21,22,23,24,25,26,27,28,29,30,31,32,33,34,35,36,37,38,39,40,41,42,43,44,45,46,47,48,49,50,51,52,53,54,55,56,57,58,59,60,61,62,63,64,65,66,67,68,69,70,71,72,73,74,75,76,77,78,79,80,81,82,83,84,85,86,87,88,89,90,91,92,93,94,95,96,97,98,99],\"y\":[-0.34225299009874355,0.4892447760011251,0.6289296113249515,-0.9623444735331236,0.5218374246730623,1.0872779779546433,-2.5446001105676275,-0.2858836687280843,1.3065777779854995,-2.4104707774726113,1.3369186035954843,0.3838707492935451,-0.5526656706871299,-0.523243795919335,-0.5219209505049524,0.7876928140633233,-0.9458273989118097,0.6798036848133264,-0.7326321084090412,2.9676666789696204,-0.05694316110548828,-0.3901687948679766,0.39042317054449927,-0.5097476850302313,-0.06005776882918707,1.8651889477854269,0.6825596947887341,-0.660930834038989,0.7457389149047722,0.5831350759677145,0.20565331727263178,0.12137563657220368,0.14222541475987407,-0.21964030922882513,-0.1403522050946297,0.9130048247460788,-0.5324825569805095,0.8357026232545052,-0.05136640945025422,-0.15442903874892236,0.4427417326955754,-1.4618826570001109,-0.23457977919541678,1.5819006525811172,1.7673116734486296,0.5244123082679875,-1.4960518062062593,-0.08993988733773665,0.8209575792192505,0.277831732542309,1.9225576880083868,1.757171966228769,-2.138688527959561,-1.3709748402957949,-0.7155997219888818,0.3317227996255702,-1.0043614591743062,-1.0261278984258224,-1.4276290468878337,-1.0891931758991331,0.2035269789201755,0.02473667551913148,0.19551292413294072,-0.19036560623878837,-1.8010591597777204,0.8032033734232925,-1.0990490358758565,0.7760903618580065,-0.5271828141604505,-0.7383131855752465,-0.27543257249948844,-0.037819243298348515,1.2032094442658468,0.785084605957565,0.7503288870253916,-0.8472573692739707,-0.37625320843617843,-1.2657485333486633,1.7888324677330751,0.7499899464558957,0.3247253443598456,1.1096782207812264,0.28418622192332155,0.8318537645554853,2.0139557344103043,0.3476274485672122,-0.7967921761246892,-0.12058745799601407,0.43531389145934873,0.35347704597191093,-1.3720175798793395,-1.2811737166611563,0.04571690779276586,1.8411898245359177,-0.34353168706576764,1.0133136240424316,0.31479801507956323,2.1145539751315687,-1.0277828928921748,-0.7838019655038211]},{\"marker\":{\"color\":\"rgba(55, 128, 191, 0.6)\",\"line\":{\"color\":\"rgba(55, 128, 191, 1.0)\",\"width\":1}},\"name\":\"B\",\"orientation\":\"v\",\"text\":\"\",\"type\":\"bar\",\"x\":[0,1,2,3,4,5,6,7,8,9,10,11,12,13,14,15,16,17,18,19,20,21,22,23,24,25,26,27,28,29,30,31,32,33,34,35,36,37,38,39,40,41,42,43,44,45,46,47,48,49,50,51,52,53,54,55,56,57,58,59,60,61,62,63,64,65,66,67,68,69,70,71,72,73,74,75,76,77,78,79,80,81,82,83,84,85,86,87,88,89,90,91,92,93,94,95,96,97,98,99],\"y\":[0.9900955482666974,-0.9889452577232196,-0.9378354850254641,-0.5463691152022653,2.0271518857018807,0.19925957847537346,-0.7786039713483985,0.2520015620313144,-0.6188427581785232,0.419814842315549,-1.8602683357380412,0.7728522626338924,0.23979797259129315,1.1297423815295664,-0.10475559546208067,-0.009461289991414178,0.7113080068140527,-1.4786843116096715,-1.3201954219731604,0.07031698798374092,1.6442459691777473,-0.13952067189279416,-0.9250117184627819,-1.730634623494131,-1.2546443084973622,1.2139408010780905,-0.5844745801129339,-0.29554717166621897,0.27281484542731976,0.25318894794907465,-0.24638066248007567,-0.3001463717227039,-0.47843477549201796,1.5339025213459436,1.237395379686162,-0.214093862004028,-0.3867947061510151,0.20025306551505054,0.5518586459046209,-1.2649171383821682,-0.31394703787397016,2.624200579430331,-0.7124402468346807,0.47598211399691526,0.3543661152225115,-0.7416521439997066,0.11901051948687877,-1.228030696683017,-0.5254167537146217,-0.8180277127043986,0.9767586529113346,1.2707583473030304,-0.1430902898326658,0.3866316300901333,0.918493501529165,0.7382411409509697,-1.7872095559123204,-0.05138925422187474,-1.3099282607443965,0.3619874357419031,0.2473659952388168,0.673183153770201,-0.42378629704185045,-0.5218702450381305,0.3643796819545949,-0.8571232551495427,0.6196384121373644,-0.5532877791773987,-0.6985239271046452,-0.4971711238652195,0.9837197737497394,0.151109103477177,-0.45528688478792184,-0.2940979367596788,-1.1357511274305079,1.7291497641174005,-0.5315171160860179,0.5412751513880071,2.319270328199936,1.105881259664581,0.24183604497834638,-0.12739001798747068,0.15509861976732744,-1.0996109070986873,0.23972510178264853,-0.08154335854543714,-1.8255709836497878,1.8463351692191043,1.820835557120743,0.9539408365908607,-1.7026480093372356,0.736197256641093,-0.21103967120123218,0.37668614877938134,-0.8927141407003845,-0.10178995397251908,-1.3472346892602074,-0.6569542813244048,0.9437776474422417,-3.0058043986457124]},{\"marker\":{\"color\":\"rgba(50, 171, 96, 0.6)\",\"line\":{\"color\":\"rgba(50, 171, 96, 1.0)\",\"width\":1}},\"name\":\"C\",\"orientation\":\"v\",\"text\":\"\",\"type\":\"bar\",\"x\":[0,1,2,3,4,5,6,7,8,9,10,11,12,13,14,15,16,17,18,19,20,21,22,23,24,25,26,27,28,29,30,31,32,33,34,35,36,37,38,39,40,41,42,43,44,45,46,47,48,49,50,51,52,53,54,55,56,57,58,59,60,61,62,63,64,65,66,67,68,69,70,71,72,73,74,75,76,77,78,79,80,81,82,83,84,85,86,87,88,89,90,91,92,93,94,95,96,97,98,99],\"y\":[-0.24360119416966694,2.6290698676150748,0.2661367149716258,0.4248000862046849,0.15691359647032885,1.2669766461076717,-0.7458482705573792,-1.0425577762968143,-0.9918293586883078,1.1752207914133415,0.8237476957175225,1.1559167419733656,-0.26544194102746643,-1.756871692208469,-0.4328200632631489,-1.5946234612917132,-0.7754468725671481,2.456890194326189,0.25177654767670976,-0.5276250778756187,-0.41515353632559016,-0.9702083336083774,-0.5386885727546051,0.37514521710971366,0.42471750848556794,0.9123108730469526,-1.3814941779525685,1.5467689361155261,-1.006894590393866,0.0956355518057554,0.7466898784983458,-0.24213182443022957,-0.9250827556716021,-1.5203503273531633,-0.4977984822613209,-0.6410172305332248,0.0004638774932113429,0.8313405708447927,2.019266841869993,0.5943772196931862,-0.30837067424611286,0.9104799562812206,0.19755570215657497,0.2773208278157791,-1.0387187975724872,-0.506375180681545,-0.5516849839146819,0.7116617071345542,-0.19579766373118063,0.42693167129622245,-0.8331237335520756,0.5016062861936484,-0.6937427386910572,-0.49746785662625626,-1.7118428797935947,-0.7605643980862589,-0.5390131077084975,-0.09681021739978073,0.540645279267166,-0.48285349611885797,0.025786372736263302,1.8235643881611308,-1.2932590197710199,-0.6465104579661324,2.0408865397934393,0.7642965793643237,-0.8265002416929838,0.1019702069298536,0.8725592650972407,-1.588148164340174,-1.4228936331224291,0.3031964853541781,-0.07949730751640986,-2.39910314507416,-0.7029900183390284,0.8408133054957266,0.6166977677036451,-0.9940793947697844,-0.534675036167626,-0.14707923691588887,-2.6234047287938913,-1.3474097174098156,-0.1421345213333329,0.008835708481921363,-1.2515389770614476,-0.6441581344355697,-0.5934360296853288,-0.027506673382790198,-0.23057019069383758,-0.4883458423910079,-1.22605047743705,-0.6061666040960666,-1.0125377919921394,-0.3320753382492649,0.766639572361874,0.07814275463062237,-0.02251167615807235,-1.2505570063745404,-0.41570718077541857,-0.6990955371320429]},{\"marker\":{\"color\":\"rgba(128, 0, 128, 0.6)\",\"line\":{\"color\":\"rgba(128, 0, 128, 1.0)\",\"width\":1}},\"name\":\"D\",\"orientation\":\"v\",\"text\":\"\",\"type\":\"bar\",\"x\":[0,1,2,3,4,5,6,7,8,9,10,11,12,13,14,15,16,17,18,19,20,21,22,23,24,25,26,27,28,29,30,31,32,33,34,35,36,37,38,39,40,41,42,43,44,45,46,47,48,49,50,51,52,53,54,55,56,57,58,59,60,61,62,63,64,65,66,67,68,69,70,71,72,73,74,75,76,77,78,79,80,81,82,83,84,85,86,87,88,89,90,91,92,93,94,95,96,97,98,99],\"y\":[-0.8993780379502047,-0.02805590171480415,0.5612035642976496,0.45017054087238884,-2.233080770879555,0.3739742395124629,-0.5774356122456568,-0.6717884367620782,0.4832487351689567,0.761435996894435,-0.04059328762487213,0.5101128605312929,0.19902095165716177,-1.5411945525961641,-0.45683768831453736,3.2567902677591,-0.24721414340764963,-1.4596725990248305,-2.4248001490278375,0.12611197215654926,1.9234059086665694,-0.7415422179044057,0.5318699546445996,0.3411788196455518,-0.30164340637185694,0.9763135783972272,-0.21897997321007678,0.354782893192736,1.9263999024854617,-1.0069515783908103,-0.0914288423605711,0.9977226852097353,-0.16959396494707218,-0.9640722535068827,0.26028820686903065,0.6912992723236513,-0.4203592662512756,-1.3261158849795756,-1.1453604179470454,-0.9227383863226544,0.0033439820871036955,-0.29155084059205694,-1.192411953625304,0.34346615046657125,-1.0908146569416461,1.5747384092161831,-0.3905808061673566,-1.2576203889566724,-0.9292308926637166,1.9194370566526706,-1.6507047842344582,0.8631548922913439,1.2991380618444575,-3.2615524161869196,-1.0717834772800015,1.2630698522056911,3.1470570330562615,-0.13404492840812246,1.9029965756941507,0.5312264148980672,-1.0776998955177377,0.21816766458394263,0.951581629546409,0.35406437532113627,0.6726097055720566,1.5289951046519916,0.8872488457004313,1.5278424465510052,-0.5629686924888644,-0.6833421677015717,0.5763413458651462,0.12764236871541115,1.180397231496056,0.340318053147227,0.002726022685278746,1.7713800150640246,1.2982996566138594,-1.0523866869149032,-0.779700669840491,-1.8575621845742905,-0.7110915002681697,-1.4997360103036437,0.7950770689699234,0.52438561059342,0.2576584909044913,-1.1552940935623224,1.3039721355476719,1.8623529103560788,-0.15667476232146516,0.22218725609677162,0.1133313728764875,-0.7881581017112002,0.6817806926876091,-0.38247769385962327,-0.745334160946617,-0.07717189151842606,-0.9439590114540767,-0.33257224030030497,-0.33528789414779003,0.45350533599463455]}],                        {\"legend\":{\"bgcolor\":\"#F5F6F9\",\"font\":{\"color\":\"#4D5663\"}},\"paper_bgcolor\":\"#F5F6F9\",\"plot_bgcolor\":\"#F5F6F9\",\"template\":{\"data\":{\"bar\":[{\"error_x\":{\"color\":\"#2a3f5f\"},\"error_y\":{\"color\":\"#2a3f5f\"},\"marker\":{\"line\":{\"color\":\"#E5ECF6\",\"width\":0.5},\"pattern\":{\"fillmode\":\"overlay\",\"size\":10,\"solidity\":0.2}},\"type\":\"bar\"}],\"barpolar\":[{\"marker\":{\"line\":{\"color\":\"#E5ECF6\",\"width\":0.5},\"pattern\":{\"fillmode\":\"overlay\",\"size\":10,\"solidity\":0.2}},\"type\":\"barpolar\"}],\"carpet\":[{\"aaxis\":{\"endlinecolor\":\"#2a3f5f\",\"gridcolor\":\"white\",\"linecolor\":\"white\",\"minorgridcolor\":\"white\",\"startlinecolor\":\"#2a3f5f\"},\"baxis\":{\"endlinecolor\":\"#2a3f5f\",\"gridcolor\":\"white\",\"linecolor\":\"white\",\"minorgridcolor\":\"white\",\"startlinecolor\":\"#2a3f5f\"},\"type\":\"carpet\"}],\"choropleth\":[{\"colorbar\":{\"outlinewidth\":0,\"ticks\":\"\"},\"type\":\"choropleth\"}],\"contour\":[{\"colorbar\":{\"outlinewidth\":0,\"ticks\":\"\"},\"colorscale\":[[0.0,\"#0d0887\"],[0.1111111111111111,\"#46039f\"],[0.2222222222222222,\"#7201a8\"],[0.3333333333333333,\"#9c179e\"],[0.4444444444444444,\"#bd3786\"],[0.5555555555555556,\"#d8576b\"],[0.6666666666666666,\"#ed7953\"],[0.7777777777777778,\"#fb9f3a\"],[0.8888888888888888,\"#fdca26\"],[1.0,\"#f0f921\"]],\"type\":\"contour\"}],\"contourcarpet\":[{\"colorbar\":{\"outlinewidth\":0,\"ticks\":\"\"},\"type\":\"contourcarpet\"}],\"heatmap\":[{\"colorbar\":{\"outlinewidth\":0,\"ticks\":\"\"},\"colorscale\":[[0.0,\"#0d0887\"],[0.1111111111111111,\"#46039f\"],[0.2222222222222222,\"#7201a8\"],[0.3333333333333333,\"#9c179e\"],[0.4444444444444444,\"#bd3786\"],[0.5555555555555556,\"#d8576b\"],[0.6666666666666666,\"#ed7953\"],[0.7777777777777778,\"#fb9f3a\"],[0.8888888888888888,\"#fdca26\"],[1.0,\"#f0f921\"]],\"type\":\"heatmap\"}],\"heatmapgl\":[{\"colorbar\":{\"outlinewidth\":0,\"ticks\":\"\"},\"colorscale\":[[0.0,\"#0d0887\"],[0.1111111111111111,\"#46039f\"],[0.2222222222222222,\"#7201a8\"],[0.3333333333333333,\"#9c179e\"],[0.4444444444444444,\"#bd3786\"],[0.5555555555555556,\"#d8576b\"],[0.6666666666666666,\"#ed7953\"],[0.7777777777777778,\"#fb9f3a\"],[0.8888888888888888,\"#fdca26\"],[1.0,\"#f0f921\"]],\"type\":\"heatmapgl\"}],\"histogram\":[{\"marker\":{\"pattern\":{\"fillmode\":\"overlay\",\"size\":10,\"solidity\":0.2}},\"type\":\"histogram\"}],\"histogram2d\":[{\"colorbar\":{\"outlinewidth\":0,\"ticks\":\"\"},\"colorscale\":[[0.0,\"#0d0887\"],[0.1111111111111111,\"#46039f\"],[0.2222222222222222,\"#7201a8\"],[0.3333333333333333,\"#9c179e\"],[0.4444444444444444,\"#bd3786\"],[0.5555555555555556,\"#d8576b\"],[0.6666666666666666,\"#ed7953\"],[0.7777777777777778,\"#fb9f3a\"],[0.8888888888888888,\"#fdca26\"],[1.0,\"#f0f921\"]],\"type\":\"histogram2d\"}],\"histogram2dcontour\":[{\"colorbar\":{\"outlinewidth\":0,\"ticks\":\"\"},\"colorscale\":[[0.0,\"#0d0887\"],[0.1111111111111111,\"#46039f\"],[0.2222222222222222,\"#7201a8\"],[0.3333333333333333,\"#9c179e\"],[0.4444444444444444,\"#bd3786\"],[0.5555555555555556,\"#d8576b\"],[0.6666666666666666,\"#ed7953\"],[0.7777777777777778,\"#fb9f3a\"],[0.8888888888888888,\"#fdca26\"],[1.0,\"#f0f921\"]],\"type\":\"histogram2dcontour\"}],\"mesh3d\":[{\"colorbar\":{\"outlinewidth\":0,\"ticks\":\"\"},\"type\":\"mesh3d\"}],\"parcoords\":[{\"line\":{\"colorbar\":{\"outlinewidth\":0,\"ticks\":\"\"}},\"type\":\"parcoords\"}],\"pie\":[{\"automargin\":true,\"type\":\"pie\"}],\"scatter\":[{\"marker\":{\"colorbar\":{\"outlinewidth\":0,\"ticks\":\"\"}},\"type\":\"scatter\"}],\"scatter3d\":[{\"line\":{\"colorbar\":{\"outlinewidth\":0,\"ticks\":\"\"}},\"marker\":{\"colorbar\":{\"outlinewidth\":0,\"ticks\":\"\"}},\"type\":\"scatter3d\"}],\"scattercarpet\":[{\"marker\":{\"colorbar\":{\"outlinewidth\":0,\"ticks\":\"\"}},\"type\":\"scattercarpet\"}],\"scattergeo\":[{\"marker\":{\"colorbar\":{\"outlinewidth\":0,\"ticks\":\"\"}},\"type\":\"scattergeo\"}],\"scattergl\":[{\"marker\":{\"colorbar\":{\"outlinewidth\":0,\"ticks\":\"\"}},\"type\":\"scattergl\"}],\"scattermapbox\":[{\"marker\":{\"colorbar\":{\"outlinewidth\":0,\"ticks\":\"\"}},\"type\":\"scattermapbox\"}],\"scatterpolar\":[{\"marker\":{\"colorbar\":{\"outlinewidth\":0,\"ticks\":\"\"}},\"type\":\"scatterpolar\"}],\"scatterpolargl\":[{\"marker\":{\"colorbar\":{\"outlinewidth\":0,\"ticks\":\"\"}},\"type\":\"scatterpolargl\"}],\"scatterternary\":[{\"marker\":{\"colorbar\":{\"outlinewidth\":0,\"ticks\":\"\"}},\"type\":\"scatterternary\"}],\"surface\":[{\"colorbar\":{\"outlinewidth\":0,\"ticks\":\"\"},\"colorscale\":[[0.0,\"#0d0887\"],[0.1111111111111111,\"#46039f\"],[0.2222222222222222,\"#7201a8\"],[0.3333333333333333,\"#9c179e\"],[0.4444444444444444,\"#bd3786\"],[0.5555555555555556,\"#d8576b\"],[0.6666666666666666,\"#ed7953\"],[0.7777777777777778,\"#fb9f3a\"],[0.8888888888888888,\"#fdca26\"],[1.0,\"#f0f921\"]],\"type\":\"surface\"}],\"table\":[{\"cells\":{\"fill\":{\"color\":\"#EBF0F8\"},\"line\":{\"color\":\"white\"}},\"header\":{\"fill\":{\"color\":\"#C8D4E3\"},\"line\":{\"color\":\"white\"}},\"type\":\"table\"}]},\"layout\":{\"annotationdefaults\":{\"arrowcolor\":\"#2a3f5f\",\"arrowhead\":0,\"arrowwidth\":1},\"autotypenumbers\":\"strict\",\"coloraxis\":{\"colorbar\":{\"outlinewidth\":0,\"ticks\":\"\"}},\"colorscale\":{\"diverging\":[[0,\"#8e0152\"],[0.1,\"#c51b7d\"],[0.2,\"#de77ae\"],[0.3,\"#f1b6da\"],[0.4,\"#fde0ef\"],[0.5,\"#f7f7f7\"],[0.6,\"#e6f5d0\"],[0.7,\"#b8e186\"],[0.8,\"#7fbc41\"],[0.9,\"#4d9221\"],[1,\"#276419\"]],\"sequential\":[[0.0,\"#0d0887\"],[0.1111111111111111,\"#46039f\"],[0.2222222222222222,\"#7201a8\"],[0.3333333333333333,\"#9c179e\"],[0.4444444444444444,\"#bd3786\"],[0.5555555555555556,\"#d8576b\"],[0.6666666666666666,\"#ed7953\"],[0.7777777777777778,\"#fb9f3a\"],[0.8888888888888888,\"#fdca26\"],[1.0,\"#f0f921\"]],\"sequentialminus\":[[0.0,\"#0d0887\"],[0.1111111111111111,\"#46039f\"],[0.2222222222222222,\"#7201a8\"],[0.3333333333333333,\"#9c179e\"],[0.4444444444444444,\"#bd3786\"],[0.5555555555555556,\"#d8576b\"],[0.6666666666666666,\"#ed7953\"],[0.7777777777777778,\"#fb9f3a\"],[0.8888888888888888,\"#fdca26\"],[1.0,\"#f0f921\"]]},\"colorway\":[\"#636efa\",\"#EF553B\",\"#00cc96\",\"#ab63fa\",\"#FFA15A\",\"#19d3f3\",\"#FF6692\",\"#B6E880\",\"#FF97FF\",\"#FECB52\"],\"font\":{\"color\":\"#2a3f5f\"},\"geo\":{\"bgcolor\":\"white\",\"lakecolor\":\"white\",\"landcolor\":\"#E5ECF6\",\"showlakes\":true,\"showland\":true,\"subunitcolor\":\"white\"},\"hoverlabel\":{\"align\":\"left\"},\"hovermode\":\"closest\",\"mapbox\":{\"style\":\"light\"},\"paper_bgcolor\":\"white\",\"plot_bgcolor\":\"#E5ECF6\",\"polar\":{\"angularaxis\":{\"gridcolor\":\"white\",\"linecolor\":\"white\",\"ticks\":\"\"},\"bgcolor\":\"#E5ECF6\",\"radialaxis\":{\"gridcolor\":\"white\",\"linecolor\":\"white\",\"ticks\":\"\"}},\"scene\":{\"xaxis\":{\"backgroundcolor\":\"#E5ECF6\",\"gridcolor\":\"white\",\"gridwidth\":2,\"linecolor\":\"white\",\"showbackground\":true,\"ticks\":\"\",\"zerolinecolor\":\"white\"},\"yaxis\":{\"backgroundcolor\":\"#E5ECF6\",\"gridcolor\":\"white\",\"gridwidth\":2,\"linecolor\":\"white\",\"showbackground\":true,\"ticks\":\"\",\"zerolinecolor\":\"white\"},\"zaxis\":{\"backgroundcolor\":\"#E5ECF6\",\"gridcolor\":\"white\",\"gridwidth\":2,\"linecolor\":\"white\",\"showbackground\":true,\"ticks\":\"\",\"zerolinecolor\":\"white\"}},\"shapedefaults\":{\"line\":{\"color\":\"#2a3f5f\"}},\"ternary\":{\"aaxis\":{\"gridcolor\":\"white\",\"linecolor\":\"white\",\"ticks\":\"\"},\"baxis\":{\"gridcolor\":\"white\",\"linecolor\":\"white\",\"ticks\":\"\"},\"bgcolor\":\"#E5ECF6\",\"caxis\":{\"gridcolor\":\"white\",\"linecolor\":\"white\",\"ticks\":\"\"}},\"title\":{\"x\":0.05},\"xaxis\":{\"automargin\":true,\"gridcolor\":\"white\",\"linecolor\":\"white\",\"ticks\":\"\",\"title\":{\"standoff\":15},\"zerolinecolor\":\"white\",\"zerolinewidth\":2},\"yaxis\":{\"automargin\":true,\"gridcolor\":\"white\",\"linecolor\":\"white\",\"ticks\":\"\",\"title\":{\"standoff\":15},\"zerolinecolor\":\"white\",\"zerolinewidth\":2}}},\"title\":{\"font\":{\"color\":\"#4D5663\"}},\"xaxis\":{\"gridcolor\":\"#E1E5ED\",\"showgrid\":true,\"tickfont\":{\"color\":\"#4D5663\"},\"title\":{\"font\":{\"color\":\"#4D5663\"},\"text\":\"\"},\"zerolinecolor\":\"#E1E5ED\"},\"yaxis\":{\"gridcolor\":\"#E1E5ED\",\"showgrid\":true,\"tickfont\":{\"color\":\"#4D5663\"},\"title\":{\"font\":{\"color\":\"#4D5663\"},\"text\":\"\"},\"zerolinecolor\":\"#E1E5ED\"}},                        {\"showLink\": true, \"linkText\": \"Export to plot.ly\", \"plotlyServerURL\": \"https://plot.ly\", \"responsive\": true}                    ).then(function(){\n",
       "                            \n",
       "var gd = document.getElementById('f0d2a52a-1395-464c-a4a2-18c099584cfa');\n",
       "var x = new MutationObserver(function (mutations, observer) {{\n",
       "        var display = window.getComputedStyle(gd).display;\n",
       "        if (!display || display === 'none') {{\n",
       "            console.log([gd, 'removed!']);\n",
       "            Plotly.purge(gd);\n",
       "            observer.disconnect();\n",
       "        }}\n",
       "}});\n",
       "\n",
       "// Listen for the removal of the full notebook cells\n",
       "var notebookContainer = gd.closest('#notebook-container');\n",
       "if (notebookContainer) {{\n",
       "    x.observe(notebookContainer, {childList: true});\n",
       "}}\n",
       "\n",
       "// Listen for the clearing of the current output cell\n",
       "var outputEl = gd.closest('.output');\n",
       "if (outputEl) {{\n",
       "    x.observe(outputEl, {childList: true});\n",
       "}}\n",
       "\n",
       "                        })                };                });            </script>        </div>"
      ]
     },
     "metadata": {},
     "output_type": "display_data"
    }
   ],
   "source": [
    "df.iplot(kind='bar')"
   ]
  },
  {
   "cell_type": "code",
   "execution_count": 29,
   "id": "398a17ba",
   "metadata": {},
   "outputs": [
    {
     "data": {
      "application/vnd.plotly.v1+json": {
       "config": {
        "linkText": "Export to plot.ly",
        "plotlyServerURL": "https://plot.ly",
        "showLink": true
       },
       "data": [
        {
         "marker": {
          "color": "rgba(255, 153, 51, 0.6)",
          "line": {
           "color": "rgba(255, 153, 51, 1.0)",
           "width": 1
          }
         },
         "name": "None",
         "orientation": "v",
         "text": "",
         "type": "bar",
         "x": [
          "A",
          "B",
          "C",
          "D"
         ],
         "y": [
          100,
          100,
          100,
          100
         ]
        }
       ],
       "layout": {
        "legend": {
         "bgcolor": "#F5F6F9",
         "font": {
          "color": "#4D5663"
         }
        },
        "paper_bgcolor": "#F5F6F9",
        "plot_bgcolor": "#F5F6F9",
        "template": {
         "data": {
          "bar": [
           {
            "error_x": {
             "color": "#2a3f5f"
            },
            "error_y": {
             "color": "#2a3f5f"
            },
            "marker": {
             "line": {
              "color": "#E5ECF6",
              "width": 0.5
             },
             "pattern": {
              "fillmode": "overlay",
              "size": 10,
              "solidity": 0.2
             }
            },
            "type": "bar"
           }
          ],
          "barpolar": [
           {
            "marker": {
             "line": {
              "color": "#E5ECF6",
              "width": 0.5
             },
             "pattern": {
              "fillmode": "overlay",
              "size": 10,
              "solidity": 0.2
             }
            },
            "type": "barpolar"
           }
          ],
          "carpet": [
           {
            "aaxis": {
             "endlinecolor": "#2a3f5f",
             "gridcolor": "white",
             "linecolor": "white",
             "minorgridcolor": "white",
             "startlinecolor": "#2a3f5f"
            },
            "baxis": {
             "endlinecolor": "#2a3f5f",
             "gridcolor": "white",
             "linecolor": "white",
             "minorgridcolor": "white",
             "startlinecolor": "#2a3f5f"
            },
            "type": "carpet"
           }
          ],
          "choropleth": [
           {
            "colorbar": {
             "outlinewidth": 0,
             "ticks": ""
            },
            "type": "choropleth"
           }
          ],
          "contour": [
           {
            "colorbar": {
             "outlinewidth": 0,
             "ticks": ""
            },
            "colorscale": [
             [
              0,
              "#0d0887"
             ],
             [
              0.1111111111111111,
              "#46039f"
             ],
             [
              0.2222222222222222,
              "#7201a8"
             ],
             [
              0.3333333333333333,
              "#9c179e"
             ],
             [
              0.4444444444444444,
              "#bd3786"
             ],
             [
              0.5555555555555556,
              "#d8576b"
             ],
             [
              0.6666666666666666,
              "#ed7953"
             ],
             [
              0.7777777777777778,
              "#fb9f3a"
             ],
             [
              0.8888888888888888,
              "#fdca26"
             ],
             [
              1,
              "#f0f921"
             ]
            ],
            "type": "contour"
           }
          ],
          "contourcarpet": [
           {
            "colorbar": {
             "outlinewidth": 0,
             "ticks": ""
            },
            "type": "contourcarpet"
           }
          ],
          "heatmap": [
           {
            "colorbar": {
             "outlinewidth": 0,
             "ticks": ""
            },
            "colorscale": [
             [
              0,
              "#0d0887"
             ],
             [
              0.1111111111111111,
              "#46039f"
             ],
             [
              0.2222222222222222,
              "#7201a8"
             ],
             [
              0.3333333333333333,
              "#9c179e"
             ],
             [
              0.4444444444444444,
              "#bd3786"
             ],
             [
              0.5555555555555556,
              "#d8576b"
             ],
             [
              0.6666666666666666,
              "#ed7953"
             ],
             [
              0.7777777777777778,
              "#fb9f3a"
             ],
             [
              0.8888888888888888,
              "#fdca26"
             ],
             [
              1,
              "#f0f921"
             ]
            ],
            "type": "heatmap"
           }
          ],
          "heatmapgl": [
           {
            "colorbar": {
             "outlinewidth": 0,
             "ticks": ""
            },
            "colorscale": [
             [
              0,
              "#0d0887"
             ],
             [
              0.1111111111111111,
              "#46039f"
             ],
             [
              0.2222222222222222,
              "#7201a8"
             ],
             [
              0.3333333333333333,
              "#9c179e"
             ],
             [
              0.4444444444444444,
              "#bd3786"
             ],
             [
              0.5555555555555556,
              "#d8576b"
             ],
             [
              0.6666666666666666,
              "#ed7953"
             ],
             [
              0.7777777777777778,
              "#fb9f3a"
             ],
             [
              0.8888888888888888,
              "#fdca26"
             ],
             [
              1,
              "#f0f921"
             ]
            ],
            "type": "heatmapgl"
           }
          ],
          "histogram": [
           {
            "marker": {
             "pattern": {
              "fillmode": "overlay",
              "size": 10,
              "solidity": 0.2
             }
            },
            "type": "histogram"
           }
          ],
          "histogram2d": [
           {
            "colorbar": {
             "outlinewidth": 0,
             "ticks": ""
            },
            "colorscale": [
             [
              0,
              "#0d0887"
             ],
             [
              0.1111111111111111,
              "#46039f"
             ],
             [
              0.2222222222222222,
              "#7201a8"
             ],
             [
              0.3333333333333333,
              "#9c179e"
             ],
             [
              0.4444444444444444,
              "#bd3786"
             ],
             [
              0.5555555555555556,
              "#d8576b"
             ],
             [
              0.6666666666666666,
              "#ed7953"
             ],
             [
              0.7777777777777778,
              "#fb9f3a"
             ],
             [
              0.8888888888888888,
              "#fdca26"
             ],
             [
              1,
              "#f0f921"
             ]
            ],
            "type": "histogram2d"
           }
          ],
          "histogram2dcontour": [
           {
            "colorbar": {
             "outlinewidth": 0,
             "ticks": ""
            },
            "colorscale": [
             [
              0,
              "#0d0887"
             ],
             [
              0.1111111111111111,
              "#46039f"
             ],
             [
              0.2222222222222222,
              "#7201a8"
             ],
             [
              0.3333333333333333,
              "#9c179e"
             ],
             [
              0.4444444444444444,
              "#bd3786"
             ],
             [
              0.5555555555555556,
              "#d8576b"
             ],
             [
              0.6666666666666666,
              "#ed7953"
             ],
             [
              0.7777777777777778,
              "#fb9f3a"
             ],
             [
              0.8888888888888888,
              "#fdca26"
             ],
             [
              1,
              "#f0f921"
             ]
            ],
            "type": "histogram2dcontour"
           }
          ],
          "mesh3d": [
           {
            "colorbar": {
             "outlinewidth": 0,
             "ticks": ""
            },
            "type": "mesh3d"
           }
          ],
          "parcoords": [
           {
            "line": {
             "colorbar": {
              "outlinewidth": 0,
              "ticks": ""
             }
            },
            "type": "parcoords"
           }
          ],
          "pie": [
           {
            "automargin": true,
            "type": "pie"
           }
          ],
          "scatter": [
           {
            "marker": {
             "colorbar": {
              "outlinewidth": 0,
              "ticks": ""
             }
            },
            "type": "scatter"
           }
          ],
          "scatter3d": [
           {
            "line": {
             "colorbar": {
              "outlinewidth": 0,
              "ticks": ""
             }
            },
            "marker": {
             "colorbar": {
              "outlinewidth": 0,
              "ticks": ""
             }
            },
            "type": "scatter3d"
           }
          ],
          "scattercarpet": [
           {
            "marker": {
             "colorbar": {
              "outlinewidth": 0,
              "ticks": ""
             }
            },
            "type": "scattercarpet"
           }
          ],
          "scattergeo": [
           {
            "marker": {
             "colorbar": {
              "outlinewidth": 0,
              "ticks": ""
             }
            },
            "type": "scattergeo"
           }
          ],
          "scattergl": [
           {
            "marker": {
             "colorbar": {
              "outlinewidth": 0,
              "ticks": ""
             }
            },
            "type": "scattergl"
           }
          ],
          "scattermapbox": [
           {
            "marker": {
             "colorbar": {
              "outlinewidth": 0,
              "ticks": ""
             }
            },
            "type": "scattermapbox"
           }
          ],
          "scatterpolar": [
           {
            "marker": {
             "colorbar": {
              "outlinewidth": 0,
              "ticks": ""
             }
            },
            "type": "scatterpolar"
           }
          ],
          "scatterpolargl": [
           {
            "marker": {
             "colorbar": {
              "outlinewidth": 0,
              "ticks": ""
             }
            },
            "type": "scatterpolargl"
           }
          ],
          "scatterternary": [
           {
            "marker": {
             "colorbar": {
              "outlinewidth": 0,
              "ticks": ""
             }
            },
            "type": "scatterternary"
           }
          ],
          "surface": [
           {
            "colorbar": {
             "outlinewidth": 0,
             "ticks": ""
            },
            "colorscale": [
             [
              0,
              "#0d0887"
             ],
             [
              0.1111111111111111,
              "#46039f"
             ],
             [
              0.2222222222222222,
              "#7201a8"
             ],
             [
              0.3333333333333333,
              "#9c179e"
             ],
             [
              0.4444444444444444,
              "#bd3786"
             ],
             [
              0.5555555555555556,
              "#d8576b"
             ],
             [
              0.6666666666666666,
              "#ed7953"
             ],
             [
              0.7777777777777778,
              "#fb9f3a"
             ],
             [
              0.8888888888888888,
              "#fdca26"
             ],
             [
              1,
              "#f0f921"
             ]
            ],
            "type": "surface"
           }
          ],
          "table": [
           {
            "cells": {
             "fill": {
              "color": "#EBF0F8"
             },
             "line": {
              "color": "white"
             }
            },
            "header": {
             "fill": {
              "color": "#C8D4E3"
             },
             "line": {
              "color": "white"
             }
            },
            "type": "table"
           }
          ]
         },
         "layout": {
          "annotationdefaults": {
           "arrowcolor": "#2a3f5f",
           "arrowhead": 0,
           "arrowwidth": 1
          },
          "autotypenumbers": "strict",
          "coloraxis": {
           "colorbar": {
            "outlinewidth": 0,
            "ticks": ""
           }
          },
          "colorscale": {
           "diverging": [
            [
             0,
             "#8e0152"
            ],
            [
             0.1,
             "#c51b7d"
            ],
            [
             0.2,
             "#de77ae"
            ],
            [
             0.3,
             "#f1b6da"
            ],
            [
             0.4,
             "#fde0ef"
            ],
            [
             0.5,
             "#f7f7f7"
            ],
            [
             0.6,
             "#e6f5d0"
            ],
            [
             0.7,
             "#b8e186"
            ],
            [
             0.8,
             "#7fbc41"
            ],
            [
             0.9,
             "#4d9221"
            ],
            [
             1,
             "#276419"
            ]
           ],
           "sequential": [
            [
             0,
             "#0d0887"
            ],
            [
             0.1111111111111111,
             "#46039f"
            ],
            [
             0.2222222222222222,
             "#7201a8"
            ],
            [
             0.3333333333333333,
             "#9c179e"
            ],
            [
             0.4444444444444444,
             "#bd3786"
            ],
            [
             0.5555555555555556,
             "#d8576b"
            ],
            [
             0.6666666666666666,
             "#ed7953"
            ],
            [
             0.7777777777777778,
             "#fb9f3a"
            ],
            [
             0.8888888888888888,
             "#fdca26"
            ],
            [
             1,
             "#f0f921"
            ]
           ],
           "sequentialminus": [
            [
             0,
             "#0d0887"
            ],
            [
             0.1111111111111111,
             "#46039f"
            ],
            [
             0.2222222222222222,
             "#7201a8"
            ],
            [
             0.3333333333333333,
             "#9c179e"
            ],
            [
             0.4444444444444444,
             "#bd3786"
            ],
            [
             0.5555555555555556,
             "#d8576b"
            ],
            [
             0.6666666666666666,
             "#ed7953"
            ],
            [
             0.7777777777777778,
             "#fb9f3a"
            ],
            [
             0.8888888888888888,
             "#fdca26"
            ],
            [
             1,
             "#f0f921"
            ]
           ]
          },
          "colorway": [
           "#636efa",
           "#EF553B",
           "#00cc96",
           "#ab63fa",
           "#FFA15A",
           "#19d3f3",
           "#FF6692",
           "#B6E880",
           "#FF97FF",
           "#FECB52"
          ],
          "font": {
           "color": "#2a3f5f"
          },
          "geo": {
           "bgcolor": "white",
           "lakecolor": "white",
           "landcolor": "#E5ECF6",
           "showlakes": true,
           "showland": true,
           "subunitcolor": "white"
          },
          "hoverlabel": {
           "align": "left"
          },
          "hovermode": "closest",
          "mapbox": {
           "style": "light"
          },
          "paper_bgcolor": "white",
          "plot_bgcolor": "#E5ECF6",
          "polar": {
           "angularaxis": {
            "gridcolor": "white",
            "linecolor": "white",
            "ticks": ""
           },
           "bgcolor": "#E5ECF6",
           "radialaxis": {
            "gridcolor": "white",
            "linecolor": "white",
            "ticks": ""
           }
          },
          "scene": {
           "xaxis": {
            "backgroundcolor": "#E5ECF6",
            "gridcolor": "white",
            "gridwidth": 2,
            "linecolor": "white",
            "showbackground": true,
            "ticks": "",
            "zerolinecolor": "white"
           },
           "yaxis": {
            "backgroundcolor": "#E5ECF6",
            "gridcolor": "white",
            "gridwidth": 2,
            "linecolor": "white",
            "showbackground": true,
            "ticks": "",
            "zerolinecolor": "white"
           },
           "zaxis": {
            "backgroundcolor": "#E5ECF6",
            "gridcolor": "white",
            "gridwidth": 2,
            "linecolor": "white",
            "showbackground": true,
            "ticks": "",
            "zerolinecolor": "white"
           }
          },
          "shapedefaults": {
           "line": {
            "color": "#2a3f5f"
           }
          },
          "ternary": {
           "aaxis": {
            "gridcolor": "white",
            "linecolor": "white",
            "ticks": ""
           },
           "baxis": {
            "gridcolor": "white",
            "linecolor": "white",
            "ticks": ""
           },
           "bgcolor": "#E5ECF6",
           "caxis": {
            "gridcolor": "white",
            "linecolor": "white",
            "ticks": ""
           }
          },
          "title": {
           "x": 0.05
          },
          "xaxis": {
           "automargin": true,
           "gridcolor": "white",
           "linecolor": "white",
           "ticks": "",
           "title": {
            "standoff": 15
           },
           "zerolinecolor": "white",
           "zerolinewidth": 2
          },
          "yaxis": {
           "automargin": true,
           "gridcolor": "white",
           "linecolor": "white",
           "ticks": "",
           "title": {
            "standoff": 15
           },
           "zerolinecolor": "white",
           "zerolinewidth": 2
          }
         }
        },
        "title": {
         "font": {
          "color": "#4D5663"
         }
        },
        "xaxis": {
         "gridcolor": "#E1E5ED",
         "showgrid": true,
         "tickfont": {
          "color": "#4D5663"
         },
         "title": {
          "font": {
           "color": "#4D5663"
          },
          "text": ""
         },
         "zerolinecolor": "#E1E5ED"
        },
        "yaxis": {
         "gridcolor": "#E1E5ED",
         "showgrid": true,
         "tickfont": {
          "color": "#4D5663"
         },
         "title": {
          "font": {
           "color": "#4D5663"
          },
          "text": ""
         },
         "zerolinecolor": "#E1E5ED"
        }
       }
      },
      "text/html": [
       "<div>                            <div id=\"66b9ddfa-876a-48f4-a1b3-8172b38c7ef6\" class=\"plotly-graph-div\" style=\"height:525px; width:100%;\"></div>            <script type=\"text/javascript\">                require([\"plotly\"], function(Plotly) {                    window.PLOTLYENV=window.PLOTLYENV || {};\n",
       "                    window.PLOTLYENV.BASE_URL='https://plot.ly';                                    if (document.getElementById(\"66b9ddfa-876a-48f4-a1b3-8172b38c7ef6\")) {                    Plotly.newPlot(                        \"66b9ddfa-876a-48f4-a1b3-8172b38c7ef6\",                        [{\"marker\":{\"color\":\"rgba(255, 153, 51, 0.6)\",\"line\":{\"color\":\"rgba(255, 153, 51, 1.0)\",\"width\":1}},\"name\":\"None\",\"orientation\":\"v\",\"text\":\"\",\"type\":\"bar\",\"x\":[\"A\",\"B\",\"C\",\"D\"],\"y\":[100,100,100,100]}],                        {\"legend\":{\"bgcolor\":\"#F5F6F9\",\"font\":{\"color\":\"#4D5663\"}},\"paper_bgcolor\":\"#F5F6F9\",\"plot_bgcolor\":\"#F5F6F9\",\"template\":{\"data\":{\"bar\":[{\"error_x\":{\"color\":\"#2a3f5f\"},\"error_y\":{\"color\":\"#2a3f5f\"},\"marker\":{\"line\":{\"color\":\"#E5ECF6\",\"width\":0.5},\"pattern\":{\"fillmode\":\"overlay\",\"size\":10,\"solidity\":0.2}},\"type\":\"bar\"}],\"barpolar\":[{\"marker\":{\"line\":{\"color\":\"#E5ECF6\",\"width\":0.5},\"pattern\":{\"fillmode\":\"overlay\",\"size\":10,\"solidity\":0.2}},\"type\":\"barpolar\"}],\"carpet\":[{\"aaxis\":{\"endlinecolor\":\"#2a3f5f\",\"gridcolor\":\"white\",\"linecolor\":\"white\",\"minorgridcolor\":\"white\",\"startlinecolor\":\"#2a3f5f\"},\"baxis\":{\"endlinecolor\":\"#2a3f5f\",\"gridcolor\":\"white\",\"linecolor\":\"white\",\"minorgridcolor\":\"white\",\"startlinecolor\":\"#2a3f5f\"},\"type\":\"carpet\"}],\"choropleth\":[{\"colorbar\":{\"outlinewidth\":0,\"ticks\":\"\"},\"type\":\"choropleth\"}],\"contour\":[{\"colorbar\":{\"outlinewidth\":0,\"ticks\":\"\"},\"colorscale\":[[0.0,\"#0d0887\"],[0.1111111111111111,\"#46039f\"],[0.2222222222222222,\"#7201a8\"],[0.3333333333333333,\"#9c179e\"],[0.4444444444444444,\"#bd3786\"],[0.5555555555555556,\"#d8576b\"],[0.6666666666666666,\"#ed7953\"],[0.7777777777777778,\"#fb9f3a\"],[0.8888888888888888,\"#fdca26\"],[1.0,\"#f0f921\"]],\"type\":\"contour\"}],\"contourcarpet\":[{\"colorbar\":{\"outlinewidth\":0,\"ticks\":\"\"},\"type\":\"contourcarpet\"}],\"heatmap\":[{\"colorbar\":{\"outlinewidth\":0,\"ticks\":\"\"},\"colorscale\":[[0.0,\"#0d0887\"],[0.1111111111111111,\"#46039f\"],[0.2222222222222222,\"#7201a8\"],[0.3333333333333333,\"#9c179e\"],[0.4444444444444444,\"#bd3786\"],[0.5555555555555556,\"#d8576b\"],[0.6666666666666666,\"#ed7953\"],[0.7777777777777778,\"#fb9f3a\"],[0.8888888888888888,\"#fdca26\"],[1.0,\"#f0f921\"]],\"type\":\"heatmap\"}],\"heatmapgl\":[{\"colorbar\":{\"outlinewidth\":0,\"ticks\":\"\"},\"colorscale\":[[0.0,\"#0d0887\"],[0.1111111111111111,\"#46039f\"],[0.2222222222222222,\"#7201a8\"],[0.3333333333333333,\"#9c179e\"],[0.4444444444444444,\"#bd3786\"],[0.5555555555555556,\"#d8576b\"],[0.6666666666666666,\"#ed7953\"],[0.7777777777777778,\"#fb9f3a\"],[0.8888888888888888,\"#fdca26\"],[1.0,\"#f0f921\"]],\"type\":\"heatmapgl\"}],\"histogram\":[{\"marker\":{\"pattern\":{\"fillmode\":\"overlay\",\"size\":10,\"solidity\":0.2}},\"type\":\"histogram\"}],\"histogram2d\":[{\"colorbar\":{\"outlinewidth\":0,\"ticks\":\"\"},\"colorscale\":[[0.0,\"#0d0887\"],[0.1111111111111111,\"#46039f\"],[0.2222222222222222,\"#7201a8\"],[0.3333333333333333,\"#9c179e\"],[0.4444444444444444,\"#bd3786\"],[0.5555555555555556,\"#d8576b\"],[0.6666666666666666,\"#ed7953\"],[0.7777777777777778,\"#fb9f3a\"],[0.8888888888888888,\"#fdca26\"],[1.0,\"#f0f921\"]],\"type\":\"histogram2d\"}],\"histogram2dcontour\":[{\"colorbar\":{\"outlinewidth\":0,\"ticks\":\"\"},\"colorscale\":[[0.0,\"#0d0887\"],[0.1111111111111111,\"#46039f\"],[0.2222222222222222,\"#7201a8\"],[0.3333333333333333,\"#9c179e\"],[0.4444444444444444,\"#bd3786\"],[0.5555555555555556,\"#d8576b\"],[0.6666666666666666,\"#ed7953\"],[0.7777777777777778,\"#fb9f3a\"],[0.8888888888888888,\"#fdca26\"],[1.0,\"#f0f921\"]],\"type\":\"histogram2dcontour\"}],\"mesh3d\":[{\"colorbar\":{\"outlinewidth\":0,\"ticks\":\"\"},\"type\":\"mesh3d\"}],\"parcoords\":[{\"line\":{\"colorbar\":{\"outlinewidth\":0,\"ticks\":\"\"}},\"type\":\"parcoords\"}],\"pie\":[{\"automargin\":true,\"type\":\"pie\"}],\"scatter\":[{\"marker\":{\"colorbar\":{\"outlinewidth\":0,\"ticks\":\"\"}},\"type\":\"scatter\"}],\"scatter3d\":[{\"line\":{\"colorbar\":{\"outlinewidth\":0,\"ticks\":\"\"}},\"marker\":{\"colorbar\":{\"outlinewidth\":0,\"ticks\":\"\"}},\"type\":\"scatter3d\"}],\"scattercarpet\":[{\"marker\":{\"colorbar\":{\"outlinewidth\":0,\"ticks\":\"\"}},\"type\":\"scattercarpet\"}],\"scattergeo\":[{\"marker\":{\"colorbar\":{\"outlinewidth\":0,\"ticks\":\"\"}},\"type\":\"scattergeo\"}],\"scattergl\":[{\"marker\":{\"colorbar\":{\"outlinewidth\":0,\"ticks\":\"\"}},\"type\":\"scattergl\"}],\"scattermapbox\":[{\"marker\":{\"colorbar\":{\"outlinewidth\":0,\"ticks\":\"\"}},\"type\":\"scattermapbox\"}],\"scatterpolar\":[{\"marker\":{\"colorbar\":{\"outlinewidth\":0,\"ticks\":\"\"}},\"type\":\"scatterpolar\"}],\"scatterpolargl\":[{\"marker\":{\"colorbar\":{\"outlinewidth\":0,\"ticks\":\"\"}},\"type\":\"scatterpolargl\"}],\"scatterternary\":[{\"marker\":{\"colorbar\":{\"outlinewidth\":0,\"ticks\":\"\"}},\"type\":\"scatterternary\"}],\"surface\":[{\"colorbar\":{\"outlinewidth\":0,\"ticks\":\"\"},\"colorscale\":[[0.0,\"#0d0887\"],[0.1111111111111111,\"#46039f\"],[0.2222222222222222,\"#7201a8\"],[0.3333333333333333,\"#9c179e\"],[0.4444444444444444,\"#bd3786\"],[0.5555555555555556,\"#d8576b\"],[0.6666666666666666,\"#ed7953\"],[0.7777777777777778,\"#fb9f3a\"],[0.8888888888888888,\"#fdca26\"],[1.0,\"#f0f921\"]],\"type\":\"surface\"}],\"table\":[{\"cells\":{\"fill\":{\"color\":\"#EBF0F8\"},\"line\":{\"color\":\"white\"}},\"header\":{\"fill\":{\"color\":\"#C8D4E3\"},\"line\":{\"color\":\"white\"}},\"type\":\"table\"}]},\"layout\":{\"annotationdefaults\":{\"arrowcolor\":\"#2a3f5f\",\"arrowhead\":0,\"arrowwidth\":1},\"autotypenumbers\":\"strict\",\"coloraxis\":{\"colorbar\":{\"outlinewidth\":0,\"ticks\":\"\"}},\"colorscale\":{\"diverging\":[[0,\"#8e0152\"],[0.1,\"#c51b7d\"],[0.2,\"#de77ae\"],[0.3,\"#f1b6da\"],[0.4,\"#fde0ef\"],[0.5,\"#f7f7f7\"],[0.6,\"#e6f5d0\"],[0.7,\"#b8e186\"],[0.8,\"#7fbc41\"],[0.9,\"#4d9221\"],[1,\"#276419\"]],\"sequential\":[[0.0,\"#0d0887\"],[0.1111111111111111,\"#46039f\"],[0.2222222222222222,\"#7201a8\"],[0.3333333333333333,\"#9c179e\"],[0.4444444444444444,\"#bd3786\"],[0.5555555555555556,\"#d8576b\"],[0.6666666666666666,\"#ed7953\"],[0.7777777777777778,\"#fb9f3a\"],[0.8888888888888888,\"#fdca26\"],[1.0,\"#f0f921\"]],\"sequentialminus\":[[0.0,\"#0d0887\"],[0.1111111111111111,\"#46039f\"],[0.2222222222222222,\"#7201a8\"],[0.3333333333333333,\"#9c179e\"],[0.4444444444444444,\"#bd3786\"],[0.5555555555555556,\"#d8576b\"],[0.6666666666666666,\"#ed7953\"],[0.7777777777777778,\"#fb9f3a\"],[0.8888888888888888,\"#fdca26\"],[1.0,\"#f0f921\"]]},\"colorway\":[\"#636efa\",\"#EF553B\",\"#00cc96\",\"#ab63fa\",\"#FFA15A\",\"#19d3f3\",\"#FF6692\",\"#B6E880\",\"#FF97FF\",\"#FECB52\"],\"font\":{\"color\":\"#2a3f5f\"},\"geo\":{\"bgcolor\":\"white\",\"lakecolor\":\"white\",\"landcolor\":\"#E5ECF6\",\"showlakes\":true,\"showland\":true,\"subunitcolor\":\"white\"},\"hoverlabel\":{\"align\":\"left\"},\"hovermode\":\"closest\",\"mapbox\":{\"style\":\"light\"},\"paper_bgcolor\":\"white\",\"plot_bgcolor\":\"#E5ECF6\",\"polar\":{\"angularaxis\":{\"gridcolor\":\"white\",\"linecolor\":\"white\",\"ticks\":\"\"},\"bgcolor\":\"#E5ECF6\",\"radialaxis\":{\"gridcolor\":\"white\",\"linecolor\":\"white\",\"ticks\":\"\"}},\"scene\":{\"xaxis\":{\"backgroundcolor\":\"#E5ECF6\",\"gridcolor\":\"white\",\"gridwidth\":2,\"linecolor\":\"white\",\"showbackground\":true,\"ticks\":\"\",\"zerolinecolor\":\"white\"},\"yaxis\":{\"backgroundcolor\":\"#E5ECF6\",\"gridcolor\":\"white\",\"gridwidth\":2,\"linecolor\":\"white\",\"showbackground\":true,\"ticks\":\"\",\"zerolinecolor\":\"white\"},\"zaxis\":{\"backgroundcolor\":\"#E5ECF6\",\"gridcolor\":\"white\",\"gridwidth\":2,\"linecolor\":\"white\",\"showbackground\":true,\"ticks\":\"\",\"zerolinecolor\":\"white\"}},\"shapedefaults\":{\"line\":{\"color\":\"#2a3f5f\"}},\"ternary\":{\"aaxis\":{\"gridcolor\":\"white\",\"linecolor\":\"white\",\"ticks\":\"\"},\"baxis\":{\"gridcolor\":\"white\",\"linecolor\":\"white\",\"ticks\":\"\"},\"bgcolor\":\"#E5ECF6\",\"caxis\":{\"gridcolor\":\"white\",\"linecolor\":\"white\",\"ticks\":\"\"}},\"title\":{\"x\":0.05},\"xaxis\":{\"automargin\":true,\"gridcolor\":\"white\",\"linecolor\":\"white\",\"ticks\":\"\",\"title\":{\"standoff\":15},\"zerolinecolor\":\"white\",\"zerolinewidth\":2},\"yaxis\":{\"automargin\":true,\"gridcolor\":\"white\",\"linecolor\":\"white\",\"ticks\":\"\",\"title\":{\"standoff\":15},\"zerolinecolor\":\"white\",\"zerolinewidth\":2}}},\"title\":{\"font\":{\"color\":\"#4D5663\"}},\"xaxis\":{\"gridcolor\":\"#E1E5ED\",\"showgrid\":true,\"tickfont\":{\"color\":\"#4D5663\"},\"title\":{\"font\":{\"color\":\"#4D5663\"},\"text\":\"\"},\"zerolinecolor\":\"#E1E5ED\"},\"yaxis\":{\"gridcolor\":\"#E1E5ED\",\"showgrid\":true,\"tickfont\":{\"color\":\"#4D5663\"},\"title\":{\"font\":{\"color\":\"#4D5663\"},\"text\":\"\"},\"zerolinecolor\":\"#E1E5ED\"}},                        {\"showLink\": true, \"linkText\": \"Export to plot.ly\", \"plotlyServerURL\": \"https://plot.ly\", \"responsive\": true}                    ).then(function(){\n",
       "                            \n",
       "var gd = document.getElementById('66b9ddfa-876a-48f4-a1b3-8172b38c7ef6');\n",
       "var x = new MutationObserver(function (mutations, observer) {{\n",
       "        var display = window.getComputedStyle(gd).display;\n",
       "        if (!display || display === 'none') {{\n",
       "            console.log([gd, 'removed!']);\n",
       "            Plotly.purge(gd);\n",
       "            observer.disconnect();\n",
       "        }}\n",
       "}});\n",
       "\n",
       "// Listen for the removal of the full notebook cells\n",
       "var notebookContainer = gd.closest('#notebook-container');\n",
       "if (notebookContainer) {{\n",
       "    x.observe(notebookContainer, {childList: true});\n",
       "}}\n",
       "\n",
       "// Listen for the clearing of the current output cell\n",
       "var outputEl = gd.closest('.output');\n",
       "if (outputEl) {{\n",
       "    x.observe(outputEl, {childList: true});\n",
       "}}\n",
       "\n",
       "                        })                };                });            </script>        </div>"
      ]
     },
     "metadata": {},
     "output_type": "display_data"
    }
   ],
   "source": [
    "df.count().iplot(kind='bar')"
   ]
  },
  {
   "cell_type": "code",
   "execution_count": 30,
   "id": "845bc33c",
   "metadata": {},
   "outputs": [
    {
     "data": {
      "application/vnd.plotly.v1+json": {
       "config": {
        "linkText": "Export to plot.ly",
        "plotlyServerURL": "https://plot.ly",
        "showLink": true
       },
       "data": [
        {
         "marker": {
          "color": "rgba(255, 153, 51, 0.6)",
          "line": {
           "color": "rgba(255, 153, 51, 1.0)",
           "width": 1
          }
         },
         "name": "None",
         "orientation": "v",
         "text": "",
         "type": "bar",
         "x": [
          "A",
          "B",
          "C",
          "D"
         ],
         "y": [
          6.875183822604837,
          -3.1206339421860063,
          -18.316037616734974,
          2.924273944009955
         ]
        }
       ],
       "layout": {
        "legend": {
         "bgcolor": "#F5F6F9",
         "font": {
          "color": "#4D5663"
         }
        },
        "paper_bgcolor": "#F5F6F9",
        "plot_bgcolor": "#F5F6F9",
        "template": {
         "data": {
          "bar": [
           {
            "error_x": {
             "color": "#2a3f5f"
            },
            "error_y": {
             "color": "#2a3f5f"
            },
            "marker": {
             "line": {
              "color": "#E5ECF6",
              "width": 0.5
             },
             "pattern": {
              "fillmode": "overlay",
              "size": 10,
              "solidity": 0.2
             }
            },
            "type": "bar"
           }
          ],
          "barpolar": [
           {
            "marker": {
             "line": {
              "color": "#E5ECF6",
              "width": 0.5
             },
             "pattern": {
              "fillmode": "overlay",
              "size": 10,
              "solidity": 0.2
             }
            },
            "type": "barpolar"
           }
          ],
          "carpet": [
           {
            "aaxis": {
             "endlinecolor": "#2a3f5f",
             "gridcolor": "white",
             "linecolor": "white",
             "minorgridcolor": "white",
             "startlinecolor": "#2a3f5f"
            },
            "baxis": {
             "endlinecolor": "#2a3f5f",
             "gridcolor": "white",
             "linecolor": "white",
             "minorgridcolor": "white",
             "startlinecolor": "#2a3f5f"
            },
            "type": "carpet"
           }
          ],
          "choropleth": [
           {
            "colorbar": {
             "outlinewidth": 0,
             "ticks": ""
            },
            "type": "choropleth"
           }
          ],
          "contour": [
           {
            "colorbar": {
             "outlinewidth": 0,
             "ticks": ""
            },
            "colorscale": [
             [
              0,
              "#0d0887"
             ],
             [
              0.1111111111111111,
              "#46039f"
             ],
             [
              0.2222222222222222,
              "#7201a8"
             ],
             [
              0.3333333333333333,
              "#9c179e"
             ],
             [
              0.4444444444444444,
              "#bd3786"
             ],
             [
              0.5555555555555556,
              "#d8576b"
             ],
             [
              0.6666666666666666,
              "#ed7953"
             ],
             [
              0.7777777777777778,
              "#fb9f3a"
             ],
             [
              0.8888888888888888,
              "#fdca26"
             ],
             [
              1,
              "#f0f921"
             ]
            ],
            "type": "contour"
           }
          ],
          "contourcarpet": [
           {
            "colorbar": {
             "outlinewidth": 0,
             "ticks": ""
            },
            "type": "contourcarpet"
           }
          ],
          "heatmap": [
           {
            "colorbar": {
             "outlinewidth": 0,
             "ticks": ""
            },
            "colorscale": [
             [
              0,
              "#0d0887"
             ],
             [
              0.1111111111111111,
              "#46039f"
             ],
             [
              0.2222222222222222,
              "#7201a8"
             ],
             [
              0.3333333333333333,
              "#9c179e"
             ],
             [
              0.4444444444444444,
              "#bd3786"
             ],
             [
              0.5555555555555556,
              "#d8576b"
             ],
             [
              0.6666666666666666,
              "#ed7953"
             ],
             [
              0.7777777777777778,
              "#fb9f3a"
             ],
             [
              0.8888888888888888,
              "#fdca26"
             ],
             [
              1,
              "#f0f921"
             ]
            ],
            "type": "heatmap"
           }
          ],
          "heatmapgl": [
           {
            "colorbar": {
             "outlinewidth": 0,
             "ticks": ""
            },
            "colorscale": [
             [
              0,
              "#0d0887"
             ],
             [
              0.1111111111111111,
              "#46039f"
             ],
             [
              0.2222222222222222,
              "#7201a8"
             ],
             [
              0.3333333333333333,
              "#9c179e"
             ],
             [
              0.4444444444444444,
              "#bd3786"
             ],
             [
              0.5555555555555556,
              "#d8576b"
             ],
             [
              0.6666666666666666,
              "#ed7953"
             ],
             [
              0.7777777777777778,
              "#fb9f3a"
             ],
             [
              0.8888888888888888,
              "#fdca26"
             ],
             [
              1,
              "#f0f921"
             ]
            ],
            "type": "heatmapgl"
           }
          ],
          "histogram": [
           {
            "marker": {
             "pattern": {
              "fillmode": "overlay",
              "size": 10,
              "solidity": 0.2
             }
            },
            "type": "histogram"
           }
          ],
          "histogram2d": [
           {
            "colorbar": {
             "outlinewidth": 0,
             "ticks": ""
            },
            "colorscale": [
             [
              0,
              "#0d0887"
             ],
             [
              0.1111111111111111,
              "#46039f"
             ],
             [
              0.2222222222222222,
              "#7201a8"
             ],
             [
              0.3333333333333333,
              "#9c179e"
             ],
             [
              0.4444444444444444,
              "#bd3786"
             ],
             [
              0.5555555555555556,
              "#d8576b"
             ],
             [
              0.6666666666666666,
              "#ed7953"
             ],
             [
              0.7777777777777778,
              "#fb9f3a"
             ],
             [
              0.8888888888888888,
              "#fdca26"
             ],
             [
              1,
              "#f0f921"
             ]
            ],
            "type": "histogram2d"
           }
          ],
          "histogram2dcontour": [
           {
            "colorbar": {
             "outlinewidth": 0,
             "ticks": ""
            },
            "colorscale": [
             [
              0,
              "#0d0887"
             ],
             [
              0.1111111111111111,
              "#46039f"
             ],
             [
              0.2222222222222222,
              "#7201a8"
             ],
             [
              0.3333333333333333,
              "#9c179e"
             ],
             [
              0.4444444444444444,
              "#bd3786"
             ],
             [
              0.5555555555555556,
              "#d8576b"
             ],
             [
              0.6666666666666666,
              "#ed7953"
             ],
             [
              0.7777777777777778,
              "#fb9f3a"
             ],
             [
              0.8888888888888888,
              "#fdca26"
             ],
             [
              1,
              "#f0f921"
             ]
            ],
            "type": "histogram2dcontour"
           }
          ],
          "mesh3d": [
           {
            "colorbar": {
             "outlinewidth": 0,
             "ticks": ""
            },
            "type": "mesh3d"
           }
          ],
          "parcoords": [
           {
            "line": {
             "colorbar": {
              "outlinewidth": 0,
              "ticks": ""
             }
            },
            "type": "parcoords"
           }
          ],
          "pie": [
           {
            "automargin": true,
            "type": "pie"
           }
          ],
          "scatter": [
           {
            "marker": {
             "colorbar": {
              "outlinewidth": 0,
              "ticks": ""
             }
            },
            "type": "scatter"
           }
          ],
          "scatter3d": [
           {
            "line": {
             "colorbar": {
              "outlinewidth": 0,
              "ticks": ""
             }
            },
            "marker": {
             "colorbar": {
              "outlinewidth": 0,
              "ticks": ""
             }
            },
            "type": "scatter3d"
           }
          ],
          "scattercarpet": [
           {
            "marker": {
             "colorbar": {
              "outlinewidth": 0,
              "ticks": ""
             }
            },
            "type": "scattercarpet"
           }
          ],
          "scattergeo": [
           {
            "marker": {
             "colorbar": {
              "outlinewidth": 0,
              "ticks": ""
             }
            },
            "type": "scattergeo"
           }
          ],
          "scattergl": [
           {
            "marker": {
             "colorbar": {
              "outlinewidth": 0,
              "ticks": ""
             }
            },
            "type": "scattergl"
           }
          ],
          "scattermapbox": [
           {
            "marker": {
             "colorbar": {
              "outlinewidth": 0,
              "ticks": ""
             }
            },
            "type": "scattermapbox"
           }
          ],
          "scatterpolar": [
           {
            "marker": {
             "colorbar": {
              "outlinewidth": 0,
              "ticks": ""
             }
            },
            "type": "scatterpolar"
           }
          ],
          "scatterpolargl": [
           {
            "marker": {
             "colorbar": {
              "outlinewidth": 0,
              "ticks": ""
             }
            },
            "type": "scatterpolargl"
           }
          ],
          "scatterternary": [
           {
            "marker": {
             "colorbar": {
              "outlinewidth": 0,
              "ticks": ""
             }
            },
            "type": "scatterternary"
           }
          ],
          "surface": [
           {
            "colorbar": {
             "outlinewidth": 0,
             "ticks": ""
            },
            "colorscale": [
             [
              0,
              "#0d0887"
             ],
             [
              0.1111111111111111,
              "#46039f"
             ],
             [
              0.2222222222222222,
              "#7201a8"
             ],
             [
              0.3333333333333333,
              "#9c179e"
             ],
             [
              0.4444444444444444,
              "#bd3786"
             ],
             [
              0.5555555555555556,
              "#d8576b"
             ],
             [
              0.6666666666666666,
              "#ed7953"
             ],
             [
              0.7777777777777778,
              "#fb9f3a"
             ],
             [
              0.8888888888888888,
              "#fdca26"
             ],
             [
              1,
              "#f0f921"
             ]
            ],
            "type": "surface"
           }
          ],
          "table": [
           {
            "cells": {
             "fill": {
              "color": "#EBF0F8"
             },
             "line": {
              "color": "white"
             }
            },
            "header": {
             "fill": {
              "color": "#C8D4E3"
             },
             "line": {
              "color": "white"
             }
            },
            "type": "table"
           }
          ]
         },
         "layout": {
          "annotationdefaults": {
           "arrowcolor": "#2a3f5f",
           "arrowhead": 0,
           "arrowwidth": 1
          },
          "autotypenumbers": "strict",
          "coloraxis": {
           "colorbar": {
            "outlinewidth": 0,
            "ticks": ""
           }
          },
          "colorscale": {
           "diverging": [
            [
             0,
             "#8e0152"
            ],
            [
             0.1,
             "#c51b7d"
            ],
            [
             0.2,
             "#de77ae"
            ],
            [
             0.3,
             "#f1b6da"
            ],
            [
             0.4,
             "#fde0ef"
            ],
            [
             0.5,
             "#f7f7f7"
            ],
            [
             0.6,
             "#e6f5d0"
            ],
            [
             0.7,
             "#b8e186"
            ],
            [
             0.8,
             "#7fbc41"
            ],
            [
             0.9,
             "#4d9221"
            ],
            [
             1,
             "#276419"
            ]
           ],
           "sequential": [
            [
             0,
             "#0d0887"
            ],
            [
             0.1111111111111111,
             "#46039f"
            ],
            [
             0.2222222222222222,
             "#7201a8"
            ],
            [
             0.3333333333333333,
             "#9c179e"
            ],
            [
             0.4444444444444444,
             "#bd3786"
            ],
            [
             0.5555555555555556,
             "#d8576b"
            ],
            [
             0.6666666666666666,
             "#ed7953"
            ],
            [
             0.7777777777777778,
             "#fb9f3a"
            ],
            [
             0.8888888888888888,
             "#fdca26"
            ],
            [
             1,
             "#f0f921"
            ]
           ],
           "sequentialminus": [
            [
             0,
             "#0d0887"
            ],
            [
             0.1111111111111111,
             "#46039f"
            ],
            [
             0.2222222222222222,
             "#7201a8"
            ],
            [
             0.3333333333333333,
             "#9c179e"
            ],
            [
             0.4444444444444444,
             "#bd3786"
            ],
            [
             0.5555555555555556,
             "#d8576b"
            ],
            [
             0.6666666666666666,
             "#ed7953"
            ],
            [
             0.7777777777777778,
             "#fb9f3a"
            ],
            [
             0.8888888888888888,
             "#fdca26"
            ],
            [
             1,
             "#f0f921"
            ]
           ]
          },
          "colorway": [
           "#636efa",
           "#EF553B",
           "#00cc96",
           "#ab63fa",
           "#FFA15A",
           "#19d3f3",
           "#FF6692",
           "#B6E880",
           "#FF97FF",
           "#FECB52"
          ],
          "font": {
           "color": "#2a3f5f"
          },
          "geo": {
           "bgcolor": "white",
           "lakecolor": "white",
           "landcolor": "#E5ECF6",
           "showlakes": true,
           "showland": true,
           "subunitcolor": "white"
          },
          "hoverlabel": {
           "align": "left"
          },
          "hovermode": "closest",
          "mapbox": {
           "style": "light"
          },
          "paper_bgcolor": "white",
          "plot_bgcolor": "#E5ECF6",
          "polar": {
           "angularaxis": {
            "gridcolor": "white",
            "linecolor": "white",
            "ticks": ""
           },
           "bgcolor": "#E5ECF6",
           "radialaxis": {
            "gridcolor": "white",
            "linecolor": "white",
            "ticks": ""
           }
          },
          "scene": {
           "xaxis": {
            "backgroundcolor": "#E5ECF6",
            "gridcolor": "white",
            "gridwidth": 2,
            "linecolor": "white",
            "showbackground": true,
            "ticks": "",
            "zerolinecolor": "white"
           },
           "yaxis": {
            "backgroundcolor": "#E5ECF6",
            "gridcolor": "white",
            "gridwidth": 2,
            "linecolor": "white",
            "showbackground": true,
            "ticks": "",
            "zerolinecolor": "white"
           },
           "zaxis": {
            "backgroundcolor": "#E5ECF6",
            "gridcolor": "white",
            "gridwidth": 2,
            "linecolor": "white",
            "showbackground": true,
            "ticks": "",
            "zerolinecolor": "white"
           }
          },
          "shapedefaults": {
           "line": {
            "color": "#2a3f5f"
           }
          },
          "ternary": {
           "aaxis": {
            "gridcolor": "white",
            "linecolor": "white",
            "ticks": ""
           },
           "baxis": {
            "gridcolor": "white",
            "linecolor": "white",
            "ticks": ""
           },
           "bgcolor": "#E5ECF6",
           "caxis": {
            "gridcolor": "white",
            "linecolor": "white",
            "ticks": ""
           }
          },
          "title": {
           "x": 0.05
          },
          "xaxis": {
           "automargin": true,
           "gridcolor": "white",
           "linecolor": "white",
           "ticks": "",
           "title": {
            "standoff": 15
           },
           "zerolinecolor": "white",
           "zerolinewidth": 2
          },
          "yaxis": {
           "automargin": true,
           "gridcolor": "white",
           "linecolor": "white",
           "ticks": "",
           "title": {
            "standoff": 15
           },
           "zerolinecolor": "white",
           "zerolinewidth": 2
          }
         }
        },
        "title": {
         "font": {
          "color": "#4D5663"
         }
        },
        "xaxis": {
         "gridcolor": "#E1E5ED",
         "showgrid": true,
         "tickfont": {
          "color": "#4D5663"
         },
         "title": {
          "font": {
           "color": "#4D5663"
          },
          "text": ""
         },
         "zerolinecolor": "#E1E5ED"
        },
        "yaxis": {
         "gridcolor": "#E1E5ED",
         "showgrid": true,
         "tickfont": {
          "color": "#4D5663"
         },
         "title": {
          "font": {
           "color": "#4D5663"
          },
          "text": ""
         },
         "zerolinecolor": "#E1E5ED"
        }
       }
      },
      "text/html": [
       "<div>                            <div id=\"bd68e044-84a9-4725-9f18-fdd8833adf90\" class=\"plotly-graph-div\" style=\"height:525px; width:100%;\"></div>            <script type=\"text/javascript\">                require([\"plotly\"], function(Plotly) {                    window.PLOTLYENV=window.PLOTLYENV || {};\n",
       "                    window.PLOTLYENV.BASE_URL='https://plot.ly';                                    if (document.getElementById(\"bd68e044-84a9-4725-9f18-fdd8833adf90\")) {                    Plotly.newPlot(                        \"bd68e044-84a9-4725-9f18-fdd8833adf90\",                        [{\"marker\":{\"color\":\"rgba(255, 153, 51, 0.6)\",\"line\":{\"color\":\"rgba(255, 153, 51, 1.0)\",\"width\":1}},\"name\":\"None\",\"orientation\":\"v\",\"text\":\"\",\"type\":\"bar\",\"x\":[\"A\",\"B\",\"C\",\"D\"],\"y\":[6.875183822604837,-3.1206339421860063,-18.316037616734974,2.924273944009955]}],                        {\"legend\":{\"bgcolor\":\"#F5F6F9\",\"font\":{\"color\":\"#4D5663\"}},\"paper_bgcolor\":\"#F5F6F9\",\"plot_bgcolor\":\"#F5F6F9\",\"template\":{\"data\":{\"bar\":[{\"error_x\":{\"color\":\"#2a3f5f\"},\"error_y\":{\"color\":\"#2a3f5f\"},\"marker\":{\"line\":{\"color\":\"#E5ECF6\",\"width\":0.5},\"pattern\":{\"fillmode\":\"overlay\",\"size\":10,\"solidity\":0.2}},\"type\":\"bar\"}],\"barpolar\":[{\"marker\":{\"line\":{\"color\":\"#E5ECF6\",\"width\":0.5},\"pattern\":{\"fillmode\":\"overlay\",\"size\":10,\"solidity\":0.2}},\"type\":\"barpolar\"}],\"carpet\":[{\"aaxis\":{\"endlinecolor\":\"#2a3f5f\",\"gridcolor\":\"white\",\"linecolor\":\"white\",\"minorgridcolor\":\"white\",\"startlinecolor\":\"#2a3f5f\"},\"baxis\":{\"endlinecolor\":\"#2a3f5f\",\"gridcolor\":\"white\",\"linecolor\":\"white\",\"minorgridcolor\":\"white\",\"startlinecolor\":\"#2a3f5f\"},\"type\":\"carpet\"}],\"choropleth\":[{\"colorbar\":{\"outlinewidth\":0,\"ticks\":\"\"},\"type\":\"choropleth\"}],\"contour\":[{\"colorbar\":{\"outlinewidth\":0,\"ticks\":\"\"},\"colorscale\":[[0.0,\"#0d0887\"],[0.1111111111111111,\"#46039f\"],[0.2222222222222222,\"#7201a8\"],[0.3333333333333333,\"#9c179e\"],[0.4444444444444444,\"#bd3786\"],[0.5555555555555556,\"#d8576b\"],[0.6666666666666666,\"#ed7953\"],[0.7777777777777778,\"#fb9f3a\"],[0.8888888888888888,\"#fdca26\"],[1.0,\"#f0f921\"]],\"type\":\"contour\"}],\"contourcarpet\":[{\"colorbar\":{\"outlinewidth\":0,\"ticks\":\"\"},\"type\":\"contourcarpet\"}],\"heatmap\":[{\"colorbar\":{\"outlinewidth\":0,\"ticks\":\"\"},\"colorscale\":[[0.0,\"#0d0887\"],[0.1111111111111111,\"#46039f\"],[0.2222222222222222,\"#7201a8\"],[0.3333333333333333,\"#9c179e\"],[0.4444444444444444,\"#bd3786\"],[0.5555555555555556,\"#d8576b\"],[0.6666666666666666,\"#ed7953\"],[0.7777777777777778,\"#fb9f3a\"],[0.8888888888888888,\"#fdca26\"],[1.0,\"#f0f921\"]],\"type\":\"heatmap\"}],\"heatmapgl\":[{\"colorbar\":{\"outlinewidth\":0,\"ticks\":\"\"},\"colorscale\":[[0.0,\"#0d0887\"],[0.1111111111111111,\"#46039f\"],[0.2222222222222222,\"#7201a8\"],[0.3333333333333333,\"#9c179e\"],[0.4444444444444444,\"#bd3786\"],[0.5555555555555556,\"#d8576b\"],[0.6666666666666666,\"#ed7953\"],[0.7777777777777778,\"#fb9f3a\"],[0.8888888888888888,\"#fdca26\"],[1.0,\"#f0f921\"]],\"type\":\"heatmapgl\"}],\"histogram\":[{\"marker\":{\"pattern\":{\"fillmode\":\"overlay\",\"size\":10,\"solidity\":0.2}},\"type\":\"histogram\"}],\"histogram2d\":[{\"colorbar\":{\"outlinewidth\":0,\"ticks\":\"\"},\"colorscale\":[[0.0,\"#0d0887\"],[0.1111111111111111,\"#46039f\"],[0.2222222222222222,\"#7201a8\"],[0.3333333333333333,\"#9c179e\"],[0.4444444444444444,\"#bd3786\"],[0.5555555555555556,\"#d8576b\"],[0.6666666666666666,\"#ed7953\"],[0.7777777777777778,\"#fb9f3a\"],[0.8888888888888888,\"#fdca26\"],[1.0,\"#f0f921\"]],\"type\":\"histogram2d\"}],\"histogram2dcontour\":[{\"colorbar\":{\"outlinewidth\":0,\"ticks\":\"\"},\"colorscale\":[[0.0,\"#0d0887\"],[0.1111111111111111,\"#46039f\"],[0.2222222222222222,\"#7201a8\"],[0.3333333333333333,\"#9c179e\"],[0.4444444444444444,\"#bd3786\"],[0.5555555555555556,\"#d8576b\"],[0.6666666666666666,\"#ed7953\"],[0.7777777777777778,\"#fb9f3a\"],[0.8888888888888888,\"#fdca26\"],[1.0,\"#f0f921\"]],\"type\":\"histogram2dcontour\"}],\"mesh3d\":[{\"colorbar\":{\"outlinewidth\":0,\"ticks\":\"\"},\"type\":\"mesh3d\"}],\"parcoords\":[{\"line\":{\"colorbar\":{\"outlinewidth\":0,\"ticks\":\"\"}},\"type\":\"parcoords\"}],\"pie\":[{\"automargin\":true,\"type\":\"pie\"}],\"scatter\":[{\"marker\":{\"colorbar\":{\"outlinewidth\":0,\"ticks\":\"\"}},\"type\":\"scatter\"}],\"scatter3d\":[{\"line\":{\"colorbar\":{\"outlinewidth\":0,\"ticks\":\"\"}},\"marker\":{\"colorbar\":{\"outlinewidth\":0,\"ticks\":\"\"}},\"type\":\"scatter3d\"}],\"scattercarpet\":[{\"marker\":{\"colorbar\":{\"outlinewidth\":0,\"ticks\":\"\"}},\"type\":\"scattercarpet\"}],\"scattergeo\":[{\"marker\":{\"colorbar\":{\"outlinewidth\":0,\"ticks\":\"\"}},\"type\":\"scattergeo\"}],\"scattergl\":[{\"marker\":{\"colorbar\":{\"outlinewidth\":0,\"ticks\":\"\"}},\"type\":\"scattergl\"}],\"scattermapbox\":[{\"marker\":{\"colorbar\":{\"outlinewidth\":0,\"ticks\":\"\"}},\"type\":\"scattermapbox\"}],\"scatterpolar\":[{\"marker\":{\"colorbar\":{\"outlinewidth\":0,\"ticks\":\"\"}},\"type\":\"scatterpolar\"}],\"scatterpolargl\":[{\"marker\":{\"colorbar\":{\"outlinewidth\":0,\"ticks\":\"\"}},\"type\":\"scatterpolargl\"}],\"scatterternary\":[{\"marker\":{\"colorbar\":{\"outlinewidth\":0,\"ticks\":\"\"}},\"type\":\"scatterternary\"}],\"surface\":[{\"colorbar\":{\"outlinewidth\":0,\"ticks\":\"\"},\"colorscale\":[[0.0,\"#0d0887\"],[0.1111111111111111,\"#46039f\"],[0.2222222222222222,\"#7201a8\"],[0.3333333333333333,\"#9c179e\"],[0.4444444444444444,\"#bd3786\"],[0.5555555555555556,\"#d8576b\"],[0.6666666666666666,\"#ed7953\"],[0.7777777777777778,\"#fb9f3a\"],[0.8888888888888888,\"#fdca26\"],[1.0,\"#f0f921\"]],\"type\":\"surface\"}],\"table\":[{\"cells\":{\"fill\":{\"color\":\"#EBF0F8\"},\"line\":{\"color\":\"white\"}},\"header\":{\"fill\":{\"color\":\"#C8D4E3\"},\"line\":{\"color\":\"white\"}},\"type\":\"table\"}]},\"layout\":{\"annotationdefaults\":{\"arrowcolor\":\"#2a3f5f\",\"arrowhead\":0,\"arrowwidth\":1},\"autotypenumbers\":\"strict\",\"coloraxis\":{\"colorbar\":{\"outlinewidth\":0,\"ticks\":\"\"}},\"colorscale\":{\"diverging\":[[0,\"#8e0152\"],[0.1,\"#c51b7d\"],[0.2,\"#de77ae\"],[0.3,\"#f1b6da\"],[0.4,\"#fde0ef\"],[0.5,\"#f7f7f7\"],[0.6,\"#e6f5d0\"],[0.7,\"#b8e186\"],[0.8,\"#7fbc41\"],[0.9,\"#4d9221\"],[1,\"#276419\"]],\"sequential\":[[0.0,\"#0d0887\"],[0.1111111111111111,\"#46039f\"],[0.2222222222222222,\"#7201a8\"],[0.3333333333333333,\"#9c179e\"],[0.4444444444444444,\"#bd3786\"],[0.5555555555555556,\"#d8576b\"],[0.6666666666666666,\"#ed7953\"],[0.7777777777777778,\"#fb9f3a\"],[0.8888888888888888,\"#fdca26\"],[1.0,\"#f0f921\"]],\"sequentialminus\":[[0.0,\"#0d0887\"],[0.1111111111111111,\"#46039f\"],[0.2222222222222222,\"#7201a8\"],[0.3333333333333333,\"#9c179e\"],[0.4444444444444444,\"#bd3786\"],[0.5555555555555556,\"#d8576b\"],[0.6666666666666666,\"#ed7953\"],[0.7777777777777778,\"#fb9f3a\"],[0.8888888888888888,\"#fdca26\"],[1.0,\"#f0f921\"]]},\"colorway\":[\"#636efa\",\"#EF553B\",\"#00cc96\",\"#ab63fa\",\"#FFA15A\",\"#19d3f3\",\"#FF6692\",\"#B6E880\",\"#FF97FF\",\"#FECB52\"],\"font\":{\"color\":\"#2a3f5f\"},\"geo\":{\"bgcolor\":\"white\",\"lakecolor\":\"white\",\"landcolor\":\"#E5ECF6\",\"showlakes\":true,\"showland\":true,\"subunitcolor\":\"white\"},\"hoverlabel\":{\"align\":\"left\"},\"hovermode\":\"closest\",\"mapbox\":{\"style\":\"light\"},\"paper_bgcolor\":\"white\",\"plot_bgcolor\":\"#E5ECF6\",\"polar\":{\"angularaxis\":{\"gridcolor\":\"white\",\"linecolor\":\"white\",\"ticks\":\"\"},\"bgcolor\":\"#E5ECF6\",\"radialaxis\":{\"gridcolor\":\"white\",\"linecolor\":\"white\",\"ticks\":\"\"}},\"scene\":{\"xaxis\":{\"backgroundcolor\":\"#E5ECF6\",\"gridcolor\":\"white\",\"gridwidth\":2,\"linecolor\":\"white\",\"showbackground\":true,\"ticks\":\"\",\"zerolinecolor\":\"white\"},\"yaxis\":{\"backgroundcolor\":\"#E5ECF6\",\"gridcolor\":\"white\",\"gridwidth\":2,\"linecolor\":\"white\",\"showbackground\":true,\"ticks\":\"\",\"zerolinecolor\":\"white\"},\"zaxis\":{\"backgroundcolor\":\"#E5ECF6\",\"gridcolor\":\"white\",\"gridwidth\":2,\"linecolor\":\"white\",\"showbackground\":true,\"ticks\":\"\",\"zerolinecolor\":\"white\"}},\"shapedefaults\":{\"line\":{\"color\":\"#2a3f5f\"}},\"ternary\":{\"aaxis\":{\"gridcolor\":\"white\",\"linecolor\":\"white\",\"ticks\":\"\"},\"baxis\":{\"gridcolor\":\"white\",\"linecolor\":\"white\",\"ticks\":\"\"},\"bgcolor\":\"#E5ECF6\",\"caxis\":{\"gridcolor\":\"white\",\"linecolor\":\"white\",\"ticks\":\"\"}},\"title\":{\"x\":0.05},\"xaxis\":{\"automargin\":true,\"gridcolor\":\"white\",\"linecolor\":\"white\",\"ticks\":\"\",\"title\":{\"standoff\":15},\"zerolinecolor\":\"white\",\"zerolinewidth\":2},\"yaxis\":{\"automargin\":true,\"gridcolor\":\"white\",\"linecolor\":\"white\",\"ticks\":\"\",\"title\":{\"standoff\":15},\"zerolinecolor\":\"white\",\"zerolinewidth\":2}}},\"title\":{\"font\":{\"color\":\"#4D5663\"}},\"xaxis\":{\"gridcolor\":\"#E1E5ED\",\"showgrid\":true,\"tickfont\":{\"color\":\"#4D5663\"},\"title\":{\"font\":{\"color\":\"#4D5663\"},\"text\":\"\"},\"zerolinecolor\":\"#E1E5ED\"},\"yaxis\":{\"gridcolor\":\"#E1E5ED\",\"showgrid\":true,\"tickfont\":{\"color\":\"#4D5663\"},\"title\":{\"font\":{\"color\":\"#4D5663\"},\"text\":\"\"},\"zerolinecolor\":\"#E1E5ED\"}},                        {\"showLink\": true, \"linkText\": \"Export to plot.ly\", \"plotlyServerURL\": \"https://plot.ly\", \"responsive\": true}                    ).then(function(){\n",
       "                            \n",
       "var gd = document.getElementById('bd68e044-84a9-4725-9f18-fdd8833adf90');\n",
       "var x = new MutationObserver(function (mutations, observer) {{\n",
       "        var display = window.getComputedStyle(gd).display;\n",
       "        if (!display || display === 'none') {{\n",
       "            console.log([gd, 'removed!']);\n",
       "            Plotly.purge(gd);\n",
       "            observer.disconnect();\n",
       "        }}\n",
       "}});\n",
       "\n",
       "// Listen for the removal of the full notebook cells\n",
       "var notebookContainer = gd.closest('#notebook-container');\n",
       "if (notebookContainer) {{\n",
       "    x.observe(notebookContainer, {childList: true});\n",
       "}}\n",
       "\n",
       "// Listen for the clearing of the current output cell\n",
       "var outputEl = gd.closest('.output');\n",
       "if (outputEl) {{\n",
       "    x.observe(outputEl, {childList: true});\n",
       "}}\n",
       "\n",
       "                        })                };                });            </script>        </div>"
      ]
     },
     "metadata": {},
     "output_type": "display_data"
    }
   ],
   "source": [
    "df.sum().iplot(kind='bar')"
   ]
  },
  {
   "cell_type": "code",
   "execution_count": 31,
   "id": "ef166c5b",
   "metadata": {},
   "outputs": [
    {
     "data": {
      "application/vnd.plotly.v1+json": {
       "config": {
        "linkText": "Export to plot.ly",
        "plotlyServerURL": "https://plot.ly",
        "showLink": true
       },
       "data": [
        {
         "boxpoints": false,
         "line": {
          "width": 1.3
         },
         "marker": {
          "color": "rgba(255, 153, 51, 1.0)"
         },
         "name": "A",
         "orientation": "v",
         "type": "box",
         "y": [
          -0.34225299009874355,
          0.4892447760011251,
          0.6289296113249515,
          -0.9623444735331236,
          0.5218374246730623,
          1.0872779779546433,
          -2.5446001105676275,
          -0.2858836687280843,
          1.3065777779854995,
          -2.4104707774726113,
          1.3369186035954843,
          0.3838707492935451,
          -0.5526656706871299,
          -0.523243795919335,
          -0.5219209505049524,
          0.7876928140633233,
          -0.9458273989118097,
          0.6798036848133264,
          -0.7326321084090412,
          2.9676666789696204,
          -0.05694316110548828,
          -0.3901687948679766,
          0.39042317054449927,
          -0.5097476850302313,
          -0.06005776882918707,
          1.8651889477854269,
          0.6825596947887341,
          -0.660930834038989,
          0.7457389149047722,
          0.5831350759677145,
          0.20565331727263178,
          0.12137563657220368,
          0.14222541475987407,
          -0.21964030922882513,
          -0.1403522050946297,
          0.9130048247460788,
          -0.5324825569805095,
          0.8357026232545052,
          -0.05136640945025422,
          -0.15442903874892236,
          0.4427417326955754,
          -1.4618826570001109,
          -0.23457977919541678,
          1.5819006525811172,
          1.7673116734486296,
          0.5244123082679875,
          -1.4960518062062593,
          -0.08993988733773665,
          0.8209575792192505,
          0.277831732542309,
          1.9225576880083868,
          1.757171966228769,
          -2.138688527959561,
          -1.3709748402957949,
          -0.7155997219888818,
          0.3317227996255702,
          -1.0043614591743062,
          -1.0261278984258224,
          -1.4276290468878337,
          -1.0891931758991331,
          0.2035269789201755,
          0.02473667551913148,
          0.19551292413294072,
          -0.19036560623878837,
          -1.8010591597777204,
          0.8032033734232925,
          -1.0990490358758565,
          0.7760903618580065,
          -0.5271828141604505,
          -0.7383131855752465,
          -0.27543257249948844,
          -0.037819243298348515,
          1.2032094442658468,
          0.785084605957565,
          0.7503288870253916,
          -0.8472573692739707,
          -0.37625320843617843,
          -1.2657485333486633,
          1.7888324677330751,
          0.7499899464558957,
          0.3247253443598456,
          1.1096782207812264,
          0.28418622192332155,
          0.8318537645554853,
          2.0139557344103043,
          0.3476274485672122,
          -0.7967921761246892,
          -0.12058745799601407,
          0.43531389145934873,
          0.35347704597191093,
          -1.3720175798793395,
          -1.2811737166611563,
          0.04571690779276586,
          1.8411898245359177,
          -0.34353168706576764,
          1.0133136240424316,
          0.31479801507956323,
          2.1145539751315687,
          -1.0277828928921748,
          -0.7838019655038211
         ]
        },
        {
         "boxpoints": false,
         "line": {
          "width": 1.3
         },
         "marker": {
          "color": "rgba(55, 128, 191, 1.0)"
         },
         "name": "B",
         "orientation": "v",
         "type": "box",
         "y": [
          0.9900955482666974,
          -0.9889452577232196,
          -0.9378354850254641,
          -0.5463691152022653,
          2.0271518857018807,
          0.19925957847537346,
          -0.7786039713483985,
          0.2520015620313144,
          -0.6188427581785232,
          0.419814842315549,
          -1.8602683357380412,
          0.7728522626338924,
          0.23979797259129315,
          1.1297423815295664,
          -0.10475559546208067,
          -0.009461289991414178,
          0.7113080068140527,
          -1.4786843116096715,
          -1.3201954219731604,
          0.07031698798374092,
          1.6442459691777473,
          -0.13952067189279416,
          -0.9250117184627819,
          -1.730634623494131,
          -1.2546443084973622,
          1.2139408010780905,
          -0.5844745801129339,
          -0.29554717166621897,
          0.27281484542731976,
          0.25318894794907465,
          -0.24638066248007567,
          -0.3001463717227039,
          -0.47843477549201796,
          1.5339025213459436,
          1.237395379686162,
          -0.214093862004028,
          -0.3867947061510151,
          0.20025306551505054,
          0.5518586459046209,
          -1.2649171383821682,
          -0.31394703787397016,
          2.624200579430331,
          -0.7124402468346807,
          0.47598211399691526,
          0.3543661152225115,
          -0.7416521439997066,
          0.11901051948687877,
          -1.228030696683017,
          -0.5254167537146217,
          -0.8180277127043986,
          0.9767586529113346,
          1.2707583473030304,
          -0.1430902898326658,
          0.3866316300901333,
          0.918493501529165,
          0.7382411409509697,
          -1.7872095559123204,
          -0.05138925422187474,
          -1.3099282607443965,
          0.3619874357419031,
          0.2473659952388168,
          0.673183153770201,
          -0.42378629704185045,
          -0.5218702450381305,
          0.3643796819545949,
          -0.8571232551495427,
          0.6196384121373644,
          -0.5532877791773987,
          -0.6985239271046452,
          -0.4971711238652195,
          0.9837197737497394,
          0.151109103477177,
          -0.45528688478792184,
          -0.2940979367596788,
          -1.1357511274305079,
          1.7291497641174005,
          -0.5315171160860179,
          0.5412751513880071,
          2.319270328199936,
          1.105881259664581,
          0.24183604497834638,
          -0.12739001798747068,
          0.15509861976732744,
          -1.0996109070986873,
          0.23972510178264853,
          -0.08154335854543714,
          -1.8255709836497878,
          1.8463351692191043,
          1.820835557120743,
          0.9539408365908607,
          -1.7026480093372356,
          0.736197256641093,
          -0.21103967120123218,
          0.37668614877938134,
          -0.8927141407003845,
          -0.10178995397251908,
          -1.3472346892602074,
          -0.6569542813244048,
          0.9437776474422417,
          -3.0058043986457124
         ]
        },
        {
         "boxpoints": false,
         "line": {
          "width": 1.3
         },
         "marker": {
          "color": "rgba(50, 171, 96, 1.0)"
         },
         "name": "C",
         "orientation": "v",
         "type": "box",
         "y": [
          -0.24360119416966694,
          2.6290698676150748,
          0.2661367149716258,
          0.4248000862046849,
          0.15691359647032885,
          1.2669766461076717,
          -0.7458482705573792,
          -1.0425577762968143,
          -0.9918293586883078,
          1.1752207914133415,
          0.8237476957175225,
          1.1559167419733656,
          -0.26544194102746643,
          -1.756871692208469,
          -0.4328200632631489,
          -1.5946234612917132,
          -0.7754468725671481,
          2.456890194326189,
          0.25177654767670976,
          -0.5276250778756187,
          -0.41515353632559016,
          -0.9702083336083774,
          -0.5386885727546051,
          0.37514521710971366,
          0.42471750848556794,
          0.9123108730469526,
          -1.3814941779525685,
          1.5467689361155261,
          -1.006894590393866,
          0.0956355518057554,
          0.7466898784983458,
          -0.24213182443022957,
          -0.9250827556716021,
          -1.5203503273531633,
          -0.4977984822613209,
          -0.6410172305332248,
          0.0004638774932113429,
          0.8313405708447927,
          2.019266841869993,
          0.5943772196931862,
          -0.30837067424611286,
          0.9104799562812206,
          0.19755570215657497,
          0.2773208278157791,
          -1.0387187975724872,
          -0.506375180681545,
          -0.5516849839146819,
          0.7116617071345542,
          -0.19579766373118063,
          0.42693167129622245,
          -0.8331237335520756,
          0.5016062861936484,
          -0.6937427386910572,
          -0.49746785662625626,
          -1.7118428797935947,
          -0.7605643980862589,
          -0.5390131077084975,
          -0.09681021739978073,
          0.540645279267166,
          -0.48285349611885797,
          0.025786372736263302,
          1.8235643881611308,
          -1.2932590197710199,
          -0.6465104579661324,
          2.0408865397934393,
          0.7642965793643237,
          -0.8265002416929838,
          0.1019702069298536,
          0.8725592650972407,
          -1.588148164340174,
          -1.4228936331224291,
          0.3031964853541781,
          -0.07949730751640986,
          -2.39910314507416,
          -0.7029900183390284,
          0.8408133054957266,
          0.6166977677036451,
          -0.9940793947697844,
          -0.534675036167626,
          -0.14707923691588887,
          -2.6234047287938913,
          -1.3474097174098156,
          -0.1421345213333329,
          0.008835708481921363,
          -1.2515389770614476,
          -0.6441581344355697,
          -0.5934360296853288,
          -0.027506673382790198,
          -0.23057019069383758,
          -0.4883458423910079,
          -1.22605047743705,
          -0.6061666040960666,
          -1.0125377919921394,
          -0.3320753382492649,
          0.766639572361874,
          0.07814275463062237,
          -0.02251167615807235,
          -1.2505570063745404,
          -0.41570718077541857,
          -0.6990955371320429
         ]
        },
        {
         "boxpoints": false,
         "line": {
          "width": 1.3
         },
         "marker": {
          "color": "rgba(128, 0, 128, 1.0)"
         },
         "name": "D",
         "orientation": "v",
         "type": "box",
         "y": [
          -0.8993780379502047,
          -0.02805590171480415,
          0.5612035642976496,
          0.45017054087238884,
          -2.233080770879555,
          0.3739742395124629,
          -0.5774356122456568,
          -0.6717884367620782,
          0.4832487351689567,
          0.761435996894435,
          -0.04059328762487213,
          0.5101128605312929,
          0.19902095165716177,
          -1.5411945525961641,
          -0.45683768831453736,
          3.2567902677591,
          -0.24721414340764963,
          -1.4596725990248305,
          -2.4248001490278375,
          0.12611197215654926,
          1.9234059086665694,
          -0.7415422179044057,
          0.5318699546445996,
          0.3411788196455518,
          -0.30164340637185694,
          0.9763135783972272,
          -0.21897997321007678,
          0.354782893192736,
          1.9263999024854617,
          -1.0069515783908103,
          -0.0914288423605711,
          0.9977226852097353,
          -0.16959396494707218,
          -0.9640722535068827,
          0.26028820686903065,
          0.6912992723236513,
          -0.4203592662512756,
          -1.3261158849795756,
          -1.1453604179470454,
          -0.9227383863226544,
          0.0033439820871036955,
          -0.29155084059205694,
          -1.192411953625304,
          0.34346615046657125,
          -1.0908146569416461,
          1.5747384092161831,
          -0.3905808061673566,
          -1.2576203889566724,
          -0.9292308926637166,
          1.9194370566526706,
          -1.6507047842344582,
          0.8631548922913439,
          1.2991380618444575,
          -3.2615524161869196,
          -1.0717834772800015,
          1.2630698522056911,
          3.1470570330562615,
          -0.13404492840812246,
          1.9029965756941507,
          0.5312264148980672,
          -1.0776998955177377,
          0.21816766458394263,
          0.951581629546409,
          0.35406437532113627,
          0.6726097055720566,
          1.5289951046519916,
          0.8872488457004313,
          1.5278424465510052,
          -0.5629686924888644,
          -0.6833421677015717,
          0.5763413458651462,
          0.12764236871541115,
          1.180397231496056,
          0.340318053147227,
          0.002726022685278746,
          1.7713800150640246,
          1.2982996566138594,
          -1.0523866869149032,
          -0.779700669840491,
          -1.8575621845742905,
          -0.7110915002681697,
          -1.4997360103036437,
          0.7950770689699234,
          0.52438561059342,
          0.2576584909044913,
          -1.1552940935623224,
          1.3039721355476719,
          1.8623529103560788,
          -0.15667476232146516,
          0.22218725609677162,
          0.1133313728764875,
          -0.7881581017112002,
          0.6817806926876091,
          -0.38247769385962327,
          -0.745334160946617,
          -0.07717189151842606,
          -0.9439590114540767,
          -0.33257224030030497,
          -0.33528789414779003,
          0.45350533599463455
         ]
        }
       ],
       "layout": {
        "legend": {
         "bgcolor": "#F5F6F9",
         "font": {
          "color": "#4D5663"
         }
        },
        "paper_bgcolor": "#F5F6F9",
        "plot_bgcolor": "#F5F6F9",
        "template": {
         "data": {
          "bar": [
           {
            "error_x": {
             "color": "#2a3f5f"
            },
            "error_y": {
             "color": "#2a3f5f"
            },
            "marker": {
             "line": {
              "color": "#E5ECF6",
              "width": 0.5
             },
             "pattern": {
              "fillmode": "overlay",
              "size": 10,
              "solidity": 0.2
             }
            },
            "type": "bar"
           }
          ],
          "barpolar": [
           {
            "marker": {
             "line": {
              "color": "#E5ECF6",
              "width": 0.5
             },
             "pattern": {
              "fillmode": "overlay",
              "size": 10,
              "solidity": 0.2
             }
            },
            "type": "barpolar"
           }
          ],
          "carpet": [
           {
            "aaxis": {
             "endlinecolor": "#2a3f5f",
             "gridcolor": "white",
             "linecolor": "white",
             "minorgridcolor": "white",
             "startlinecolor": "#2a3f5f"
            },
            "baxis": {
             "endlinecolor": "#2a3f5f",
             "gridcolor": "white",
             "linecolor": "white",
             "minorgridcolor": "white",
             "startlinecolor": "#2a3f5f"
            },
            "type": "carpet"
           }
          ],
          "choropleth": [
           {
            "colorbar": {
             "outlinewidth": 0,
             "ticks": ""
            },
            "type": "choropleth"
           }
          ],
          "contour": [
           {
            "colorbar": {
             "outlinewidth": 0,
             "ticks": ""
            },
            "colorscale": [
             [
              0,
              "#0d0887"
             ],
             [
              0.1111111111111111,
              "#46039f"
             ],
             [
              0.2222222222222222,
              "#7201a8"
             ],
             [
              0.3333333333333333,
              "#9c179e"
             ],
             [
              0.4444444444444444,
              "#bd3786"
             ],
             [
              0.5555555555555556,
              "#d8576b"
             ],
             [
              0.6666666666666666,
              "#ed7953"
             ],
             [
              0.7777777777777778,
              "#fb9f3a"
             ],
             [
              0.8888888888888888,
              "#fdca26"
             ],
             [
              1,
              "#f0f921"
             ]
            ],
            "type": "contour"
           }
          ],
          "contourcarpet": [
           {
            "colorbar": {
             "outlinewidth": 0,
             "ticks": ""
            },
            "type": "contourcarpet"
           }
          ],
          "heatmap": [
           {
            "colorbar": {
             "outlinewidth": 0,
             "ticks": ""
            },
            "colorscale": [
             [
              0,
              "#0d0887"
             ],
             [
              0.1111111111111111,
              "#46039f"
             ],
             [
              0.2222222222222222,
              "#7201a8"
             ],
             [
              0.3333333333333333,
              "#9c179e"
             ],
             [
              0.4444444444444444,
              "#bd3786"
             ],
             [
              0.5555555555555556,
              "#d8576b"
             ],
             [
              0.6666666666666666,
              "#ed7953"
             ],
             [
              0.7777777777777778,
              "#fb9f3a"
             ],
             [
              0.8888888888888888,
              "#fdca26"
             ],
             [
              1,
              "#f0f921"
             ]
            ],
            "type": "heatmap"
           }
          ],
          "heatmapgl": [
           {
            "colorbar": {
             "outlinewidth": 0,
             "ticks": ""
            },
            "colorscale": [
             [
              0,
              "#0d0887"
             ],
             [
              0.1111111111111111,
              "#46039f"
             ],
             [
              0.2222222222222222,
              "#7201a8"
             ],
             [
              0.3333333333333333,
              "#9c179e"
             ],
             [
              0.4444444444444444,
              "#bd3786"
             ],
             [
              0.5555555555555556,
              "#d8576b"
             ],
             [
              0.6666666666666666,
              "#ed7953"
             ],
             [
              0.7777777777777778,
              "#fb9f3a"
             ],
             [
              0.8888888888888888,
              "#fdca26"
             ],
             [
              1,
              "#f0f921"
             ]
            ],
            "type": "heatmapgl"
           }
          ],
          "histogram": [
           {
            "marker": {
             "pattern": {
              "fillmode": "overlay",
              "size": 10,
              "solidity": 0.2
             }
            },
            "type": "histogram"
           }
          ],
          "histogram2d": [
           {
            "colorbar": {
             "outlinewidth": 0,
             "ticks": ""
            },
            "colorscale": [
             [
              0,
              "#0d0887"
             ],
             [
              0.1111111111111111,
              "#46039f"
             ],
             [
              0.2222222222222222,
              "#7201a8"
             ],
             [
              0.3333333333333333,
              "#9c179e"
             ],
             [
              0.4444444444444444,
              "#bd3786"
             ],
             [
              0.5555555555555556,
              "#d8576b"
             ],
             [
              0.6666666666666666,
              "#ed7953"
             ],
             [
              0.7777777777777778,
              "#fb9f3a"
             ],
             [
              0.8888888888888888,
              "#fdca26"
             ],
             [
              1,
              "#f0f921"
             ]
            ],
            "type": "histogram2d"
           }
          ],
          "histogram2dcontour": [
           {
            "colorbar": {
             "outlinewidth": 0,
             "ticks": ""
            },
            "colorscale": [
             [
              0,
              "#0d0887"
             ],
             [
              0.1111111111111111,
              "#46039f"
             ],
             [
              0.2222222222222222,
              "#7201a8"
             ],
             [
              0.3333333333333333,
              "#9c179e"
             ],
             [
              0.4444444444444444,
              "#bd3786"
             ],
             [
              0.5555555555555556,
              "#d8576b"
             ],
             [
              0.6666666666666666,
              "#ed7953"
             ],
             [
              0.7777777777777778,
              "#fb9f3a"
             ],
             [
              0.8888888888888888,
              "#fdca26"
             ],
             [
              1,
              "#f0f921"
             ]
            ],
            "type": "histogram2dcontour"
           }
          ],
          "mesh3d": [
           {
            "colorbar": {
             "outlinewidth": 0,
             "ticks": ""
            },
            "type": "mesh3d"
           }
          ],
          "parcoords": [
           {
            "line": {
             "colorbar": {
              "outlinewidth": 0,
              "ticks": ""
             }
            },
            "type": "parcoords"
           }
          ],
          "pie": [
           {
            "automargin": true,
            "type": "pie"
           }
          ],
          "scatter": [
           {
            "marker": {
             "colorbar": {
              "outlinewidth": 0,
              "ticks": ""
             }
            },
            "type": "scatter"
           }
          ],
          "scatter3d": [
           {
            "line": {
             "colorbar": {
              "outlinewidth": 0,
              "ticks": ""
             }
            },
            "marker": {
             "colorbar": {
              "outlinewidth": 0,
              "ticks": ""
             }
            },
            "type": "scatter3d"
           }
          ],
          "scattercarpet": [
           {
            "marker": {
             "colorbar": {
              "outlinewidth": 0,
              "ticks": ""
             }
            },
            "type": "scattercarpet"
           }
          ],
          "scattergeo": [
           {
            "marker": {
             "colorbar": {
              "outlinewidth": 0,
              "ticks": ""
             }
            },
            "type": "scattergeo"
           }
          ],
          "scattergl": [
           {
            "marker": {
             "colorbar": {
              "outlinewidth": 0,
              "ticks": ""
             }
            },
            "type": "scattergl"
           }
          ],
          "scattermapbox": [
           {
            "marker": {
             "colorbar": {
              "outlinewidth": 0,
              "ticks": ""
             }
            },
            "type": "scattermapbox"
           }
          ],
          "scatterpolar": [
           {
            "marker": {
             "colorbar": {
              "outlinewidth": 0,
              "ticks": ""
             }
            },
            "type": "scatterpolar"
           }
          ],
          "scatterpolargl": [
           {
            "marker": {
             "colorbar": {
              "outlinewidth": 0,
              "ticks": ""
             }
            },
            "type": "scatterpolargl"
           }
          ],
          "scatterternary": [
           {
            "marker": {
             "colorbar": {
              "outlinewidth": 0,
              "ticks": ""
             }
            },
            "type": "scatterternary"
           }
          ],
          "surface": [
           {
            "colorbar": {
             "outlinewidth": 0,
             "ticks": ""
            },
            "colorscale": [
             [
              0,
              "#0d0887"
             ],
             [
              0.1111111111111111,
              "#46039f"
             ],
             [
              0.2222222222222222,
              "#7201a8"
             ],
             [
              0.3333333333333333,
              "#9c179e"
             ],
             [
              0.4444444444444444,
              "#bd3786"
             ],
             [
              0.5555555555555556,
              "#d8576b"
             ],
             [
              0.6666666666666666,
              "#ed7953"
             ],
             [
              0.7777777777777778,
              "#fb9f3a"
             ],
             [
              0.8888888888888888,
              "#fdca26"
             ],
             [
              1,
              "#f0f921"
             ]
            ],
            "type": "surface"
           }
          ],
          "table": [
           {
            "cells": {
             "fill": {
              "color": "#EBF0F8"
             },
             "line": {
              "color": "white"
             }
            },
            "header": {
             "fill": {
              "color": "#C8D4E3"
             },
             "line": {
              "color": "white"
             }
            },
            "type": "table"
           }
          ]
         },
         "layout": {
          "annotationdefaults": {
           "arrowcolor": "#2a3f5f",
           "arrowhead": 0,
           "arrowwidth": 1
          },
          "autotypenumbers": "strict",
          "coloraxis": {
           "colorbar": {
            "outlinewidth": 0,
            "ticks": ""
           }
          },
          "colorscale": {
           "diverging": [
            [
             0,
             "#8e0152"
            ],
            [
             0.1,
             "#c51b7d"
            ],
            [
             0.2,
             "#de77ae"
            ],
            [
             0.3,
             "#f1b6da"
            ],
            [
             0.4,
             "#fde0ef"
            ],
            [
             0.5,
             "#f7f7f7"
            ],
            [
             0.6,
             "#e6f5d0"
            ],
            [
             0.7,
             "#b8e186"
            ],
            [
             0.8,
             "#7fbc41"
            ],
            [
             0.9,
             "#4d9221"
            ],
            [
             1,
             "#276419"
            ]
           ],
           "sequential": [
            [
             0,
             "#0d0887"
            ],
            [
             0.1111111111111111,
             "#46039f"
            ],
            [
             0.2222222222222222,
             "#7201a8"
            ],
            [
             0.3333333333333333,
             "#9c179e"
            ],
            [
             0.4444444444444444,
             "#bd3786"
            ],
            [
             0.5555555555555556,
             "#d8576b"
            ],
            [
             0.6666666666666666,
             "#ed7953"
            ],
            [
             0.7777777777777778,
             "#fb9f3a"
            ],
            [
             0.8888888888888888,
             "#fdca26"
            ],
            [
             1,
             "#f0f921"
            ]
           ],
           "sequentialminus": [
            [
             0,
             "#0d0887"
            ],
            [
             0.1111111111111111,
             "#46039f"
            ],
            [
             0.2222222222222222,
             "#7201a8"
            ],
            [
             0.3333333333333333,
             "#9c179e"
            ],
            [
             0.4444444444444444,
             "#bd3786"
            ],
            [
             0.5555555555555556,
             "#d8576b"
            ],
            [
             0.6666666666666666,
             "#ed7953"
            ],
            [
             0.7777777777777778,
             "#fb9f3a"
            ],
            [
             0.8888888888888888,
             "#fdca26"
            ],
            [
             1,
             "#f0f921"
            ]
           ]
          },
          "colorway": [
           "#636efa",
           "#EF553B",
           "#00cc96",
           "#ab63fa",
           "#FFA15A",
           "#19d3f3",
           "#FF6692",
           "#B6E880",
           "#FF97FF",
           "#FECB52"
          ],
          "font": {
           "color": "#2a3f5f"
          },
          "geo": {
           "bgcolor": "white",
           "lakecolor": "white",
           "landcolor": "#E5ECF6",
           "showlakes": true,
           "showland": true,
           "subunitcolor": "white"
          },
          "hoverlabel": {
           "align": "left"
          },
          "hovermode": "closest",
          "mapbox": {
           "style": "light"
          },
          "paper_bgcolor": "white",
          "plot_bgcolor": "#E5ECF6",
          "polar": {
           "angularaxis": {
            "gridcolor": "white",
            "linecolor": "white",
            "ticks": ""
           },
           "bgcolor": "#E5ECF6",
           "radialaxis": {
            "gridcolor": "white",
            "linecolor": "white",
            "ticks": ""
           }
          },
          "scene": {
           "xaxis": {
            "backgroundcolor": "#E5ECF6",
            "gridcolor": "white",
            "gridwidth": 2,
            "linecolor": "white",
            "showbackground": true,
            "ticks": "",
            "zerolinecolor": "white"
           },
           "yaxis": {
            "backgroundcolor": "#E5ECF6",
            "gridcolor": "white",
            "gridwidth": 2,
            "linecolor": "white",
            "showbackground": true,
            "ticks": "",
            "zerolinecolor": "white"
           },
           "zaxis": {
            "backgroundcolor": "#E5ECF6",
            "gridcolor": "white",
            "gridwidth": 2,
            "linecolor": "white",
            "showbackground": true,
            "ticks": "",
            "zerolinecolor": "white"
           }
          },
          "shapedefaults": {
           "line": {
            "color": "#2a3f5f"
           }
          },
          "ternary": {
           "aaxis": {
            "gridcolor": "white",
            "linecolor": "white",
            "ticks": ""
           },
           "baxis": {
            "gridcolor": "white",
            "linecolor": "white",
            "ticks": ""
           },
           "bgcolor": "#E5ECF6",
           "caxis": {
            "gridcolor": "white",
            "linecolor": "white",
            "ticks": ""
           }
          },
          "title": {
           "x": 0.05
          },
          "xaxis": {
           "automargin": true,
           "gridcolor": "white",
           "linecolor": "white",
           "ticks": "",
           "title": {
            "standoff": 15
           },
           "zerolinecolor": "white",
           "zerolinewidth": 2
          },
          "yaxis": {
           "automargin": true,
           "gridcolor": "white",
           "linecolor": "white",
           "ticks": "",
           "title": {
            "standoff": 15
           },
           "zerolinecolor": "white",
           "zerolinewidth": 2
          }
         }
        },
        "title": {
         "font": {
          "color": "#4D5663"
         }
        },
        "xaxis": {
         "gridcolor": "#E1E5ED",
         "showgrid": true,
         "tickfont": {
          "color": "#4D5663"
         },
         "title": {
          "font": {
           "color": "#4D5663"
          },
          "text": ""
         },
         "zerolinecolor": "#E1E5ED"
        },
        "yaxis": {
         "gridcolor": "#E1E5ED",
         "showgrid": true,
         "tickfont": {
          "color": "#4D5663"
         },
         "title": {
          "font": {
           "color": "#4D5663"
          },
          "text": ""
         },
         "zerolinecolor": "#E1E5ED"
        }
       }
      },
      "text/html": [
       "<div>                            <div id=\"e1bd1db9-b664-42e1-87e9-1904be45a39d\" class=\"plotly-graph-div\" style=\"height:525px; width:100%;\"></div>            <script type=\"text/javascript\">                require([\"plotly\"], function(Plotly) {                    window.PLOTLYENV=window.PLOTLYENV || {};\n",
       "                    window.PLOTLYENV.BASE_URL='https://plot.ly';                                    if (document.getElementById(\"e1bd1db9-b664-42e1-87e9-1904be45a39d\")) {                    Plotly.newPlot(                        \"e1bd1db9-b664-42e1-87e9-1904be45a39d\",                        [{\"boxpoints\":false,\"line\":{\"width\":1.3},\"marker\":{\"color\":\"rgba(255, 153, 51, 1.0)\"},\"name\":\"A\",\"orientation\":\"v\",\"type\":\"box\",\"y\":[-0.34225299009874355,0.4892447760011251,0.6289296113249515,-0.9623444735331236,0.5218374246730623,1.0872779779546433,-2.5446001105676275,-0.2858836687280843,1.3065777779854995,-2.4104707774726113,1.3369186035954843,0.3838707492935451,-0.5526656706871299,-0.523243795919335,-0.5219209505049524,0.7876928140633233,-0.9458273989118097,0.6798036848133264,-0.7326321084090412,2.9676666789696204,-0.05694316110548828,-0.3901687948679766,0.39042317054449927,-0.5097476850302313,-0.06005776882918707,1.8651889477854269,0.6825596947887341,-0.660930834038989,0.7457389149047722,0.5831350759677145,0.20565331727263178,0.12137563657220368,0.14222541475987407,-0.21964030922882513,-0.1403522050946297,0.9130048247460788,-0.5324825569805095,0.8357026232545052,-0.05136640945025422,-0.15442903874892236,0.4427417326955754,-1.4618826570001109,-0.23457977919541678,1.5819006525811172,1.7673116734486296,0.5244123082679875,-1.4960518062062593,-0.08993988733773665,0.8209575792192505,0.277831732542309,1.9225576880083868,1.757171966228769,-2.138688527959561,-1.3709748402957949,-0.7155997219888818,0.3317227996255702,-1.0043614591743062,-1.0261278984258224,-1.4276290468878337,-1.0891931758991331,0.2035269789201755,0.02473667551913148,0.19551292413294072,-0.19036560623878837,-1.8010591597777204,0.8032033734232925,-1.0990490358758565,0.7760903618580065,-0.5271828141604505,-0.7383131855752465,-0.27543257249948844,-0.037819243298348515,1.2032094442658468,0.785084605957565,0.7503288870253916,-0.8472573692739707,-0.37625320843617843,-1.2657485333486633,1.7888324677330751,0.7499899464558957,0.3247253443598456,1.1096782207812264,0.28418622192332155,0.8318537645554853,2.0139557344103043,0.3476274485672122,-0.7967921761246892,-0.12058745799601407,0.43531389145934873,0.35347704597191093,-1.3720175798793395,-1.2811737166611563,0.04571690779276586,1.8411898245359177,-0.34353168706576764,1.0133136240424316,0.31479801507956323,2.1145539751315687,-1.0277828928921748,-0.7838019655038211]},{\"boxpoints\":false,\"line\":{\"width\":1.3},\"marker\":{\"color\":\"rgba(55, 128, 191, 1.0)\"},\"name\":\"B\",\"orientation\":\"v\",\"type\":\"box\",\"y\":[0.9900955482666974,-0.9889452577232196,-0.9378354850254641,-0.5463691152022653,2.0271518857018807,0.19925957847537346,-0.7786039713483985,0.2520015620313144,-0.6188427581785232,0.419814842315549,-1.8602683357380412,0.7728522626338924,0.23979797259129315,1.1297423815295664,-0.10475559546208067,-0.009461289991414178,0.7113080068140527,-1.4786843116096715,-1.3201954219731604,0.07031698798374092,1.6442459691777473,-0.13952067189279416,-0.9250117184627819,-1.730634623494131,-1.2546443084973622,1.2139408010780905,-0.5844745801129339,-0.29554717166621897,0.27281484542731976,0.25318894794907465,-0.24638066248007567,-0.3001463717227039,-0.47843477549201796,1.5339025213459436,1.237395379686162,-0.214093862004028,-0.3867947061510151,0.20025306551505054,0.5518586459046209,-1.2649171383821682,-0.31394703787397016,2.624200579430331,-0.7124402468346807,0.47598211399691526,0.3543661152225115,-0.7416521439997066,0.11901051948687877,-1.228030696683017,-0.5254167537146217,-0.8180277127043986,0.9767586529113346,1.2707583473030304,-0.1430902898326658,0.3866316300901333,0.918493501529165,0.7382411409509697,-1.7872095559123204,-0.05138925422187474,-1.3099282607443965,0.3619874357419031,0.2473659952388168,0.673183153770201,-0.42378629704185045,-0.5218702450381305,0.3643796819545949,-0.8571232551495427,0.6196384121373644,-0.5532877791773987,-0.6985239271046452,-0.4971711238652195,0.9837197737497394,0.151109103477177,-0.45528688478792184,-0.2940979367596788,-1.1357511274305079,1.7291497641174005,-0.5315171160860179,0.5412751513880071,2.319270328199936,1.105881259664581,0.24183604497834638,-0.12739001798747068,0.15509861976732744,-1.0996109070986873,0.23972510178264853,-0.08154335854543714,-1.8255709836497878,1.8463351692191043,1.820835557120743,0.9539408365908607,-1.7026480093372356,0.736197256641093,-0.21103967120123218,0.37668614877938134,-0.8927141407003845,-0.10178995397251908,-1.3472346892602074,-0.6569542813244048,0.9437776474422417,-3.0058043986457124]},{\"boxpoints\":false,\"line\":{\"width\":1.3},\"marker\":{\"color\":\"rgba(50, 171, 96, 1.0)\"},\"name\":\"C\",\"orientation\":\"v\",\"type\":\"box\",\"y\":[-0.24360119416966694,2.6290698676150748,0.2661367149716258,0.4248000862046849,0.15691359647032885,1.2669766461076717,-0.7458482705573792,-1.0425577762968143,-0.9918293586883078,1.1752207914133415,0.8237476957175225,1.1559167419733656,-0.26544194102746643,-1.756871692208469,-0.4328200632631489,-1.5946234612917132,-0.7754468725671481,2.456890194326189,0.25177654767670976,-0.5276250778756187,-0.41515353632559016,-0.9702083336083774,-0.5386885727546051,0.37514521710971366,0.42471750848556794,0.9123108730469526,-1.3814941779525685,1.5467689361155261,-1.006894590393866,0.0956355518057554,0.7466898784983458,-0.24213182443022957,-0.9250827556716021,-1.5203503273531633,-0.4977984822613209,-0.6410172305332248,0.0004638774932113429,0.8313405708447927,2.019266841869993,0.5943772196931862,-0.30837067424611286,0.9104799562812206,0.19755570215657497,0.2773208278157791,-1.0387187975724872,-0.506375180681545,-0.5516849839146819,0.7116617071345542,-0.19579766373118063,0.42693167129622245,-0.8331237335520756,0.5016062861936484,-0.6937427386910572,-0.49746785662625626,-1.7118428797935947,-0.7605643980862589,-0.5390131077084975,-0.09681021739978073,0.540645279267166,-0.48285349611885797,0.025786372736263302,1.8235643881611308,-1.2932590197710199,-0.6465104579661324,2.0408865397934393,0.7642965793643237,-0.8265002416929838,0.1019702069298536,0.8725592650972407,-1.588148164340174,-1.4228936331224291,0.3031964853541781,-0.07949730751640986,-2.39910314507416,-0.7029900183390284,0.8408133054957266,0.6166977677036451,-0.9940793947697844,-0.534675036167626,-0.14707923691588887,-2.6234047287938913,-1.3474097174098156,-0.1421345213333329,0.008835708481921363,-1.2515389770614476,-0.6441581344355697,-0.5934360296853288,-0.027506673382790198,-0.23057019069383758,-0.4883458423910079,-1.22605047743705,-0.6061666040960666,-1.0125377919921394,-0.3320753382492649,0.766639572361874,0.07814275463062237,-0.02251167615807235,-1.2505570063745404,-0.41570718077541857,-0.6990955371320429]},{\"boxpoints\":false,\"line\":{\"width\":1.3},\"marker\":{\"color\":\"rgba(128, 0, 128, 1.0)\"},\"name\":\"D\",\"orientation\":\"v\",\"type\":\"box\",\"y\":[-0.8993780379502047,-0.02805590171480415,0.5612035642976496,0.45017054087238884,-2.233080770879555,0.3739742395124629,-0.5774356122456568,-0.6717884367620782,0.4832487351689567,0.761435996894435,-0.04059328762487213,0.5101128605312929,0.19902095165716177,-1.5411945525961641,-0.45683768831453736,3.2567902677591,-0.24721414340764963,-1.4596725990248305,-2.4248001490278375,0.12611197215654926,1.9234059086665694,-0.7415422179044057,0.5318699546445996,0.3411788196455518,-0.30164340637185694,0.9763135783972272,-0.21897997321007678,0.354782893192736,1.9263999024854617,-1.0069515783908103,-0.0914288423605711,0.9977226852097353,-0.16959396494707218,-0.9640722535068827,0.26028820686903065,0.6912992723236513,-0.4203592662512756,-1.3261158849795756,-1.1453604179470454,-0.9227383863226544,0.0033439820871036955,-0.29155084059205694,-1.192411953625304,0.34346615046657125,-1.0908146569416461,1.5747384092161831,-0.3905808061673566,-1.2576203889566724,-0.9292308926637166,1.9194370566526706,-1.6507047842344582,0.8631548922913439,1.2991380618444575,-3.2615524161869196,-1.0717834772800015,1.2630698522056911,3.1470570330562615,-0.13404492840812246,1.9029965756941507,0.5312264148980672,-1.0776998955177377,0.21816766458394263,0.951581629546409,0.35406437532113627,0.6726097055720566,1.5289951046519916,0.8872488457004313,1.5278424465510052,-0.5629686924888644,-0.6833421677015717,0.5763413458651462,0.12764236871541115,1.180397231496056,0.340318053147227,0.002726022685278746,1.7713800150640246,1.2982996566138594,-1.0523866869149032,-0.779700669840491,-1.8575621845742905,-0.7110915002681697,-1.4997360103036437,0.7950770689699234,0.52438561059342,0.2576584909044913,-1.1552940935623224,1.3039721355476719,1.8623529103560788,-0.15667476232146516,0.22218725609677162,0.1133313728764875,-0.7881581017112002,0.6817806926876091,-0.38247769385962327,-0.745334160946617,-0.07717189151842606,-0.9439590114540767,-0.33257224030030497,-0.33528789414779003,0.45350533599463455]}],                        {\"legend\":{\"bgcolor\":\"#F5F6F9\",\"font\":{\"color\":\"#4D5663\"}},\"paper_bgcolor\":\"#F5F6F9\",\"plot_bgcolor\":\"#F5F6F9\",\"template\":{\"data\":{\"bar\":[{\"error_x\":{\"color\":\"#2a3f5f\"},\"error_y\":{\"color\":\"#2a3f5f\"},\"marker\":{\"line\":{\"color\":\"#E5ECF6\",\"width\":0.5},\"pattern\":{\"fillmode\":\"overlay\",\"size\":10,\"solidity\":0.2}},\"type\":\"bar\"}],\"barpolar\":[{\"marker\":{\"line\":{\"color\":\"#E5ECF6\",\"width\":0.5},\"pattern\":{\"fillmode\":\"overlay\",\"size\":10,\"solidity\":0.2}},\"type\":\"barpolar\"}],\"carpet\":[{\"aaxis\":{\"endlinecolor\":\"#2a3f5f\",\"gridcolor\":\"white\",\"linecolor\":\"white\",\"minorgridcolor\":\"white\",\"startlinecolor\":\"#2a3f5f\"},\"baxis\":{\"endlinecolor\":\"#2a3f5f\",\"gridcolor\":\"white\",\"linecolor\":\"white\",\"minorgridcolor\":\"white\",\"startlinecolor\":\"#2a3f5f\"},\"type\":\"carpet\"}],\"choropleth\":[{\"colorbar\":{\"outlinewidth\":0,\"ticks\":\"\"},\"type\":\"choropleth\"}],\"contour\":[{\"colorbar\":{\"outlinewidth\":0,\"ticks\":\"\"},\"colorscale\":[[0.0,\"#0d0887\"],[0.1111111111111111,\"#46039f\"],[0.2222222222222222,\"#7201a8\"],[0.3333333333333333,\"#9c179e\"],[0.4444444444444444,\"#bd3786\"],[0.5555555555555556,\"#d8576b\"],[0.6666666666666666,\"#ed7953\"],[0.7777777777777778,\"#fb9f3a\"],[0.8888888888888888,\"#fdca26\"],[1.0,\"#f0f921\"]],\"type\":\"contour\"}],\"contourcarpet\":[{\"colorbar\":{\"outlinewidth\":0,\"ticks\":\"\"},\"type\":\"contourcarpet\"}],\"heatmap\":[{\"colorbar\":{\"outlinewidth\":0,\"ticks\":\"\"},\"colorscale\":[[0.0,\"#0d0887\"],[0.1111111111111111,\"#46039f\"],[0.2222222222222222,\"#7201a8\"],[0.3333333333333333,\"#9c179e\"],[0.4444444444444444,\"#bd3786\"],[0.5555555555555556,\"#d8576b\"],[0.6666666666666666,\"#ed7953\"],[0.7777777777777778,\"#fb9f3a\"],[0.8888888888888888,\"#fdca26\"],[1.0,\"#f0f921\"]],\"type\":\"heatmap\"}],\"heatmapgl\":[{\"colorbar\":{\"outlinewidth\":0,\"ticks\":\"\"},\"colorscale\":[[0.0,\"#0d0887\"],[0.1111111111111111,\"#46039f\"],[0.2222222222222222,\"#7201a8\"],[0.3333333333333333,\"#9c179e\"],[0.4444444444444444,\"#bd3786\"],[0.5555555555555556,\"#d8576b\"],[0.6666666666666666,\"#ed7953\"],[0.7777777777777778,\"#fb9f3a\"],[0.8888888888888888,\"#fdca26\"],[1.0,\"#f0f921\"]],\"type\":\"heatmapgl\"}],\"histogram\":[{\"marker\":{\"pattern\":{\"fillmode\":\"overlay\",\"size\":10,\"solidity\":0.2}},\"type\":\"histogram\"}],\"histogram2d\":[{\"colorbar\":{\"outlinewidth\":0,\"ticks\":\"\"},\"colorscale\":[[0.0,\"#0d0887\"],[0.1111111111111111,\"#46039f\"],[0.2222222222222222,\"#7201a8\"],[0.3333333333333333,\"#9c179e\"],[0.4444444444444444,\"#bd3786\"],[0.5555555555555556,\"#d8576b\"],[0.6666666666666666,\"#ed7953\"],[0.7777777777777778,\"#fb9f3a\"],[0.8888888888888888,\"#fdca26\"],[1.0,\"#f0f921\"]],\"type\":\"histogram2d\"}],\"histogram2dcontour\":[{\"colorbar\":{\"outlinewidth\":0,\"ticks\":\"\"},\"colorscale\":[[0.0,\"#0d0887\"],[0.1111111111111111,\"#46039f\"],[0.2222222222222222,\"#7201a8\"],[0.3333333333333333,\"#9c179e\"],[0.4444444444444444,\"#bd3786\"],[0.5555555555555556,\"#d8576b\"],[0.6666666666666666,\"#ed7953\"],[0.7777777777777778,\"#fb9f3a\"],[0.8888888888888888,\"#fdca26\"],[1.0,\"#f0f921\"]],\"type\":\"histogram2dcontour\"}],\"mesh3d\":[{\"colorbar\":{\"outlinewidth\":0,\"ticks\":\"\"},\"type\":\"mesh3d\"}],\"parcoords\":[{\"line\":{\"colorbar\":{\"outlinewidth\":0,\"ticks\":\"\"}},\"type\":\"parcoords\"}],\"pie\":[{\"automargin\":true,\"type\":\"pie\"}],\"scatter\":[{\"marker\":{\"colorbar\":{\"outlinewidth\":0,\"ticks\":\"\"}},\"type\":\"scatter\"}],\"scatter3d\":[{\"line\":{\"colorbar\":{\"outlinewidth\":0,\"ticks\":\"\"}},\"marker\":{\"colorbar\":{\"outlinewidth\":0,\"ticks\":\"\"}},\"type\":\"scatter3d\"}],\"scattercarpet\":[{\"marker\":{\"colorbar\":{\"outlinewidth\":0,\"ticks\":\"\"}},\"type\":\"scattercarpet\"}],\"scattergeo\":[{\"marker\":{\"colorbar\":{\"outlinewidth\":0,\"ticks\":\"\"}},\"type\":\"scattergeo\"}],\"scattergl\":[{\"marker\":{\"colorbar\":{\"outlinewidth\":0,\"ticks\":\"\"}},\"type\":\"scattergl\"}],\"scattermapbox\":[{\"marker\":{\"colorbar\":{\"outlinewidth\":0,\"ticks\":\"\"}},\"type\":\"scattermapbox\"}],\"scatterpolar\":[{\"marker\":{\"colorbar\":{\"outlinewidth\":0,\"ticks\":\"\"}},\"type\":\"scatterpolar\"}],\"scatterpolargl\":[{\"marker\":{\"colorbar\":{\"outlinewidth\":0,\"ticks\":\"\"}},\"type\":\"scatterpolargl\"}],\"scatterternary\":[{\"marker\":{\"colorbar\":{\"outlinewidth\":0,\"ticks\":\"\"}},\"type\":\"scatterternary\"}],\"surface\":[{\"colorbar\":{\"outlinewidth\":0,\"ticks\":\"\"},\"colorscale\":[[0.0,\"#0d0887\"],[0.1111111111111111,\"#46039f\"],[0.2222222222222222,\"#7201a8\"],[0.3333333333333333,\"#9c179e\"],[0.4444444444444444,\"#bd3786\"],[0.5555555555555556,\"#d8576b\"],[0.6666666666666666,\"#ed7953\"],[0.7777777777777778,\"#fb9f3a\"],[0.8888888888888888,\"#fdca26\"],[1.0,\"#f0f921\"]],\"type\":\"surface\"}],\"table\":[{\"cells\":{\"fill\":{\"color\":\"#EBF0F8\"},\"line\":{\"color\":\"white\"}},\"header\":{\"fill\":{\"color\":\"#C8D4E3\"},\"line\":{\"color\":\"white\"}},\"type\":\"table\"}]},\"layout\":{\"annotationdefaults\":{\"arrowcolor\":\"#2a3f5f\",\"arrowhead\":0,\"arrowwidth\":1},\"autotypenumbers\":\"strict\",\"coloraxis\":{\"colorbar\":{\"outlinewidth\":0,\"ticks\":\"\"}},\"colorscale\":{\"diverging\":[[0,\"#8e0152\"],[0.1,\"#c51b7d\"],[0.2,\"#de77ae\"],[0.3,\"#f1b6da\"],[0.4,\"#fde0ef\"],[0.5,\"#f7f7f7\"],[0.6,\"#e6f5d0\"],[0.7,\"#b8e186\"],[0.8,\"#7fbc41\"],[0.9,\"#4d9221\"],[1,\"#276419\"]],\"sequential\":[[0.0,\"#0d0887\"],[0.1111111111111111,\"#46039f\"],[0.2222222222222222,\"#7201a8\"],[0.3333333333333333,\"#9c179e\"],[0.4444444444444444,\"#bd3786\"],[0.5555555555555556,\"#d8576b\"],[0.6666666666666666,\"#ed7953\"],[0.7777777777777778,\"#fb9f3a\"],[0.8888888888888888,\"#fdca26\"],[1.0,\"#f0f921\"]],\"sequentialminus\":[[0.0,\"#0d0887\"],[0.1111111111111111,\"#46039f\"],[0.2222222222222222,\"#7201a8\"],[0.3333333333333333,\"#9c179e\"],[0.4444444444444444,\"#bd3786\"],[0.5555555555555556,\"#d8576b\"],[0.6666666666666666,\"#ed7953\"],[0.7777777777777778,\"#fb9f3a\"],[0.8888888888888888,\"#fdca26\"],[1.0,\"#f0f921\"]]},\"colorway\":[\"#636efa\",\"#EF553B\",\"#00cc96\",\"#ab63fa\",\"#FFA15A\",\"#19d3f3\",\"#FF6692\",\"#B6E880\",\"#FF97FF\",\"#FECB52\"],\"font\":{\"color\":\"#2a3f5f\"},\"geo\":{\"bgcolor\":\"white\",\"lakecolor\":\"white\",\"landcolor\":\"#E5ECF6\",\"showlakes\":true,\"showland\":true,\"subunitcolor\":\"white\"},\"hoverlabel\":{\"align\":\"left\"},\"hovermode\":\"closest\",\"mapbox\":{\"style\":\"light\"},\"paper_bgcolor\":\"white\",\"plot_bgcolor\":\"#E5ECF6\",\"polar\":{\"angularaxis\":{\"gridcolor\":\"white\",\"linecolor\":\"white\",\"ticks\":\"\"},\"bgcolor\":\"#E5ECF6\",\"radialaxis\":{\"gridcolor\":\"white\",\"linecolor\":\"white\",\"ticks\":\"\"}},\"scene\":{\"xaxis\":{\"backgroundcolor\":\"#E5ECF6\",\"gridcolor\":\"white\",\"gridwidth\":2,\"linecolor\":\"white\",\"showbackground\":true,\"ticks\":\"\",\"zerolinecolor\":\"white\"},\"yaxis\":{\"backgroundcolor\":\"#E5ECF6\",\"gridcolor\":\"white\",\"gridwidth\":2,\"linecolor\":\"white\",\"showbackground\":true,\"ticks\":\"\",\"zerolinecolor\":\"white\"},\"zaxis\":{\"backgroundcolor\":\"#E5ECF6\",\"gridcolor\":\"white\",\"gridwidth\":2,\"linecolor\":\"white\",\"showbackground\":true,\"ticks\":\"\",\"zerolinecolor\":\"white\"}},\"shapedefaults\":{\"line\":{\"color\":\"#2a3f5f\"}},\"ternary\":{\"aaxis\":{\"gridcolor\":\"white\",\"linecolor\":\"white\",\"ticks\":\"\"},\"baxis\":{\"gridcolor\":\"white\",\"linecolor\":\"white\",\"ticks\":\"\"},\"bgcolor\":\"#E5ECF6\",\"caxis\":{\"gridcolor\":\"white\",\"linecolor\":\"white\",\"ticks\":\"\"}},\"title\":{\"x\":0.05},\"xaxis\":{\"automargin\":true,\"gridcolor\":\"white\",\"linecolor\":\"white\",\"ticks\":\"\",\"title\":{\"standoff\":15},\"zerolinecolor\":\"white\",\"zerolinewidth\":2},\"yaxis\":{\"automargin\":true,\"gridcolor\":\"white\",\"linecolor\":\"white\",\"ticks\":\"\",\"title\":{\"standoff\":15},\"zerolinecolor\":\"white\",\"zerolinewidth\":2}}},\"title\":{\"font\":{\"color\":\"#4D5663\"}},\"xaxis\":{\"gridcolor\":\"#E1E5ED\",\"showgrid\":true,\"tickfont\":{\"color\":\"#4D5663\"},\"title\":{\"font\":{\"color\":\"#4D5663\"},\"text\":\"\"},\"zerolinecolor\":\"#E1E5ED\"},\"yaxis\":{\"gridcolor\":\"#E1E5ED\",\"showgrid\":true,\"tickfont\":{\"color\":\"#4D5663\"},\"title\":{\"font\":{\"color\":\"#4D5663\"},\"text\":\"\"},\"zerolinecolor\":\"#E1E5ED\"}},                        {\"showLink\": true, \"linkText\": \"Export to plot.ly\", \"plotlyServerURL\": \"https://plot.ly\", \"responsive\": true}                    ).then(function(){\n",
       "                            \n",
       "var gd = document.getElementById('e1bd1db9-b664-42e1-87e9-1904be45a39d');\n",
       "var x = new MutationObserver(function (mutations, observer) {{\n",
       "        var display = window.getComputedStyle(gd).display;\n",
       "        if (!display || display === 'none') {{\n",
       "            console.log([gd, 'removed!']);\n",
       "            Plotly.purge(gd);\n",
       "            observer.disconnect();\n",
       "        }}\n",
       "}});\n",
       "\n",
       "// Listen for the removal of the full notebook cells\n",
       "var notebookContainer = gd.closest('#notebook-container');\n",
       "if (notebookContainer) {{\n",
       "    x.observe(notebookContainer, {childList: true});\n",
       "}}\n",
       "\n",
       "// Listen for the clearing of the current output cell\n",
       "var outputEl = gd.closest('.output');\n",
       "if (outputEl) {{\n",
       "    x.observe(outputEl, {childList: true});\n",
       "}}\n",
       "\n",
       "                        })                };                });            </script>        </div>"
      ]
     },
     "metadata": {},
     "output_type": "display_data"
    }
   ],
   "source": [
    "df.iplot(kind='box')"
   ]
  },
  {
   "cell_type": "code",
   "execution_count": 32,
   "id": "131cb627",
   "metadata": {},
   "outputs": [],
   "source": [
    "#3D Surface Plot"
   ]
  },
  {
   "cell_type": "code",
   "execution_count": 38,
   "id": "b0b618bd",
   "metadata": {},
   "outputs": [
    {
     "data": {
      "text/html": [
       "<div>\n",
       "<style scoped>\n",
       "    .dataframe tbody tr th:only-of-type {\n",
       "        vertical-align: middle;\n",
       "    }\n",
       "\n",
       "    .dataframe tbody tr th {\n",
       "        vertical-align: top;\n",
       "    }\n",
       "\n",
       "    .dataframe thead th {\n",
       "        text-align: right;\n",
       "    }\n",
       "</style>\n",
       "<table border=\"1\" class=\"dataframe\">\n",
       "  <thead>\n",
       "    <tr style=\"text-align: right;\">\n",
       "      <th></th>\n",
       "      <th>x</th>\n",
       "      <th>y</th>\n",
       "      <th>z</th>\n",
       "    </tr>\n",
       "  </thead>\n",
       "  <tbody>\n",
       "    <tr>\n",
       "      <th>0</th>\n",
       "      <td>1</td>\n",
       "      <td>10</td>\n",
       "      <td>5</td>\n",
       "    </tr>\n",
       "    <tr>\n",
       "      <th>1</th>\n",
       "      <td>2</td>\n",
       "      <td>20</td>\n",
       "      <td>4</td>\n",
       "    </tr>\n",
       "    <tr>\n",
       "      <th>2</th>\n",
       "      <td>3</td>\n",
       "      <td>30</td>\n",
       "      <td>3</td>\n",
       "    </tr>\n",
       "    <tr>\n",
       "      <th>3</th>\n",
       "      <td>4</td>\n",
       "      <td>20</td>\n",
       "      <td>2</td>\n",
       "    </tr>\n",
       "    <tr>\n",
       "      <th>4</th>\n",
       "      <td>5</td>\n",
       "      <td>10</td>\n",
       "      <td>1</td>\n",
       "    </tr>\n",
       "  </tbody>\n",
       "</table>\n",
       "</div>"
      ],
      "text/plain": [
       "   x   y  z\n",
       "0  1  10  5\n",
       "1  2  20  4\n",
       "2  3  30  3\n",
       "3  4  20  2\n",
       "4  5  10  1"
      ]
     },
     "execution_count": 38,
     "metadata": {},
     "output_type": "execute_result"
    }
   ],
   "source": [
    "df3=pd.DataFrame({'x':[1,2,3,4,5],'y':[10,20,30,20,10],'z':[5,4,3,2,1]})\n",
    "df3"
   ]
  },
  {
   "cell_type": "code",
   "execution_count": 41,
   "id": "470b1739",
   "metadata": {},
   "outputs": [
    {
     "data": {
      "application/vnd.plotly.v1+json": {
       "config": {
        "linkText": "Export to plot.ly",
        "plotlyServerURL": "https://plot.ly",
        "showLink": true
       },
       "data": [
        {
         "colorscale": [
          [
           0,
           "rgb(165,0,38)"
          ],
          [
           0.1,
           "rgb(215,48,39)"
          ],
          [
           0.2,
           "rgb(244,109,67)"
          ],
          [
           0.3,
           "rgb(253,174,97)"
          ],
          [
           0.4,
           "rgb(254,224,144)"
          ],
          [
           0.5,
           "rgb(255,255,191)"
          ],
          [
           0.6,
           "rgb(224,243,248)"
          ],
          [
           0.7,
           "rgb(171,217,233)"
          ],
          [
           0.8,
           "rgb(116,173,209)"
          ],
          [
           0.9,
           "rgb(69,117,180)"
          ],
          [
           1,
           "rgb(49,54,149)"
          ]
         ],
         "type": "surface",
         "x": [
          0,
          1,
          2,
          3,
          4
         ],
         "y": [
          "x",
          "y",
          "z"
         ],
         "z": [
          [
           1,
           2,
           3,
           4,
           5
          ],
          [
           10,
           20,
           30,
           20,
           10
          ],
          [
           5,
           4,
           3,
           2,
           1
          ]
         ]
        }
       ],
       "layout": {
        "legend": {
         "bgcolor": "#F5F6F9",
         "font": {
          "color": "#4D5663"
         }
        },
        "paper_bgcolor": "#F5F6F9",
        "plot_bgcolor": "#F5F6F9",
        "template": {
         "data": {
          "bar": [
           {
            "error_x": {
             "color": "#2a3f5f"
            },
            "error_y": {
             "color": "#2a3f5f"
            },
            "marker": {
             "line": {
              "color": "#E5ECF6",
              "width": 0.5
             },
             "pattern": {
              "fillmode": "overlay",
              "size": 10,
              "solidity": 0.2
             }
            },
            "type": "bar"
           }
          ],
          "barpolar": [
           {
            "marker": {
             "line": {
              "color": "#E5ECF6",
              "width": 0.5
             },
             "pattern": {
              "fillmode": "overlay",
              "size": 10,
              "solidity": 0.2
             }
            },
            "type": "barpolar"
           }
          ],
          "carpet": [
           {
            "aaxis": {
             "endlinecolor": "#2a3f5f",
             "gridcolor": "white",
             "linecolor": "white",
             "minorgridcolor": "white",
             "startlinecolor": "#2a3f5f"
            },
            "baxis": {
             "endlinecolor": "#2a3f5f",
             "gridcolor": "white",
             "linecolor": "white",
             "minorgridcolor": "white",
             "startlinecolor": "#2a3f5f"
            },
            "type": "carpet"
           }
          ],
          "choropleth": [
           {
            "colorbar": {
             "outlinewidth": 0,
             "ticks": ""
            },
            "type": "choropleth"
           }
          ],
          "contour": [
           {
            "colorbar": {
             "outlinewidth": 0,
             "ticks": ""
            },
            "colorscale": [
             [
              0,
              "#0d0887"
             ],
             [
              0.1111111111111111,
              "#46039f"
             ],
             [
              0.2222222222222222,
              "#7201a8"
             ],
             [
              0.3333333333333333,
              "#9c179e"
             ],
             [
              0.4444444444444444,
              "#bd3786"
             ],
             [
              0.5555555555555556,
              "#d8576b"
             ],
             [
              0.6666666666666666,
              "#ed7953"
             ],
             [
              0.7777777777777778,
              "#fb9f3a"
             ],
             [
              0.8888888888888888,
              "#fdca26"
             ],
             [
              1,
              "#f0f921"
             ]
            ],
            "type": "contour"
           }
          ],
          "contourcarpet": [
           {
            "colorbar": {
             "outlinewidth": 0,
             "ticks": ""
            },
            "type": "contourcarpet"
           }
          ],
          "heatmap": [
           {
            "colorbar": {
             "outlinewidth": 0,
             "ticks": ""
            },
            "colorscale": [
             [
              0,
              "#0d0887"
             ],
             [
              0.1111111111111111,
              "#46039f"
             ],
             [
              0.2222222222222222,
              "#7201a8"
             ],
             [
              0.3333333333333333,
              "#9c179e"
             ],
             [
              0.4444444444444444,
              "#bd3786"
             ],
             [
              0.5555555555555556,
              "#d8576b"
             ],
             [
              0.6666666666666666,
              "#ed7953"
             ],
             [
              0.7777777777777778,
              "#fb9f3a"
             ],
             [
              0.8888888888888888,
              "#fdca26"
             ],
             [
              1,
              "#f0f921"
             ]
            ],
            "type": "heatmap"
           }
          ],
          "heatmapgl": [
           {
            "colorbar": {
             "outlinewidth": 0,
             "ticks": ""
            },
            "colorscale": [
             [
              0,
              "#0d0887"
             ],
             [
              0.1111111111111111,
              "#46039f"
             ],
             [
              0.2222222222222222,
              "#7201a8"
             ],
             [
              0.3333333333333333,
              "#9c179e"
             ],
             [
              0.4444444444444444,
              "#bd3786"
             ],
             [
              0.5555555555555556,
              "#d8576b"
             ],
             [
              0.6666666666666666,
              "#ed7953"
             ],
             [
              0.7777777777777778,
              "#fb9f3a"
             ],
             [
              0.8888888888888888,
              "#fdca26"
             ],
             [
              1,
              "#f0f921"
             ]
            ],
            "type": "heatmapgl"
           }
          ],
          "histogram": [
           {
            "marker": {
             "pattern": {
              "fillmode": "overlay",
              "size": 10,
              "solidity": 0.2
             }
            },
            "type": "histogram"
           }
          ],
          "histogram2d": [
           {
            "colorbar": {
             "outlinewidth": 0,
             "ticks": ""
            },
            "colorscale": [
             [
              0,
              "#0d0887"
             ],
             [
              0.1111111111111111,
              "#46039f"
             ],
             [
              0.2222222222222222,
              "#7201a8"
             ],
             [
              0.3333333333333333,
              "#9c179e"
             ],
             [
              0.4444444444444444,
              "#bd3786"
             ],
             [
              0.5555555555555556,
              "#d8576b"
             ],
             [
              0.6666666666666666,
              "#ed7953"
             ],
             [
              0.7777777777777778,
              "#fb9f3a"
             ],
             [
              0.8888888888888888,
              "#fdca26"
             ],
             [
              1,
              "#f0f921"
             ]
            ],
            "type": "histogram2d"
           }
          ],
          "histogram2dcontour": [
           {
            "colorbar": {
             "outlinewidth": 0,
             "ticks": ""
            },
            "colorscale": [
             [
              0,
              "#0d0887"
             ],
             [
              0.1111111111111111,
              "#46039f"
             ],
             [
              0.2222222222222222,
              "#7201a8"
             ],
             [
              0.3333333333333333,
              "#9c179e"
             ],
             [
              0.4444444444444444,
              "#bd3786"
             ],
             [
              0.5555555555555556,
              "#d8576b"
             ],
             [
              0.6666666666666666,
              "#ed7953"
             ],
             [
              0.7777777777777778,
              "#fb9f3a"
             ],
             [
              0.8888888888888888,
              "#fdca26"
             ],
             [
              1,
              "#f0f921"
             ]
            ],
            "type": "histogram2dcontour"
           }
          ],
          "mesh3d": [
           {
            "colorbar": {
             "outlinewidth": 0,
             "ticks": ""
            },
            "type": "mesh3d"
           }
          ],
          "parcoords": [
           {
            "line": {
             "colorbar": {
              "outlinewidth": 0,
              "ticks": ""
             }
            },
            "type": "parcoords"
           }
          ],
          "pie": [
           {
            "automargin": true,
            "type": "pie"
           }
          ],
          "scatter": [
           {
            "marker": {
             "colorbar": {
              "outlinewidth": 0,
              "ticks": ""
             }
            },
            "type": "scatter"
           }
          ],
          "scatter3d": [
           {
            "line": {
             "colorbar": {
              "outlinewidth": 0,
              "ticks": ""
             }
            },
            "marker": {
             "colorbar": {
              "outlinewidth": 0,
              "ticks": ""
             }
            },
            "type": "scatter3d"
           }
          ],
          "scattercarpet": [
           {
            "marker": {
             "colorbar": {
              "outlinewidth": 0,
              "ticks": ""
             }
            },
            "type": "scattercarpet"
           }
          ],
          "scattergeo": [
           {
            "marker": {
             "colorbar": {
              "outlinewidth": 0,
              "ticks": ""
             }
            },
            "type": "scattergeo"
           }
          ],
          "scattergl": [
           {
            "marker": {
             "colorbar": {
              "outlinewidth": 0,
              "ticks": ""
             }
            },
            "type": "scattergl"
           }
          ],
          "scattermapbox": [
           {
            "marker": {
             "colorbar": {
              "outlinewidth": 0,
              "ticks": ""
             }
            },
            "type": "scattermapbox"
           }
          ],
          "scatterpolar": [
           {
            "marker": {
             "colorbar": {
              "outlinewidth": 0,
              "ticks": ""
             }
            },
            "type": "scatterpolar"
           }
          ],
          "scatterpolargl": [
           {
            "marker": {
             "colorbar": {
              "outlinewidth": 0,
              "ticks": ""
             }
            },
            "type": "scatterpolargl"
           }
          ],
          "scatterternary": [
           {
            "marker": {
             "colorbar": {
              "outlinewidth": 0,
              "ticks": ""
             }
            },
            "type": "scatterternary"
           }
          ],
          "surface": [
           {
            "colorbar": {
             "outlinewidth": 0,
             "ticks": ""
            },
            "colorscale": [
             [
              0,
              "#0d0887"
             ],
             [
              0.1111111111111111,
              "#46039f"
             ],
             [
              0.2222222222222222,
              "#7201a8"
             ],
             [
              0.3333333333333333,
              "#9c179e"
             ],
             [
              0.4444444444444444,
              "#bd3786"
             ],
             [
              0.5555555555555556,
              "#d8576b"
             ],
             [
              0.6666666666666666,
              "#ed7953"
             ],
             [
              0.7777777777777778,
              "#fb9f3a"
             ],
             [
              0.8888888888888888,
              "#fdca26"
             ],
             [
              1,
              "#f0f921"
             ]
            ],
            "type": "surface"
           }
          ],
          "table": [
           {
            "cells": {
             "fill": {
              "color": "#EBF0F8"
             },
             "line": {
              "color": "white"
             }
            },
            "header": {
             "fill": {
              "color": "#C8D4E3"
             },
             "line": {
              "color": "white"
             }
            },
            "type": "table"
           }
          ]
         },
         "layout": {
          "annotationdefaults": {
           "arrowcolor": "#2a3f5f",
           "arrowhead": 0,
           "arrowwidth": 1
          },
          "autotypenumbers": "strict",
          "coloraxis": {
           "colorbar": {
            "outlinewidth": 0,
            "ticks": ""
           }
          },
          "colorscale": {
           "diverging": [
            [
             0,
             "#8e0152"
            ],
            [
             0.1,
             "#c51b7d"
            ],
            [
             0.2,
             "#de77ae"
            ],
            [
             0.3,
             "#f1b6da"
            ],
            [
             0.4,
             "#fde0ef"
            ],
            [
             0.5,
             "#f7f7f7"
            ],
            [
             0.6,
             "#e6f5d0"
            ],
            [
             0.7,
             "#b8e186"
            ],
            [
             0.8,
             "#7fbc41"
            ],
            [
             0.9,
             "#4d9221"
            ],
            [
             1,
             "#276419"
            ]
           ],
           "sequential": [
            [
             0,
             "#0d0887"
            ],
            [
             0.1111111111111111,
             "#46039f"
            ],
            [
             0.2222222222222222,
             "#7201a8"
            ],
            [
             0.3333333333333333,
             "#9c179e"
            ],
            [
             0.4444444444444444,
             "#bd3786"
            ],
            [
             0.5555555555555556,
             "#d8576b"
            ],
            [
             0.6666666666666666,
             "#ed7953"
            ],
            [
             0.7777777777777778,
             "#fb9f3a"
            ],
            [
             0.8888888888888888,
             "#fdca26"
            ],
            [
             1,
             "#f0f921"
            ]
           ],
           "sequentialminus": [
            [
             0,
             "#0d0887"
            ],
            [
             0.1111111111111111,
             "#46039f"
            ],
            [
             0.2222222222222222,
             "#7201a8"
            ],
            [
             0.3333333333333333,
             "#9c179e"
            ],
            [
             0.4444444444444444,
             "#bd3786"
            ],
            [
             0.5555555555555556,
             "#d8576b"
            ],
            [
             0.6666666666666666,
             "#ed7953"
            ],
            [
             0.7777777777777778,
             "#fb9f3a"
            ],
            [
             0.8888888888888888,
             "#fdca26"
            ],
            [
             1,
             "#f0f921"
            ]
           ]
          },
          "colorway": [
           "#636efa",
           "#EF553B",
           "#00cc96",
           "#ab63fa",
           "#FFA15A",
           "#19d3f3",
           "#FF6692",
           "#B6E880",
           "#FF97FF",
           "#FECB52"
          ],
          "font": {
           "color": "#2a3f5f"
          },
          "geo": {
           "bgcolor": "white",
           "lakecolor": "white",
           "landcolor": "#E5ECF6",
           "showlakes": true,
           "showland": true,
           "subunitcolor": "white"
          },
          "hoverlabel": {
           "align": "left"
          },
          "hovermode": "closest",
          "mapbox": {
           "style": "light"
          },
          "paper_bgcolor": "white",
          "plot_bgcolor": "#E5ECF6",
          "polar": {
           "angularaxis": {
            "gridcolor": "white",
            "linecolor": "white",
            "ticks": ""
           },
           "bgcolor": "#E5ECF6",
           "radialaxis": {
            "gridcolor": "white",
            "linecolor": "white",
            "ticks": ""
           }
          },
          "scene": {
           "xaxis": {
            "backgroundcolor": "#E5ECF6",
            "gridcolor": "white",
            "gridwidth": 2,
            "linecolor": "white",
            "showbackground": true,
            "ticks": "",
            "zerolinecolor": "white"
           },
           "yaxis": {
            "backgroundcolor": "#E5ECF6",
            "gridcolor": "white",
            "gridwidth": 2,
            "linecolor": "white",
            "showbackground": true,
            "ticks": "",
            "zerolinecolor": "white"
           },
           "zaxis": {
            "backgroundcolor": "#E5ECF6",
            "gridcolor": "white",
            "gridwidth": 2,
            "linecolor": "white",
            "showbackground": true,
            "ticks": "",
            "zerolinecolor": "white"
           }
          },
          "shapedefaults": {
           "line": {
            "color": "#2a3f5f"
           }
          },
          "ternary": {
           "aaxis": {
            "gridcolor": "white",
            "linecolor": "white",
            "ticks": ""
           },
           "baxis": {
            "gridcolor": "white",
            "linecolor": "white",
            "ticks": ""
           },
           "bgcolor": "#E5ECF6",
           "caxis": {
            "gridcolor": "white",
            "linecolor": "white",
            "ticks": ""
           }
          },
          "title": {
           "x": 0.05
          },
          "xaxis": {
           "automargin": true,
           "gridcolor": "white",
           "linecolor": "white",
           "ticks": "",
           "title": {
            "standoff": 15
           },
           "zerolinecolor": "white",
           "zerolinewidth": 2
          },
          "yaxis": {
           "automargin": true,
           "gridcolor": "white",
           "linecolor": "white",
           "ticks": "",
           "title": {
            "standoff": 15
           },
           "zerolinecolor": "white",
           "zerolinewidth": 2
          }
         }
        },
        "title": {
         "font": {
          "color": "#4D5663"
         }
        },
        "xaxis": {
         "gridcolor": "#E1E5ED",
         "showgrid": true,
         "tickfont": {
          "color": "#4D5663"
         },
         "title": {
          "font": {
           "color": "#4D5663"
          },
          "text": ""
         },
         "zerolinecolor": "#E1E5ED"
        },
        "yaxis": {
         "gridcolor": "#E1E5ED",
         "showgrid": true,
         "tickfont": {
          "color": "#4D5663"
         },
         "title": {
          "font": {
           "color": "#4D5663"
          },
          "text": ""
         },
         "zerolinecolor": "#E1E5ED"
        }
       }
      },
      "text/html": [
       "<div>                            <div id=\"259e6b16-9c5d-4dfe-8e06-4e2da1136115\" class=\"plotly-graph-div\" style=\"height:525px; width:100%;\"></div>            <script type=\"text/javascript\">                require([\"plotly\"], function(Plotly) {                    window.PLOTLYENV=window.PLOTLYENV || {};\n",
       "                    window.PLOTLYENV.BASE_URL='https://plot.ly';                                    if (document.getElementById(\"259e6b16-9c5d-4dfe-8e06-4e2da1136115\")) {                    Plotly.newPlot(                        \"259e6b16-9c5d-4dfe-8e06-4e2da1136115\",                        [{\"colorscale\":[[0.0,\"rgb(165,0,38)\"],[0.1,\"rgb(215,48,39)\"],[0.2,\"rgb(244,109,67)\"],[0.3,\"rgb(253,174,97)\"],[0.4,\"rgb(254,224,144)\"],[0.5,\"rgb(255,255,191)\"],[0.6,\"rgb(224,243,248)\"],[0.7,\"rgb(171,217,233)\"],[0.8,\"rgb(116,173,209)\"],[0.9,\"rgb(69,117,180)\"],[1.0,\"rgb(49,54,149)\"]],\"type\":\"surface\",\"x\":[0,1,2,3,4],\"y\":[\"x\",\"y\",\"z\"],\"z\":[[1,2,3,4,5],[10,20,30,20,10],[5,4,3,2,1]]}],                        {\"legend\":{\"bgcolor\":\"#F5F6F9\",\"font\":{\"color\":\"#4D5663\"}},\"paper_bgcolor\":\"#F5F6F9\",\"plot_bgcolor\":\"#F5F6F9\",\"template\":{\"data\":{\"bar\":[{\"error_x\":{\"color\":\"#2a3f5f\"},\"error_y\":{\"color\":\"#2a3f5f\"},\"marker\":{\"line\":{\"color\":\"#E5ECF6\",\"width\":0.5},\"pattern\":{\"fillmode\":\"overlay\",\"size\":10,\"solidity\":0.2}},\"type\":\"bar\"}],\"barpolar\":[{\"marker\":{\"line\":{\"color\":\"#E5ECF6\",\"width\":0.5},\"pattern\":{\"fillmode\":\"overlay\",\"size\":10,\"solidity\":0.2}},\"type\":\"barpolar\"}],\"carpet\":[{\"aaxis\":{\"endlinecolor\":\"#2a3f5f\",\"gridcolor\":\"white\",\"linecolor\":\"white\",\"minorgridcolor\":\"white\",\"startlinecolor\":\"#2a3f5f\"},\"baxis\":{\"endlinecolor\":\"#2a3f5f\",\"gridcolor\":\"white\",\"linecolor\":\"white\",\"minorgridcolor\":\"white\",\"startlinecolor\":\"#2a3f5f\"},\"type\":\"carpet\"}],\"choropleth\":[{\"colorbar\":{\"outlinewidth\":0,\"ticks\":\"\"},\"type\":\"choropleth\"}],\"contour\":[{\"colorbar\":{\"outlinewidth\":0,\"ticks\":\"\"},\"colorscale\":[[0.0,\"#0d0887\"],[0.1111111111111111,\"#46039f\"],[0.2222222222222222,\"#7201a8\"],[0.3333333333333333,\"#9c179e\"],[0.4444444444444444,\"#bd3786\"],[0.5555555555555556,\"#d8576b\"],[0.6666666666666666,\"#ed7953\"],[0.7777777777777778,\"#fb9f3a\"],[0.8888888888888888,\"#fdca26\"],[1.0,\"#f0f921\"]],\"type\":\"contour\"}],\"contourcarpet\":[{\"colorbar\":{\"outlinewidth\":0,\"ticks\":\"\"},\"type\":\"contourcarpet\"}],\"heatmap\":[{\"colorbar\":{\"outlinewidth\":0,\"ticks\":\"\"},\"colorscale\":[[0.0,\"#0d0887\"],[0.1111111111111111,\"#46039f\"],[0.2222222222222222,\"#7201a8\"],[0.3333333333333333,\"#9c179e\"],[0.4444444444444444,\"#bd3786\"],[0.5555555555555556,\"#d8576b\"],[0.6666666666666666,\"#ed7953\"],[0.7777777777777778,\"#fb9f3a\"],[0.8888888888888888,\"#fdca26\"],[1.0,\"#f0f921\"]],\"type\":\"heatmap\"}],\"heatmapgl\":[{\"colorbar\":{\"outlinewidth\":0,\"ticks\":\"\"},\"colorscale\":[[0.0,\"#0d0887\"],[0.1111111111111111,\"#46039f\"],[0.2222222222222222,\"#7201a8\"],[0.3333333333333333,\"#9c179e\"],[0.4444444444444444,\"#bd3786\"],[0.5555555555555556,\"#d8576b\"],[0.6666666666666666,\"#ed7953\"],[0.7777777777777778,\"#fb9f3a\"],[0.8888888888888888,\"#fdca26\"],[1.0,\"#f0f921\"]],\"type\":\"heatmapgl\"}],\"histogram\":[{\"marker\":{\"pattern\":{\"fillmode\":\"overlay\",\"size\":10,\"solidity\":0.2}},\"type\":\"histogram\"}],\"histogram2d\":[{\"colorbar\":{\"outlinewidth\":0,\"ticks\":\"\"},\"colorscale\":[[0.0,\"#0d0887\"],[0.1111111111111111,\"#46039f\"],[0.2222222222222222,\"#7201a8\"],[0.3333333333333333,\"#9c179e\"],[0.4444444444444444,\"#bd3786\"],[0.5555555555555556,\"#d8576b\"],[0.6666666666666666,\"#ed7953\"],[0.7777777777777778,\"#fb9f3a\"],[0.8888888888888888,\"#fdca26\"],[1.0,\"#f0f921\"]],\"type\":\"histogram2d\"}],\"histogram2dcontour\":[{\"colorbar\":{\"outlinewidth\":0,\"ticks\":\"\"},\"colorscale\":[[0.0,\"#0d0887\"],[0.1111111111111111,\"#46039f\"],[0.2222222222222222,\"#7201a8\"],[0.3333333333333333,\"#9c179e\"],[0.4444444444444444,\"#bd3786\"],[0.5555555555555556,\"#d8576b\"],[0.6666666666666666,\"#ed7953\"],[0.7777777777777778,\"#fb9f3a\"],[0.8888888888888888,\"#fdca26\"],[1.0,\"#f0f921\"]],\"type\":\"histogram2dcontour\"}],\"mesh3d\":[{\"colorbar\":{\"outlinewidth\":0,\"ticks\":\"\"},\"type\":\"mesh3d\"}],\"parcoords\":[{\"line\":{\"colorbar\":{\"outlinewidth\":0,\"ticks\":\"\"}},\"type\":\"parcoords\"}],\"pie\":[{\"automargin\":true,\"type\":\"pie\"}],\"scatter\":[{\"marker\":{\"colorbar\":{\"outlinewidth\":0,\"ticks\":\"\"}},\"type\":\"scatter\"}],\"scatter3d\":[{\"line\":{\"colorbar\":{\"outlinewidth\":0,\"ticks\":\"\"}},\"marker\":{\"colorbar\":{\"outlinewidth\":0,\"ticks\":\"\"}},\"type\":\"scatter3d\"}],\"scattercarpet\":[{\"marker\":{\"colorbar\":{\"outlinewidth\":0,\"ticks\":\"\"}},\"type\":\"scattercarpet\"}],\"scattergeo\":[{\"marker\":{\"colorbar\":{\"outlinewidth\":0,\"ticks\":\"\"}},\"type\":\"scattergeo\"}],\"scattergl\":[{\"marker\":{\"colorbar\":{\"outlinewidth\":0,\"ticks\":\"\"}},\"type\":\"scattergl\"}],\"scattermapbox\":[{\"marker\":{\"colorbar\":{\"outlinewidth\":0,\"ticks\":\"\"}},\"type\":\"scattermapbox\"}],\"scatterpolar\":[{\"marker\":{\"colorbar\":{\"outlinewidth\":0,\"ticks\":\"\"}},\"type\":\"scatterpolar\"}],\"scatterpolargl\":[{\"marker\":{\"colorbar\":{\"outlinewidth\":0,\"ticks\":\"\"}},\"type\":\"scatterpolargl\"}],\"scatterternary\":[{\"marker\":{\"colorbar\":{\"outlinewidth\":0,\"ticks\":\"\"}},\"type\":\"scatterternary\"}],\"surface\":[{\"colorbar\":{\"outlinewidth\":0,\"ticks\":\"\"},\"colorscale\":[[0.0,\"#0d0887\"],[0.1111111111111111,\"#46039f\"],[0.2222222222222222,\"#7201a8\"],[0.3333333333333333,\"#9c179e\"],[0.4444444444444444,\"#bd3786\"],[0.5555555555555556,\"#d8576b\"],[0.6666666666666666,\"#ed7953\"],[0.7777777777777778,\"#fb9f3a\"],[0.8888888888888888,\"#fdca26\"],[1.0,\"#f0f921\"]],\"type\":\"surface\"}],\"table\":[{\"cells\":{\"fill\":{\"color\":\"#EBF0F8\"},\"line\":{\"color\":\"white\"}},\"header\":{\"fill\":{\"color\":\"#C8D4E3\"},\"line\":{\"color\":\"white\"}},\"type\":\"table\"}]},\"layout\":{\"annotationdefaults\":{\"arrowcolor\":\"#2a3f5f\",\"arrowhead\":0,\"arrowwidth\":1},\"autotypenumbers\":\"strict\",\"coloraxis\":{\"colorbar\":{\"outlinewidth\":0,\"ticks\":\"\"}},\"colorscale\":{\"diverging\":[[0,\"#8e0152\"],[0.1,\"#c51b7d\"],[0.2,\"#de77ae\"],[0.3,\"#f1b6da\"],[0.4,\"#fde0ef\"],[0.5,\"#f7f7f7\"],[0.6,\"#e6f5d0\"],[0.7,\"#b8e186\"],[0.8,\"#7fbc41\"],[0.9,\"#4d9221\"],[1,\"#276419\"]],\"sequential\":[[0.0,\"#0d0887\"],[0.1111111111111111,\"#46039f\"],[0.2222222222222222,\"#7201a8\"],[0.3333333333333333,\"#9c179e\"],[0.4444444444444444,\"#bd3786\"],[0.5555555555555556,\"#d8576b\"],[0.6666666666666666,\"#ed7953\"],[0.7777777777777778,\"#fb9f3a\"],[0.8888888888888888,\"#fdca26\"],[1.0,\"#f0f921\"]],\"sequentialminus\":[[0.0,\"#0d0887\"],[0.1111111111111111,\"#46039f\"],[0.2222222222222222,\"#7201a8\"],[0.3333333333333333,\"#9c179e\"],[0.4444444444444444,\"#bd3786\"],[0.5555555555555556,\"#d8576b\"],[0.6666666666666666,\"#ed7953\"],[0.7777777777777778,\"#fb9f3a\"],[0.8888888888888888,\"#fdca26\"],[1.0,\"#f0f921\"]]},\"colorway\":[\"#636efa\",\"#EF553B\",\"#00cc96\",\"#ab63fa\",\"#FFA15A\",\"#19d3f3\",\"#FF6692\",\"#B6E880\",\"#FF97FF\",\"#FECB52\"],\"font\":{\"color\":\"#2a3f5f\"},\"geo\":{\"bgcolor\":\"white\",\"lakecolor\":\"white\",\"landcolor\":\"#E5ECF6\",\"showlakes\":true,\"showland\":true,\"subunitcolor\":\"white\"},\"hoverlabel\":{\"align\":\"left\"},\"hovermode\":\"closest\",\"mapbox\":{\"style\":\"light\"},\"paper_bgcolor\":\"white\",\"plot_bgcolor\":\"#E5ECF6\",\"polar\":{\"angularaxis\":{\"gridcolor\":\"white\",\"linecolor\":\"white\",\"ticks\":\"\"},\"bgcolor\":\"#E5ECF6\",\"radialaxis\":{\"gridcolor\":\"white\",\"linecolor\":\"white\",\"ticks\":\"\"}},\"scene\":{\"xaxis\":{\"backgroundcolor\":\"#E5ECF6\",\"gridcolor\":\"white\",\"gridwidth\":2,\"linecolor\":\"white\",\"showbackground\":true,\"ticks\":\"\",\"zerolinecolor\":\"white\"},\"yaxis\":{\"backgroundcolor\":\"#E5ECF6\",\"gridcolor\":\"white\",\"gridwidth\":2,\"linecolor\":\"white\",\"showbackground\":true,\"ticks\":\"\",\"zerolinecolor\":\"white\"},\"zaxis\":{\"backgroundcolor\":\"#E5ECF6\",\"gridcolor\":\"white\",\"gridwidth\":2,\"linecolor\":\"white\",\"showbackground\":true,\"ticks\":\"\",\"zerolinecolor\":\"white\"}},\"shapedefaults\":{\"line\":{\"color\":\"#2a3f5f\"}},\"ternary\":{\"aaxis\":{\"gridcolor\":\"white\",\"linecolor\":\"white\",\"ticks\":\"\"},\"baxis\":{\"gridcolor\":\"white\",\"linecolor\":\"white\",\"ticks\":\"\"},\"bgcolor\":\"#E5ECF6\",\"caxis\":{\"gridcolor\":\"white\",\"linecolor\":\"white\",\"ticks\":\"\"}},\"title\":{\"x\":0.05},\"xaxis\":{\"automargin\":true,\"gridcolor\":\"white\",\"linecolor\":\"white\",\"ticks\":\"\",\"title\":{\"standoff\":15},\"zerolinecolor\":\"white\",\"zerolinewidth\":2},\"yaxis\":{\"automargin\":true,\"gridcolor\":\"white\",\"linecolor\":\"white\",\"ticks\":\"\",\"title\":{\"standoff\":15},\"zerolinecolor\":\"white\",\"zerolinewidth\":2}}},\"title\":{\"font\":{\"color\":\"#4D5663\"}},\"xaxis\":{\"gridcolor\":\"#E1E5ED\",\"showgrid\":true,\"tickfont\":{\"color\":\"#4D5663\"},\"title\":{\"font\":{\"color\":\"#4D5663\"},\"text\":\"\"},\"zerolinecolor\":\"#E1E5ED\"},\"yaxis\":{\"gridcolor\":\"#E1E5ED\",\"showgrid\":true,\"tickfont\":{\"color\":\"#4D5663\"},\"title\":{\"font\":{\"color\":\"#4D5663\"},\"text\":\"\"},\"zerolinecolor\":\"#E1E5ED\"}},                        {\"showLink\": true, \"linkText\": \"Export to plot.ly\", \"plotlyServerURL\": \"https://plot.ly\", \"responsive\": true}                    ).then(function(){\n",
       "                            \n",
       "var gd = document.getElementById('259e6b16-9c5d-4dfe-8e06-4e2da1136115');\n",
       "var x = new MutationObserver(function (mutations, observer) {{\n",
       "        var display = window.getComputedStyle(gd).display;\n",
       "        if (!display || display === 'none') {{\n",
       "            console.log([gd, 'removed!']);\n",
       "            Plotly.purge(gd);\n",
       "            observer.disconnect();\n",
       "        }}\n",
       "}});\n",
       "\n",
       "// Listen for the removal of the full notebook cells\n",
       "var notebookContainer = gd.closest('#notebook-container');\n",
       "if (notebookContainer) {{\n",
       "    x.observe(notebookContainer, {childList: true});\n",
       "}}\n",
       "\n",
       "// Listen for the clearing of the current output cell\n",
       "var outputEl = gd.closest('.output');\n",
       "if (outputEl) {{\n",
       "    x.observe(outputEl, {childList: true});\n",
       "}}\n",
       "\n",
       "                        })                };                });            </script>        </div>"
      ]
     },
     "metadata": {},
     "output_type": "display_data"
    }
   ],
   "source": [
    "df3.iplot(kind='surface',colorscale='rdylbu')"
   ]
  },
  {
   "cell_type": "code",
   "execution_count": 42,
   "id": "e3a128d2",
   "metadata": {},
   "outputs": [],
   "source": [
    "#histogram"
   ]
  },
  {
   "cell_type": "code",
   "execution_count": 45,
   "id": "b6135921",
   "metadata": {},
   "outputs": [
    {
     "data": {
      "application/vnd.plotly.v1+json": {
       "config": {
        "linkText": "Export to plot.ly",
        "plotlyServerURL": "https://plot.ly",
        "showLink": true
       },
       "data": [
        {
         "histfunc": "count",
         "histnorm": "",
         "marker": {
          "color": "rgba(255, 153, 51, 1.0)",
          "line": {
           "color": "#4D5663",
           "width": 1.3
          }
         },
         "name": "A",
         "nbinsx": 50,
         "opacity": 0.8,
         "orientation": "v",
         "type": "histogram",
         "x": [
          -0.34225299009874355,
          0.4892447760011251,
          0.6289296113249515,
          -0.9623444735331236,
          0.5218374246730623,
          1.0872779779546433,
          -2.5446001105676275,
          -0.2858836687280843,
          1.3065777779854995,
          -2.4104707774726113,
          1.3369186035954843,
          0.3838707492935451,
          -0.5526656706871299,
          -0.523243795919335,
          -0.5219209505049524,
          0.7876928140633233,
          -0.9458273989118097,
          0.6798036848133264,
          -0.7326321084090412,
          2.9676666789696204,
          -0.05694316110548828,
          -0.3901687948679766,
          0.39042317054449927,
          -0.5097476850302313,
          -0.06005776882918707,
          1.8651889477854269,
          0.6825596947887341,
          -0.660930834038989,
          0.7457389149047722,
          0.5831350759677145,
          0.20565331727263178,
          0.12137563657220368,
          0.14222541475987407,
          -0.21964030922882513,
          -0.1403522050946297,
          0.9130048247460788,
          -0.5324825569805095,
          0.8357026232545052,
          -0.05136640945025422,
          -0.15442903874892236,
          0.4427417326955754,
          -1.4618826570001109,
          -0.23457977919541678,
          1.5819006525811172,
          1.7673116734486296,
          0.5244123082679875,
          -1.4960518062062593,
          -0.08993988733773665,
          0.8209575792192505,
          0.277831732542309,
          1.9225576880083868,
          1.757171966228769,
          -2.138688527959561,
          -1.3709748402957949,
          -0.7155997219888818,
          0.3317227996255702,
          -1.0043614591743062,
          -1.0261278984258224,
          -1.4276290468878337,
          -1.0891931758991331,
          0.2035269789201755,
          0.02473667551913148,
          0.19551292413294072,
          -0.19036560623878837,
          -1.8010591597777204,
          0.8032033734232925,
          -1.0990490358758565,
          0.7760903618580065,
          -0.5271828141604505,
          -0.7383131855752465,
          -0.27543257249948844,
          -0.037819243298348515,
          1.2032094442658468,
          0.785084605957565,
          0.7503288870253916,
          -0.8472573692739707,
          -0.37625320843617843,
          -1.2657485333486633,
          1.7888324677330751,
          0.7499899464558957,
          0.3247253443598456,
          1.1096782207812264,
          0.28418622192332155,
          0.8318537645554853,
          2.0139557344103043,
          0.3476274485672122,
          -0.7967921761246892,
          -0.12058745799601407,
          0.43531389145934873,
          0.35347704597191093,
          -1.3720175798793395,
          -1.2811737166611563,
          0.04571690779276586,
          1.8411898245359177,
          -0.34353168706576764,
          1.0133136240424316,
          0.31479801507956323,
          2.1145539751315687,
          -1.0277828928921748,
          -0.7838019655038211
         ]
        }
       ],
       "layout": {
        "barmode": "overlay",
        "legend": {
         "bgcolor": "#F5F6F9",
         "font": {
          "color": "#4D5663"
         }
        },
        "paper_bgcolor": "#F5F6F9",
        "plot_bgcolor": "#F5F6F9",
        "template": {
         "data": {
          "bar": [
           {
            "error_x": {
             "color": "#2a3f5f"
            },
            "error_y": {
             "color": "#2a3f5f"
            },
            "marker": {
             "line": {
              "color": "#E5ECF6",
              "width": 0.5
             },
             "pattern": {
              "fillmode": "overlay",
              "size": 10,
              "solidity": 0.2
             }
            },
            "type": "bar"
           }
          ],
          "barpolar": [
           {
            "marker": {
             "line": {
              "color": "#E5ECF6",
              "width": 0.5
             },
             "pattern": {
              "fillmode": "overlay",
              "size": 10,
              "solidity": 0.2
             }
            },
            "type": "barpolar"
           }
          ],
          "carpet": [
           {
            "aaxis": {
             "endlinecolor": "#2a3f5f",
             "gridcolor": "white",
             "linecolor": "white",
             "minorgridcolor": "white",
             "startlinecolor": "#2a3f5f"
            },
            "baxis": {
             "endlinecolor": "#2a3f5f",
             "gridcolor": "white",
             "linecolor": "white",
             "minorgridcolor": "white",
             "startlinecolor": "#2a3f5f"
            },
            "type": "carpet"
           }
          ],
          "choropleth": [
           {
            "colorbar": {
             "outlinewidth": 0,
             "ticks": ""
            },
            "type": "choropleth"
           }
          ],
          "contour": [
           {
            "colorbar": {
             "outlinewidth": 0,
             "ticks": ""
            },
            "colorscale": [
             [
              0,
              "#0d0887"
             ],
             [
              0.1111111111111111,
              "#46039f"
             ],
             [
              0.2222222222222222,
              "#7201a8"
             ],
             [
              0.3333333333333333,
              "#9c179e"
             ],
             [
              0.4444444444444444,
              "#bd3786"
             ],
             [
              0.5555555555555556,
              "#d8576b"
             ],
             [
              0.6666666666666666,
              "#ed7953"
             ],
             [
              0.7777777777777778,
              "#fb9f3a"
             ],
             [
              0.8888888888888888,
              "#fdca26"
             ],
             [
              1,
              "#f0f921"
             ]
            ],
            "type": "contour"
           }
          ],
          "contourcarpet": [
           {
            "colorbar": {
             "outlinewidth": 0,
             "ticks": ""
            },
            "type": "contourcarpet"
           }
          ],
          "heatmap": [
           {
            "colorbar": {
             "outlinewidth": 0,
             "ticks": ""
            },
            "colorscale": [
             [
              0,
              "#0d0887"
             ],
             [
              0.1111111111111111,
              "#46039f"
             ],
             [
              0.2222222222222222,
              "#7201a8"
             ],
             [
              0.3333333333333333,
              "#9c179e"
             ],
             [
              0.4444444444444444,
              "#bd3786"
             ],
             [
              0.5555555555555556,
              "#d8576b"
             ],
             [
              0.6666666666666666,
              "#ed7953"
             ],
             [
              0.7777777777777778,
              "#fb9f3a"
             ],
             [
              0.8888888888888888,
              "#fdca26"
             ],
             [
              1,
              "#f0f921"
             ]
            ],
            "type": "heatmap"
           }
          ],
          "heatmapgl": [
           {
            "colorbar": {
             "outlinewidth": 0,
             "ticks": ""
            },
            "colorscale": [
             [
              0,
              "#0d0887"
             ],
             [
              0.1111111111111111,
              "#46039f"
             ],
             [
              0.2222222222222222,
              "#7201a8"
             ],
             [
              0.3333333333333333,
              "#9c179e"
             ],
             [
              0.4444444444444444,
              "#bd3786"
             ],
             [
              0.5555555555555556,
              "#d8576b"
             ],
             [
              0.6666666666666666,
              "#ed7953"
             ],
             [
              0.7777777777777778,
              "#fb9f3a"
             ],
             [
              0.8888888888888888,
              "#fdca26"
             ],
             [
              1,
              "#f0f921"
             ]
            ],
            "type": "heatmapgl"
           }
          ],
          "histogram": [
           {
            "marker": {
             "pattern": {
              "fillmode": "overlay",
              "size": 10,
              "solidity": 0.2
             }
            },
            "type": "histogram"
           }
          ],
          "histogram2d": [
           {
            "colorbar": {
             "outlinewidth": 0,
             "ticks": ""
            },
            "colorscale": [
             [
              0,
              "#0d0887"
             ],
             [
              0.1111111111111111,
              "#46039f"
             ],
             [
              0.2222222222222222,
              "#7201a8"
             ],
             [
              0.3333333333333333,
              "#9c179e"
             ],
             [
              0.4444444444444444,
              "#bd3786"
             ],
             [
              0.5555555555555556,
              "#d8576b"
             ],
             [
              0.6666666666666666,
              "#ed7953"
             ],
             [
              0.7777777777777778,
              "#fb9f3a"
             ],
             [
              0.8888888888888888,
              "#fdca26"
             ],
             [
              1,
              "#f0f921"
             ]
            ],
            "type": "histogram2d"
           }
          ],
          "histogram2dcontour": [
           {
            "colorbar": {
             "outlinewidth": 0,
             "ticks": ""
            },
            "colorscale": [
             [
              0,
              "#0d0887"
             ],
             [
              0.1111111111111111,
              "#46039f"
             ],
             [
              0.2222222222222222,
              "#7201a8"
             ],
             [
              0.3333333333333333,
              "#9c179e"
             ],
             [
              0.4444444444444444,
              "#bd3786"
             ],
             [
              0.5555555555555556,
              "#d8576b"
             ],
             [
              0.6666666666666666,
              "#ed7953"
             ],
             [
              0.7777777777777778,
              "#fb9f3a"
             ],
             [
              0.8888888888888888,
              "#fdca26"
             ],
             [
              1,
              "#f0f921"
             ]
            ],
            "type": "histogram2dcontour"
           }
          ],
          "mesh3d": [
           {
            "colorbar": {
             "outlinewidth": 0,
             "ticks": ""
            },
            "type": "mesh3d"
           }
          ],
          "parcoords": [
           {
            "line": {
             "colorbar": {
              "outlinewidth": 0,
              "ticks": ""
             }
            },
            "type": "parcoords"
           }
          ],
          "pie": [
           {
            "automargin": true,
            "type": "pie"
           }
          ],
          "scatter": [
           {
            "marker": {
             "colorbar": {
              "outlinewidth": 0,
              "ticks": ""
             }
            },
            "type": "scatter"
           }
          ],
          "scatter3d": [
           {
            "line": {
             "colorbar": {
              "outlinewidth": 0,
              "ticks": ""
             }
            },
            "marker": {
             "colorbar": {
              "outlinewidth": 0,
              "ticks": ""
             }
            },
            "type": "scatter3d"
           }
          ],
          "scattercarpet": [
           {
            "marker": {
             "colorbar": {
              "outlinewidth": 0,
              "ticks": ""
             }
            },
            "type": "scattercarpet"
           }
          ],
          "scattergeo": [
           {
            "marker": {
             "colorbar": {
              "outlinewidth": 0,
              "ticks": ""
             }
            },
            "type": "scattergeo"
           }
          ],
          "scattergl": [
           {
            "marker": {
             "colorbar": {
              "outlinewidth": 0,
              "ticks": ""
             }
            },
            "type": "scattergl"
           }
          ],
          "scattermapbox": [
           {
            "marker": {
             "colorbar": {
              "outlinewidth": 0,
              "ticks": ""
             }
            },
            "type": "scattermapbox"
           }
          ],
          "scatterpolar": [
           {
            "marker": {
             "colorbar": {
              "outlinewidth": 0,
              "ticks": ""
             }
            },
            "type": "scatterpolar"
           }
          ],
          "scatterpolargl": [
           {
            "marker": {
             "colorbar": {
              "outlinewidth": 0,
              "ticks": ""
             }
            },
            "type": "scatterpolargl"
           }
          ],
          "scatterternary": [
           {
            "marker": {
             "colorbar": {
              "outlinewidth": 0,
              "ticks": ""
             }
            },
            "type": "scatterternary"
           }
          ],
          "surface": [
           {
            "colorbar": {
             "outlinewidth": 0,
             "ticks": ""
            },
            "colorscale": [
             [
              0,
              "#0d0887"
             ],
             [
              0.1111111111111111,
              "#46039f"
             ],
             [
              0.2222222222222222,
              "#7201a8"
             ],
             [
              0.3333333333333333,
              "#9c179e"
             ],
             [
              0.4444444444444444,
              "#bd3786"
             ],
             [
              0.5555555555555556,
              "#d8576b"
             ],
             [
              0.6666666666666666,
              "#ed7953"
             ],
             [
              0.7777777777777778,
              "#fb9f3a"
             ],
             [
              0.8888888888888888,
              "#fdca26"
             ],
             [
              1,
              "#f0f921"
             ]
            ],
            "type": "surface"
           }
          ],
          "table": [
           {
            "cells": {
             "fill": {
              "color": "#EBF0F8"
             },
             "line": {
              "color": "white"
             }
            },
            "header": {
             "fill": {
              "color": "#C8D4E3"
             },
             "line": {
              "color": "white"
             }
            },
            "type": "table"
           }
          ]
         },
         "layout": {
          "annotationdefaults": {
           "arrowcolor": "#2a3f5f",
           "arrowhead": 0,
           "arrowwidth": 1
          },
          "autotypenumbers": "strict",
          "coloraxis": {
           "colorbar": {
            "outlinewidth": 0,
            "ticks": ""
           }
          },
          "colorscale": {
           "diverging": [
            [
             0,
             "#8e0152"
            ],
            [
             0.1,
             "#c51b7d"
            ],
            [
             0.2,
             "#de77ae"
            ],
            [
             0.3,
             "#f1b6da"
            ],
            [
             0.4,
             "#fde0ef"
            ],
            [
             0.5,
             "#f7f7f7"
            ],
            [
             0.6,
             "#e6f5d0"
            ],
            [
             0.7,
             "#b8e186"
            ],
            [
             0.8,
             "#7fbc41"
            ],
            [
             0.9,
             "#4d9221"
            ],
            [
             1,
             "#276419"
            ]
           ],
           "sequential": [
            [
             0,
             "#0d0887"
            ],
            [
             0.1111111111111111,
             "#46039f"
            ],
            [
             0.2222222222222222,
             "#7201a8"
            ],
            [
             0.3333333333333333,
             "#9c179e"
            ],
            [
             0.4444444444444444,
             "#bd3786"
            ],
            [
             0.5555555555555556,
             "#d8576b"
            ],
            [
             0.6666666666666666,
             "#ed7953"
            ],
            [
             0.7777777777777778,
             "#fb9f3a"
            ],
            [
             0.8888888888888888,
             "#fdca26"
            ],
            [
             1,
             "#f0f921"
            ]
           ],
           "sequentialminus": [
            [
             0,
             "#0d0887"
            ],
            [
             0.1111111111111111,
             "#46039f"
            ],
            [
             0.2222222222222222,
             "#7201a8"
            ],
            [
             0.3333333333333333,
             "#9c179e"
            ],
            [
             0.4444444444444444,
             "#bd3786"
            ],
            [
             0.5555555555555556,
             "#d8576b"
            ],
            [
             0.6666666666666666,
             "#ed7953"
            ],
            [
             0.7777777777777778,
             "#fb9f3a"
            ],
            [
             0.8888888888888888,
             "#fdca26"
            ],
            [
             1,
             "#f0f921"
            ]
           ]
          },
          "colorway": [
           "#636efa",
           "#EF553B",
           "#00cc96",
           "#ab63fa",
           "#FFA15A",
           "#19d3f3",
           "#FF6692",
           "#B6E880",
           "#FF97FF",
           "#FECB52"
          ],
          "font": {
           "color": "#2a3f5f"
          },
          "geo": {
           "bgcolor": "white",
           "lakecolor": "white",
           "landcolor": "#E5ECF6",
           "showlakes": true,
           "showland": true,
           "subunitcolor": "white"
          },
          "hoverlabel": {
           "align": "left"
          },
          "hovermode": "closest",
          "mapbox": {
           "style": "light"
          },
          "paper_bgcolor": "white",
          "plot_bgcolor": "#E5ECF6",
          "polar": {
           "angularaxis": {
            "gridcolor": "white",
            "linecolor": "white",
            "ticks": ""
           },
           "bgcolor": "#E5ECF6",
           "radialaxis": {
            "gridcolor": "white",
            "linecolor": "white",
            "ticks": ""
           }
          },
          "scene": {
           "xaxis": {
            "backgroundcolor": "#E5ECF6",
            "gridcolor": "white",
            "gridwidth": 2,
            "linecolor": "white",
            "showbackground": true,
            "ticks": "",
            "zerolinecolor": "white"
           },
           "yaxis": {
            "backgroundcolor": "#E5ECF6",
            "gridcolor": "white",
            "gridwidth": 2,
            "linecolor": "white",
            "showbackground": true,
            "ticks": "",
            "zerolinecolor": "white"
           },
           "zaxis": {
            "backgroundcolor": "#E5ECF6",
            "gridcolor": "white",
            "gridwidth": 2,
            "linecolor": "white",
            "showbackground": true,
            "ticks": "",
            "zerolinecolor": "white"
           }
          },
          "shapedefaults": {
           "line": {
            "color": "#2a3f5f"
           }
          },
          "ternary": {
           "aaxis": {
            "gridcolor": "white",
            "linecolor": "white",
            "ticks": ""
           },
           "baxis": {
            "gridcolor": "white",
            "linecolor": "white",
            "ticks": ""
           },
           "bgcolor": "#E5ECF6",
           "caxis": {
            "gridcolor": "white",
            "linecolor": "white",
            "ticks": ""
           }
          },
          "title": {
           "x": 0.05
          },
          "xaxis": {
           "automargin": true,
           "gridcolor": "white",
           "linecolor": "white",
           "ticks": "",
           "title": {
            "standoff": 15
           },
           "zerolinecolor": "white",
           "zerolinewidth": 2
          },
          "yaxis": {
           "automargin": true,
           "gridcolor": "white",
           "linecolor": "white",
           "ticks": "",
           "title": {
            "standoff": 15
           },
           "zerolinecolor": "white",
           "zerolinewidth": 2
          }
         }
        },
        "title": {
         "font": {
          "color": "#4D5663"
         }
        },
        "xaxis": {
         "gridcolor": "#E1E5ED",
         "showgrid": true,
         "tickfont": {
          "color": "#4D5663"
         },
         "title": {
          "font": {
           "color": "#4D5663"
          },
          "text": ""
         },
         "zerolinecolor": "#E1E5ED"
        },
        "yaxis": {
         "gridcolor": "#E1E5ED",
         "showgrid": true,
         "tickfont": {
          "color": "#4D5663"
         },
         "title": {
          "font": {
           "color": "#4D5663"
          },
          "text": ""
         },
         "zerolinecolor": "#E1E5ED"
        }
       }
      },
      "text/html": [
       "<div>                            <div id=\"a0079816-5a2c-4729-aa58-770ea4ab3eae\" class=\"plotly-graph-div\" style=\"height:525px; width:100%;\"></div>            <script type=\"text/javascript\">                require([\"plotly\"], function(Plotly) {                    window.PLOTLYENV=window.PLOTLYENV || {};\n",
       "                    window.PLOTLYENV.BASE_URL='https://plot.ly';                                    if (document.getElementById(\"a0079816-5a2c-4729-aa58-770ea4ab3eae\")) {                    Plotly.newPlot(                        \"a0079816-5a2c-4729-aa58-770ea4ab3eae\",                        [{\"histfunc\":\"count\",\"histnorm\":\"\",\"marker\":{\"color\":\"rgba(255, 153, 51, 1.0)\",\"line\":{\"color\":\"#4D5663\",\"width\":1.3}},\"name\":\"A\",\"nbinsx\":50,\"opacity\":0.8,\"orientation\":\"v\",\"type\":\"histogram\",\"x\":[-0.34225299009874355,0.4892447760011251,0.6289296113249515,-0.9623444735331236,0.5218374246730623,1.0872779779546433,-2.5446001105676275,-0.2858836687280843,1.3065777779854995,-2.4104707774726113,1.3369186035954843,0.3838707492935451,-0.5526656706871299,-0.523243795919335,-0.5219209505049524,0.7876928140633233,-0.9458273989118097,0.6798036848133264,-0.7326321084090412,2.9676666789696204,-0.05694316110548828,-0.3901687948679766,0.39042317054449927,-0.5097476850302313,-0.06005776882918707,1.8651889477854269,0.6825596947887341,-0.660930834038989,0.7457389149047722,0.5831350759677145,0.20565331727263178,0.12137563657220368,0.14222541475987407,-0.21964030922882513,-0.1403522050946297,0.9130048247460788,-0.5324825569805095,0.8357026232545052,-0.05136640945025422,-0.15442903874892236,0.4427417326955754,-1.4618826570001109,-0.23457977919541678,1.5819006525811172,1.7673116734486296,0.5244123082679875,-1.4960518062062593,-0.08993988733773665,0.8209575792192505,0.277831732542309,1.9225576880083868,1.757171966228769,-2.138688527959561,-1.3709748402957949,-0.7155997219888818,0.3317227996255702,-1.0043614591743062,-1.0261278984258224,-1.4276290468878337,-1.0891931758991331,0.2035269789201755,0.02473667551913148,0.19551292413294072,-0.19036560623878837,-1.8010591597777204,0.8032033734232925,-1.0990490358758565,0.7760903618580065,-0.5271828141604505,-0.7383131855752465,-0.27543257249948844,-0.037819243298348515,1.2032094442658468,0.785084605957565,0.7503288870253916,-0.8472573692739707,-0.37625320843617843,-1.2657485333486633,1.7888324677330751,0.7499899464558957,0.3247253443598456,1.1096782207812264,0.28418622192332155,0.8318537645554853,2.0139557344103043,0.3476274485672122,-0.7967921761246892,-0.12058745799601407,0.43531389145934873,0.35347704597191093,-1.3720175798793395,-1.2811737166611563,0.04571690779276586,1.8411898245359177,-0.34353168706576764,1.0133136240424316,0.31479801507956323,2.1145539751315687,-1.0277828928921748,-0.7838019655038211]}],                        {\"barmode\":\"overlay\",\"legend\":{\"bgcolor\":\"#F5F6F9\",\"font\":{\"color\":\"#4D5663\"}},\"paper_bgcolor\":\"#F5F6F9\",\"plot_bgcolor\":\"#F5F6F9\",\"template\":{\"data\":{\"bar\":[{\"error_x\":{\"color\":\"#2a3f5f\"},\"error_y\":{\"color\":\"#2a3f5f\"},\"marker\":{\"line\":{\"color\":\"#E5ECF6\",\"width\":0.5},\"pattern\":{\"fillmode\":\"overlay\",\"size\":10,\"solidity\":0.2}},\"type\":\"bar\"}],\"barpolar\":[{\"marker\":{\"line\":{\"color\":\"#E5ECF6\",\"width\":0.5},\"pattern\":{\"fillmode\":\"overlay\",\"size\":10,\"solidity\":0.2}},\"type\":\"barpolar\"}],\"carpet\":[{\"aaxis\":{\"endlinecolor\":\"#2a3f5f\",\"gridcolor\":\"white\",\"linecolor\":\"white\",\"minorgridcolor\":\"white\",\"startlinecolor\":\"#2a3f5f\"},\"baxis\":{\"endlinecolor\":\"#2a3f5f\",\"gridcolor\":\"white\",\"linecolor\":\"white\",\"minorgridcolor\":\"white\",\"startlinecolor\":\"#2a3f5f\"},\"type\":\"carpet\"}],\"choropleth\":[{\"colorbar\":{\"outlinewidth\":0,\"ticks\":\"\"},\"type\":\"choropleth\"}],\"contour\":[{\"colorbar\":{\"outlinewidth\":0,\"ticks\":\"\"},\"colorscale\":[[0.0,\"#0d0887\"],[0.1111111111111111,\"#46039f\"],[0.2222222222222222,\"#7201a8\"],[0.3333333333333333,\"#9c179e\"],[0.4444444444444444,\"#bd3786\"],[0.5555555555555556,\"#d8576b\"],[0.6666666666666666,\"#ed7953\"],[0.7777777777777778,\"#fb9f3a\"],[0.8888888888888888,\"#fdca26\"],[1.0,\"#f0f921\"]],\"type\":\"contour\"}],\"contourcarpet\":[{\"colorbar\":{\"outlinewidth\":0,\"ticks\":\"\"},\"type\":\"contourcarpet\"}],\"heatmap\":[{\"colorbar\":{\"outlinewidth\":0,\"ticks\":\"\"},\"colorscale\":[[0.0,\"#0d0887\"],[0.1111111111111111,\"#46039f\"],[0.2222222222222222,\"#7201a8\"],[0.3333333333333333,\"#9c179e\"],[0.4444444444444444,\"#bd3786\"],[0.5555555555555556,\"#d8576b\"],[0.6666666666666666,\"#ed7953\"],[0.7777777777777778,\"#fb9f3a\"],[0.8888888888888888,\"#fdca26\"],[1.0,\"#f0f921\"]],\"type\":\"heatmap\"}],\"heatmapgl\":[{\"colorbar\":{\"outlinewidth\":0,\"ticks\":\"\"},\"colorscale\":[[0.0,\"#0d0887\"],[0.1111111111111111,\"#46039f\"],[0.2222222222222222,\"#7201a8\"],[0.3333333333333333,\"#9c179e\"],[0.4444444444444444,\"#bd3786\"],[0.5555555555555556,\"#d8576b\"],[0.6666666666666666,\"#ed7953\"],[0.7777777777777778,\"#fb9f3a\"],[0.8888888888888888,\"#fdca26\"],[1.0,\"#f0f921\"]],\"type\":\"heatmapgl\"}],\"histogram\":[{\"marker\":{\"pattern\":{\"fillmode\":\"overlay\",\"size\":10,\"solidity\":0.2}},\"type\":\"histogram\"}],\"histogram2d\":[{\"colorbar\":{\"outlinewidth\":0,\"ticks\":\"\"},\"colorscale\":[[0.0,\"#0d0887\"],[0.1111111111111111,\"#46039f\"],[0.2222222222222222,\"#7201a8\"],[0.3333333333333333,\"#9c179e\"],[0.4444444444444444,\"#bd3786\"],[0.5555555555555556,\"#d8576b\"],[0.6666666666666666,\"#ed7953\"],[0.7777777777777778,\"#fb9f3a\"],[0.8888888888888888,\"#fdca26\"],[1.0,\"#f0f921\"]],\"type\":\"histogram2d\"}],\"histogram2dcontour\":[{\"colorbar\":{\"outlinewidth\":0,\"ticks\":\"\"},\"colorscale\":[[0.0,\"#0d0887\"],[0.1111111111111111,\"#46039f\"],[0.2222222222222222,\"#7201a8\"],[0.3333333333333333,\"#9c179e\"],[0.4444444444444444,\"#bd3786\"],[0.5555555555555556,\"#d8576b\"],[0.6666666666666666,\"#ed7953\"],[0.7777777777777778,\"#fb9f3a\"],[0.8888888888888888,\"#fdca26\"],[1.0,\"#f0f921\"]],\"type\":\"histogram2dcontour\"}],\"mesh3d\":[{\"colorbar\":{\"outlinewidth\":0,\"ticks\":\"\"},\"type\":\"mesh3d\"}],\"parcoords\":[{\"line\":{\"colorbar\":{\"outlinewidth\":0,\"ticks\":\"\"}},\"type\":\"parcoords\"}],\"pie\":[{\"automargin\":true,\"type\":\"pie\"}],\"scatter\":[{\"marker\":{\"colorbar\":{\"outlinewidth\":0,\"ticks\":\"\"}},\"type\":\"scatter\"}],\"scatter3d\":[{\"line\":{\"colorbar\":{\"outlinewidth\":0,\"ticks\":\"\"}},\"marker\":{\"colorbar\":{\"outlinewidth\":0,\"ticks\":\"\"}},\"type\":\"scatter3d\"}],\"scattercarpet\":[{\"marker\":{\"colorbar\":{\"outlinewidth\":0,\"ticks\":\"\"}},\"type\":\"scattercarpet\"}],\"scattergeo\":[{\"marker\":{\"colorbar\":{\"outlinewidth\":0,\"ticks\":\"\"}},\"type\":\"scattergeo\"}],\"scattergl\":[{\"marker\":{\"colorbar\":{\"outlinewidth\":0,\"ticks\":\"\"}},\"type\":\"scattergl\"}],\"scattermapbox\":[{\"marker\":{\"colorbar\":{\"outlinewidth\":0,\"ticks\":\"\"}},\"type\":\"scattermapbox\"}],\"scatterpolar\":[{\"marker\":{\"colorbar\":{\"outlinewidth\":0,\"ticks\":\"\"}},\"type\":\"scatterpolar\"}],\"scatterpolargl\":[{\"marker\":{\"colorbar\":{\"outlinewidth\":0,\"ticks\":\"\"}},\"type\":\"scatterpolargl\"}],\"scatterternary\":[{\"marker\":{\"colorbar\":{\"outlinewidth\":0,\"ticks\":\"\"}},\"type\":\"scatterternary\"}],\"surface\":[{\"colorbar\":{\"outlinewidth\":0,\"ticks\":\"\"},\"colorscale\":[[0.0,\"#0d0887\"],[0.1111111111111111,\"#46039f\"],[0.2222222222222222,\"#7201a8\"],[0.3333333333333333,\"#9c179e\"],[0.4444444444444444,\"#bd3786\"],[0.5555555555555556,\"#d8576b\"],[0.6666666666666666,\"#ed7953\"],[0.7777777777777778,\"#fb9f3a\"],[0.8888888888888888,\"#fdca26\"],[1.0,\"#f0f921\"]],\"type\":\"surface\"}],\"table\":[{\"cells\":{\"fill\":{\"color\":\"#EBF0F8\"},\"line\":{\"color\":\"white\"}},\"header\":{\"fill\":{\"color\":\"#C8D4E3\"},\"line\":{\"color\":\"white\"}},\"type\":\"table\"}]},\"layout\":{\"annotationdefaults\":{\"arrowcolor\":\"#2a3f5f\",\"arrowhead\":0,\"arrowwidth\":1},\"autotypenumbers\":\"strict\",\"coloraxis\":{\"colorbar\":{\"outlinewidth\":0,\"ticks\":\"\"}},\"colorscale\":{\"diverging\":[[0,\"#8e0152\"],[0.1,\"#c51b7d\"],[0.2,\"#de77ae\"],[0.3,\"#f1b6da\"],[0.4,\"#fde0ef\"],[0.5,\"#f7f7f7\"],[0.6,\"#e6f5d0\"],[0.7,\"#b8e186\"],[0.8,\"#7fbc41\"],[0.9,\"#4d9221\"],[1,\"#276419\"]],\"sequential\":[[0.0,\"#0d0887\"],[0.1111111111111111,\"#46039f\"],[0.2222222222222222,\"#7201a8\"],[0.3333333333333333,\"#9c179e\"],[0.4444444444444444,\"#bd3786\"],[0.5555555555555556,\"#d8576b\"],[0.6666666666666666,\"#ed7953\"],[0.7777777777777778,\"#fb9f3a\"],[0.8888888888888888,\"#fdca26\"],[1.0,\"#f0f921\"]],\"sequentialminus\":[[0.0,\"#0d0887\"],[0.1111111111111111,\"#46039f\"],[0.2222222222222222,\"#7201a8\"],[0.3333333333333333,\"#9c179e\"],[0.4444444444444444,\"#bd3786\"],[0.5555555555555556,\"#d8576b\"],[0.6666666666666666,\"#ed7953\"],[0.7777777777777778,\"#fb9f3a\"],[0.8888888888888888,\"#fdca26\"],[1.0,\"#f0f921\"]]},\"colorway\":[\"#636efa\",\"#EF553B\",\"#00cc96\",\"#ab63fa\",\"#FFA15A\",\"#19d3f3\",\"#FF6692\",\"#B6E880\",\"#FF97FF\",\"#FECB52\"],\"font\":{\"color\":\"#2a3f5f\"},\"geo\":{\"bgcolor\":\"white\",\"lakecolor\":\"white\",\"landcolor\":\"#E5ECF6\",\"showlakes\":true,\"showland\":true,\"subunitcolor\":\"white\"},\"hoverlabel\":{\"align\":\"left\"},\"hovermode\":\"closest\",\"mapbox\":{\"style\":\"light\"},\"paper_bgcolor\":\"white\",\"plot_bgcolor\":\"#E5ECF6\",\"polar\":{\"angularaxis\":{\"gridcolor\":\"white\",\"linecolor\":\"white\",\"ticks\":\"\"},\"bgcolor\":\"#E5ECF6\",\"radialaxis\":{\"gridcolor\":\"white\",\"linecolor\":\"white\",\"ticks\":\"\"}},\"scene\":{\"xaxis\":{\"backgroundcolor\":\"#E5ECF6\",\"gridcolor\":\"white\",\"gridwidth\":2,\"linecolor\":\"white\",\"showbackground\":true,\"ticks\":\"\",\"zerolinecolor\":\"white\"},\"yaxis\":{\"backgroundcolor\":\"#E5ECF6\",\"gridcolor\":\"white\",\"gridwidth\":2,\"linecolor\":\"white\",\"showbackground\":true,\"ticks\":\"\",\"zerolinecolor\":\"white\"},\"zaxis\":{\"backgroundcolor\":\"#E5ECF6\",\"gridcolor\":\"white\",\"gridwidth\":2,\"linecolor\":\"white\",\"showbackground\":true,\"ticks\":\"\",\"zerolinecolor\":\"white\"}},\"shapedefaults\":{\"line\":{\"color\":\"#2a3f5f\"}},\"ternary\":{\"aaxis\":{\"gridcolor\":\"white\",\"linecolor\":\"white\",\"ticks\":\"\"},\"baxis\":{\"gridcolor\":\"white\",\"linecolor\":\"white\",\"ticks\":\"\"},\"bgcolor\":\"#E5ECF6\",\"caxis\":{\"gridcolor\":\"white\",\"linecolor\":\"white\",\"ticks\":\"\"}},\"title\":{\"x\":0.05},\"xaxis\":{\"automargin\":true,\"gridcolor\":\"white\",\"linecolor\":\"white\",\"ticks\":\"\",\"title\":{\"standoff\":15},\"zerolinecolor\":\"white\",\"zerolinewidth\":2},\"yaxis\":{\"automargin\":true,\"gridcolor\":\"white\",\"linecolor\":\"white\",\"ticks\":\"\",\"title\":{\"standoff\":15},\"zerolinecolor\":\"white\",\"zerolinewidth\":2}}},\"title\":{\"font\":{\"color\":\"#4D5663\"}},\"xaxis\":{\"gridcolor\":\"#E1E5ED\",\"showgrid\":true,\"tickfont\":{\"color\":\"#4D5663\"},\"title\":{\"font\":{\"color\":\"#4D5663\"},\"text\":\"\"},\"zerolinecolor\":\"#E1E5ED\"},\"yaxis\":{\"gridcolor\":\"#E1E5ED\",\"showgrid\":true,\"tickfont\":{\"color\":\"#4D5663\"},\"title\":{\"font\":{\"color\":\"#4D5663\"},\"text\":\"\"},\"zerolinecolor\":\"#E1E5ED\"}},                        {\"showLink\": true, \"linkText\": \"Export to plot.ly\", \"plotlyServerURL\": \"https://plot.ly\", \"responsive\": true}                    ).then(function(){\n",
       "                            \n",
       "var gd = document.getElementById('a0079816-5a2c-4729-aa58-770ea4ab3eae');\n",
       "var x = new MutationObserver(function (mutations, observer) {{\n",
       "        var display = window.getComputedStyle(gd).display;\n",
       "        if (!display || display === 'none') {{\n",
       "            console.log([gd, 'removed!']);\n",
       "            Plotly.purge(gd);\n",
       "            observer.disconnect();\n",
       "        }}\n",
       "}});\n",
       "\n",
       "// Listen for the removal of the full notebook cells\n",
       "var notebookContainer = gd.closest('#notebook-container');\n",
       "if (notebookContainer) {{\n",
       "    x.observe(notebookContainer, {childList: true});\n",
       "}}\n",
       "\n",
       "// Listen for the clearing of the current output cell\n",
       "var outputEl = gd.closest('.output');\n",
       "if (outputEl) {{\n",
       "    x.observe(outputEl, {childList: true});\n",
       "}}\n",
       "\n",
       "                        })                };                });            </script>        </div>"
      ]
     },
     "metadata": {},
     "output_type": "display_data"
    }
   ],
   "source": [
    "df['A'].iplot(kind='hist',bins=50)"
   ]
  },
  {
   "cell_type": "code",
   "execution_count": 46,
   "id": "0a1dde2b",
   "metadata": {},
   "outputs": [
    {
     "data": {
      "application/vnd.plotly.v1+json": {
       "config": {
        "linkText": "Export to plot.ly",
        "plotlyServerURL": "https://plot.ly",
        "showLink": true
       },
       "data": [
        {
         "histfunc": "count",
         "histnorm": "",
         "marker": {
          "color": "rgba(255, 153, 51, 1.0)",
          "line": {
           "color": "#4D5663",
           "width": 1.3
          }
         },
         "name": "A",
         "nbinsx": 50,
         "opacity": 0.8,
         "orientation": "v",
         "type": "histogram",
         "x": [
          -0.34225299009874355,
          0.4892447760011251,
          0.6289296113249515,
          -0.9623444735331236,
          0.5218374246730623,
          1.0872779779546433,
          -2.5446001105676275,
          -0.2858836687280843,
          1.3065777779854995,
          -2.4104707774726113,
          1.3369186035954843,
          0.3838707492935451,
          -0.5526656706871299,
          -0.523243795919335,
          -0.5219209505049524,
          0.7876928140633233,
          -0.9458273989118097,
          0.6798036848133264,
          -0.7326321084090412,
          2.9676666789696204,
          -0.05694316110548828,
          -0.3901687948679766,
          0.39042317054449927,
          -0.5097476850302313,
          -0.06005776882918707,
          1.8651889477854269,
          0.6825596947887341,
          -0.660930834038989,
          0.7457389149047722,
          0.5831350759677145,
          0.20565331727263178,
          0.12137563657220368,
          0.14222541475987407,
          -0.21964030922882513,
          -0.1403522050946297,
          0.9130048247460788,
          -0.5324825569805095,
          0.8357026232545052,
          -0.05136640945025422,
          -0.15442903874892236,
          0.4427417326955754,
          -1.4618826570001109,
          -0.23457977919541678,
          1.5819006525811172,
          1.7673116734486296,
          0.5244123082679875,
          -1.4960518062062593,
          -0.08993988733773665,
          0.8209575792192505,
          0.277831732542309,
          1.9225576880083868,
          1.757171966228769,
          -2.138688527959561,
          -1.3709748402957949,
          -0.7155997219888818,
          0.3317227996255702,
          -1.0043614591743062,
          -1.0261278984258224,
          -1.4276290468878337,
          -1.0891931758991331,
          0.2035269789201755,
          0.02473667551913148,
          0.19551292413294072,
          -0.19036560623878837,
          -1.8010591597777204,
          0.8032033734232925,
          -1.0990490358758565,
          0.7760903618580065,
          -0.5271828141604505,
          -0.7383131855752465,
          -0.27543257249948844,
          -0.037819243298348515,
          1.2032094442658468,
          0.785084605957565,
          0.7503288870253916,
          -0.8472573692739707,
          -0.37625320843617843,
          -1.2657485333486633,
          1.7888324677330751,
          0.7499899464558957,
          0.3247253443598456,
          1.1096782207812264,
          0.28418622192332155,
          0.8318537645554853,
          2.0139557344103043,
          0.3476274485672122,
          -0.7967921761246892,
          -0.12058745799601407,
          0.43531389145934873,
          0.35347704597191093,
          -1.3720175798793395,
          -1.2811737166611563,
          0.04571690779276586,
          1.8411898245359177,
          -0.34353168706576764,
          1.0133136240424316,
          0.31479801507956323,
          2.1145539751315687,
          -1.0277828928921748,
          -0.7838019655038211
         ]
        },
        {
         "histfunc": "count",
         "histnorm": "",
         "marker": {
          "color": "rgba(55, 128, 191, 1.0)",
          "line": {
           "color": "#4D5663",
           "width": 1.3
          }
         },
         "name": "B",
         "nbinsx": 50,
         "opacity": 0.8,
         "orientation": "v",
         "type": "histogram",
         "x": [
          0.9900955482666974,
          -0.9889452577232196,
          -0.9378354850254641,
          -0.5463691152022653,
          2.0271518857018807,
          0.19925957847537346,
          -0.7786039713483985,
          0.2520015620313144,
          -0.6188427581785232,
          0.419814842315549,
          -1.8602683357380412,
          0.7728522626338924,
          0.23979797259129315,
          1.1297423815295664,
          -0.10475559546208067,
          -0.009461289991414178,
          0.7113080068140527,
          -1.4786843116096715,
          -1.3201954219731604,
          0.07031698798374092,
          1.6442459691777473,
          -0.13952067189279416,
          -0.9250117184627819,
          -1.730634623494131,
          -1.2546443084973622,
          1.2139408010780905,
          -0.5844745801129339,
          -0.29554717166621897,
          0.27281484542731976,
          0.25318894794907465,
          -0.24638066248007567,
          -0.3001463717227039,
          -0.47843477549201796,
          1.5339025213459436,
          1.237395379686162,
          -0.214093862004028,
          -0.3867947061510151,
          0.20025306551505054,
          0.5518586459046209,
          -1.2649171383821682,
          -0.31394703787397016,
          2.624200579430331,
          -0.7124402468346807,
          0.47598211399691526,
          0.3543661152225115,
          -0.7416521439997066,
          0.11901051948687877,
          -1.228030696683017,
          -0.5254167537146217,
          -0.8180277127043986,
          0.9767586529113346,
          1.2707583473030304,
          -0.1430902898326658,
          0.3866316300901333,
          0.918493501529165,
          0.7382411409509697,
          -1.7872095559123204,
          -0.05138925422187474,
          -1.3099282607443965,
          0.3619874357419031,
          0.2473659952388168,
          0.673183153770201,
          -0.42378629704185045,
          -0.5218702450381305,
          0.3643796819545949,
          -0.8571232551495427,
          0.6196384121373644,
          -0.5532877791773987,
          -0.6985239271046452,
          -0.4971711238652195,
          0.9837197737497394,
          0.151109103477177,
          -0.45528688478792184,
          -0.2940979367596788,
          -1.1357511274305079,
          1.7291497641174005,
          -0.5315171160860179,
          0.5412751513880071,
          2.319270328199936,
          1.105881259664581,
          0.24183604497834638,
          -0.12739001798747068,
          0.15509861976732744,
          -1.0996109070986873,
          0.23972510178264853,
          -0.08154335854543714,
          -1.8255709836497878,
          1.8463351692191043,
          1.820835557120743,
          0.9539408365908607,
          -1.7026480093372356,
          0.736197256641093,
          -0.21103967120123218,
          0.37668614877938134,
          -0.8927141407003845,
          -0.10178995397251908,
          -1.3472346892602074,
          -0.6569542813244048,
          0.9437776474422417,
          -3.0058043986457124
         ]
        },
        {
         "histfunc": "count",
         "histnorm": "",
         "marker": {
          "color": "rgba(50, 171, 96, 1.0)",
          "line": {
           "color": "#4D5663",
           "width": 1.3
          }
         },
         "name": "C",
         "nbinsx": 50,
         "opacity": 0.8,
         "orientation": "v",
         "type": "histogram",
         "x": [
          -0.24360119416966694,
          2.6290698676150748,
          0.2661367149716258,
          0.4248000862046849,
          0.15691359647032885,
          1.2669766461076717,
          -0.7458482705573792,
          -1.0425577762968143,
          -0.9918293586883078,
          1.1752207914133415,
          0.8237476957175225,
          1.1559167419733656,
          -0.26544194102746643,
          -1.756871692208469,
          -0.4328200632631489,
          -1.5946234612917132,
          -0.7754468725671481,
          2.456890194326189,
          0.25177654767670976,
          -0.5276250778756187,
          -0.41515353632559016,
          -0.9702083336083774,
          -0.5386885727546051,
          0.37514521710971366,
          0.42471750848556794,
          0.9123108730469526,
          -1.3814941779525685,
          1.5467689361155261,
          -1.006894590393866,
          0.0956355518057554,
          0.7466898784983458,
          -0.24213182443022957,
          -0.9250827556716021,
          -1.5203503273531633,
          -0.4977984822613209,
          -0.6410172305332248,
          0.0004638774932113429,
          0.8313405708447927,
          2.019266841869993,
          0.5943772196931862,
          -0.30837067424611286,
          0.9104799562812206,
          0.19755570215657497,
          0.2773208278157791,
          -1.0387187975724872,
          -0.506375180681545,
          -0.5516849839146819,
          0.7116617071345542,
          -0.19579766373118063,
          0.42693167129622245,
          -0.8331237335520756,
          0.5016062861936484,
          -0.6937427386910572,
          -0.49746785662625626,
          -1.7118428797935947,
          -0.7605643980862589,
          -0.5390131077084975,
          -0.09681021739978073,
          0.540645279267166,
          -0.48285349611885797,
          0.025786372736263302,
          1.8235643881611308,
          -1.2932590197710199,
          -0.6465104579661324,
          2.0408865397934393,
          0.7642965793643237,
          -0.8265002416929838,
          0.1019702069298536,
          0.8725592650972407,
          -1.588148164340174,
          -1.4228936331224291,
          0.3031964853541781,
          -0.07949730751640986,
          -2.39910314507416,
          -0.7029900183390284,
          0.8408133054957266,
          0.6166977677036451,
          -0.9940793947697844,
          -0.534675036167626,
          -0.14707923691588887,
          -2.6234047287938913,
          -1.3474097174098156,
          -0.1421345213333329,
          0.008835708481921363,
          -1.2515389770614476,
          -0.6441581344355697,
          -0.5934360296853288,
          -0.027506673382790198,
          -0.23057019069383758,
          -0.4883458423910079,
          -1.22605047743705,
          -0.6061666040960666,
          -1.0125377919921394,
          -0.3320753382492649,
          0.766639572361874,
          0.07814275463062237,
          -0.02251167615807235,
          -1.2505570063745404,
          -0.41570718077541857,
          -0.6990955371320429
         ]
        },
        {
         "histfunc": "count",
         "histnorm": "",
         "marker": {
          "color": "rgba(128, 0, 128, 1.0)",
          "line": {
           "color": "#4D5663",
           "width": 1.3
          }
         },
         "name": "D",
         "nbinsx": 50,
         "opacity": 0.8,
         "orientation": "v",
         "type": "histogram",
         "x": [
          -0.8993780379502047,
          -0.02805590171480415,
          0.5612035642976496,
          0.45017054087238884,
          -2.233080770879555,
          0.3739742395124629,
          -0.5774356122456568,
          -0.6717884367620782,
          0.4832487351689567,
          0.761435996894435,
          -0.04059328762487213,
          0.5101128605312929,
          0.19902095165716177,
          -1.5411945525961641,
          -0.45683768831453736,
          3.2567902677591,
          -0.24721414340764963,
          -1.4596725990248305,
          -2.4248001490278375,
          0.12611197215654926,
          1.9234059086665694,
          -0.7415422179044057,
          0.5318699546445996,
          0.3411788196455518,
          -0.30164340637185694,
          0.9763135783972272,
          -0.21897997321007678,
          0.354782893192736,
          1.9263999024854617,
          -1.0069515783908103,
          -0.0914288423605711,
          0.9977226852097353,
          -0.16959396494707218,
          -0.9640722535068827,
          0.26028820686903065,
          0.6912992723236513,
          -0.4203592662512756,
          -1.3261158849795756,
          -1.1453604179470454,
          -0.9227383863226544,
          0.0033439820871036955,
          -0.29155084059205694,
          -1.192411953625304,
          0.34346615046657125,
          -1.0908146569416461,
          1.5747384092161831,
          -0.3905808061673566,
          -1.2576203889566724,
          -0.9292308926637166,
          1.9194370566526706,
          -1.6507047842344582,
          0.8631548922913439,
          1.2991380618444575,
          -3.2615524161869196,
          -1.0717834772800015,
          1.2630698522056911,
          3.1470570330562615,
          -0.13404492840812246,
          1.9029965756941507,
          0.5312264148980672,
          -1.0776998955177377,
          0.21816766458394263,
          0.951581629546409,
          0.35406437532113627,
          0.6726097055720566,
          1.5289951046519916,
          0.8872488457004313,
          1.5278424465510052,
          -0.5629686924888644,
          -0.6833421677015717,
          0.5763413458651462,
          0.12764236871541115,
          1.180397231496056,
          0.340318053147227,
          0.002726022685278746,
          1.7713800150640246,
          1.2982996566138594,
          -1.0523866869149032,
          -0.779700669840491,
          -1.8575621845742905,
          -0.7110915002681697,
          -1.4997360103036437,
          0.7950770689699234,
          0.52438561059342,
          0.2576584909044913,
          -1.1552940935623224,
          1.3039721355476719,
          1.8623529103560788,
          -0.15667476232146516,
          0.22218725609677162,
          0.1133313728764875,
          -0.7881581017112002,
          0.6817806926876091,
          -0.38247769385962327,
          -0.745334160946617,
          -0.07717189151842606,
          -0.9439590114540767,
          -0.33257224030030497,
          -0.33528789414779003,
          0.45350533599463455
         ]
        }
       ],
       "layout": {
        "barmode": "overlay",
        "legend": {
         "bgcolor": "#F5F6F9",
         "font": {
          "color": "#4D5663"
         }
        },
        "paper_bgcolor": "#F5F6F9",
        "plot_bgcolor": "#F5F6F9",
        "template": {
         "data": {
          "bar": [
           {
            "error_x": {
             "color": "#2a3f5f"
            },
            "error_y": {
             "color": "#2a3f5f"
            },
            "marker": {
             "line": {
              "color": "#E5ECF6",
              "width": 0.5
             },
             "pattern": {
              "fillmode": "overlay",
              "size": 10,
              "solidity": 0.2
             }
            },
            "type": "bar"
           }
          ],
          "barpolar": [
           {
            "marker": {
             "line": {
              "color": "#E5ECF6",
              "width": 0.5
             },
             "pattern": {
              "fillmode": "overlay",
              "size": 10,
              "solidity": 0.2
             }
            },
            "type": "barpolar"
           }
          ],
          "carpet": [
           {
            "aaxis": {
             "endlinecolor": "#2a3f5f",
             "gridcolor": "white",
             "linecolor": "white",
             "minorgridcolor": "white",
             "startlinecolor": "#2a3f5f"
            },
            "baxis": {
             "endlinecolor": "#2a3f5f",
             "gridcolor": "white",
             "linecolor": "white",
             "minorgridcolor": "white",
             "startlinecolor": "#2a3f5f"
            },
            "type": "carpet"
           }
          ],
          "choropleth": [
           {
            "colorbar": {
             "outlinewidth": 0,
             "ticks": ""
            },
            "type": "choropleth"
           }
          ],
          "contour": [
           {
            "colorbar": {
             "outlinewidth": 0,
             "ticks": ""
            },
            "colorscale": [
             [
              0,
              "#0d0887"
             ],
             [
              0.1111111111111111,
              "#46039f"
             ],
             [
              0.2222222222222222,
              "#7201a8"
             ],
             [
              0.3333333333333333,
              "#9c179e"
             ],
             [
              0.4444444444444444,
              "#bd3786"
             ],
             [
              0.5555555555555556,
              "#d8576b"
             ],
             [
              0.6666666666666666,
              "#ed7953"
             ],
             [
              0.7777777777777778,
              "#fb9f3a"
             ],
             [
              0.8888888888888888,
              "#fdca26"
             ],
             [
              1,
              "#f0f921"
             ]
            ],
            "type": "contour"
           }
          ],
          "contourcarpet": [
           {
            "colorbar": {
             "outlinewidth": 0,
             "ticks": ""
            },
            "type": "contourcarpet"
           }
          ],
          "heatmap": [
           {
            "colorbar": {
             "outlinewidth": 0,
             "ticks": ""
            },
            "colorscale": [
             [
              0,
              "#0d0887"
             ],
             [
              0.1111111111111111,
              "#46039f"
             ],
             [
              0.2222222222222222,
              "#7201a8"
             ],
             [
              0.3333333333333333,
              "#9c179e"
             ],
             [
              0.4444444444444444,
              "#bd3786"
             ],
             [
              0.5555555555555556,
              "#d8576b"
             ],
             [
              0.6666666666666666,
              "#ed7953"
             ],
             [
              0.7777777777777778,
              "#fb9f3a"
             ],
             [
              0.8888888888888888,
              "#fdca26"
             ],
             [
              1,
              "#f0f921"
             ]
            ],
            "type": "heatmap"
           }
          ],
          "heatmapgl": [
           {
            "colorbar": {
             "outlinewidth": 0,
             "ticks": ""
            },
            "colorscale": [
             [
              0,
              "#0d0887"
             ],
             [
              0.1111111111111111,
              "#46039f"
             ],
             [
              0.2222222222222222,
              "#7201a8"
             ],
             [
              0.3333333333333333,
              "#9c179e"
             ],
             [
              0.4444444444444444,
              "#bd3786"
             ],
             [
              0.5555555555555556,
              "#d8576b"
             ],
             [
              0.6666666666666666,
              "#ed7953"
             ],
             [
              0.7777777777777778,
              "#fb9f3a"
             ],
             [
              0.8888888888888888,
              "#fdca26"
             ],
             [
              1,
              "#f0f921"
             ]
            ],
            "type": "heatmapgl"
           }
          ],
          "histogram": [
           {
            "marker": {
             "pattern": {
              "fillmode": "overlay",
              "size": 10,
              "solidity": 0.2
             }
            },
            "type": "histogram"
           }
          ],
          "histogram2d": [
           {
            "colorbar": {
             "outlinewidth": 0,
             "ticks": ""
            },
            "colorscale": [
             [
              0,
              "#0d0887"
             ],
             [
              0.1111111111111111,
              "#46039f"
             ],
             [
              0.2222222222222222,
              "#7201a8"
             ],
             [
              0.3333333333333333,
              "#9c179e"
             ],
             [
              0.4444444444444444,
              "#bd3786"
             ],
             [
              0.5555555555555556,
              "#d8576b"
             ],
             [
              0.6666666666666666,
              "#ed7953"
             ],
             [
              0.7777777777777778,
              "#fb9f3a"
             ],
             [
              0.8888888888888888,
              "#fdca26"
             ],
             [
              1,
              "#f0f921"
             ]
            ],
            "type": "histogram2d"
           }
          ],
          "histogram2dcontour": [
           {
            "colorbar": {
             "outlinewidth": 0,
             "ticks": ""
            },
            "colorscale": [
             [
              0,
              "#0d0887"
             ],
             [
              0.1111111111111111,
              "#46039f"
             ],
             [
              0.2222222222222222,
              "#7201a8"
             ],
             [
              0.3333333333333333,
              "#9c179e"
             ],
             [
              0.4444444444444444,
              "#bd3786"
             ],
             [
              0.5555555555555556,
              "#d8576b"
             ],
             [
              0.6666666666666666,
              "#ed7953"
             ],
             [
              0.7777777777777778,
              "#fb9f3a"
             ],
             [
              0.8888888888888888,
              "#fdca26"
             ],
             [
              1,
              "#f0f921"
             ]
            ],
            "type": "histogram2dcontour"
           }
          ],
          "mesh3d": [
           {
            "colorbar": {
             "outlinewidth": 0,
             "ticks": ""
            },
            "type": "mesh3d"
           }
          ],
          "parcoords": [
           {
            "line": {
             "colorbar": {
              "outlinewidth": 0,
              "ticks": ""
             }
            },
            "type": "parcoords"
           }
          ],
          "pie": [
           {
            "automargin": true,
            "type": "pie"
           }
          ],
          "scatter": [
           {
            "marker": {
             "colorbar": {
              "outlinewidth": 0,
              "ticks": ""
             }
            },
            "type": "scatter"
           }
          ],
          "scatter3d": [
           {
            "line": {
             "colorbar": {
              "outlinewidth": 0,
              "ticks": ""
             }
            },
            "marker": {
             "colorbar": {
              "outlinewidth": 0,
              "ticks": ""
             }
            },
            "type": "scatter3d"
           }
          ],
          "scattercarpet": [
           {
            "marker": {
             "colorbar": {
              "outlinewidth": 0,
              "ticks": ""
             }
            },
            "type": "scattercarpet"
           }
          ],
          "scattergeo": [
           {
            "marker": {
             "colorbar": {
              "outlinewidth": 0,
              "ticks": ""
             }
            },
            "type": "scattergeo"
           }
          ],
          "scattergl": [
           {
            "marker": {
             "colorbar": {
              "outlinewidth": 0,
              "ticks": ""
             }
            },
            "type": "scattergl"
           }
          ],
          "scattermapbox": [
           {
            "marker": {
             "colorbar": {
              "outlinewidth": 0,
              "ticks": ""
             }
            },
            "type": "scattermapbox"
           }
          ],
          "scatterpolar": [
           {
            "marker": {
             "colorbar": {
              "outlinewidth": 0,
              "ticks": ""
             }
            },
            "type": "scatterpolar"
           }
          ],
          "scatterpolargl": [
           {
            "marker": {
             "colorbar": {
              "outlinewidth": 0,
              "ticks": ""
             }
            },
            "type": "scatterpolargl"
           }
          ],
          "scatterternary": [
           {
            "marker": {
             "colorbar": {
              "outlinewidth": 0,
              "ticks": ""
             }
            },
            "type": "scatterternary"
           }
          ],
          "surface": [
           {
            "colorbar": {
             "outlinewidth": 0,
             "ticks": ""
            },
            "colorscale": [
             [
              0,
              "#0d0887"
             ],
             [
              0.1111111111111111,
              "#46039f"
             ],
             [
              0.2222222222222222,
              "#7201a8"
             ],
             [
              0.3333333333333333,
              "#9c179e"
             ],
             [
              0.4444444444444444,
              "#bd3786"
             ],
             [
              0.5555555555555556,
              "#d8576b"
             ],
             [
              0.6666666666666666,
              "#ed7953"
             ],
             [
              0.7777777777777778,
              "#fb9f3a"
             ],
             [
              0.8888888888888888,
              "#fdca26"
             ],
             [
              1,
              "#f0f921"
             ]
            ],
            "type": "surface"
           }
          ],
          "table": [
           {
            "cells": {
             "fill": {
              "color": "#EBF0F8"
             },
             "line": {
              "color": "white"
             }
            },
            "header": {
             "fill": {
              "color": "#C8D4E3"
             },
             "line": {
              "color": "white"
             }
            },
            "type": "table"
           }
          ]
         },
         "layout": {
          "annotationdefaults": {
           "arrowcolor": "#2a3f5f",
           "arrowhead": 0,
           "arrowwidth": 1
          },
          "autotypenumbers": "strict",
          "coloraxis": {
           "colorbar": {
            "outlinewidth": 0,
            "ticks": ""
           }
          },
          "colorscale": {
           "diverging": [
            [
             0,
             "#8e0152"
            ],
            [
             0.1,
             "#c51b7d"
            ],
            [
             0.2,
             "#de77ae"
            ],
            [
             0.3,
             "#f1b6da"
            ],
            [
             0.4,
             "#fde0ef"
            ],
            [
             0.5,
             "#f7f7f7"
            ],
            [
             0.6,
             "#e6f5d0"
            ],
            [
             0.7,
             "#b8e186"
            ],
            [
             0.8,
             "#7fbc41"
            ],
            [
             0.9,
             "#4d9221"
            ],
            [
             1,
             "#276419"
            ]
           ],
           "sequential": [
            [
             0,
             "#0d0887"
            ],
            [
             0.1111111111111111,
             "#46039f"
            ],
            [
             0.2222222222222222,
             "#7201a8"
            ],
            [
             0.3333333333333333,
             "#9c179e"
            ],
            [
             0.4444444444444444,
             "#bd3786"
            ],
            [
             0.5555555555555556,
             "#d8576b"
            ],
            [
             0.6666666666666666,
             "#ed7953"
            ],
            [
             0.7777777777777778,
             "#fb9f3a"
            ],
            [
             0.8888888888888888,
             "#fdca26"
            ],
            [
             1,
             "#f0f921"
            ]
           ],
           "sequentialminus": [
            [
             0,
             "#0d0887"
            ],
            [
             0.1111111111111111,
             "#46039f"
            ],
            [
             0.2222222222222222,
             "#7201a8"
            ],
            [
             0.3333333333333333,
             "#9c179e"
            ],
            [
             0.4444444444444444,
             "#bd3786"
            ],
            [
             0.5555555555555556,
             "#d8576b"
            ],
            [
             0.6666666666666666,
             "#ed7953"
            ],
            [
             0.7777777777777778,
             "#fb9f3a"
            ],
            [
             0.8888888888888888,
             "#fdca26"
            ],
            [
             1,
             "#f0f921"
            ]
           ]
          },
          "colorway": [
           "#636efa",
           "#EF553B",
           "#00cc96",
           "#ab63fa",
           "#FFA15A",
           "#19d3f3",
           "#FF6692",
           "#B6E880",
           "#FF97FF",
           "#FECB52"
          ],
          "font": {
           "color": "#2a3f5f"
          },
          "geo": {
           "bgcolor": "white",
           "lakecolor": "white",
           "landcolor": "#E5ECF6",
           "showlakes": true,
           "showland": true,
           "subunitcolor": "white"
          },
          "hoverlabel": {
           "align": "left"
          },
          "hovermode": "closest",
          "mapbox": {
           "style": "light"
          },
          "paper_bgcolor": "white",
          "plot_bgcolor": "#E5ECF6",
          "polar": {
           "angularaxis": {
            "gridcolor": "white",
            "linecolor": "white",
            "ticks": ""
           },
           "bgcolor": "#E5ECF6",
           "radialaxis": {
            "gridcolor": "white",
            "linecolor": "white",
            "ticks": ""
           }
          },
          "scene": {
           "xaxis": {
            "backgroundcolor": "#E5ECF6",
            "gridcolor": "white",
            "gridwidth": 2,
            "linecolor": "white",
            "showbackground": true,
            "ticks": "",
            "zerolinecolor": "white"
           },
           "yaxis": {
            "backgroundcolor": "#E5ECF6",
            "gridcolor": "white",
            "gridwidth": 2,
            "linecolor": "white",
            "showbackground": true,
            "ticks": "",
            "zerolinecolor": "white"
           },
           "zaxis": {
            "backgroundcolor": "#E5ECF6",
            "gridcolor": "white",
            "gridwidth": 2,
            "linecolor": "white",
            "showbackground": true,
            "ticks": "",
            "zerolinecolor": "white"
           }
          },
          "shapedefaults": {
           "line": {
            "color": "#2a3f5f"
           }
          },
          "ternary": {
           "aaxis": {
            "gridcolor": "white",
            "linecolor": "white",
            "ticks": ""
           },
           "baxis": {
            "gridcolor": "white",
            "linecolor": "white",
            "ticks": ""
           },
           "bgcolor": "#E5ECF6",
           "caxis": {
            "gridcolor": "white",
            "linecolor": "white",
            "ticks": ""
           }
          },
          "title": {
           "x": 0.05
          },
          "xaxis": {
           "automargin": true,
           "gridcolor": "white",
           "linecolor": "white",
           "ticks": "",
           "title": {
            "standoff": 15
           },
           "zerolinecolor": "white",
           "zerolinewidth": 2
          },
          "yaxis": {
           "automargin": true,
           "gridcolor": "white",
           "linecolor": "white",
           "ticks": "",
           "title": {
            "standoff": 15
           },
           "zerolinecolor": "white",
           "zerolinewidth": 2
          }
         }
        },
        "title": {
         "font": {
          "color": "#4D5663"
         }
        },
        "xaxis": {
         "gridcolor": "#E1E5ED",
         "showgrid": true,
         "tickfont": {
          "color": "#4D5663"
         },
         "title": {
          "font": {
           "color": "#4D5663"
          },
          "text": ""
         },
         "zerolinecolor": "#E1E5ED"
        },
        "yaxis": {
         "gridcolor": "#E1E5ED",
         "showgrid": true,
         "tickfont": {
          "color": "#4D5663"
         },
         "title": {
          "font": {
           "color": "#4D5663"
          },
          "text": ""
         },
         "zerolinecolor": "#E1E5ED"
        }
       }
      },
      "text/html": [
       "<div>                            <div id=\"9e27464c-cb4c-4e81-b9a1-158d029c6c98\" class=\"plotly-graph-div\" style=\"height:525px; width:100%;\"></div>            <script type=\"text/javascript\">                require([\"plotly\"], function(Plotly) {                    window.PLOTLYENV=window.PLOTLYENV || {};\n",
       "                    window.PLOTLYENV.BASE_URL='https://plot.ly';                                    if (document.getElementById(\"9e27464c-cb4c-4e81-b9a1-158d029c6c98\")) {                    Plotly.newPlot(                        \"9e27464c-cb4c-4e81-b9a1-158d029c6c98\",                        [{\"histfunc\":\"count\",\"histnorm\":\"\",\"marker\":{\"color\":\"rgba(255, 153, 51, 1.0)\",\"line\":{\"color\":\"#4D5663\",\"width\":1.3}},\"name\":\"A\",\"nbinsx\":50,\"opacity\":0.8,\"orientation\":\"v\",\"type\":\"histogram\",\"x\":[-0.34225299009874355,0.4892447760011251,0.6289296113249515,-0.9623444735331236,0.5218374246730623,1.0872779779546433,-2.5446001105676275,-0.2858836687280843,1.3065777779854995,-2.4104707774726113,1.3369186035954843,0.3838707492935451,-0.5526656706871299,-0.523243795919335,-0.5219209505049524,0.7876928140633233,-0.9458273989118097,0.6798036848133264,-0.7326321084090412,2.9676666789696204,-0.05694316110548828,-0.3901687948679766,0.39042317054449927,-0.5097476850302313,-0.06005776882918707,1.8651889477854269,0.6825596947887341,-0.660930834038989,0.7457389149047722,0.5831350759677145,0.20565331727263178,0.12137563657220368,0.14222541475987407,-0.21964030922882513,-0.1403522050946297,0.9130048247460788,-0.5324825569805095,0.8357026232545052,-0.05136640945025422,-0.15442903874892236,0.4427417326955754,-1.4618826570001109,-0.23457977919541678,1.5819006525811172,1.7673116734486296,0.5244123082679875,-1.4960518062062593,-0.08993988733773665,0.8209575792192505,0.277831732542309,1.9225576880083868,1.757171966228769,-2.138688527959561,-1.3709748402957949,-0.7155997219888818,0.3317227996255702,-1.0043614591743062,-1.0261278984258224,-1.4276290468878337,-1.0891931758991331,0.2035269789201755,0.02473667551913148,0.19551292413294072,-0.19036560623878837,-1.8010591597777204,0.8032033734232925,-1.0990490358758565,0.7760903618580065,-0.5271828141604505,-0.7383131855752465,-0.27543257249948844,-0.037819243298348515,1.2032094442658468,0.785084605957565,0.7503288870253916,-0.8472573692739707,-0.37625320843617843,-1.2657485333486633,1.7888324677330751,0.7499899464558957,0.3247253443598456,1.1096782207812264,0.28418622192332155,0.8318537645554853,2.0139557344103043,0.3476274485672122,-0.7967921761246892,-0.12058745799601407,0.43531389145934873,0.35347704597191093,-1.3720175798793395,-1.2811737166611563,0.04571690779276586,1.8411898245359177,-0.34353168706576764,1.0133136240424316,0.31479801507956323,2.1145539751315687,-1.0277828928921748,-0.7838019655038211]},{\"histfunc\":\"count\",\"histnorm\":\"\",\"marker\":{\"color\":\"rgba(55, 128, 191, 1.0)\",\"line\":{\"color\":\"#4D5663\",\"width\":1.3}},\"name\":\"B\",\"nbinsx\":50,\"opacity\":0.8,\"orientation\":\"v\",\"type\":\"histogram\",\"x\":[0.9900955482666974,-0.9889452577232196,-0.9378354850254641,-0.5463691152022653,2.0271518857018807,0.19925957847537346,-0.7786039713483985,0.2520015620313144,-0.6188427581785232,0.419814842315549,-1.8602683357380412,0.7728522626338924,0.23979797259129315,1.1297423815295664,-0.10475559546208067,-0.009461289991414178,0.7113080068140527,-1.4786843116096715,-1.3201954219731604,0.07031698798374092,1.6442459691777473,-0.13952067189279416,-0.9250117184627819,-1.730634623494131,-1.2546443084973622,1.2139408010780905,-0.5844745801129339,-0.29554717166621897,0.27281484542731976,0.25318894794907465,-0.24638066248007567,-0.3001463717227039,-0.47843477549201796,1.5339025213459436,1.237395379686162,-0.214093862004028,-0.3867947061510151,0.20025306551505054,0.5518586459046209,-1.2649171383821682,-0.31394703787397016,2.624200579430331,-0.7124402468346807,0.47598211399691526,0.3543661152225115,-0.7416521439997066,0.11901051948687877,-1.228030696683017,-0.5254167537146217,-0.8180277127043986,0.9767586529113346,1.2707583473030304,-0.1430902898326658,0.3866316300901333,0.918493501529165,0.7382411409509697,-1.7872095559123204,-0.05138925422187474,-1.3099282607443965,0.3619874357419031,0.2473659952388168,0.673183153770201,-0.42378629704185045,-0.5218702450381305,0.3643796819545949,-0.8571232551495427,0.6196384121373644,-0.5532877791773987,-0.6985239271046452,-0.4971711238652195,0.9837197737497394,0.151109103477177,-0.45528688478792184,-0.2940979367596788,-1.1357511274305079,1.7291497641174005,-0.5315171160860179,0.5412751513880071,2.319270328199936,1.105881259664581,0.24183604497834638,-0.12739001798747068,0.15509861976732744,-1.0996109070986873,0.23972510178264853,-0.08154335854543714,-1.8255709836497878,1.8463351692191043,1.820835557120743,0.9539408365908607,-1.7026480093372356,0.736197256641093,-0.21103967120123218,0.37668614877938134,-0.8927141407003845,-0.10178995397251908,-1.3472346892602074,-0.6569542813244048,0.9437776474422417,-3.0058043986457124]},{\"histfunc\":\"count\",\"histnorm\":\"\",\"marker\":{\"color\":\"rgba(50, 171, 96, 1.0)\",\"line\":{\"color\":\"#4D5663\",\"width\":1.3}},\"name\":\"C\",\"nbinsx\":50,\"opacity\":0.8,\"orientation\":\"v\",\"type\":\"histogram\",\"x\":[-0.24360119416966694,2.6290698676150748,0.2661367149716258,0.4248000862046849,0.15691359647032885,1.2669766461076717,-0.7458482705573792,-1.0425577762968143,-0.9918293586883078,1.1752207914133415,0.8237476957175225,1.1559167419733656,-0.26544194102746643,-1.756871692208469,-0.4328200632631489,-1.5946234612917132,-0.7754468725671481,2.456890194326189,0.25177654767670976,-0.5276250778756187,-0.41515353632559016,-0.9702083336083774,-0.5386885727546051,0.37514521710971366,0.42471750848556794,0.9123108730469526,-1.3814941779525685,1.5467689361155261,-1.006894590393866,0.0956355518057554,0.7466898784983458,-0.24213182443022957,-0.9250827556716021,-1.5203503273531633,-0.4977984822613209,-0.6410172305332248,0.0004638774932113429,0.8313405708447927,2.019266841869993,0.5943772196931862,-0.30837067424611286,0.9104799562812206,0.19755570215657497,0.2773208278157791,-1.0387187975724872,-0.506375180681545,-0.5516849839146819,0.7116617071345542,-0.19579766373118063,0.42693167129622245,-0.8331237335520756,0.5016062861936484,-0.6937427386910572,-0.49746785662625626,-1.7118428797935947,-0.7605643980862589,-0.5390131077084975,-0.09681021739978073,0.540645279267166,-0.48285349611885797,0.025786372736263302,1.8235643881611308,-1.2932590197710199,-0.6465104579661324,2.0408865397934393,0.7642965793643237,-0.8265002416929838,0.1019702069298536,0.8725592650972407,-1.588148164340174,-1.4228936331224291,0.3031964853541781,-0.07949730751640986,-2.39910314507416,-0.7029900183390284,0.8408133054957266,0.6166977677036451,-0.9940793947697844,-0.534675036167626,-0.14707923691588887,-2.6234047287938913,-1.3474097174098156,-0.1421345213333329,0.008835708481921363,-1.2515389770614476,-0.6441581344355697,-0.5934360296853288,-0.027506673382790198,-0.23057019069383758,-0.4883458423910079,-1.22605047743705,-0.6061666040960666,-1.0125377919921394,-0.3320753382492649,0.766639572361874,0.07814275463062237,-0.02251167615807235,-1.2505570063745404,-0.41570718077541857,-0.6990955371320429]},{\"histfunc\":\"count\",\"histnorm\":\"\",\"marker\":{\"color\":\"rgba(128, 0, 128, 1.0)\",\"line\":{\"color\":\"#4D5663\",\"width\":1.3}},\"name\":\"D\",\"nbinsx\":50,\"opacity\":0.8,\"orientation\":\"v\",\"type\":\"histogram\",\"x\":[-0.8993780379502047,-0.02805590171480415,0.5612035642976496,0.45017054087238884,-2.233080770879555,0.3739742395124629,-0.5774356122456568,-0.6717884367620782,0.4832487351689567,0.761435996894435,-0.04059328762487213,0.5101128605312929,0.19902095165716177,-1.5411945525961641,-0.45683768831453736,3.2567902677591,-0.24721414340764963,-1.4596725990248305,-2.4248001490278375,0.12611197215654926,1.9234059086665694,-0.7415422179044057,0.5318699546445996,0.3411788196455518,-0.30164340637185694,0.9763135783972272,-0.21897997321007678,0.354782893192736,1.9263999024854617,-1.0069515783908103,-0.0914288423605711,0.9977226852097353,-0.16959396494707218,-0.9640722535068827,0.26028820686903065,0.6912992723236513,-0.4203592662512756,-1.3261158849795756,-1.1453604179470454,-0.9227383863226544,0.0033439820871036955,-0.29155084059205694,-1.192411953625304,0.34346615046657125,-1.0908146569416461,1.5747384092161831,-0.3905808061673566,-1.2576203889566724,-0.9292308926637166,1.9194370566526706,-1.6507047842344582,0.8631548922913439,1.2991380618444575,-3.2615524161869196,-1.0717834772800015,1.2630698522056911,3.1470570330562615,-0.13404492840812246,1.9029965756941507,0.5312264148980672,-1.0776998955177377,0.21816766458394263,0.951581629546409,0.35406437532113627,0.6726097055720566,1.5289951046519916,0.8872488457004313,1.5278424465510052,-0.5629686924888644,-0.6833421677015717,0.5763413458651462,0.12764236871541115,1.180397231496056,0.340318053147227,0.002726022685278746,1.7713800150640246,1.2982996566138594,-1.0523866869149032,-0.779700669840491,-1.8575621845742905,-0.7110915002681697,-1.4997360103036437,0.7950770689699234,0.52438561059342,0.2576584909044913,-1.1552940935623224,1.3039721355476719,1.8623529103560788,-0.15667476232146516,0.22218725609677162,0.1133313728764875,-0.7881581017112002,0.6817806926876091,-0.38247769385962327,-0.745334160946617,-0.07717189151842606,-0.9439590114540767,-0.33257224030030497,-0.33528789414779003,0.45350533599463455]}],                        {\"barmode\":\"overlay\",\"legend\":{\"bgcolor\":\"#F5F6F9\",\"font\":{\"color\":\"#4D5663\"}},\"paper_bgcolor\":\"#F5F6F9\",\"plot_bgcolor\":\"#F5F6F9\",\"template\":{\"data\":{\"bar\":[{\"error_x\":{\"color\":\"#2a3f5f\"},\"error_y\":{\"color\":\"#2a3f5f\"},\"marker\":{\"line\":{\"color\":\"#E5ECF6\",\"width\":0.5},\"pattern\":{\"fillmode\":\"overlay\",\"size\":10,\"solidity\":0.2}},\"type\":\"bar\"}],\"barpolar\":[{\"marker\":{\"line\":{\"color\":\"#E5ECF6\",\"width\":0.5},\"pattern\":{\"fillmode\":\"overlay\",\"size\":10,\"solidity\":0.2}},\"type\":\"barpolar\"}],\"carpet\":[{\"aaxis\":{\"endlinecolor\":\"#2a3f5f\",\"gridcolor\":\"white\",\"linecolor\":\"white\",\"minorgridcolor\":\"white\",\"startlinecolor\":\"#2a3f5f\"},\"baxis\":{\"endlinecolor\":\"#2a3f5f\",\"gridcolor\":\"white\",\"linecolor\":\"white\",\"minorgridcolor\":\"white\",\"startlinecolor\":\"#2a3f5f\"},\"type\":\"carpet\"}],\"choropleth\":[{\"colorbar\":{\"outlinewidth\":0,\"ticks\":\"\"},\"type\":\"choropleth\"}],\"contour\":[{\"colorbar\":{\"outlinewidth\":0,\"ticks\":\"\"},\"colorscale\":[[0.0,\"#0d0887\"],[0.1111111111111111,\"#46039f\"],[0.2222222222222222,\"#7201a8\"],[0.3333333333333333,\"#9c179e\"],[0.4444444444444444,\"#bd3786\"],[0.5555555555555556,\"#d8576b\"],[0.6666666666666666,\"#ed7953\"],[0.7777777777777778,\"#fb9f3a\"],[0.8888888888888888,\"#fdca26\"],[1.0,\"#f0f921\"]],\"type\":\"contour\"}],\"contourcarpet\":[{\"colorbar\":{\"outlinewidth\":0,\"ticks\":\"\"},\"type\":\"contourcarpet\"}],\"heatmap\":[{\"colorbar\":{\"outlinewidth\":0,\"ticks\":\"\"},\"colorscale\":[[0.0,\"#0d0887\"],[0.1111111111111111,\"#46039f\"],[0.2222222222222222,\"#7201a8\"],[0.3333333333333333,\"#9c179e\"],[0.4444444444444444,\"#bd3786\"],[0.5555555555555556,\"#d8576b\"],[0.6666666666666666,\"#ed7953\"],[0.7777777777777778,\"#fb9f3a\"],[0.8888888888888888,\"#fdca26\"],[1.0,\"#f0f921\"]],\"type\":\"heatmap\"}],\"heatmapgl\":[{\"colorbar\":{\"outlinewidth\":0,\"ticks\":\"\"},\"colorscale\":[[0.0,\"#0d0887\"],[0.1111111111111111,\"#46039f\"],[0.2222222222222222,\"#7201a8\"],[0.3333333333333333,\"#9c179e\"],[0.4444444444444444,\"#bd3786\"],[0.5555555555555556,\"#d8576b\"],[0.6666666666666666,\"#ed7953\"],[0.7777777777777778,\"#fb9f3a\"],[0.8888888888888888,\"#fdca26\"],[1.0,\"#f0f921\"]],\"type\":\"heatmapgl\"}],\"histogram\":[{\"marker\":{\"pattern\":{\"fillmode\":\"overlay\",\"size\":10,\"solidity\":0.2}},\"type\":\"histogram\"}],\"histogram2d\":[{\"colorbar\":{\"outlinewidth\":0,\"ticks\":\"\"},\"colorscale\":[[0.0,\"#0d0887\"],[0.1111111111111111,\"#46039f\"],[0.2222222222222222,\"#7201a8\"],[0.3333333333333333,\"#9c179e\"],[0.4444444444444444,\"#bd3786\"],[0.5555555555555556,\"#d8576b\"],[0.6666666666666666,\"#ed7953\"],[0.7777777777777778,\"#fb9f3a\"],[0.8888888888888888,\"#fdca26\"],[1.0,\"#f0f921\"]],\"type\":\"histogram2d\"}],\"histogram2dcontour\":[{\"colorbar\":{\"outlinewidth\":0,\"ticks\":\"\"},\"colorscale\":[[0.0,\"#0d0887\"],[0.1111111111111111,\"#46039f\"],[0.2222222222222222,\"#7201a8\"],[0.3333333333333333,\"#9c179e\"],[0.4444444444444444,\"#bd3786\"],[0.5555555555555556,\"#d8576b\"],[0.6666666666666666,\"#ed7953\"],[0.7777777777777778,\"#fb9f3a\"],[0.8888888888888888,\"#fdca26\"],[1.0,\"#f0f921\"]],\"type\":\"histogram2dcontour\"}],\"mesh3d\":[{\"colorbar\":{\"outlinewidth\":0,\"ticks\":\"\"},\"type\":\"mesh3d\"}],\"parcoords\":[{\"line\":{\"colorbar\":{\"outlinewidth\":0,\"ticks\":\"\"}},\"type\":\"parcoords\"}],\"pie\":[{\"automargin\":true,\"type\":\"pie\"}],\"scatter\":[{\"marker\":{\"colorbar\":{\"outlinewidth\":0,\"ticks\":\"\"}},\"type\":\"scatter\"}],\"scatter3d\":[{\"line\":{\"colorbar\":{\"outlinewidth\":0,\"ticks\":\"\"}},\"marker\":{\"colorbar\":{\"outlinewidth\":0,\"ticks\":\"\"}},\"type\":\"scatter3d\"}],\"scattercarpet\":[{\"marker\":{\"colorbar\":{\"outlinewidth\":0,\"ticks\":\"\"}},\"type\":\"scattercarpet\"}],\"scattergeo\":[{\"marker\":{\"colorbar\":{\"outlinewidth\":0,\"ticks\":\"\"}},\"type\":\"scattergeo\"}],\"scattergl\":[{\"marker\":{\"colorbar\":{\"outlinewidth\":0,\"ticks\":\"\"}},\"type\":\"scattergl\"}],\"scattermapbox\":[{\"marker\":{\"colorbar\":{\"outlinewidth\":0,\"ticks\":\"\"}},\"type\":\"scattermapbox\"}],\"scatterpolar\":[{\"marker\":{\"colorbar\":{\"outlinewidth\":0,\"ticks\":\"\"}},\"type\":\"scatterpolar\"}],\"scatterpolargl\":[{\"marker\":{\"colorbar\":{\"outlinewidth\":0,\"ticks\":\"\"}},\"type\":\"scatterpolargl\"}],\"scatterternary\":[{\"marker\":{\"colorbar\":{\"outlinewidth\":0,\"ticks\":\"\"}},\"type\":\"scatterternary\"}],\"surface\":[{\"colorbar\":{\"outlinewidth\":0,\"ticks\":\"\"},\"colorscale\":[[0.0,\"#0d0887\"],[0.1111111111111111,\"#46039f\"],[0.2222222222222222,\"#7201a8\"],[0.3333333333333333,\"#9c179e\"],[0.4444444444444444,\"#bd3786\"],[0.5555555555555556,\"#d8576b\"],[0.6666666666666666,\"#ed7953\"],[0.7777777777777778,\"#fb9f3a\"],[0.8888888888888888,\"#fdca26\"],[1.0,\"#f0f921\"]],\"type\":\"surface\"}],\"table\":[{\"cells\":{\"fill\":{\"color\":\"#EBF0F8\"},\"line\":{\"color\":\"white\"}},\"header\":{\"fill\":{\"color\":\"#C8D4E3\"},\"line\":{\"color\":\"white\"}},\"type\":\"table\"}]},\"layout\":{\"annotationdefaults\":{\"arrowcolor\":\"#2a3f5f\",\"arrowhead\":0,\"arrowwidth\":1},\"autotypenumbers\":\"strict\",\"coloraxis\":{\"colorbar\":{\"outlinewidth\":0,\"ticks\":\"\"}},\"colorscale\":{\"diverging\":[[0,\"#8e0152\"],[0.1,\"#c51b7d\"],[0.2,\"#de77ae\"],[0.3,\"#f1b6da\"],[0.4,\"#fde0ef\"],[0.5,\"#f7f7f7\"],[0.6,\"#e6f5d0\"],[0.7,\"#b8e186\"],[0.8,\"#7fbc41\"],[0.9,\"#4d9221\"],[1,\"#276419\"]],\"sequential\":[[0.0,\"#0d0887\"],[0.1111111111111111,\"#46039f\"],[0.2222222222222222,\"#7201a8\"],[0.3333333333333333,\"#9c179e\"],[0.4444444444444444,\"#bd3786\"],[0.5555555555555556,\"#d8576b\"],[0.6666666666666666,\"#ed7953\"],[0.7777777777777778,\"#fb9f3a\"],[0.8888888888888888,\"#fdca26\"],[1.0,\"#f0f921\"]],\"sequentialminus\":[[0.0,\"#0d0887\"],[0.1111111111111111,\"#46039f\"],[0.2222222222222222,\"#7201a8\"],[0.3333333333333333,\"#9c179e\"],[0.4444444444444444,\"#bd3786\"],[0.5555555555555556,\"#d8576b\"],[0.6666666666666666,\"#ed7953\"],[0.7777777777777778,\"#fb9f3a\"],[0.8888888888888888,\"#fdca26\"],[1.0,\"#f0f921\"]]},\"colorway\":[\"#636efa\",\"#EF553B\",\"#00cc96\",\"#ab63fa\",\"#FFA15A\",\"#19d3f3\",\"#FF6692\",\"#B6E880\",\"#FF97FF\",\"#FECB52\"],\"font\":{\"color\":\"#2a3f5f\"},\"geo\":{\"bgcolor\":\"white\",\"lakecolor\":\"white\",\"landcolor\":\"#E5ECF6\",\"showlakes\":true,\"showland\":true,\"subunitcolor\":\"white\"},\"hoverlabel\":{\"align\":\"left\"},\"hovermode\":\"closest\",\"mapbox\":{\"style\":\"light\"},\"paper_bgcolor\":\"white\",\"plot_bgcolor\":\"#E5ECF6\",\"polar\":{\"angularaxis\":{\"gridcolor\":\"white\",\"linecolor\":\"white\",\"ticks\":\"\"},\"bgcolor\":\"#E5ECF6\",\"radialaxis\":{\"gridcolor\":\"white\",\"linecolor\":\"white\",\"ticks\":\"\"}},\"scene\":{\"xaxis\":{\"backgroundcolor\":\"#E5ECF6\",\"gridcolor\":\"white\",\"gridwidth\":2,\"linecolor\":\"white\",\"showbackground\":true,\"ticks\":\"\",\"zerolinecolor\":\"white\"},\"yaxis\":{\"backgroundcolor\":\"#E5ECF6\",\"gridcolor\":\"white\",\"gridwidth\":2,\"linecolor\":\"white\",\"showbackground\":true,\"ticks\":\"\",\"zerolinecolor\":\"white\"},\"zaxis\":{\"backgroundcolor\":\"#E5ECF6\",\"gridcolor\":\"white\",\"gridwidth\":2,\"linecolor\":\"white\",\"showbackground\":true,\"ticks\":\"\",\"zerolinecolor\":\"white\"}},\"shapedefaults\":{\"line\":{\"color\":\"#2a3f5f\"}},\"ternary\":{\"aaxis\":{\"gridcolor\":\"white\",\"linecolor\":\"white\",\"ticks\":\"\"},\"baxis\":{\"gridcolor\":\"white\",\"linecolor\":\"white\",\"ticks\":\"\"},\"bgcolor\":\"#E5ECF6\",\"caxis\":{\"gridcolor\":\"white\",\"linecolor\":\"white\",\"ticks\":\"\"}},\"title\":{\"x\":0.05},\"xaxis\":{\"automargin\":true,\"gridcolor\":\"white\",\"linecolor\":\"white\",\"ticks\":\"\",\"title\":{\"standoff\":15},\"zerolinecolor\":\"white\",\"zerolinewidth\":2},\"yaxis\":{\"automargin\":true,\"gridcolor\":\"white\",\"linecolor\":\"white\",\"ticks\":\"\",\"title\":{\"standoff\":15},\"zerolinecolor\":\"white\",\"zerolinewidth\":2}}},\"title\":{\"font\":{\"color\":\"#4D5663\"}},\"xaxis\":{\"gridcolor\":\"#E1E5ED\",\"showgrid\":true,\"tickfont\":{\"color\":\"#4D5663\"},\"title\":{\"font\":{\"color\":\"#4D5663\"},\"text\":\"\"},\"zerolinecolor\":\"#E1E5ED\"},\"yaxis\":{\"gridcolor\":\"#E1E5ED\",\"showgrid\":true,\"tickfont\":{\"color\":\"#4D5663\"},\"title\":{\"font\":{\"color\":\"#4D5663\"},\"text\":\"\"},\"zerolinecolor\":\"#E1E5ED\"}},                        {\"showLink\": true, \"linkText\": \"Export to plot.ly\", \"plotlyServerURL\": \"https://plot.ly\", \"responsive\": true}                    ).then(function(){\n",
       "                            \n",
       "var gd = document.getElementById('9e27464c-cb4c-4e81-b9a1-158d029c6c98');\n",
       "var x = new MutationObserver(function (mutations, observer) {{\n",
       "        var display = window.getComputedStyle(gd).display;\n",
       "        if (!display || display === 'none') {{\n",
       "            console.log([gd, 'removed!']);\n",
       "            Plotly.purge(gd);\n",
       "            observer.disconnect();\n",
       "        }}\n",
       "}});\n",
       "\n",
       "// Listen for the removal of the full notebook cells\n",
       "var notebookContainer = gd.closest('#notebook-container');\n",
       "if (notebookContainer) {{\n",
       "    x.observe(notebookContainer, {childList: true});\n",
       "}}\n",
       "\n",
       "// Listen for the clearing of the current output cell\n",
       "var outputEl = gd.closest('.output');\n",
       "if (outputEl) {{\n",
       "    x.observe(outputEl, {childList: true});\n",
       "}}\n",
       "\n",
       "                        })                };                });            </script>        </div>"
      ]
     },
     "metadata": {},
     "output_type": "display_data"
    }
   ],
   "source": [
    "df.iplot(kind='hist',bins=50)"
   ]
  },
  {
   "cell_type": "code",
   "execution_count": 47,
   "id": "00ec36e9",
   "metadata": {},
   "outputs": [
    {
     "data": {
      "text/html": [
       "<div>\n",
       "<style scoped>\n",
       "    .dataframe tbody tr th:only-of-type {\n",
       "        vertical-align: middle;\n",
       "    }\n",
       "\n",
       "    .dataframe tbody tr th {\n",
       "        vertical-align: top;\n",
       "    }\n",
       "\n",
       "    .dataframe thead th {\n",
       "        text-align: right;\n",
       "    }\n",
       "</style>\n",
       "<table border=\"1\" class=\"dataframe\">\n",
       "  <thead>\n",
       "    <tr style=\"text-align: right;\">\n",
       "      <th></th>\n",
       "      <th>A</th>\n",
       "      <th>B</th>\n",
       "    </tr>\n",
       "  </thead>\n",
       "  <tbody>\n",
       "    <tr>\n",
       "      <th>0</th>\n",
       "      <td>-0.342253</td>\n",
       "      <td>0.990096</td>\n",
       "    </tr>\n",
       "    <tr>\n",
       "      <th>1</th>\n",
       "      <td>0.489245</td>\n",
       "      <td>-0.988945</td>\n",
       "    </tr>\n",
       "    <tr>\n",
       "      <th>2</th>\n",
       "      <td>0.628930</td>\n",
       "      <td>-0.937835</td>\n",
       "    </tr>\n",
       "    <tr>\n",
       "      <th>3</th>\n",
       "      <td>-0.962344</td>\n",
       "      <td>-0.546369</td>\n",
       "    </tr>\n",
       "    <tr>\n",
       "      <th>4</th>\n",
       "      <td>0.521837</td>\n",
       "      <td>2.027152</td>\n",
       "    </tr>\n",
       "    <tr>\n",
       "      <th>...</th>\n",
       "      <td>...</td>\n",
       "      <td>...</td>\n",
       "    </tr>\n",
       "    <tr>\n",
       "      <th>95</th>\n",
       "      <td>1.013314</td>\n",
       "      <td>-0.101790</td>\n",
       "    </tr>\n",
       "    <tr>\n",
       "      <th>96</th>\n",
       "      <td>0.314798</td>\n",
       "      <td>-1.347235</td>\n",
       "    </tr>\n",
       "    <tr>\n",
       "      <th>97</th>\n",
       "      <td>2.114554</td>\n",
       "      <td>-0.656954</td>\n",
       "    </tr>\n",
       "    <tr>\n",
       "      <th>98</th>\n",
       "      <td>-1.027783</td>\n",
       "      <td>0.943778</td>\n",
       "    </tr>\n",
       "    <tr>\n",
       "      <th>99</th>\n",
       "      <td>-0.783802</td>\n",
       "      <td>-3.005804</td>\n",
       "    </tr>\n",
       "  </tbody>\n",
       "</table>\n",
       "<p>100 rows × 2 columns</p>\n",
       "</div>"
      ],
      "text/plain": [
       "           A         B\n",
       "0  -0.342253  0.990096\n",
       "1   0.489245 -0.988945\n",
       "2   0.628930 -0.937835\n",
       "3  -0.962344 -0.546369\n",
       "4   0.521837  2.027152\n",
       "..       ...       ...\n",
       "95  1.013314 -0.101790\n",
       "96  0.314798 -1.347235\n",
       "97  2.114554 -0.656954\n",
       "98 -1.027783  0.943778\n",
       "99 -0.783802 -3.005804\n",
       "\n",
       "[100 rows x 2 columns]"
      ]
     },
     "execution_count": 47,
     "metadata": {},
     "output_type": "execute_result"
    }
   ],
   "source": [
    "df[['A','B']]"
   ]
  },
  {
   "cell_type": "code",
   "execution_count": 48,
   "id": "35d41f27",
   "metadata": {},
   "outputs": [
    {
     "name": "stderr",
     "output_type": "stream",
     "text": [
      "C:\\Users\\Lenovo\\anaconda3\\lib\\site-packages\\cufflinks\\plotlytools.py:849: FutureWarning:\n",
      "\n",
      "The pandas.np module is deprecated and will be removed from pandas in a future version. Import numpy directly instead\n",
      "\n",
      "C:\\Users\\Lenovo\\anaconda3\\lib\\site-packages\\cufflinks\\plotlytools.py:850: FutureWarning:\n",
      "\n",
      "The pandas.np module is deprecated and will be removed from pandas in a future version. Import numpy directly instead\n",
      "\n"
     ]
    },
    {
     "data": {
      "application/vnd.plotly.v1+json": {
       "config": {
        "linkText": "Export to plot.ly",
        "plotlyServerURL": "https://plot.ly",
        "showLink": true
       },
       "data": [
        {
         "line": {
          "color": "rgba(255, 153, 51, 1.0)",
          "dash": "solid",
          "shape": "linear",
          "width": 1.3
         },
         "mode": "lines",
         "name": "A",
         "text": "",
         "type": "scatter",
         "x": [
          0,
          1,
          2,
          3,
          4,
          5,
          6,
          7,
          8,
          9,
          10,
          11,
          12,
          13,
          14,
          15,
          16,
          17,
          18,
          19,
          20,
          21,
          22,
          23,
          24,
          25,
          26,
          27,
          28,
          29,
          30,
          31,
          32,
          33,
          34,
          35,
          36,
          37,
          38,
          39,
          40,
          41,
          42,
          43,
          44,
          45,
          46,
          47,
          48,
          49,
          50,
          51,
          52,
          53,
          54,
          55,
          56,
          57,
          58,
          59,
          60,
          61,
          62,
          63,
          64,
          65,
          66,
          67,
          68,
          69,
          70,
          71,
          72,
          73,
          74,
          75,
          76,
          77,
          78,
          79,
          80,
          81,
          82,
          83,
          84,
          85,
          86,
          87,
          88,
          89,
          90,
          91,
          92,
          93,
          94,
          95,
          96,
          97,
          98,
          99
         ],
         "y": [
          -0.34225299009874355,
          0.4892447760011251,
          0.6289296113249515,
          -0.9623444735331236,
          0.5218374246730623,
          1.0872779779546433,
          -2.5446001105676275,
          -0.2858836687280843,
          1.3065777779854995,
          -2.4104707774726113,
          1.3369186035954843,
          0.3838707492935451,
          -0.5526656706871299,
          -0.523243795919335,
          -0.5219209505049524,
          0.7876928140633233,
          -0.9458273989118097,
          0.6798036848133264,
          -0.7326321084090412,
          2.9676666789696204,
          -0.05694316110548828,
          -0.3901687948679766,
          0.39042317054449927,
          -0.5097476850302313,
          -0.06005776882918707,
          1.8651889477854269,
          0.6825596947887341,
          -0.660930834038989,
          0.7457389149047722,
          0.5831350759677145,
          0.20565331727263178,
          0.12137563657220368,
          0.14222541475987407,
          -0.21964030922882513,
          -0.1403522050946297,
          0.9130048247460788,
          -0.5324825569805095,
          0.8357026232545052,
          -0.05136640945025422,
          -0.15442903874892236,
          0.4427417326955754,
          -1.4618826570001109,
          -0.23457977919541678,
          1.5819006525811172,
          1.7673116734486296,
          0.5244123082679875,
          -1.4960518062062593,
          -0.08993988733773665,
          0.8209575792192505,
          0.277831732542309,
          1.9225576880083868,
          1.757171966228769,
          -2.138688527959561,
          -1.3709748402957949,
          -0.7155997219888818,
          0.3317227996255702,
          -1.0043614591743062,
          -1.0261278984258224,
          -1.4276290468878337,
          -1.0891931758991331,
          0.2035269789201755,
          0.02473667551913148,
          0.19551292413294072,
          -0.19036560623878837,
          -1.8010591597777204,
          0.8032033734232925,
          -1.0990490358758565,
          0.7760903618580065,
          -0.5271828141604505,
          -0.7383131855752465,
          -0.27543257249948844,
          -0.037819243298348515,
          1.2032094442658468,
          0.785084605957565,
          0.7503288870253916,
          -0.8472573692739707,
          -0.37625320843617843,
          -1.2657485333486633,
          1.7888324677330751,
          0.7499899464558957,
          0.3247253443598456,
          1.1096782207812264,
          0.28418622192332155,
          0.8318537645554853,
          2.0139557344103043,
          0.3476274485672122,
          -0.7967921761246892,
          -0.12058745799601407,
          0.43531389145934873,
          0.35347704597191093,
          -1.3720175798793395,
          -1.2811737166611563,
          0.04571690779276586,
          1.8411898245359177,
          -0.34353168706576764,
          1.0133136240424316,
          0.31479801507956323,
          2.1145539751315687,
          -1.0277828928921748,
          -0.7838019655038211
         ]
        },
        {
         "line": {
          "color": "rgba(55, 128, 191, 1.0)",
          "dash": "solid",
          "shape": "linear",
          "width": 1.3
         },
         "mode": "lines",
         "name": "B",
         "text": "",
         "type": "scatter",
         "x": [
          0,
          1,
          2,
          3,
          4,
          5,
          6,
          7,
          8,
          9,
          10,
          11,
          12,
          13,
          14,
          15,
          16,
          17,
          18,
          19,
          20,
          21,
          22,
          23,
          24,
          25,
          26,
          27,
          28,
          29,
          30,
          31,
          32,
          33,
          34,
          35,
          36,
          37,
          38,
          39,
          40,
          41,
          42,
          43,
          44,
          45,
          46,
          47,
          48,
          49,
          50,
          51,
          52,
          53,
          54,
          55,
          56,
          57,
          58,
          59,
          60,
          61,
          62,
          63,
          64,
          65,
          66,
          67,
          68,
          69,
          70,
          71,
          72,
          73,
          74,
          75,
          76,
          77,
          78,
          79,
          80,
          81,
          82,
          83,
          84,
          85,
          86,
          87,
          88,
          89,
          90,
          91,
          92,
          93,
          94,
          95,
          96,
          97,
          98,
          99
         ],
         "y": [
          0.9900955482666974,
          -0.9889452577232196,
          -0.9378354850254641,
          -0.5463691152022653,
          2.0271518857018807,
          0.19925957847537346,
          -0.7786039713483985,
          0.2520015620313144,
          -0.6188427581785232,
          0.419814842315549,
          -1.8602683357380412,
          0.7728522626338924,
          0.23979797259129315,
          1.1297423815295664,
          -0.10475559546208067,
          -0.009461289991414178,
          0.7113080068140527,
          -1.4786843116096715,
          -1.3201954219731604,
          0.07031698798374092,
          1.6442459691777473,
          -0.13952067189279416,
          -0.9250117184627819,
          -1.730634623494131,
          -1.2546443084973622,
          1.2139408010780905,
          -0.5844745801129339,
          -0.29554717166621897,
          0.27281484542731976,
          0.25318894794907465,
          -0.24638066248007567,
          -0.3001463717227039,
          -0.47843477549201796,
          1.5339025213459436,
          1.237395379686162,
          -0.214093862004028,
          -0.3867947061510151,
          0.20025306551505054,
          0.5518586459046209,
          -1.2649171383821682,
          -0.31394703787397016,
          2.624200579430331,
          -0.7124402468346807,
          0.47598211399691526,
          0.3543661152225115,
          -0.7416521439997066,
          0.11901051948687877,
          -1.228030696683017,
          -0.5254167537146217,
          -0.8180277127043986,
          0.9767586529113346,
          1.2707583473030304,
          -0.1430902898326658,
          0.3866316300901333,
          0.918493501529165,
          0.7382411409509697,
          -1.7872095559123204,
          -0.05138925422187474,
          -1.3099282607443965,
          0.3619874357419031,
          0.2473659952388168,
          0.673183153770201,
          -0.42378629704185045,
          -0.5218702450381305,
          0.3643796819545949,
          -0.8571232551495427,
          0.6196384121373644,
          -0.5532877791773987,
          -0.6985239271046452,
          -0.4971711238652195,
          0.9837197737497394,
          0.151109103477177,
          -0.45528688478792184,
          -0.2940979367596788,
          -1.1357511274305079,
          1.7291497641174005,
          -0.5315171160860179,
          0.5412751513880071,
          2.319270328199936,
          1.105881259664581,
          0.24183604497834638,
          -0.12739001798747068,
          0.15509861976732744,
          -1.0996109070986873,
          0.23972510178264853,
          -0.08154335854543714,
          -1.8255709836497878,
          1.8463351692191043,
          1.820835557120743,
          0.9539408365908607,
          -1.7026480093372356,
          0.736197256641093,
          -0.21103967120123218,
          0.37668614877938134,
          -0.8927141407003845,
          -0.10178995397251908,
          -1.3472346892602074,
          -0.6569542813244048,
          0.9437776474422417,
          -3.0058043986457124
         ]
        },
        {
         "connectgaps": false,
         "fill": "tozeroy",
         "line": {
          "color": "green",
          "dash": "solid",
          "shape": "linear",
          "width": 0.5
         },
         "mode": "lines",
         "name": "Spread",
         "showlegend": false,
         "type": "scatter",
         "x": [
          0,
          1,
          2,
          3,
          4,
          5,
          6,
          7,
          8,
          9,
          10,
          11,
          12,
          13,
          14,
          15,
          16,
          17,
          18,
          19,
          20,
          21,
          22,
          23,
          24,
          25,
          26,
          27,
          28,
          29,
          30,
          31,
          32,
          33,
          34,
          35,
          36,
          37,
          38,
          39,
          40,
          41,
          42,
          43,
          44,
          45,
          46,
          47,
          48,
          49,
          50,
          51,
          52,
          53,
          54,
          55,
          56,
          57,
          58,
          59,
          60,
          61,
          62,
          63,
          64,
          65,
          66,
          67,
          68,
          69,
          70,
          71,
          72,
          73,
          74,
          75,
          76,
          77,
          78,
          79,
          80,
          81,
          82,
          83,
          84,
          85,
          86,
          87,
          88,
          89,
          90,
          91,
          92,
          93,
          94,
          95,
          96,
          97,
          98,
          99
         ],
         "xaxis": "x2",
         "y": [
          "",
          1.4781900337243448,
          1.5667650963504156,
          "",
          "",
          0.8880183994792699,
          "",
          "",
          1.9254205361640226,
          "",
          3.1971869393335255,
          "",
          "",
          "",
          "",
          0.7971541040547374,
          "",
          2.158487996422998,
          0.5875633135641192,
          2.8973496909858794,
          "",
          "",
          1.3154348890072811,
          1.2208869384638996,
          1.1945865396681752,
          0.6512481467073363,
          1.2670342749016679,
          "",
          0.4729240694774524,
          0.3299461280186399,
          0.4520339797527074,
          0.4215220082949076,
          0.620660190251892,
          "",
          "",
          1.1270986867501067,
          "",
          0.6354495577394547,
          "",
          1.1104880996332458,
          0.7566887705695455,
          "",
          0.4778604676392639,
          1.105918538584202,
          1.4129455582261181,
          1.266064452267694,
          "",
          1.1380908093452804,
          1.3463743329338722,
          1.0958594452467074,
          0.9457990350970522,
          0.48641361892573864,
          "",
          "",
          "",
          "",
          0.7828480967380143,
          "",
          "",
          "",
          "",
          "",
          0.6192992211747912,
          0.3315046387993421,
          "",
          1.660326628572835,
          "",
          1.3293781410354053,
          0.17134111294419463,
          "",
          "",
          "",
          1.6584963290537686,
          1.079182542717244,
          1.8860800144558993,
          "",
          0.1552639076498395,
          "",
          "",
          "",
          0.08288929938149925,
          1.237068238768697,
          0.1290876021559941,
          1.9314646716541726,
          1.7742306326276558,
          0.4291708071126494,
          1.0287788075250985,
          "",
          "",
          "",
          0.3306304294578961,
          "",
          0.25675657899399806,
          1.4645036757565364,
          0.5491824536346168,
          1.1151035780149507,
          1.6620327043397707,
          2.7715082564559737,
          "",
          2.222002433141891
         ],
         "yaxis": "y2"
        },
        {
         "connectgaps": false,
         "fill": "tozeroy",
         "line": {
          "color": "red",
          "dash": "solid",
          "shape": "linear",
          "width": 0.5
         },
         "mode": "lines",
         "name": "Spread",
         "showlegend": false,
         "type": "scatter",
         "x": [
          0,
          1,
          2,
          3,
          4,
          5,
          6,
          7,
          8,
          9,
          10,
          11,
          12,
          13,
          14,
          15,
          16,
          17,
          18,
          19,
          20,
          21,
          22,
          23,
          24,
          25,
          26,
          27,
          28,
          29,
          30,
          31,
          32,
          33,
          34,
          35,
          36,
          37,
          38,
          39,
          40,
          41,
          42,
          43,
          44,
          45,
          46,
          47,
          48,
          49,
          50,
          51,
          52,
          53,
          54,
          55,
          56,
          57,
          58,
          59,
          60,
          61,
          62,
          63,
          64,
          65,
          66,
          67,
          68,
          69,
          70,
          71,
          72,
          73,
          74,
          75,
          76,
          77,
          78,
          79,
          80,
          81,
          82,
          83,
          84,
          85,
          86,
          87,
          88,
          89,
          90,
          91,
          92,
          93,
          94,
          95,
          96,
          97,
          98,
          99
         ],
         "xaxis": "x2",
         "y": [
          -1.332348538365441,
          "",
          "",
          -0.4159753583308583,
          -1.5053144610288185,
          "",
          -1.765996139219229,
          -0.5378852307593986,
          "",
          -2.8302856197881603,
          "",
          -0.3889815133403473,
          -0.7924636432784231,
          -1.6529861774489014,
          -0.41716535504287167,
          "",
          -1.6571354057258625,
          "",
          "",
          "",
          -1.7011891302832356,
          -0.25064812297518246,
          "",
          "",
          "",
          "",
          "",
          -0.36538366237277004,
          "",
          "",
          "",
          "",
          "",
          -1.7535428305747687,
          -1.3777475847807918,
          "",
          -0.14568785082949443,
          "",
          -0.603225055354875,
          "",
          "",
          -4.086083236430442,
          "",
          "",
          "",
          "",
          -1.615062325693138,
          "",
          "",
          "",
          "",
          "",
          -1.9955982381268953,
          -1.7576064703859282,
          -1.6340932235180468,
          -0.4065183413253995,
          "",
          -0.9747386442039476,
          -0.11770078614343715,
          -1.4511806116410362,
          -0.043839016318641316,
          -0.6484464782510695,
          "",
          "",
          -2.1654388417323154,
          "",
          -1.7186874480132208,
          "",
          "",
          -0.241142061710027,
          -1.2591523462492278,
          -0.1889283467755255,
          "",
          "",
          "",
          -2.5764071333913714,
          "",
          -1.8070236847366705,
          -0.5304378604668609,
          -0.3558913132086854,
          "",
          "",
          "",
          "",
          "",
          "",
          "",
          -1.9669226272151183,
          -1.3855216656613942,
          -0.6004637906189498,
          "",
          -2.017370973302249,
          "",
          "",
          "",
          "",
          "",
          "",
          -1.9715605403344165,
          ""
         ],
         "yaxis": "y2"
        }
       ],
       "layout": {
        "hovermode": "x",
        "legend": {
         "bgcolor": "#F5F6F9",
         "font": {
          "color": "#4D5663"
         }
        },
        "paper_bgcolor": "#F5F6F9",
        "plot_bgcolor": "#F5F6F9",
        "template": {
         "data": {
          "bar": [
           {
            "error_x": {
             "color": "#2a3f5f"
            },
            "error_y": {
             "color": "#2a3f5f"
            },
            "marker": {
             "line": {
              "color": "#E5ECF6",
              "width": 0.5
             },
             "pattern": {
              "fillmode": "overlay",
              "size": 10,
              "solidity": 0.2
             }
            },
            "type": "bar"
           }
          ],
          "barpolar": [
           {
            "marker": {
             "line": {
              "color": "#E5ECF6",
              "width": 0.5
             },
             "pattern": {
              "fillmode": "overlay",
              "size": 10,
              "solidity": 0.2
             }
            },
            "type": "barpolar"
           }
          ],
          "carpet": [
           {
            "aaxis": {
             "endlinecolor": "#2a3f5f",
             "gridcolor": "white",
             "linecolor": "white",
             "minorgridcolor": "white",
             "startlinecolor": "#2a3f5f"
            },
            "baxis": {
             "endlinecolor": "#2a3f5f",
             "gridcolor": "white",
             "linecolor": "white",
             "minorgridcolor": "white",
             "startlinecolor": "#2a3f5f"
            },
            "type": "carpet"
           }
          ],
          "choropleth": [
           {
            "colorbar": {
             "outlinewidth": 0,
             "ticks": ""
            },
            "type": "choropleth"
           }
          ],
          "contour": [
           {
            "colorbar": {
             "outlinewidth": 0,
             "ticks": ""
            },
            "colorscale": [
             [
              0,
              "#0d0887"
             ],
             [
              0.1111111111111111,
              "#46039f"
             ],
             [
              0.2222222222222222,
              "#7201a8"
             ],
             [
              0.3333333333333333,
              "#9c179e"
             ],
             [
              0.4444444444444444,
              "#bd3786"
             ],
             [
              0.5555555555555556,
              "#d8576b"
             ],
             [
              0.6666666666666666,
              "#ed7953"
             ],
             [
              0.7777777777777778,
              "#fb9f3a"
             ],
             [
              0.8888888888888888,
              "#fdca26"
             ],
             [
              1,
              "#f0f921"
             ]
            ],
            "type": "contour"
           }
          ],
          "contourcarpet": [
           {
            "colorbar": {
             "outlinewidth": 0,
             "ticks": ""
            },
            "type": "contourcarpet"
           }
          ],
          "heatmap": [
           {
            "colorbar": {
             "outlinewidth": 0,
             "ticks": ""
            },
            "colorscale": [
             [
              0,
              "#0d0887"
             ],
             [
              0.1111111111111111,
              "#46039f"
             ],
             [
              0.2222222222222222,
              "#7201a8"
             ],
             [
              0.3333333333333333,
              "#9c179e"
             ],
             [
              0.4444444444444444,
              "#bd3786"
             ],
             [
              0.5555555555555556,
              "#d8576b"
             ],
             [
              0.6666666666666666,
              "#ed7953"
             ],
             [
              0.7777777777777778,
              "#fb9f3a"
             ],
             [
              0.8888888888888888,
              "#fdca26"
             ],
             [
              1,
              "#f0f921"
             ]
            ],
            "type": "heatmap"
           }
          ],
          "heatmapgl": [
           {
            "colorbar": {
             "outlinewidth": 0,
             "ticks": ""
            },
            "colorscale": [
             [
              0,
              "#0d0887"
             ],
             [
              0.1111111111111111,
              "#46039f"
             ],
             [
              0.2222222222222222,
              "#7201a8"
             ],
             [
              0.3333333333333333,
              "#9c179e"
             ],
             [
              0.4444444444444444,
              "#bd3786"
             ],
             [
              0.5555555555555556,
              "#d8576b"
             ],
             [
              0.6666666666666666,
              "#ed7953"
             ],
             [
              0.7777777777777778,
              "#fb9f3a"
             ],
             [
              0.8888888888888888,
              "#fdca26"
             ],
             [
              1,
              "#f0f921"
             ]
            ],
            "type": "heatmapgl"
           }
          ],
          "histogram": [
           {
            "marker": {
             "pattern": {
              "fillmode": "overlay",
              "size": 10,
              "solidity": 0.2
             }
            },
            "type": "histogram"
           }
          ],
          "histogram2d": [
           {
            "colorbar": {
             "outlinewidth": 0,
             "ticks": ""
            },
            "colorscale": [
             [
              0,
              "#0d0887"
             ],
             [
              0.1111111111111111,
              "#46039f"
             ],
             [
              0.2222222222222222,
              "#7201a8"
             ],
             [
              0.3333333333333333,
              "#9c179e"
             ],
             [
              0.4444444444444444,
              "#bd3786"
             ],
             [
              0.5555555555555556,
              "#d8576b"
             ],
             [
              0.6666666666666666,
              "#ed7953"
             ],
             [
              0.7777777777777778,
              "#fb9f3a"
             ],
             [
              0.8888888888888888,
              "#fdca26"
             ],
             [
              1,
              "#f0f921"
             ]
            ],
            "type": "histogram2d"
           }
          ],
          "histogram2dcontour": [
           {
            "colorbar": {
             "outlinewidth": 0,
             "ticks": ""
            },
            "colorscale": [
             [
              0,
              "#0d0887"
             ],
             [
              0.1111111111111111,
              "#46039f"
             ],
             [
              0.2222222222222222,
              "#7201a8"
             ],
             [
              0.3333333333333333,
              "#9c179e"
             ],
             [
              0.4444444444444444,
              "#bd3786"
             ],
             [
              0.5555555555555556,
              "#d8576b"
             ],
             [
              0.6666666666666666,
              "#ed7953"
             ],
             [
              0.7777777777777778,
              "#fb9f3a"
             ],
             [
              0.8888888888888888,
              "#fdca26"
             ],
             [
              1,
              "#f0f921"
             ]
            ],
            "type": "histogram2dcontour"
           }
          ],
          "mesh3d": [
           {
            "colorbar": {
             "outlinewidth": 0,
             "ticks": ""
            },
            "type": "mesh3d"
           }
          ],
          "parcoords": [
           {
            "line": {
             "colorbar": {
              "outlinewidth": 0,
              "ticks": ""
             }
            },
            "type": "parcoords"
           }
          ],
          "pie": [
           {
            "automargin": true,
            "type": "pie"
           }
          ],
          "scatter": [
           {
            "marker": {
             "colorbar": {
              "outlinewidth": 0,
              "ticks": ""
             }
            },
            "type": "scatter"
           }
          ],
          "scatter3d": [
           {
            "line": {
             "colorbar": {
              "outlinewidth": 0,
              "ticks": ""
             }
            },
            "marker": {
             "colorbar": {
              "outlinewidth": 0,
              "ticks": ""
             }
            },
            "type": "scatter3d"
           }
          ],
          "scattercarpet": [
           {
            "marker": {
             "colorbar": {
              "outlinewidth": 0,
              "ticks": ""
             }
            },
            "type": "scattercarpet"
           }
          ],
          "scattergeo": [
           {
            "marker": {
             "colorbar": {
              "outlinewidth": 0,
              "ticks": ""
             }
            },
            "type": "scattergeo"
           }
          ],
          "scattergl": [
           {
            "marker": {
             "colorbar": {
              "outlinewidth": 0,
              "ticks": ""
             }
            },
            "type": "scattergl"
           }
          ],
          "scattermapbox": [
           {
            "marker": {
             "colorbar": {
              "outlinewidth": 0,
              "ticks": ""
             }
            },
            "type": "scattermapbox"
           }
          ],
          "scatterpolar": [
           {
            "marker": {
             "colorbar": {
              "outlinewidth": 0,
              "ticks": ""
             }
            },
            "type": "scatterpolar"
           }
          ],
          "scatterpolargl": [
           {
            "marker": {
             "colorbar": {
              "outlinewidth": 0,
              "ticks": ""
             }
            },
            "type": "scatterpolargl"
           }
          ],
          "scatterternary": [
           {
            "marker": {
             "colorbar": {
              "outlinewidth": 0,
              "ticks": ""
             }
            },
            "type": "scatterternary"
           }
          ],
          "surface": [
           {
            "colorbar": {
             "outlinewidth": 0,
             "ticks": ""
            },
            "colorscale": [
             [
              0,
              "#0d0887"
             ],
             [
              0.1111111111111111,
              "#46039f"
             ],
             [
              0.2222222222222222,
              "#7201a8"
             ],
             [
              0.3333333333333333,
              "#9c179e"
             ],
             [
              0.4444444444444444,
              "#bd3786"
             ],
             [
              0.5555555555555556,
              "#d8576b"
             ],
             [
              0.6666666666666666,
              "#ed7953"
             ],
             [
              0.7777777777777778,
              "#fb9f3a"
             ],
             [
              0.8888888888888888,
              "#fdca26"
             ],
             [
              1,
              "#f0f921"
             ]
            ],
            "type": "surface"
           }
          ],
          "table": [
           {
            "cells": {
             "fill": {
              "color": "#EBF0F8"
             },
             "line": {
              "color": "white"
             }
            },
            "header": {
             "fill": {
              "color": "#C8D4E3"
             },
             "line": {
              "color": "white"
             }
            },
            "type": "table"
           }
          ]
         },
         "layout": {
          "annotationdefaults": {
           "arrowcolor": "#2a3f5f",
           "arrowhead": 0,
           "arrowwidth": 1
          },
          "autotypenumbers": "strict",
          "coloraxis": {
           "colorbar": {
            "outlinewidth": 0,
            "ticks": ""
           }
          },
          "colorscale": {
           "diverging": [
            [
             0,
             "#8e0152"
            ],
            [
             0.1,
             "#c51b7d"
            ],
            [
             0.2,
             "#de77ae"
            ],
            [
             0.3,
             "#f1b6da"
            ],
            [
             0.4,
             "#fde0ef"
            ],
            [
             0.5,
             "#f7f7f7"
            ],
            [
             0.6,
             "#e6f5d0"
            ],
            [
             0.7,
             "#b8e186"
            ],
            [
             0.8,
             "#7fbc41"
            ],
            [
             0.9,
             "#4d9221"
            ],
            [
             1,
             "#276419"
            ]
           ],
           "sequential": [
            [
             0,
             "#0d0887"
            ],
            [
             0.1111111111111111,
             "#46039f"
            ],
            [
             0.2222222222222222,
             "#7201a8"
            ],
            [
             0.3333333333333333,
             "#9c179e"
            ],
            [
             0.4444444444444444,
             "#bd3786"
            ],
            [
             0.5555555555555556,
             "#d8576b"
            ],
            [
             0.6666666666666666,
             "#ed7953"
            ],
            [
             0.7777777777777778,
             "#fb9f3a"
            ],
            [
             0.8888888888888888,
             "#fdca26"
            ],
            [
             1,
             "#f0f921"
            ]
           ],
           "sequentialminus": [
            [
             0,
             "#0d0887"
            ],
            [
             0.1111111111111111,
             "#46039f"
            ],
            [
             0.2222222222222222,
             "#7201a8"
            ],
            [
             0.3333333333333333,
             "#9c179e"
            ],
            [
             0.4444444444444444,
             "#bd3786"
            ],
            [
             0.5555555555555556,
             "#d8576b"
            ],
            [
             0.6666666666666666,
             "#ed7953"
            ],
            [
             0.7777777777777778,
             "#fb9f3a"
            ],
            [
             0.8888888888888888,
             "#fdca26"
            ],
            [
             1,
             "#f0f921"
            ]
           ]
          },
          "colorway": [
           "#636efa",
           "#EF553B",
           "#00cc96",
           "#ab63fa",
           "#FFA15A",
           "#19d3f3",
           "#FF6692",
           "#B6E880",
           "#FF97FF",
           "#FECB52"
          ],
          "font": {
           "color": "#2a3f5f"
          },
          "geo": {
           "bgcolor": "white",
           "lakecolor": "white",
           "landcolor": "#E5ECF6",
           "showlakes": true,
           "showland": true,
           "subunitcolor": "white"
          },
          "hoverlabel": {
           "align": "left"
          },
          "hovermode": "closest",
          "mapbox": {
           "style": "light"
          },
          "paper_bgcolor": "white",
          "plot_bgcolor": "#E5ECF6",
          "polar": {
           "angularaxis": {
            "gridcolor": "white",
            "linecolor": "white",
            "ticks": ""
           },
           "bgcolor": "#E5ECF6",
           "radialaxis": {
            "gridcolor": "white",
            "linecolor": "white",
            "ticks": ""
           }
          },
          "scene": {
           "xaxis": {
            "backgroundcolor": "#E5ECF6",
            "gridcolor": "white",
            "gridwidth": 2,
            "linecolor": "white",
            "showbackground": true,
            "ticks": "",
            "zerolinecolor": "white"
           },
           "yaxis": {
            "backgroundcolor": "#E5ECF6",
            "gridcolor": "white",
            "gridwidth": 2,
            "linecolor": "white",
            "showbackground": true,
            "ticks": "",
            "zerolinecolor": "white"
           },
           "zaxis": {
            "backgroundcolor": "#E5ECF6",
            "gridcolor": "white",
            "gridwidth": 2,
            "linecolor": "white",
            "showbackground": true,
            "ticks": "",
            "zerolinecolor": "white"
           }
          },
          "shapedefaults": {
           "line": {
            "color": "#2a3f5f"
           }
          },
          "ternary": {
           "aaxis": {
            "gridcolor": "white",
            "linecolor": "white",
            "ticks": ""
           },
           "baxis": {
            "gridcolor": "white",
            "linecolor": "white",
            "ticks": ""
           },
           "bgcolor": "#E5ECF6",
           "caxis": {
            "gridcolor": "white",
            "linecolor": "white",
            "ticks": ""
           }
          },
          "title": {
           "x": 0.05
          },
          "xaxis": {
           "automargin": true,
           "gridcolor": "white",
           "linecolor": "white",
           "ticks": "",
           "title": {
            "standoff": 15
           },
           "zerolinecolor": "white",
           "zerolinewidth": 2
          },
          "yaxis": {
           "automargin": true,
           "gridcolor": "white",
           "linecolor": "white",
           "ticks": "",
           "title": {
            "standoff": 15
           },
           "zerolinecolor": "white",
           "zerolinewidth": 2
          }
         }
        },
        "title": {
         "font": {
          "color": "#4D5663"
         }
        },
        "xaxis": {
         "gridcolor": "#E1E5ED",
         "showgrid": true,
         "tickfont": {
          "color": "#4D5663"
         },
         "title": {
          "font": {
           "color": "#4D5663"
          },
          "text": ""
         },
         "zerolinecolor": "#E1E5ED"
        },
        "xaxis2": {
         "anchor": "y2",
         "gridcolor": "#E1E5ED",
         "showgrid": true,
         "showticklabels": false,
         "tickfont": {
          "color": "#4D5663"
         },
         "title": {
          "font": {
           "color": "#4D5663"
          },
          "text": ""
         },
         "zerolinecolor": "#E1E5ED"
        },
        "yaxis": {
         "domain": [
          0.3,
          1
         ],
         "gridcolor": "#E1E5ED",
         "showgrid": true,
         "tickfont": {
          "color": "#4D5663"
         },
         "title": {
          "font": {
           "color": "#4D5663"
          },
          "text": ""
         },
         "zerolinecolor": "#E1E5ED"
        },
        "yaxis2": {
         "domain": [
          0,
          0.25
         ],
         "gridcolor": "#E1E5ED",
         "showgrid": true,
         "tickfont": {
          "color": "#4D5663"
         },
         "title": {
          "font": {
           "color": "#4D5663"
          },
          "text": "Spread"
         },
         "zerolinecolor": "#E1E5ED"
        }
       }
      },
      "text/html": [
       "<div>                            <div id=\"fdbfb535-2759-4750-83e3-fc53131b71f5\" class=\"plotly-graph-div\" style=\"height:525px; width:100%;\"></div>            <script type=\"text/javascript\">                require([\"plotly\"], function(Plotly) {                    window.PLOTLYENV=window.PLOTLYENV || {};\n",
       "                    window.PLOTLYENV.BASE_URL='https://plot.ly';                                    if (document.getElementById(\"fdbfb535-2759-4750-83e3-fc53131b71f5\")) {                    Plotly.newPlot(                        \"fdbfb535-2759-4750-83e3-fc53131b71f5\",                        [{\"line\":{\"color\":\"rgba(255, 153, 51, 1.0)\",\"dash\":\"solid\",\"shape\":\"linear\",\"width\":1.3},\"mode\":\"lines\",\"name\":\"A\",\"text\":\"\",\"type\":\"scatter\",\"x\":[0,1,2,3,4,5,6,7,8,9,10,11,12,13,14,15,16,17,18,19,20,21,22,23,24,25,26,27,28,29,30,31,32,33,34,35,36,37,38,39,40,41,42,43,44,45,46,47,48,49,50,51,52,53,54,55,56,57,58,59,60,61,62,63,64,65,66,67,68,69,70,71,72,73,74,75,76,77,78,79,80,81,82,83,84,85,86,87,88,89,90,91,92,93,94,95,96,97,98,99],\"y\":[-0.34225299009874355,0.4892447760011251,0.6289296113249515,-0.9623444735331236,0.5218374246730623,1.0872779779546433,-2.5446001105676275,-0.2858836687280843,1.3065777779854995,-2.4104707774726113,1.3369186035954843,0.3838707492935451,-0.5526656706871299,-0.523243795919335,-0.5219209505049524,0.7876928140633233,-0.9458273989118097,0.6798036848133264,-0.7326321084090412,2.9676666789696204,-0.05694316110548828,-0.3901687948679766,0.39042317054449927,-0.5097476850302313,-0.06005776882918707,1.8651889477854269,0.6825596947887341,-0.660930834038989,0.7457389149047722,0.5831350759677145,0.20565331727263178,0.12137563657220368,0.14222541475987407,-0.21964030922882513,-0.1403522050946297,0.9130048247460788,-0.5324825569805095,0.8357026232545052,-0.05136640945025422,-0.15442903874892236,0.4427417326955754,-1.4618826570001109,-0.23457977919541678,1.5819006525811172,1.7673116734486296,0.5244123082679875,-1.4960518062062593,-0.08993988733773665,0.8209575792192505,0.277831732542309,1.9225576880083868,1.757171966228769,-2.138688527959561,-1.3709748402957949,-0.7155997219888818,0.3317227996255702,-1.0043614591743062,-1.0261278984258224,-1.4276290468878337,-1.0891931758991331,0.2035269789201755,0.02473667551913148,0.19551292413294072,-0.19036560623878837,-1.8010591597777204,0.8032033734232925,-1.0990490358758565,0.7760903618580065,-0.5271828141604505,-0.7383131855752465,-0.27543257249948844,-0.037819243298348515,1.2032094442658468,0.785084605957565,0.7503288870253916,-0.8472573692739707,-0.37625320843617843,-1.2657485333486633,1.7888324677330751,0.7499899464558957,0.3247253443598456,1.1096782207812264,0.28418622192332155,0.8318537645554853,2.0139557344103043,0.3476274485672122,-0.7967921761246892,-0.12058745799601407,0.43531389145934873,0.35347704597191093,-1.3720175798793395,-1.2811737166611563,0.04571690779276586,1.8411898245359177,-0.34353168706576764,1.0133136240424316,0.31479801507956323,2.1145539751315687,-1.0277828928921748,-0.7838019655038211]},{\"line\":{\"color\":\"rgba(55, 128, 191, 1.0)\",\"dash\":\"solid\",\"shape\":\"linear\",\"width\":1.3},\"mode\":\"lines\",\"name\":\"B\",\"text\":\"\",\"type\":\"scatter\",\"x\":[0,1,2,3,4,5,6,7,8,9,10,11,12,13,14,15,16,17,18,19,20,21,22,23,24,25,26,27,28,29,30,31,32,33,34,35,36,37,38,39,40,41,42,43,44,45,46,47,48,49,50,51,52,53,54,55,56,57,58,59,60,61,62,63,64,65,66,67,68,69,70,71,72,73,74,75,76,77,78,79,80,81,82,83,84,85,86,87,88,89,90,91,92,93,94,95,96,97,98,99],\"y\":[0.9900955482666974,-0.9889452577232196,-0.9378354850254641,-0.5463691152022653,2.0271518857018807,0.19925957847537346,-0.7786039713483985,0.2520015620313144,-0.6188427581785232,0.419814842315549,-1.8602683357380412,0.7728522626338924,0.23979797259129315,1.1297423815295664,-0.10475559546208067,-0.009461289991414178,0.7113080068140527,-1.4786843116096715,-1.3201954219731604,0.07031698798374092,1.6442459691777473,-0.13952067189279416,-0.9250117184627819,-1.730634623494131,-1.2546443084973622,1.2139408010780905,-0.5844745801129339,-0.29554717166621897,0.27281484542731976,0.25318894794907465,-0.24638066248007567,-0.3001463717227039,-0.47843477549201796,1.5339025213459436,1.237395379686162,-0.214093862004028,-0.3867947061510151,0.20025306551505054,0.5518586459046209,-1.2649171383821682,-0.31394703787397016,2.624200579430331,-0.7124402468346807,0.47598211399691526,0.3543661152225115,-0.7416521439997066,0.11901051948687877,-1.228030696683017,-0.5254167537146217,-0.8180277127043986,0.9767586529113346,1.2707583473030304,-0.1430902898326658,0.3866316300901333,0.918493501529165,0.7382411409509697,-1.7872095559123204,-0.05138925422187474,-1.3099282607443965,0.3619874357419031,0.2473659952388168,0.673183153770201,-0.42378629704185045,-0.5218702450381305,0.3643796819545949,-0.8571232551495427,0.6196384121373644,-0.5532877791773987,-0.6985239271046452,-0.4971711238652195,0.9837197737497394,0.151109103477177,-0.45528688478792184,-0.2940979367596788,-1.1357511274305079,1.7291497641174005,-0.5315171160860179,0.5412751513880071,2.319270328199936,1.105881259664581,0.24183604497834638,-0.12739001798747068,0.15509861976732744,-1.0996109070986873,0.23972510178264853,-0.08154335854543714,-1.8255709836497878,1.8463351692191043,1.820835557120743,0.9539408365908607,-1.7026480093372356,0.736197256641093,-0.21103967120123218,0.37668614877938134,-0.8927141407003845,-0.10178995397251908,-1.3472346892602074,-0.6569542813244048,0.9437776474422417,-3.0058043986457124]},{\"connectgaps\":false,\"fill\":\"tozeroy\",\"line\":{\"color\":\"green\",\"dash\":\"solid\",\"shape\":\"linear\",\"width\":0.5},\"mode\":\"lines\",\"name\":\"Spread\",\"showlegend\":false,\"type\":\"scatter\",\"x\":[0,1,2,3,4,5,6,7,8,9,10,11,12,13,14,15,16,17,18,19,20,21,22,23,24,25,26,27,28,29,30,31,32,33,34,35,36,37,38,39,40,41,42,43,44,45,46,47,48,49,50,51,52,53,54,55,56,57,58,59,60,61,62,63,64,65,66,67,68,69,70,71,72,73,74,75,76,77,78,79,80,81,82,83,84,85,86,87,88,89,90,91,92,93,94,95,96,97,98,99],\"xaxis\":\"x2\",\"y\":[\"\",1.4781900337243448,1.5667650963504156,\"\",\"\",0.8880183994792699,\"\",\"\",1.9254205361640226,\"\",3.1971869393335255,\"\",\"\",\"\",\"\",0.7971541040547374,\"\",2.158487996422998,0.5875633135641192,2.8973496909858794,\"\",\"\",1.3154348890072811,1.2208869384638996,1.1945865396681752,0.6512481467073363,1.2670342749016679,\"\",0.4729240694774524,0.3299461280186399,0.4520339797527074,0.4215220082949076,0.620660190251892,\"\",\"\",1.1270986867501067,\"\",0.6354495577394547,\"\",1.1104880996332458,0.7566887705695455,\"\",0.4778604676392639,1.105918538584202,1.4129455582261181,1.266064452267694,\"\",1.1380908093452804,1.3463743329338722,1.0958594452467074,0.9457990350970522,0.48641361892573864,\"\",\"\",\"\",\"\",0.7828480967380143,\"\",\"\",\"\",\"\",\"\",0.6192992211747912,0.3315046387993421,\"\",1.660326628572835,\"\",1.3293781410354053,0.17134111294419463,\"\",\"\",\"\",1.6584963290537686,1.079182542717244,1.8860800144558993,\"\",0.1552639076498395,\"\",\"\",\"\",0.08288929938149925,1.237068238768697,0.1290876021559941,1.9314646716541726,1.7742306326276558,0.4291708071126494,1.0287788075250985,\"\",\"\",\"\",0.3306304294578961,\"\",0.25675657899399806,1.4645036757565364,0.5491824536346168,1.1151035780149507,1.6620327043397707,2.7715082564559737,\"\",2.222002433141891],\"yaxis\":\"y2\"},{\"connectgaps\":false,\"fill\":\"tozeroy\",\"line\":{\"color\":\"red\",\"dash\":\"solid\",\"shape\":\"linear\",\"width\":0.5},\"mode\":\"lines\",\"name\":\"Spread\",\"showlegend\":false,\"type\":\"scatter\",\"x\":[0,1,2,3,4,5,6,7,8,9,10,11,12,13,14,15,16,17,18,19,20,21,22,23,24,25,26,27,28,29,30,31,32,33,34,35,36,37,38,39,40,41,42,43,44,45,46,47,48,49,50,51,52,53,54,55,56,57,58,59,60,61,62,63,64,65,66,67,68,69,70,71,72,73,74,75,76,77,78,79,80,81,82,83,84,85,86,87,88,89,90,91,92,93,94,95,96,97,98,99],\"xaxis\":\"x2\",\"y\":[-1.332348538365441,\"\",\"\",-0.4159753583308583,-1.5053144610288185,\"\",-1.765996139219229,-0.5378852307593986,\"\",-2.8302856197881603,\"\",-0.3889815133403473,-0.7924636432784231,-1.6529861774489014,-0.41716535504287167,\"\",-1.6571354057258625,\"\",\"\",\"\",-1.7011891302832356,-0.25064812297518246,\"\",\"\",\"\",\"\",\"\",-0.36538366237277004,\"\",\"\",\"\",\"\",\"\",-1.7535428305747687,-1.3777475847807918,\"\",-0.14568785082949443,\"\",-0.603225055354875,\"\",\"\",-4.086083236430442,\"\",\"\",\"\",\"\",-1.615062325693138,\"\",\"\",\"\",\"\",\"\",-1.9955982381268953,-1.7576064703859282,-1.6340932235180468,-0.4065183413253995,\"\",-0.9747386442039476,-0.11770078614343715,-1.4511806116410362,-0.043839016318641316,-0.6484464782510695,\"\",\"\",-2.1654388417323154,\"\",-1.7186874480132208,\"\",\"\",-0.241142061710027,-1.2591523462492278,-0.1889283467755255,\"\",\"\",\"\",-2.5764071333913714,\"\",-1.8070236847366705,-0.5304378604668609,-0.3558913132086854,\"\",\"\",\"\",\"\",\"\",\"\",\"\",-1.9669226272151183,-1.3855216656613942,-0.6004637906189498,\"\",-2.017370973302249,\"\",\"\",\"\",\"\",\"\",\"\",-1.9715605403344165,\"\"],\"yaxis\":\"y2\"}],                        {\"hovermode\":\"x\",\"legend\":{\"bgcolor\":\"#F5F6F9\",\"font\":{\"color\":\"#4D5663\"}},\"paper_bgcolor\":\"#F5F6F9\",\"plot_bgcolor\":\"#F5F6F9\",\"template\":{\"data\":{\"bar\":[{\"error_x\":{\"color\":\"#2a3f5f\"},\"error_y\":{\"color\":\"#2a3f5f\"},\"marker\":{\"line\":{\"color\":\"#E5ECF6\",\"width\":0.5},\"pattern\":{\"fillmode\":\"overlay\",\"size\":10,\"solidity\":0.2}},\"type\":\"bar\"}],\"barpolar\":[{\"marker\":{\"line\":{\"color\":\"#E5ECF6\",\"width\":0.5},\"pattern\":{\"fillmode\":\"overlay\",\"size\":10,\"solidity\":0.2}},\"type\":\"barpolar\"}],\"carpet\":[{\"aaxis\":{\"endlinecolor\":\"#2a3f5f\",\"gridcolor\":\"white\",\"linecolor\":\"white\",\"minorgridcolor\":\"white\",\"startlinecolor\":\"#2a3f5f\"},\"baxis\":{\"endlinecolor\":\"#2a3f5f\",\"gridcolor\":\"white\",\"linecolor\":\"white\",\"minorgridcolor\":\"white\",\"startlinecolor\":\"#2a3f5f\"},\"type\":\"carpet\"}],\"choropleth\":[{\"colorbar\":{\"outlinewidth\":0,\"ticks\":\"\"},\"type\":\"choropleth\"}],\"contour\":[{\"colorbar\":{\"outlinewidth\":0,\"ticks\":\"\"},\"colorscale\":[[0.0,\"#0d0887\"],[0.1111111111111111,\"#46039f\"],[0.2222222222222222,\"#7201a8\"],[0.3333333333333333,\"#9c179e\"],[0.4444444444444444,\"#bd3786\"],[0.5555555555555556,\"#d8576b\"],[0.6666666666666666,\"#ed7953\"],[0.7777777777777778,\"#fb9f3a\"],[0.8888888888888888,\"#fdca26\"],[1.0,\"#f0f921\"]],\"type\":\"contour\"}],\"contourcarpet\":[{\"colorbar\":{\"outlinewidth\":0,\"ticks\":\"\"},\"type\":\"contourcarpet\"}],\"heatmap\":[{\"colorbar\":{\"outlinewidth\":0,\"ticks\":\"\"},\"colorscale\":[[0.0,\"#0d0887\"],[0.1111111111111111,\"#46039f\"],[0.2222222222222222,\"#7201a8\"],[0.3333333333333333,\"#9c179e\"],[0.4444444444444444,\"#bd3786\"],[0.5555555555555556,\"#d8576b\"],[0.6666666666666666,\"#ed7953\"],[0.7777777777777778,\"#fb9f3a\"],[0.8888888888888888,\"#fdca26\"],[1.0,\"#f0f921\"]],\"type\":\"heatmap\"}],\"heatmapgl\":[{\"colorbar\":{\"outlinewidth\":0,\"ticks\":\"\"},\"colorscale\":[[0.0,\"#0d0887\"],[0.1111111111111111,\"#46039f\"],[0.2222222222222222,\"#7201a8\"],[0.3333333333333333,\"#9c179e\"],[0.4444444444444444,\"#bd3786\"],[0.5555555555555556,\"#d8576b\"],[0.6666666666666666,\"#ed7953\"],[0.7777777777777778,\"#fb9f3a\"],[0.8888888888888888,\"#fdca26\"],[1.0,\"#f0f921\"]],\"type\":\"heatmapgl\"}],\"histogram\":[{\"marker\":{\"pattern\":{\"fillmode\":\"overlay\",\"size\":10,\"solidity\":0.2}},\"type\":\"histogram\"}],\"histogram2d\":[{\"colorbar\":{\"outlinewidth\":0,\"ticks\":\"\"},\"colorscale\":[[0.0,\"#0d0887\"],[0.1111111111111111,\"#46039f\"],[0.2222222222222222,\"#7201a8\"],[0.3333333333333333,\"#9c179e\"],[0.4444444444444444,\"#bd3786\"],[0.5555555555555556,\"#d8576b\"],[0.6666666666666666,\"#ed7953\"],[0.7777777777777778,\"#fb9f3a\"],[0.8888888888888888,\"#fdca26\"],[1.0,\"#f0f921\"]],\"type\":\"histogram2d\"}],\"histogram2dcontour\":[{\"colorbar\":{\"outlinewidth\":0,\"ticks\":\"\"},\"colorscale\":[[0.0,\"#0d0887\"],[0.1111111111111111,\"#46039f\"],[0.2222222222222222,\"#7201a8\"],[0.3333333333333333,\"#9c179e\"],[0.4444444444444444,\"#bd3786\"],[0.5555555555555556,\"#d8576b\"],[0.6666666666666666,\"#ed7953\"],[0.7777777777777778,\"#fb9f3a\"],[0.8888888888888888,\"#fdca26\"],[1.0,\"#f0f921\"]],\"type\":\"histogram2dcontour\"}],\"mesh3d\":[{\"colorbar\":{\"outlinewidth\":0,\"ticks\":\"\"},\"type\":\"mesh3d\"}],\"parcoords\":[{\"line\":{\"colorbar\":{\"outlinewidth\":0,\"ticks\":\"\"}},\"type\":\"parcoords\"}],\"pie\":[{\"automargin\":true,\"type\":\"pie\"}],\"scatter\":[{\"marker\":{\"colorbar\":{\"outlinewidth\":0,\"ticks\":\"\"}},\"type\":\"scatter\"}],\"scatter3d\":[{\"line\":{\"colorbar\":{\"outlinewidth\":0,\"ticks\":\"\"}},\"marker\":{\"colorbar\":{\"outlinewidth\":0,\"ticks\":\"\"}},\"type\":\"scatter3d\"}],\"scattercarpet\":[{\"marker\":{\"colorbar\":{\"outlinewidth\":0,\"ticks\":\"\"}},\"type\":\"scattercarpet\"}],\"scattergeo\":[{\"marker\":{\"colorbar\":{\"outlinewidth\":0,\"ticks\":\"\"}},\"type\":\"scattergeo\"}],\"scattergl\":[{\"marker\":{\"colorbar\":{\"outlinewidth\":0,\"ticks\":\"\"}},\"type\":\"scattergl\"}],\"scattermapbox\":[{\"marker\":{\"colorbar\":{\"outlinewidth\":0,\"ticks\":\"\"}},\"type\":\"scattermapbox\"}],\"scatterpolar\":[{\"marker\":{\"colorbar\":{\"outlinewidth\":0,\"ticks\":\"\"}},\"type\":\"scatterpolar\"}],\"scatterpolargl\":[{\"marker\":{\"colorbar\":{\"outlinewidth\":0,\"ticks\":\"\"}},\"type\":\"scatterpolargl\"}],\"scatterternary\":[{\"marker\":{\"colorbar\":{\"outlinewidth\":0,\"ticks\":\"\"}},\"type\":\"scatterternary\"}],\"surface\":[{\"colorbar\":{\"outlinewidth\":0,\"ticks\":\"\"},\"colorscale\":[[0.0,\"#0d0887\"],[0.1111111111111111,\"#46039f\"],[0.2222222222222222,\"#7201a8\"],[0.3333333333333333,\"#9c179e\"],[0.4444444444444444,\"#bd3786\"],[0.5555555555555556,\"#d8576b\"],[0.6666666666666666,\"#ed7953\"],[0.7777777777777778,\"#fb9f3a\"],[0.8888888888888888,\"#fdca26\"],[1.0,\"#f0f921\"]],\"type\":\"surface\"}],\"table\":[{\"cells\":{\"fill\":{\"color\":\"#EBF0F8\"},\"line\":{\"color\":\"white\"}},\"header\":{\"fill\":{\"color\":\"#C8D4E3\"},\"line\":{\"color\":\"white\"}},\"type\":\"table\"}]},\"layout\":{\"annotationdefaults\":{\"arrowcolor\":\"#2a3f5f\",\"arrowhead\":0,\"arrowwidth\":1},\"autotypenumbers\":\"strict\",\"coloraxis\":{\"colorbar\":{\"outlinewidth\":0,\"ticks\":\"\"}},\"colorscale\":{\"diverging\":[[0,\"#8e0152\"],[0.1,\"#c51b7d\"],[0.2,\"#de77ae\"],[0.3,\"#f1b6da\"],[0.4,\"#fde0ef\"],[0.5,\"#f7f7f7\"],[0.6,\"#e6f5d0\"],[0.7,\"#b8e186\"],[0.8,\"#7fbc41\"],[0.9,\"#4d9221\"],[1,\"#276419\"]],\"sequential\":[[0.0,\"#0d0887\"],[0.1111111111111111,\"#46039f\"],[0.2222222222222222,\"#7201a8\"],[0.3333333333333333,\"#9c179e\"],[0.4444444444444444,\"#bd3786\"],[0.5555555555555556,\"#d8576b\"],[0.6666666666666666,\"#ed7953\"],[0.7777777777777778,\"#fb9f3a\"],[0.8888888888888888,\"#fdca26\"],[1.0,\"#f0f921\"]],\"sequentialminus\":[[0.0,\"#0d0887\"],[0.1111111111111111,\"#46039f\"],[0.2222222222222222,\"#7201a8\"],[0.3333333333333333,\"#9c179e\"],[0.4444444444444444,\"#bd3786\"],[0.5555555555555556,\"#d8576b\"],[0.6666666666666666,\"#ed7953\"],[0.7777777777777778,\"#fb9f3a\"],[0.8888888888888888,\"#fdca26\"],[1.0,\"#f0f921\"]]},\"colorway\":[\"#636efa\",\"#EF553B\",\"#00cc96\",\"#ab63fa\",\"#FFA15A\",\"#19d3f3\",\"#FF6692\",\"#B6E880\",\"#FF97FF\",\"#FECB52\"],\"font\":{\"color\":\"#2a3f5f\"},\"geo\":{\"bgcolor\":\"white\",\"lakecolor\":\"white\",\"landcolor\":\"#E5ECF6\",\"showlakes\":true,\"showland\":true,\"subunitcolor\":\"white\"},\"hoverlabel\":{\"align\":\"left\"},\"hovermode\":\"closest\",\"mapbox\":{\"style\":\"light\"},\"paper_bgcolor\":\"white\",\"plot_bgcolor\":\"#E5ECF6\",\"polar\":{\"angularaxis\":{\"gridcolor\":\"white\",\"linecolor\":\"white\",\"ticks\":\"\"},\"bgcolor\":\"#E5ECF6\",\"radialaxis\":{\"gridcolor\":\"white\",\"linecolor\":\"white\",\"ticks\":\"\"}},\"scene\":{\"xaxis\":{\"backgroundcolor\":\"#E5ECF6\",\"gridcolor\":\"white\",\"gridwidth\":2,\"linecolor\":\"white\",\"showbackground\":true,\"ticks\":\"\",\"zerolinecolor\":\"white\"},\"yaxis\":{\"backgroundcolor\":\"#E5ECF6\",\"gridcolor\":\"white\",\"gridwidth\":2,\"linecolor\":\"white\",\"showbackground\":true,\"ticks\":\"\",\"zerolinecolor\":\"white\"},\"zaxis\":{\"backgroundcolor\":\"#E5ECF6\",\"gridcolor\":\"white\",\"gridwidth\":2,\"linecolor\":\"white\",\"showbackground\":true,\"ticks\":\"\",\"zerolinecolor\":\"white\"}},\"shapedefaults\":{\"line\":{\"color\":\"#2a3f5f\"}},\"ternary\":{\"aaxis\":{\"gridcolor\":\"white\",\"linecolor\":\"white\",\"ticks\":\"\"},\"baxis\":{\"gridcolor\":\"white\",\"linecolor\":\"white\",\"ticks\":\"\"},\"bgcolor\":\"#E5ECF6\",\"caxis\":{\"gridcolor\":\"white\",\"linecolor\":\"white\",\"ticks\":\"\"}},\"title\":{\"x\":0.05},\"xaxis\":{\"automargin\":true,\"gridcolor\":\"white\",\"linecolor\":\"white\",\"ticks\":\"\",\"title\":{\"standoff\":15},\"zerolinecolor\":\"white\",\"zerolinewidth\":2},\"yaxis\":{\"automargin\":true,\"gridcolor\":\"white\",\"linecolor\":\"white\",\"ticks\":\"\",\"title\":{\"standoff\":15},\"zerolinecolor\":\"white\",\"zerolinewidth\":2}}},\"title\":{\"font\":{\"color\":\"#4D5663\"}},\"xaxis\":{\"gridcolor\":\"#E1E5ED\",\"showgrid\":true,\"tickfont\":{\"color\":\"#4D5663\"},\"title\":{\"font\":{\"color\":\"#4D5663\"},\"text\":\"\"},\"zerolinecolor\":\"#E1E5ED\"},\"xaxis2\":{\"anchor\":\"y2\",\"gridcolor\":\"#E1E5ED\",\"showgrid\":true,\"showticklabels\":false,\"tickfont\":{\"color\":\"#4D5663\"},\"title\":{\"font\":{\"color\":\"#4D5663\"},\"text\":\"\"},\"zerolinecolor\":\"#E1E5ED\"},\"yaxis\":{\"domain\":[0.3,1],\"gridcolor\":\"#E1E5ED\",\"showgrid\":true,\"tickfont\":{\"color\":\"#4D5663\"},\"title\":{\"font\":{\"color\":\"#4D5663\"},\"text\":\"\"},\"zerolinecolor\":\"#E1E5ED\"},\"yaxis2\":{\"domain\":[0,0.25],\"gridcolor\":\"#E1E5ED\",\"showgrid\":true,\"tickfont\":{\"color\":\"#4D5663\"},\"title\":{\"font\":{\"color\":\"#4D5663\"},\"text\":\"Spread\"},\"zerolinecolor\":\"#E1E5ED\"}},                        {\"showLink\": true, \"linkText\": \"Export to plot.ly\", \"plotlyServerURL\": \"https://plot.ly\", \"responsive\": true}                    ).then(function(){\n",
       "                            \n",
       "var gd = document.getElementById('fdbfb535-2759-4750-83e3-fc53131b71f5');\n",
       "var x = new MutationObserver(function (mutations, observer) {{\n",
       "        var display = window.getComputedStyle(gd).display;\n",
       "        if (!display || display === 'none') {{\n",
       "            console.log([gd, 'removed!']);\n",
       "            Plotly.purge(gd);\n",
       "            observer.disconnect();\n",
       "        }}\n",
       "}});\n",
       "\n",
       "// Listen for the removal of the full notebook cells\n",
       "var notebookContainer = gd.closest('#notebook-container');\n",
       "if (notebookContainer) {{\n",
       "    x.observe(notebookContainer, {childList: true});\n",
       "}}\n",
       "\n",
       "// Listen for the clearing of the current output cell\n",
       "var outputEl = gd.closest('.output');\n",
       "if (outputEl) {{\n",
       "    x.observe(outputEl, {childList: true});\n",
       "}}\n",
       "\n",
       "                        })                };                });            </script>        </div>"
      ]
     },
     "metadata": {},
     "output_type": "display_data"
    }
   ],
   "source": [
    "df[['A','B']].iplot(kind='spread')"
   ]
  },
  {
   "cell_type": "code",
   "execution_count": 49,
   "id": "8c76f313",
   "metadata": {},
   "outputs": [
    {
     "data": {
      "application/vnd.plotly.v1+json": {
       "config": {
        "linkText": "Export to plot.ly",
        "plotlyServerURL": "https://plot.ly",
        "showLink": true
       },
       "data": [
        {
         "marker": {
          "color": [
           "rgb(255, 153, 51)",
           "rgb(55, 128, 191)",
           "rgb(50, 171, 96)",
           "rgb(128, 0, 128)",
           "rgb(219, 64, 82)",
           "rgb(0, 128, 128)",
           "rgb(255, 255, 51)",
           "rgb(128, 128, 0)",
           "rgb(251, 128, 114)",
           "rgb(128, 177, 211)"
          ],
          "line": {
           "width": 1.3
          },
          "size": [
           57,
           112,
           67,
           70,
           64,
           86,
           47,
           42,
           43,
           84,
           77,
           83,
           56,
           28,
           53,
           31,
           47,
           108,
           66,
           51,
           54,
           43,
           51,
           69,
           70,
           79,
           35,
           91,
           42,
           63,
           76,
           57,
           44,
           33,
           52,
           49,
           61,
           77,
           100,
           73,
           56,
           79,
           65,
           67,
           42,
           52,
           51,
           75,
           58,
           70,
           46,
           71,
           48,
           52,
           29,
           47,
           51,
           60,
           72,
           52,
           62,
           96,
           37,
           49,
           100,
           76,
           46,
           63,
           78,
           31,
           34,
           67,
           60,
           16,
           48,
           77,
           73,
           43,
           51,
           59,
           12,
           36,
           59,
           62,
           38,
           49,
           50,
           61,
           57,
           52,
           38,
           50,
           42,
           55,
           76,
           63,
           61,
           38,
           54,
           48
          ],
          "symbol": "circle"
         },
         "mode": "markers",
         "text": "",
         "type": "scatter",
         "x": [
          -0.34225299009874355,
          0.4892447760011251,
          0.6289296113249515,
          -0.9623444735331236,
          0.5218374246730623,
          1.0872779779546433,
          -2.5446001105676275,
          -0.2858836687280843,
          1.3065777779854995,
          -2.4104707774726113,
          1.3369186035954843,
          0.3838707492935451,
          -0.5526656706871299,
          -0.523243795919335,
          -0.5219209505049524,
          0.7876928140633233,
          -0.9458273989118097,
          0.6798036848133264,
          -0.7326321084090412,
          2.9676666789696204,
          -0.05694316110548828,
          -0.3901687948679766,
          0.39042317054449927,
          -0.5097476850302313,
          -0.06005776882918707,
          1.8651889477854269,
          0.6825596947887341,
          -0.660930834038989,
          0.7457389149047722,
          0.5831350759677145,
          0.20565331727263178,
          0.12137563657220368,
          0.14222541475987407,
          -0.21964030922882513,
          -0.1403522050946297,
          0.9130048247460788,
          -0.5324825569805095,
          0.8357026232545052,
          -0.05136640945025422,
          -0.15442903874892236,
          0.4427417326955754,
          -1.4618826570001109,
          -0.23457977919541678,
          1.5819006525811172,
          1.7673116734486296,
          0.5244123082679875,
          -1.4960518062062593,
          -0.08993988733773665,
          0.8209575792192505,
          0.277831732542309,
          1.9225576880083868,
          1.757171966228769,
          -2.138688527959561,
          -1.3709748402957949,
          -0.7155997219888818,
          0.3317227996255702,
          -1.0043614591743062,
          -1.0261278984258224,
          -1.4276290468878337,
          -1.0891931758991331,
          0.2035269789201755,
          0.02473667551913148,
          0.19551292413294072,
          -0.19036560623878837,
          -1.8010591597777204,
          0.8032033734232925,
          -1.0990490358758565,
          0.7760903618580065,
          -0.5271828141604505,
          -0.7383131855752465,
          -0.27543257249948844,
          -0.037819243298348515,
          1.2032094442658468,
          0.785084605957565,
          0.7503288870253916,
          -0.8472573692739707,
          -0.37625320843617843,
          -1.2657485333486633,
          1.7888324677330751,
          0.7499899464558957,
          0.3247253443598456,
          1.1096782207812264,
          0.28418622192332155,
          0.8318537645554853,
          2.0139557344103043,
          0.3476274485672122,
          -0.7967921761246892,
          -0.12058745799601407,
          0.43531389145934873,
          0.35347704597191093,
          -1.3720175798793395,
          -1.2811737166611563,
          0.04571690779276586,
          1.8411898245359177,
          -0.34353168706576764,
          1.0133136240424316,
          0.31479801507956323,
          2.1145539751315687,
          -1.0277828928921748,
          -0.7838019655038211
         ],
         "y": [
          0.9900955482666974,
          -0.9889452577232196,
          -0.9378354850254641,
          -0.5463691152022653,
          2.0271518857018807,
          0.19925957847537346,
          -0.7786039713483985,
          0.2520015620313144,
          -0.6188427581785232,
          0.419814842315549,
          -1.8602683357380412,
          0.7728522626338924,
          0.23979797259129315,
          1.1297423815295664,
          -0.10475559546208067,
          -0.009461289991414178,
          0.7113080068140527,
          -1.4786843116096715,
          -1.3201954219731604,
          0.07031698798374092,
          1.6442459691777473,
          -0.13952067189279416,
          -0.9250117184627819,
          -1.730634623494131,
          -1.2546443084973622,
          1.2139408010780905,
          -0.5844745801129339,
          -0.29554717166621897,
          0.27281484542731976,
          0.25318894794907465,
          -0.24638066248007567,
          -0.3001463717227039,
          -0.47843477549201796,
          1.5339025213459436,
          1.237395379686162,
          -0.214093862004028,
          -0.3867947061510151,
          0.20025306551505054,
          0.5518586459046209,
          -1.2649171383821682,
          -0.31394703787397016,
          2.624200579430331,
          -0.7124402468346807,
          0.47598211399691526,
          0.3543661152225115,
          -0.7416521439997066,
          0.11901051948687877,
          -1.228030696683017,
          -0.5254167537146217,
          -0.8180277127043986,
          0.9767586529113346,
          1.2707583473030304,
          -0.1430902898326658,
          0.3866316300901333,
          0.918493501529165,
          0.7382411409509697,
          -1.7872095559123204,
          -0.05138925422187474,
          -1.3099282607443965,
          0.3619874357419031,
          0.2473659952388168,
          0.673183153770201,
          -0.42378629704185045,
          -0.5218702450381305,
          0.3643796819545949,
          -0.8571232551495427,
          0.6196384121373644,
          -0.5532877791773987,
          -0.6985239271046452,
          -0.4971711238652195,
          0.9837197737497394,
          0.151109103477177,
          -0.45528688478792184,
          -0.2940979367596788,
          -1.1357511274305079,
          1.7291497641174005,
          -0.5315171160860179,
          0.5412751513880071,
          2.319270328199936,
          1.105881259664581,
          0.24183604497834638,
          -0.12739001798747068,
          0.15509861976732744,
          -1.0996109070986873,
          0.23972510178264853,
          -0.08154335854543714,
          -1.8255709836497878,
          1.8463351692191043,
          1.820835557120743,
          0.9539408365908607,
          -1.7026480093372356,
          0.736197256641093,
          -0.21103967120123218,
          0.37668614877938134,
          -0.8927141407003845,
          -0.10178995397251908,
          -1.3472346892602074,
          -0.6569542813244048,
          0.9437776474422417,
          -3.0058043986457124
         ]
        }
       ],
       "layout": {
        "legend": {
         "bgcolor": "#F5F6F9",
         "font": {
          "color": "#4D5663"
         }
        },
        "paper_bgcolor": "#F5F6F9",
        "plot_bgcolor": "#F5F6F9",
        "template": {
         "data": {
          "bar": [
           {
            "error_x": {
             "color": "#2a3f5f"
            },
            "error_y": {
             "color": "#2a3f5f"
            },
            "marker": {
             "line": {
              "color": "#E5ECF6",
              "width": 0.5
             },
             "pattern": {
              "fillmode": "overlay",
              "size": 10,
              "solidity": 0.2
             }
            },
            "type": "bar"
           }
          ],
          "barpolar": [
           {
            "marker": {
             "line": {
              "color": "#E5ECF6",
              "width": 0.5
             },
             "pattern": {
              "fillmode": "overlay",
              "size": 10,
              "solidity": 0.2
             }
            },
            "type": "barpolar"
           }
          ],
          "carpet": [
           {
            "aaxis": {
             "endlinecolor": "#2a3f5f",
             "gridcolor": "white",
             "linecolor": "white",
             "minorgridcolor": "white",
             "startlinecolor": "#2a3f5f"
            },
            "baxis": {
             "endlinecolor": "#2a3f5f",
             "gridcolor": "white",
             "linecolor": "white",
             "minorgridcolor": "white",
             "startlinecolor": "#2a3f5f"
            },
            "type": "carpet"
           }
          ],
          "choropleth": [
           {
            "colorbar": {
             "outlinewidth": 0,
             "ticks": ""
            },
            "type": "choropleth"
           }
          ],
          "contour": [
           {
            "colorbar": {
             "outlinewidth": 0,
             "ticks": ""
            },
            "colorscale": [
             [
              0,
              "#0d0887"
             ],
             [
              0.1111111111111111,
              "#46039f"
             ],
             [
              0.2222222222222222,
              "#7201a8"
             ],
             [
              0.3333333333333333,
              "#9c179e"
             ],
             [
              0.4444444444444444,
              "#bd3786"
             ],
             [
              0.5555555555555556,
              "#d8576b"
             ],
             [
              0.6666666666666666,
              "#ed7953"
             ],
             [
              0.7777777777777778,
              "#fb9f3a"
             ],
             [
              0.8888888888888888,
              "#fdca26"
             ],
             [
              1,
              "#f0f921"
             ]
            ],
            "type": "contour"
           }
          ],
          "contourcarpet": [
           {
            "colorbar": {
             "outlinewidth": 0,
             "ticks": ""
            },
            "type": "contourcarpet"
           }
          ],
          "heatmap": [
           {
            "colorbar": {
             "outlinewidth": 0,
             "ticks": ""
            },
            "colorscale": [
             [
              0,
              "#0d0887"
             ],
             [
              0.1111111111111111,
              "#46039f"
             ],
             [
              0.2222222222222222,
              "#7201a8"
             ],
             [
              0.3333333333333333,
              "#9c179e"
             ],
             [
              0.4444444444444444,
              "#bd3786"
             ],
             [
              0.5555555555555556,
              "#d8576b"
             ],
             [
              0.6666666666666666,
              "#ed7953"
             ],
             [
              0.7777777777777778,
              "#fb9f3a"
             ],
             [
              0.8888888888888888,
              "#fdca26"
             ],
             [
              1,
              "#f0f921"
             ]
            ],
            "type": "heatmap"
           }
          ],
          "heatmapgl": [
           {
            "colorbar": {
             "outlinewidth": 0,
             "ticks": ""
            },
            "colorscale": [
             [
              0,
              "#0d0887"
             ],
             [
              0.1111111111111111,
              "#46039f"
             ],
             [
              0.2222222222222222,
              "#7201a8"
             ],
             [
              0.3333333333333333,
              "#9c179e"
             ],
             [
              0.4444444444444444,
              "#bd3786"
             ],
             [
              0.5555555555555556,
              "#d8576b"
             ],
             [
              0.6666666666666666,
              "#ed7953"
             ],
             [
              0.7777777777777778,
              "#fb9f3a"
             ],
             [
              0.8888888888888888,
              "#fdca26"
             ],
             [
              1,
              "#f0f921"
             ]
            ],
            "type": "heatmapgl"
           }
          ],
          "histogram": [
           {
            "marker": {
             "pattern": {
              "fillmode": "overlay",
              "size": 10,
              "solidity": 0.2
             }
            },
            "type": "histogram"
           }
          ],
          "histogram2d": [
           {
            "colorbar": {
             "outlinewidth": 0,
             "ticks": ""
            },
            "colorscale": [
             [
              0,
              "#0d0887"
             ],
             [
              0.1111111111111111,
              "#46039f"
             ],
             [
              0.2222222222222222,
              "#7201a8"
             ],
             [
              0.3333333333333333,
              "#9c179e"
             ],
             [
              0.4444444444444444,
              "#bd3786"
             ],
             [
              0.5555555555555556,
              "#d8576b"
             ],
             [
              0.6666666666666666,
              "#ed7953"
             ],
             [
              0.7777777777777778,
              "#fb9f3a"
             ],
             [
              0.8888888888888888,
              "#fdca26"
             ],
             [
              1,
              "#f0f921"
             ]
            ],
            "type": "histogram2d"
           }
          ],
          "histogram2dcontour": [
           {
            "colorbar": {
             "outlinewidth": 0,
             "ticks": ""
            },
            "colorscale": [
             [
              0,
              "#0d0887"
             ],
             [
              0.1111111111111111,
              "#46039f"
             ],
             [
              0.2222222222222222,
              "#7201a8"
             ],
             [
              0.3333333333333333,
              "#9c179e"
             ],
             [
              0.4444444444444444,
              "#bd3786"
             ],
             [
              0.5555555555555556,
              "#d8576b"
             ],
             [
              0.6666666666666666,
              "#ed7953"
             ],
             [
              0.7777777777777778,
              "#fb9f3a"
             ],
             [
              0.8888888888888888,
              "#fdca26"
             ],
             [
              1,
              "#f0f921"
             ]
            ],
            "type": "histogram2dcontour"
           }
          ],
          "mesh3d": [
           {
            "colorbar": {
             "outlinewidth": 0,
             "ticks": ""
            },
            "type": "mesh3d"
           }
          ],
          "parcoords": [
           {
            "line": {
             "colorbar": {
              "outlinewidth": 0,
              "ticks": ""
             }
            },
            "type": "parcoords"
           }
          ],
          "pie": [
           {
            "automargin": true,
            "type": "pie"
           }
          ],
          "scatter": [
           {
            "marker": {
             "colorbar": {
              "outlinewidth": 0,
              "ticks": ""
             }
            },
            "type": "scatter"
           }
          ],
          "scatter3d": [
           {
            "line": {
             "colorbar": {
              "outlinewidth": 0,
              "ticks": ""
             }
            },
            "marker": {
             "colorbar": {
              "outlinewidth": 0,
              "ticks": ""
             }
            },
            "type": "scatter3d"
           }
          ],
          "scattercarpet": [
           {
            "marker": {
             "colorbar": {
              "outlinewidth": 0,
              "ticks": ""
             }
            },
            "type": "scattercarpet"
           }
          ],
          "scattergeo": [
           {
            "marker": {
             "colorbar": {
              "outlinewidth": 0,
              "ticks": ""
             }
            },
            "type": "scattergeo"
           }
          ],
          "scattergl": [
           {
            "marker": {
             "colorbar": {
              "outlinewidth": 0,
              "ticks": ""
             }
            },
            "type": "scattergl"
           }
          ],
          "scattermapbox": [
           {
            "marker": {
             "colorbar": {
              "outlinewidth": 0,
              "ticks": ""
             }
            },
            "type": "scattermapbox"
           }
          ],
          "scatterpolar": [
           {
            "marker": {
             "colorbar": {
              "outlinewidth": 0,
              "ticks": ""
             }
            },
            "type": "scatterpolar"
           }
          ],
          "scatterpolargl": [
           {
            "marker": {
             "colorbar": {
              "outlinewidth": 0,
              "ticks": ""
             }
            },
            "type": "scatterpolargl"
           }
          ],
          "scatterternary": [
           {
            "marker": {
             "colorbar": {
              "outlinewidth": 0,
              "ticks": ""
             }
            },
            "type": "scatterternary"
           }
          ],
          "surface": [
           {
            "colorbar": {
             "outlinewidth": 0,
             "ticks": ""
            },
            "colorscale": [
             [
              0,
              "#0d0887"
             ],
             [
              0.1111111111111111,
              "#46039f"
             ],
             [
              0.2222222222222222,
              "#7201a8"
             ],
             [
              0.3333333333333333,
              "#9c179e"
             ],
             [
              0.4444444444444444,
              "#bd3786"
             ],
             [
              0.5555555555555556,
              "#d8576b"
             ],
             [
              0.6666666666666666,
              "#ed7953"
             ],
             [
              0.7777777777777778,
              "#fb9f3a"
             ],
             [
              0.8888888888888888,
              "#fdca26"
             ],
             [
              1,
              "#f0f921"
             ]
            ],
            "type": "surface"
           }
          ],
          "table": [
           {
            "cells": {
             "fill": {
              "color": "#EBF0F8"
             },
             "line": {
              "color": "white"
             }
            },
            "header": {
             "fill": {
              "color": "#C8D4E3"
             },
             "line": {
              "color": "white"
             }
            },
            "type": "table"
           }
          ]
         },
         "layout": {
          "annotationdefaults": {
           "arrowcolor": "#2a3f5f",
           "arrowhead": 0,
           "arrowwidth": 1
          },
          "autotypenumbers": "strict",
          "coloraxis": {
           "colorbar": {
            "outlinewidth": 0,
            "ticks": ""
           }
          },
          "colorscale": {
           "diverging": [
            [
             0,
             "#8e0152"
            ],
            [
             0.1,
             "#c51b7d"
            ],
            [
             0.2,
             "#de77ae"
            ],
            [
             0.3,
             "#f1b6da"
            ],
            [
             0.4,
             "#fde0ef"
            ],
            [
             0.5,
             "#f7f7f7"
            ],
            [
             0.6,
             "#e6f5d0"
            ],
            [
             0.7,
             "#b8e186"
            ],
            [
             0.8,
             "#7fbc41"
            ],
            [
             0.9,
             "#4d9221"
            ],
            [
             1,
             "#276419"
            ]
           ],
           "sequential": [
            [
             0,
             "#0d0887"
            ],
            [
             0.1111111111111111,
             "#46039f"
            ],
            [
             0.2222222222222222,
             "#7201a8"
            ],
            [
             0.3333333333333333,
             "#9c179e"
            ],
            [
             0.4444444444444444,
             "#bd3786"
            ],
            [
             0.5555555555555556,
             "#d8576b"
            ],
            [
             0.6666666666666666,
             "#ed7953"
            ],
            [
             0.7777777777777778,
             "#fb9f3a"
            ],
            [
             0.8888888888888888,
             "#fdca26"
            ],
            [
             1,
             "#f0f921"
            ]
           ],
           "sequentialminus": [
            [
             0,
             "#0d0887"
            ],
            [
             0.1111111111111111,
             "#46039f"
            ],
            [
             0.2222222222222222,
             "#7201a8"
            ],
            [
             0.3333333333333333,
             "#9c179e"
            ],
            [
             0.4444444444444444,
             "#bd3786"
            ],
            [
             0.5555555555555556,
             "#d8576b"
            ],
            [
             0.6666666666666666,
             "#ed7953"
            ],
            [
             0.7777777777777778,
             "#fb9f3a"
            ],
            [
             0.8888888888888888,
             "#fdca26"
            ],
            [
             1,
             "#f0f921"
            ]
           ]
          },
          "colorway": [
           "#636efa",
           "#EF553B",
           "#00cc96",
           "#ab63fa",
           "#FFA15A",
           "#19d3f3",
           "#FF6692",
           "#B6E880",
           "#FF97FF",
           "#FECB52"
          ],
          "font": {
           "color": "#2a3f5f"
          },
          "geo": {
           "bgcolor": "white",
           "lakecolor": "white",
           "landcolor": "#E5ECF6",
           "showlakes": true,
           "showland": true,
           "subunitcolor": "white"
          },
          "hoverlabel": {
           "align": "left"
          },
          "hovermode": "closest",
          "mapbox": {
           "style": "light"
          },
          "paper_bgcolor": "white",
          "plot_bgcolor": "#E5ECF6",
          "polar": {
           "angularaxis": {
            "gridcolor": "white",
            "linecolor": "white",
            "ticks": ""
           },
           "bgcolor": "#E5ECF6",
           "radialaxis": {
            "gridcolor": "white",
            "linecolor": "white",
            "ticks": ""
           }
          },
          "scene": {
           "xaxis": {
            "backgroundcolor": "#E5ECF6",
            "gridcolor": "white",
            "gridwidth": 2,
            "linecolor": "white",
            "showbackground": true,
            "ticks": "",
            "zerolinecolor": "white"
           },
           "yaxis": {
            "backgroundcolor": "#E5ECF6",
            "gridcolor": "white",
            "gridwidth": 2,
            "linecolor": "white",
            "showbackground": true,
            "ticks": "",
            "zerolinecolor": "white"
           },
           "zaxis": {
            "backgroundcolor": "#E5ECF6",
            "gridcolor": "white",
            "gridwidth": 2,
            "linecolor": "white",
            "showbackground": true,
            "ticks": "",
            "zerolinecolor": "white"
           }
          },
          "shapedefaults": {
           "line": {
            "color": "#2a3f5f"
           }
          },
          "ternary": {
           "aaxis": {
            "gridcolor": "white",
            "linecolor": "white",
            "ticks": ""
           },
           "baxis": {
            "gridcolor": "white",
            "linecolor": "white",
            "ticks": ""
           },
           "bgcolor": "#E5ECF6",
           "caxis": {
            "gridcolor": "white",
            "linecolor": "white",
            "ticks": ""
           }
          },
          "title": {
           "x": 0.05
          },
          "xaxis": {
           "automargin": true,
           "gridcolor": "white",
           "linecolor": "white",
           "ticks": "",
           "title": {
            "standoff": 15
           },
           "zerolinecolor": "white",
           "zerolinewidth": 2
          },
          "yaxis": {
           "automargin": true,
           "gridcolor": "white",
           "linecolor": "white",
           "ticks": "",
           "title": {
            "standoff": 15
           },
           "zerolinecolor": "white",
           "zerolinewidth": 2
          }
         }
        },
        "title": {
         "font": {
          "color": "#4D5663"
         }
        },
        "xaxis": {
         "gridcolor": "#E1E5ED",
         "showgrid": true,
         "tickfont": {
          "color": "#4D5663"
         },
         "title": {
          "font": {
           "color": "#4D5663"
          },
          "text": ""
         },
         "zerolinecolor": "#E1E5ED"
        },
        "yaxis": {
         "gridcolor": "#E1E5ED",
         "showgrid": true,
         "tickfont": {
          "color": "#4D5663"
         },
         "title": {
          "font": {
           "color": "#4D5663"
          },
          "text": ""
         },
         "zerolinecolor": "#E1E5ED"
        }
       }
      },
      "text/html": [
       "<div>                            <div id=\"cc5cafa9-d053-44a8-9953-f455cc8c6ae7\" class=\"plotly-graph-div\" style=\"height:525px; width:100%;\"></div>            <script type=\"text/javascript\">                require([\"plotly\"], function(Plotly) {                    window.PLOTLYENV=window.PLOTLYENV || {};\n",
       "                    window.PLOTLYENV.BASE_URL='https://plot.ly';                                    if (document.getElementById(\"cc5cafa9-d053-44a8-9953-f455cc8c6ae7\")) {                    Plotly.newPlot(                        \"cc5cafa9-d053-44a8-9953-f455cc8c6ae7\",                        [{\"marker\":{\"color\":[\"rgb(255, 153, 51)\",\"rgb(55, 128, 191)\",\"rgb(50, 171, 96)\",\"rgb(128, 0, 128)\",\"rgb(219, 64, 82)\",\"rgb(0, 128, 128)\",\"rgb(255, 255, 51)\",\"rgb(128, 128, 0)\",\"rgb(251, 128, 114)\",\"rgb(128, 177, 211)\"],\"line\":{\"width\":1.3},\"size\":[57,112,67,70,64,86,47,42,43,84,77,83,56,28,53,31,47,108,66,51,54,43,51,69,70,79,35,91,42,63,76,57,44,33,52,49,61,77,100,73,56,79,65,67,42,52,51,75,58,70,46,71,48,52,29,47,51,60,72,52,62,96,37,49,100,76,46,63,78,31,34,67,60,16,48,77,73,43,51,59,12,36,59,62,38,49,50,61,57,52,38,50,42,55,76,63,61,38,54,48],\"symbol\":\"circle\"},\"mode\":\"markers\",\"text\":\"\",\"type\":\"scatter\",\"x\":[-0.34225299009874355,0.4892447760011251,0.6289296113249515,-0.9623444735331236,0.5218374246730623,1.0872779779546433,-2.5446001105676275,-0.2858836687280843,1.3065777779854995,-2.4104707774726113,1.3369186035954843,0.3838707492935451,-0.5526656706871299,-0.523243795919335,-0.5219209505049524,0.7876928140633233,-0.9458273989118097,0.6798036848133264,-0.7326321084090412,2.9676666789696204,-0.05694316110548828,-0.3901687948679766,0.39042317054449927,-0.5097476850302313,-0.06005776882918707,1.8651889477854269,0.6825596947887341,-0.660930834038989,0.7457389149047722,0.5831350759677145,0.20565331727263178,0.12137563657220368,0.14222541475987407,-0.21964030922882513,-0.1403522050946297,0.9130048247460788,-0.5324825569805095,0.8357026232545052,-0.05136640945025422,-0.15442903874892236,0.4427417326955754,-1.4618826570001109,-0.23457977919541678,1.5819006525811172,1.7673116734486296,0.5244123082679875,-1.4960518062062593,-0.08993988733773665,0.8209575792192505,0.277831732542309,1.9225576880083868,1.757171966228769,-2.138688527959561,-1.3709748402957949,-0.7155997219888818,0.3317227996255702,-1.0043614591743062,-1.0261278984258224,-1.4276290468878337,-1.0891931758991331,0.2035269789201755,0.02473667551913148,0.19551292413294072,-0.19036560623878837,-1.8010591597777204,0.8032033734232925,-1.0990490358758565,0.7760903618580065,-0.5271828141604505,-0.7383131855752465,-0.27543257249948844,-0.037819243298348515,1.2032094442658468,0.785084605957565,0.7503288870253916,-0.8472573692739707,-0.37625320843617843,-1.2657485333486633,1.7888324677330751,0.7499899464558957,0.3247253443598456,1.1096782207812264,0.28418622192332155,0.8318537645554853,2.0139557344103043,0.3476274485672122,-0.7967921761246892,-0.12058745799601407,0.43531389145934873,0.35347704597191093,-1.3720175798793395,-1.2811737166611563,0.04571690779276586,1.8411898245359177,-0.34353168706576764,1.0133136240424316,0.31479801507956323,2.1145539751315687,-1.0277828928921748,-0.7838019655038211],\"y\":[0.9900955482666974,-0.9889452577232196,-0.9378354850254641,-0.5463691152022653,2.0271518857018807,0.19925957847537346,-0.7786039713483985,0.2520015620313144,-0.6188427581785232,0.419814842315549,-1.8602683357380412,0.7728522626338924,0.23979797259129315,1.1297423815295664,-0.10475559546208067,-0.009461289991414178,0.7113080068140527,-1.4786843116096715,-1.3201954219731604,0.07031698798374092,1.6442459691777473,-0.13952067189279416,-0.9250117184627819,-1.730634623494131,-1.2546443084973622,1.2139408010780905,-0.5844745801129339,-0.29554717166621897,0.27281484542731976,0.25318894794907465,-0.24638066248007567,-0.3001463717227039,-0.47843477549201796,1.5339025213459436,1.237395379686162,-0.214093862004028,-0.3867947061510151,0.20025306551505054,0.5518586459046209,-1.2649171383821682,-0.31394703787397016,2.624200579430331,-0.7124402468346807,0.47598211399691526,0.3543661152225115,-0.7416521439997066,0.11901051948687877,-1.228030696683017,-0.5254167537146217,-0.8180277127043986,0.9767586529113346,1.2707583473030304,-0.1430902898326658,0.3866316300901333,0.918493501529165,0.7382411409509697,-1.7872095559123204,-0.05138925422187474,-1.3099282607443965,0.3619874357419031,0.2473659952388168,0.673183153770201,-0.42378629704185045,-0.5218702450381305,0.3643796819545949,-0.8571232551495427,0.6196384121373644,-0.5532877791773987,-0.6985239271046452,-0.4971711238652195,0.9837197737497394,0.151109103477177,-0.45528688478792184,-0.2940979367596788,-1.1357511274305079,1.7291497641174005,-0.5315171160860179,0.5412751513880071,2.319270328199936,1.105881259664581,0.24183604497834638,-0.12739001798747068,0.15509861976732744,-1.0996109070986873,0.23972510178264853,-0.08154335854543714,-1.8255709836497878,1.8463351692191043,1.820835557120743,0.9539408365908607,-1.7026480093372356,0.736197256641093,-0.21103967120123218,0.37668614877938134,-0.8927141407003845,-0.10178995397251908,-1.3472346892602074,-0.6569542813244048,0.9437776474422417,-3.0058043986457124]}],                        {\"legend\":{\"bgcolor\":\"#F5F6F9\",\"font\":{\"color\":\"#4D5663\"}},\"paper_bgcolor\":\"#F5F6F9\",\"plot_bgcolor\":\"#F5F6F9\",\"template\":{\"data\":{\"bar\":[{\"error_x\":{\"color\":\"#2a3f5f\"},\"error_y\":{\"color\":\"#2a3f5f\"},\"marker\":{\"line\":{\"color\":\"#E5ECF6\",\"width\":0.5},\"pattern\":{\"fillmode\":\"overlay\",\"size\":10,\"solidity\":0.2}},\"type\":\"bar\"}],\"barpolar\":[{\"marker\":{\"line\":{\"color\":\"#E5ECF6\",\"width\":0.5},\"pattern\":{\"fillmode\":\"overlay\",\"size\":10,\"solidity\":0.2}},\"type\":\"barpolar\"}],\"carpet\":[{\"aaxis\":{\"endlinecolor\":\"#2a3f5f\",\"gridcolor\":\"white\",\"linecolor\":\"white\",\"minorgridcolor\":\"white\",\"startlinecolor\":\"#2a3f5f\"},\"baxis\":{\"endlinecolor\":\"#2a3f5f\",\"gridcolor\":\"white\",\"linecolor\":\"white\",\"minorgridcolor\":\"white\",\"startlinecolor\":\"#2a3f5f\"},\"type\":\"carpet\"}],\"choropleth\":[{\"colorbar\":{\"outlinewidth\":0,\"ticks\":\"\"},\"type\":\"choropleth\"}],\"contour\":[{\"colorbar\":{\"outlinewidth\":0,\"ticks\":\"\"},\"colorscale\":[[0.0,\"#0d0887\"],[0.1111111111111111,\"#46039f\"],[0.2222222222222222,\"#7201a8\"],[0.3333333333333333,\"#9c179e\"],[0.4444444444444444,\"#bd3786\"],[0.5555555555555556,\"#d8576b\"],[0.6666666666666666,\"#ed7953\"],[0.7777777777777778,\"#fb9f3a\"],[0.8888888888888888,\"#fdca26\"],[1.0,\"#f0f921\"]],\"type\":\"contour\"}],\"contourcarpet\":[{\"colorbar\":{\"outlinewidth\":0,\"ticks\":\"\"},\"type\":\"contourcarpet\"}],\"heatmap\":[{\"colorbar\":{\"outlinewidth\":0,\"ticks\":\"\"},\"colorscale\":[[0.0,\"#0d0887\"],[0.1111111111111111,\"#46039f\"],[0.2222222222222222,\"#7201a8\"],[0.3333333333333333,\"#9c179e\"],[0.4444444444444444,\"#bd3786\"],[0.5555555555555556,\"#d8576b\"],[0.6666666666666666,\"#ed7953\"],[0.7777777777777778,\"#fb9f3a\"],[0.8888888888888888,\"#fdca26\"],[1.0,\"#f0f921\"]],\"type\":\"heatmap\"}],\"heatmapgl\":[{\"colorbar\":{\"outlinewidth\":0,\"ticks\":\"\"},\"colorscale\":[[0.0,\"#0d0887\"],[0.1111111111111111,\"#46039f\"],[0.2222222222222222,\"#7201a8\"],[0.3333333333333333,\"#9c179e\"],[0.4444444444444444,\"#bd3786\"],[0.5555555555555556,\"#d8576b\"],[0.6666666666666666,\"#ed7953\"],[0.7777777777777778,\"#fb9f3a\"],[0.8888888888888888,\"#fdca26\"],[1.0,\"#f0f921\"]],\"type\":\"heatmapgl\"}],\"histogram\":[{\"marker\":{\"pattern\":{\"fillmode\":\"overlay\",\"size\":10,\"solidity\":0.2}},\"type\":\"histogram\"}],\"histogram2d\":[{\"colorbar\":{\"outlinewidth\":0,\"ticks\":\"\"},\"colorscale\":[[0.0,\"#0d0887\"],[0.1111111111111111,\"#46039f\"],[0.2222222222222222,\"#7201a8\"],[0.3333333333333333,\"#9c179e\"],[0.4444444444444444,\"#bd3786\"],[0.5555555555555556,\"#d8576b\"],[0.6666666666666666,\"#ed7953\"],[0.7777777777777778,\"#fb9f3a\"],[0.8888888888888888,\"#fdca26\"],[1.0,\"#f0f921\"]],\"type\":\"histogram2d\"}],\"histogram2dcontour\":[{\"colorbar\":{\"outlinewidth\":0,\"ticks\":\"\"},\"colorscale\":[[0.0,\"#0d0887\"],[0.1111111111111111,\"#46039f\"],[0.2222222222222222,\"#7201a8\"],[0.3333333333333333,\"#9c179e\"],[0.4444444444444444,\"#bd3786\"],[0.5555555555555556,\"#d8576b\"],[0.6666666666666666,\"#ed7953\"],[0.7777777777777778,\"#fb9f3a\"],[0.8888888888888888,\"#fdca26\"],[1.0,\"#f0f921\"]],\"type\":\"histogram2dcontour\"}],\"mesh3d\":[{\"colorbar\":{\"outlinewidth\":0,\"ticks\":\"\"},\"type\":\"mesh3d\"}],\"parcoords\":[{\"line\":{\"colorbar\":{\"outlinewidth\":0,\"ticks\":\"\"}},\"type\":\"parcoords\"}],\"pie\":[{\"automargin\":true,\"type\":\"pie\"}],\"scatter\":[{\"marker\":{\"colorbar\":{\"outlinewidth\":0,\"ticks\":\"\"}},\"type\":\"scatter\"}],\"scatter3d\":[{\"line\":{\"colorbar\":{\"outlinewidth\":0,\"ticks\":\"\"}},\"marker\":{\"colorbar\":{\"outlinewidth\":0,\"ticks\":\"\"}},\"type\":\"scatter3d\"}],\"scattercarpet\":[{\"marker\":{\"colorbar\":{\"outlinewidth\":0,\"ticks\":\"\"}},\"type\":\"scattercarpet\"}],\"scattergeo\":[{\"marker\":{\"colorbar\":{\"outlinewidth\":0,\"ticks\":\"\"}},\"type\":\"scattergeo\"}],\"scattergl\":[{\"marker\":{\"colorbar\":{\"outlinewidth\":0,\"ticks\":\"\"}},\"type\":\"scattergl\"}],\"scattermapbox\":[{\"marker\":{\"colorbar\":{\"outlinewidth\":0,\"ticks\":\"\"}},\"type\":\"scattermapbox\"}],\"scatterpolar\":[{\"marker\":{\"colorbar\":{\"outlinewidth\":0,\"ticks\":\"\"}},\"type\":\"scatterpolar\"}],\"scatterpolargl\":[{\"marker\":{\"colorbar\":{\"outlinewidth\":0,\"ticks\":\"\"}},\"type\":\"scatterpolargl\"}],\"scatterternary\":[{\"marker\":{\"colorbar\":{\"outlinewidth\":0,\"ticks\":\"\"}},\"type\":\"scatterternary\"}],\"surface\":[{\"colorbar\":{\"outlinewidth\":0,\"ticks\":\"\"},\"colorscale\":[[0.0,\"#0d0887\"],[0.1111111111111111,\"#46039f\"],[0.2222222222222222,\"#7201a8\"],[0.3333333333333333,\"#9c179e\"],[0.4444444444444444,\"#bd3786\"],[0.5555555555555556,\"#d8576b\"],[0.6666666666666666,\"#ed7953\"],[0.7777777777777778,\"#fb9f3a\"],[0.8888888888888888,\"#fdca26\"],[1.0,\"#f0f921\"]],\"type\":\"surface\"}],\"table\":[{\"cells\":{\"fill\":{\"color\":\"#EBF0F8\"},\"line\":{\"color\":\"white\"}},\"header\":{\"fill\":{\"color\":\"#C8D4E3\"},\"line\":{\"color\":\"white\"}},\"type\":\"table\"}]},\"layout\":{\"annotationdefaults\":{\"arrowcolor\":\"#2a3f5f\",\"arrowhead\":0,\"arrowwidth\":1},\"autotypenumbers\":\"strict\",\"coloraxis\":{\"colorbar\":{\"outlinewidth\":0,\"ticks\":\"\"}},\"colorscale\":{\"diverging\":[[0,\"#8e0152\"],[0.1,\"#c51b7d\"],[0.2,\"#de77ae\"],[0.3,\"#f1b6da\"],[0.4,\"#fde0ef\"],[0.5,\"#f7f7f7\"],[0.6,\"#e6f5d0\"],[0.7,\"#b8e186\"],[0.8,\"#7fbc41\"],[0.9,\"#4d9221\"],[1,\"#276419\"]],\"sequential\":[[0.0,\"#0d0887\"],[0.1111111111111111,\"#46039f\"],[0.2222222222222222,\"#7201a8\"],[0.3333333333333333,\"#9c179e\"],[0.4444444444444444,\"#bd3786\"],[0.5555555555555556,\"#d8576b\"],[0.6666666666666666,\"#ed7953\"],[0.7777777777777778,\"#fb9f3a\"],[0.8888888888888888,\"#fdca26\"],[1.0,\"#f0f921\"]],\"sequentialminus\":[[0.0,\"#0d0887\"],[0.1111111111111111,\"#46039f\"],[0.2222222222222222,\"#7201a8\"],[0.3333333333333333,\"#9c179e\"],[0.4444444444444444,\"#bd3786\"],[0.5555555555555556,\"#d8576b\"],[0.6666666666666666,\"#ed7953\"],[0.7777777777777778,\"#fb9f3a\"],[0.8888888888888888,\"#fdca26\"],[1.0,\"#f0f921\"]]},\"colorway\":[\"#636efa\",\"#EF553B\",\"#00cc96\",\"#ab63fa\",\"#FFA15A\",\"#19d3f3\",\"#FF6692\",\"#B6E880\",\"#FF97FF\",\"#FECB52\"],\"font\":{\"color\":\"#2a3f5f\"},\"geo\":{\"bgcolor\":\"white\",\"lakecolor\":\"white\",\"landcolor\":\"#E5ECF6\",\"showlakes\":true,\"showland\":true,\"subunitcolor\":\"white\"},\"hoverlabel\":{\"align\":\"left\"},\"hovermode\":\"closest\",\"mapbox\":{\"style\":\"light\"},\"paper_bgcolor\":\"white\",\"plot_bgcolor\":\"#E5ECF6\",\"polar\":{\"angularaxis\":{\"gridcolor\":\"white\",\"linecolor\":\"white\",\"ticks\":\"\"},\"bgcolor\":\"#E5ECF6\",\"radialaxis\":{\"gridcolor\":\"white\",\"linecolor\":\"white\",\"ticks\":\"\"}},\"scene\":{\"xaxis\":{\"backgroundcolor\":\"#E5ECF6\",\"gridcolor\":\"white\",\"gridwidth\":2,\"linecolor\":\"white\",\"showbackground\":true,\"ticks\":\"\",\"zerolinecolor\":\"white\"},\"yaxis\":{\"backgroundcolor\":\"#E5ECF6\",\"gridcolor\":\"white\",\"gridwidth\":2,\"linecolor\":\"white\",\"showbackground\":true,\"ticks\":\"\",\"zerolinecolor\":\"white\"},\"zaxis\":{\"backgroundcolor\":\"#E5ECF6\",\"gridcolor\":\"white\",\"gridwidth\":2,\"linecolor\":\"white\",\"showbackground\":true,\"ticks\":\"\",\"zerolinecolor\":\"white\"}},\"shapedefaults\":{\"line\":{\"color\":\"#2a3f5f\"}},\"ternary\":{\"aaxis\":{\"gridcolor\":\"white\",\"linecolor\":\"white\",\"ticks\":\"\"},\"baxis\":{\"gridcolor\":\"white\",\"linecolor\":\"white\",\"ticks\":\"\"},\"bgcolor\":\"#E5ECF6\",\"caxis\":{\"gridcolor\":\"white\",\"linecolor\":\"white\",\"ticks\":\"\"}},\"title\":{\"x\":0.05},\"xaxis\":{\"automargin\":true,\"gridcolor\":\"white\",\"linecolor\":\"white\",\"ticks\":\"\",\"title\":{\"standoff\":15},\"zerolinecolor\":\"white\",\"zerolinewidth\":2},\"yaxis\":{\"automargin\":true,\"gridcolor\":\"white\",\"linecolor\":\"white\",\"ticks\":\"\",\"title\":{\"standoff\":15},\"zerolinecolor\":\"white\",\"zerolinewidth\":2}}},\"title\":{\"font\":{\"color\":\"#4D5663\"}},\"xaxis\":{\"gridcolor\":\"#E1E5ED\",\"showgrid\":true,\"tickfont\":{\"color\":\"#4D5663\"},\"title\":{\"font\":{\"color\":\"#4D5663\"},\"text\":\"\"},\"zerolinecolor\":\"#E1E5ED\"},\"yaxis\":{\"gridcolor\":\"#E1E5ED\",\"showgrid\":true,\"tickfont\":{\"color\":\"#4D5663\"},\"title\":{\"font\":{\"color\":\"#4D5663\"},\"text\":\"\"},\"zerolinecolor\":\"#E1E5ED\"}},                        {\"showLink\": true, \"linkText\": \"Export to plot.ly\", \"plotlyServerURL\": \"https://plot.ly\", \"responsive\": true}                    ).then(function(){\n",
       "                            \n",
       "var gd = document.getElementById('cc5cafa9-d053-44a8-9953-f455cc8c6ae7');\n",
       "var x = new MutationObserver(function (mutations, observer) {{\n",
       "        var display = window.getComputedStyle(gd).display;\n",
       "        if (!display || display === 'none') {{\n",
       "            console.log([gd, 'removed!']);\n",
       "            Plotly.purge(gd);\n",
       "            observer.disconnect();\n",
       "        }}\n",
       "}});\n",
       "\n",
       "// Listen for the removal of the full notebook cells\n",
       "var notebookContainer = gd.closest('#notebook-container');\n",
       "if (notebookContainer) {{\n",
       "    x.observe(notebookContainer, {childList: true});\n",
       "}}\n",
       "\n",
       "// Listen for the clearing of the current output cell\n",
       "var outputEl = gd.closest('.output');\n",
       "if (outputEl) {{\n",
       "    x.observe(outputEl, {childList: true});\n",
       "}}\n",
       "\n",
       "                        })                };                });            </script>        </div>"
      ]
     },
     "metadata": {},
     "output_type": "display_data"
    }
   ],
   "source": [
    "df.iplot(kind='bubble',x='A',y='B',size='C')"
   ]
  },
  {
   "cell_type": "code",
   "execution_count": 50,
   "id": "846dd8d4",
   "metadata": {},
   "outputs": [],
   "source": [
    "#scatter matrix"
   ]
  },
  {
   "cell_type": "code",
   "execution_count": 52,
   "id": "7a975214",
   "metadata": {},
   "outputs": [
    {
     "data": {
      "application/vnd.plotly.v1+json": {
       "config": {
        "linkText": "Export to plot.ly",
        "plotlyServerURL": "https://plot.ly",
        "showLink": true
       },
       "data": [
        {
         "histfunc": "count",
         "histnorm": "",
         "marker": {
          "color": "rgba(255, 153, 51, 1.0)",
          "line": {
           "color": "#4D5663",
           "width": 1.3
          }
         },
         "name": "A",
         "nbinsx": 10,
         "opacity": 0.8,
         "orientation": "v",
         "type": "histogram",
         "x": [
          -0.34225299009874355,
          0.4892447760011251,
          0.6289296113249515,
          -0.9623444735331236,
          0.5218374246730623,
          1.0872779779546433,
          -2.5446001105676275,
          -0.2858836687280843,
          1.3065777779854995,
          -2.4104707774726113,
          1.3369186035954843,
          0.3838707492935451,
          -0.5526656706871299,
          -0.523243795919335,
          -0.5219209505049524,
          0.7876928140633233,
          -0.9458273989118097,
          0.6798036848133264,
          -0.7326321084090412,
          2.9676666789696204,
          -0.05694316110548828,
          -0.3901687948679766,
          0.39042317054449927,
          -0.5097476850302313,
          -0.06005776882918707,
          1.8651889477854269,
          0.6825596947887341,
          -0.660930834038989,
          0.7457389149047722,
          0.5831350759677145,
          0.20565331727263178,
          0.12137563657220368,
          0.14222541475987407,
          -0.21964030922882513,
          -0.1403522050946297,
          0.9130048247460788,
          -0.5324825569805095,
          0.8357026232545052,
          -0.05136640945025422,
          -0.15442903874892236,
          0.4427417326955754,
          -1.4618826570001109,
          -0.23457977919541678,
          1.5819006525811172,
          1.7673116734486296,
          0.5244123082679875,
          -1.4960518062062593,
          -0.08993988733773665,
          0.8209575792192505,
          0.277831732542309,
          1.9225576880083868,
          1.757171966228769,
          -2.138688527959561,
          -1.3709748402957949,
          -0.7155997219888818,
          0.3317227996255702,
          -1.0043614591743062,
          -1.0261278984258224,
          -1.4276290468878337,
          -1.0891931758991331,
          0.2035269789201755,
          0.02473667551913148,
          0.19551292413294072,
          -0.19036560623878837,
          -1.8010591597777204,
          0.8032033734232925,
          -1.0990490358758565,
          0.7760903618580065,
          -0.5271828141604505,
          -0.7383131855752465,
          -0.27543257249948844,
          -0.037819243298348515,
          1.2032094442658468,
          0.785084605957565,
          0.7503288870253916,
          -0.8472573692739707,
          -0.37625320843617843,
          -1.2657485333486633,
          1.7888324677330751,
          0.7499899464558957,
          0.3247253443598456,
          1.1096782207812264,
          0.28418622192332155,
          0.8318537645554853,
          2.0139557344103043,
          0.3476274485672122,
          -0.7967921761246892,
          -0.12058745799601407,
          0.43531389145934873,
          0.35347704597191093,
          -1.3720175798793395,
          -1.2811737166611563,
          0.04571690779276586,
          1.8411898245359177,
          -0.34353168706576764,
          1.0133136240424316,
          0.31479801507956323,
          2.1145539751315687,
          -1.0277828928921748,
          -0.7838019655038211
         ],
         "xaxis": "x",
         "yaxis": "y"
        },
        {
         "line": {
          "color": "rgba(128, 128, 128, 1.0)",
          "dash": "solid",
          "shape": "linear",
          "width": 1.3
         },
         "marker": {
          "size": 2,
          "symbol": "circle"
         },
         "mode": "markers",
         "name": "A",
         "text": "",
         "type": "scatter",
         "x": [
          0.9900955482666974,
          -0.9889452577232196,
          -0.9378354850254641,
          -0.5463691152022653,
          2.0271518857018807,
          0.19925957847537346,
          -0.7786039713483985,
          0.2520015620313144,
          -0.6188427581785232,
          0.419814842315549,
          -1.8602683357380412,
          0.7728522626338924,
          0.23979797259129315,
          1.1297423815295664,
          -0.10475559546208067,
          -0.009461289991414178,
          0.7113080068140527,
          -1.4786843116096715,
          -1.3201954219731604,
          0.07031698798374092,
          1.6442459691777473,
          -0.13952067189279416,
          -0.9250117184627819,
          -1.730634623494131,
          -1.2546443084973622,
          1.2139408010780905,
          -0.5844745801129339,
          -0.29554717166621897,
          0.27281484542731976,
          0.25318894794907465,
          -0.24638066248007567,
          -0.3001463717227039,
          -0.47843477549201796,
          1.5339025213459436,
          1.237395379686162,
          -0.214093862004028,
          -0.3867947061510151,
          0.20025306551505054,
          0.5518586459046209,
          -1.2649171383821682,
          -0.31394703787397016,
          2.624200579430331,
          -0.7124402468346807,
          0.47598211399691526,
          0.3543661152225115,
          -0.7416521439997066,
          0.11901051948687877,
          -1.228030696683017,
          -0.5254167537146217,
          -0.8180277127043986,
          0.9767586529113346,
          1.2707583473030304,
          -0.1430902898326658,
          0.3866316300901333,
          0.918493501529165,
          0.7382411409509697,
          -1.7872095559123204,
          -0.05138925422187474,
          -1.3099282607443965,
          0.3619874357419031,
          0.2473659952388168,
          0.673183153770201,
          -0.42378629704185045,
          -0.5218702450381305,
          0.3643796819545949,
          -0.8571232551495427,
          0.6196384121373644,
          -0.5532877791773987,
          -0.6985239271046452,
          -0.4971711238652195,
          0.9837197737497394,
          0.151109103477177,
          -0.45528688478792184,
          -0.2940979367596788,
          -1.1357511274305079,
          1.7291497641174005,
          -0.5315171160860179,
          0.5412751513880071,
          2.319270328199936,
          1.105881259664581,
          0.24183604497834638,
          -0.12739001798747068,
          0.15509861976732744,
          -1.0996109070986873,
          0.23972510178264853,
          -0.08154335854543714,
          -1.8255709836497878,
          1.8463351692191043,
          1.820835557120743,
          0.9539408365908607,
          -1.7026480093372356,
          0.736197256641093,
          -0.21103967120123218,
          0.37668614877938134,
          -0.8927141407003845,
          -0.10178995397251908,
          -1.3472346892602074,
          -0.6569542813244048,
          0.9437776474422417,
          -3.0058043986457124
         ],
         "xaxis": "x2",
         "y": [
          -0.34225299009874355,
          0.4892447760011251,
          0.6289296113249515,
          -0.9623444735331236,
          0.5218374246730623,
          1.0872779779546433,
          -2.5446001105676275,
          -0.2858836687280843,
          1.3065777779854995,
          -2.4104707774726113,
          1.3369186035954843,
          0.3838707492935451,
          -0.5526656706871299,
          -0.523243795919335,
          -0.5219209505049524,
          0.7876928140633233,
          -0.9458273989118097,
          0.6798036848133264,
          -0.7326321084090412,
          2.9676666789696204,
          -0.05694316110548828,
          -0.3901687948679766,
          0.39042317054449927,
          -0.5097476850302313,
          -0.06005776882918707,
          1.8651889477854269,
          0.6825596947887341,
          -0.660930834038989,
          0.7457389149047722,
          0.5831350759677145,
          0.20565331727263178,
          0.12137563657220368,
          0.14222541475987407,
          -0.21964030922882513,
          -0.1403522050946297,
          0.9130048247460788,
          -0.5324825569805095,
          0.8357026232545052,
          -0.05136640945025422,
          -0.15442903874892236,
          0.4427417326955754,
          -1.4618826570001109,
          -0.23457977919541678,
          1.5819006525811172,
          1.7673116734486296,
          0.5244123082679875,
          -1.4960518062062593,
          -0.08993988733773665,
          0.8209575792192505,
          0.277831732542309,
          1.9225576880083868,
          1.757171966228769,
          -2.138688527959561,
          -1.3709748402957949,
          -0.7155997219888818,
          0.3317227996255702,
          -1.0043614591743062,
          -1.0261278984258224,
          -1.4276290468878337,
          -1.0891931758991331,
          0.2035269789201755,
          0.02473667551913148,
          0.19551292413294072,
          -0.19036560623878837,
          -1.8010591597777204,
          0.8032033734232925,
          -1.0990490358758565,
          0.7760903618580065,
          -0.5271828141604505,
          -0.7383131855752465,
          -0.27543257249948844,
          -0.037819243298348515,
          1.2032094442658468,
          0.785084605957565,
          0.7503288870253916,
          -0.8472573692739707,
          -0.37625320843617843,
          -1.2657485333486633,
          1.7888324677330751,
          0.7499899464558957,
          0.3247253443598456,
          1.1096782207812264,
          0.28418622192332155,
          0.8318537645554853,
          2.0139557344103043,
          0.3476274485672122,
          -0.7967921761246892,
          -0.12058745799601407,
          0.43531389145934873,
          0.35347704597191093,
          -1.3720175798793395,
          -1.2811737166611563,
          0.04571690779276586,
          1.8411898245359177,
          -0.34353168706576764,
          1.0133136240424316,
          0.31479801507956323,
          2.1145539751315687,
          -1.0277828928921748,
          -0.7838019655038211
         ],
         "yaxis": "y2"
        },
        {
         "line": {
          "color": "rgba(128, 128, 128, 1.0)",
          "dash": "solid",
          "shape": "linear",
          "width": 1.3
         },
         "marker": {
          "size": 2,
          "symbol": "circle"
         },
         "mode": "markers",
         "name": "A",
         "text": "",
         "type": "scatter",
         "x": [
          -0.24360119416966694,
          2.6290698676150748,
          0.2661367149716258,
          0.4248000862046849,
          0.15691359647032885,
          1.2669766461076717,
          -0.7458482705573792,
          -1.0425577762968143,
          -0.9918293586883078,
          1.1752207914133415,
          0.8237476957175225,
          1.1559167419733656,
          -0.26544194102746643,
          -1.756871692208469,
          -0.4328200632631489,
          -1.5946234612917132,
          -0.7754468725671481,
          2.456890194326189,
          0.25177654767670976,
          -0.5276250778756187,
          -0.41515353632559016,
          -0.9702083336083774,
          -0.5386885727546051,
          0.37514521710971366,
          0.42471750848556794,
          0.9123108730469526,
          -1.3814941779525685,
          1.5467689361155261,
          -1.006894590393866,
          0.0956355518057554,
          0.7466898784983458,
          -0.24213182443022957,
          -0.9250827556716021,
          -1.5203503273531633,
          -0.4977984822613209,
          -0.6410172305332248,
          0.0004638774932113429,
          0.8313405708447927,
          2.019266841869993,
          0.5943772196931862,
          -0.30837067424611286,
          0.9104799562812206,
          0.19755570215657497,
          0.2773208278157791,
          -1.0387187975724872,
          -0.506375180681545,
          -0.5516849839146819,
          0.7116617071345542,
          -0.19579766373118063,
          0.42693167129622245,
          -0.8331237335520756,
          0.5016062861936484,
          -0.6937427386910572,
          -0.49746785662625626,
          -1.7118428797935947,
          -0.7605643980862589,
          -0.5390131077084975,
          -0.09681021739978073,
          0.540645279267166,
          -0.48285349611885797,
          0.025786372736263302,
          1.8235643881611308,
          -1.2932590197710199,
          -0.6465104579661324,
          2.0408865397934393,
          0.7642965793643237,
          -0.8265002416929838,
          0.1019702069298536,
          0.8725592650972407,
          -1.588148164340174,
          -1.4228936331224291,
          0.3031964853541781,
          -0.07949730751640986,
          -2.39910314507416,
          -0.7029900183390284,
          0.8408133054957266,
          0.6166977677036451,
          -0.9940793947697844,
          -0.534675036167626,
          -0.14707923691588887,
          -2.6234047287938913,
          -1.3474097174098156,
          -0.1421345213333329,
          0.008835708481921363,
          -1.2515389770614476,
          -0.6441581344355697,
          -0.5934360296853288,
          -0.027506673382790198,
          -0.23057019069383758,
          -0.4883458423910079,
          -1.22605047743705,
          -0.6061666040960666,
          -1.0125377919921394,
          -0.3320753382492649,
          0.766639572361874,
          0.07814275463062237,
          -0.02251167615807235,
          -1.2505570063745404,
          -0.41570718077541857,
          -0.6990955371320429
         ],
         "xaxis": "x3",
         "y": [
          -0.34225299009874355,
          0.4892447760011251,
          0.6289296113249515,
          -0.9623444735331236,
          0.5218374246730623,
          1.0872779779546433,
          -2.5446001105676275,
          -0.2858836687280843,
          1.3065777779854995,
          -2.4104707774726113,
          1.3369186035954843,
          0.3838707492935451,
          -0.5526656706871299,
          -0.523243795919335,
          -0.5219209505049524,
          0.7876928140633233,
          -0.9458273989118097,
          0.6798036848133264,
          -0.7326321084090412,
          2.9676666789696204,
          -0.05694316110548828,
          -0.3901687948679766,
          0.39042317054449927,
          -0.5097476850302313,
          -0.06005776882918707,
          1.8651889477854269,
          0.6825596947887341,
          -0.660930834038989,
          0.7457389149047722,
          0.5831350759677145,
          0.20565331727263178,
          0.12137563657220368,
          0.14222541475987407,
          -0.21964030922882513,
          -0.1403522050946297,
          0.9130048247460788,
          -0.5324825569805095,
          0.8357026232545052,
          -0.05136640945025422,
          -0.15442903874892236,
          0.4427417326955754,
          -1.4618826570001109,
          -0.23457977919541678,
          1.5819006525811172,
          1.7673116734486296,
          0.5244123082679875,
          -1.4960518062062593,
          -0.08993988733773665,
          0.8209575792192505,
          0.277831732542309,
          1.9225576880083868,
          1.757171966228769,
          -2.138688527959561,
          -1.3709748402957949,
          -0.7155997219888818,
          0.3317227996255702,
          -1.0043614591743062,
          -1.0261278984258224,
          -1.4276290468878337,
          -1.0891931758991331,
          0.2035269789201755,
          0.02473667551913148,
          0.19551292413294072,
          -0.19036560623878837,
          -1.8010591597777204,
          0.8032033734232925,
          -1.0990490358758565,
          0.7760903618580065,
          -0.5271828141604505,
          -0.7383131855752465,
          -0.27543257249948844,
          -0.037819243298348515,
          1.2032094442658468,
          0.785084605957565,
          0.7503288870253916,
          -0.8472573692739707,
          -0.37625320843617843,
          -1.2657485333486633,
          1.7888324677330751,
          0.7499899464558957,
          0.3247253443598456,
          1.1096782207812264,
          0.28418622192332155,
          0.8318537645554853,
          2.0139557344103043,
          0.3476274485672122,
          -0.7967921761246892,
          -0.12058745799601407,
          0.43531389145934873,
          0.35347704597191093,
          -1.3720175798793395,
          -1.2811737166611563,
          0.04571690779276586,
          1.8411898245359177,
          -0.34353168706576764,
          1.0133136240424316,
          0.31479801507956323,
          2.1145539751315687,
          -1.0277828928921748,
          -0.7838019655038211
         ],
         "yaxis": "y3"
        },
        {
         "line": {
          "color": "rgba(128, 128, 128, 1.0)",
          "dash": "solid",
          "shape": "linear",
          "width": 1.3
         },
         "marker": {
          "size": 2,
          "symbol": "circle"
         },
         "mode": "markers",
         "name": "A",
         "text": "",
         "type": "scatter",
         "x": [
          -0.8993780379502047,
          -0.02805590171480415,
          0.5612035642976496,
          0.45017054087238884,
          -2.233080770879555,
          0.3739742395124629,
          -0.5774356122456568,
          -0.6717884367620782,
          0.4832487351689567,
          0.761435996894435,
          -0.04059328762487213,
          0.5101128605312929,
          0.19902095165716177,
          -1.5411945525961641,
          -0.45683768831453736,
          3.2567902677591,
          -0.24721414340764963,
          -1.4596725990248305,
          -2.4248001490278375,
          0.12611197215654926,
          1.9234059086665694,
          -0.7415422179044057,
          0.5318699546445996,
          0.3411788196455518,
          -0.30164340637185694,
          0.9763135783972272,
          -0.21897997321007678,
          0.354782893192736,
          1.9263999024854617,
          -1.0069515783908103,
          -0.0914288423605711,
          0.9977226852097353,
          -0.16959396494707218,
          -0.9640722535068827,
          0.26028820686903065,
          0.6912992723236513,
          -0.4203592662512756,
          -1.3261158849795756,
          -1.1453604179470454,
          -0.9227383863226544,
          0.0033439820871036955,
          -0.29155084059205694,
          -1.192411953625304,
          0.34346615046657125,
          -1.0908146569416461,
          1.5747384092161831,
          -0.3905808061673566,
          -1.2576203889566724,
          -0.9292308926637166,
          1.9194370566526706,
          -1.6507047842344582,
          0.8631548922913439,
          1.2991380618444575,
          -3.2615524161869196,
          -1.0717834772800015,
          1.2630698522056911,
          3.1470570330562615,
          -0.13404492840812246,
          1.9029965756941507,
          0.5312264148980672,
          -1.0776998955177377,
          0.21816766458394263,
          0.951581629546409,
          0.35406437532113627,
          0.6726097055720566,
          1.5289951046519916,
          0.8872488457004313,
          1.5278424465510052,
          -0.5629686924888644,
          -0.6833421677015717,
          0.5763413458651462,
          0.12764236871541115,
          1.180397231496056,
          0.340318053147227,
          0.002726022685278746,
          1.7713800150640246,
          1.2982996566138594,
          -1.0523866869149032,
          -0.779700669840491,
          -1.8575621845742905,
          -0.7110915002681697,
          -1.4997360103036437,
          0.7950770689699234,
          0.52438561059342,
          0.2576584909044913,
          -1.1552940935623224,
          1.3039721355476719,
          1.8623529103560788,
          -0.15667476232146516,
          0.22218725609677162,
          0.1133313728764875,
          -0.7881581017112002,
          0.6817806926876091,
          -0.38247769385962327,
          -0.745334160946617,
          -0.07717189151842606,
          -0.9439590114540767,
          -0.33257224030030497,
          -0.33528789414779003,
          0.45350533599463455
         ],
         "xaxis": "x4",
         "y": [
          -0.34225299009874355,
          0.4892447760011251,
          0.6289296113249515,
          -0.9623444735331236,
          0.5218374246730623,
          1.0872779779546433,
          -2.5446001105676275,
          -0.2858836687280843,
          1.3065777779854995,
          -2.4104707774726113,
          1.3369186035954843,
          0.3838707492935451,
          -0.5526656706871299,
          -0.523243795919335,
          -0.5219209505049524,
          0.7876928140633233,
          -0.9458273989118097,
          0.6798036848133264,
          -0.7326321084090412,
          2.9676666789696204,
          -0.05694316110548828,
          -0.3901687948679766,
          0.39042317054449927,
          -0.5097476850302313,
          -0.06005776882918707,
          1.8651889477854269,
          0.6825596947887341,
          -0.660930834038989,
          0.7457389149047722,
          0.5831350759677145,
          0.20565331727263178,
          0.12137563657220368,
          0.14222541475987407,
          -0.21964030922882513,
          -0.1403522050946297,
          0.9130048247460788,
          -0.5324825569805095,
          0.8357026232545052,
          -0.05136640945025422,
          -0.15442903874892236,
          0.4427417326955754,
          -1.4618826570001109,
          -0.23457977919541678,
          1.5819006525811172,
          1.7673116734486296,
          0.5244123082679875,
          -1.4960518062062593,
          -0.08993988733773665,
          0.8209575792192505,
          0.277831732542309,
          1.9225576880083868,
          1.757171966228769,
          -2.138688527959561,
          -1.3709748402957949,
          -0.7155997219888818,
          0.3317227996255702,
          -1.0043614591743062,
          -1.0261278984258224,
          -1.4276290468878337,
          -1.0891931758991331,
          0.2035269789201755,
          0.02473667551913148,
          0.19551292413294072,
          -0.19036560623878837,
          -1.8010591597777204,
          0.8032033734232925,
          -1.0990490358758565,
          0.7760903618580065,
          -0.5271828141604505,
          -0.7383131855752465,
          -0.27543257249948844,
          -0.037819243298348515,
          1.2032094442658468,
          0.785084605957565,
          0.7503288870253916,
          -0.8472573692739707,
          -0.37625320843617843,
          -1.2657485333486633,
          1.7888324677330751,
          0.7499899464558957,
          0.3247253443598456,
          1.1096782207812264,
          0.28418622192332155,
          0.8318537645554853,
          2.0139557344103043,
          0.3476274485672122,
          -0.7967921761246892,
          -0.12058745799601407,
          0.43531389145934873,
          0.35347704597191093,
          -1.3720175798793395,
          -1.2811737166611563,
          0.04571690779276586,
          1.8411898245359177,
          -0.34353168706576764,
          1.0133136240424316,
          0.31479801507956323,
          2.1145539751315687,
          -1.0277828928921748,
          -0.7838019655038211
         ],
         "yaxis": "y4"
        },
        {
         "line": {
          "color": "rgba(128, 128, 128, 1.0)",
          "dash": "solid",
          "shape": "linear",
          "width": 1.3
         },
         "marker": {
          "size": 2,
          "symbol": "circle"
         },
         "mode": "markers",
         "name": "B",
         "text": "",
         "type": "scatter",
         "x": [
          -0.34225299009874355,
          0.4892447760011251,
          0.6289296113249515,
          -0.9623444735331236,
          0.5218374246730623,
          1.0872779779546433,
          -2.5446001105676275,
          -0.2858836687280843,
          1.3065777779854995,
          -2.4104707774726113,
          1.3369186035954843,
          0.3838707492935451,
          -0.5526656706871299,
          -0.523243795919335,
          -0.5219209505049524,
          0.7876928140633233,
          -0.9458273989118097,
          0.6798036848133264,
          -0.7326321084090412,
          2.9676666789696204,
          -0.05694316110548828,
          -0.3901687948679766,
          0.39042317054449927,
          -0.5097476850302313,
          -0.06005776882918707,
          1.8651889477854269,
          0.6825596947887341,
          -0.660930834038989,
          0.7457389149047722,
          0.5831350759677145,
          0.20565331727263178,
          0.12137563657220368,
          0.14222541475987407,
          -0.21964030922882513,
          -0.1403522050946297,
          0.9130048247460788,
          -0.5324825569805095,
          0.8357026232545052,
          -0.05136640945025422,
          -0.15442903874892236,
          0.4427417326955754,
          -1.4618826570001109,
          -0.23457977919541678,
          1.5819006525811172,
          1.7673116734486296,
          0.5244123082679875,
          -1.4960518062062593,
          -0.08993988733773665,
          0.8209575792192505,
          0.277831732542309,
          1.9225576880083868,
          1.757171966228769,
          -2.138688527959561,
          -1.3709748402957949,
          -0.7155997219888818,
          0.3317227996255702,
          -1.0043614591743062,
          -1.0261278984258224,
          -1.4276290468878337,
          -1.0891931758991331,
          0.2035269789201755,
          0.02473667551913148,
          0.19551292413294072,
          -0.19036560623878837,
          -1.8010591597777204,
          0.8032033734232925,
          -1.0990490358758565,
          0.7760903618580065,
          -0.5271828141604505,
          -0.7383131855752465,
          -0.27543257249948844,
          -0.037819243298348515,
          1.2032094442658468,
          0.785084605957565,
          0.7503288870253916,
          -0.8472573692739707,
          -0.37625320843617843,
          -1.2657485333486633,
          1.7888324677330751,
          0.7499899464558957,
          0.3247253443598456,
          1.1096782207812264,
          0.28418622192332155,
          0.8318537645554853,
          2.0139557344103043,
          0.3476274485672122,
          -0.7967921761246892,
          -0.12058745799601407,
          0.43531389145934873,
          0.35347704597191093,
          -1.3720175798793395,
          -1.2811737166611563,
          0.04571690779276586,
          1.8411898245359177,
          -0.34353168706576764,
          1.0133136240424316,
          0.31479801507956323,
          2.1145539751315687,
          -1.0277828928921748,
          -0.7838019655038211
         ],
         "xaxis": "x5",
         "y": [
          0.9900955482666974,
          -0.9889452577232196,
          -0.9378354850254641,
          -0.5463691152022653,
          2.0271518857018807,
          0.19925957847537346,
          -0.7786039713483985,
          0.2520015620313144,
          -0.6188427581785232,
          0.419814842315549,
          -1.8602683357380412,
          0.7728522626338924,
          0.23979797259129315,
          1.1297423815295664,
          -0.10475559546208067,
          -0.009461289991414178,
          0.7113080068140527,
          -1.4786843116096715,
          -1.3201954219731604,
          0.07031698798374092,
          1.6442459691777473,
          -0.13952067189279416,
          -0.9250117184627819,
          -1.730634623494131,
          -1.2546443084973622,
          1.2139408010780905,
          -0.5844745801129339,
          -0.29554717166621897,
          0.27281484542731976,
          0.25318894794907465,
          -0.24638066248007567,
          -0.3001463717227039,
          -0.47843477549201796,
          1.5339025213459436,
          1.237395379686162,
          -0.214093862004028,
          -0.3867947061510151,
          0.20025306551505054,
          0.5518586459046209,
          -1.2649171383821682,
          -0.31394703787397016,
          2.624200579430331,
          -0.7124402468346807,
          0.47598211399691526,
          0.3543661152225115,
          -0.7416521439997066,
          0.11901051948687877,
          -1.228030696683017,
          -0.5254167537146217,
          -0.8180277127043986,
          0.9767586529113346,
          1.2707583473030304,
          -0.1430902898326658,
          0.3866316300901333,
          0.918493501529165,
          0.7382411409509697,
          -1.7872095559123204,
          -0.05138925422187474,
          -1.3099282607443965,
          0.3619874357419031,
          0.2473659952388168,
          0.673183153770201,
          -0.42378629704185045,
          -0.5218702450381305,
          0.3643796819545949,
          -0.8571232551495427,
          0.6196384121373644,
          -0.5532877791773987,
          -0.6985239271046452,
          -0.4971711238652195,
          0.9837197737497394,
          0.151109103477177,
          -0.45528688478792184,
          -0.2940979367596788,
          -1.1357511274305079,
          1.7291497641174005,
          -0.5315171160860179,
          0.5412751513880071,
          2.319270328199936,
          1.105881259664581,
          0.24183604497834638,
          -0.12739001798747068,
          0.15509861976732744,
          -1.0996109070986873,
          0.23972510178264853,
          -0.08154335854543714,
          -1.8255709836497878,
          1.8463351692191043,
          1.820835557120743,
          0.9539408365908607,
          -1.7026480093372356,
          0.736197256641093,
          -0.21103967120123218,
          0.37668614877938134,
          -0.8927141407003845,
          -0.10178995397251908,
          -1.3472346892602074,
          -0.6569542813244048,
          0.9437776474422417,
          -3.0058043986457124
         ],
         "yaxis": "y5"
        },
        {
         "histfunc": "count",
         "histnorm": "",
         "marker": {
          "color": "rgba(55, 128, 191, 1.0)",
          "line": {
           "color": "#4D5663",
           "width": 1.3
          }
         },
         "name": "B",
         "nbinsx": 10,
         "opacity": 0.8,
         "orientation": "v",
         "type": "histogram",
         "x": [
          0.9900955482666974,
          -0.9889452577232196,
          -0.9378354850254641,
          -0.5463691152022653,
          2.0271518857018807,
          0.19925957847537346,
          -0.7786039713483985,
          0.2520015620313144,
          -0.6188427581785232,
          0.419814842315549,
          -1.8602683357380412,
          0.7728522626338924,
          0.23979797259129315,
          1.1297423815295664,
          -0.10475559546208067,
          -0.009461289991414178,
          0.7113080068140527,
          -1.4786843116096715,
          -1.3201954219731604,
          0.07031698798374092,
          1.6442459691777473,
          -0.13952067189279416,
          -0.9250117184627819,
          -1.730634623494131,
          -1.2546443084973622,
          1.2139408010780905,
          -0.5844745801129339,
          -0.29554717166621897,
          0.27281484542731976,
          0.25318894794907465,
          -0.24638066248007567,
          -0.3001463717227039,
          -0.47843477549201796,
          1.5339025213459436,
          1.237395379686162,
          -0.214093862004028,
          -0.3867947061510151,
          0.20025306551505054,
          0.5518586459046209,
          -1.2649171383821682,
          -0.31394703787397016,
          2.624200579430331,
          -0.7124402468346807,
          0.47598211399691526,
          0.3543661152225115,
          -0.7416521439997066,
          0.11901051948687877,
          -1.228030696683017,
          -0.5254167537146217,
          -0.8180277127043986,
          0.9767586529113346,
          1.2707583473030304,
          -0.1430902898326658,
          0.3866316300901333,
          0.918493501529165,
          0.7382411409509697,
          -1.7872095559123204,
          -0.05138925422187474,
          -1.3099282607443965,
          0.3619874357419031,
          0.2473659952388168,
          0.673183153770201,
          -0.42378629704185045,
          -0.5218702450381305,
          0.3643796819545949,
          -0.8571232551495427,
          0.6196384121373644,
          -0.5532877791773987,
          -0.6985239271046452,
          -0.4971711238652195,
          0.9837197737497394,
          0.151109103477177,
          -0.45528688478792184,
          -0.2940979367596788,
          -1.1357511274305079,
          1.7291497641174005,
          -0.5315171160860179,
          0.5412751513880071,
          2.319270328199936,
          1.105881259664581,
          0.24183604497834638,
          -0.12739001798747068,
          0.15509861976732744,
          -1.0996109070986873,
          0.23972510178264853,
          -0.08154335854543714,
          -1.8255709836497878,
          1.8463351692191043,
          1.820835557120743,
          0.9539408365908607,
          -1.7026480093372356,
          0.736197256641093,
          -0.21103967120123218,
          0.37668614877938134,
          -0.8927141407003845,
          -0.10178995397251908,
          -1.3472346892602074,
          -0.6569542813244048,
          0.9437776474422417,
          -3.0058043986457124
         ],
         "xaxis": "x6",
         "yaxis": "y6"
        },
        {
         "line": {
          "color": "rgba(128, 128, 128, 1.0)",
          "dash": "solid",
          "shape": "linear",
          "width": 1.3
         },
         "marker": {
          "size": 2,
          "symbol": "circle"
         },
         "mode": "markers",
         "name": "B",
         "text": "",
         "type": "scatter",
         "x": [
          -0.24360119416966694,
          2.6290698676150748,
          0.2661367149716258,
          0.4248000862046849,
          0.15691359647032885,
          1.2669766461076717,
          -0.7458482705573792,
          -1.0425577762968143,
          -0.9918293586883078,
          1.1752207914133415,
          0.8237476957175225,
          1.1559167419733656,
          -0.26544194102746643,
          -1.756871692208469,
          -0.4328200632631489,
          -1.5946234612917132,
          -0.7754468725671481,
          2.456890194326189,
          0.25177654767670976,
          -0.5276250778756187,
          -0.41515353632559016,
          -0.9702083336083774,
          -0.5386885727546051,
          0.37514521710971366,
          0.42471750848556794,
          0.9123108730469526,
          -1.3814941779525685,
          1.5467689361155261,
          -1.006894590393866,
          0.0956355518057554,
          0.7466898784983458,
          -0.24213182443022957,
          -0.9250827556716021,
          -1.5203503273531633,
          -0.4977984822613209,
          -0.6410172305332248,
          0.0004638774932113429,
          0.8313405708447927,
          2.019266841869993,
          0.5943772196931862,
          -0.30837067424611286,
          0.9104799562812206,
          0.19755570215657497,
          0.2773208278157791,
          -1.0387187975724872,
          -0.506375180681545,
          -0.5516849839146819,
          0.7116617071345542,
          -0.19579766373118063,
          0.42693167129622245,
          -0.8331237335520756,
          0.5016062861936484,
          -0.6937427386910572,
          -0.49746785662625626,
          -1.7118428797935947,
          -0.7605643980862589,
          -0.5390131077084975,
          -0.09681021739978073,
          0.540645279267166,
          -0.48285349611885797,
          0.025786372736263302,
          1.8235643881611308,
          -1.2932590197710199,
          -0.6465104579661324,
          2.0408865397934393,
          0.7642965793643237,
          -0.8265002416929838,
          0.1019702069298536,
          0.8725592650972407,
          -1.588148164340174,
          -1.4228936331224291,
          0.3031964853541781,
          -0.07949730751640986,
          -2.39910314507416,
          -0.7029900183390284,
          0.8408133054957266,
          0.6166977677036451,
          -0.9940793947697844,
          -0.534675036167626,
          -0.14707923691588887,
          -2.6234047287938913,
          -1.3474097174098156,
          -0.1421345213333329,
          0.008835708481921363,
          -1.2515389770614476,
          -0.6441581344355697,
          -0.5934360296853288,
          -0.027506673382790198,
          -0.23057019069383758,
          -0.4883458423910079,
          -1.22605047743705,
          -0.6061666040960666,
          -1.0125377919921394,
          -0.3320753382492649,
          0.766639572361874,
          0.07814275463062237,
          -0.02251167615807235,
          -1.2505570063745404,
          -0.41570718077541857,
          -0.6990955371320429
         ],
         "xaxis": "x7",
         "y": [
          0.9900955482666974,
          -0.9889452577232196,
          -0.9378354850254641,
          -0.5463691152022653,
          2.0271518857018807,
          0.19925957847537346,
          -0.7786039713483985,
          0.2520015620313144,
          -0.6188427581785232,
          0.419814842315549,
          -1.8602683357380412,
          0.7728522626338924,
          0.23979797259129315,
          1.1297423815295664,
          -0.10475559546208067,
          -0.009461289991414178,
          0.7113080068140527,
          -1.4786843116096715,
          -1.3201954219731604,
          0.07031698798374092,
          1.6442459691777473,
          -0.13952067189279416,
          -0.9250117184627819,
          -1.730634623494131,
          -1.2546443084973622,
          1.2139408010780905,
          -0.5844745801129339,
          -0.29554717166621897,
          0.27281484542731976,
          0.25318894794907465,
          -0.24638066248007567,
          -0.3001463717227039,
          -0.47843477549201796,
          1.5339025213459436,
          1.237395379686162,
          -0.214093862004028,
          -0.3867947061510151,
          0.20025306551505054,
          0.5518586459046209,
          -1.2649171383821682,
          -0.31394703787397016,
          2.624200579430331,
          -0.7124402468346807,
          0.47598211399691526,
          0.3543661152225115,
          -0.7416521439997066,
          0.11901051948687877,
          -1.228030696683017,
          -0.5254167537146217,
          -0.8180277127043986,
          0.9767586529113346,
          1.2707583473030304,
          -0.1430902898326658,
          0.3866316300901333,
          0.918493501529165,
          0.7382411409509697,
          -1.7872095559123204,
          -0.05138925422187474,
          -1.3099282607443965,
          0.3619874357419031,
          0.2473659952388168,
          0.673183153770201,
          -0.42378629704185045,
          -0.5218702450381305,
          0.3643796819545949,
          -0.8571232551495427,
          0.6196384121373644,
          -0.5532877791773987,
          -0.6985239271046452,
          -0.4971711238652195,
          0.9837197737497394,
          0.151109103477177,
          -0.45528688478792184,
          -0.2940979367596788,
          -1.1357511274305079,
          1.7291497641174005,
          -0.5315171160860179,
          0.5412751513880071,
          2.319270328199936,
          1.105881259664581,
          0.24183604497834638,
          -0.12739001798747068,
          0.15509861976732744,
          -1.0996109070986873,
          0.23972510178264853,
          -0.08154335854543714,
          -1.8255709836497878,
          1.8463351692191043,
          1.820835557120743,
          0.9539408365908607,
          -1.7026480093372356,
          0.736197256641093,
          -0.21103967120123218,
          0.37668614877938134,
          -0.8927141407003845,
          -0.10178995397251908,
          -1.3472346892602074,
          -0.6569542813244048,
          0.9437776474422417,
          -3.0058043986457124
         ],
         "yaxis": "y7"
        },
        {
         "line": {
          "color": "rgba(128, 128, 128, 1.0)",
          "dash": "solid",
          "shape": "linear",
          "width": 1.3
         },
         "marker": {
          "size": 2,
          "symbol": "circle"
         },
         "mode": "markers",
         "name": "B",
         "text": "",
         "type": "scatter",
         "x": [
          -0.8993780379502047,
          -0.02805590171480415,
          0.5612035642976496,
          0.45017054087238884,
          -2.233080770879555,
          0.3739742395124629,
          -0.5774356122456568,
          -0.6717884367620782,
          0.4832487351689567,
          0.761435996894435,
          -0.04059328762487213,
          0.5101128605312929,
          0.19902095165716177,
          -1.5411945525961641,
          -0.45683768831453736,
          3.2567902677591,
          -0.24721414340764963,
          -1.4596725990248305,
          -2.4248001490278375,
          0.12611197215654926,
          1.9234059086665694,
          -0.7415422179044057,
          0.5318699546445996,
          0.3411788196455518,
          -0.30164340637185694,
          0.9763135783972272,
          -0.21897997321007678,
          0.354782893192736,
          1.9263999024854617,
          -1.0069515783908103,
          -0.0914288423605711,
          0.9977226852097353,
          -0.16959396494707218,
          -0.9640722535068827,
          0.26028820686903065,
          0.6912992723236513,
          -0.4203592662512756,
          -1.3261158849795756,
          -1.1453604179470454,
          -0.9227383863226544,
          0.0033439820871036955,
          -0.29155084059205694,
          -1.192411953625304,
          0.34346615046657125,
          -1.0908146569416461,
          1.5747384092161831,
          -0.3905808061673566,
          -1.2576203889566724,
          -0.9292308926637166,
          1.9194370566526706,
          -1.6507047842344582,
          0.8631548922913439,
          1.2991380618444575,
          -3.2615524161869196,
          -1.0717834772800015,
          1.2630698522056911,
          3.1470570330562615,
          -0.13404492840812246,
          1.9029965756941507,
          0.5312264148980672,
          -1.0776998955177377,
          0.21816766458394263,
          0.951581629546409,
          0.35406437532113627,
          0.6726097055720566,
          1.5289951046519916,
          0.8872488457004313,
          1.5278424465510052,
          -0.5629686924888644,
          -0.6833421677015717,
          0.5763413458651462,
          0.12764236871541115,
          1.180397231496056,
          0.340318053147227,
          0.002726022685278746,
          1.7713800150640246,
          1.2982996566138594,
          -1.0523866869149032,
          -0.779700669840491,
          -1.8575621845742905,
          -0.7110915002681697,
          -1.4997360103036437,
          0.7950770689699234,
          0.52438561059342,
          0.2576584909044913,
          -1.1552940935623224,
          1.3039721355476719,
          1.8623529103560788,
          -0.15667476232146516,
          0.22218725609677162,
          0.1133313728764875,
          -0.7881581017112002,
          0.6817806926876091,
          -0.38247769385962327,
          -0.745334160946617,
          -0.07717189151842606,
          -0.9439590114540767,
          -0.33257224030030497,
          -0.33528789414779003,
          0.45350533599463455
         ],
         "xaxis": "x8",
         "y": [
          0.9900955482666974,
          -0.9889452577232196,
          -0.9378354850254641,
          -0.5463691152022653,
          2.0271518857018807,
          0.19925957847537346,
          -0.7786039713483985,
          0.2520015620313144,
          -0.6188427581785232,
          0.419814842315549,
          -1.8602683357380412,
          0.7728522626338924,
          0.23979797259129315,
          1.1297423815295664,
          -0.10475559546208067,
          -0.009461289991414178,
          0.7113080068140527,
          -1.4786843116096715,
          -1.3201954219731604,
          0.07031698798374092,
          1.6442459691777473,
          -0.13952067189279416,
          -0.9250117184627819,
          -1.730634623494131,
          -1.2546443084973622,
          1.2139408010780905,
          -0.5844745801129339,
          -0.29554717166621897,
          0.27281484542731976,
          0.25318894794907465,
          -0.24638066248007567,
          -0.3001463717227039,
          -0.47843477549201796,
          1.5339025213459436,
          1.237395379686162,
          -0.214093862004028,
          -0.3867947061510151,
          0.20025306551505054,
          0.5518586459046209,
          -1.2649171383821682,
          -0.31394703787397016,
          2.624200579430331,
          -0.7124402468346807,
          0.47598211399691526,
          0.3543661152225115,
          -0.7416521439997066,
          0.11901051948687877,
          -1.228030696683017,
          -0.5254167537146217,
          -0.8180277127043986,
          0.9767586529113346,
          1.2707583473030304,
          -0.1430902898326658,
          0.3866316300901333,
          0.918493501529165,
          0.7382411409509697,
          -1.7872095559123204,
          -0.05138925422187474,
          -1.3099282607443965,
          0.3619874357419031,
          0.2473659952388168,
          0.673183153770201,
          -0.42378629704185045,
          -0.5218702450381305,
          0.3643796819545949,
          -0.8571232551495427,
          0.6196384121373644,
          -0.5532877791773987,
          -0.6985239271046452,
          -0.4971711238652195,
          0.9837197737497394,
          0.151109103477177,
          -0.45528688478792184,
          -0.2940979367596788,
          -1.1357511274305079,
          1.7291497641174005,
          -0.5315171160860179,
          0.5412751513880071,
          2.319270328199936,
          1.105881259664581,
          0.24183604497834638,
          -0.12739001798747068,
          0.15509861976732744,
          -1.0996109070986873,
          0.23972510178264853,
          -0.08154335854543714,
          -1.8255709836497878,
          1.8463351692191043,
          1.820835557120743,
          0.9539408365908607,
          -1.7026480093372356,
          0.736197256641093,
          -0.21103967120123218,
          0.37668614877938134,
          -0.8927141407003845,
          -0.10178995397251908,
          -1.3472346892602074,
          -0.6569542813244048,
          0.9437776474422417,
          -3.0058043986457124
         ],
         "yaxis": "y8"
        },
        {
         "line": {
          "color": "rgba(128, 128, 128, 1.0)",
          "dash": "solid",
          "shape": "linear",
          "width": 1.3
         },
         "marker": {
          "size": 2,
          "symbol": "circle"
         },
         "mode": "markers",
         "name": "C",
         "text": "",
         "type": "scatter",
         "x": [
          -0.34225299009874355,
          0.4892447760011251,
          0.6289296113249515,
          -0.9623444735331236,
          0.5218374246730623,
          1.0872779779546433,
          -2.5446001105676275,
          -0.2858836687280843,
          1.3065777779854995,
          -2.4104707774726113,
          1.3369186035954843,
          0.3838707492935451,
          -0.5526656706871299,
          -0.523243795919335,
          -0.5219209505049524,
          0.7876928140633233,
          -0.9458273989118097,
          0.6798036848133264,
          -0.7326321084090412,
          2.9676666789696204,
          -0.05694316110548828,
          -0.3901687948679766,
          0.39042317054449927,
          -0.5097476850302313,
          -0.06005776882918707,
          1.8651889477854269,
          0.6825596947887341,
          -0.660930834038989,
          0.7457389149047722,
          0.5831350759677145,
          0.20565331727263178,
          0.12137563657220368,
          0.14222541475987407,
          -0.21964030922882513,
          -0.1403522050946297,
          0.9130048247460788,
          -0.5324825569805095,
          0.8357026232545052,
          -0.05136640945025422,
          -0.15442903874892236,
          0.4427417326955754,
          -1.4618826570001109,
          -0.23457977919541678,
          1.5819006525811172,
          1.7673116734486296,
          0.5244123082679875,
          -1.4960518062062593,
          -0.08993988733773665,
          0.8209575792192505,
          0.277831732542309,
          1.9225576880083868,
          1.757171966228769,
          -2.138688527959561,
          -1.3709748402957949,
          -0.7155997219888818,
          0.3317227996255702,
          -1.0043614591743062,
          -1.0261278984258224,
          -1.4276290468878337,
          -1.0891931758991331,
          0.2035269789201755,
          0.02473667551913148,
          0.19551292413294072,
          -0.19036560623878837,
          -1.8010591597777204,
          0.8032033734232925,
          -1.0990490358758565,
          0.7760903618580065,
          -0.5271828141604505,
          -0.7383131855752465,
          -0.27543257249948844,
          -0.037819243298348515,
          1.2032094442658468,
          0.785084605957565,
          0.7503288870253916,
          -0.8472573692739707,
          -0.37625320843617843,
          -1.2657485333486633,
          1.7888324677330751,
          0.7499899464558957,
          0.3247253443598456,
          1.1096782207812264,
          0.28418622192332155,
          0.8318537645554853,
          2.0139557344103043,
          0.3476274485672122,
          -0.7967921761246892,
          -0.12058745799601407,
          0.43531389145934873,
          0.35347704597191093,
          -1.3720175798793395,
          -1.2811737166611563,
          0.04571690779276586,
          1.8411898245359177,
          -0.34353168706576764,
          1.0133136240424316,
          0.31479801507956323,
          2.1145539751315687,
          -1.0277828928921748,
          -0.7838019655038211
         ],
         "xaxis": "x9",
         "y": [
          -0.24360119416966694,
          2.6290698676150748,
          0.2661367149716258,
          0.4248000862046849,
          0.15691359647032885,
          1.2669766461076717,
          -0.7458482705573792,
          -1.0425577762968143,
          -0.9918293586883078,
          1.1752207914133415,
          0.8237476957175225,
          1.1559167419733656,
          -0.26544194102746643,
          -1.756871692208469,
          -0.4328200632631489,
          -1.5946234612917132,
          -0.7754468725671481,
          2.456890194326189,
          0.25177654767670976,
          -0.5276250778756187,
          -0.41515353632559016,
          -0.9702083336083774,
          -0.5386885727546051,
          0.37514521710971366,
          0.42471750848556794,
          0.9123108730469526,
          -1.3814941779525685,
          1.5467689361155261,
          -1.006894590393866,
          0.0956355518057554,
          0.7466898784983458,
          -0.24213182443022957,
          -0.9250827556716021,
          -1.5203503273531633,
          -0.4977984822613209,
          -0.6410172305332248,
          0.0004638774932113429,
          0.8313405708447927,
          2.019266841869993,
          0.5943772196931862,
          -0.30837067424611286,
          0.9104799562812206,
          0.19755570215657497,
          0.2773208278157791,
          -1.0387187975724872,
          -0.506375180681545,
          -0.5516849839146819,
          0.7116617071345542,
          -0.19579766373118063,
          0.42693167129622245,
          -0.8331237335520756,
          0.5016062861936484,
          -0.6937427386910572,
          -0.49746785662625626,
          -1.7118428797935947,
          -0.7605643980862589,
          -0.5390131077084975,
          -0.09681021739978073,
          0.540645279267166,
          -0.48285349611885797,
          0.025786372736263302,
          1.8235643881611308,
          -1.2932590197710199,
          -0.6465104579661324,
          2.0408865397934393,
          0.7642965793643237,
          -0.8265002416929838,
          0.1019702069298536,
          0.8725592650972407,
          -1.588148164340174,
          -1.4228936331224291,
          0.3031964853541781,
          -0.07949730751640986,
          -2.39910314507416,
          -0.7029900183390284,
          0.8408133054957266,
          0.6166977677036451,
          -0.9940793947697844,
          -0.534675036167626,
          -0.14707923691588887,
          -2.6234047287938913,
          -1.3474097174098156,
          -0.1421345213333329,
          0.008835708481921363,
          -1.2515389770614476,
          -0.6441581344355697,
          -0.5934360296853288,
          -0.027506673382790198,
          -0.23057019069383758,
          -0.4883458423910079,
          -1.22605047743705,
          -0.6061666040960666,
          -1.0125377919921394,
          -0.3320753382492649,
          0.766639572361874,
          0.07814275463062237,
          -0.02251167615807235,
          -1.2505570063745404,
          -0.41570718077541857,
          -0.6990955371320429
         ],
         "yaxis": "y9"
        },
        {
         "line": {
          "color": "rgba(128, 128, 128, 1.0)",
          "dash": "solid",
          "shape": "linear",
          "width": 1.3
         },
         "marker": {
          "size": 2,
          "symbol": "circle"
         },
         "mode": "markers",
         "name": "C",
         "text": "",
         "type": "scatter",
         "x": [
          0.9900955482666974,
          -0.9889452577232196,
          -0.9378354850254641,
          -0.5463691152022653,
          2.0271518857018807,
          0.19925957847537346,
          -0.7786039713483985,
          0.2520015620313144,
          -0.6188427581785232,
          0.419814842315549,
          -1.8602683357380412,
          0.7728522626338924,
          0.23979797259129315,
          1.1297423815295664,
          -0.10475559546208067,
          -0.009461289991414178,
          0.7113080068140527,
          -1.4786843116096715,
          -1.3201954219731604,
          0.07031698798374092,
          1.6442459691777473,
          -0.13952067189279416,
          -0.9250117184627819,
          -1.730634623494131,
          -1.2546443084973622,
          1.2139408010780905,
          -0.5844745801129339,
          -0.29554717166621897,
          0.27281484542731976,
          0.25318894794907465,
          -0.24638066248007567,
          -0.3001463717227039,
          -0.47843477549201796,
          1.5339025213459436,
          1.237395379686162,
          -0.214093862004028,
          -0.3867947061510151,
          0.20025306551505054,
          0.5518586459046209,
          -1.2649171383821682,
          -0.31394703787397016,
          2.624200579430331,
          -0.7124402468346807,
          0.47598211399691526,
          0.3543661152225115,
          -0.7416521439997066,
          0.11901051948687877,
          -1.228030696683017,
          -0.5254167537146217,
          -0.8180277127043986,
          0.9767586529113346,
          1.2707583473030304,
          -0.1430902898326658,
          0.3866316300901333,
          0.918493501529165,
          0.7382411409509697,
          -1.7872095559123204,
          -0.05138925422187474,
          -1.3099282607443965,
          0.3619874357419031,
          0.2473659952388168,
          0.673183153770201,
          -0.42378629704185045,
          -0.5218702450381305,
          0.3643796819545949,
          -0.8571232551495427,
          0.6196384121373644,
          -0.5532877791773987,
          -0.6985239271046452,
          -0.4971711238652195,
          0.9837197737497394,
          0.151109103477177,
          -0.45528688478792184,
          -0.2940979367596788,
          -1.1357511274305079,
          1.7291497641174005,
          -0.5315171160860179,
          0.5412751513880071,
          2.319270328199936,
          1.105881259664581,
          0.24183604497834638,
          -0.12739001798747068,
          0.15509861976732744,
          -1.0996109070986873,
          0.23972510178264853,
          -0.08154335854543714,
          -1.8255709836497878,
          1.8463351692191043,
          1.820835557120743,
          0.9539408365908607,
          -1.7026480093372356,
          0.736197256641093,
          -0.21103967120123218,
          0.37668614877938134,
          -0.8927141407003845,
          -0.10178995397251908,
          -1.3472346892602074,
          -0.6569542813244048,
          0.9437776474422417,
          -3.0058043986457124
         ],
         "xaxis": "x10",
         "y": [
          -0.24360119416966694,
          2.6290698676150748,
          0.2661367149716258,
          0.4248000862046849,
          0.15691359647032885,
          1.2669766461076717,
          -0.7458482705573792,
          -1.0425577762968143,
          -0.9918293586883078,
          1.1752207914133415,
          0.8237476957175225,
          1.1559167419733656,
          -0.26544194102746643,
          -1.756871692208469,
          -0.4328200632631489,
          -1.5946234612917132,
          -0.7754468725671481,
          2.456890194326189,
          0.25177654767670976,
          -0.5276250778756187,
          -0.41515353632559016,
          -0.9702083336083774,
          -0.5386885727546051,
          0.37514521710971366,
          0.42471750848556794,
          0.9123108730469526,
          -1.3814941779525685,
          1.5467689361155261,
          -1.006894590393866,
          0.0956355518057554,
          0.7466898784983458,
          -0.24213182443022957,
          -0.9250827556716021,
          -1.5203503273531633,
          -0.4977984822613209,
          -0.6410172305332248,
          0.0004638774932113429,
          0.8313405708447927,
          2.019266841869993,
          0.5943772196931862,
          -0.30837067424611286,
          0.9104799562812206,
          0.19755570215657497,
          0.2773208278157791,
          -1.0387187975724872,
          -0.506375180681545,
          -0.5516849839146819,
          0.7116617071345542,
          -0.19579766373118063,
          0.42693167129622245,
          -0.8331237335520756,
          0.5016062861936484,
          -0.6937427386910572,
          -0.49746785662625626,
          -1.7118428797935947,
          -0.7605643980862589,
          -0.5390131077084975,
          -0.09681021739978073,
          0.540645279267166,
          -0.48285349611885797,
          0.025786372736263302,
          1.8235643881611308,
          -1.2932590197710199,
          -0.6465104579661324,
          2.0408865397934393,
          0.7642965793643237,
          -0.8265002416929838,
          0.1019702069298536,
          0.8725592650972407,
          -1.588148164340174,
          -1.4228936331224291,
          0.3031964853541781,
          -0.07949730751640986,
          -2.39910314507416,
          -0.7029900183390284,
          0.8408133054957266,
          0.6166977677036451,
          -0.9940793947697844,
          -0.534675036167626,
          -0.14707923691588887,
          -2.6234047287938913,
          -1.3474097174098156,
          -0.1421345213333329,
          0.008835708481921363,
          -1.2515389770614476,
          -0.6441581344355697,
          -0.5934360296853288,
          -0.027506673382790198,
          -0.23057019069383758,
          -0.4883458423910079,
          -1.22605047743705,
          -0.6061666040960666,
          -1.0125377919921394,
          -0.3320753382492649,
          0.766639572361874,
          0.07814275463062237,
          -0.02251167615807235,
          -1.2505570063745404,
          -0.41570718077541857,
          -0.6990955371320429
         ],
         "yaxis": "y10"
        },
        {
         "histfunc": "count",
         "histnorm": "",
         "marker": {
          "color": "rgba(50, 171, 96, 1.0)",
          "line": {
           "color": "#4D5663",
           "width": 1.3
          }
         },
         "name": "C",
         "nbinsx": 10,
         "opacity": 0.8,
         "orientation": "v",
         "type": "histogram",
         "x": [
          -0.24360119416966694,
          2.6290698676150748,
          0.2661367149716258,
          0.4248000862046849,
          0.15691359647032885,
          1.2669766461076717,
          -0.7458482705573792,
          -1.0425577762968143,
          -0.9918293586883078,
          1.1752207914133415,
          0.8237476957175225,
          1.1559167419733656,
          -0.26544194102746643,
          -1.756871692208469,
          -0.4328200632631489,
          -1.5946234612917132,
          -0.7754468725671481,
          2.456890194326189,
          0.25177654767670976,
          -0.5276250778756187,
          -0.41515353632559016,
          -0.9702083336083774,
          -0.5386885727546051,
          0.37514521710971366,
          0.42471750848556794,
          0.9123108730469526,
          -1.3814941779525685,
          1.5467689361155261,
          -1.006894590393866,
          0.0956355518057554,
          0.7466898784983458,
          -0.24213182443022957,
          -0.9250827556716021,
          -1.5203503273531633,
          -0.4977984822613209,
          -0.6410172305332248,
          0.0004638774932113429,
          0.8313405708447927,
          2.019266841869993,
          0.5943772196931862,
          -0.30837067424611286,
          0.9104799562812206,
          0.19755570215657497,
          0.2773208278157791,
          -1.0387187975724872,
          -0.506375180681545,
          -0.5516849839146819,
          0.7116617071345542,
          -0.19579766373118063,
          0.42693167129622245,
          -0.8331237335520756,
          0.5016062861936484,
          -0.6937427386910572,
          -0.49746785662625626,
          -1.7118428797935947,
          -0.7605643980862589,
          -0.5390131077084975,
          -0.09681021739978073,
          0.540645279267166,
          -0.48285349611885797,
          0.025786372736263302,
          1.8235643881611308,
          -1.2932590197710199,
          -0.6465104579661324,
          2.0408865397934393,
          0.7642965793643237,
          -0.8265002416929838,
          0.1019702069298536,
          0.8725592650972407,
          -1.588148164340174,
          -1.4228936331224291,
          0.3031964853541781,
          -0.07949730751640986,
          -2.39910314507416,
          -0.7029900183390284,
          0.8408133054957266,
          0.6166977677036451,
          -0.9940793947697844,
          -0.534675036167626,
          -0.14707923691588887,
          -2.6234047287938913,
          -1.3474097174098156,
          -0.1421345213333329,
          0.008835708481921363,
          -1.2515389770614476,
          -0.6441581344355697,
          -0.5934360296853288,
          -0.027506673382790198,
          -0.23057019069383758,
          -0.4883458423910079,
          -1.22605047743705,
          -0.6061666040960666,
          -1.0125377919921394,
          -0.3320753382492649,
          0.766639572361874,
          0.07814275463062237,
          -0.02251167615807235,
          -1.2505570063745404,
          -0.41570718077541857,
          -0.6990955371320429
         ],
         "xaxis": "x11",
         "yaxis": "y11"
        },
        {
         "line": {
          "color": "rgba(128, 128, 128, 1.0)",
          "dash": "solid",
          "shape": "linear",
          "width": 1.3
         },
         "marker": {
          "size": 2,
          "symbol": "circle"
         },
         "mode": "markers",
         "name": "C",
         "text": "",
         "type": "scatter",
         "x": [
          -0.8993780379502047,
          -0.02805590171480415,
          0.5612035642976496,
          0.45017054087238884,
          -2.233080770879555,
          0.3739742395124629,
          -0.5774356122456568,
          -0.6717884367620782,
          0.4832487351689567,
          0.761435996894435,
          -0.04059328762487213,
          0.5101128605312929,
          0.19902095165716177,
          -1.5411945525961641,
          -0.45683768831453736,
          3.2567902677591,
          -0.24721414340764963,
          -1.4596725990248305,
          -2.4248001490278375,
          0.12611197215654926,
          1.9234059086665694,
          -0.7415422179044057,
          0.5318699546445996,
          0.3411788196455518,
          -0.30164340637185694,
          0.9763135783972272,
          -0.21897997321007678,
          0.354782893192736,
          1.9263999024854617,
          -1.0069515783908103,
          -0.0914288423605711,
          0.9977226852097353,
          -0.16959396494707218,
          -0.9640722535068827,
          0.26028820686903065,
          0.6912992723236513,
          -0.4203592662512756,
          -1.3261158849795756,
          -1.1453604179470454,
          -0.9227383863226544,
          0.0033439820871036955,
          -0.29155084059205694,
          -1.192411953625304,
          0.34346615046657125,
          -1.0908146569416461,
          1.5747384092161831,
          -0.3905808061673566,
          -1.2576203889566724,
          -0.9292308926637166,
          1.9194370566526706,
          -1.6507047842344582,
          0.8631548922913439,
          1.2991380618444575,
          -3.2615524161869196,
          -1.0717834772800015,
          1.2630698522056911,
          3.1470570330562615,
          -0.13404492840812246,
          1.9029965756941507,
          0.5312264148980672,
          -1.0776998955177377,
          0.21816766458394263,
          0.951581629546409,
          0.35406437532113627,
          0.6726097055720566,
          1.5289951046519916,
          0.8872488457004313,
          1.5278424465510052,
          -0.5629686924888644,
          -0.6833421677015717,
          0.5763413458651462,
          0.12764236871541115,
          1.180397231496056,
          0.340318053147227,
          0.002726022685278746,
          1.7713800150640246,
          1.2982996566138594,
          -1.0523866869149032,
          -0.779700669840491,
          -1.8575621845742905,
          -0.7110915002681697,
          -1.4997360103036437,
          0.7950770689699234,
          0.52438561059342,
          0.2576584909044913,
          -1.1552940935623224,
          1.3039721355476719,
          1.8623529103560788,
          -0.15667476232146516,
          0.22218725609677162,
          0.1133313728764875,
          -0.7881581017112002,
          0.6817806926876091,
          -0.38247769385962327,
          -0.745334160946617,
          -0.07717189151842606,
          -0.9439590114540767,
          -0.33257224030030497,
          -0.33528789414779003,
          0.45350533599463455
         ],
         "xaxis": "x12",
         "y": [
          -0.24360119416966694,
          2.6290698676150748,
          0.2661367149716258,
          0.4248000862046849,
          0.15691359647032885,
          1.2669766461076717,
          -0.7458482705573792,
          -1.0425577762968143,
          -0.9918293586883078,
          1.1752207914133415,
          0.8237476957175225,
          1.1559167419733656,
          -0.26544194102746643,
          -1.756871692208469,
          -0.4328200632631489,
          -1.5946234612917132,
          -0.7754468725671481,
          2.456890194326189,
          0.25177654767670976,
          -0.5276250778756187,
          -0.41515353632559016,
          -0.9702083336083774,
          -0.5386885727546051,
          0.37514521710971366,
          0.42471750848556794,
          0.9123108730469526,
          -1.3814941779525685,
          1.5467689361155261,
          -1.006894590393866,
          0.0956355518057554,
          0.7466898784983458,
          -0.24213182443022957,
          -0.9250827556716021,
          -1.5203503273531633,
          -0.4977984822613209,
          -0.6410172305332248,
          0.0004638774932113429,
          0.8313405708447927,
          2.019266841869993,
          0.5943772196931862,
          -0.30837067424611286,
          0.9104799562812206,
          0.19755570215657497,
          0.2773208278157791,
          -1.0387187975724872,
          -0.506375180681545,
          -0.5516849839146819,
          0.7116617071345542,
          -0.19579766373118063,
          0.42693167129622245,
          -0.8331237335520756,
          0.5016062861936484,
          -0.6937427386910572,
          -0.49746785662625626,
          -1.7118428797935947,
          -0.7605643980862589,
          -0.5390131077084975,
          -0.09681021739978073,
          0.540645279267166,
          -0.48285349611885797,
          0.025786372736263302,
          1.8235643881611308,
          -1.2932590197710199,
          -0.6465104579661324,
          2.0408865397934393,
          0.7642965793643237,
          -0.8265002416929838,
          0.1019702069298536,
          0.8725592650972407,
          -1.588148164340174,
          -1.4228936331224291,
          0.3031964853541781,
          -0.07949730751640986,
          -2.39910314507416,
          -0.7029900183390284,
          0.8408133054957266,
          0.6166977677036451,
          -0.9940793947697844,
          -0.534675036167626,
          -0.14707923691588887,
          -2.6234047287938913,
          -1.3474097174098156,
          -0.1421345213333329,
          0.008835708481921363,
          -1.2515389770614476,
          -0.6441581344355697,
          -0.5934360296853288,
          -0.027506673382790198,
          -0.23057019069383758,
          -0.4883458423910079,
          -1.22605047743705,
          -0.6061666040960666,
          -1.0125377919921394,
          -0.3320753382492649,
          0.766639572361874,
          0.07814275463062237,
          -0.02251167615807235,
          -1.2505570063745404,
          -0.41570718077541857,
          -0.6990955371320429
         ],
         "yaxis": "y12"
        },
        {
         "line": {
          "color": "rgba(128, 128, 128, 1.0)",
          "dash": "solid",
          "shape": "linear",
          "width": 1.3
         },
         "marker": {
          "size": 2,
          "symbol": "circle"
         },
         "mode": "markers",
         "name": "D",
         "text": "",
         "type": "scatter",
         "x": [
          -0.34225299009874355,
          0.4892447760011251,
          0.6289296113249515,
          -0.9623444735331236,
          0.5218374246730623,
          1.0872779779546433,
          -2.5446001105676275,
          -0.2858836687280843,
          1.3065777779854995,
          -2.4104707774726113,
          1.3369186035954843,
          0.3838707492935451,
          -0.5526656706871299,
          -0.523243795919335,
          -0.5219209505049524,
          0.7876928140633233,
          -0.9458273989118097,
          0.6798036848133264,
          -0.7326321084090412,
          2.9676666789696204,
          -0.05694316110548828,
          -0.3901687948679766,
          0.39042317054449927,
          -0.5097476850302313,
          -0.06005776882918707,
          1.8651889477854269,
          0.6825596947887341,
          -0.660930834038989,
          0.7457389149047722,
          0.5831350759677145,
          0.20565331727263178,
          0.12137563657220368,
          0.14222541475987407,
          -0.21964030922882513,
          -0.1403522050946297,
          0.9130048247460788,
          -0.5324825569805095,
          0.8357026232545052,
          -0.05136640945025422,
          -0.15442903874892236,
          0.4427417326955754,
          -1.4618826570001109,
          -0.23457977919541678,
          1.5819006525811172,
          1.7673116734486296,
          0.5244123082679875,
          -1.4960518062062593,
          -0.08993988733773665,
          0.8209575792192505,
          0.277831732542309,
          1.9225576880083868,
          1.757171966228769,
          -2.138688527959561,
          -1.3709748402957949,
          -0.7155997219888818,
          0.3317227996255702,
          -1.0043614591743062,
          -1.0261278984258224,
          -1.4276290468878337,
          -1.0891931758991331,
          0.2035269789201755,
          0.02473667551913148,
          0.19551292413294072,
          -0.19036560623878837,
          -1.8010591597777204,
          0.8032033734232925,
          -1.0990490358758565,
          0.7760903618580065,
          -0.5271828141604505,
          -0.7383131855752465,
          -0.27543257249948844,
          -0.037819243298348515,
          1.2032094442658468,
          0.785084605957565,
          0.7503288870253916,
          -0.8472573692739707,
          -0.37625320843617843,
          -1.2657485333486633,
          1.7888324677330751,
          0.7499899464558957,
          0.3247253443598456,
          1.1096782207812264,
          0.28418622192332155,
          0.8318537645554853,
          2.0139557344103043,
          0.3476274485672122,
          -0.7967921761246892,
          -0.12058745799601407,
          0.43531389145934873,
          0.35347704597191093,
          -1.3720175798793395,
          -1.2811737166611563,
          0.04571690779276586,
          1.8411898245359177,
          -0.34353168706576764,
          1.0133136240424316,
          0.31479801507956323,
          2.1145539751315687,
          -1.0277828928921748,
          -0.7838019655038211
         ],
         "xaxis": "x13",
         "y": [
          -0.8993780379502047,
          -0.02805590171480415,
          0.5612035642976496,
          0.45017054087238884,
          -2.233080770879555,
          0.3739742395124629,
          -0.5774356122456568,
          -0.6717884367620782,
          0.4832487351689567,
          0.761435996894435,
          -0.04059328762487213,
          0.5101128605312929,
          0.19902095165716177,
          -1.5411945525961641,
          -0.45683768831453736,
          3.2567902677591,
          -0.24721414340764963,
          -1.4596725990248305,
          -2.4248001490278375,
          0.12611197215654926,
          1.9234059086665694,
          -0.7415422179044057,
          0.5318699546445996,
          0.3411788196455518,
          -0.30164340637185694,
          0.9763135783972272,
          -0.21897997321007678,
          0.354782893192736,
          1.9263999024854617,
          -1.0069515783908103,
          -0.0914288423605711,
          0.9977226852097353,
          -0.16959396494707218,
          -0.9640722535068827,
          0.26028820686903065,
          0.6912992723236513,
          -0.4203592662512756,
          -1.3261158849795756,
          -1.1453604179470454,
          -0.9227383863226544,
          0.0033439820871036955,
          -0.29155084059205694,
          -1.192411953625304,
          0.34346615046657125,
          -1.0908146569416461,
          1.5747384092161831,
          -0.3905808061673566,
          -1.2576203889566724,
          -0.9292308926637166,
          1.9194370566526706,
          -1.6507047842344582,
          0.8631548922913439,
          1.2991380618444575,
          -3.2615524161869196,
          -1.0717834772800015,
          1.2630698522056911,
          3.1470570330562615,
          -0.13404492840812246,
          1.9029965756941507,
          0.5312264148980672,
          -1.0776998955177377,
          0.21816766458394263,
          0.951581629546409,
          0.35406437532113627,
          0.6726097055720566,
          1.5289951046519916,
          0.8872488457004313,
          1.5278424465510052,
          -0.5629686924888644,
          -0.6833421677015717,
          0.5763413458651462,
          0.12764236871541115,
          1.180397231496056,
          0.340318053147227,
          0.002726022685278746,
          1.7713800150640246,
          1.2982996566138594,
          -1.0523866869149032,
          -0.779700669840491,
          -1.8575621845742905,
          -0.7110915002681697,
          -1.4997360103036437,
          0.7950770689699234,
          0.52438561059342,
          0.2576584909044913,
          -1.1552940935623224,
          1.3039721355476719,
          1.8623529103560788,
          -0.15667476232146516,
          0.22218725609677162,
          0.1133313728764875,
          -0.7881581017112002,
          0.6817806926876091,
          -0.38247769385962327,
          -0.745334160946617,
          -0.07717189151842606,
          -0.9439590114540767,
          -0.33257224030030497,
          -0.33528789414779003,
          0.45350533599463455
         ],
         "yaxis": "y13"
        },
        {
         "line": {
          "color": "rgba(128, 128, 128, 1.0)",
          "dash": "solid",
          "shape": "linear",
          "width": 1.3
         },
         "marker": {
          "size": 2,
          "symbol": "circle"
         },
         "mode": "markers",
         "name": "D",
         "text": "",
         "type": "scatter",
         "x": [
          0.9900955482666974,
          -0.9889452577232196,
          -0.9378354850254641,
          -0.5463691152022653,
          2.0271518857018807,
          0.19925957847537346,
          -0.7786039713483985,
          0.2520015620313144,
          -0.6188427581785232,
          0.419814842315549,
          -1.8602683357380412,
          0.7728522626338924,
          0.23979797259129315,
          1.1297423815295664,
          -0.10475559546208067,
          -0.009461289991414178,
          0.7113080068140527,
          -1.4786843116096715,
          -1.3201954219731604,
          0.07031698798374092,
          1.6442459691777473,
          -0.13952067189279416,
          -0.9250117184627819,
          -1.730634623494131,
          -1.2546443084973622,
          1.2139408010780905,
          -0.5844745801129339,
          -0.29554717166621897,
          0.27281484542731976,
          0.25318894794907465,
          -0.24638066248007567,
          -0.3001463717227039,
          -0.47843477549201796,
          1.5339025213459436,
          1.237395379686162,
          -0.214093862004028,
          -0.3867947061510151,
          0.20025306551505054,
          0.5518586459046209,
          -1.2649171383821682,
          -0.31394703787397016,
          2.624200579430331,
          -0.7124402468346807,
          0.47598211399691526,
          0.3543661152225115,
          -0.7416521439997066,
          0.11901051948687877,
          -1.228030696683017,
          -0.5254167537146217,
          -0.8180277127043986,
          0.9767586529113346,
          1.2707583473030304,
          -0.1430902898326658,
          0.3866316300901333,
          0.918493501529165,
          0.7382411409509697,
          -1.7872095559123204,
          -0.05138925422187474,
          -1.3099282607443965,
          0.3619874357419031,
          0.2473659952388168,
          0.673183153770201,
          -0.42378629704185045,
          -0.5218702450381305,
          0.3643796819545949,
          -0.8571232551495427,
          0.6196384121373644,
          -0.5532877791773987,
          -0.6985239271046452,
          -0.4971711238652195,
          0.9837197737497394,
          0.151109103477177,
          -0.45528688478792184,
          -0.2940979367596788,
          -1.1357511274305079,
          1.7291497641174005,
          -0.5315171160860179,
          0.5412751513880071,
          2.319270328199936,
          1.105881259664581,
          0.24183604497834638,
          -0.12739001798747068,
          0.15509861976732744,
          -1.0996109070986873,
          0.23972510178264853,
          -0.08154335854543714,
          -1.8255709836497878,
          1.8463351692191043,
          1.820835557120743,
          0.9539408365908607,
          -1.7026480093372356,
          0.736197256641093,
          -0.21103967120123218,
          0.37668614877938134,
          -0.8927141407003845,
          -0.10178995397251908,
          -1.3472346892602074,
          -0.6569542813244048,
          0.9437776474422417,
          -3.0058043986457124
         ],
         "xaxis": "x14",
         "y": [
          -0.8993780379502047,
          -0.02805590171480415,
          0.5612035642976496,
          0.45017054087238884,
          -2.233080770879555,
          0.3739742395124629,
          -0.5774356122456568,
          -0.6717884367620782,
          0.4832487351689567,
          0.761435996894435,
          -0.04059328762487213,
          0.5101128605312929,
          0.19902095165716177,
          -1.5411945525961641,
          -0.45683768831453736,
          3.2567902677591,
          -0.24721414340764963,
          -1.4596725990248305,
          -2.4248001490278375,
          0.12611197215654926,
          1.9234059086665694,
          -0.7415422179044057,
          0.5318699546445996,
          0.3411788196455518,
          -0.30164340637185694,
          0.9763135783972272,
          -0.21897997321007678,
          0.354782893192736,
          1.9263999024854617,
          -1.0069515783908103,
          -0.0914288423605711,
          0.9977226852097353,
          -0.16959396494707218,
          -0.9640722535068827,
          0.26028820686903065,
          0.6912992723236513,
          -0.4203592662512756,
          -1.3261158849795756,
          -1.1453604179470454,
          -0.9227383863226544,
          0.0033439820871036955,
          -0.29155084059205694,
          -1.192411953625304,
          0.34346615046657125,
          -1.0908146569416461,
          1.5747384092161831,
          -0.3905808061673566,
          -1.2576203889566724,
          -0.9292308926637166,
          1.9194370566526706,
          -1.6507047842344582,
          0.8631548922913439,
          1.2991380618444575,
          -3.2615524161869196,
          -1.0717834772800015,
          1.2630698522056911,
          3.1470570330562615,
          -0.13404492840812246,
          1.9029965756941507,
          0.5312264148980672,
          -1.0776998955177377,
          0.21816766458394263,
          0.951581629546409,
          0.35406437532113627,
          0.6726097055720566,
          1.5289951046519916,
          0.8872488457004313,
          1.5278424465510052,
          -0.5629686924888644,
          -0.6833421677015717,
          0.5763413458651462,
          0.12764236871541115,
          1.180397231496056,
          0.340318053147227,
          0.002726022685278746,
          1.7713800150640246,
          1.2982996566138594,
          -1.0523866869149032,
          -0.779700669840491,
          -1.8575621845742905,
          -0.7110915002681697,
          -1.4997360103036437,
          0.7950770689699234,
          0.52438561059342,
          0.2576584909044913,
          -1.1552940935623224,
          1.3039721355476719,
          1.8623529103560788,
          -0.15667476232146516,
          0.22218725609677162,
          0.1133313728764875,
          -0.7881581017112002,
          0.6817806926876091,
          -0.38247769385962327,
          -0.745334160946617,
          -0.07717189151842606,
          -0.9439590114540767,
          -0.33257224030030497,
          -0.33528789414779003,
          0.45350533599463455
         ],
         "yaxis": "y14"
        },
        {
         "line": {
          "color": "rgba(128, 128, 128, 1.0)",
          "dash": "solid",
          "shape": "linear",
          "width": 1.3
         },
         "marker": {
          "size": 2,
          "symbol": "circle"
         },
         "mode": "markers",
         "name": "D",
         "text": "",
         "type": "scatter",
         "x": [
          -0.24360119416966694,
          2.6290698676150748,
          0.2661367149716258,
          0.4248000862046849,
          0.15691359647032885,
          1.2669766461076717,
          -0.7458482705573792,
          -1.0425577762968143,
          -0.9918293586883078,
          1.1752207914133415,
          0.8237476957175225,
          1.1559167419733656,
          -0.26544194102746643,
          -1.756871692208469,
          -0.4328200632631489,
          -1.5946234612917132,
          -0.7754468725671481,
          2.456890194326189,
          0.25177654767670976,
          -0.5276250778756187,
          -0.41515353632559016,
          -0.9702083336083774,
          -0.5386885727546051,
          0.37514521710971366,
          0.42471750848556794,
          0.9123108730469526,
          -1.3814941779525685,
          1.5467689361155261,
          -1.006894590393866,
          0.0956355518057554,
          0.7466898784983458,
          -0.24213182443022957,
          -0.9250827556716021,
          -1.5203503273531633,
          -0.4977984822613209,
          -0.6410172305332248,
          0.0004638774932113429,
          0.8313405708447927,
          2.019266841869993,
          0.5943772196931862,
          -0.30837067424611286,
          0.9104799562812206,
          0.19755570215657497,
          0.2773208278157791,
          -1.0387187975724872,
          -0.506375180681545,
          -0.5516849839146819,
          0.7116617071345542,
          -0.19579766373118063,
          0.42693167129622245,
          -0.8331237335520756,
          0.5016062861936484,
          -0.6937427386910572,
          -0.49746785662625626,
          -1.7118428797935947,
          -0.7605643980862589,
          -0.5390131077084975,
          -0.09681021739978073,
          0.540645279267166,
          -0.48285349611885797,
          0.025786372736263302,
          1.8235643881611308,
          -1.2932590197710199,
          -0.6465104579661324,
          2.0408865397934393,
          0.7642965793643237,
          -0.8265002416929838,
          0.1019702069298536,
          0.8725592650972407,
          -1.588148164340174,
          -1.4228936331224291,
          0.3031964853541781,
          -0.07949730751640986,
          -2.39910314507416,
          -0.7029900183390284,
          0.8408133054957266,
          0.6166977677036451,
          -0.9940793947697844,
          -0.534675036167626,
          -0.14707923691588887,
          -2.6234047287938913,
          -1.3474097174098156,
          -0.1421345213333329,
          0.008835708481921363,
          -1.2515389770614476,
          -0.6441581344355697,
          -0.5934360296853288,
          -0.027506673382790198,
          -0.23057019069383758,
          -0.4883458423910079,
          -1.22605047743705,
          -0.6061666040960666,
          -1.0125377919921394,
          -0.3320753382492649,
          0.766639572361874,
          0.07814275463062237,
          -0.02251167615807235,
          -1.2505570063745404,
          -0.41570718077541857,
          -0.6990955371320429
         ],
         "xaxis": "x15",
         "y": [
          -0.8993780379502047,
          -0.02805590171480415,
          0.5612035642976496,
          0.45017054087238884,
          -2.233080770879555,
          0.3739742395124629,
          -0.5774356122456568,
          -0.6717884367620782,
          0.4832487351689567,
          0.761435996894435,
          -0.04059328762487213,
          0.5101128605312929,
          0.19902095165716177,
          -1.5411945525961641,
          -0.45683768831453736,
          3.2567902677591,
          -0.24721414340764963,
          -1.4596725990248305,
          -2.4248001490278375,
          0.12611197215654926,
          1.9234059086665694,
          -0.7415422179044057,
          0.5318699546445996,
          0.3411788196455518,
          -0.30164340637185694,
          0.9763135783972272,
          -0.21897997321007678,
          0.354782893192736,
          1.9263999024854617,
          -1.0069515783908103,
          -0.0914288423605711,
          0.9977226852097353,
          -0.16959396494707218,
          -0.9640722535068827,
          0.26028820686903065,
          0.6912992723236513,
          -0.4203592662512756,
          -1.3261158849795756,
          -1.1453604179470454,
          -0.9227383863226544,
          0.0033439820871036955,
          -0.29155084059205694,
          -1.192411953625304,
          0.34346615046657125,
          -1.0908146569416461,
          1.5747384092161831,
          -0.3905808061673566,
          -1.2576203889566724,
          -0.9292308926637166,
          1.9194370566526706,
          -1.6507047842344582,
          0.8631548922913439,
          1.2991380618444575,
          -3.2615524161869196,
          -1.0717834772800015,
          1.2630698522056911,
          3.1470570330562615,
          -0.13404492840812246,
          1.9029965756941507,
          0.5312264148980672,
          -1.0776998955177377,
          0.21816766458394263,
          0.951581629546409,
          0.35406437532113627,
          0.6726097055720566,
          1.5289951046519916,
          0.8872488457004313,
          1.5278424465510052,
          -0.5629686924888644,
          -0.6833421677015717,
          0.5763413458651462,
          0.12764236871541115,
          1.180397231496056,
          0.340318053147227,
          0.002726022685278746,
          1.7713800150640246,
          1.2982996566138594,
          -1.0523866869149032,
          -0.779700669840491,
          -1.8575621845742905,
          -0.7110915002681697,
          -1.4997360103036437,
          0.7950770689699234,
          0.52438561059342,
          0.2576584909044913,
          -1.1552940935623224,
          1.3039721355476719,
          1.8623529103560788,
          -0.15667476232146516,
          0.22218725609677162,
          0.1133313728764875,
          -0.7881581017112002,
          0.6817806926876091,
          -0.38247769385962327,
          -0.745334160946617,
          -0.07717189151842606,
          -0.9439590114540767,
          -0.33257224030030497,
          -0.33528789414779003,
          0.45350533599463455
         ],
         "yaxis": "y15"
        },
        {
         "histfunc": "count",
         "histnorm": "",
         "marker": {
          "color": "rgba(128, 0, 128, 1.0)",
          "line": {
           "color": "#4D5663",
           "width": 1.3
          }
         },
         "name": "D",
         "nbinsx": 10,
         "opacity": 0.8,
         "orientation": "v",
         "type": "histogram",
         "x": [
          -0.8993780379502047,
          -0.02805590171480415,
          0.5612035642976496,
          0.45017054087238884,
          -2.233080770879555,
          0.3739742395124629,
          -0.5774356122456568,
          -0.6717884367620782,
          0.4832487351689567,
          0.761435996894435,
          -0.04059328762487213,
          0.5101128605312929,
          0.19902095165716177,
          -1.5411945525961641,
          -0.45683768831453736,
          3.2567902677591,
          -0.24721414340764963,
          -1.4596725990248305,
          -2.4248001490278375,
          0.12611197215654926,
          1.9234059086665694,
          -0.7415422179044057,
          0.5318699546445996,
          0.3411788196455518,
          -0.30164340637185694,
          0.9763135783972272,
          -0.21897997321007678,
          0.354782893192736,
          1.9263999024854617,
          -1.0069515783908103,
          -0.0914288423605711,
          0.9977226852097353,
          -0.16959396494707218,
          -0.9640722535068827,
          0.26028820686903065,
          0.6912992723236513,
          -0.4203592662512756,
          -1.3261158849795756,
          -1.1453604179470454,
          -0.9227383863226544,
          0.0033439820871036955,
          -0.29155084059205694,
          -1.192411953625304,
          0.34346615046657125,
          -1.0908146569416461,
          1.5747384092161831,
          -0.3905808061673566,
          -1.2576203889566724,
          -0.9292308926637166,
          1.9194370566526706,
          -1.6507047842344582,
          0.8631548922913439,
          1.2991380618444575,
          -3.2615524161869196,
          -1.0717834772800015,
          1.2630698522056911,
          3.1470570330562615,
          -0.13404492840812246,
          1.9029965756941507,
          0.5312264148980672,
          -1.0776998955177377,
          0.21816766458394263,
          0.951581629546409,
          0.35406437532113627,
          0.6726097055720566,
          1.5289951046519916,
          0.8872488457004313,
          1.5278424465510052,
          -0.5629686924888644,
          -0.6833421677015717,
          0.5763413458651462,
          0.12764236871541115,
          1.180397231496056,
          0.340318053147227,
          0.002726022685278746,
          1.7713800150640246,
          1.2982996566138594,
          -1.0523866869149032,
          -0.779700669840491,
          -1.8575621845742905,
          -0.7110915002681697,
          -1.4997360103036437,
          0.7950770689699234,
          0.52438561059342,
          0.2576584909044913,
          -1.1552940935623224,
          1.3039721355476719,
          1.8623529103560788,
          -0.15667476232146516,
          0.22218725609677162,
          0.1133313728764875,
          -0.7881581017112002,
          0.6817806926876091,
          -0.38247769385962327,
          -0.745334160946617,
          -0.07717189151842606,
          -0.9439590114540767,
          -0.33257224030030497,
          -0.33528789414779003,
          0.45350533599463455
         ],
         "xaxis": "x16",
         "yaxis": "y16"
        }
       ],
       "layout": {
        "bargap": 0.02,
        "legend": {
         "bgcolor": "#F5F6F9",
         "font": {
          "color": "#4D5663"
         }
        },
        "paper_bgcolor": "#F5F6F9",
        "plot_bgcolor": "#F5F6F9",
        "showlegend": false,
        "template": {
         "data": {
          "bar": [
           {
            "error_x": {
             "color": "#2a3f5f"
            },
            "error_y": {
             "color": "#2a3f5f"
            },
            "marker": {
             "line": {
              "color": "#E5ECF6",
              "width": 0.5
             },
             "pattern": {
              "fillmode": "overlay",
              "size": 10,
              "solidity": 0.2
             }
            },
            "type": "bar"
           }
          ],
          "barpolar": [
           {
            "marker": {
             "line": {
              "color": "#E5ECF6",
              "width": 0.5
             },
             "pattern": {
              "fillmode": "overlay",
              "size": 10,
              "solidity": 0.2
             }
            },
            "type": "barpolar"
           }
          ],
          "carpet": [
           {
            "aaxis": {
             "endlinecolor": "#2a3f5f",
             "gridcolor": "white",
             "linecolor": "white",
             "minorgridcolor": "white",
             "startlinecolor": "#2a3f5f"
            },
            "baxis": {
             "endlinecolor": "#2a3f5f",
             "gridcolor": "white",
             "linecolor": "white",
             "minorgridcolor": "white",
             "startlinecolor": "#2a3f5f"
            },
            "type": "carpet"
           }
          ],
          "choropleth": [
           {
            "colorbar": {
             "outlinewidth": 0,
             "ticks": ""
            },
            "type": "choropleth"
           }
          ],
          "contour": [
           {
            "colorbar": {
             "outlinewidth": 0,
             "ticks": ""
            },
            "colorscale": [
             [
              0,
              "#0d0887"
             ],
             [
              0.1111111111111111,
              "#46039f"
             ],
             [
              0.2222222222222222,
              "#7201a8"
             ],
             [
              0.3333333333333333,
              "#9c179e"
             ],
             [
              0.4444444444444444,
              "#bd3786"
             ],
             [
              0.5555555555555556,
              "#d8576b"
             ],
             [
              0.6666666666666666,
              "#ed7953"
             ],
             [
              0.7777777777777778,
              "#fb9f3a"
             ],
             [
              0.8888888888888888,
              "#fdca26"
             ],
             [
              1,
              "#f0f921"
             ]
            ],
            "type": "contour"
           }
          ],
          "contourcarpet": [
           {
            "colorbar": {
             "outlinewidth": 0,
             "ticks": ""
            },
            "type": "contourcarpet"
           }
          ],
          "heatmap": [
           {
            "colorbar": {
             "outlinewidth": 0,
             "ticks": ""
            },
            "colorscale": [
             [
              0,
              "#0d0887"
             ],
             [
              0.1111111111111111,
              "#46039f"
             ],
             [
              0.2222222222222222,
              "#7201a8"
             ],
             [
              0.3333333333333333,
              "#9c179e"
             ],
             [
              0.4444444444444444,
              "#bd3786"
             ],
             [
              0.5555555555555556,
              "#d8576b"
             ],
             [
              0.6666666666666666,
              "#ed7953"
             ],
             [
              0.7777777777777778,
              "#fb9f3a"
             ],
             [
              0.8888888888888888,
              "#fdca26"
             ],
             [
              1,
              "#f0f921"
             ]
            ],
            "type": "heatmap"
           }
          ],
          "heatmapgl": [
           {
            "colorbar": {
             "outlinewidth": 0,
             "ticks": ""
            },
            "colorscale": [
             [
              0,
              "#0d0887"
             ],
             [
              0.1111111111111111,
              "#46039f"
             ],
             [
              0.2222222222222222,
              "#7201a8"
             ],
             [
              0.3333333333333333,
              "#9c179e"
             ],
             [
              0.4444444444444444,
              "#bd3786"
             ],
             [
              0.5555555555555556,
              "#d8576b"
             ],
             [
              0.6666666666666666,
              "#ed7953"
             ],
             [
              0.7777777777777778,
              "#fb9f3a"
             ],
             [
              0.8888888888888888,
              "#fdca26"
             ],
             [
              1,
              "#f0f921"
             ]
            ],
            "type": "heatmapgl"
           }
          ],
          "histogram": [
           {
            "marker": {
             "pattern": {
              "fillmode": "overlay",
              "size": 10,
              "solidity": 0.2
             }
            },
            "type": "histogram"
           }
          ],
          "histogram2d": [
           {
            "colorbar": {
             "outlinewidth": 0,
             "ticks": ""
            },
            "colorscale": [
             [
              0,
              "#0d0887"
             ],
             [
              0.1111111111111111,
              "#46039f"
             ],
             [
              0.2222222222222222,
              "#7201a8"
             ],
             [
              0.3333333333333333,
              "#9c179e"
             ],
             [
              0.4444444444444444,
              "#bd3786"
             ],
             [
              0.5555555555555556,
              "#d8576b"
             ],
             [
              0.6666666666666666,
              "#ed7953"
             ],
             [
              0.7777777777777778,
              "#fb9f3a"
             ],
             [
              0.8888888888888888,
              "#fdca26"
             ],
             [
              1,
              "#f0f921"
             ]
            ],
            "type": "histogram2d"
           }
          ],
          "histogram2dcontour": [
           {
            "colorbar": {
             "outlinewidth": 0,
             "ticks": ""
            },
            "colorscale": [
             [
              0,
              "#0d0887"
             ],
             [
              0.1111111111111111,
              "#46039f"
             ],
             [
              0.2222222222222222,
              "#7201a8"
             ],
             [
              0.3333333333333333,
              "#9c179e"
             ],
             [
              0.4444444444444444,
              "#bd3786"
             ],
             [
              0.5555555555555556,
              "#d8576b"
             ],
             [
              0.6666666666666666,
              "#ed7953"
             ],
             [
              0.7777777777777778,
              "#fb9f3a"
             ],
             [
              0.8888888888888888,
              "#fdca26"
             ],
             [
              1,
              "#f0f921"
             ]
            ],
            "type": "histogram2dcontour"
           }
          ],
          "mesh3d": [
           {
            "colorbar": {
             "outlinewidth": 0,
             "ticks": ""
            },
            "type": "mesh3d"
           }
          ],
          "parcoords": [
           {
            "line": {
             "colorbar": {
              "outlinewidth": 0,
              "ticks": ""
             }
            },
            "type": "parcoords"
           }
          ],
          "pie": [
           {
            "automargin": true,
            "type": "pie"
           }
          ],
          "scatter": [
           {
            "marker": {
             "colorbar": {
              "outlinewidth": 0,
              "ticks": ""
             }
            },
            "type": "scatter"
           }
          ],
          "scatter3d": [
           {
            "line": {
             "colorbar": {
              "outlinewidth": 0,
              "ticks": ""
             }
            },
            "marker": {
             "colorbar": {
              "outlinewidth": 0,
              "ticks": ""
             }
            },
            "type": "scatter3d"
           }
          ],
          "scattercarpet": [
           {
            "marker": {
             "colorbar": {
              "outlinewidth": 0,
              "ticks": ""
             }
            },
            "type": "scattercarpet"
           }
          ],
          "scattergeo": [
           {
            "marker": {
             "colorbar": {
              "outlinewidth": 0,
              "ticks": ""
             }
            },
            "type": "scattergeo"
           }
          ],
          "scattergl": [
           {
            "marker": {
             "colorbar": {
              "outlinewidth": 0,
              "ticks": ""
             }
            },
            "type": "scattergl"
           }
          ],
          "scattermapbox": [
           {
            "marker": {
             "colorbar": {
              "outlinewidth": 0,
              "ticks": ""
             }
            },
            "type": "scattermapbox"
           }
          ],
          "scatterpolar": [
           {
            "marker": {
             "colorbar": {
              "outlinewidth": 0,
              "ticks": ""
             }
            },
            "type": "scatterpolar"
           }
          ],
          "scatterpolargl": [
           {
            "marker": {
             "colorbar": {
              "outlinewidth": 0,
              "ticks": ""
             }
            },
            "type": "scatterpolargl"
           }
          ],
          "scatterternary": [
           {
            "marker": {
             "colorbar": {
              "outlinewidth": 0,
              "ticks": ""
             }
            },
            "type": "scatterternary"
           }
          ],
          "surface": [
           {
            "colorbar": {
             "outlinewidth": 0,
             "ticks": ""
            },
            "colorscale": [
             [
              0,
              "#0d0887"
             ],
             [
              0.1111111111111111,
              "#46039f"
             ],
             [
              0.2222222222222222,
              "#7201a8"
             ],
             [
              0.3333333333333333,
              "#9c179e"
             ],
             [
              0.4444444444444444,
              "#bd3786"
             ],
             [
              0.5555555555555556,
              "#d8576b"
             ],
             [
              0.6666666666666666,
              "#ed7953"
             ],
             [
              0.7777777777777778,
              "#fb9f3a"
             ],
             [
              0.8888888888888888,
              "#fdca26"
             ],
             [
              1,
              "#f0f921"
             ]
            ],
            "type": "surface"
           }
          ],
          "table": [
           {
            "cells": {
             "fill": {
              "color": "#EBF0F8"
             },
             "line": {
              "color": "white"
             }
            },
            "header": {
             "fill": {
              "color": "#C8D4E3"
             },
             "line": {
              "color": "white"
             }
            },
            "type": "table"
           }
          ]
         },
         "layout": {
          "annotationdefaults": {
           "arrowcolor": "#2a3f5f",
           "arrowhead": 0,
           "arrowwidth": 1
          },
          "autotypenumbers": "strict",
          "coloraxis": {
           "colorbar": {
            "outlinewidth": 0,
            "ticks": ""
           }
          },
          "colorscale": {
           "diverging": [
            [
             0,
             "#8e0152"
            ],
            [
             0.1,
             "#c51b7d"
            ],
            [
             0.2,
             "#de77ae"
            ],
            [
             0.3,
             "#f1b6da"
            ],
            [
             0.4,
             "#fde0ef"
            ],
            [
             0.5,
             "#f7f7f7"
            ],
            [
             0.6,
             "#e6f5d0"
            ],
            [
             0.7,
             "#b8e186"
            ],
            [
             0.8,
             "#7fbc41"
            ],
            [
             0.9,
             "#4d9221"
            ],
            [
             1,
             "#276419"
            ]
           ],
           "sequential": [
            [
             0,
             "#0d0887"
            ],
            [
             0.1111111111111111,
             "#46039f"
            ],
            [
             0.2222222222222222,
             "#7201a8"
            ],
            [
             0.3333333333333333,
             "#9c179e"
            ],
            [
             0.4444444444444444,
             "#bd3786"
            ],
            [
             0.5555555555555556,
             "#d8576b"
            ],
            [
             0.6666666666666666,
             "#ed7953"
            ],
            [
             0.7777777777777778,
             "#fb9f3a"
            ],
            [
             0.8888888888888888,
             "#fdca26"
            ],
            [
             1,
             "#f0f921"
            ]
           ],
           "sequentialminus": [
            [
             0,
             "#0d0887"
            ],
            [
             0.1111111111111111,
             "#46039f"
            ],
            [
             0.2222222222222222,
             "#7201a8"
            ],
            [
             0.3333333333333333,
             "#9c179e"
            ],
            [
             0.4444444444444444,
             "#bd3786"
            ],
            [
             0.5555555555555556,
             "#d8576b"
            ],
            [
             0.6666666666666666,
             "#ed7953"
            ],
            [
             0.7777777777777778,
             "#fb9f3a"
            ],
            [
             0.8888888888888888,
             "#fdca26"
            ],
            [
             1,
             "#f0f921"
            ]
           ]
          },
          "colorway": [
           "#636efa",
           "#EF553B",
           "#00cc96",
           "#ab63fa",
           "#FFA15A",
           "#19d3f3",
           "#FF6692",
           "#B6E880",
           "#FF97FF",
           "#FECB52"
          ],
          "font": {
           "color": "#2a3f5f"
          },
          "geo": {
           "bgcolor": "white",
           "lakecolor": "white",
           "landcolor": "#E5ECF6",
           "showlakes": true,
           "showland": true,
           "subunitcolor": "white"
          },
          "hoverlabel": {
           "align": "left"
          },
          "hovermode": "closest",
          "mapbox": {
           "style": "light"
          },
          "paper_bgcolor": "white",
          "plot_bgcolor": "#E5ECF6",
          "polar": {
           "angularaxis": {
            "gridcolor": "white",
            "linecolor": "white",
            "ticks": ""
           },
           "bgcolor": "#E5ECF6",
           "radialaxis": {
            "gridcolor": "white",
            "linecolor": "white",
            "ticks": ""
           }
          },
          "scene": {
           "xaxis": {
            "backgroundcolor": "#E5ECF6",
            "gridcolor": "white",
            "gridwidth": 2,
            "linecolor": "white",
            "showbackground": true,
            "ticks": "",
            "zerolinecolor": "white"
           },
           "yaxis": {
            "backgroundcolor": "#E5ECF6",
            "gridcolor": "white",
            "gridwidth": 2,
            "linecolor": "white",
            "showbackground": true,
            "ticks": "",
            "zerolinecolor": "white"
           },
           "zaxis": {
            "backgroundcolor": "#E5ECF6",
            "gridcolor": "white",
            "gridwidth": 2,
            "linecolor": "white",
            "showbackground": true,
            "ticks": "",
            "zerolinecolor": "white"
           }
          },
          "shapedefaults": {
           "line": {
            "color": "#2a3f5f"
           }
          },
          "ternary": {
           "aaxis": {
            "gridcolor": "white",
            "linecolor": "white",
            "ticks": ""
           },
           "baxis": {
            "gridcolor": "white",
            "linecolor": "white",
            "ticks": ""
           },
           "bgcolor": "#E5ECF6",
           "caxis": {
            "gridcolor": "white",
            "linecolor": "white",
            "ticks": ""
           }
          },
          "title": {
           "x": 0.05
          },
          "xaxis": {
           "automargin": true,
           "gridcolor": "white",
           "linecolor": "white",
           "ticks": "",
           "title": {
            "standoff": 15
           },
           "zerolinecolor": "white",
           "zerolinewidth": 2
          },
          "yaxis": {
           "automargin": true,
           "gridcolor": "white",
           "linecolor": "white",
           "ticks": "",
           "title": {
            "standoff": 15
           },
           "zerolinecolor": "white",
           "zerolinewidth": 2
          }
         }
        },
        "title": {
         "font": {
          "color": "#4D5663"
         }
        },
        "xaxis": {
         "anchor": "y",
         "domain": [
          0,
          0.2125
         ],
         "gridcolor": "#E1E5ED",
         "showgrid": false,
         "tickfont": {
          "color": "#4D5663"
         },
         "title": {
          "font": {
           "color": "#4D5663"
          },
          "text": ""
         },
         "zerolinecolor": "#E1E5ED"
        },
        "xaxis10": {
         "anchor": "y10",
         "domain": [
          0.2625,
          0.475
         ],
         "gridcolor": "#E1E5ED",
         "showgrid": false,
         "tickfont": {
          "color": "#4D5663"
         },
         "title": {
          "font": {
           "color": "#4D5663"
          },
          "text": ""
         },
         "zerolinecolor": "#E1E5ED"
        },
        "xaxis11": {
         "anchor": "y11",
         "domain": [
          0.525,
          0.7375
         ],
         "gridcolor": "#E1E5ED",
         "showgrid": false,
         "tickfont": {
          "color": "#4D5663"
         },
         "title": {
          "font": {
           "color": "#4D5663"
          },
          "text": ""
         },
         "zerolinecolor": "#E1E5ED"
        },
        "xaxis12": {
         "anchor": "y12",
         "domain": [
          0.7875,
          1
         ],
         "gridcolor": "#E1E5ED",
         "showgrid": false,
         "tickfont": {
          "color": "#4D5663"
         },
         "title": {
          "font": {
           "color": "#4D5663"
          },
          "text": ""
         },
         "zerolinecolor": "#E1E5ED"
        },
        "xaxis13": {
         "anchor": "y13",
         "domain": [
          0,
          0.2125
         ],
         "gridcolor": "#E1E5ED",
         "showgrid": false,
         "tickfont": {
          "color": "#4D5663"
         },
         "title": {
          "font": {
           "color": "#4D5663"
          },
          "text": ""
         },
         "zerolinecolor": "#E1E5ED"
        },
        "xaxis14": {
         "anchor": "y14",
         "domain": [
          0.2625,
          0.475
         ],
         "gridcolor": "#E1E5ED",
         "showgrid": false,
         "tickfont": {
          "color": "#4D5663"
         },
         "title": {
          "font": {
           "color": "#4D5663"
          },
          "text": ""
         },
         "zerolinecolor": "#E1E5ED"
        },
        "xaxis15": {
         "anchor": "y15",
         "domain": [
          0.525,
          0.7375
         ],
         "gridcolor": "#E1E5ED",
         "showgrid": false,
         "tickfont": {
          "color": "#4D5663"
         },
         "title": {
          "font": {
           "color": "#4D5663"
          },
          "text": ""
         },
         "zerolinecolor": "#E1E5ED"
        },
        "xaxis16": {
         "anchor": "y16",
         "domain": [
          0.7875,
          1
         ],
         "gridcolor": "#E1E5ED",
         "showgrid": false,
         "tickfont": {
          "color": "#4D5663"
         },
         "title": {
          "font": {
           "color": "#4D5663"
          },
          "text": ""
         },
         "zerolinecolor": "#E1E5ED"
        },
        "xaxis2": {
         "anchor": "y2",
         "domain": [
          0.2625,
          0.475
         ],
         "gridcolor": "#E1E5ED",
         "showgrid": false,
         "tickfont": {
          "color": "#4D5663"
         },
         "title": {
          "font": {
           "color": "#4D5663"
          },
          "text": ""
         },
         "zerolinecolor": "#E1E5ED"
        },
        "xaxis3": {
         "anchor": "y3",
         "domain": [
          0.525,
          0.7375
         ],
         "gridcolor": "#E1E5ED",
         "showgrid": false,
         "tickfont": {
          "color": "#4D5663"
         },
         "title": {
          "font": {
           "color": "#4D5663"
          },
          "text": ""
         },
         "zerolinecolor": "#E1E5ED"
        },
        "xaxis4": {
         "anchor": "y4",
         "domain": [
          0.7875,
          1
         ],
         "gridcolor": "#E1E5ED",
         "showgrid": false,
         "tickfont": {
          "color": "#4D5663"
         },
         "title": {
          "font": {
           "color": "#4D5663"
          },
          "text": ""
         },
         "zerolinecolor": "#E1E5ED"
        },
        "xaxis5": {
         "anchor": "y5",
         "domain": [
          0,
          0.2125
         ],
         "gridcolor": "#E1E5ED",
         "showgrid": false,
         "tickfont": {
          "color": "#4D5663"
         },
         "title": {
          "font": {
           "color": "#4D5663"
          },
          "text": ""
         },
         "zerolinecolor": "#E1E5ED"
        },
        "xaxis6": {
         "anchor": "y6",
         "domain": [
          0.2625,
          0.475
         ],
         "gridcolor": "#E1E5ED",
         "showgrid": false,
         "tickfont": {
          "color": "#4D5663"
         },
         "title": {
          "font": {
           "color": "#4D5663"
          },
          "text": ""
         },
         "zerolinecolor": "#E1E5ED"
        },
        "xaxis7": {
         "anchor": "y7",
         "domain": [
          0.525,
          0.7375
         ],
         "gridcolor": "#E1E5ED",
         "showgrid": false,
         "tickfont": {
          "color": "#4D5663"
         },
         "title": {
          "font": {
           "color": "#4D5663"
          },
          "text": ""
         },
         "zerolinecolor": "#E1E5ED"
        },
        "xaxis8": {
         "anchor": "y8",
         "domain": [
          0.7875,
          1
         ],
         "gridcolor": "#E1E5ED",
         "showgrid": false,
         "tickfont": {
          "color": "#4D5663"
         },
         "title": {
          "font": {
           "color": "#4D5663"
          },
          "text": ""
         },
         "zerolinecolor": "#E1E5ED"
        },
        "xaxis9": {
         "anchor": "y9",
         "domain": [
          0,
          0.2125
         ],
         "gridcolor": "#E1E5ED",
         "showgrid": false,
         "tickfont": {
          "color": "#4D5663"
         },
         "title": {
          "font": {
           "color": "#4D5663"
          },
          "text": ""
         },
         "zerolinecolor": "#E1E5ED"
        },
        "yaxis": {
         "anchor": "x",
         "domain": [
          0.8025,
          1
         ],
         "gridcolor": "#E1E5ED",
         "showgrid": false,
         "tickfont": {
          "color": "#4D5663"
         },
         "title": {
          "font": {
           "color": "#4D5663"
          },
          "text": ""
         },
         "zerolinecolor": "#E1E5ED"
        },
        "yaxis10": {
         "anchor": "x10",
         "domain": [
          0.2675,
          0.465
         ],
         "gridcolor": "#E1E5ED",
         "showgrid": false,
         "tickfont": {
          "color": "#4D5663"
         },
         "title": {
          "font": {
           "color": "#4D5663"
          },
          "text": ""
         },
         "zerolinecolor": "#E1E5ED"
        },
        "yaxis11": {
         "anchor": "x11",
         "domain": [
          0.2675,
          0.465
         ],
         "gridcolor": "#E1E5ED",
         "showgrid": false,
         "tickfont": {
          "color": "#4D5663"
         },
         "title": {
          "font": {
           "color": "#4D5663"
          },
          "text": ""
         },
         "zerolinecolor": "#E1E5ED"
        },
        "yaxis12": {
         "anchor": "x12",
         "domain": [
          0.2675,
          0.465
         ],
         "gridcolor": "#E1E5ED",
         "showgrid": false,
         "tickfont": {
          "color": "#4D5663"
         },
         "title": {
          "font": {
           "color": "#4D5663"
          },
          "text": ""
         },
         "zerolinecolor": "#E1E5ED"
        },
        "yaxis13": {
         "anchor": "x13",
         "domain": [
          0,
          0.1975
         ],
         "gridcolor": "#E1E5ED",
         "showgrid": false,
         "tickfont": {
          "color": "#4D5663"
         },
         "title": {
          "font": {
           "color": "#4D5663"
          },
          "text": ""
         },
         "zerolinecolor": "#E1E5ED"
        },
        "yaxis14": {
         "anchor": "x14",
         "domain": [
          0,
          0.1975
         ],
         "gridcolor": "#E1E5ED",
         "showgrid": false,
         "tickfont": {
          "color": "#4D5663"
         },
         "title": {
          "font": {
           "color": "#4D5663"
          },
          "text": ""
         },
         "zerolinecolor": "#E1E5ED"
        },
        "yaxis15": {
         "anchor": "x15",
         "domain": [
          0,
          0.1975
         ],
         "gridcolor": "#E1E5ED",
         "showgrid": false,
         "tickfont": {
          "color": "#4D5663"
         },
         "title": {
          "font": {
           "color": "#4D5663"
          },
          "text": ""
         },
         "zerolinecolor": "#E1E5ED"
        },
        "yaxis16": {
         "anchor": "x16",
         "domain": [
          0,
          0.1975
         ],
         "gridcolor": "#E1E5ED",
         "showgrid": false,
         "tickfont": {
          "color": "#4D5663"
         },
         "title": {
          "font": {
           "color": "#4D5663"
          },
          "text": ""
         },
         "zerolinecolor": "#E1E5ED"
        },
        "yaxis2": {
         "anchor": "x2",
         "domain": [
          0.8025,
          1
         ],
         "gridcolor": "#E1E5ED",
         "showgrid": false,
         "tickfont": {
          "color": "#4D5663"
         },
         "title": {
          "font": {
           "color": "#4D5663"
          },
          "text": ""
         },
         "zerolinecolor": "#E1E5ED"
        },
        "yaxis3": {
         "anchor": "x3",
         "domain": [
          0.8025,
          1
         ],
         "gridcolor": "#E1E5ED",
         "showgrid": false,
         "tickfont": {
          "color": "#4D5663"
         },
         "title": {
          "font": {
           "color": "#4D5663"
          },
          "text": ""
         },
         "zerolinecolor": "#E1E5ED"
        },
        "yaxis4": {
         "anchor": "x4",
         "domain": [
          0.8025,
          1
         ],
         "gridcolor": "#E1E5ED",
         "showgrid": false,
         "tickfont": {
          "color": "#4D5663"
         },
         "title": {
          "font": {
           "color": "#4D5663"
          },
          "text": ""
         },
         "zerolinecolor": "#E1E5ED"
        },
        "yaxis5": {
         "anchor": "x5",
         "domain": [
          0.535,
          0.7325
         ],
         "gridcolor": "#E1E5ED",
         "showgrid": false,
         "tickfont": {
          "color": "#4D5663"
         },
         "title": {
          "font": {
           "color": "#4D5663"
          },
          "text": ""
         },
         "zerolinecolor": "#E1E5ED"
        },
        "yaxis6": {
         "anchor": "x6",
         "domain": [
          0.535,
          0.7325
         ],
         "gridcolor": "#E1E5ED",
         "showgrid": false,
         "tickfont": {
          "color": "#4D5663"
         },
         "title": {
          "font": {
           "color": "#4D5663"
          },
          "text": ""
         },
         "zerolinecolor": "#E1E5ED"
        },
        "yaxis7": {
         "anchor": "x7",
         "domain": [
          0.535,
          0.7325
         ],
         "gridcolor": "#E1E5ED",
         "showgrid": false,
         "tickfont": {
          "color": "#4D5663"
         },
         "title": {
          "font": {
           "color": "#4D5663"
          },
          "text": ""
         },
         "zerolinecolor": "#E1E5ED"
        },
        "yaxis8": {
         "anchor": "x8",
         "domain": [
          0.535,
          0.7325
         ],
         "gridcolor": "#E1E5ED",
         "showgrid": false,
         "tickfont": {
          "color": "#4D5663"
         },
         "title": {
          "font": {
           "color": "#4D5663"
          },
          "text": ""
         },
         "zerolinecolor": "#E1E5ED"
        },
        "yaxis9": {
         "anchor": "x9",
         "domain": [
          0.2675,
          0.465
         ],
         "gridcolor": "#E1E5ED",
         "showgrid": false,
         "tickfont": {
          "color": "#4D5663"
         },
         "title": {
          "font": {
           "color": "#4D5663"
          },
          "text": ""
         },
         "zerolinecolor": "#E1E5ED"
        }
       }
      },
      "text/html": [
       "<div>                            <div id=\"b508dd8f-b522-475b-aacd-5324f45277fa\" class=\"plotly-graph-div\" style=\"height:525px; width:100%;\"></div>            <script type=\"text/javascript\">                require([\"plotly\"], function(Plotly) {                    window.PLOTLYENV=window.PLOTLYENV || {};\n",
       "                    window.PLOTLYENV.BASE_URL='https://plot.ly';                                    if (document.getElementById(\"b508dd8f-b522-475b-aacd-5324f45277fa\")) {                    Plotly.newPlot(                        \"b508dd8f-b522-475b-aacd-5324f45277fa\",                        [{\"histfunc\":\"count\",\"histnorm\":\"\",\"marker\":{\"color\":\"rgba(255, 153, 51, 1.0)\",\"line\":{\"color\":\"#4D5663\",\"width\":1.3}},\"name\":\"A\",\"nbinsx\":10,\"opacity\":0.8,\"orientation\":\"v\",\"type\":\"histogram\",\"x\":[-0.34225299009874355,0.4892447760011251,0.6289296113249515,-0.9623444735331236,0.5218374246730623,1.0872779779546433,-2.5446001105676275,-0.2858836687280843,1.3065777779854995,-2.4104707774726113,1.3369186035954843,0.3838707492935451,-0.5526656706871299,-0.523243795919335,-0.5219209505049524,0.7876928140633233,-0.9458273989118097,0.6798036848133264,-0.7326321084090412,2.9676666789696204,-0.05694316110548828,-0.3901687948679766,0.39042317054449927,-0.5097476850302313,-0.06005776882918707,1.8651889477854269,0.6825596947887341,-0.660930834038989,0.7457389149047722,0.5831350759677145,0.20565331727263178,0.12137563657220368,0.14222541475987407,-0.21964030922882513,-0.1403522050946297,0.9130048247460788,-0.5324825569805095,0.8357026232545052,-0.05136640945025422,-0.15442903874892236,0.4427417326955754,-1.4618826570001109,-0.23457977919541678,1.5819006525811172,1.7673116734486296,0.5244123082679875,-1.4960518062062593,-0.08993988733773665,0.8209575792192505,0.277831732542309,1.9225576880083868,1.757171966228769,-2.138688527959561,-1.3709748402957949,-0.7155997219888818,0.3317227996255702,-1.0043614591743062,-1.0261278984258224,-1.4276290468878337,-1.0891931758991331,0.2035269789201755,0.02473667551913148,0.19551292413294072,-0.19036560623878837,-1.8010591597777204,0.8032033734232925,-1.0990490358758565,0.7760903618580065,-0.5271828141604505,-0.7383131855752465,-0.27543257249948844,-0.037819243298348515,1.2032094442658468,0.785084605957565,0.7503288870253916,-0.8472573692739707,-0.37625320843617843,-1.2657485333486633,1.7888324677330751,0.7499899464558957,0.3247253443598456,1.1096782207812264,0.28418622192332155,0.8318537645554853,2.0139557344103043,0.3476274485672122,-0.7967921761246892,-0.12058745799601407,0.43531389145934873,0.35347704597191093,-1.3720175798793395,-1.2811737166611563,0.04571690779276586,1.8411898245359177,-0.34353168706576764,1.0133136240424316,0.31479801507956323,2.1145539751315687,-1.0277828928921748,-0.7838019655038211],\"xaxis\":\"x\",\"yaxis\":\"y\"},{\"line\":{\"color\":\"rgba(128, 128, 128, 1.0)\",\"dash\":\"solid\",\"shape\":\"linear\",\"width\":1.3},\"marker\":{\"size\":2,\"symbol\":\"circle\"},\"mode\":\"markers\",\"name\":\"A\",\"text\":\"\",\"type\":\"scatter\",\"x\":[0.9900955482666974,-0.9889452577232196,-0.9378354850254641,-0.5463691152022653,2.0271518857018807,0.19925957847537346,-0.7786039713483985,0.2520015620313144,-0.6188427581785232,0.419814842315549,-1.8602683357380412,0.7728522626338924,0.23979797259129315,1.1297423815295664,-0.10475559546208067,-0.009461289991414178,0.7113080068140527,-1.4786843116096715,-1.3201954219731604,0.07031698798374092,1.6442459691777473,-0.13952067189279416,-0.9250117184627819,-1.730634623494131,-1.2546443084973622,1.2139408010780905,-0.5844745801129339,-0.29554717166621897,0.27281484542731976,0.25318894794907465,-0.24638066248007567,-0.3001463717227039,-0.47843477549201796,1.5339025213459436,1.237395379686162,-0.214093862004028,-0.3867947061510151,0.20025306551505054,0.5518586459046209,-1.2649171383821682,-0.31394703787397016,2.624200579430331,-0.7124402468346807,0.47598211399691526,0.3543661152225115,-0.7416521439997066,0.11901051948687877,-1.228030696683017,-0.5254167537146217,-0.8180277127043986,0.9767586529113346,1.2707583473030304,-0.1430902898326658,0.3866316300901333,0.918493501529165,0.7382411409509697,-1.7872095559123204,-0.05138925422187474,-1.3099282607443965,0.3619874357419031,0.2473659952388168,0.673183153770201,-0.42378629704185045,-0.5218702450381305,0.3643796819545949,-0.8571232551495427,0.6196384121373644,-0.5532877791773987,-0.6985239271046452,-0.4971711238652195,0.9837197737497394,0.151109103477177,-0.45528688478792184,-0.2940979367596788,-1.1357511274305079,1.7291497641174005,-0.5315171160860179,0.5412751513880071,2.319270328199936,1.105881259664581,0.24183604497834638,-0.12739001798747068,0.15509861976732744,-1.0996109070986873,0.23972510178264853,-0.08154335854543714,-1.8255709836497878,1.8463351692191043,1.820835557120743,0.9539408365908607,-1.7026480093372356,0.736197256641093,-0.21103967120123218,0.37668614877938134,-0.8927141407003845,-0.10178995397251908,-1.3472346892602074,-0.6569542813244048,0.9437776474422417,-3.0058043986457124],\"xaxis\":\"x2\",\"y\":[-0.34225299009874355,0.4892447760011251,0.6289296113249515,-0.9623444735331236,0.5218374246730623,1.0872779779546433,-2.5446001105676275,-0.2858836687280843,1.3065777779854995,-2.4104707774726113,1.3369186035954843,0.3838707492935451,-0.5526656706871299,-0.523243795919335,-0.5219209505049524,0.7876928140633233,-0.9458273989118097,0.6798036848133264,-0.7326321084090412,2.9676666789696204,-0.05694316110548828,-0.3901687948679766,0.39042317054449927,-0.5097476850302313,-0.06005776882918707,1.8651889477854269,0.6825596947887341,-0.660930834038989,0.7457389149047722,0.5831350759677145,0.20565331727263178,0.12137563657220368,0.14222541475987407,-0.21964030922882513,-0.1403522050946297,0.9130048247460788,-0.5324825569805095,0.8357026232545052,-0.05136640945025422,-0.15442903874892236,0.4427417326955754,-1.4618826570001109,-0.23457977919541678,1.5819006525811172,1.7673116734486296,0.5244123082679875,-1.4960518062062593,-0.08993988733773665,0.8209575792192505,0.277831732542309,1.9225576880083868,1.757171966228769,-2.138688527959561,-1.3709748402957949,-0.7155997219888818,0.3317227996255702,-1.0043614591743062,-1.0261278984258224,-1.4276290468878337,-1.0891931758991331,0.2035269789201755,0.02473667551913148,0.19551292413294072,-0.19036560623878837,-1.8010591597777204,0.8032033734232925,-1.0990490358758565,0.7760903618580065,-0.5271828141604505,-0.7383131855752465,-0.27543257249948844,-0.037819243298348515,1.2032094442658468,0.785084605957565,0.7503288870253916,-0.8472573692739707,-0.37625320843617843,-1.2657485333486633,1.7888324677330751,0.7499899464558957,0.3247253443598456,1.1096782207812264,0.28418622192332155,0.8318537645554853,2.0139557344103043,0.3476274485672122,-0.7967921761246892,-0.12058745799601407,0.43531389145934873,0.35347704597191093,-1.3720175798793395,-1.2811737166611563,0.04571690779276586,1.8411898245359177,-0.34353168706576764,1.0133136240424316,0.31479801507956323,2.1145539751315687,-1.0277828928921748,-0.7838019655038211],\"yaxis\":\"y2\"},{\"line\":{\"color\":\"rgba(128, 128, 128, 1.0)\",\"dash\":\"solid\",\"shape\":\"linear\",\"width\":1.3},\"marker\":{\"size\":2,\"symbol\":\"circle\"},\"mode\":\"markers\",\"name\":\"A\",\"text\":\"\",\"type\":\"scatter\",\"x\":[-0.24360119416966694,2.6290698676150748,0.2661367149716258,0.4248000862046849,0.15691359647032885,1.2669766461076717,-0.7458482705573792,-1.0425577762968143,-0.9918293586883078,1.1752207914133415,0.8237476957175225,1.1559167419733656,-0.26544194102746643,-1.756871692208469,-0.4328200632631489,-1.5946234612917132,-0.7754468725671481,2.456890194326189,0.25177654767670976,-0.5276250778756187,-0.41515353632559016,-0.9702083336083774,-0.5386885727546051,0.37514521710971366,0.42471750848556794,0.9123108730469526,-1.3814941779525685,1.5467689361155261,-1.006894590393866,0.0956355518057554,0.7466898784983458,-0.24213182443022957,-0.9250827556716021,-1.5203503273531633,-0.4977984822613209,-0.6410172305332248,0.0004638774932113429,0.8313405708447927,2.019266841869993,0.5943772196931862,-0.30837067424611286,0.9104799562812206,0.19755570215657497,0.2773208278157791,-1.0387187975724872,-0.506375180681545,-0.5516849839146819,0.7116617071345542,-0.19579766373118063,0.42693167129622245,-0.8331237335520756,0.5016062861936484,-0.6937427386910572,-0.49746785662625626,-1.7118428797935947,-0.7605643980862589,-0.5390131077084975,-0.09681021739978073,0.540645279267166,-0.48285349611885797,0.025786372736263302,1.8235643881611308,-1.2932590197710199,-0.6465104579661324,2.0408865397934393,0.7642965793643237,-0.8265002416929838,0.1019702069298536,0.8725592650972407,-1.588148164340174,-1.4228936331224291,0.3031964853541781,-0.07949730751640986,-2.39910314507416,-0.7029900183390284,0.8408133054957266,0.6166977677036451,-0.9940793947697844,-0.534675036167626,-0.14707923691588887,-2.6234047287938913,-1.3474097174098156,-0.1421345213333329,0.008835708481921363,-1.2515389770614476,-0.6441581344355697,-0.5934360296853288,-0.027506673382790198,-0.23057019069383758,-0.4883458423910079,-1.22605047743705,-0.6061666040960666,-1.0125377919921394,-0.3320753382492649,0.766639572361874,0.07814275463062237,-0.02251167615807235,-1.2505570063745404,-0.41570718077541857,-0.6990955371320429],\"xaxis\":\"x3\",\"y\":[-0.34225299009874355,0.4892447760011251,0.6289296113249515,-0.9623444735331236,0.5218374246730623,1.0872779779546433,-2.5446001105676275,-0.2858836687280843,1.3065777779854995,-2.4104707774726113,1.3369186035954843,0.3838707492935451,-0.5526656706871299,-0.523243795919335,-0.5219209505049524,0.7876928140633233,-0.9458273989118097,0.6798036848133264,-0.7326321084090412,2.9676666789696204,-0.05694316110548828,-0.3901687948679766,0.39042317054449927,-0.5097476850302313,-0.06005776882918707,1.8651889477854269,0.6825596947887341,-0.660930834038989,0.7457389149047722,0.5831350759677145,0.20565331727263178,0.12137563657220368,0.14222541475987407,-0.21964030922882513,-0.1403522050946297,0.9130048247460788,-0.5324825569805095,0.8357026232545052,-0.05136640945025422,-0.15442903874892236,0.4427417326955754,-1.4618826570001109,-0.23457977919541678,1.5819006525811172,1.7673116734486296,0.5244123082679875,-1.4960518062062593,-0.08993988733773665,0.8209575792192505,0.277831732542309,1.9225576880083868,1.757171966228769,-2.138688527959561,-1.3709748402957949,-0.7155997219888818,0.3317227996255702,-1.0043614591743062,-1.0261278984258224,-1.4276290468878337,-1.0891931758991331,0.2035269789201755,0.02473667551913148,0.19551292413294072,-0.19036560623878837,-1.8010591597777204,0.8032033734232925,-1.0990490358758565,0.7760903618580065,-0.5271828141604505,-0.7383131855752465,-0.27543257249948844,-0.037819243298348515,1.2032094442658468,0.785084605957565,0.7503288870253916,-0.8472573692739707,-0.37625320843617843,-1.2657485333486633,1.7888324677330751,0.7499899464558957,0.3247253443598456,1.1096782207812264,0.28418622192332155,0.8318537645554853,2.0139557344103043,0.3476274485672122,-0.7967921761246892,-0.12058745799601407,0.43531389145934873,0.35347704597191093,-1.3720175798793395,-1.2811737166611563,0.04571690779276586,1.8411898245359177,-0.34353168706576764,1.0133136240424316,0.31479801507956323,2.1145539751315687,-1.0277828928921748,-0.7838019655038211],\"yaxis\":\"y3\"},{\"line\":{\"color\":\"rgba(128, 128, 128, 1.0)\",\"dash\":\"solid\",\"shape\":\"linear\",\"width\":1.3},\"marker\":{\"size\":2,\"symbol\":\"circle\"},\"mode\":\"markers\",\"name\":\"A\",\"text\":\"\",\"type\":\"scatter\",\"x\":[-0.8993780379502047,-0.02805590171480415,0.5612035642976496,0.45017054087238884,-2.233080770879555,0.3739742395124629,-0.5774356122456568,-0.6717884367620782,0.4832487351689567,0.761435996894435,-0.04059328762487213,0.5101128605312929,0.19902095165716177,-1.5411945525961641,-0.45683768831453736,3.2567902677591,-0.24721414340764963,-1.4596725990248305,-2.4248001490278375,0.12611197215654926,1.9234059086665694,-0.7415422179044057,0.5318699546445996,0.3411788196455518,-0.30164340637185694,0.9763135783972272,-0.21897997321007678,0.354782893192736,1.9263999024854617,-1.0069515783908103,-0.0914288423605711,0.9977226852097353,-0.16959396494707218,-0.9640722535068827,0.26028820686903065,0.6912992723236513,-0.4203592662512756,-1.3261158849795756,-1.1453604179470454,-0.9227383863226544,0.0033439820871036955,-0.29155084059205694,-1.192411953625304,0.34346615046657125,-1.0908146569416461,1.5747384092161831,-0.3905808061673566,-1.2576203889566724,-0.9292308926637166,1.9194370566526706,-1.6507047842344582,0.8631548922913439,1.2991380618444575,-3.2615524161869196,-1.0717834772800015,1.2630698522056911,3.1470570330562615,-0.13404492840812246,1.9029965756941507,0.5312264148980672,-1.0776998955177377,0.21816766458394263,0.951581629546409,0.35406437532113627,0.6726097055720566,1.5289951046519916,0.8872488457004313,1.5278424465510052,-0.5629686924888644,-0.6833421677015717,0.5763413458651462,0.12764236871541115,1.180397231496056,0.340318053147227,0.002726022685278746,1.7713800150640246,1.2982996566138594,-1.0523866869149032,-0.779700669840491,-1.8575621845742905,-0.7110915002681697,-1.4997360103036437,0.7950770689699234,0.52438561059342,0.2576584909044913,-1.1552940935623224,1.3039721355476719,1.8623529103560788,-0.15667476232146516,0.22218725609677162,0.1133313728764875,-0.7881581017112002,0.6817806926876091,-0.38247769385962327,-0.745334160946617,-0.07717189151842606,-0.9439590114540767,-0.33257224030030497,-0.33528789414779003,0.45350533599463455],\"xaxis\":\"x4\",\"y\":[-0.34225299009874355,0.4892447760011251,0.6289296113249515,-0.9623444735331236,0.5218374246730623,1.0872779779546433,-2.5446001105676275,-0.2858836687280843,1.3065777779854995,-2.4104707774726113,1.3369186035954843,0.3838707492935451,-0.5526656706871299,-0.523243795919335,-0.5219209505049524,0.7876928140633233,-0.9458273989118097,0.6798036848133264,-0.7326321084090412,2.9676666789696204,-0.05694316110548828,-0.3901687948679766,0.39042317054449927,-0.5097476850302313,-0.06005776882918707,1.8651889477854269,0.6825596947887341,-0.660930834038989,0.7457389149047722,0.5831350759677145,0.20565331727263178,0.12137563657220368,0.14222541475987407,-0.21964030922882513,-0.1403522050946297,0.9130048247460788,-0.5324825569805095,0.8357026232545052,-0.05136640945025422,-0.15442903874892236,0.4427417326955754,-1.4618826570001109,-0.23457977919541678,1.5819006525811172,1.7673116734486296,0.5244123082679875,-1.4960518062062593,-0.08993988733773665,0.8209575792192505,0.277831732542309,1.9225576880083868,1.757171966228769,-2.138688527959561,-1.3709748402957949,-0.7155997219888818,0.3317227996255702,-1.0043614591743062,-1.0261278984258224,-1.4276290468878337,-1.0891931758991331,0.2035269789201755,0.02473667551913148,0.19551292413294072,-0.19036560623878837,-1.8010591597777204,0.8032033734232925,-1.0990490358758565,0.7760903618580065,-0.5271828141604505,-0.7383131855752465,-0.27543257249948844,-0.037819243298348515,1.2032094442658468,0.785084605957565,0.7503288870253916,-0.8472573692739707,-0.37625320843617843,-1.2657485333486633,1.7888324677330751,0.7499899464558957,0.3247253443598456,1.1096782207812264,0.28418622192332155,0.8318537645554853,2.0139557344103043,0.3476274485672122,-0.7967921761246892,-0.12058745799601407,0.43531389145934873,0.35347704597191093,-1.3720175798793395,-1.2811737166611563,0.04571690779276586,1.8411898245359177,-0.34353168706576764,1.0133136240424316,0.31479801507956323,2.1145539751315687,-1.0277828928921748,-0.7838019655038211],\"yaxis\":\"y4\"},{\"line\":{\"color\":\"rgba(128, 128, 128, 1.0)\",\"dash\":\"solid\",\"shape\":\"linear\",\"width\":1.3},\"marker\":{\"size\":2,\"symbol\":\"circle\"},\"mode\":\"markers\",\"name\":\"B\",\"text\":\"\",\"type\":\"scatter\",\"x\":[-0.34225299009874355,0.4892447760011251,0.6289296113249515,-0.9623444735331236,0.5218374246730623,1.0872779779546433,-2.5446001105676275,-0.2858836687280843,1.3065777779854995,-2.4104707774726113,1.3369186035954843,0.3838707492935451,-0.5526656706871299,-0.523243795919335,-0.5219209505049524,0.7876928140633233,-0.9458273989118097,0.6798036848133264,-0.7326321084090412,2.9676666789696204,-0.05694316110548828,-0.3901687948679766,0.39042317054449927,-0.5097476850302313,-0.06005776882918707,1.8651889477854269,0.6825596947887341,-0.660930834038989,0.7457389149047722,0.5831350759677145,0.20565331727263178,0.12137563657220368,0.14222541475987407,-0.21964030922882513,-0.1403522050946297,0.9130048247460788,-0.5324825569805095,0.8357026232545052,-0.05136640945025422,-0.15442903874892236,0.4427417326955754,-1.4618826570001109,-0.23457977919541678,1.5819006525811172,1.7673116734486296,0.5244123082679875,-1.4960518062062593,-0.08993988733773665,0.8209575792192505,0.277831732542309,1.9225576880083868,1.757171966228769,-2.138688527959561,-1.3709748402957949,-0.7155997219888818,0.3317227996255702,-1.0043614591743062,-1.0261278984258224,-1.4276290468878337,-1.0891931758991331,0.2035269789201755,0.02473667551913148,0.19551292413294072,-0.19036560623878837,-1.8010591597777204,0.8032033734232925,-1.0990490358758565,0.7760903618580065,-0.5271828141604505,-0.7383131855752465,-0.27543257249948844,-0.037819243298348515,1.2032094442658468,0.785084605957565,0.7503288870253916,-0.8472573692739707,-0.37625320843617843,-1.2657485333486633,1.7888324677330751,0.7499899464558957,0.3247253443598456,1.1096782207812264,0.28418622192332155,0.8318537645554853,2.0139557344103043,0.3476274485672122,-0.7967921761246892,-0.12058745799601407,0.43531389145934873,0.35347704597191093,-1.3720175798793395,-1.2811737166611563,0.04571690779276586,1.8411898245359177,-0.34353168706576764,1.0133136240424316,0.31479801507956323,2.1145539751315687,-1.0277828928921748,-0.7838019655038211],\"xaxis\":\"x5\",\"y\":[0.9900955482666974,-0.9889452577232196,-0.9378354850254641,-0.5463691152022653,2.0271518857018807,0.19925957847537346,-0.7786039713483985,0.2520015620313144,-0.6188427581785232,0.419814842315549,-1.8602683357380412,0.7728522626338924,0.23979797259129315,1.1297423815295664,-0.10475559546208067,-0.009461289991414178,0.7113080068140527,-1.4786843116096715,-1.3201954219731604,0.07031698798374092,1.6442459691777473,-0.13952067189279416,-0.9250117184627819,-1.730634623494131,-1.2546443084973622,1.2139408010780905,-0.5844745801129339,-0.29554717166621897,0.27281484542731976,0.25318894794907465,-0.24638066248007567,-0.3001463717227039,-0.47843477549201796,1.5339025213459436,1.237395379686162,-0.214093862004028,-0.3867947061510151,0.20025306551505054,0.5518586459046209,-1.2649171383821682,-0.31394703787397016,2.624200579430331,-0.7124402468346807,0.47598211399691526,0.3543661152225115,-0.7416521439997066,0.11901051948687877,-1.228030696683017,-0.5254167537146217,-0.8180277127043986,0.9767586529113346,1.2707583473030304,-0.1430902898326658,0.3866316300901333,0.918493501529165,0.7382411409509697,-1.7872095559123204,-0.05138925422187474,-1.3099282607443965,0.3619874357419031,0.2473659952388168,0.673183153770201,-0.42378629704185045,-0.5218702450381305,0.3643796819545949,-0.8571232551495427,0.6196384121373644,-0.5532877791773987,-0.6985239271046452,-0.4971711238652195,0.9837197737497394,0.151109103477177,-0.45528688478792184,-0.2940979367596788,-1.1357511274305079,1.7291497641174005,-0.5315171160860179,0.5412751513880071,2.319270328199936,1.105881259664581,0.24183604497834638,-0.12739001798747068,0.15509861976732744,-1.0996109070986873,0.23972510178264853,-0.08154335854543714,-1.8255709836497878,1.8463351692191043,1.820835557120743,0.9539408365908607,-1.7026480093372356,0.736197256641093,-0.21103967120123218,0.37668614877938134,-0.8927141407003845,-0.10178995397251908,-1.3472346892602074,-0.6569542813244048,0.9437776474422417,-3.0058043986457124],\"yaxis\":\"y5\"},{\"histfunc\":\"count\",\"histnorm\":\"\",\"marker\":{\"color\":\"rgba(55, 128, 191, 1.0)\",\"line\":{\"color\":\"#4D5663\",\"width\":1.3}},\"name\":\"B\",\"nbinsx\":10,\"opacity\":0.8,\"orientation\":\"v\",\"type\":\"histogram\",\"x\":[0.9900955482666974,-0.9889452577232196,-0.9378354850254641,-0.5463691152022653,2.0271518857018807,0.19925957847537346,-0.7786039713483985,0.2520015620313144,-0.6188427581785232,0.419814842315549,-1.8602683357380412,0.7728522626338924,0.23979797259129315,1.1297423815295664,-0.10475559546208067,-0.009461289991414178,0.7113080068140527,-1.4786843116096715,-1.3201954219731604,0.07031698798374092,1.6442459691777473,-0.13952067189279416,-0.9250117184627819,-1.730634623494131,-1.2546443084973622,1.2139408010780905,-0.5844745801129339,-0.29554717166621897,0.27281484542731976,0.25318894794907465,-0.24638066248007567,-0.3001463717227039,-0.47843477549201796,1.5339025213459436,1.237395379686162,-0.214093862004028,-0.3867947061510151,0.20025306551505054,0.5518586459046209,-1.2649171383821682,-0.31394703787397016,2.624200579430331,-0.7124402468346807,0.47598211399691526,0.3543661152225115,-0.7416521439997066,0.11901051948687877,-1.228030696683017,-0.5254167537146217,-0.8180277127043986,0.9767586529113346,1.2707583473030304,-0.1430902898326658,0.3866316300901333,0.918493501529165,0.7382411409509697,-1.7872095559123204,-0.05138925422187474,-1.3099282607443965,0.3619874357419031,0.2473659952388168,0.673183153770201,-0.42378629704185045,-0.5218702450381305,0.3643796819545949,-0.8571232551495427,0.6196384121373644,-0.5532877791773987,-0.6985239271046452,-0.4971711238652195,0.9837197737497394,0.151109103477177,-0.45528688478792184,-0.2940979367596788,-1.1357511274305079,1.7291497641174005,-0.5315171160860179,0.5412751513880071,2.319270328199936,1.105881259664581,0.24183604497834638,-0.12739001798747068,0.15509861976732744,-1.0996109070986873,0.23972510178264853,-0.08154335854543714,-1.8255709836497878,1.8463351692191043,1.820835557120743,0.9539408365908607,-1.7026480093372356,0.736197256641093,-0.21103967120123218,0.37668614877938134,-0.8927141407003845,-0.10178995397251908,-1.3472346892602074,-0.6569542813244048,0.9437776474422417,-3.0058043986457124],\"xaxis\":\"x6\",\"yaxis\":\"y6\"},{\"line\":{\"color\":\"rgba(128, 128, 128, 1.0)\",\"dash\":\"solid\",\"shape\":\"linear\",\"width\":1.3},\"marker\":{\"size\":2,\"symbol\":\"circle\"},\"mode\":\"markers\",\"name\":\"B\",\"text\":\"\",\"type\":\"scatter\",\"x\":[-0.24360119416966694,2.6290698676150748,0.2661367149716258,0.4248000862046849,0.15691359647032885,1.2669766461076717,-0.7458482705573792,-1.0425577762968143,-0.9918293586883078,1.1752207914133415,0.8237476957175225,1.1559167419733656,-0.26544194102746643,-1.756871692208469,-0.4328200632631489,-1.5946234612917132,-0.7754468725671481,2.456890194326189,0.25177654767670976,-0.5276250778756187,-0.41515353632559016,-0.9702083336083774,-0.5386885727546051,0.37514521710971366,0.42471750848556794,0.9123108730469526,-1.3814941779525685,1.5467689361155261,-1.006894590393866,0.0956355518057554,0.7466898784983458,-0.24213182443022957,-0.9250827556716021,-1.5203503273531633,-0.4977984822613209,-0.6410172305332248,0.0004638774932113429,0.8313405708447927,2.019266841869993,0.5943772196931862,-0.30837067424611286,0.9104799562812206,0.19755570215657497,0.2773208278157791,-1.0387187975724872,-0.506375180681545,-0.5516849839146819,0.7116617071345542,-0.19579766373118063,0.42693167129622245,-0.8331237335520756,0.5016062861936484,-0.6937427386910572,-0.49746785662625626,-1.7118428797935947,-0.7605643980862589,-0.5390131077084975,-0.09681021739978073,0.540645279267166,-0.48285349611885797,0.025786372736263302,1.8235643881611308,-1.2932590197710199,-0.6465104579661324,2.0408865397934393,0.7642965793643237,-0.8265002416929838,0.1019702069298536,0.8725592650972407,-1.588148164340174,-1.4228936331224291,0.3031964853541781,-0.07949730751640986,-2.39910314507416,-0.7029900183390284,0.8408133054957266,0.6166977677036451,-0.9940793947697844,-0.534675036167626,-0.14707923691588887,-2.6234047287938913,-1.3474097174098156,-0.1421345213333329,0.008835708481921363,-1.2515389770614476,-0.6441581344355697,-0.5934360296853288,-0.027506673382790198,-0.23057019069383758,-0.4883458423910079,-1.22605047743705,-0.6061666040960666,-1.0125377919921394,-0.3320753382492649,0.766639572361874,0.07814275463062237,-0.02251167615807235,-1.2505570063745404,-0.41570718077541857,-0.6990955371320429],\"xaxis\":\"x7\",\"y\":[0.9900955482666974,-0.9889452577232196,-0.9378354850254641,-0.5463691152022653,2.0271518857018807,0.19925957847537346,-0.7786039713483985,0.2520015620313144,-0.6188427581785232,0.419814842315549,-1.8602683357380412,0.7728522626338924,0.23979797259129315,1.1297423815295664,-0.10475559546208067,-0.009461289991414178,0.7113080068140527,-1.4786843116096715,-1.3201954219731604,0.07031698798374092,1.6442459691777473,-0.13952067189279416,-0.9250117184627819,-1.730634623494131,-1.2546443084973622,1.2139408010780905,-0.5844745801129339,-0.29554717166621897,0.27281484542731976,0.25318894794907465,-0.24638066248007567,-0.3001463717227039,-0.47843477549201796,1.5339025213459436,1.237395379686162,-0.214093862004028,-0.3867947061510151,0.20025306551505054,0.5518586459046209,-1.2649171383821682,-0.31394703787397016,2.624200579430331,-0.7124402468346807,0.47598211399691526,0.3543661152225115,-0.7416521439997066,0.11901051948687877,-1.228030696683017,-0.5254167537146217,-0.8180277127043986,0.9767586529113346,1.2707583473030304,-0.1430902898326658,0.3866316300901333,0.918493501529165,0.7382411409509697,-1.7872095559123204,-0.05138925422187474,-1.3099282607443965,0.3619874357419031,0.2473659952388168,0.673183153770201,-0.42378629704185045,-0.5218702450381305,0.3643796819545949,-0.8571232551495427,0.6196384121373644,-0.5532877791773987,-0.6985239271046452,-0.4971711238652195,0.9837197737497394,0.151109103477177,-0.45528688478792184,-0.2940979367596788,-1.1357511274305079,1.7291497641174005,-0.5315171160860179,0.5412751513880071,2.319270328199936,1.105881259664581,0.24183604497834638,-0.12739001798747068,0.15509861976732744,-1.0996109070986873,0.23972510178264853,-0.08154335854543714,-1.8255709836497878,1.8463351692191043,1.820835557120743,0.9539408365908607,-1.7026480093372356,0.736197256641093,-0.21103967120123218,0.37668614877938134,-0.8927141407003845,-0.10178995397251908,-1.3472346892602074,-0.6569542813244048,0.9437776474422417,-3.0058043986457124],\"yaxis\":\"y7\"},{\"line\":{\"color\":\"rgba(128, 128, 128, 1.0)\",\"dash\":\"solid\",\"shape\":\"linear\",\"width\":1.3},\"marker\":{\"size\":2,\"symbol\":\"circle\"},\"mode\":\"markers\",\"name\":\"B\",\"text\":\"\",\"type\":\"scatter\",\"x\":[-0.8993780379502047,-0.02805590171480415,0.5612035642976496,0.45017054087238884,-2.233080770879555,0.3739742395124629,-0.5774356122456568,-0.6717884367620782,0.4832487351689567,0.761435996894435,-0.04059328762487213,0.5101128605312929,0.19902095165716177,-1.5411945525961641,-0.45683768831453736,3.2567902677591,-0.24721414340764963,-1.4596725990248305,-2.4248001490278375,0.12611197215654926,1.9234059086665694,-0.7415422179044057,0.5318699546445996,0.3411788196455518,-0.30164340637185694,0.9763135783972272,-0.21897997321007678,0.354782893192736,1.9263999024854617,-1.0069515783908103,-0.0914288423605711,0.9977226852097353,-0.16959396494707218,-0.9640722535068827,0.26028820686903065,0.6912992723236513,-0.4203592662512756,-1.3261158849795756,-1.1453604179470454,-0.9227383863226544,0.0033439820871036955,-0.29155084059205694,-1.192411953625304,0.34346615046657125,-1.0908146569416461,1.5747384092161831,-0.3905808061673566,-1.2576203889566724,-0.9292308926637166,1.9194370566526706,-1.6507047842344582,0.8631548922913439,1.2991380618444575,-3.2615524161869196,-1.0717834772800015,1.2630698522056911,3.1470570330562615,-0.13404492840812246,1.9029965756941507,0.5312264148980672,-1.0776998955177377,0.21816766458394263,0.951581629546409,0.35406437532113627,0.6726097055720566,1.5289951046519916,0.8872488457004313,1.5278424465510052,-0.5629686924888644,-0.6833421677015717,0.5763413458651462,0.12764236871541115,1.180397231496056,0.340318053147227,0.002726022685278746,1.7713800150640246,1.2982996566138594,-1.0523866869149032,-0.779700669840491,-1.8575621845742905,-0.7110915002681697,-1.4997360103036437,0.7950770689699234,0.52438561059342,0.2576584909044913,-1.1552940935623224,1.3039721355476719,1.8623529103560788,-0.15667476232146516,0.22218725609677162,0.1133313728764875,-0.7881581017112002,0.6817806926876091,-0.38247769385962327,-0.745334160946617,-0.07717189151842606,-0.9439590114540767,-0.33257224030030497,-0.33528789414779003,0.45350533599463455],\"xaxis\":\"x8\",\"y\":[0.9900955482666974,-0.9889452577232196,-0.9378354850254641,-0.5463691152022653,2.0271518857018807,0.19925957847537346,-0.7786039713483985,0.2520015620313144,-0.6188427581785232,0.419814842315549,-1.8602683357380412,0.7728522626338924,0.23979797259129315,1.1297423815295664,-0.10475559546208067,-0.009461289991414178,0.7113080068140527,-1.4786843116096715,-1.3201954219731604,0.07031698798374092,1.6442459691777473,-0.13952067189279416,-0.9250117184627819,-1.730634623494131,-1.2546443084973622,1.2139408010780905,-0.5844745801129339,-0.29554717166621897,0.27281484542731976,0.25318894794907465,-0.24638066248007567,-0.3001463717227039,-0.47843477549201796,1.5339025213459436,1.237395379686162,-0.214093862004028,-0.3867947061510151,0.20025306551505054,0.5518586459046209,-1.2649171383821682,-0.31394703787397016,2.624200579430331,-0.7124402468346807,0.47598211399691526,0.3543661152225115,-0.7416521439997066,0.11901051948687877,-1.228030696683017,-0.5254167537146217,-0.8180277127043986,0.9767586529113346,1.2707583473030304,-0.1430902898326658,0.3866316300901333,0.918493501529165,0.7382411409509697,-1.7872095559123204,-0.05138925422187474,-1.3099282607443965,0.3619874357419031,0.2473659952388168,0.673183153770201,-0.42378629704185045,-0.5218702450381305,0.3643796819545949,-0.8571232551495427,0.6196384121373644,-0.5532877791773987,-0.6985239271046452,-0.4971711238652195,0.9837197737497394,0.151109103477177,-0.45528688478792184,-0.2940979367596788,-1.1357511274305079,1.7291497641174005,-0.5315171160860179,0.5412751513880071,2.319270328199936,1.105881259664581,0.24183604497834638,-0.12739001798747068,0.15509861976732744,-1.0996109070986873,0.23972510178264853,-0.08154335854543714,-1.8255709836497878,1.8463351692191043,1.820835557120743,0.9539408365908607,-1.7026480093372356,0.736197256641093,-0.21103967120123218,0.37668614877938134,-0.8927141407003845,-0.10178995397251908,-1.3472346892602074,-0.6569542813244048,0.9437776474422417,-3.0058043986457124],\"yaxis\":\"y8\"},{\"line\":{\"color\":\"rgba(128, 128, 128, 1.0)\",\"dash\":\"solid\",\"shape\":\"linear\",\"width\":1.3},\"marker\":{\"size\":2,\"symbol\":\"circle\"},\"mode\":\"markers\",\"name\":\"C\",\"text\":\"\",\"type\":\"scatter\",\"x\":[-0.34225299009874355,0.4892447760011251,0.6289296113249515,-0.9623444735331236,0.5218374246730623,1.0872779779546433,-2.5446001105676275,-0.2858836687280843,1.3065777779854995,-2.4104707774726113,1.3369186035954843,0.3838707492935451,-0.5526656706871299,-0.523243795919335,-0.5219209505049524,0.7876928140633233,-0.9458273989118097,0.6798036848133264,-0.7326321084090412,2.9676666789696204,-0.05694316110548828,-0.3901687948679766,0.39042317054449927,-0.5097476850302313,-0.06005776882918707,1.8651889477854269,0.6825596947887341,-0.660930834038989,0.7457389149047722,0.5831350759677145,0.20565331727263178,0.12137563657220368,0.14222541475987407,-0.21964030922882513,-0.1403522050946297,0.9130048247460788,-0.5324825569805095,0.8357026232545052,-0.05136640945025422,-0.15442903874892236,0.4427417326955754,-1.4618826570001109,-0.23457977919541678,1.5819006525811172,1.7673116734486296,0.5244123082679875,-1.4960518062062593,-0.08993988733773665,0.8209575792192505,0.277831732542309,1.9225576880083868,1.757171966228769,-2.138688527959561,-1.3709748402957949,-0.7155997219888818,0.3317227996255702,-1.0043614591743062,-1.0261278984258224,-1.4276290468878337,-1.0891931758991331,0.2035269789201755,0.02473667551913148,0.19551292413294072,-0.19036560623878837,-1.8010591597777204,0.8032033734232925,-1.0990490358758565,0.7760903618580065,-0.5271828141604505,-0.7383131855752465,-0.27543257249948844,-0.037819243298348515,1.2032094442658468,0.785084605957565,0.7503288870253916,-0.8472573692739707,-0.37625320843617843,-1.2657485333486633,1.7888324677330751,0.7499899464558957,0.3247253443598456,1.1096782207812264,0.28418622192332155,0.8318537645554853,2.0139557344103043,0.3476274485672122,-0.7967921761246892,-0.12058745799601407,0.43531389145934873,0.35347704597191093,-1.3720175798793395,-1.2811737166611563,0.04571690779276586,1.8411898245359177,-0.34353168706576764,1.0133136240424316,0.31479801507956323,2.1145539751315687,-1.0277828928921748,-0.7838019655038211],\"xaxis\":\"x9\",\"y\":[-0.24360119416966694,2.6290698676150748,0.2661367149716258,0.4248000862046849,0.15691359647032885,1.2669766461076717,-0.7458482705573792,-1.0425577762968143,-0.9918293586883078,1.1752207914133415,0.8237476957175225,1.1559167419733656,-0.26544194102746643,-1.756871692208469,-0.4328200632631489,-1.5946234612917132,-0.7754468725671481,2.456890194326189,0.25177654767670976,-0.5276250778756187,-0.41515353632559016,-0.9702083336083774,-0.5386885727546051,0.37514521710971366,0.42471750848556794,0.9123108730469526,-1.3814941779525685,1.5467689361155261,-1.006894590393866,0.0956355518057554,0.7466898784983458,-0.24213182443022957,-0.9250827556716021,-1.5203503273531633,-0.4977984822613209,-0.6410172305332248,0.0004638774932113429,0.8313405708447927,2.019266841869993,0.5943772196931862,-0.30837067424611286,0.9104799562812206,0.19755570215657497,0.2773208278157791,-1.0387187975724872,-0.506375180681545,-0.5516849839146819,0.7116617071345542,-0.19579766373118063,0.42693167129622245,-0.8331237335520756,0.5016062861936484,-0.6937427386910572,-0.49746785662625626,-1.7118428797935947,-0.7605643980862589,-0.5390131077084975,-0.09681021739978073,0.540645279267166,-0.48285349611885797,0.025786372736263302,1.8235643881611308,-1.2932590197710199,-0.6465104579661324,2.0408865397934393,0.7642965793643237,-0.8265002416929838,0.1019702069298536,0.8725592650972407,-1.588148164340174,-1.4228936331224291,0.3031964853541781,-0.07949730751640986,-2.39910314507416,-0.7029900183390284,0.8408133054957266,0.6166977677036451,-0.9940793947697844,-0.534675036167626,-0.14707923691588887,-2.6234047287938913,-1.3474097174098156,-0.1421345213333329,0.008835708481921363,-1.2515389770614476,-0.6441581344355697,-0.5934360296853288,-0.027506673382790198,-0.23057019069383758,-0.4883458423910079,-1.22605047743705,-0.6061666040960666,-1.0125377919921394,-0.3320753382492649,0.766639572361874,0.07814275463062237,-0.02251167615807235,-1.2505570063745404,-0.41570718077541857,-0.6990955371320429],\"yaxis\":\"y9\"},{\"line\":{\"color\":\"rgba(128, 128, 128, 1.0)\",\"dash\":\"solid\",\"shape\":\"linear\",\"width\":1.3},\"marker\":{\"size\":2,\"symbol\":\"circle\"},\"mode\":\"markers\",\"name\":\"C\",\"text\":\"\",\"type\":\"scatter\",\"x\":[0.9900955482666974,-0.9889452577232196,-0.9378354850254641,-0.5463691152022653,2.0271518857018807,0.19925957847537346,-0.7786039713483985,0.2520015620313144,-0.6188427581785232,0.419814842315549,-1.8602683357380412,0.7728522626338924,0.23979797259129315,1.1297423815295664,-0.10475559546208067,-0.009461289991414178,0.7113080068140527,-1.4786843116096715,-1.3201954219731604,0.07031698798374092,1.6442459691777473,-0.13952067189279416,-0.9250117184627819,-1.730634623494131,-1.2546443084973622,1.2139408010780905,-0.5844745801129339,-0.29554717166621897,0.27281484542731976,0.25318894794907465,-0.24638066248007567,-0.3001463717227039,-0.47843477549201796,1.5339025213459436,1.237395379686162,-0.214093862004028,-0.3867947061510151,0.20025306551505054,0.5518586459046209,-1.2649171383821682,-0.31394703787397016,2.624200579430331,-0.7124402468346807,0.47598211399691526,0.3543661152225115,-0.7416521439997066,0.11901051948687877,-1.228030696683017,-0.5254167537146217,-0.8180277127043986,0.9767586529113346,1.2707583473030304,-0.1430902898326658,0.3866316300901333,0.918493501529165,0.7382411409509697,-1.7872095559123204,-0.05138925422187474,-1.3099282607443965,0.3619874357419031,0.2473659952388168,0.673183153770201,-0.42378629704185045,-0.5218702450381305,0.3643796819545949,-0.8571232551495427,0.6196384121373644,-0.5532877791773987,-0.6985239271046452,-0.4971711238652195,0.9837197737497394,0.151109103477177,-0.45528688478792184,-0.2940979367596788,-1.1357511274305079,1.7291497641174005,-0.5315171160860179,0.5412751513880071,2.319270328199936,1.105881259664581,0.24183604497834638,-0.12739001798747068,0.15509861976732744,-1.0996109070986873,0.23972510178264853,-0.08154335854543714,-1.8255709836497878,1.8463351692191043,1.820835557120743,0.9539408365908607,-1.7026480093372356,0.736197256641093,-0.21103967120123218,0.37668614877938134,-0.8927141407003845,-0.10178995397251908,-1.3472346892602074,-0.6569542813244048,0.9437776474422417,-3.0058043986457124],\"xaxis\":\"x10\",\"y\":[-0.24360119416966694,2.6290698676150748,0.2661367149716258,0.4248000862046849,0.15691359647032885,1.2669766461076717,-0.7458482705573792,-1.0425577762968143,-0.9918293586883078,1.1752207914133415,0.8237476957175225,1.1559167419733656,-0.26544194102746643,-1.756871692208469,-0.4328200632631489,-1.5946234612917132,-0.7754468725671481,2.456890194326189,0.25177654767670976,-0.5276250778756187,-0.41515353632559016,-0.9702083336083774,-0.5386885727546051,0.37514521710971366,0.42471750848556794,0.9123108730469526,-1.3814941779525685,1.5467689361155261,-1.006894590393866,0.0956355518057554,0.7466898784983458,-0.24213182443022957,-0.9250827556716021,-1.5203503273531633,-0.4977984822613209,-0.6410172305332248,0.0004638774932113429,0.8313405708447927,2.019266841869993,0.5943772196931862,-0.30837067424611286,0.9104799562812206,0.19755570215657497,0.2773208278157791,-1.0387187975724872,-0.506375180681545,-0.5516849839146819,0.7116617071345542,-0.19579766373118063,0.42693167129622245,-0.8331237335520756,0.5016062861936484,-0.6937427386910572,-0.49746785662625626,-1.7118428797935947,-0.7605643980862589,-0.5390131077084975,-0.09681021739978073,0.540645279267166,-0.48285349611885797,0.025786372736263302,1.8235643881611308,-1.2932590197710199,-0.6465104579661324,2.0408865397934393,0.7642965793643237,-0.8265002416929838,0.1019702069298536,0.8725592650972407,-1.588148164340174,-1.4228936331224291,0.3031964853541781,-0.07949730751640986,-2.39910314507416,-0.7029900183390284,0.8408133054957266,0.6166977677036451,-0.9940793947697844,-0.534675036167626,-0.14707923691588887,-2.6234047287938913,-1.3474097174098156,-0.1421345213333329,0.008835708481921363,-1.2515389770614476,-0.6441581344355697,-0.5934360296853288,-0.027506673382790198,-0.23057019069383758,-0.4883458423910079,-1.22605047743705,-0.6061666040960666,-1.0125377919921394,-0.3320753382492649,0.766639572361874,0.07814275463062237,-0.02251167615807235,-1.2505570063745404,-0.41570718077541857,-0.6990955371320429],\"yaxis\":\"y10\"},{\"histfunc\":\"count\",\"histnorm\":\"\",\"marker\":{\"color\":\"rgba(50, 171, 96, 1.0)\",\"line\":{\"color\":\"#4D5663\",\"width\":1.3}},\"name\":\"C\",\"nbinsx\":10,\"opacity\":0.8,\"orientation\":\"v\",\"type\":\"histogram\",\"x\":[-0.24360119416966694,2.6290698676150748,0.2661367149716258,0.4248000862046849,0.15691359647032885,1.2669766461076717,-0.7458482705573792,-1.0425577762968143,-0.9918293586883078,1.1752207914133415,0.8237476957175225,1.1559167419733656,-0.26544194102746643,-1.756871692208469,-0.4328200632631489,-1.5946234612917132,-0.7754468725671481,2.456890194326189,0.25177654767670976,-0.5276250778756187,-0.41515353632559016,-0.9702083336083774,-0.5386885727546051,0.37514521710971366,0.42471750848556794,0.9123108730469526,-1.3814941779525685,1.5467689361155261,-1.006894590393866,0.0956355518057554,0.7466898784983458,-0.24213182443022957,-0.9250827556716021,-1.5203503273531633,-0.4977984822613209,-0.6410172305332248,0.0004638774932113429,0.8313405708447927,2.019266841869993,0.5943772196931862,-0.30837067424611286,0.9104799562812206,0.19755570215657497,0.2773208278157791,-1.0387187975724872,-0.506375180681545,-0.5516849839146819,0.7116617071345542,-0.19579766373118063,0.42693167129622245,-0.8331237335520756,0.5016062861936484,-0.6937427386910572,-0.49746785662625626,-1.7118428797935947,-0.7605643980862589,-0.5390131077084975,-0.09681021739978073,0.540645279267166,-0.48285349611885797,0.025786372736263302,1.8235643881611308,-1.2932590197710199,-0.6465104579661324,2.0408865397934393,0.7642965793643237,-0.8265002416929838,0.1019702069298536,0.8725592650972407,-1.588148164340174,-1.4228936331224291,0.3031964853541781,-0.07949730751640986,-2.39910314507416,-0.7029900183390284,0.8408133054957266,0.6166977677036451,-0.9940793947697844,-0.534675036167626,-0.14707923691588887,-2.6234047287938913,-1.3474097174098156,-0.1421345213333329,0.008835708481921363,-1.2515389770614476,-0.6441581344355697,-0.5934360296853288,-0.027506673382790198,-0.23057019069383758,-0.4883458423910079,-1.22605047743705,-0.6061666040960666,-1.0125377919921394,-0.3320753382492649,0.766639572361874,0.07814275463062237,-0.02251167615807235,-1.2505570063745404,-0.41570718077541857,-0.6990955371320429],\"xaxis\":\"x11\",\"yaxis\":\"y11\"},{\"line\":{\"color\":\"rgba(128, 128, 128, 1.0)\",\"dash\":\"solid\",\"shape\":\"linear\",\"width\":1.3},\"marker\":{\"size\":2,\"symbol\":\"circle\"},\"mode\":\"markers\",\"name\":\"C\",\"text\":\"\",\"type\":\"scatter\",\"x\":[-0.8993780379502047,-0.02805590171480415,0.5612035642976496,0.45017054087238884,-2.233080770879555,0.3739742395124629,-0.5774356122456568,-0.6717884367620782,0.4832487351689567,0.761435996894435,-0.04059328762487213,0.5101128605312929,0.19902095165716177,-1.5411945525961641,-0.45683768831453736,3.2567902677591,-0.24721414340764963,-1.4596725990248305,-2.4248001490278375,0.12611197215654926,1.9234059086665694,-0.7415422179044057,0.5318699546445996,0.3411788196455518,-0.30164340637185694,0.9763135783972272,-0.21897997321007678,0.354782893192736,1.9263999024854617,-1.0069515783908103,-0.0914288423605711,0.9977226852097353,-0.16959396494707218,-0.9640722535068827,0.26028820686903065,0.6912992723236513,-0.4203592662512756,-1.3261158849795756,-1.1453604179470454,-0.9227383863226544,0.0033439820871036955,-0.29155084059205694,-1.192411953625304,0.34346615046657125,-1.0908146569416461,1.5747384092161831,-0.3905808061673566,-1.2576203889566724,-0.9292308926637166,1.9194370566526706,-1.6507047842344582,0.8631548922913439,1.2991380618444575,-3.2615524161869196,-1.0717834772800015,1.2630698522056911,3.1470570330562615,-0.13404492840812246,1.9029965756941507,0.5312264148980672,-1.0776998955177377,0.21816766458394263,0.951581629546409,0.35406437532113627,0.6726097055720566,1.5289951046519916,0.8872488457004313,1.5278424465510052,-0.5629686924888644,-0.6833421677015717,0.5763413458651462,0.12764236871541115,1.180397231496056,0.340318053147227,0.002726022685278746,1.7713800150640246,1.2982996566138594,-1.0523866869149032,-0.779700669840491,-1.8575621845742905,-0.7110915002681697,-1.4997360103036437,0.7950770689699234,0.52438561059342,0.2576584909044913,-1.1552940935623224,1.3039721355476719,1.8623529103560788,-0.15667476232146516,0.22218725609677162,0.1133313728764875,-0.7881581017112002,0.6817806926876091,-0.38247769385962327,-0.745334160946617,-0.07717189151842606,-0.9439590114540767,-0.33257224030030497,-0.33528789414779003,0.45350533599463455],\"xaxis\":\"x12\",\"y\":[-0.24360119416966694,2.6290698676150748,0.2661367149716258,0.4248000862046849,0.15691359647032885,1.2669766461076717,-0.7458482705573792,-1.0425577762968143,-0.9918293586883078,1.1752207914133415,0.8237476957175225,1.1559167419733656,-0.26544194102746643,-1.756871692208469,-0.4328200632631489,-1.5946234612917132,-0.7754468725671481,2.456890194326189,0.25177654767670976,-0.5276250778756187,-0.41515353632559016,-0.9702083336083774,-0.5386885727546051,0.37514521710971366,0.42471750848556794,0.9123108730469526,-1.3814941779525685,1.5467689361155261,-1.006894590393866,0.0956355518057554,0.7466898784983458,-0.24213182443022957,-0.9250827556716021,-1.5203503273531633,-0.4977984822613209,-0.6410172305332248,0.0004638774932113429,0.8313405708447927,2.019266841869993,0.5943772196931862,-0.30837067424611286,0.9104799562812206,0.19755570215657497,0.2773208278157791,-1.0387187975724872,-0.506375180681545,-0.5516849839146819,0.7116617071345542,-0.19579766373118063,0.42693167129622245,-0.8331237335520756,0.5016062861936484,-0.6937427386910572,-0.49746785662625626,-1.7118428797935947,-0.7605643980862589,-0.5390131077084975,-0.09681021739978073,0.540645279267166,-0.48285349611885797,0.025786372736263302,1.8235643881611308,-1.2932590197710199,-0.6465104579661324,2.0408865397934393,0.7642965793643237,-0.8265002416929838,0.1019702069298536,0.8725592650972407,-1.588148164340174,-1.4228936331224291,0.3031964853541781,-0.07949730751640986,-2.39910314507416,-0.7029900183390284,0.8408133054957266,0.6166977677036451,-0.9940793947697844,-0.534675036167626,-0.14707923691588887,-2.6234047287938913,-1.3474097174098156,-0.1421345213333329,0.008835708481921363,-1.2515389770614476,-0.6441581344355697,-0.5934360296853288,-0.027506673382790198,-0.23057019069383758,-0.4883458423910079,-1.22605047743705,-0.6061666040960666,-1.0125377919921394,-0.3320753382492649,0.766639572361874,0.07814275463062237,-0.02251167615807235,-1.2505570063745404,-0.41570718077541857,-0.6990955371320429],\"yaxis\":\"y12\"},{\"line\":{\"color\":\"rgba(128, 128, 128, 1.0)\",\"dash\":\"solid\",\"shape\":\"linear\",\"width\":1.3},\"marker\":{\"size\":2,\"symbol\":\"circle\"},\"mode\":\"markers\",\"name\":\"D\",\"text\":\"\",\"type\":\"scatter\",\"x\":[-0.34225299009874355,0.4892447760011251,0.6289296113249515,-0.9623444735331236,0.5218374246730623,1.0872779779546433,-2.5446001105676275,-0.2858836687280843,1.3065777779854995,-2.4104707774726113,1.3369186035954843,0.3838707492935451,-0.5526656706871299,-0.523243795919335,-0.5219209505049524,0.7876928140633233,-0.9458273989118097,0.6798036848133264,-0.7326321084090412,2.9676666789696204,-0.05694316110548828,-0.3901687948679766,0.39042317054449927,-0.5097476850302313,-0.06005776882918707,1.8651889477854269,0.6825596947887341,-0.660930834038989,0.7457389149047722,0.5831350759677145,0.20565331727263178,0.12137563657220368,0.14222541475987407,-0.21964030922882513,-0.1403522050946297,0.9130048247460788,-0.5324825569805095,0.8357026232545052,-0.05136640945025422,-0.15442903874892236,0.4427417326955754,-1.4618826570001109,-0.23457977919541678,1.5819006525811172,1.7673116734486296,0.5244123082679875,-1.4960518062062593,-0.08993988733773665,0.8209575792192505,0.277831732542309,1.9225576880083868,1.757171966228769,-2.138688527959561,-1.3709748402957949,-0.7155997219888818,0.3317227996255702,-1.0043614591743062,-1.0261278984258224,-1.4276290468878337,-1.0891931758991331,0.2035269789201755,0.02473667551913148,0.19551292413294072,-0.19036560623878837,-1.8010591597777204,0.8032033734232925,-1.0990490358758565,0.7760903618580065,-0.5271828141604505,-0.7383131855752465,-0.27543257249948844,-0.037819243298348515,1.2032094442658468,0.785084605957565,0.7503288870253916,-0.8472573692739707,-0.37625320843617843,-1.2657485333486633,1.7888324677330751,0.7499899464558957,0.3247253443598456,1.1096782207812264,0.28418622192332155,0.8318537645554853,2.0139557344103043,0.3476274485672122,-0.7967921761246892,-0.12058745799601407,0.43531389145934873,0.35347704597191093,-1.3720175798793395,-1.2811737166611563,0.04571690779276586,1.8411898245359177,-0.34353168706576764,1.0133136240424316,0.31479801507956323,2.1145539751315687,-1.0277828928921748,-0.7838019655038211],\"xaxis\":\"x13\",\"y\":[-0.8993780379502047,-0.02805590171480415,0.5612035642976496,0.45017054087238884,-2.233080770879555,0.3739742395124629,-0.5774356122456568,-0.6717884367620782,0.4832487351689567,0.761435996894435,-0.04059328762487213,0.5101128605312929,0.19902095165716177,-1.5411945525961641,-0.45683768831453736,3.2567902677591,-0.24721414340764963,-1.4596725990248305,-2.4248001490278375,0.12611197215654926,1.9234059086665694,-0.7415422179044057,0.5318699546445996,0.3411788196455518,-0.30164340637185694,0.9763135783972272,-0.21897997321007678,0.354782893192736,1.9263999024854617,-1.0069515783908103,-0.0914288423605711,0.9977226852097353,-0.16959396494707218,-0.9640722535068827,0.26028820686903065,0.6912992723236513,-0.4203592662512756,-1.3261158849795756,-1.1453604179470454,-0.9227383863226544,0.0033439820871036955,-0.29155084059205694,-1.192411953625304,0.34346615046657125,-1.0908146569416461,1.5747384092161831,-0.3905808061673566,-1.2576203889566724,-0.9292308926637166,1.9194370566526706,-1.6507047842344582,0.8631548922913439,1.2991380618444575,-3.2615524161869196,-1.0717834772800015,1.2630698522056911,3.1470570330562615,-0.13404492840812246,1.9029965756941507,0.5312264148980672,-1.0776998955177377,0.21816766458394263,0.951581629546409,0.35406437532113627,0.6726097055720566,1.5289951046519916,0.8872488457004313,1.5278424465510052,-0.5629686924888644,-0.6833421677015717,0.5763413458651462,0.12764236871541115,1.180397231496056,0.340318053147227,0.002726022685278746,1.7713800150640246,1.2982996566138594,-1.0523866869149032,-0.779700669840491,-1.8575621845742905,-0.7110915002681697,-1.4997360103036437,0.7950770689699234,0.52438561059342,0.2576584909044913,-1.1552940935623224,1.3039721355476719,1.8623529103560788,-0.15667476232146516,0.22218725609677162,0.1133313728764875,-0.7881581017112002,0.6817806926876091,-0.38247769385962327,-0.745334160946617,-0.07717189151842606,-0.9439590114540767,-0.33257224030030497,-0.33528789414779003,0.45350533599463455],\"yaxis\":\"y13\"},{\"line\":{\"color\":\"rgba(128, 128, 128, 1.0)\",\"dash\":\"solid\",\"shape\":\"linear\",\"width\":1.3},\"marker\":{\"size\":2,\"symbol\":\"circle\"},\"mode\":\"markers\",\"name\":\"D\",\"text\":\"\",\"type\":\"scatter\",\"x\":[0.9900955482666974,-0.9889452577232196,-0.9378354850254641,-0.5463691152022653,2.0271518857018807,0.19925957847537346,-0.7786039713483985,0.2520015620313144,-0.6188427581785232,0.419814842315549,-1.8602683357380412,0.7728522626338924,0.23979797259129315,1.1297423815295664,-0.10475559546208067,-0.009461289991414178,0.7113080068140527,-1.4786843116096715,-1.3201954219731604,0.07031698798374092,1.6442459691777473,-0.13952067189279416,-0.9250117184627819,-1.730634623494131,-1.2546443084973622,1.2139408010780905,-0.5844745801129339,-0.29554717166621897,0.27281484542731976,0.25318894794907465,-0.24638066248007567,-0.3001463717227039,-0.47843477549201796,1.5339025213459436,1.237395379686162,-0.214093862004028,-0.3867947061510151,0.20025306551505054,0.5518586459046209,-1.2649171383821682,-0.31394703787397016,2.624200579430331,-0.7124402468346807,0.47598211399691526,0.3543661152225115,-0.7416521439997066,0.11901051948687877,-1.228030696683017,-0.5254167537146217,-0.8180277127043986,0.9767586529113346,1.2707583473030304,-0.1430902898326658,0.3866316300901333,0.918493501529165,0.7382411409509697,-1.7872095559123204,-0.05138925422187474,-1.3099282607443965,0.3619874357419031,0.2473659952388168,0.673183153770201,-0.42378629704185045,-0.5218702450381305,0.3643796819545949,-0.8571232551495427,0.6196384121373644,-0.5532877791773987,-0.6985239271046452,-0.4971711238652195,0.9837197737497394,0.151109103477177,-0.45528688478792184,-0.2940979367596788,-1.1357511274305079,1.7291497641174005,-0.5315171160860179,0.5412751513880071,2.319270328199936,1.105881259664581,0.24183604497834638,-0.12739001798747068,0.15509861976732744,-1.0996109070986873,0.23972510178264853,-0.08154335854543714,-1.8255709836497878,1.8463351692191043,1.820835557120743,0.9539408365908607,-1.7026480093372356,0.736197256641093,-0.21103967120123218,0.37668614877938134,-0.8927141407003845,-0.10178995397251908,-1.3472346892602074,-0.6569542813244048,0.9437776474422417,-3.0058043986457124],\"xaxis\":\"x14\",\"y\":[-0.8993780379502047,-0.02805590171480415,0.5612035642976496,0.45017054087238884,-2.233080770879555,0.3739742395124629,-0.5774356122456568,-0.6717884367620782,0.4832487351689567,0.761435996894435,-0.04059328762487213,0.5101128605312929,0.19902095165716177,-1.5411945525961641,-0.45683768831453736,3.2567902677591,-0.24721414340764963,-1.4596725990248305,-2.4248001490278375,0.12611197215654926,1.9234059086665694,-0.7415422179044057,0.5318699546445996,0.3411788196455518,-0.30164340637185694,0.9763135783972272,-0.21897997321007678,0.354782893192736,1.9263999024854617,-1.0069515783908103,-0.0914288423605711,0.9977226852097353,-0.16959396494707218,-0.9640722535068827,0.26028820686903065,0.6912992723236513,-0.4203592662512756,-1.3261158849795756,-1.1453604179470454,-0.9227383863226544,0.0033439820871036955,-0.29155084059205694,-1.192411953625304,0.34346615046657125,-1.0908146569416461,1.5747384092161831,-0.3905808061673566,-1.2576203889566724,-0.9292308926637166,1.9194370566526706,-1.6507047842344582,0.8631548922913439,1.2991380618444575,-3.2615524161869196,-1.0717834772800015,1.2630698522056911,3.1470570330562615,-0.13404492840812246,1.9029965756941507,0.5312264148980672,-1.0776998955177377,0.21816766458394263,0.951581629546409,0.35406437532113627,0.6726097055720566,1.5289951046519916,0.8872488457004313,1.5278424465510052,-0.5629686924888644,-0.6833421677015717,0.5763413458651462,0.12764236871541115,1.180397231496056,0.340318053147227,0.002726022685278746,1.7713800150640246,1.2982996566138594,-1.0523866869149032,-0.779700669840491,-1.8575621845742905,-0.7110915002681697,-1.4997360103036437,0.7950770689699234,0.52438561059342,0.2576584909044913,-1.1552940935623224,1.3039721355476719,1.8623529103560788,-0.15667476232146516,0.22218725609677162,0.1133313728764875,-0.7881581017112002,0.6817806926876091,-0.38247769385962327,-0.745334160946617,-0.07717189151842606,-0.9439590114540767,-0.33257224030030497,-0.33528789414779003,0.45350533599463455],\"yaxis\":\"y14\"},{\"line\":{\"color\":\"rgba(128, 128, 128, 1.0)\",\"dash\":\"solid\",\"shape\":\"linear\",\"width\":1.3},\"marker\":{\"size\":2,\"symbol\":\"circle\"},\"mode\":\"markers\",\"name\":\"D\",\"text\":\"\",\"type\":\"scatter\",\"x\":[-0.24360119416966694,2.6290698676150748,0.2661367149716258,0.4248000862046849,0.15691359647032885,1.2669766461076717,-0.7458482705573792,-1.0425577762968143,-0.9918293586883078,1.1752207914133415,0.8237476957175225,1.1559167419733656,-0.26544194102746643,-1.756871692208469,-0.4328200632631489,-1.5946234612917132,-0.7754468725671481,2.456890194326189,0.25177654767670976,-0.5276250778756187,-0.41515353632559016,-0.9702083336083774,-0.5386885727546051,0.37514521710971366,0.42471750848556794,0.9123108730469526,-1.3814941779525685,1.5467689361155261,-1.006894590393866,0.0956355518057554,0.7466898784983458,-0.24213182443022957,-0.9250827556716021,-1.5203503273531633,-0.4977984822613209,-0.6410172305332248,0.0004638774932113429,0.8313405708447927,2.019266841869993,0.5943772196931862,-0.30837067424611286,0.9104799562812206,0.19755570215657497,0.2773208278157791,-1.0387187975724872,-0.506375180681545,-0.5516849839146819,0.7116617071345542,-0.19579766373118063,0.42693167129622245,-0.8331237335520756,0.5016062861936484,-0.6937427386910572,-0.49746785662625626,-1.7118428797935947,-0.7605643980862589,-0.5390131077084975,-0.09681021739978073,0.540645279267166,-0.48285349611885797,0.025786372736263302,1.8235643881611308,-1.2932590197710199,-0.6465104579661324,2.0408865397934393,0.7642965793643237,-0.8265002416929838,0.1019702069298536,0.8725592650972407,-1.588148164340174,-1.4228936331224291,0.3031964853541781,-0.07949730751640986,-2.39910314507416,-0.7029900183390284,0.8408133054957266,0.6166977677036451,-0.9940793947697844,-0.534675036167626,-0.14707923691588887,-2.6234047287938913,-1.3474097174098156,-0.1421345213333329,0.008835708481921363,-1.2515389770614476,-0.6441581344355697,-0.5934360296853288,-0.027506673382790198,-0.23057019069383758,-0.4883458423910079,-1.22605047743705,-0.6061666040960666,-1.0125377919921394,-0.3320753382492649,0.766639572361874,0.07814275463062237,-0.02251167615807235,-1.2505570063745404,-0.41570718077541857,-0.6990955371320429],\"xaxis\":\"x15\",\"y\":[-0.8993780379502047,-0.02805590171480415,0.5612035642976496,0.45017054087238884,-2.233080770879555,0.3739742395124629,-0.5774356122456568,-0.6717884367620782,0.4832487351689567,0.761435996894435,-0.04059328762487213,0.5101128605312929,0.19902095165716177,-1.5411945525961641,-0.45683768831453736,3.2567902677591,-0.24721414340764963,-1.4596725990248305,-2.4248001490278375,0.12611197215654926,1.9234059086665694,-0.7415422179044057,0.5318699546445996,0.3411788196455518,-0.30164340637185694,0.9763135783972272,-0.21897997321007678,0.354782893192736,1.9263999024854617,-1.0069515783908103,-0.0914288423605711,0.9977226852097353,-0.16959396494707218,-0.9640722535068827,0.26028820686903065,0.6912992723236513,-0.4203592662512756,-1.3261158849795756,-1.1453604179470454,-0.9227383863226544,0.0033439820871036955,-0.29155084059205694,-1.192411953625304,0.34346615046657125,-1.0908146569416461,1.5747384092161831,-0.3905808061673566,-1.2576203889566724,-0.9292308926637166,1.9194370566526706,-1.6507047842344582,0.8631548922913439,1.2991380618444575,-3.2615524161869196,-1.0717834772800015,1.2630698522056911,3.1470570330562615,-0.13404492840812246,1.9029965756941507,0.5312264148980672,-1.0776998955177377,0.21816766458394263,0.951581629546409,0.35406437532113627,0.6726097055720566,1.5289951046519916,0.8872488457004313,1.5278424465510052,-0.5629686924888644,-0.6833421677015717,0.5763413458651462,0.12764236871541115,1.180397231496056,0.340318053147227,0.002726022685278746,1.7713800150640246,1.2982996566138594,-1.0523866869149032,-0.779700669840491,-1.8575621845742905,-0.7110915002681697,-1.4997360103036437,0.7950770689699234,0.52438561059342,0.2576584909044913,-1.1552940935623224,1.3039721355476719,1.8623529103560788,-0.15667476232146516,0.22218725609677162,0.1133313728764875,-0.7881581017112002,0.6817806926876091,-0.38247769385962327,-0.745334160946617,-0.07717189151842606,-0.9439590114540767,-0.33257224030030497,-0.33528789414779003,0.45350533599463455],\"yaxis\":\"y15\"},{\"histfunc\":\"count\",\"histnorm\":\"\",\"marker\":{\"color\":\"rgba(128, 0, 128, 1.0)\",\"line\":{\"color\":\"#4D5663\",\"width\":1.3}},\"name\":\"D\",\"nbinsx\":10,\"opacity\":0.8,\"orientation\":\"v\",\"type\":\"histogram\",\"x\":[-0.8993780379502047,-0.02805590171480415,0.5612035642976496,0.45017054087238884,-2.233080770879555,0.3739742395124629,-0.5774356122456568,-0.6717884367620782,0.4832487351689567,0.761435996894435,-0.04059328762487213,0.5101128605312929,0.19902095165716177,-1.5411945525961641,-0.45683768831453736,3.2567902677591,-0.24721414340764963,-1.4596725990248305,-2.4248001490278375,0.12611197215654926,1.9234059086665694,-0.7415422179044057,0.5318699546445996,0.3411788196455518,-0.30164340637185694,0.9763135783972272,-0.21897997321007678,0.354782893192736,1.9263999024854617,-1.0069515783908103,-0.0914288423605711,0.9977226852097353,-0.16959396494707218,-0.9640722535068827,0.26028820686903065,0.6912992723236513,-0.4203592662512756,-1.3261158849795756,-1.1453604179470454,-0.9227383863226544,0.0033439820871036955,-0.29155084059205694,-1.192411953625304,0.34346615046657125,-1.0908146569416461,1.5747384092161831,-0.3905808061673566,-1.2576203889566724,-0.9292308926637166,1.9194370566526706,-1.6507047842344582,0.8631548922913439,1.2991380618444575,-3.2615524161869196,-1.0717834772800015,1.2630698522056911,3.1470570330562615,-0.13404492840812246,1.9029965756941507,0.5312264148980672,-1.0776998955177377,0.21816766458394263,0.951581629546409,0.35406437532113627,0.6726097055720566,1.5289951046519916,0.8872488457004313,1.5278424465510052,-0.5629686924888644,-0.6833421677015717,0.5763413458651462,0.12764236871541115,1.180397231496056,0.340318053147227,0.002726022685278746,1.7713800150640246,1.2982996566138594,-1.0523866869149032,-0.779700669840491,-1.8575621845742905,-0.7110915002681697,-1.4997360103036437,0.7950770689699234,0.52438561059342,0.2576584909044913,-1.1552940935623224,1.3039721355476719,1.8623529103560788,-0.15667476232146516,0.22218725609677162,0.1133313728764875,-0.7881581017112002,0.6817806926876091,-0.38247769385962327,-0.745334160946617,-0.07717189151842606,-0.9439590114540767,-0.33257224030030497,-0.33528789414779003,0.45350533599463455],\"xaxis\":\"x16\",\"yaxis\":\"y16\"}],                        {\"bargap\":0.02,\"legend\":{\"bgcolor\":\"#F5F6F9\",\"font\":{\"color\":\"#4D5663\"}},\"paper_bgcolor\":\"#F5F6F9\",\"plot_bgcolor\":\"#F5F6F9\",\"showlegend\":false,\"template\":{\"data\":{\"bar\":[{\"error_x\":{\"color\":\"#2a3f5f\"},\"error_y\":{\"color\":\"#2a3f5f\"},\"marker\":{\"line\":{\"color\":\"#E5ECF6\",\"width\":0.5},\"pattern\":{\"fillmode\":\"overlay\",\"size\":10,\"solidity\":0.2}},\"type\":\"bar\"}],\"barpolar\":[{\"marker\":{\"line\":{\"color\":\"#E5ECF6\",\"width\":0.5},\"pattern\":{\"fillmode\":\"overlay\",\"size\":10,\"solidity\":0.2}},\"type\":\"barpolar\"}],\"carpet\":[{\"aaxis\":{\"endlinecolor\":\"#2a3f5f\",\"gridcolor\":\"white\",\"linecolor\":\"white\",\"minorgridcolor\":\"white\",\"startlinecolor\":\"#2a3f5f\"},\"baxis\":{\"endlinecolor\":\"#2a3f5f\",\"gridcolor\":\"white\",\"linecolor\":\"white\",\"minorgridcolor\":\"white\",\"startlinecolor\":\"#2a3f5f\"},\"type\":\"carpet\"}],\"choropleth\":[{\"colorbar\":{\"outlinewidth\":0,\"ticks\":\"\"},\"type\":\"choropleth\"}],\"contour\":[{\"colorbar\":{\"outlinewidth\":0,\"ticks\":\"\"},\"colorscale\":[[0.0,\"#0d0887\"],[0.1111111111111111,\"#46039f\"],[0.2222222222222222,\"#7201a8\"],[0.3333333333333333,\"#9c179e\"],[0.4444444444444444,\"#bd3786\"],[0.5555555555555556,\"#d8576b\"],[0.6666666666666666,\"#ed7953\"],[0.7777777777777778,\"#fb9f3a\"],[0.8888888888888888,\"#fdca26\"],[1.0,\"#f0f921\"]],\"type\":\"contour\"}],\"contourcarpet\":[{\"colorbar\":{\"outlinewidth\":0,\"ticks\":\"\"},\"type\":\"contourcarpet\"}],\"heatmap\":[{\"colorbar\":{\"outlinewidth\":0,\"ticks\":\"\"},\"colorscale\":[[0.0,\"#0d0887\"],[0.1111111111111111,\"#46039f\"],[0.2222222222222222,\"#7201a8\"],[0.3333333333333333,\"#9c179e\"],[0.4444444444444444,\"#bd3786\"],[0.5555555555555556,\"#d8576b\"],[0.6666666666666666,\"#ed7953\"],[0.7777777777777778,\"#fb9f3a\"],[0.8888888888888888,\"#fdca26\"],[1.0,\"#f0f921\"]],\"type\":\"heatmap\"}],\"heatmapgl\":[{\"colorbar\":{\"outlinewidth\":0,\"ticks\":\"\"},\"colorscale\":[[0.0,\"#0d0887\"],[0.1111111111111111,\"#46039f\"],[0.2222222222222222,\"#7201a8\"],[0.3333333333333333,\"#9c179e\"],[0.4444444444444444,\"#bd3786\"],[0.5555555555555556,\"#d8576b\"],[0.6666666666666666,\"#ed7953\"],[0.7777777777777778,\"#fb9f3a\"],[0.8888888888888888,\"#fdca26\"],[1.0,\"#f0f921\"]],\"type\":\"heatmapgl\"}],\"histogram\":[{\"marker\":{\"pattern\":{\"fillmode\":\"overlay\",\"size\":10,\"solidity\":0.2}},\"type\":\"histogram\"}],\"histogram2d\":[{\"colorbar\":{\"outlinewidth\":0,\"ticks\":\"\"},\"colorscale\":[[0.0,\"#0d0887\"],[0.1111111111111111,\"#46039f\"],[0.2222222222222222,\"#7201a8\"],[0.3333333333333333,\"#9c179e\"],[0.4444444444444444,\"#bd3786\"],[0.5555555555555556,\"#d8576b\"],[0.6666666666666666,\"#ed7953\"],[0.7777777777777778,\"#fb9f3a\"],[0.8888888888888888,\"#fdca26\"],[1.0,\"#f0f921\"]],\"type\":\"histogram2d\"}],\"histogram2dcontour\":[{\"colorbar\":{\"outlinewidth\":0,\"ticks\":\"\"},\"colorscale\":[[0.0,\"#0d0887\"],[0.1111111111111111,\"#46039f\"],[0.2222222222222222,\"#7201a8\"],[0.3333333333333333,\"#9c179e\"],[0.4444444444444444,\"#bd3786\"],[0.5555555555555556,\"#d8576b\"],[0.6666666666666666,\"#ed7953\"],[0.7777777777777778,\"#fb9f3a\"],[0.8888888888888888,\"#fdca26\"],[1.0,\"#f0f921\"]],\"type\":\"histogram2dcontour\"}],\"mesh3d\":[{\"colorbar\":{\"outlinewidth\":0,\"ticks\":\"\"},\"type\":\"mesh3d\"}],\"parcoords\":[{\"line\":{\"colorbar\":{\"outlinewidth\":0,\"ticks\":\"\"}},\"type\":\"parcoords\"}],\"pie\":[{\"automargin\":true,\"type\":\"pie\"}],\"scatter\":[{\"marker\":{\"colorbar\":{\"outlinewidth\":0,\"ticks\":\"\"}},\"type\":\"scatter\"}],\"scatter3d\":[{\"line\":{\"colorbar\":{\"outlinewidth\":0,\"ticks\":\"\"}},\"marker\":{\"colorbar\":{\"outlinewidth\":0,\"ticks\":\"\"}},\"type\":\"scatter3d\"}],\"scattercarpet\":[{\"marker\":{\"colorbar\":{\"outlinewidth\":0,\"ticks\":\"\"}},\"type\":\"scattercarpet\"}],\"scattergeo\":[{\"marker\":{\"colorbar\":{\"outlinewidth\":0,\"ticks\":\"\"}},\"type\":\"scattergeo\"}],\"scattergl\":[{\"marker\":{\"colorbar\":{\"outlinewidth\":0,\"ticks\":\"\"}},\"type\":\"scattergl\"}],\"scattermapbox\":[{\"marker\":{\"colorbar\":{\"outlinewidth\":0,\"ticks\":\"\"}},\"type\":\"scattermapbox\"}],\"scatterpolar\":[{\"marker\":{\"colorbar\":{\"outlinewidth\":0,\"ticks\":\"\"}},\"type\":\"scatterpolar\"}],\"scatterpolargl\":[{\"marker\":{\"colorbar\":{\"outlinewidth\":0,\"ticks\":\"\"}},\"type\":\"scatterpolargl\"}],\"scatterternary\":[{\"marker\":{\"colorbar\":{\"outlinewidth\":0,\"ticks\":\"\"}},\"type\":\"scatterternary\"}],\"surface\":[{\"colorbar\":{\"outlinewidth\":0,\"ticks\":\"\"},\"colorscale\":[[0.0,\"#0d0887\"],[0.1111111111111111,\"#46039f\"],[0.2222222222222222,\"#7201a8\"],[0.3333333333333333,\"#9c179e\"],[0.4444444444444444,\"#bd3786\"],[0.5555555555555556,\"#d8576b\"],[0.6666666666666666,\"#ed7953\"],[0.7777777777777778,\"#fb9f3a\"],[0.8888888888888888,\"#fdca26\"],[1.0,\"#f0f921\"]],\"type\":\"surface\"}],\"table\":[{\"cells\":{\"fill\":{\"color\":\"#EBF0F8\"},\"line\":{\"color\":\"white\"}},\"header\":{\"fill\":{\"color\":\"#C8D4E3\"},\"line\":{\"color\":\"white\"}},\"type\":\"table\"}]},\"layout\":{\"annotationdefaults\":{\"arrowcolor\":\"#2a3f5f\",\"arrowhead\":0,\"arrowwidth\":1},\"autotypenumbers\":\"strict\",\"coloraxis\":{\"colorbar\":{\"outlinewidth\":0,\"ticks\":\"\"}},\"colorscale\":{\"diverging\":[[0,\"#8e0152\"],[0.1,\"#c51b7d\"],[0.2,\"#de77ae\"],[0.3,\"#f1b6da\"],[0.4,\"#fde0ef\"],[0.5,\"#f7f7f7\"],[0.6,\"#e6f5d0\"],[0.7,\"#b8e186\"],[0.8,\"#7fbc41\"],[0.9,\"#4d9221\"],[1,\"#276419\"]],\"sequential\":[[0.0,\"#0d0887\"],[0.1111111111111111,\"#46039f\"],[0.2222222222222222,\"#7201a8\"],[0.3333333333333333,\"#9c179e\"],[0.4444444444444444,\"#bd3786\"],[0.5555555555555556,\"#d8576b\"],[0.6666666666666666,\"#ed7953\"],[0.7777777777777778,\"#fb9f3a\"],[0.8888888888888888,\"#fdca26\"],[1.0,\"#f0f921\"]],\"sequentialminus\":[[0.0,\"#0d0887\"],[0.1111111111111111,\"#46039f\"],[0.2222222222222222,\"#7201a8\"],[0.3333333333333333,\"#9c179e\"],[0.4444444444444444,\"#bd3786\"],[0.5555555555555556,\"#d8576b\"],[0.6666666666666666,\"#ed7953\"],[0.7777777777777778,\"#fb9f3a\"],[0.8888888888888888,\"#fdca26\"],[1.0,\"#f0f921\"]]},\"colorway\":[\"#636efa\",\"#EF553B\",\"#00cc96\",\"#ab63fa\",\"#FFA15A\",\"#19d3f3\",\"#FF6692\",\"#B6E880\",\"#FF97FF\",\"#FECB52\"],\"font\":{\"color\":\"#2a3f5f\"},\"geo\":{\"bgcolor\":\"white\",\"lakecolor\":\"white\",\"landcolor\":\"#E5ECF6\",\"showlakes\":true,\"showland\":true,\"subunitcolor\":\"white\"},\"hoverlabel\":{\"align\":\"left\"},\"hovermode\":\"closest\",\"mapbox\":{\"style\":\"light\"},\"paper_bgcolor\":\"white\",\"plot_bgcolor\":\"#E5ECF6\",\"polar\":{\"angularaxis\":{\"gridcolor\":\"white\",\"linecolor\":\"white\",\"ticks\":\"\"},\"bgcolor\":\"#E5ECF6\",\"radialaxis\":{\"gridcolor\":\"white\",\"linecolor\":\"white\",\"ticks\":\"\"}},\"scene\":{\"xaxis\":{\"backgroundcolor\":\"#E5ECF6\",\"gridcolor\":\"white\",\"gridwidth\":2,\"linecolor\":\"white\",\"showbackground\":true,\"ticks\":\"\",\"zerolinecolor\":\"white\"},\"yaxis\":{\"backgroundcolor\":\"#E5ECF6\",\"gridcolor\":\"white\",\"gridwidth\":2,\"linecolor\":\"white\",\"showbackground\":true,\"ticks\":\"\",\"zerolinecolor\":\"white\"},\"zaxis\":{\"backgroundcolor\":\"#E5ECF6\",\"gridcolor\":\"white\",\"gridwidth\":2,\"linecolor\":\"white\",\"showbackground\":true,\"ticks\":\"\",\"zerolinecolor\":\"white\"}},\"shapedefaults\":{\"line\":{\"color\":\"#2a3f5f\"}},\"ternary\":{\"aaxis\":{\"gridcolor\":\"white\",\"linecolor\":\"white\",\"ticks\":\"\"},\"baxis\":{\"gridcolor\":\"white\",\"linecolor\":\"white\",\"ticks\":\"\"},\"bgcolor\":\"#E5ECF6\",\"caxis\":{\"gridcolor\":\"white\",\"linecolor\":\"white\",\"ticks\":\"\"}},\"title\":{\"x\":0.05},\"xaxis\":{\"automargin\":true,\"gridcolor\":\"white\",\"linecolor\":\"white\",\"ticks\":\"\",\"title\":{\"standoff\":15},\"zerolinecolor\":\"white\",\"zerolinewidth\":2},\"yaxis\":{\"automargin\":true,\"gridcolor\":\"white\",\"linecolor\":\"white\",\"ticks\":\"\",\"title\":{\"standoff\":15},\"zerolinecolor\":\"white\",\"zerolinewidth\":2}}},\"title\":{\"font\":{\"color\":\"#4D5663\"}},\"xaxis\":{\"anchor\":\"y\",\"domain\":[0.0,0.2125],\"gridcolor\":\"#E1E5ED\",\"showgrid\":false,\"tickfont\":{\"color\":\"#4D5663\"},\"title\":{\"font\":{\"color\":\"#4D5663\"},\"text\":\"\"},\"zerolinecolor\":\"#E1E5ED\"},\"xaxis10\":{\"anchor\":\"y10\",\"domain\":[0.2625,0.475],\"gridcolor\":\"#E1E5ED\",\"showgrid\":false,\"tickfont\":{\"color\":\"#4D5663\"},\"title\":{\"font\":{\"color\":\"#4D5663\"},\"text\":\"\"},\"zerolinecolor\":\"#E1E5ED\"},\"xaxis11\":{\"anchor\":\"y11\",\"domain\":[0.525,0.7375],\"gridcolor\":\"#E1E5ED\",\"showgrid\":false,\"tickfont\":{\"color\":\"#4D5663\"},\"title\":{\"font\":{\"color\":\"#4D5663\"},\"text\":\"\"},\"zerolinecolor\":\"#E1E5ED\"},\"xaxis12\":{\"anchor\":\"y12\",\"domain\":[0.7875,1.0],\"gridcolor\":\"#E1E5ED\",\"showgrid\":false,\"tickfont\":{\"color\":\"#4D5663\"},\"title\":{\"font\":{\"color\":\"#4D5663\"},\"text\":\"\"},\"zerolinecolor\":\"#E1E5ED\"},\"xaxis13\":{\"anchor\":\"y13\",\"domain\":[0.0,0.2125],\"gridcolor\":\"#E1E5ED\",\"showgrid\":false,\"tickfont\":{\"color\":\"#4D5663\"},\"title\":{\"font\":{\"color\":\"#4D5663\"},\"text\":\"\"},\"zerolinecolor\":\"#E1E5ED\"},\"xaxis14\":{\"anchor\":\"y14\",\"domain\":[0.2625,0.475],\"gridcolor\":\"#E1E5ED\",\"showgrid\":false,\"tickfont\":{\"color\":\"#4D5663\"},\"title\":{\"font\":{\"color\":\"#4D5663\"},\"text\":\"\"},\"zerolinecolor\":\"#E1E5ED\"},\"xaxis15\":{\"anchor\":\"y15\",\"domain\":[0.525,0.7375],\"gridcolor\":\"#E1E5ED\",\"showgrid\":false,\"tickfont\":{\"color\":\"#4D5663\"},\"title\":{\"font\":{\"color\":\"#4D5663\"},\"text\":\"\"},\"zerolinecolor\":\"#E1E5ED\"},\"xaxis16\":{\"anchor\":\"y16\",\"domain\":[0.7875,1.0],\"gridcolor\":\"#E1E5ED\",\"showgrid\":false,\"tickfont\":{\"color\":\"#4D5663\"},\"title\":{\"font\":{\"color\":\"#4D5663\"},\"text\":\"\"},\"zerolinecolor\":\"#E1E5ED\"},\"xaxis2\":{\"anchor\":\"y2\",\"domain\":[0.2625,0.475],\"gridcolor\":\"#E1E5ED\",\"showgrid\":false,\"tickfont\":{\"color\":\"#4D5663\"},\"title\":{\"font\":{\"color\":\"#4D5663\"},\"text\":\"\"},\"zerolinecolor\":\"#E1E5ED\"},\"xaxis3\":{\"anchor\":\"y3\",\"domain\":[0.525,0.7375],\"gridcolor\":\"#E1E5ED\",\"showgrid\":false,\"tickfont\":{\"color\":\"#4D5663\"},\"title\":{\"font\":{\"color\":\"#4D5663\"},\"text\":\"\"},\"zerolinecolor\":\"#E1E5ED\"},\"xaxis4\":{\"anchor\":\"y4\",\"domain\":[0.7875,1.0],\"gridcolor\":\"#E1E5ED\",\"showgrid\":false,\"tickfont\":{\"color\":\"#4D5663\"},\"title\":{\"font\":{\"color\":\"#4D5663\"},\"text\":\"\"},\"zerolinecolor\":\"#E1E5ED\"},\"xaxis5\":{\"anchor\":\"y5\",\"domain\":[0.0,0.2125],\"gridcolor\":\"#E1E5ED\",\"showgrid\":false,\"tickfont\":{\"color\":\"#4D5663\"},\"title\":{\"font\":{\"color\":\"#4D5663\"},\"text\":\"\"},\"zerolinecolor\":\"#E1E5ED\"},\"xaxis6\":{\"anchor\":\"y6\",\"domain\":[0.2625,0.475],\"gridcolor\":\"#E1E5ED\",\"showgrid\":false,\"tickfont\":{\"color\":\"#4D5663\"},\"title\":{\"font\":{\"color\":\"#4D5663\"},\"text\":\"\"},\"zerolinecolor\":\"#E1E5ED\"},\"xaxis7\":{\"anchor\":\"y7\",\"domain\":[0.525,0.7375],\"gridcolor\":\"#E1E5ED\",\"showgrid\":false,\"tickfont\":{\"color\":\"#4D5663\"},\"title\":{\"font\":{\"color\":\"#4D5663\"},\"text\":\"\"},\"zerolinecolor\":\"#E1E5ED\"},\"xaxis8\":{\"anchor\":\"y8\",\"domain\":[0.7875,1.0],\"gridcolor\":\"#E1E5ED\",\"showgrid\":false,\"tickfont\":{\"color\":\"#4D5663\"},\"title\":{\"font\":{\"color\":\"#4D5663\"},\"text\":\"\"},\"zerolinecolor\":\"#E1E5ED\"},\"xaxis9\":{\"anchor\":\"y9\",\"domain\":[0.0,0.2125],\"gridcolor\":\"#E1E5ED\",\"showgrid\":false,\"tickfont\":{\"color\":\"#4D5663\"},\"title\":{\"font\":{\"color\":\"#4D5663\"},\"text\":\"\"},\"zerolinecolor\":\"#E1E5ED\"},\"yaxis\":{\"anchor\":\"x\",\"domain\":[0.8025,1.0],\"gridcolor\":\"#E1E5ED\",\"showgrid\":false,\"tickfont\":{\"color\":\"#4D5663\"},\"title\":{\"font\":{\"color\":\"#4D5663\"},\"text\":\"\"},\"zerolinecolor\":\"#E1E5ED\"},\"yaxis10\":{\"anchor\":\"x10\",\"domain\":[0.2675,0.465],\"gridcolor\":\"#E1E5ED\",\"showgrid\":false,\"tickfont\":{\"color\":\"#4D5663\"},\"title\":{\"font\":{\"color\":\"#4D5663\"},\"text\":\"\"},\"zerolinecolor\":\"#E1E5ED\"},\"yaxis11\":{\"anchor\":\"x11\",\"domain\":[0.2675,0.465],\"gridcolor\":\"#E1E5ED\",\"showgrid\":false,\"tickfont\":{\"color\":\"#4D5663\"},\"title\":{\"font\":{\"color\":\"#4D5663\"},\"text\":\"\"},\"zerolinecolor\":\"#E1E5ED\"},\"yaxis12\":{\"anchor\":\"x12\",\"domain\":[0.2675,0.465],\"gridcolor\":\"#E1E5ED\",\"showgrid\":false,\"tickfont\":{\"color\":\"#4D5663\"},\"title\":{\"font\":{\"color\":\"#4D5663\"},\"text\":\"\"},\"zerolinecolor\":\"#E1E5ED\"},\"yaxis13\":{\"anchor\":\"x13\",\"domain\":[0.0,0.1975],\"gridcolor\":\"#E1E5ED\",\"showgrid\":false,\"tickfont\":{\"color\":\"#4D5663\"},\"title\":{\"font\":{\"color\":\"#4D5663\"},\"text\":\"\"},\"zerolinecolor\":\"#E1E5ED\"},\"yaxis14\":{\"anchor\":\"x14\",\"domain\":[0.0,0.1975],\"gridcolor\":\"#E1E5ED\",\"showgrid\":false,\"tickfont\":{\"color\":\"#4D5663\"},\"title\":{\"font\":{\"color\":\"#4D5663\"},\"text\":\"\"},\"zerolinecolor\":\"#E1E5ED\"},\"yaxis15\":{\"anchor\":\"x15\",\"domain\":[0.0,0.1975],\"gridcolor\":\"#E1E5ED\",\"showgrid\":false,\"tickfont\":{\"color\":\"#4D5663\"},\"title\":{\"font\":{\"color\":\"#4D5663\"},\"text\":\"\"},\"zerolinecolor\":\"#E1E5ED\"},\"yaxis16\":{\"anchor\":\"x16\",\"domain\":[0.0,0.1975],\"gridcolor\":\"#E1E5ED\",\"showgrid\":false,\"tickfont\":{\"color\":\"#4D5663\"},\"title\":{\"font\":{\"color\":\"#4D5663\"},\"text\":\"\"},\"zerolinecolor\":\"#E1E5ED\"},\"yaxis2\":{\"anchor\":\"x2\",\"domain\":[0.8025,1.0],\"gridcolor\":\"#E1E5ED\",\"showgrid\":false,\"tickfont\":{\"color\":\"#4D5663\"},\"title\":{\"font\":{\"color\":\"#4D5663\"},\"text\":\"\"},\"zerolinecolor\":\"#E1E5ED\"},\"yaxis3\":{\"anchor\":\"x3\",\"domain\":[0.8025,1.0],\"gridcolor\":\"#E1E5ED\",\"showgrid\":false,\"tickfont\":{\"color\":\"#4D5663\"},\"title\":{\"font\":{\"color\":\"#4D5663\"},\"text\":\"\"},\"zerolinecolor\":\"#E1E5ED\"},\"yaxis4\":{\"anchor\":\"x4\",\"domain\":[0.8025,1.0],\"gridcolor\":\"#E1E5ED\",\"showgrid\":false,\"tickfont\":{\"color\":\"#4D5663\"},\"title\":{\"font\":{\"color\":\"#4D5663\"},\"text\":\"\"},\"zerolinecolor\":\"#E1E5ED\"},\"yaxis5\":{\"anchor\":\"x5\",\"domain\":[0.535,0.7325],\"gridcolor\":\"#E1E5ED\",\"showgrid\":false,\"tickfont\":{\"color\":\"#4D5663\"},\"title\":{\"font\":{\"color\":\"#4D5663\"},\"text\":\"\"},\"zerolinecolor\":\"#E1E5ED\"},\"yaxis6\":{\"anchor\":\"x6\",\"domain\":[0.535,0.7325],\"gridcolor\":\"#E1E5ED\",\"showgrid\":false,\"tickfont\":{\"color\":\"#4D5663\"},\"title\":{\"font\":{\"color\":\"#4D5663\"},\"text\":\"\"},\"zerolinecolor\":\"#E1E5ED\"},\"yaxis7\":{\"anchor\":\"x7\",\"domain\":[0.535,0.7325],\"gridcolor\":\"#E1E5ED\",\"showgrid\":false,\"tickfont\":{\"color\":\"#4D5663\"},\"title\":{\"font\":{\"color\":\"#4D5663\"},\"text\":\"\"},\"zerolinecolor\":\"#E1E5ED\"},\"yaxis8\":{\"anchor\":\"x8\",\"domain\":[0.535,0.7325],\"gridcolor\":\"#E1E5ED\",\"showgrid\":false,\"tickfont\":{\"color\":\"#4D5663\"},\"title\":{\"font\":{\"color\":\"#4D5663\"},\"text\":\"\"},\"zerolinecolor\":\"#E1E5ED\"},\"yaxis9\":{\"anchor\":\"x9\",\"domain\":[0.2675,0.465],\"gridcolor\":\"#E1E5ED\",\"showgrid\":false,\"tickfont\":{\"color\":\"#4D5663\"},\"title\":{\"font\":{\"color\":\"#4D5663\"},\"text\":\"\"},\"zerolinecolor\":\"#E1E5ED\"}},                        {\"showLink\": true, \"linkText\": \"Export to plot.ly\", \"plotlyServerURL\": \"https://plot.ly\", \"responsive\": true}                    ).then(function(){\n",
       "                            \n",
       "var gd = document.getElementById('b508dd8f-b522-475b-aacd-5324f45277fa');\n",
       "var x = new MutationObserver(function (mutations, observer) {{\n",
       "        var display = window.getComputedStyle(gd).display;\n",
       "        if (!display || display === 'none') {{\n",
       "            console.log([gd, 'removed!']);\n",
       "            Plotly.purge(gd);\n",
       "            observer.disconnect();\n",
       "        }}\n",
       "}});\n",
       "\n",
       "// Listen for the removal of the full notebook cells\n",
       "var notebookContainer = gd.closest('#notebook-container');\n",
       "if (notebookContainer) {{\n",
       "    x.observe(notebookContainer, {childList: true});\n",
       "}}\n",
       "\n",
       "// Listen for the clearing of the current output cell\n",
       "var outputEl = gd.closest('.output');\n",
       "if (outputEl) {{\n",
       "    x.observe(outputEl, {childList: true});\n",
       "}}\n",
       "\n",
       "                        })                };                });            </script>        </div>"
      ]
     },
     "metadata": {},
     "output_type": "display_data"
    }
   ],
   "source": [
    "df.scatter_matrix()#all columns should be numerical"
   ]
  },
  {
   "cell_type": "code",
   "execution_count": null,
   "id": "3d784be3",
   "metadata": {},
   "outputs": [],
   "source": []
  }
 ],
 "metadata": {
  "kernelspec": {
   "display_name": "Python 3",
   "language": "python",
   "name": "python3"
  },
  "language_info": {
   "codemirror_mode": {
    "name": "ipython",
    "version": 3
   },
   "file_extension": ".py",
   "mimetype": "text/x-python",
   "name": "python",
   "nbconvert_exporter": "python",
   "pygments_lexer": "ipython3",
   "version": "3.8.8"
  }
 },
 "nbformat": 4,
 "nbformat_minor": 5
}
